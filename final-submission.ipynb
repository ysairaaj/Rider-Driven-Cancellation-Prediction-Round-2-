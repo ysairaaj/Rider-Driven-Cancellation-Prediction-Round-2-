{
 "cells": [
  {
   "cell_type": "code",
   "execution_count": 1,
   "id": "aa05ba65",
   "metadata": {
    "_cell_guid": "b1076dfc-b9ad-4769-8c92-a6c4dae69d19",
    "_uuid": "8f2839f25d086af736a60e9eeb907d3b93b6e0e5",
    "execution": {
     "iopub.execute_input": "2022-02-10T05:58:31.422478Z",
     "iopub.status.busy": "2022-02-10T05:58:31.420630Z",
     "iopub.status.idle": "2022-02-10T05:58:31.438970Z",
     "shell.execute_reply": "2022-02-10T05:58:31.439525Z",
     "shell.execute_reply.started": "2022-02-10T05:57:56.498943Z"
    },
    "papermill": {
     "duration": 0.043802,
     "end_time": "2022-02-10T05:58:31.439860",
     "exception": false,
     "start_time": "2022-02-10T05:58:31.396058",
     "status": "completed"
    },
    "tags": []
   },
   "outputs": [
    {
     "name": "stdout",
     "output_type": "stream",
     "text": [
      "/kaggle/input/cascade-cup-22/sample_submission.csv\n",
      "/kaggle/input/cascade-cup-22/train.csv\n",
      "/kaggle/input/cascade-cup-22/test.csv\n"
     ]
    }
   ],
   "source": [
    "# This Python 3 environment comes with many helpful analytics libraries installed\n",
    "# It is defined by the kaggle/python Docker image: https://github.com/kaggle/docker-python\n",
    "# For example, here's several helpful packages to load\n",
    "\n",
    "import numpy as np # linear algebra\n",
    "import pandas as pd # data processing, CSV file I/O (e.g. pd.read_csv)\n",
    "\n",
    "# Input data files are available in the read-only \"../input/\" directory\n",
    "# For example, running this (by clicking run or pressing Shift+Enter) will list all files under the input directory\n",
    "\n",
    "import os\n",
    "for dirname, _, filenames in os.walk('/kaggle/input'):\n",
    "    for filename in filenames:\n",
    "        print(os.path.join(dirname, filename))\n",
    "\n",
    "# You can write up to 20GB to the current directory (/kaggle/working/) that gets preserved as output when you create a version using \"Save & Run All\" \n",
    "# You can also write temporary files to /kaggle/temp/, but they won't be saved outside of the current session"
   ]
  },
  {
   "cell_type": "code",
   "execution_count": 2,
   "id": "86e08c21",
   "metadata": {
    "execution": {
     "iopub.execute_input": "2022-02-10T05:58:31.484425Z",
     "iopub.status.busy": "2022-02-10T05:58:31.483776Z",
     "iopub.status.idle": "2022-02-10T05:58:32.729524Z",
     "shell.execute_reply": "2022-02-10T05:58:32.730043Z"
    },
    "papermill": {
     "duration": 1.268627,
     "end_time": "2022-02-10T05:58:32.730302",
     "exception": false,
     "start_time": "2022-02-10T05:58:31.461675",
     "status": "completed"
    },
    "tags": []
   },
   "outputs": [],
   "source": [
    "import pandas as pd\n",
    "import numpy as np\n",
    "import matplotlib.pyplot as plt\n",
    "import seaborn as sns\n",
    "from sklearn.preprocessing import StandardScaler\n",
    "\n",
    "VALID_TRAIN_SPLIT = 0.2\n",
    "TEST_SPLIT_RATIO  = 0.2\n",
    "SEED = 42"
   ]
  },
  {
   "cell_type": "code",
   "execution_count": 3,
   "id": "8675eac5",
   "metadata": {
    "execution": {
     "iopub.execute_input": "2022-02-10T05:58:32.772189Z",
     "iopub.status.busy": "2022-02-10T05:58:32.771480Z",
     "iopub.status.idle": "2022-02-10T05:58:36.508961Z",
     "shell.execute_reply": "2022-02-10T05:58:36.509751Z"
    },
    "papermill": {
     "duration": 3.760358,
     "end_time": "2022-02-10T05:58:36.509930",
     "exception": false,
     "start_time": "2022-02-10T05:58:32.749572",
     "status": "completed"
    },
    "tags": []
   },
   "outputs": [
    {
     "name": "stdout",
     "output_type": "stream",
     "text": [
      "DATA loaded ...\n",
      "Train Columns : 20   Rows : 450000\n",
      "Test Columns : 16   Rows : 144844\n"
     ]
    }
   ],
   "source": [
    "data_df = pd.read_csv('/kaggle/input/cascade-cup-22/train.csv')\n",
    "test_df = pd.read_csv('/kaggle/input/cascade-cup-22/test.csv')\n",
    "print('DATA loaded ...')\n",
    "print(f'Train Columns : {data_df.shape[1]}   Rows : {data_df.shape[0]}')\n",
    "print(f'Test Columns : {test_df.shape[1]}   Rows : {test_df.shape[0]}')\n"
   ]
  },
  {
   "cell_type": "code",
   "execution_count": 4,
   "id": "d140ef26",
   "metadata": {
    "execution": {
     "iopub.execute_input": "2022-02-10T05:58:36.565373Z",
     "iopub.status.busy": "2022-02-10T05:58:36.552123Z",
     "iopub.status.idle": "2022-02-10T05:58:36.568333Z",
     "shell.execute_reply": "2022-02-10T05:58:36.567817Z"
    },
    "papermill": {
     "duration": 0.039455,
     "end_time": "2022-02-10T05:58:36.568484",
     "exception": false,
     "start_time": "2022-02-10T05:58:36.529029",
     "status": "completed"
    },
    "tags": []
   },
   "outputs": [],
   "source": [
    "def reduce_mem_usage(df):\n",
    "    \"\"\" iterate through all the columns of a dataframe and modify the data type\n",
    "        to reduce memory usage.\n",
    "    \"\"\"\n",
    "    start_mem = df.memory_usage().sum() / 1024**2\n",
    "    print('Memory usage of dataframe is {:.2f} MB'.format(start_mem))\n",
    "\n",
    "    for col in df.columns:\n",
    "        col_type = df[col].dtype.name\n",
    "        \n",
    "        if col_type not in ['object', 'category', 'datetime64[ns, UTC]', 'datetime64[ns]']:\n",
    "            c_min = df[col].min()\n",
    "            c_max = df[col].max()\n",
    "            if str(col_type)[:3] == 'int':\n",
    "                if c_min > np.iinfo(np.int8).min and c_max < np.iinfo(np.int8).max:\n",
    "                    df[col] = df[col].astype(np.int16)\n",
    "                elif c_min > np.iinfo(np.int16).min and c_max < np.iinfo(np.int16).max:\n",
    "                    df[col] = df[col].astype(np.int16)\n",
    "                elif c_min > np.iinfo(np.int32).min and c_max < np.iinfo(np.int32).max:\n",
    "                    df[col] = df[col].astype(np.int32)\n",
    "                elif c_min > np.iinfo(np.int64).min and c_max < np.iinfo(np.int64).max:\n",
    "                    df[col] = df[col].astype(np.int64)  \n",
    "            else:\n",
    "                if c_min > np.finfo(np.float16).min and c_max < np.finfo(np.float16).max:\n",
    "                    df[col] = df[col].astype(np.float16)\n",
    "                elif c_min > np.finfo(np.float32).min and c_max < np.finfo(np.float32).max:\n",
    "                    df[col] = df[col].astype(np.float32)\n",
    "                else:\n",
    "                    df[col] = df[col].astype(np.float64)\n",
    "\n",
    "    end_mem = df.memory_usage().sum() / 1024**2\n",
    "    print('Memory usage after optimization is: {:.2f} MB'.format(end_mem))\n",
    "    print('Decreased by {:.1f}%'.format(100 * (start_mem - end_mem) / start_mem))\n",
    "\n",
    "    return df"
   ]
  },
  {
   "cell_type": "code",
   "execution_count": 5,
   "id": "e8284f90",
   "metadata": {
    "execution": {
     "iopub.execute_input": "2022-02-10T05:58:36.618955Z",
     "iopub.status.busy": "2022-02-10T05:58:36.618008Z",
     "iopub.status.idle": "2022-02-10T05:58:36.732623Z",
     "shell.execute_reply": "2022-02-10T05:58:36.731816Z"
    },
    "papermill": {
     "duration": 0.145197,
     "end_time": "2022-02-10T05:58:36.732828",
     "exception": false,
     "start_time": "2022-02-10T05:58:36.587631",
     "status": "completed"
    },
    "tags": []
   },
   "outputs": [
    {
     "name": "stdout",
     "output_type": "stream",
     "text": [
      "Memory usage of dataframe is 68.66 MB\n",
      "Memory usage after optimization is: 41.20 MB\n",
      "Decreased by 40.0%\n",
      "Memory usage of dataframe is 17.68 MB\n",
      "Memory usage after optimization is: 9.67 MB\n",
      "Decreased by 45.3%\n"
     ]
    }
   ],
   "source": [
    "data_df = reduce_mem_usage(data_df)\n",
    "test_df = reduce_mem_usage(test_df)"
   ]
  },
  {
   "cell_type": "code",
   "execution_count": 6,
   "id": "4e8c4f90",
   "metadata": {
    "execution": {
     "iopub.execute_input": "2022-02-10T05:58:36.778712Z",
     "iopub.status.busy": "2022-02-10T05:58:36.778050Z",
     "iopub.status.idle": "2022-02-10T05:58:37.180143Z",
     "shell.execute_reply": "2022-02-10T05:58:37.181204Z"
    },
    "papermill": {
     "duration": 0.426688,
     "end_time": "2022-02-10T05:58:37.181464",
     "exception": false,
     "start_time": "2022-02-10T05:58:36.754776",
     "status": "completed"
    },
    "tags": []
   },
   "outputs": [
    {
     "name": "stdout",
     "output_type": "stream",
     "text": [
      "<class 'pandas.core.frame.DataFrame'>\n",
      "RangeIndex: 450000 entries, 0 to 449999\n",
      "Data columns (total 20 columns):\n",
      " #   Column                Non-Null Count   Dtype  \n",
      "---  ------                --------------   -----  \n",
      " 0   order_time            450000 non-null  object \n",
      " 1   order_id              450000 non-null  int32  \n",
      " 2   order_date            450000 non-null  object \n",
      " 3   allot_time            450000 non-null  object \n",
      " 4   accept_time           449843 non-null  object \n",
      " 5   pickup_time           447579 non-null  object \n",
      " 6   delivered_time        444782 non-null  object \n",
      " 7   rider_id              450000 non-null  int16  \n",
      " 8   first_mile_distance   450000 non-null  float16\n",
      " 9   last_mile_distance    450000 non-null  float16\n",
      " 10  alloted_orders        433052 non-null  float16\n",
      " 11  delivered_orders      432659 non-null  float16\n",
      " 12  cancelled             450000 non-null  int16  \n",
      " 13  undelivered_orders    432659 non-null  float16\n",
      " 14  lifetime_order_count  449947 non-null  float16\n",
      " 15  reassignment_method   13744 non-null   object \n",
      " 16  reassignment_reason   13753 non-null   object \n",
      " 17  reassigned_order      13753 non-null   float16\n",
      " 18  session_time          446325 non-null  float16\n",
      " 19  cancelled_time        5218 non-null    object \n",
      "dtypes: float16(8), int16(2), int32(1), object(9)\n",
      "memory usage: 41.2+ MB\n"
     ]
    }
   ],
   "source": [
    "data_df.info()"
   ]
  },
  {
   "cell_type": "code",
   "execution_count": 7,
   "id": "b0d21e1a",
   "metadata": {
    "execution": {
     "iopub.execute_input": "2022-02-10T05:58:37.306309Z",
     "iopub.status.busy": "2022-02-10T05:58:37.305265Z",
     "iopub.status.idle": "2022-02-10T05:58:37.327815Z",
     "shell.execute_reply": "2022-02-10T05:58:37.326833Z"
    },
    "papermill": {
     "duration": 0.124729,
     "end_time": "2022-02-10T05:58:37.328032",
     "exception": false,
     "start_time": "2022-02-10T05:58:37.203303",
     "status": "completed"
    },
    "tags": []
   },
   "outputs": [
    {
     "name": "stdout",
     "output_type": "stream",
     "text": [
      "<class 'pandas.core.frame.DataFrame'>\n",
      "RangeIndex: 144844 entries, 0 to 144843\n",
      "Data columns (total 16 columns):\n",
      " #   Column                Non-Null Count   Dtype  \n",
      "---  ------                --------------   -----  \n",
      " 0   order_time            144844 non-null  object \n",
      " 1   order_id              144844 non-null  int32  \n",
      " 2   order_date            144844 non-null  object \n",
      " 3   allot_time            144844 non-null  object \n",
      " 4   accept_time           144776 non-null  object \n",
      " 5   rider_id              144844 non-null  int16  \n",
      " 6   first_mile_distance   144844 non-null  float16\n",
      " 7   last_mile_distance    144844 non-null  float16\n",
      " 8   alloted_orders        140071 non-null  float16\n",
      " 9   delivered_orders      139960 non-null  float16\n",
      " 10  undelivered_orders    139960 non-null  float16\n",
      " 11  lifetime_order_count  144066 non-null  float16\n",
      " 12  reassignment_method   4632 non-null    object \n",
      " 13  reassignment_reason   4635 non-null    object \n",
      " 14  reassigned_order      4635 non-null    float16\n",
      " 15  session_time          139790 non-null  float16\n",
      "dtypes: float16(8), int16(1), int32(1), object(6)\n",
      "memory usage: 9.7+ MB\n"
     ]
    }
   ],
   "source": [
    "test_df.info()"
   ]
  },
  {
   "cell_type": "code",
   "execution_count": 8,
   "id": "b2060bd1",
   "metadata": {
    "execution": {
     "iopub.execute_input": "2022-02-10T05:58:37.376739Z",
     "iopub.status.busy": "2022-02-10T05:58:37.375699Z",
     "iopub.status.idle": "2022-02-10T05:58:37.400989Z",
     "shell.execute_reply": "2022-02-10T05:58:37.401491Z"
    },
    "papermill": {
     "duration": 0.051648,
     "end_time": "2022-02-10T05:58:37.401700",
     "exception": false,
     "start_time": "2022-02-10T05:58:37.350052",
     "status": "completed"
    },
    "tags": []
   },
   "outputs": [],
   "source": [
    "def get_features(df ,test = False ,normalize = False):\n",
    "    if test :\n",
    "        df = df[['order_time','order_id','allot_time','accept_time','first_mile_distance', 'last_mile_distance','alloted_orders', 'delivered_orders', 'undelivered_orders','lifetime_order_count' ,'session_time' ,'reassigned_order']]\n",
    "    else:    \n",
    "        df = df[['order_time','allot_time','accept_time','first_mile_distance', 'last_mile_distance','alloted_orders', 'delivered_orders', 'undelivered_orders','lifetime_order_count' , 'session_time','reassigned_order']]\n",
    "    days = ['Monday' , 'Saturday' , 'Sunday' , 'Thursday' , 'Tuesday', 'Wednesday' ,'Friday']\n",
    "    for i in df.columns[5:]:\n",
    "        #print(i)\n",
    "        #print(df[[i]][~np.isnan(df[i])][i].quantile(0.5))\n",
    "        if i == 'reassigned_order':\n",
    "            df[[i]] = df[[i]].fillna(0)\n",
    "            continue\n",
    "        df[[i]] = df[[i]].fillna(df[[i]][~np.isnan(df[i])][i].quantile(0.5) )\n",
    "    ## Processing Date \n",
    "    df.order_time = pd.to_datetime(df.order_time ,yearfirst =True)\n",
    "    df.allot_time = pd.to_datetime(df.allot_time ,yearfirst =True)\n",
    "    df.accept_time = pd.to_datetime(df.accept_time ,yearfirst =True)\n",
    "    df['elapse1'] = (df.allot_time - df.order_time).dt.total_seconds()\n",
    "    df['elapse2'] = (df.accept_time - df.allot_time).dt.total_seconds()\n",
    "    df['elapse3'] = df['elapse1'] + df['elapse2']\n",
    "    df[['elapse1']] = df[['elapse1']].fillna(df[['elapse1']][~np.isnan(df['elapse1'])]['elapse1'].quantile(0.5) )\n",
    "    df[['elapse2']] = df[['elapse2']].fillna(df[['elapse2']][~np.isnan(df['elapse2'])]['elapse2'].quantile(0.5) )\n",
    "    df[['elapse3']] = df[['elapse3']].fillna(df[['elapse3']][~np.isnan(df['elapse3'])]['elapse3'].quantile(0.5) )\n",
    "    df['elapse4'] = df['elapse2']/df['elapse1']\n",
    "    df['tot_dist'] = df['first_mile_distance'] + df['last_mile_distance']\n",
    "    df['del_ratio'] = df['delivered_orders']/df['alloted_orders']\n",
    "    df['undel_ratio'] = 1 - df['del_ratio']\n",
    "    df['order_ratio'] = df['alloted_orders']/df['lifetime_order_count']\n",
    "    df['diff_dist'] = df['first_mile_distance'] - df['last_mile_distance']\n",
    "    df['dist_ratio'] = df['first_mile_distance']/df['last_mile_distance']\n",
    "    #df[['dist_ratio']] = df[['dist_ratio']].astype(np.float16)\n",
    "    df['dist_ratio_2'] = df['last_mile_distance']/df['first_mile_distance']\n",
    "    df['Day_of_the_week'] = df.order_time.dt.day_name()\n",
    "    df['Hour'] = df.order_time.dt.hour\n",
    "    df['Month'] = df.order_time.dt.month\n",
    "    df.drop(columns = ['order_time'] ,inplace =True)\n",
    "    df = pd.concat([df,pd.get_dummies(df['Day_of_the_week']).astype(int)] ,axis = 1)\n",
    "    df.drop(columns = [ 'Day_of_the_week' ,'allot_time' , 'accept_time'] ,inplace = True) #'Day_of_the_week' ,\n",
    "    for i in days:\n",
    "        if i not in df.columns:\n",
    "            df[i] = 0\n",
    "    if normalize:\n",
    "        df[['first_mile_distance','elapse1','elapse2', 'last_mile_distance','tot_dist','alloted_orders', 'delivered_orders','del_ratio','undelivered_orders','lifetime_order_count','Hour','session_time','dist_ratio']] = StandardScaler().fit_transform(df[['first_mile_distance','elapse1','elapse2', 'last_mile_distance','tot_dist','alloted_orders', 'delivered_orders','del_ratio','undelivered_orders','lifetime_order_count','Hour','session_time','dist_ratio']])\n",
    "    if test:        \n",
    "        df = df[['order_id','first_mile_distance','elapse1','elapse2', 'last_mile_distance','tot_dist','alloted_orders', 'delivered_orders','del_ratio','undelivered_orders','lifetime_order_count','Hour','session_time','Monday' , 'Saturday' , 'Sunday' , 'Thursday' , 'Tuesday', 'Wednesday','dist_ratio']]   #'Monday' , 'Saturday' , 'Sunday' , 'Thursday' , 'Tuesday', 'Wednesday'\n",
    "    else:\n",
    "        df = df[['first_mile_distance','elapse1','elapse2', 'last_mile_distance','tot_dist','alloted_orders', 'delivered_orders','del_ratio','undelivered_orders','lifetime_order_count','Hour','session_time','Monday' , 'Saturday' , 'Sunday' , 'Thursday' , 'Tuesday', 'Wednesday','dist_ratio']] #'undelivered_orders'  #,'del_ratio'  #,'order_ratio' #,'order_ratio' #,'diff_dist' #,'reassigned_order'#,'dist_ratio_2'#,'Hour'#,'Month'#,'tot_dist'\n",
    "    df = reduce_mem_usage(df)\n",
    "    return df"
   ]
  },
  {
   "cell_type": "code",
   "execution_count": 9,
   "id": "d3f21e47",
   "metadata": {
    "execution": {
     "iopub.execute_input": "2022-02-10T05:58:37.448774Z",
     "iopub.status.busy": "2022-02-10T05:58:37.447832Z",
     "iopub.status.idle": "2022-02-10T05:58:39.566491Z",
     "shell.execute_reply": "2022-02-10T05:58:39.565779Z"
    },
    "papermill": {
     "duration": 2.143713,
     "end_time": "2022-02-10T05:58:39.566651",
     "exception": false,
     "start_time": "2022-02-10T05:58:37.422938",
     "status": "completed"
    },
    "tags": []
   },
   "outputs": [
    {
     "name": "stderr",
     "output_type": "stream",
     "text": [
      "/opt/conda/lib/python3.7/site-packages/pandas/core/frame.py:3641: SettingWithCopyWarning: \n",
      "A value is trying to be set on a copy of a slice from a DataFrame.\n",
      "Try using .loc[row_indexer,col_indexer] = value instead\n",
      "\n",
      "See the caveats in the documentation: https://pandas.pydata.org/pandas-docs/stable/user_guide/indexing.html#returning-a-view-versus-a-copy\n",
      "  self[k1] = value[k2]\n",
      "/opt/conda/lib/python3.7/site-packages/pandas/core/generic.py:5516: SettingWithCopyWarning: \n",
      "A value is trying to be set on a copy of a slice from a DataFrame.\n",
      "Try using .loc[row_indexer,col_indexer] = value instead\n",
      "\n",
      "See the caveats in the documentation: https://pandas.pydata.org/pandas-docs/stable/user_guide/indexing.html#returning-a-view-versus-a-copy\n",
      "  self[name] = value\n",
      "/opt/conda/lib/python3.7/site-packages/ipykernel_launcher.py:18: SettingWithCopyWarning: \n",
      "A value is trying to be set on a copy of a slice from a DataFrame.\n",
      "Try using .loc[row_indexer,col_indexer] = value instead\n",
      "\n",
      "See the caveats in the documentation: https://pandas.pydata.org/pandas-docs/stable/user_guide/indexing.html#returning-a-view-versus-a-copy\n",
      "/opt/conda/lib/python3.7/site-packages/ipykernel_launcher.py:19: SettingWithCopyWarning: \n",
      "A value is trying to be set on a copy of a slice from a DataFrame.\n",
      "Try using .loc[row_indexer,col_indexer] = value instead\n",
      "\n",
      "See the caveats in the documentation: https://pandas.pydata.org/pandas-docs/stable/user_guide/indexing.html#returning-a-view-versus-a-copy\n",
      "/opt/conda/lib/python3.7/site-packages/ipykernel_launcher.py:20: SettingWithCopyWarning: \n",
      "A value is trying to be set on a copy of a slice from a DataFrame.\n",
      "Try using .loc[row_indexer,col_indexer] = value instead\n",
      "\n",
      "See the caveats in the documentation: https://pandas.pydata.org/pandas-docs/stable/user_guide/indexing.html#returning-a-view-versus-a-copy\n",
      "/opt/conda/lib/python3.7/site-packages/ipykernel_launcher.py:24: SettingWithCopyWarning: \n",
      "A value is trying to be set on a copy of a slice from a DataFrame.\n",
      "Try using .loc[row_indexer,col_indexer] = value instead\n",
      "\n",
      "See the caveats in the documentation: https://pandas.pydata.org/pandas-docs/stable/user_guide/indexing.html#returning-a-view-versus-a-copy\n",
      "/opt/conda/lib/python3.7/site-packages/ipykernel_launcher.py:25: SettingWithCopyWarning: \n",
      "A value is trying to be set on a copy of a slice from a DataFrame.\n",
      "Try using .loc[row_indexer,col_indexer] = value instead\n",
      "\n",
      "See the caveats in the documentation: https://pandas.pydata.org/pandas-docs/stable/user_guide/indexing.html#returning-a-view-versus-a-copy\n",
      "/opt/conda/lib/python3.7/site-packages/ipykernel_launcher.py:26: SettingWithCopyWarning: \n",
      "A value is trying to be set on a copy of a slice from a DataFrame.\n",
      "Try using .loc[row_indexer,col_indexer] = value instead\n",
      "\n",
      "See the caveats in the documentation: https://pandas.pydata.org/pandas-docs/stable/user_guide/indexing.html#returning-a-view-versus-a-copy\n",
      "/opt/conda/lib/python3.7/site-packages/ipykernel_launcher.py:27: SettingWithCopyWarning: \n",
      "A value is trying to be set on a copy of a slice from a DataFrame.\n",
      "Try using .loc[row_indexer,col_indexer] = value instead\n",
      "\n",
      "See the caveats in the documentation: https://pandas.pydata.org/pandas-docs/stable/user_guide/indexing.html#returning-a-view-versus-a-copy\n",
      "/opt/conda/lib/python3.7/site-packages/ipykernel_launcher.py:28: SettingWithCopyWarning: \n",
      "A value is trying to be set on a copy of a slice from a DataFrame.\n",
      "Try using .loc[row_indexer,col_indexer] = value instead\n",
      "\n",
      "See the caveats in the documentation: https://pandas.pydata.org/pandas-docs/stable/user_guide/indexing.html#returning-a-view-versus-a-copy\n"
     ]
    },
    {
     "name": "stdout",
     "output_type": "stream",
     "text": [
      "Memory usage of dataframe is 39.48 MB\n",
      "Memory usage after optimization is: 18.88 MB\n",
      "Decreased by 52.2%\n"
     ]
    },
    {
     "name": "stderr",
     "output_type": "stream",
     "text": [
      "/opt/conda/lib/python3.7/site-packages/pandas/core/frame.py:3641: SettingWithCopyWarning: \n",
      "A value is trying to be set on a copy of a slice from a DataFrame.\n",
      "Try using .loc[row_indexer,col_indexer] = value instead\n",
      "\n",
      "See the caveats in the documentation: https://pandas.pydata.org/pandas-docs/stable/user_guide/indexing.html#returning-a-view-versus-a-copy\n",
      "  self[k1] = value[k2]\n",
      "/opt/conda/lib/python3.7/site-packages/pandas/core/generic.py:5516: SettingWithCopyWarning: \n",
      "A value is trying to be set on a copy of a slice from a DataFrame.\n",
      "Try using .loc[row_indexer,col_indexer] = value instead\n",
      "\n",
      "See the caveats in the documentation: https://pandas.pydata.org/pandas-docs/stable/user_guide/indexing.html#returning-a-view-versus-a-copy\n",
      "  self[name] = value\n",
      "/opt/conda/lib/python3.7/site-packages/ipykernel_launcher.py:18: SettingWithCopyWarning: \n",
      "A value is trying to be set on a copy of a slice from a DataFrame.\n",
      "Try using .loc[row_indexer,col_indexer] = value instead\n",
      "\n",
      "See the caveats in the documentation: https://pandas.pydata.org/pandas-docs/stable/user_guide/indexing.html#returning-a-view-versus-a-copy\n",
      "/opt/conda/lib/python3.7/site-packages/ipykernel_launcher.py:19: SettingWithCopyWarning: \n",
      "A value is trying to be set on a copy of a slice from a DataFrame.\n",
      "Try using .loc[row_indexer,col_indexer] = value instead\n",
      "\n",
      "See the caveats in the documentation: https://pandas.pydata.org/pandas-docs/stable/user_guide/indexing.html#returning-a-view-versus-a-copy\n",
      "/opt/conda/lib/python3.7/site-packages/ipykernel_launcher.py:20: SettingWithCopyWarning: \n",
      "A value is trying to be set on a copy of a slice from a DataFrame.\n",
      "Try using .loc[row_indexer,col_indexer] = value instead\n",
      "\n",
      "See the caveats in the documentation: https://pandas.pydata.org/pandas-docs/stable/user_guide/indexing.html#returning-a-view-versus-a-copy\n"
     ]
    },
    {
     "name": "stdout",
     "output_type": "stream",
     "text": [
      "Memory usage of dataframe is 13.26 MB\n",
      "Memory usage after optimization is: 6.63 MB\n",
      "Decreased by 50.0%\n"
     ]
    }
   ],
   "source": [
    "X ,y = get_features(data_df) , data_df[['cancelled']]\n",
    "test_df = get_features(test_df ,test =True)"
   ]
  },
  {
   "cell_type": "code",
   "execution_count": 10,
   "id": "a82961d8",
   "metadata": {
    "execution": {
     "iopub.execute_input": "2022-02-10T05:58:39.622699Z",
     "iopub.status.busy": "2022-02-10T05:58:39.621886Z",
     "iopub.status.idle": "2022-02-10T05:58:39.625697Z",
     "shell.execute_reply": "2022-02-10T05:58:39.626184Z"
    },
    "papermill": {
     "duration": 0.03636,
     "end_time": "2022-02-10T05:58:39.626380",
     "exception": false,
     "start_time": "2022-02-10T05:58:39.590020",
     "status": "completed"
    },
    "tags": []
   },
   "outputs": [
    {
     "data": {
      "text/plain": [
       "((450000, 19), (450000, 1), (144844, 20))"
      ]
     },
     "execution_count": 10,
     "metadata": {},
     "output_type": "execute_result"
    }
   ],
   "source": [
    "X.shape ,y.shape ,test_df.shape"
   ]
  },
  {
   "cell_type": "code",
   "execution_count": 11,
   "id": "5ac70090",
   "metadata": {
    "execution": {
     "iopub.execute_input": "2022-02-10T05:58:39.681142Z",
     "iopub.status.busy": "2022-02-10T05:58:39.680128Z",
     "iopub.status.idle": "2022-02-10T05:58:39.723685Z",
     "shell.execute_reply": "2022-02-10T05:58:39.724199Z"
    },
    "papermill": {
     "duration": 0.073878,
     "end_time": "2022-02-10T05:58:39.724424",
     "exception": false,
     "start_time": "2022-02-10T05:58:39.650546",
     "status": "completed"
    },
    "tags": []
   },
   "outputs": [
    {
     "name": "stdout",
     "output_type": "stream",
     "text": [
      "<class 'pandas.core.frame.DataFrame'>\n",
      "RangeIndex: 450000 entries, 0 to 449999\n",
      "Data columns (total 19 columns):\n",
      " #   Column                Non-Null Count   Dtype  \n",
      "---  ------                --------------   -----  \n",
      " 0   first_mile_distance   450000 non-null  float16\n",
      " 1   elapse1               450000 non-null  float16\n",
      " 2   elapse2               450000 non-null  float16\n",
      " 3   last_mile_distance    450000 non-null  float16\n",
      " 4   tot_dist              450000 non-null  float16\n",
      " 5   alloted_orders        450000 non-null  float16\n",
      " 6   delivered_orders      450000 non-null  float16\n",
      " 7   del_ratio             450000 non-null  float16\n",
      " 8   undelivered_orders    450000 non-null  float16\n",
      " 9   lifetime_order_count  450000 non-null  float16\n",
      " 10  Hour                  450000 non-null  int16  \n",
      " 11  session_time          450000 non-null  float16\n",
      " 12  Monday                450000 non-null  int16  \n",
      " 13  Saturday              450000 non-null  int16  \n",
      " 14  Sunday                450000 non-null  int16  \n",
      " 15  Thursday              450000 non-null  int16  \n",
      " 16  Tuesday               450000 non-null  int16  \n",
      " 17  Wednesday             450000 non-null  int16  \n",
      " 18  dist_ratio            450000 non-null  float64\n",
      "dtypes: float16(11), float64(1), int16(7)\n",
      "memory usage: 18.9 MB\n"
     ]
    }
   ],
   "source": [
    "X.info()"
   ]
  },
  {
   "cell_type": "code",
   "execution_count": 12,
   "id": "525be5dc",
   "metadata": {
    "execution": {
     "iopub.execute_input": "2022-02-10T05:58:39.776964Z",
     "iopub.status.busy": "2022-02-10T05:58:39.776305Z",
     "iopub.status.idle": "2022-02-10T05:58:39.788906Z",
     "shell.execute_reply": "2022-02-10T05:58:39.789772Z"
    },
    "papermill": {
     "duration": 0.041036,
     "end_time": "2022-02-10T05:58:39.790021",
     "exception": false,
     "start_time": "2022-02-10T05:58:39.748985",
     "status": "completed"
    },
    "tags": []
   },
   "outputs": [
    {
     "name": "stdout",
     "output_type": "stream",
     "text": [
      "<class 'pandas.core.frame.DataFrame'>\n",
      "RangeIndex: 450000 entries, 0 to 449999\n",
      "Data columns (total 1 columns):\n",
      " #   Column     Non-Null Count   Dtype\n",
      "---  ------     --------------   -----\n",
      " 0   cancelled  450000 non-null  int16\n",
      "dtypes: int16(1)\n",
      "memory usage: 879.0 KB\n"
     ]
    }
   ],
   "source": [
    "y.info()"
   ]
  },
  {
   "cell_type": "code",
   "execution_count": 13,
   "id": "17f3c90f",
   "metadata": {
    "execution": {
     "iopub.execute_input": "2022-02-10T05:58:39.845945Z",
     "iopub.status.busy": "2022-02-10T05:58:39.844939Z",
     "iopub.status.idle": "2022-02-10T05:58:39.870882Z",
     "shell.execute_reply": "2022-02-10T05:58:39.871579Z"
    },
    "papermill": {
     "duration": 0.055536,
     "end_time": "2022-02-10T05:58:39.871770",
     "exception": false,
     "start_time": "2022-02-10T05:58:39.816234",
     "status": "completed"
    },
    "tags": []
   },
   "outputs": [
    {
     "name": "stdout",
     "output_type": "stream",
     "text": [
      "<class 'pandas.core.frame.DataFrame'>\n",
      "RangeIndex: 144844 entries, 0 to 144843\n",
      "Data columns (total 20 columns):\n",
      " #   Column                Non-Null Count   Dtype  \n",
      "---  ------                --------------   -----  \n",
      " 0   order_id              144844 non-null  int32  \n",
      " 1   first_mile_distance   144844 non-null  float16\n",
      " 2   elapse1               144844 non-null  float16\n",
      " 3   elapse2               144844 non-null  float16\n",
      " 4   last_mile_distance    144844 non-null  float16\n",
      " 5   tot_dist              144844 non-null  float16\n",
      " 6   alloted_orders        144844 non-null  float16\n",
      " 7   delivered_orders      144844 non-null  float16\n",
      " 8   del_ratio             144844 non-null  float16\n",
      " 9   undelivered_orders    144844 non-null  float16\n",
      " 10  lifetime_order_count  144844 non-null  float16\n",
      " 11  Hour                  144844 non-null  int16  \n",
      " 12  session_time          144844 non-null  float16\n",
      " 13  Monday                144844 non-null  int16  \n",
      " 14  Saturday              144844 non-null  int16  \n",
      " 15  Sunday                144844 non-null  int16  \n",
      " 16  Thursday              144844 non-null  int16  \n",
      " 17  Tuesday               144844 non-null  int16  \n",
      " 18  Wednesday             144844 non-null  int16  \n",
      " 19  dist_ratio            144844 non-null  float64\n",
      "dtypes: float16(11), float64(1), int16(7), int32(1)\n",
      "memory usage: 6.6 MB\n"
     ]
    }
   ],
   "source": [
    "test_df.info()"
   ]
  },
  {
   "cell_type": "code",
   "execution_count": 14,
   "id": "80d5df8a",
   "metadata": {
    "execution": {
     "iopub.execute_input": "2022-02-10T05:58:39.928197Z",
     "iopub.status.busy": "2022-02-10T05:58:39.927558Z",
     "iopub.status.idle": "2022-02-10T05:58:39.960871Z",
     "shell.execute_reply": "2022-02-10T05:58:39.960338Z"
    },
    "papermill": {
     "duration": 0.062789,
     "end_time": "2022-02-10T05:58:39.961025",
     "exception": false,
     "start_time": "2022-02-10T05:58:39.898236",
     "status": "completed"
    },
    "tags": []
   },
   "outputs": [
    {
     "data": {
      "text/html": [
       "<div>\n",
       "<style scoped>\n",
       "    .dataframe tbody tr th:only-of-type {\n",
       "        vertical-align: middle;\n",
       "    }\n",
       "\n",
       "    .dataframe tbody tr th {\n",
       "        vertical-align: top;\n",
       "    }\n",
       "\n",
       "    .dataframe thead th {\n",
       "        text-align: right;\n",
       "    }\n",
       "</style>\n",
       "<table border=\"1\" class=\"dataframe\">\n",
       "  <thead>\n",
       "    <tr style=\"text-align: right;\">\n",
       "      <th></th>\n",
       "      <th>first_mile_distance</th>\n",
       "      <th>elapse1</th>\n",
       "      <th>elapse2</th>\n",
       "      <th>last_mile_distance</th>\n",
       "      <th>tot_dist</th>\n",
       "      <th>alloted_orders</th>\n",
       "      <th>delivered_orders</th>\n",
       "      <th>del_ratio</th>\n",
       "      <th>undelivered_orders</th>\n",
       "      <th>lifetime_order_count</th>\n",
       "      <th>Hour</th>\n",
       "      <th>session_time</th>\n",
       "      <th>Monday</th>\n",
       "      <th>Saturday</th>\n",
       "      <th>Sunday</th>\n",
       "      <th>Thursday</th>\n",
       "      <th>Tuesday</th>\n",
       "      <th>Wednesday</th>\n",
       "      <th>dist_ratio</th>\n",
       "    </tr>\n",
       "  </thead>\n",
       "  <tbody>\n",
       "    <tr>\n",
       "      <th>0</th>\n",
       "      <td>1.566406</td>\n",
       "      <td>24.0</td>\n",
       "      <td>9.0</td>\n",
       "      <td>2.650391</td>\n",
       "      <td>4.218750</td>\n",
       "      <td>46.0</td>\n",
       "      <td>46.0</td>\n",
       "      <td>1.000000</td>\n",
       "      <td>0.0</td>\n",
       "      <td>621.0</td>\n",
       "      <td>2</td>\n",
       "      <td>175.500000</td>\n",
       "      <td>0</td>\n",
       "      <td>0</td>\n",
       "      <td>0</td>\n",
       "      <td>0</td>\n",
       "      <td>1</td>\n",
       "      <td>0</td>\n",
       "      <td>0.590820</td>\n",
       "    </tr>\n",
       "    <tr>\n",
       "      <th>1</th>\n",
       "      <td>2.521484</td>\n",
       "      <td>41.0</td>\n",
       "      <td>48.0</td>\n",
       "      <td>2.759766</td>\n",
       "      <td>5.281250</td>\n",
       "      <td>8.0</td>\n",
       "      <td>8.0</td>\n",
       "      <td>1.000000</td>\n",
       "      <td>0.0</td>\n",
       "      <td>105.0</td>\n",
       "      <td>2</td>\n",
       "      <td>3.267578</td>\n",
       "      <td>0</td>\n",
       "      <td>0</td>\n",
       "      <td>0</td>\n",
       "      <td>0</td>\n",
       "      <td>1</td>\n",
       "      <td>0</td>\n",
       "      <td>0.913574</td>\n",
       "    </tr>\n",
       "    <tr>\n",
       "      <th>2</th>\n",
       "      <td>2.207031</td>\n",
       "      <td>8.0</td>\n",
       "      <td>16.0</td>\n",
       "      <td>4.800781</td>\n",
       "      <td>7.007812</td>\n",
       "      <td>1.0</td>\n",
       "      <td>1.0</td>\n",
       "      <td>1.000000</td>\n",
       "      <td>0.0</td>\n",
       "      <td>66.0</td>\n",
       "      <td>2</td>\n",
       "      <td>9.820312</td>\n",
       "      <td>0</td>\n",
       "      <td>0</td>\n",
       "      <td>0</td>\n",
       "      <td>0</td>\n",
       "      <td>1</td>\n",
       "      <td>0</td>\n",
       "      <td>0.459717</td>\n",
       "    </tr>\n",
       "    <tr>\n",
       "      <th>3</th>\n",
       "      <td>2.189453</td>\n",
       "      <td>32.0</td>\n",
       "      <td>41.0</td>\n",
       "      <td>6.378906</td>\n",
       "      <td>8.570312</td>\n",
       "      <td>1.0</td>\n",
       "      <td>1.0</td>\n",
       "      <td>1.000000</td>\n",
       "      <td>0.0</td>\n",
       "      <td>127.0</td>\n",
       "      <td>2</td>\n",
       "      <td>17.531250</td>\n",
       "      <td>0</td>\n",
       "      <td>0</td>\n",
       "      <td>0</td>\n",
       "      <td>0</td>\n",
       "      <td>1</td>\n",
       "      <td>0</td>\n",
       "      <td>0.343262</td>\n",
       "    </tr>\n",
       "    <tr>\n",
       "      <th>4</th>\n",
       "      <td>2.787109</td>\n",
       "      <td>51.0</td>\n",
       "      <td>36.0</td>\n",
       "      <td>4.011719</td>\n",
       "      <td>6.796875</td>\n",
       "      <td>34.0</td>\n",
       "      <td>34.0</td>\n",
       "      <td>1.000000</td>\n",
       "      <td>0.0</td>\n",
       "      <td>84.0</td>\n",
       "      <td>3</td>\n",
       "      <td>1.349609</td>\n",
       "      <td>0</td>\n",
       "      <td>0</td>\n",
       "      <td>0</td>\n",
       "      <td>0</td>\n",
       "      <td>1</td>\n",
       "      <td>0</td>\n",
       "      <td>0.694824</td>\n",
       "    </tr>\n",
       "    <tr>\n",
       "      <th>5</th>\n",
       "      <td>2.482422</td>\n",
       "      <td>298.0</td>\n",
       "      <td>13.0</td>\n",
       "      <td>5.179688</td>\n",
       "      <td>7.664062</td>\n",
       "      <td>296.0</td>\n",
       "      <td>294.0</td>\n",
       "      <td>0.993164</td>\n",
       "      <td>2.0</td>\n",
       "      <td>1506.0</td>\n",
       "      <td>3</td>\n",
       "      <td>175.500000</td>\n",
       "      <td>0</td>\n",
       "      <td>0</td>\n",
       "      <td>0</td>\n",
       "      <td>0</td>\n",
       "      <td>1</td>\n",
       "      <td>0</td>\n",
       "      <td>0.479248</td>\n",
       "    </tr>\n",
       "    <tr>\n",
       "      <th>6</th>\n",
       "      <td>2.808594</td>\n",
       "      <td>28.0</td>\n",
       "      <td>47.0</td>\n",
       "      <td>3.400391</td>\n",
       "      <td>6.210938</td>\n",
       "      <td>45.0</td>\n",
       "      <td>45.0</td>\n",
       "      <td>1.000000</td>\n",
       "      <td>0.0</td>\n",
       "      <td>1460.0</td>\n",
       "      <td>3</td>\n",
       "      <td>175.500000</td>\n",
       "      <td>0</td>\n",
       "      <td>0</td>\n",
       "      <td>0</td>\n",
       "      <td>0</td>\n",
       "      <td>1</td>\n",
       "      <td>0</td>\n",
       "      <td>0.826172</td>\n",
       "    </tr>\n",
       "    <tr>\n",
       "      <th>7</th>\n",
       "      <td>0.025681</td>\n",
       "      <td>28.0</td>\n",
       "      <td>6.0</td>\n",
       "      <td>0.160034</td>\n",
       "      <td>0.185669</td>\n",
       "      <td>54.0</td>\n",
       "      <td>53.0</td>\n",
       "      <td>0.981445</td>\n",
       "      <td>1.0</td>\n",
       "      <td>270.0</td>\n",
       "      <td>3</td>\n",
       "      <td>44.156250</td>\n",
       "      <td>0</td>\n",
       "      <td>0</td>\n",
       "      <td>0</td>\n",
       "      <td>0</td>\n",
       "      <td>1</td>\n",
       "      <td>0</td>\n",
       "      <td>0.160522</td>\n",
       "    </tr>\n",
       "    <tr>\n",
       "      <th>8</th>\n",
       "      <td>2.443359</td>\n",
       "      <td>30.0</td>\n",
       "      <td>24.0</td>\n",
       "      <td>2.859375</td>\n",
       "      <td>5.304688</td>\n",
       "      <td>29.0</td>\n",
       "      <td>29.0</td>\n",
       "      <td>1.000000</td>\n",
       "      <td>0.0</td>\n",
       "      <td>955.0</td>\n",
       "      <td>3</td>\n",
       "      <td>2.500000</td>\n",
       "      <td>0</td>\n",
       "      <td>0</td>\n",
       "      <td>0</td>\n",
       "      <td>0</td>\n",
       "      <td>1</td>\n",
       "      <td>0</td>\n",
       "      <td>0.854492</td>\n",
       "    </tr>\n",
       "    <tr>\n",
       "      <th>9</th>\n",
       "      <td>2.878906</td>\n",
       "      <td>369.0</td>\n",
       "      <td>37.0</td>\n",
       "      <td>2.609375</td>\n",
       "      <td>5.488281</td>\n",
       "      <td>81.0</td>\n",
       "      <td>81.0</td>\n",
       "      <td>1.000000</td>\n",
       "      <td>0.0</td>\n",
       "      <td>1.0</td>\n",
       "      <td>3</td>\n",
       "      <td>175.500000</td>\n",
       "      <td>0</td>\n",
       "      <td>0</td>\n",
       "      <td>0</td>\n",
       "      <td>0</td>\n",
       "      <td>1</td>\n",
       "      <td>0</td>\n",
       "      <td>1.103516</td>\n",
       "    </tr>\n",
       "  </tbody>\n",
       "</table>\n",
       "</div>"
      ],
      "text/plain": [
       "   first_mile_distance  elapse1  elapse2  last_mile_distance  tot_dist  \\\n",
       "0             1.566406     24.0      9.0            2.650391  4.218750   \n",
       "1             2.521484     41.0     48.0            2.759766  5.281250   \n",
       "2             2.207031      8.0     16.0            4.800781  7.007812   \n",
       "3             2.189453     32.0     41.0            6.378906  8.570312   \n",
       "4             2.787109     51.0     36.0            4.011719  6.796875   \n",
       "5             2.482422    298.0     13.0            5.179688  7.664062   \n",
       "6             2.808594     28.0     47.0            3.400391  6.210938   \n",
       "7             0.025681     28.0      6.0            0.160034  0.185669   \n",
       "8             2.443359     30.0     24.0            2.859375  5.304688   \n",
       "9             2.878906    369.0     37.0            2.609375  5.488281   \n",
       "\n",
       "   alloted_orders  delivered_orders  del_ratio  undelivered_orders  \\\n",
       "0            46.0              46.0   1.000000                 0.0   \n",
       "1             8.0               8.0   1.000000                 0.0   \n",
       "2             1.0               1.0   1.000000                 0.0   \n",
       "3             1.0               1.0   1.000000                 0.0   \n",
       "4            34.0              34.0   1.000000                 0.0   \n",
       "5           296.0             294.0   0.993164                 2.0   \n",
       "6            45.0              45.0   1.000000                 0.0   \n",
       "7            54.0              53.0   0.981445                 1.0   \n",
       "8            29.0              29.0   1.000000                 0.0   \n",
       "9            81.0              81.0   1.000000                 0.0   \n",
       "\n",
       "   lifetime_order_count  Hour  session_time  Monday  Saturday  Sunday  \\\n",
       "0                 621.0     2    175.500000       0         0       0   \n",
       "1                 105.0     2      3.267578       0         0       0   \n",
       "2                  66.0     2      9.820312       0         0       0   \n",
       "3                 127.0     2     17.531250       0         0       0   \n",
       "4                  84.0     3      1.349609       0         0       0   \n",
       "5                1506.0     3    175.500000       0         0       0   \n",
       "6                1460.0     3    175.500000       0         0       0   \n",
       "7                 270.0     3     44.156250       0         0       0   \n",
       "8                 955.0     3      2.500000       0         0       0   \n",
       "9                   1.0     3    175.500000       0         0       0   \n",
       "\n",
       "   Thursday  Tuesday  Wednesday  dist_ratio  \n",
       "0         0        1          0    0.590820  \n",
       "1         0        1          0    0.913574  \n",
       "2         0        1          0    0.459717  \n",
       "3         0        1          0    0.343262  \n",
       "4         0        1          0    0.694824  \n",
       "5         0        1          0    0.479248  \n",
       "6         0        1          0    0.826172  \n",
       "7         0        1          0    0.160522  \n",
       "8         0        1          0    0.854492  \n",
       "9         0        1          0    1.103516  "
      ]
     },
     "execution_count": 14,
     "metadata": {},
     "output_type": "execute_result"
    }
   ],
   "source": [
    "X.head(10)"
   ]
  },
  {
   "cell_type": "code",
   "execution_count": 15,
   "id": "01c1fe40",
   "metadata": {
    "execution": {
     "iopub.execute_input": "2022-02-10T05:58:40.016851Z",
     "iopub.status.busy": "2022-02-10T05:58:40.016249Z",
     "iopub.status.idle": "2022-02-10T05:58:40.046672Z",
     "shell.execute_reply": "2022-02-10T05:58:40.046009Z"
    },
    "papermill": {
     "duration": 0.059535,
     "end_time": "2022-02-10T05:58:40.046821",
     "exception": false,
     "start_time": "2022-02-10T05:58:39.987286",
     "status": "completed"
    },
    "tags": []
   },
   "outputs": [
    {
     "data": {
      "text/html": [
       "<div>\n",
       "<style scoped>\n",
       "    .dataframe tbody tr th:only-of-type {\n",
       "        vertical-align: middle;\n",
       "    }\n",
       "\n",
       "    .dataframe tbody tr th {\n",
       "        vertical-align: top;\n",
       "    }\n",
       "\n",
       "    .dataframe thead th {\n",
       "        text-align: right;\n",
       "    }\n",
       "</style>\n",
       "<table border=\"1\" class=\"dataframe\">\n",
       "  <thead>\n",
       "    <tr style=\"text-align: right;\">\n",
       "      <th></th>\n",
       "      <th>order_id</th>\n",
       "      <th>first_mile_distance</th>\n",
       "      <th>elapse1</th>\n",
       "      <th>elapse2</th>\n",
       "      <th>last_mile_distance</th>\n",
       "      <th>tot_dist</th>\n",
       "      <th>alloted_orders</th>\n",
       "      <th>delivered_orders</th>\n",
       "      <th>del_ratio</th>\n",
       "      <th>undelivered_orders</th>\n",
       "      <th>lifetime_order_count</th>\n",
       "      <th>Hour</th>\n",
       "      <th>session_time</th>\n",
       "      <th>Monday</th>\n",
       "      <th>Saturday</th>\n",
       "      <th>Sunday</th>\n",
       "      <th>Thursday</th>\n",
       "      <th>Tuesday</th>\n",
       "      <th>Wednesday</th>\n",
       "      <th>dist_ratio</th>\n",
       "    </tr>\n",
       "  </thead>\n",
       "  <tbody>\n",
       "    <tr>\n",
       "      <th>0</th>\n",
       "      <td>130231</td>\n",
       "      <td>1.658203</td>\n",
       "      <td>25.0</td>\n",
       "      <td>26.0</td>\n",
       "      <td>4.539062</td>\n",
       "      <td>6.195312</td>\n",
       "      <td>216.0</td>\n",
       "      <td>215.0</td>\n",
       "      <td>0.995605</td>\n",
       "      <td>1.0</td>\n",
       "      <td>747.0</td>\n",
       "      <td>10</td>\n",
       "      <td>273.5000</td>\n",
       "      <td>0</td>\n",
       "      <td>1</td>\n",
       "      <td>0</td>\n",
       "      <td>0</td>\n",
       "      <td>0</td>\n",
       "      <td>0</td>\n",
       "      <td>0.365234</td>\n",
       "    </tr>\n",
       "    <tr>\n",
       "      <th>1</th>\n",
       "      <td>130232</td>\n",
       "      <td>2.070312</td>\n",
       "      <td>1.0</td>\n",
       "      <td>9.0</td>\n",
       "      <td>5.839844</td>\n",
       "      <td>7.910156</td>\n",
       "      <td>52.0</td>\n",
       "      <td>52.0</td>\n",
       "      <td>1.000000</td>\n",
       "      <td>0.0</td>\n",
       "      <td>75.0</td>\n",
       "      <td>10</td>\n",
       "      <td>252.1250</td>\n",
       "      <td>0</td>\n",
       "      <td>1</td>\n",
       "      <td>0</td>\n",
       "      <td>0</td>\n",
       "      <td>0</td>\n",
       "      <td>0</td>\n",
       "      <td>0.354492</td>\n",
       "    </tr>\n",
       "    <tr>\n",
       "      <th>2</th>\n",
       "      <td>130233</td>\n",
       "      <td>1.388672</td>\n",
       "      <td>47.0</td>\n",
       "      <td>80.0</td>\n",
       "      <td>0.990234</td>\n",
       "      <td>2.378906</td>\n",
       "      <td>289.0</td>\n",
       "      <td>289.0</td>\n",
       "      <td>1.000000</td>\n",
       "      <td>0.0</td>\n",
       "      <td>2214.0</td>\n",
       "      <td>10</td>\n",
       "      <td>241.3750</td>\n",
       "      <td>0</td>\n",
       "      <td>1</td>\n",
       "      <td>0</td>\n",
       "      <td>0</td>\n",
       "      <td>0</td>\n",
       "      <td>0</td>\n",
       "      <td>1.402344</td>\n",
       "    </tr>\n",
       "    <tr>\n",
       "      <th>3</th>\n",
       "      <td>130234</td>\n",
       "      <td>1.904297</td>\n",
       "      <td>1.0</td>\n",
       "      <td>23.0</td>\n",
       "      <td>2.589844</td>\n",
       "      <td>4.492188</td>\n",
       "      <td>125.0</td>\n",
       "      <td>122.0</td>\n",
       "      <td>0.976074</td>\n",
       "      <td>3.0</td>\n",
       "      <td>1020.0</td>\n",
       "      <td>10</td>\n",
       "      <td>292.0000</td>\n",
       "      <td>0</td>\n",
       "      <td>1</td>\n",
       "      <td>0</td>\n",
       "      <td>0</td>\n",
       "      <td>0</td>\n",
       "      <td>0</td>\n",
       "      <td>0.735352</td>\n",
       "    </tr>\n",
       "    <tr>\n",
       "      <th>4</th>\n",
       "      <td>130235</td>\n",
       "      <td>0.827637</td>\n",
       "      <td>8.0</td>\n",
       "      <td>60.0</td>\n",
       "      <td>0.939941</td>\n",
       "      <td>1.767578</td>\n",
       "      <td>352.0</td>\n",
       "      <td>350.0</td>\n",
       "      <td>0.994141</td>\n",
       "      <td>2.0</td>\n",
       "      <td>7284.0</td>\n",
       "      <td>10</td>\n",
       "      <td>247.1250</td>\n",
       "      <td>0</td>\n",
       "      <td>1</td>\n",
       "      <td>0</td>\n",
       "      <td>0</td>\n",
       "      <td>0</td>\n",
       "      <td>0</td>\n",
       "      <td>0.880371</td>\n",
       "    </tr>\n",
       "    <tr>\n",
       "      <th>5</th>\n",
       "      <td>130237</td>\n",
       "      <td>0.879883</td>\n",
       "      <td>22.0</td>\n",
       "      <td>88.0</td>\n",
       "      <td>5.488281</td>\n",
       "      <td>6.367188</td>\n",
       "      <td>5.0</td>\n",
       "      <td>5.0</td>\n",
       "      <td>1.000000</td>\n",
       "      <td>0.0</td>\n",
       "      <td>261.0</td>\n",
       "      <td>10</td>\n",
       "      <td>184.1250</td>\n",
       "      <td>0</td>\n",
       "      <td>1</td>\n",
       "      <td>0</td>\n",
       "      <td>0</td>\n",
       "      <td>0</td>\n",
       "      <td>0</td>\n",
       "      <td>0.160278</td>\n",
       "    </tr>\n",
       "    <tr>\n",
       "      <th>6</th>\n",
       "      <td>130236</td>\n",
       "      <td>0.601074</td>\n",
       "      <td>0.0</td>\n",
       "      <td>63.0</td>\n",
       "      <td>0.970215</td>\n",
       "      <td>1.571289</td>\n",
       "      <td>59.0</td>\n",
       "      <td>58.0</td>\n",
       "      <td>0.982910</td>\n",
       "      <td>1.0</td>\n",
       "      <td>889.0</td>\n",
       "      <td>10</td>\n",
       "      <td>79.8125</td>\n",
       "      <td>0</td>\n",
       "      <td>1</td>\n",
       "      <td>0</td>\n",
       "      <td>0</td>\n",
       "      <td>0</td>\n",
       "      <td>0</td>\n",
       "      <td>0.619629</td>\n",
       "    </tr>\n",
       "    <tr>\n",
       "      <th>7</th>\n",
       "      <td>130238</td>\n",
       "      <td>1.467773</td>\n",
       "      <td>55.0</td>\n",
       "      <td>26.0</td>\n",
       "      <td>1.450195</td>\n",
       "      <td>2.917969</td>\n",
       "      <td>178.0</td>\n",
       "      <td>178.0</td>\n",
       "      <td>1.000000</td>\n",
       "      <td>0.0</td>\n",
       "      <td>348.0</td>\n",
       "      <td>10</td>\n",
       "      <td>211.7500</td>\n",
       "      <td>0</td>\n",
       "      <td>1</td>\n",
       "      <td>0</td>\n",
       "      <td>0</td>\n",
       "      <td>0</td>\n",
       "      <td>0</td>\n",
       "      <td>1.011719</td>\n",
       "    </tr>\n",
       "    <tr>\n",
       "      <th>8</th>\n",
       "      <td>130239</td>\n",
       "      <td>1.833984</td>\n",
       "      <td>2.0</td>\n",
       "      <td>52.0</td>\n",
       "      <td>1.230469</td>\n",
       "      <td>3.064453</td>\n",
       "      <td>30.0</td>\n",
       "      <td>30.0</td>\n",
       "      <td>1.000000</td>\n",
       "      <td>0.0</td>\n",
       "      <td>87.0</td>\n",
       "      <td>10</td>\n",
       "      <td>208.0000</td>\n",
       "      <td>0</td>\n",
       "      <td>1</td>\n",
       "      <td>0</td>\n",
       "      <td>0</td>\n",
       "      <td>0</td>\n",
       "      <td>0</td>\n",
       "      <td>1.490234</td>\n",
       "    </tr>\n",
       "    <tr>\n",
       "      <th>9</th>\n",
       "      <td>130240</td>\n",
       "      <td>2.279297</td>\n",
       "      <td>41.0</td>\n",
       "      <td>13.0</td>\n",
       "      <td>2.419922</td>\n",
       "      <td>4.699219</td>\n",
       "      <td>81.0</td>\n",
       "      <td>81.0</td>\n",
       "      <td>1.000000</td>\n",
       "      <td>0.0</td>\n",
       "      <td>1470.0</td>\n",
       "      <td>10</td>\n",
       "      <td>213.0000</td>\n",
       "      <td>0</td>\n",
       "      <td>1</td>\n",
       "      <td>0</td>\n",
       "      <td>0</td>\n",
       "      <td>0</td>\n",
       "      <td>0</td>\n",
       "      <td>0.941895</td>\n",
       "    </tr>\n",
       "  </tbody>\n",
       "</table>\n",
       "</div>"
      ],
      "text/plain": [
       "   order_id  first_mile_distance  elapse1  elapse2  last_mile_distance  \\\n",
       "0    130231             1.658203     25.0     26.0            4.539062   \n",
       "1    130232             2.070312      1.0      9.0            5.839844   \n",
       "2    130233             1.388672     47.0     80.0            0.990234   \n",
       "3    130234             1.904297      1.0     23.0            2.589844   \n",
       "4    130235             0.827637      8.0     60.0            0.939941   \n",
       "5    130237             0.879883     22.0     88.0            5.488281   \n",
       "6    130236             0.601074      0.0     63.0            0.970215   \n",
       "7    130238             1.467773     55.0     26.0            1.450195   \n",
       "8    130239             1.833984      2.0     52.0            1.230469   \n",
       "9    130240             2.279297     41.0     13.0            2.419922   \n",
       "\n",
       "   tot_dist  alloted_orders  delivered_orders  del_ratio  undelivered_orders  \\\n",
       "0  6.195312           216.0             215.0   0.995605                 1.0   \n",
       "1  7.910156            52.0              52.0   1.000000                 0.0   \n",
       "2  2.378906           289.0             289.0   1.000000                 0.0   \n",
       "3  4.492188           125.0             122.0   0.976074                 3.0   \n",
       "4  1.767578           352.0             350.0   0.994141                 2.0   \n",
       "5  6.367188             5.0               5.0   1.000000                 0.0   \n",
       "6  1.571289            59.0              58.0   0.982910                 1.0   \n",
       "7  2.917969           178.0             178.0   1.000000                 0.0   \n",
       "8  3.064453            30.0              30.0   1.000000                 0.0   \n",
       "9  4.699219            81.0              81.0   1.000000                 0.0   \n",
       "\n",
       "   lifetime_order_count  Hour  session_time  Monday  Saturday  Sunday  \\\n",
       "0                 747.0    10      273.5000       0         1       0   \n",
       "1                  75.0    10      252.1250       0         1       0   \n",
       "2                2214.0    10      241.3750       0         1       0   \n",
       "3                1020.0    10      292.0000       0         1       0   \n",
       "4                7284.0    10      247.1250       0         1       0   \n",
       "5                 261.0    10      184.1250       0         1       0   \n",
       "6                 889.0    10       79.8125       0         1       0   \n",
       "7                 348.0    10      211.7500       0         1       0   \n",
       "8                  87.0    10      208.0000       0         1       0   \n",
       "9                1470.0    10      213.0000       0         1       0   \n",
       "\n",
       "   Thursday  Tuesday  Wednesday  dist_ratio  \n",
       "0         0        0          0    0.365234  \n",
       "1         0        0          0    0.354492  \n",
       "2         0        0          0    1.402344  \n",
       "3         0        0          0    0.735352  \n",
       "4         0        0          0    0.880371  \n",
       "5         0        0          0    0.160278  \n",
       "6         0        0          0    0.619629  \n",
       "7         0        0          0    1.011719  \n",
       "8         0        0          0    1.490234  \n",
       "9         0        0          0    0.941895  "
      ]
     },
     "execution_count": 15,
     "metadata": {},
     "output_type": "execute_result"
    }
   ],
   "source": [
    "test_df.head(10)"
   ]
  },
  {
   "cell_type": "code",
   "execution_count": 16,
   "id": "fc86a95b",
   "metadata": {
    "execution": {
     "iopub.execute_input": "2022-02-10T05:58:40.108068Z",
     "iopub.status.busy": "2022-02-10T05:58:40.107265Z",
     "iopub.status.idle": "2022-02-10T05:58:41.270316Z",
     "shell.execute_reply": "2022-02-10T05:58:41.269775Z"
    },
    "papermill": {
     "duration": 1.195268,
     "end_time": "2022-02-10T05:58:41.270481",
     "exception": false,
     "start_time": "2022-02-10T05:58:40.075213",
     "status": "completed"
    },
    "tags": []
   },
   "outputs": [
    {
     "data": {
      "text/html": [
       "<style type='text/css'>\n",
       ".datatable table.frame { margin-bottom: 0; }\n",
       ".datatable table.frame thead { border-bottom: none; }\n",
       ".datatable table.frame tr.coltypes td {  color: #FFFFFF;  line-height: 6px;  padding: 0 0.5em;}\n",
       ".datatable .bool    { background: #DDDD99; }\n",
       ".datatable .object  { background: #565656; }\n",
       ".datatable .int     { background: #5D9E5D; }\n",
       ".datatable .float   { background: #4040CC; }\n",
       ".datatable .str     { background: #CC4040; }\n",
       ".datatable .time    { background: #40CC40; }\n",
       ".datatable .row_index {  background: var(--jp-border-color3);  border-right: 1px solid var(--jp-border-color0);  color: var(--jp-ui-font-color3);  font-size: 9px;}\n",
       ".datatable .frame tbody td { text-align: left; }\n",
       ".datatable .frame tr.coltypes .row_index {  background: var(--jp-border-color0);}\n",
       ".datatable th:nth-child(2) { padding-left: 12px; }\n",
       ".datatable .hellipsis {  color: var(--jp-cell-editor-border-color);}\n",
       ".datatable .vellipsis {  background: var(--jp-layout-color0);  color: var(--jp-cell-editor-border-color);}\n",
       ".datatable .na {  color: var(--jp-cell-editor-border-color);  font-size: 80%;}\n",
       ".datatable .sp {  opacity: 0.25;}\n",
       ".datatable .footer { font-size: 9px; }\n",
       ".datatable .frame_dimensions {  background: var(--jp-border-color3);  border-top: 1px solid var(--jp-border-color0);  color: var(--jp-ui-font-color3);  display: inline-block;  opacity: 0.6;  padding: 1px 10px 1px 5px;}\n",
       "</style>\n"
      ],
      "text/plain": [
       "<IPython.core.display.HTML object>"
      ]
     },
     "metadata": {},
     "output_type": "display_data"
    }
   ],
   "source": [
    "from lightgbm import LGBMClassifier\n",
    "from sklearn.ensemble import BaggingClassifier"
   ]
  },
  {
   "cell_type": "code",
   "execution_count": 17,
   "id": "57dccf56",
   "metadata": {
    "execution": {
     "iopub.execute_input": "2022-02-10T05:58:41.329597Z",
     "iopub.status.busy": "2022-02-10T05:58:41.328993Z",
     "iopub.status.idle": "2022-02-10T05:58:41.334372Z",
     "shell.execute_reply": "2022-02-10T05:58:41.334949Z"
    },
    "papermill": {
     "duration": 0.036916,
     "end_time": "2022-02-10T05:58:41.335114",
     "exception": false,
     "start_time": "2022-02-10T05:58:41.298198",
     "status": "completed"
    },
    "tags": []
   },
   "outputs": [],
   "source": [
    "params = {'n_estimators': 10000,\n",
    " 'learning_rate': 0.1791352346972678,\n",
    " 'num_leaves': 2484,\n",
    " 'max_depth': 7,\n",
    " 'min_data_in_leaf': 1000,\n",
    " 'lambda_l1': 0.001416929031249321,\n",
    " 'lambda_l2': 5,\n",
    " 'min_gain_to_split': 6.936460637257937,\n",
    " 'bagging_fraction': 0.9,\n",
    " 'bagging_freq': 1,\n",
    " 'feature_fraction': 0.5}"
   ]
  },
  {
   "cell_type": "code",
   "execution_count": 18,
   "id": "68c7599b",
   "metadata": {
    "execution": {
     "iopub.execute_input": "2022-02-10T05:58:41.394913Z",
     "iopub.status.busy": "2022-02-10T05:58:41.394245Z",
     "iopub.status.idle": "2022-02-10T05:58:41.398481Z",
     "shell.execute_reply": "2022-02-10T05:58:41.398957Z"
    },
    "papermill": {
     "duration": 0.035819,
     "end_time": "2022-02-10T05:58:41.399119",
     "exception": false,
     "start_time": "2022-02-10T05:58:41.363300",
     "status": "completed"
    },
    "tags": []
   },
   "outputs": [],
   "source": [
    "clf = BaggingClassifier(LGBMClassifier(seed=SEED ,**params,n_jobs= -1) ,n_estimators=100 ,random_state =SEED,verbose =2)"
   ]
  },
  {
   "cell_type": "code",
   "execution_count": 19,
   "id": "4bbeca76",
   "metadata": {
    "execution": {
     "iopub.execute_input": "2022-02-10T05:58:41.466782Z",
     "iopub.status.busy": "2022-02-10T05:58:41.465882Z",
     "iopub.status.idle": "2022-02-10T09:12:12.751852Z",
     "shell.execute_reply": "2022-02-10T09:12:12.751224Z"
    },
    "papermill": {
     "duration": 11611.324231,
     "end_time": "2022-02-10T09:12:12.752092",
     "exception": false,
     "start_time": "2022-02-10T05:58:41.427861",
     "status": "completed"
    },
    "tags": []
   },
   "outputs": [
    {
     "name": "stderr",
     "output_type": "stream",
     "text": [
      "/opt/conda/lib/python3.7/site-packages/sklearn/utils/validation.py:72: DataConversionWarning: A column-vector y was passed when a 1d array was expected. Please change the shape of y to (n_samples, ), for example using ravel().\n",
      "  return f(**kwargs)\n",
      "[Parallel(n_jobs=1)]: Using backend SequentialBackend with 1 concurrent workers.\n"
     ]
    },
    {
     "name": "stdout",
     "output_type": "stream",
     "text": [
      "Building estimator 1 of 100 for this parallel run (total 100)...\n",
      "[LightGBM] [Warning] feature_fraction is set=0.5, colsample_bytree=1.0 will be ignored. Current value: feature_fraction=0.5\n",
      "[LightGBM] [Warning] lambda_l1 is set=0.001416929031249321, reg_alpha=0.0 will be ignored. Current value: lambda_l1=0.001416929031249321\n",
      "[LightGBM] [Warning] bagging_fraction is set=0.9, subsample=1.0 will be ignored. Current value: bagging_fraction=0.9\n",
      "[LightGBM] [Warning] seed is set=42, random_state=1952926171 will be ignored. Current value: seed=42\n",
      "[LightGBM] [Warning] min_data_in_leaf is set=1000, min_child_samples=20 will be ignored. Current value: min_data_in_leaf=1000\n",
      "[LightGBM] [Warning] bagging_freq is set=1, subsample_freq=0 will be ignored. Current value: bagging_freq=1\n",
      "[LightGBM] [Warning] min_gain_to_split is set=6.936460637257937, min_split_gain=0.0 will be ignored. Current value: min_gain_to_split=6.936460637257937\n",
      "[LightGBM] [Warning] lambda_l2 is set=5, reg_lambda=0.0 will be ignored. Current value: lambda_l2=5\n",
      "Building estimator 2 of 100 for this parallel run (total 100)...\n",
      "Building estimator 3 of 100 for this parallel run (total 100)...\n",
      "Building estimator 4 of 100 for this parallel run (total 100)...\n",
      "Building estimator 5 of 100 for this parallel run (total 100)...\n",
      "Building estimator 6 of 100 for this parallel run (total 100)...\n",
      "Building estimator 7 of 100 for this parallel run (total 100)...\n",
      "Building estimator 8 of 100 for this parallel run (total 100)...\n",
      "Building estimator 9 of 100 for this parallel run (total 100)...\n",
      "Building estimator 10 of 100 for this parallel run (total 100)...\n",
      "Building estimator 11 of 100 for this parallel run (total 100)...\n",
      "Building estimator 12 of 100 for this parallel run (total 100)...\n",
      "Building estimator 13 of 100 for this parallel run (total 100)...\n",
      "Building estimator 14 of 100 for this parallel run (total 100)...\n",
      "Building estimator 15 of 100 for this parallel run (total 100)...\n",
      "Building estimator 16 of 100 for this parallel run (total 100)...\n",
      "Building estimator 17 of 100 for this parallel run (total 100)...\n",
      "Building estimator 18 of 100 for this parallel run (total 100)...\n",
      "Building estimator 19 of 100 for this parallel run (total 100)...\n",
      "Building estimator 20 of 100 for this parallel run (total 100)...\n",
      "Building estimator 21 of 100 for this parallel run (total 100)...\n",
      "Building estimator 22 of 100 for this parallel run (total 100)...\n",
      "Building estimator 23 of 100 for this parallel run (total 100)...\n",
      "Building estimator 24 of 100 for this parallel run (total 100)...\n",
      "Building estimator 25 of 100 for this parallel run (total 100)...\n",
      "Building estimator 26 of 100 for this parallel run (total 100)...\n",
      "Building estimator 27 of 100 for this parallel run (total 100)...\n",
      "Building estimator 28 of 100 for this parallel run (total 100)...\n",
      "Building estimator 29 of 100 for this parallel run (total 100)...\n",
      "Building estimator 30 of 100 for this parallel run (total 100)...\n",
      "Building estimator 31 of 100 for this parallel run (total 100)...\n",
      "Building estimator 32 of 100 for this parallel run (total 100)...\n",
      "Building estimator 33 of 100 for this parallel run (total 100)...\n",
      "Building estimator 34 of 100 for this parallel run (total 100)...\n",
      "Building estimator 35 of 100 for this parallel run (total 100)...\n",
      "Building estimator 36 of 100 for this parallel run (total 100)...\n",
      "Building estimator 37 of 100 for this parallel run (total 100)...\n",
      "Building estimator 38 of 100 for this parallel run (total 100)...\n",
      "Building estimator 39 of 100 for this parallel run (total 100)...\n",
      "Building estimator 40 of 100 for this parallel run (total 100)...\n",
      "Building estimator 41 of 100 for this parallel run (total 100)...\n",
      "Building estimator 42 of 100 for this parallel run (total 100)...\n",
      "Building estimator 43 of 100 for this parallel run (total 100)...\n",
      "Building estimator 44 of 100 for this parallel run (total 100)...\n",
      "Building estimator 45 of 100 for this parallel run (total 100)...\n",
      "Building estimator 46 of 100 for this parallel run (total 100)...\n",
      "Building estimator 47 of 100 for this parallel run (total 100)...\n",
      "Building estimator 48 of 100 for this parallel run (total 100)...\n",
      "Building estimator 49 of 100 for this parallel run (total 100)...\n",
      "Building estimator 50 of 100 for this parallel run (total 100)...\n",
      "Building estimator 51 of 100 for this parallel run (total 100)...\n",
      "Building estimator 52 of 100 for this parallel run (total 100)...\n",
      "Building estimator 53 of 100 for this parallel run (total 100)...\n",
      "Building estimator 54 of 100 for this parallel run (total 100)...\n",
      "Building estimator 55 of 100 for this parallel run (total 100)...\n",
      "Building estimator 56 of 100 for this parallel run (total 100)...\n",
      "Building estimator 57 of 100 for this parallel run (total 100)...\n",
      "Building estimator 58 of 100 for this parallel run (total 100)...\n",
      "Building estimator 59 of 100 for this parallel run (total 100)...\n",
      "Building estimator 60 of 100 for this parallel run (total 100)...\n",
      "Building estimator 61 of 100 for this parallel run (total 100)...\n",
      "Building estimator 62 of 100 for this parallel run (total 100)...\n",
      "Building estimator 63 of 100 for this parallel run (total 100)...\n",
      "Building estimator 64 of 100 for this parallel run (total 100)...\n",
      "Building estimator 65 of 100 for this parallel run (total 100)...\n",
      "Building estimator 66 of 100 for this parallel run (total 100)...\n",
      "Building estimator 67 of 100 for this parallel run (total 100)...\n",
      "Building estimator 68 of 100 for this parallel run (total 100)...\n",
      "Building estimator 69 of 100 for this parallel run (total 100)...\n",
      "Building estimator 70 of 100 for this parallel run (total 100)...\n",
      "Building estimator 71 of 100 for this parallel run (total 100)...\n",
      "Building estimator 72 of 100 for this parallel run (total 100)...\n",
      "Building estimator 73 of 100 for this parallel run (total 100)...\n",
      "Building estimator 74 of 100 for this parallel run (total 100)...\n",
      "Building estimator 75 of 100 for this parallel run (total 100)...\n",
      "Building estimator 76 of 100 for this parallel run (total 100)...\n",
      "Building estimator 77 of 100 for this parallel run (total 100)...\n",
      "Building estimator 78 of 100 for this parallel run (total 100)...\n",
      "Building estimator 79 of 100 for this parallel run (total 100)...\n",
      "Building estimator 80 of 100 for this parallel run (total 100)...\n",
      "Building estimator 81 of 100 for this parallel run (total 100)...\n",
      "Building estimator 82 of 100 for this parallel run (total 100)...\n",
      "Building estimator 83 of 100 for this parallel run (total 100)...\n",
      "Building estimator 84 of 100 for this parallel run (total 100)...\n",
      "Building estimator 85 of 100 for this parallel run (total 100)...\n",
      "Building estimator 86 of 100 for this parallel run (total 100)...\n",
      "Building estimator 87 of 100 for this parallel run (total 100)...\n",
      "Building estimator 88 of 100 for this parallel run (total 100)...\n",
      "Building estimator 89 of 100 for this parallel run (total 100)...\n",
      "Building estimator 90 of 100 for this parallel run (total 100)...\n",
      "Building estimator 91 of 100 for this parallel run (total 100)...\n",
      "Building estimator 92 of 100 for this parallel run (total 100)...\n",
      "Building estimator 93 of 100 for this parallel run (total 100)...\n",
      "Building estimator 94 of 100 for this parallel run (total 100)...\n",
      "Building estimator 95 of 100 for this parallel run (total 100)...\n",
      "Building estimator 96 of 100 for this parallel run (total 100)...\n",
      "Building estimator 97 of 100 for this parallel run (total 100)...\n",
      "Building estimator 98 of 100 for this parallel run (total 100)...\n",
      "Building estimator 99 of 100 for this parallel run (total 100)...\n",
      "Building estimator 100 of 100 for this parallel run (total 100)...\n"
     ]
    },
    {
     "name": "stderr",
     "output_type": "stream",
     "text": [
      "[Parallel(n_jobs=1)]: Done   1 out of   1 | elapsed: 193.5min remaining:    0.0s\n",
      "[Parallel(n_jobs=1)]: Done   1 out of   1 | elapsed: 193.5min finished\n"
     ]
    },
    {
     "data": {
      "text/plain": [
       "BaggingClassifier(base_estimator=LGBMClassifier(bagging_fraction=0.9,\n",
       "                                                bagging_freq=1,\n",
       "                                                feature_fraction=0.5,\n",
       "                                                lambda_l1=0.001416929031249321,\n",
       "                                                lambda_l2=5,\n",
       "                                                learning_rate=0.1791352346972678,\n",
       "                                                max_depth=7,\n",
       "                                                min_data_in_leaf=1000,\n",
       "                                                min_gain_to_split=6.936460637257937,\n",
       "                                                n_estimators=10000,\n",
       "                                                num_leaves=2484, seed=42),\n",
       "                  n_estimators=100, random_state=42, verbose=2)"
      ]
     },
     "execution_count": 19,
     "metadata": {},
     "output_type": "execute_result"
    }
   ],
   "source": [
    "clf.fit(X, y)"
   ]
  },
  {
   "cell_type": "code",
   "execution_count": 20,
   "id": "6036dddf",
   "metadata": {
    "execution": {
     "iopub.execute_input": "2022-02-10T09:12:12.876917Z",
     "iopub.status.busy": "2022-02-10T09:12:12.876233Z",
     "iopub.status.idle": "2022-02-10T09:12:38.667909Z",
     "shell.execute_reply": "2022-02-10T09:12:38.668986Z"
    },
    "papermill": {
     "duration": 25.85663,
     "end_time": "2022-02-10T09:12:38.669405",
     "exception": false,
     "start_time": "2022-02-10T09:12:12.812775",
     "status": "completed"
    },
    "tags": []
   },
   "outputs": [
    {
     "name": "stderr",
     "output_type": "stream",
     "text": [
      "[Parallel(n_jobs=1)]: Using backend SequentialBackend with 1 concurrent workers.\n",
      "[Parallel(n_jobs=1)]: Done   1 out of   1 | elapsed:   25.8s remaining:    0.0s\n",
      "[Parallel(n_jobs=1)]: Done   1 out of   1 | elapsed:   25.8s finished\n"
     ]
    }
   ],
   "source": [
    "out = clf.predict_proba(test_df[list(test_df.columns[1:])])[:,1]"
   ]
  },
  {
   "cell_type": "code",
   "execution_count": 21,
   "id": "8dd40a13",
   "metadata": {
    "execution": {
     "iopub.execute_input": "2022-02-10T09:12:38.801325Z",
     "iopub.status.busy": "2022-02-10T09:12:38.800691Z",
     "iopub.status.idle": "2022-02-10T09:12:38.804300Z",
     "shell.execute_reply": "2022-02-10T09:12:38.804881Z"
    },
    "papermill": {
     "duration": 0.073133,
     "end_time": "2022-02-10T09:12:38.805043",
     "exception": false,
     "start_time": "2022-02-10T09:12:38.731910",
     "status": "completed"
    },
    "tags": []
   },
   "outputs": [],
   "source": [
    "out_df = pd.DataFrame({'cancelled' : out} , index = test_df.order_id)"
   ]
  },
  {
   "cell_type": "code",
   "execution_count": 22,
   "id": "64a06db9",
   "metadata": {
    "execution": {
     "iopub.execute_input": "2022-02-10T09:12:38.929719Z",
     "iopub.status.busy": "2022-02-10T09:12:38.928992Z",
     "iopub.status.idle": "2022-02-10T09:12:38.935137Z",
     "shell.execute_reply": "2022-02-10T09:12:38.935733Z"
    },
    "papermill": {
     "duration": 0.070986,
     "end_time": "2022-02-10T09:12:38.935903",
     "exception": false,
     "start_time": "2022-02-10T09:12:38.864917",
     "status": "completed"
    },
    "tags": []
   },
   "outputs": [],
   "source": [
    "out_df.reset_index(inplace =True)"
   ]
  },
  {
   "cell_type": "code",
   "execution_count": 23,
   "id": "dc129e3f",
   "metadata": {
    "execution": {
     "iopub.execute_input": "2022-02-10T09:12:39.061389Z",
     "iopub.status.busy": "2022-02-10T09:12:39.060715Z",
     "iopub.status.idle": "2022-02-10T09:12:39.071976Z",
     "shell.execute_reply": "2022-02-10T09:12:39.072476Z"
    },
    "papermill": {
     "duration": 0.075367,
     "end_time": "2022-02-10T09:12:39.072646",
     "exception": false,
     "start_time": "2022-02-10T09:12:38.997279",
     "status": "completed"
    },
    "tags": []
   },
   "outputs": [
    {
     "data": {
      "text/html": [
       "<div>\n",
       "<style scoped>\n",
       "    .dataframe tbody tr th:only-of-type {\n",
       "        vertical-align: middle;\n",
       "    }\n",
       "\n",
       "    .dataframe tbody tr th {\n",
       "        vertical-align: top;\n",
       "    }\n",
       "\n",
       "    .dataframe thead th {\n",
       "        text-align: right;\n",
       "    }\n",
       "</style>\n",
       "<table border=\"1\" class=\"dataframe\">\n",
       "  <thead>\n",
       "    <tr style=\"text-align: right;\">\n",
       "      <th></th>\n",
       "      <th>order_id</th>\n",
       "      <th>cancelled</th>\n",
       "    </tr>\n",
       "  </thead>\n",
       "  <tbody>\n",
       "    <tr>\n",
       "      <th>0</th>\n",
       "      <td>130231</td>\n",
       "      <td>0.005242</td>\n",
       "    </tr>\n",
       "    <tr>\n",
       "      <th>1</th>\n",
       "      <td>130232</td>\n",
       "      <td>0.006907</td>\n",
       "    </tr>\n",
       "    <tr>\n",
       "      <th>2</th>\n",
       "      <td>130233</td>\n",
       "      <td>0.003712</td>\n",
       "    </tr>\n",
       "    <tr>\n",
       "      <th>3</th>\n",
       "      <td>130234</td>\n",
       "      <td>0.007496</td>\n",
       "    </tr>\n",
       "    <tr>\n",
       "      <th>4</th>\n",
       "      <td>130235</td>\n",
       "      <td>0.002979</td>\n",
       "    </tr>\n",
       "  </tbody>\n",
       "</table>\n",
       "</div>"
      ],
      "text/plain": [
       "   order_id  cancelled\n",
       "0    130231   0.005242\n",
       "1    130232   0.006907\n",
       "2    130233   0.003712\n",
       "3    130234   0.007496\n",
       "4    130235   0.002979"
      ]
     },
     "execution_count": 23,
     "metadata": {},
     "output_type": "execute_result"
    }
   ],
   "source": [
    "out_df.head()"
   ]
  },
  {
   "cell_type": "code",
   "execution_count": 24,
   "id": "0c7b85b7",
   "metadata": {
    "execution": {
     "iopub.execute_input": "2022-02-10T09:12:39.201188Z",
     "iopub.status.busy": "2022-02-10T09:12:39.200488Z",
     "iopub.status.idle": "2022-02-10T09:12:39.207532Z",
     "shell.execute_reply": "2022-02-10T09:12:39.206989Z"
    },
    "papermill": {
     "duration": 0.073502,
     "end_time": "2022-02-10T09:12:39.207683",
     "exception": false,
     "start_time": "2022-02-10T09:12:39.134181",
     "status": "completed"
    },
    "tags": []
   },
   "outputs": [
    {
     "data": {
      "text/plain": [
       "(144844, 2)"
      ]
     },
     "execution_count": 24,
     "metadata": {},
     "output_type": "execute_result"
    }
   ],
   "source": [
    "out_df.shape"
   ]
  },
  {
   "cell_type": "code",
   "execution_count": 25,
   "id": "d2ea366e",
   "metadata": {
    "execution": {
     "iopub.execute_input": "2022-02-10T09:12:39.703137Z",
     "iopub.status.busy": "2022-02-10T09:12:39.702449Z",
     "iopub.status.idle": "2022-02-10T09:12:39.714512Z",
     "shell.execute_reply": "2022-02-10T09:12:39.714974Z"
    },
    "papermill": {
     "duration": 0.445731,
     "end_time": "2022-02-10T09:12:39.715179",
     "exception": false,
     "start_time": "2022-02-10T09:12:39.269448",
     "status": "completed"
    },
    "tags": []
   },
   "outputs": [
    {
     "name": "stdout",
     "output_type": "stream",
     "text": [
      "<class 'pandas.core.frame.DataFrame'>\n",
      "RangeIndex: 144844 entries, 0 to 144843\n",
      "Data columns (total 2 columns):\n",
      " #   Column     Non-Null Count   Dtype  \n",
      "---  ------     --------------   -----  \n",
      " 0   order_id   144844 non-null  int64  \n",
      " 1   cancelled  144844 non-null  float64\n",
      "dtypes: float64(1), int64(1)\n",
      "memory usage: 2.2 MB\n"
     ]
    }
   ],
   "source": [
    "out_df.info()"
   ]
  },
  {
   "cell_type": "code",
   "execution_count": 26,
   "id": "335388d4",
   "metadata": {
    "execution": {
     "iopub.execute_input": "2022-02-10T09:12:39.846842Z",
     "iopub.status.busy": "2022-02-10T09:12:39.845945Z",
     "iopub.status.idle": "2022-02-10T09:12:40.377195Z",
     "shell.execute_reply": "2022-02-10T09:12:40.376640Z"
    },
    "papermill": {
     "duration": 0.599036,
     "end_time": "2022-02-10T09:12:40.377352",
     "exception": false,
     "start_time": "2022-02-10T09:12:39.778316",
     "status": "completed"
    },
    "tags": []
   },
   "outputs": [],
   "source": [
    "out_df.to_csv('/kaggle/working/best_submission1.csv' ,index =False)"
   ]
  }
 ],
 "metadata": {
  "kernelspec": {
   "display_name": "Python 3",
   "language": "python",
   "name": "python3"
  },
  "language_info": {
   "codemirror_mode": {
    "name": "ipython",
    "version": 3
   },
   "file_extension": ".py",
   "mimetype": "text/x-python",
   "name": "python",
   "nbconvert_exporter": "python",
   "pygments_lexer": "ipython3",
   "version": "3.7.12"
  },
  "papermill": {
   "default_parameters": {},
   "duration": 11660.56977,
   "end_time": "2022-02-10T09:12:41.784006",
   "environment_variables": {},
   "exception": null,
   "input_path": "__notebook__.ipynb",
   "output_path": "__notebook__.ipynb",
   "parameters": {},
   "start_time": "2022-02-10T05:58:21.214236",
   "version": "2.3.3"
  }
 },
 "nbformat": 4,
 "nbformat_minor": 5
}
