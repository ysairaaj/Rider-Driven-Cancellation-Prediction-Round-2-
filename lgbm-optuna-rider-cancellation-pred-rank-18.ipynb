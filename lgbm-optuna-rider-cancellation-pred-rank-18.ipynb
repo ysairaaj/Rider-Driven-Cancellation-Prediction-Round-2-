{
 "cells": [
  {
   "cell_type": "code",
   "execution_count": 1,
   "id": "33d0ae83",
   "metadata": {
    "_cell_guid": "b1076dfc-b9ad-4769-8c92-a6c4dae69d19",
    "_uuid": "8f2839f25d086af736a60e9eeb907d3b93b6e0e5",
    "execution": {
     "iopub.execute_input": "2022-02-11T10:07:08.002277Z",
     "iopub.status.busy": "2022-02-11T10:07:08.000928Z",
     "iopub.status.idle": "2022-02-11T10:07:08.015330Z",
     "shell.execute_reply": "2022-02-11T10:07:08.014611Z"
    },
    "papermill": {
     "duration": 0.050827,
     "end_time": "2022-02-11T10:07:08.015554",
     "exception": false,
     "start_time": "2022-02-11T10:07:07.964727",
     "status": "completed"
    },
    "tags": []
   },
   "outputs": [
    {
     "name": "stdout",
     "output_type": "stream",
     "text": [
      "/kaggle/input/cascade-cup-22/sample_submission.csv\n",
      "/kaggle/input/cascade-cup-22/train.csv\n",
      "/kaggle/input/cascade-cup-22/test.csv\n"
     ]
    }
   ],
   "source": [
    "# This Python 3 environment comes with many helpful analytics libraries installed\n",
    "# It is defined by the kaggle/python Docker image: https://github.com/kaggle/docker-python\n",
    "# For example, here's several helpful packages to load\n",
    "\n",
    "import numpy as np # linear algebra\n",
    "import pandas as pd # data processing, CSV file I/O (e.g. pd.read_csv)\n",
    "\n",
    "# Input data files are available in the read-only \"../input/\" directory\n",
    "# For example, running this (by clicking run or pressing Shift+Enter) will list all files under the input directory\n",
    "\n",
    "import os\n",
    "for dirname, _, filenames in os.walk('/kaggle/input'):\n",
    "    for filename in filenames:\n",
    "        print(os.path.join(dirname, filename))\n",
    "\n",
    "# You can write up to 20GB to the current directory (/kaggle/working/) that gets preserved as output when you create a version using \"Save & Run All\" \n",
    "# You can also write temporary files to /kaggle/temp/, but they won't be saved outside of the current session"
   ]
  },
  {
   "cell_type": "code",
   "execution_count": 2,
   "id": "c1db14ec",
   "metadata": {
    "execution": {
     "iopub.execute_input": "2022-02-11T10:07:08.087374Z",
     "iopub.status.busy": "2022-02-11T10:07:08.086586Z",
     "iopub.status.idle": "2022-02-11T10:07:09.107858Z",
     "shell.execute_reply": "2022-02-11T10:07:09.107281Z"
    },
    "papermill": {
     "duration": 1.059129,
     "end_time": "2022-02-11T10:07:09.108036",
     "exception": false,
     "start_time": "2022-02-11T10:07:08.048907",
     "status": "completed"
    },
    "tags": []
   },
   "outputs": [],
   "source": [
    "import pandas as pd\n",
    "import numpy as np\n",
    "import matplotlib.pyplot as plt\n",
    "import seaborn as sns\n",
    "\n",
    "VALID_TRAIN_SPLIT = 0.2\n",
    "TEST_SPLIT_RATIO  = 0.2\n",
    "SEED = 42"
   ]
  },
  {
   "cell_type": "code",
   "execution_count": 3,
   "id": "61c5884a",
   "metadata": {
    "execution": {
     "iopub.execute_input": "2022-02-11T10:07:09.178735Z",
     "iopub.status.busy": "2022-02-11T10:07:09.177710Z",
     "iopub.status.idle": "2022-02-11T10:07:12.855828Z",
     "shell.execute_reply": "2022-02-11T10:07:12.856406Z"
    },
    "papermill": {
     "duration": 3.716353,
     "end_time": "2022-02-11T10:07:12.856587",
     "exception": false,
     "start_time": "2022-02-11T10:07:09.140234",
     "status": "completed"
    },
    "tags": []
   },
   "outputs": [
    {
     "name": "stdout",
     "output_type": "stream",
     "text": [
      "DATA loaded ...\n",
      "Train Columns : 20   Rows : 450000\n",
      "Test Columns : 16   Rows : 144844\n"
     ]
    }
   ],
   "source": [
    "data_df = pd.read_csv('/kaggle/input/cascade-cup-22/train.csv')\n",
    "test_df = pd.read_csv('/kaggle/input/cascade-cup-22/test.csv')\n",
    "print('DATA loaded ...')\n",
    "print(f'Train Columns : {data_df.shape[1]}   Rows : {data_df.shape[0]}')\n",
    "print(f'Test Columns : {test_df.shape[1]}   Rows : {test_df.shape[0]}')"
   ]
  },
  {
   "cell_type": "code",
   "execution_count": 4,
   "id": "b9c86c6f",
   "metadata": {
    "execution": {
     "iopub.execute_input": "2022-02-11T10:07:12.938701Z",
     "iopub.status.busy": "2022-02-11T10:07:12.936057Z",
     "iopub.status.idle": "2022-02-11T10:07:12.941867Z",
     "shell.execute_reply": "2022-02-11T10:07:12.941151Z"
    },
    "papermill": {
     "duration": 0.052435,
     "end_time": "2022-02-11T10:07:12.942015",
     "exception": false,
     "start_time": "2022-02-11T10:07:12.889580",
     "status": "completed"
    },
    "tags": []
   },
   "outputs": [],
   "source": [
    "def reduce_mem_usage(df):\n",
    "    \"\"\" iterate through all the columns of a dataframe and modify the data type\n",
    "        to reduce memory usage.\n",
    "    \"\"\"\n",
    "    start_mem = df.memory_usage().sum() / 1024**2\n",
    "    print('Memory usage of dataframe is {:.2f} MB'.format(start_mem))\n",
    "\n",
    "    for col in df.columns:\n",
    "        col_type = df[col].dtype.name\n",
    "        \n",
    "        if col_type not in ['object', 'category', 'datetime64[ns, UTC]', 'datetime64[ns]']:\n",
    "            c_min = df[col].min()\n",
    "            c_max = df[col].max()\n",
    "            if str(col_type)[:3] == 'int':\n",
    "                if c_min > np.iinfo(np.int8).min and c_max < np.iinfo(np.int8).max:\n",
    "                    df[col] = df[col].astype(np.int16)\n",
    "                elif c_min > np.iinfo(np.int16).min and c_max < np.iinfo(np.int16).max:\n",
    "                    df[col] = df[col].astype(np.int16)\n",
    "                elif c_min > np.iinfo(np.int32).min and c_max < np.iinfo(np.int32).max:\n",
    "                    df[col] = df[col].astype(np.int32)\n",
    "                elif c_min > np.iinfo(np.int64).min and c_max < np.iinfo(np.int64).max:\n",
    "                    df[col] = df[col].astype(np.int64)  \n",
    "            else:\n",
    "                if c_min > np.finfo(np.float16).min and c_max < np.finfo(np.float16).max:\n",
    "                    df[col] = df[col].astype(np.float16)\n",
    "                elif c_min > np.finfo(np.float32).min and c_max < np.finfo(np.float32).max:\n",
    "                    df[col] = df[col].astype(np.float32)\n",
    "                else:\n",
    "                    df[col] = df[col].astype(np.float64)\n",
    "\n",
    "    end_mem = df.memory_usage().sum() / 1024**2\n",
    "    print('Memory usage after optimization is: {:.2f} MB'.format(end_mem))\n",
    "    print('Decreased by {:.1f}%'.format(100 * (start_mem - end_mem) / start_mem))\n",
    "\n",
    "    return df"
   ]
  },
  {
   "cell_type": "code",
   "execution_count": 5,
   "id": "c2427f1e",
   "metadata": {
    "execution": {
     "iopub.execute_input": "2022-02-11T10:07:13.022104Z",
     "iopub.status.busy": "2022-02-11T10:07:13.018125Z",
     "iopub.status.idle": "2022-02-11T10:07:13.145117Z",
     "shell.execute_reply": "2022-02-11T10:07:13.144452Z"
    },
    "papermill": {
     "duration": 0.169951,
     "end_time": "2022-02-11T10:07:13.145280",
     "exception": false,
     "start_time": "2022-02-11T10:07:12.975329",
     "status": "completed"
    },
    "tags": []
   },
   "outputs": [
    {
     "name": "stdout",
     "output_type": "stream",
     "text": [
      "Memory usage of dataframe is 68.66 MB\n",
      "Memory usage after optimization is: 41.20 MB\n",
      "Decreased by 40.0%\n",
      "Memory usage of dataframe is 17.68 MB\n",
      "Memory usage after optimization is: 9.67 MB\n",
      "Decreased by 45.3%\n"
     ]
    }
   ],
   "source": [
    "data_df = reduce_mem_usage(data_df)\n",
    "test_df = reduce_mem_usage(test_df)"
   ]
  },
  {
   "cell_type": "code",
   "execution_count": 6,
   "id": "4cf0b92c",
   "metadata": {
    "execution": {
     "iopub.execute_input": "2022-02-11T10:07:13.221252Z",
     "iopub.status.busy": "2022-02-11T10:07:13.220563Z",
     "iopub.status.idle": "2022-02-11T10:07:13.253099Z",
     "shell.execute_reply": "2022-02-11T10:07:13.253647Z"
    },
    "papermill": {
     "duration": 0.074744,
     "end_time": "2022-02-11T10:07:13.253833",
     "exception": false,
     "start_time": "2022-02-11T10:07:13.179089",
     "status": "completed"
    },
    "tags": []
   },
   "outputs": [
    {
     "data": {
      "text/html": [
       "<div>\n",
       "<style scoped>\n",
       "    .dataframe tbody tr th:only-of-type {\n",
       "        vertical-align: middle;\n",
       "    }\n",
       "\n",
       "    .dataframe tbody tr th {\n",
       "        vertical-align: top;\n",
       "    }\n",
       "\n",
       "    .dataframe thead th {\n",
       "        text-align: right;\n",
       "    }\n",
       "</style>\n",
       "<table border=\"1\" class=\"dataframe\">\n",
       "  <thead>\n",
       "    <tr style=\"text-align: right;\">\n",
       "      <th></th>\n",
       "      <th>order_time</th>\n",
       "      <th>order_id</th>\n",
       "      <th>order_date</th>\n",
       "      <th>allot_time</th>\n",
       "      <th>accept_time</th>\n",
       "      <th>pickup_time</th>\n",
       "      <th>delivered_time</th>\n",
       "      <th>rider_id</th>\n",
       "      <th>first_mile_distance</th>\n",
       "      <th>last_mile_distance</th>\n",
       "      <th>alloted_orders</th>\n",
       "      <th>delivered_orders</th>\n",
       "      <th>cancelled</th>\n",
       "      <th>undelivered_orders</th>\n",
       "      <th>lifetime_order_count</th>\n",
       "      <th>reassignment_method</th>\n",
       "      <th>reassignment_reason</th>\n",
       "      <th>reassigned_order</th>\n",
       "      <th>session_time</th>\n",
       "      <th>cancelled_time</th>\n",
       "    </tr>\n",
       "  </thead>\n",
       "  <tbody>\n",
       "    <tr>\n",
       "      <th>0</th>\n",
       "      <td>2021-01-26 02:21:35</td>\n",
       "      <td>556753</td>\n",
       "      <td>2021-01-26 00:00:00</td>\n",
       "      <td>2021-01-26 02:21:59</td>\n",
       "      <td>2021-01-26 02:22:08</td>\n",
       "      <td>2021-01-26 02:32:51</td>\n",
       "      <td>2021-01-26 02:49:47</td>\n",
       "      <td>11696</td>\n",
       "      <td>1.566406</td>\n",
       "      <td>2.650391</td>\n",
       "      <td>46.0</td>\n",
       "      <td>46.0</td>\n",
       "      <td>0</td>\n",
       "      <td>0.0</td>\n",
       "      <td>621.0</td>\n",
       "      <td>NaN</td>\n",
       "      <td>NaN</td>\n",
       "      <td>NaN</td>\n",
       "      <td>NaN</td>\n",
       "      <td>NaN</td>\n",
       "    </tr>\n",
       "    <tr>\n",
       "      <th>1</th>\n",
       "      <td>2021-01-26 02:33:16</td>\n",
       "      <td>556754</td>\n",
       "      <td>2021-01-26 00:00:00</td>\n",
       "      <td>2021-01-26 02:33:57</td>\n",
       "      <td>2021-01-26 02:34:45</td>\n",
       "      <td>2021-01-26 02:50:25</td>\n",
       "      <td>2021-01-26 03:11:15</td>\n",
       "      <td>18117</td>\n",
       "      <td>2.521484</td>\n",
       "      <td>2.759766</td>\n",
       "      <td>8.0</td>\n",
       "      <td>8.0</td>\n",
       "      <td>0</td>\n",
       "      <td>0.0</td>\n",
       "      <td>105.0</td>\n",
       "      <td>NaN</td>\n",
       "      <td>NaN</td>\n",
       "      <td>NaN</td>\n",
       "      <td>3.267578</td>\n",
       "      <td>NaN</td>\n",
       "    </tr>\n",
       "    <tr>\n",
       "      <th>2</th>\n",
       "      <td>2021-01-26 02:39:49</td>\n",
       "      <td>556755</td>\n",
       "      <td>2021-01-26 00:00:00</td>\n",
       "      <td>2021-01-26 02:39:57</td>\n",
       "      <td>2021-01-26 02:40:13</td>\n",
       "      <td>2021-01-26 02:56:00</td>\n",
       "      <td>2021-01-26 03:12:46</td>\n",
       "      <td>18623</td>\n",
       "      <td>2.207031</td>\n",
       "      <td>4.800781</td>\n",
       "      <td>1.0</td>\n",
       "      <td>1.0</td>\n",
       "      <td>0</td>\n",
       "      <td>0.0</td>\n",
       "      <td>66.0</td>\n",
       "      <td>NaN</td>\n",
       "      <td>NaN</td>\n",
       "      <td>NaN</td>\n",
       "      <td>9.820312</td>\n",
       "      <td>NaN</td>\n",
       "    </tr>\n",
       "    <tr>\n",
       "      <th>3</th>\n",
       "      <td>2021-01-26 02:47:53</td>\n",
       "      <td>556756</td>\n",
       "      <td>2021-01-26 00:00:00</td>\n",
       "      <td>2021-01-26 02:48:25</td>\n",
       "      <td>2021-01-26 02:49:06</td>\n",
       "      <td>2021-01-26 03:21:51</td>\n",
       "      <td>2021-01-26 03:41:05</td>\n",
       "      <td>15945</td>\n",
       "      <td>2.189453</td>\n",
       "      <td>6.378906</td>\n",
       "      <td>1.0</td>\n",
       "      <td>1.0</td>\n",
       "      <td>0</td>\n",
       "      <td>0.0</td>\n",
       "      <td>127.0</td>\n",
       "      <td>NaN</td>\n",
       "      <td>NaN</td>\n",
       "      <td>NaN</td>\n",
       "      <td>17.531250</td>\n",
       "      <td>NaN</td>\n",
       "    </tr>\n",
       "    <tr>\n",
       "      <th>4</th>\n",
       "      <td>2021-01-26 03:06:30</td>\n",
       "      <td>556757</td>\n",
       "      <td>2021-01-26 00:00:00</td>\n",
       "      <td>2021-01-26 03:07:21</td>\n",
       "      <td>2021-01-26 03:07:57</td>\n",
       "      <td>2021-01-26 03:31:38</td>\n",
       "      <td>2021-01-26 04:00:15</td>\n",
       "      <td>17589</td>\n",
       "      <td>2.787109</td>\n",
       "      <td>4.011719</td>\n",
       "      <td>34.0</td>\n",
       "      <td>34.0</td>\n",
       "      <td>0</td>\n",
       "      <td>0.0</td>\n",
       "      <td>84.0</td>\n",
       "      <td>NaN</td>\n",
       "      <td>NaN</td>\n",
       "      <td>NaN</td>\n",
       "      <td>1.349609</td>\n",
       "      <td>NaN</td>\n",
       "    </tr>\n",
       "    <tr>\n",
       "      <th>5</th>\n",
       "      <td>2021-01-26 03:07:16</td>\n",
       "      <td>556758</td>\n",
       "      <td>2021-01-26 00:00:00</td>\n",
       "      <td>2021-01-26 03:12:14</td>\n",
       "      <td>2021-01-26 03:12:27</td>\n",
       "      <td>2021-01-26 03:25:36</td>\n",
       "      <td>2021-01-26 03:45:51</td>\n",
       "      <td>1469</td>\n",
       "      <td>2.482422</td>\n",
       "      <td>5.179688</td>\n",
       "      <td>296.0</td>\n",
       "      <td>294.0</td>\n",
       "      <td>0</td>\n",
       "      <td>2.0</td>\n",
       "      <td>1506.0</td>\n",
       "      <td>NaN</td>\n",
       "      <td>NaN</td>\n",
       "      <td>NaN</td>\n",
       "      <td>NaN</td>\n",
       "      <td>NaN</td>\n",
       "    </tr>\n",
       "    <tr>\n",
       "      <th>6</th>\n",
       "      <td>2021-01-26 03:10:50</td>\n",
       "      <td>556759</td>\n",
       "      <td>2021-01-26 00:00:00</td>\n",
       "      <td>2021-01-26 03:11:18</td>\n",
       "      <td>2021-01-26 03:12:05</td>\n",
       "      <td>2021-01-26 03:19:31</td>\n",
       "      <td>2021-01-26 03:26:04</td>\n",
       "      <td>8851</td>\n",
       "      <td>2.808594</td>\n",
       "      <td>3.400391</td>\n",
       "      <td>45.0</td>\n",
       "      <td>45.0</td>\n",
       "      <td>0</td>\n",
       "      <td>0.0</td>\n",
       "      <td>1460.0</td>\n",
       "      <td>NaN</td>\n",
       "      <td>NaN</td>\n",
       "      <td>NaN</td>\n",
       "      <td>NaN</td>\n",
       "      <td>NaN</td>\n",
       "    </tr>\n",
       "    <tr>\n",
       "      <th>7</th>\n",
       "      <td>2021-01-26 03:14:10</td>\n",
       "      <td>556760</td>\n",
       "      <td>2021-01-26 00:00:00</td>\n",
       "      <td>2021-01-26 03:14:38</td>\n",
       "      <td>2021-01-26 03:14:44</td>\n",
       "      <td>2021-01-26 03:33:53</td>\n",
       "      <td>2021-01-26 03:42:38</td>\n",
       "      <td>8493</td>\n",
       "      <td>0.025681</td>\n",
       "      <td>0.160034</td>\n",
       "      <td>54.0</td>\n",
       "      <td>53.0</td>\n",
       "      <td>0</td>\n",
       "      <td>1.0</td>\n",
       "      <td>270.0</td>\n",
       "      <td>NaN</td>\n",
       "      <td>NaN</td>\n",
       "      <td>NaN</td>\n",
       "      <td>44.156250</td>\n",
       "      <td>NaN</td>\n",
       "    </tr>\n",
       "    <tr>\n",
       "      <th>8</th>\n",
       "      <td>2021-01-26 03:14:20</td>\n",
       "      <td>556761</td>\n",
       "      <td>2021-01-26 00:00:00</td>\n",
       "      <td>2021-01-26 03:14:50</td>\n",
       "      <td>2021-01-26 03:15:14</td>\n",
       "      <td>2021-01-26 04:00:02</td>\n",
       "      <td>2021-01-26 04:13:31</td>\n",
       "      <td>11543</td>\n",
       "      <td>2.443359</td>\n",
       "      <td>2.859375</td>\n",
       "      <td>29.0</td>\n",
       "      <td>29.0</td>\n",
       "      <td>0</td>\n",
       "      <td>0.0</td>\n",
       "      <td>955.0</td>\n",
       "      <td>NaN</td>\n",
       "      <td>NaN</td>\n",
       "      <td>NaN</td>\n",
       "      <td>2.500000</td>\n",
       "      <td>NaN</td>\n",
       "    </tr>\n",
       "    <tr>\n",
       "      <th>9</th>\n",
       "      <td>2021-01-26 03:15:18</td>\n",
       "      <td>556762</td>\n",
       "      <td>2021-01-26 00:00:00</td>\n",
       "      <td>2021-01-26 03:21:27</td>\n",
       "      <td>2021-01-26 03:22:04</td>\n",
       "      <td>2021-01-26 04:14:56</td>\n",
       "      <td>2021-01-26 04:38:39</td>\n",
       "      <td>21037</td>\n",
       "      <td>2.878906</td>\n",
       "      <td>2.609375</td>\n",
       "      <td>NaN</td>\n",
       "      <td>NaN</td>\n",
       "      <td>0</td>\n",
       "      <td>NaN</td>\n",
       "      <td>1.0</td>\n",
       "      <td>auto</td>\n",
       "      <td>Reassignment Request from SE portal.</td>\n",
       "      <td>1.0</td>\n",
       "      <td>NaN</td>\n",
       "      <td>NaN</td>\n",
       "    </tr>\n",
       "  </tbody>\n",
       "</table>\n",
       "</div>"
      ],
      "text/plain": [
       "            order_time  order_id           order_date           allot_time  \\\n",
       "0  2021-01-26 02:21:35    556753  2021-01-26 00:00:00  2021-01-26 02:21:59   \n",
       "1  2021-01-26 02:33:16    556754  2021-01-26 00:00:00  2021-01-26 02:33:57   \n",
       "2  2021-01-26 02:39:49    556755  2021-01-26 00:00:00  2021-01-26 02:39:57   \n",
       "3  2021-01-26 02:47:53    556756  2021-01-26 00:00:00  2021-01-26 02:48:25   \n",
       "4  2021-01-26 03:06:30    556757  2021-01-26 00:00:00  2021-01-26 03:07:21   \n",
       "5  2021-01-26 03:07:16    556758  2021-01-26 00:00:00  2021-01-26 03:12:14   \n",
       "6  2021-01-26 03:10:50    556759  2021-01-26 00:00:00  2021-01-26 03:11:18   \n",
       "7  2021-01-26 03:14:10    556760  2021-01-26 00:00:00  2021-01-26 03:14:38   \n",
       "8  2021-01-26 03:14:20    556761  2021-01-26 00:00:00  2021-01-26 03:14:50   \n",
       "9  2021-01-26 03:15:18    556762  2021-01-26 00:00:00  2021-01-26 03:21:27   \n",
       "\n",
       "           accept_time          pickup_time       delivered_time  rider_id  \\\n",
       "0  2021-01-26 02:22:08  2021-01-26 02:32:51  2021-01-26 02:49:47     11696   \n",
       "1  2021-01-26 02:34:45  2021-01-26 02:50:25  2021-01-26 03:11:15     18117   \n",
       "2  2021-01-26 02:40:13  2021-01-26 02:56:00  2021-01-26 03:12:46     18623   \n",
       "3  2021-01-26 02:49:06  2021-01-26 03:21:51  2021-01-26 03:41:05     15945   \n",
       "4  2021-01-26 03:07:57  2021-01-26 03:31:38  2021-01-26 04:00:15     17589   \n",
       "5  2021-01-26 03:12:27  2021-01-26 03:25:36  2021-01-26 03:45:51      1469   \n",
       "6  2021-01-26 03:12:05  2021-01-26 03:19:31  2021-01-26 03:26:04      8851   \n",
       "7  2021-01-26 03:14:44  2021-01-26 03:33:53  2021-01-26 03:42:38      8493   \n",
       "8  2021-01-26 03:15:14  2021-01-26 04:00:02  2021-01-26 04:13:31     11543   \n",
       "9  2021-01-26 03:22:04  2021-01-26 04:14:56  2021-01-26 04:38:39     21037   \n",
       "\n",
       "   first_mile_distance  last_mile_distance  alloted_orders  delivered_orders  \\\n",
       "0             1.566406            2.650391            46.0              46.0   \n",
       "1             2.521484            2.759766             8.0               8.0   \n",
       "2             2.207031            4.800781             1.0               1.0   \n",
       "3             2.189453            6.378906             1.0               1.0   \n",
       "4             2.787109            4.011719            34.0              34.0   \n",
       "5             2.482422            5.179688           296.0             294.0   \n",
       "6             2.808594            3.400391            45.0              45.0   \n",
       "7             0.025681            0.160034            54.0              53.0   \n",
       "8             2.443359            2.859375            29.0              29.0   \n",
       "9             2.878906            2.609375             NaN               NaN   \n",
       "\n",
       "   cancelled  undelivered_orders  lifetime_order_count reassignment_method  \\\n",
       "0          0                 0.0                 621.0                 NaN   \n",
       "1          0                 0.0                 105.0                 NaN   \n",
       "2          0                 0.0                  66.0                 NaN   \n",
       "3          0                 0.0                 127.0                 NaN   \n",
       "4          0                 0.0                  84.0                 NaN   \n",
       "5          0                 2.0                1506.0                 NaN   \n",
       "6          0                 0.0                1460.0                 NaN   \n",
       "7          0                 1.0                 270.0                 NaN   \n",
       "8          0                 0.0                 955.0                 NaN   \n",
       "9          0                 NaN                   1.0                auto   \n",
       "\n",
       "                    reassignment_reason  reassigned_order  session_time  \\\n",
       "0                                   NaN               NaN           NaN   \n",
       "1                                   NaN               NaN      3.267578   \n",
       "2                                   NaN               NaN      9.820312   \n",
       "3                                   NaN               NaN     17.531250   \n",
       "4                                   NaN               NaN      1.349609   \n",
       "5                                   NaN               NaN           NaN   \n",
       "6                                   NaN               NaN           NaN   \n",
       "7                                   NaN               NaN     44.156250   \n",
       "8                                   NaN               NaN      2.500000   \n",
       "9  Reassignment Request from SE portal.               1.0           NaN   \n",
       "\n",
       "  cancelled_time  \n",
       "0            NaN  \n",
       "1            NaN  \n",
       "2            NaN  \n",
       "3            NaN  \n",
       "4            NaN  \n",
       "5            NaN  \n",
       "6            NaN  \n",
       "7            NaN  \n",
       "8            NaN  \n",
       "9            NaN  "
      ]
     },
     "execution_count": 6,
     "metadata": {},
     "output_type": "execute_result"
    }
   ],
   "source": [
    "data_df.head(10)"
   ]
  },
  {
   "cell_type": "code",
   "execution_count": 7,
   "id": "28de7c21",
   "metadata": {
    "execution": {
     "iopub.execute_input": "2022-02-11T10:07:13.351407Z",
     "iopub.status.busy": "2022-02-11T10:07:13.350460Z",
     "iopub.status.idle": "2022-02-11T10:07:13.353971Z",
     "shell.execute_reply": "2022-02-11T10:07:13.354464Z"
    },
    "papermill": {
     "duration": 0.064067,
     "end_time": "2022-02-11T10:07:13.354629",
     "exception": false,
     "start_time": "2022-02-11T10:07:13.290562",
     "status": "completed"
    },
    "tags": []
   },
   "outputs": [
    {
     "data": {
      "text/html": [
       "<div>\n",
       "<style scoped>\n",
       "    .dataframe tbody tr th:only-of-type {\n",
       "        vertical-align: middle;\n",
       "    }\n",
       "\n",
       "    .dataframe tbody tr th {\n",
       "        vertical-align: top;\n",
       "    }\n",
       "\n",
       "    .dataframe thead th {\n",
       "        text-align: right;\n",
       "    }\n",
       "</style>\n",
       "<table border=\"1\" class=\"dataframe\">\n",
       "  <thead>\n",
       "    <tr style=\"text-align: right;\">\n",
       "      <th></th>\n",
       "      <th>order_time</th>\n",
       "      <th>order_id</th>\n",
       "      <th>order_date</th>\n",
       "      <th>allot_time</th>\n",
       "      <th>accept_time</th>\n",
       "      <th>rider_id</th>\n",
       "      <th>first_mile_distance</th>\n",
       "      <th>last_mile_distance</th>\n",
       "      <th>alloted_orders</th>\n",
       "      <th>delivered_orders</th>\n",
       "      <th>undelivered_orders</th>\n",
       "      <th>lifetime_order_count</th>\n",
       "      <th>reassignment_method</th>\n",
       "      <th>reassignment_reason</th>\n",
       "      <th>reassigned_order</th>\n",
       "      <th>session_time</th>\n",
       "    </tr>\n",
       "  </thead>\n",
       "  <tbody>\n",
       "    <tr>\n",
       "      <th>0</th>\n",
       "      <td>2021-02-06 10:03:24</td>\n",
       "      <td>130231</td>\n",
       "      <td>2021-02-06 00:00:00</td>\n",
       "      <td>2021-02-06 10:03:49</td>\n",
       "      <td>2021-02-06 10:04:15</td>\n",
       "      <td>12884</td>\n",
       "      <td>1.658203</td>\n",
       "      <td>4.539062</td>\n",
       "      <td>216.0</td>\n",
       "      <td>215.0</td>\n",
       "      <td>1.0</td>\n",
       "      <td>747.0</td>\n",
       "      <td>NaN</td>\n",
       "      <td>NaN</td>\n",
       "      <td>NaN</td>\n",
       "      <td>273.5000</td>\n",
       "    </tr>\n",
       "    <tr>\n",
       "      <th>1</th>\n",
       "      <td>2021-02-06 10:03:26</td>\n",
       "      <td>130232</td>\n",
       "      <td>2021-02-06 00:00:00</td>\n",
       "      <td>2021-02-06 10:03:27</td>\n",
       "      <td>2021-02-06 10:03:36</td>\n",
       "      <td>3541</td>\n",
       "      <td>2.070312</td>\n",
       "      <td>5.839844</td>\n",
       "      <td>52.0</td>\n",
       "      <td>52.0</td>\n",
       "      <td>0.0</td>\n",
       "      <td>75.0</td>\n",
       "      <td>NaN</td>\n",
       "      <td>NaN</td>\n",
       "      <td>NaN</td>\n",
       "      <td>252.1250</td>\n",
       "    </tr>\n",
       "    <tr>\n",
       "      <th>2</th>\n",
       "      <td>2021-02-06 10:03:27</td>\n",
       "      <td>130233</td>\n",
       "      <td>2021-02-06 00:00:00</td>\n",
       "      <td>2021-02-06 10:04:14</td>\n",
       "      <td>2021-02-06 10:05:34</td>\n",
       "      <td>603</td>\n",
       "      <td>1.388672</td>\n",
       "      <td>0.990234</td>\n",
       "      <td>289.0</td>\n",
       "      <td>289.0</td>\n",
       "      <td>0.0</td>\n",
       "      <td>2214.0</td>\n",
       "      <td>NaN</td>\n",
       "      <td>NaN</td>\n",
       "      <td>NaN</td>\n",
       "      <td>241.3750</td>\n",
       "    </tr>\n",
       "    <tr>\n",
       "      <th>3</th>\n",
       "      <td>2021-02-06 10:03:29</td>\n",
       "      <td>130234</td>\n",
       "      <td>2021-02-06 00:00:00</td>\n",
       "      <td>2021-02-06 10:03:30</td>\n",
       "      <td>2021-02-06 10:03:53</td>\n",
       "      <td>3414</td>\n",
       "      <td>1.904297</td>\n",
       "      <td>2.589844</td>\n",
       "      <td>125.0</td>\n",
       "      <td>122.0</td>\n",
       "      <td>3.0</td>\n",
       "      <td>1020.0</td>\n",
       "      <td>NaN</td>\n",
       "      <td>NaN</td>\n",
       "      <td>NaN</td>\n",
       "      <td>292.0000</td>\n",
       "    </tr>\n",
       "    <tr>\n",
       "      <th>4</th>\n",
       "      <td>2021-02-06 10:03:35</td>\n",
       "      <td>130235</td>\n",
       "      <td>2021-02-06 00:00:00</td>\n",
       "      <td>2021-02-06 10:03:43</td>\n",
       "      <td>2021-02-06 10:04:43</td>\n",
       "      <td>1426</td>\n",
       "      <td>0.827637</td>\n",
       "      <td>0.939941</td>\n",
       "      <td>352.0</td>\n",
       "      <td>350.0</td>\n",
       "      <td>2.0</td>\n",
       "      <td>7284.0</td>\n",
       "      <td>NaN</td>\n",
       "      <td>NaN</td>\n",
       "      <td>NaN</td>\n",
       "      <td>247.1250</td>\n",
       "    </tr>\n",
       "    <tr>\n",
       "      <th>5</th>\n",
       "      <td>2021-02-06 10:03:39</td>\n",
       "      <td>130237</td>\n",
       "      <td>2021-02-06 00:00:00</td>\n",
       "      <td>2021-02-06 10:04:01</td>\n",
       "      <td>2021-02-06 10:05:29</td>\n",
       "      <td>231</td>\n",
       "      <td>0.879883</td>\n",
       "      <td>5.488281</td>\n",
       "      <td>5.0</td>\n",
       "      <td>5.0</td>\n",
       "      <td>0.0</td>\n",
       "      <td>261.0</td>\n",
       "      <td>NaN</td>\n",
       "      <td>NaN</td>\n",
       "      <td>NaN</td>\n",
       "      <td>184.1250</td>\n",
       "    </tr>\n",
       "    <tr>\n",
       "      <th>6</th>\n",
       "      <td>2021-02-06 10:03:39</td>\n",
       "      <td>130236</td>\n",
       "      <td>2021-02-06 00:00:00</td>\n",
       "      <td>2021-02-06 10:03:39</td>\n",
       "      <td>2021-02-06 10:04:42</td>\n",
       "      <td>3659</td>\n",
       "      <td>0.601074</td>\n",
       "      <td>0.970215</td>\n",
       "      <td>59.0</td>\n",
       "      <td>58.0</td>\n",
       "      <td>1.0</td>\n",
       "      <td>889.0</td>\n",
       "      <td>NaN</td>\n",
       "      <td>NaN</td>\n",
       "      <td>NaN</td>\n",
       "      <td>79.8125</td>\n",
       "    </tr>\n",
       "    <tr>\n",
       "      <th>7</th>\n",
       "      <td>2021-02-06 10:03:41</td>\n",
       "      <td>130238</td>\n",
       "      <td>2021-02-06 00:00:00</td>\n",
       "      <td>2021-02-06 10:04:36</td>\n",
       "      <td>2021-02-06 10:05:02</td>\n",
       "      <td>12896</td>\n",
       "      <td>1.467773</td>\n",
       "      <td>1.450195</td>\n",
       "      <td>178.0</td>\n",
       "      <td>178.0</td>\n",
       "      <td>0.0</td>\n",
       "      <td>348.0</td>\n",
       "      <td>NaN</td>\n",
       "      <td>NaN</td>\n",
       "      <td>NaN</td>\n",
       "      <td>211.7500</td>\n",
       "    </tr>\n",
       "    <tr>\n",
       "      <th>8</th>\n",
       "      <td>2021-02-06 10:03:43</td>\n",
       "      <td>130239</td>\n",
       "      <td>2021-02-06 00:00:00</td>\n",
       "      <td>2021-02-06 10:03:45</td>\n",
       "      <td>2021-02-06 10:04:37</td>\n",
       "      <td>12863</td>\n",
       "      <td>1.833984</td>\n",
       "      <td>1.230469</td>\n",
       "      <td>30.0</td>\n",
       "      <td>30.0</td>\n",
       "      <td>0.0</td>\n",
       "      <td>87.0</td>\n",
       "      <td>NaN</td>\n",
       "      <td>NaN</td>\n",
       "      <td>NaN</td>\n",
       "      <td>208.0000</td>\n",
       "    </tr>\n",
       "    <tr>\n",
       "      <th>9</th>\n",
       "      <td>2021-02-06 10:03:43</td>\n",
       "      <td>130240</td>\n",
       "      <td>2021-02-06 00:00:00</td>\n",
       "      <td>2021-02-06 10:04:24</td>\n",
       "      <td>2021-02-06 10:04:37</td>\n",
       "      <td>12840</td>\n",
       "      <td>2.279297</td>\n",
       "      <td>2.419922</td>\n",
       "      <td>81.0</td>\n",
       "      <td>81.0</td>\n",
       "      <td>0.0</td>\n",
       "      <td>1470.0</td>\n",
       "      <td>NaN</td>\n",
       "      <td>NaN</td>\n",
       "      <td>NaN</td>\n",
       "      <td>213.0000</td>\n",
       "    </tr>\n",
       "  </tbody>\n",
       "</table>\n",
       "</div>"
      ],
      "text/plain": [
       "            order_time  order_id           order_date           allot_time  \\\n",
       "0  2021-02-06 10:03:24    130231  2021-02-06 00:00:00  2021-02-06 10:03:49   \n",
       "1  2021-02-06 10:03:26    130232  2021-02-06 00:00:00  2021-02-06 10:03:27   \n",
       "2  2021-02-06 10:03:27    130233  2021-02-06 00:00:00  2021-02-06 10:04:14   \n",
       "3  2021-02-06 10:03:29    130234  2021-02-06 00:00:00  2021-02-06 10:03:30   \n",
       "4  2021-02-06 10:03:35    130235  2021-02-06 00:00:00  2021-02-06 10:03:43   \n",
       "5  2021-02-06 10:03:39    130237  2021-02-06 00:00:00  2021-02-06 10:04:01   \n",
       "6  2021-02-06 10:03:39    130236  2021-02-06 00:00:00  2021-02-06 10:03:39   \n",
       "7  2021-02-06 10:03:41    130238  2021-02-06 00:00:00  2021-02-06 10:04:36   \n",
       "8  2021-02-06 10:03:43    130239  2021-02-06 00:00:00  2021-02-06 10:03:45   \n",
       "9  2021-02-06 10:03:43    130240  2021-02-06 00:00:00  2021-02-06 10:04:24   \n",
       "\n",
       "           accept_time  rider_id  first_mile_distance  last_mile_distance  \\\n",
       "0  2021-02-06 10:04:15     12884             1.658203            4.539062   \n",
       "1  2021-02-06 10:03:36      3541             2.070312            5.839844   \n",
       "2  2021-02-06 10:05:34       603             1.388672            0.990234   \n",
       "3  2021-02-06 10:03:53      3414             1.904297            2.589844   \n",
       "4  2021-02-06 10:04:43      1426             0.827637            0.939941   \n",
       "5  2021-02-06 10:05:29       231             0.879883            5.488281   \n",
       "6  2021-02-06 10:04:42      3659             0.601074            0.970215   \n",
       "7  2021-02-06 10:05:02     12896             1.467773            1.450195   \n",
       "8  2021-02-06 10:04:37     12863             1.833984            1.230469   \n",
       "9  2021-02-06 10:04:37     12840             2.279297            2.419922   \n",
       "\n",
       "   alloted_orders  delivered_orders  undelivered_orders  lifetime_order_count  \\\n",
       "0           216.0             215.0                 1.0                 747.0   \n",
       "1            52.0              52.0                 0.0                  75.0   \n",
       "2           289.0             289.0                 0.0                2214.0   \n",
       "3           125.0             122.0                 3.0                1020.0   \n",
       "4           352.0             350.0                 2.0                7284.0   \n",
       "5             5.0               5.0                 0.0                 261.0   \n",
       "6            59.0              58.0                 1.0                 889.0   \n",
       "7           178.0             178.0                 0.0                 348.0   \n",
       "8            30.0              30.0                 0.0                  87.0   \n",
       "9            81.0              81.0                 0.0                1470.0   \n",
       "\n",
       "  reassignment_method reassignment_reason  reassigned_order  session_time  \n",
       "0                 NaN                 NaN               NaN      273.5000  \n",
       "1                 NaN                 NaN               NaN      252.1250  \n",
       "2                 NaN                 NaN               NaN      241.3750  \n",
       "3                 NaN                 NaN               NaN      292.0000  \n",
       "4                 NaN                 NaN               NaN      247.1250  \n",
       "5                 NaN                 NaN               NaN      184.1250  \n",
       "6                 NaN                 NaN               NaN       79.8125  \n",
       "7                 NaN                 NaN               NaN      211.7500  \n",
       "8                 NaN                 NaN               NaN      208.0000  \n",
       "9                 NaN                 NaN               NaN      213.0000  "
      ]
     },
     "execution_count": 7,
     "metadata": {},
     "output_type": "execute_result"
    }
   ],
   "source": [
    "test_df.head(10)"
   ]
  },
  {
   "cell_type": "code",
   "execution_count": 8,
   "id": "c1c58382",
   "metadata": {
    "execution": {
     "iopub.execute_input": "2022-02-11T10:07:13.775565Z",
     "iopub.status.busy": "2022-02-11T10:07:13.774450Z",
     "iopub.status.idle": "2022-02-11T10:07:13.822224Z",
     "shell.execute_reply": "2022-02-11T10:07:13.821575Z"
    },
    "papermill": {
     "duration": 0.43206,
     "end_time": "2022-02-11T10:07:13.822371",
     "exception": false,
     "start_time": "2022-02-11T10:07:13.390311",
     "status": "completed"
    },
    "tags": []
   },
   "outputs": [
    {
     "name": "stdout",
     "output_type": "stream",
     "text": [
      "<class 'pandas.core.frame.DataFrame'>\n",
      "RangeIndex: 450000 entries, 0 to 449999\n",
      "Data columns (total 20 columns):\n",
      " #   Column                Non-Null Count   Dtype  \n",
      "---  ------                --------------   -----  \n",
      " 0   order_time            450000 non-null  object \n",
      " 1   order_id              450000 non-null  int32  \n",
      " 2   order_date            450000 non-null  object \n",
      " 3   allot_time            450000 non-null  object \n",
      " 4   accept_time           449843 non-null  object \n",
      " 5   pickup_time           447579 non-null  object \n",
      " 6   delivered_time        444782 non-null  object \n",
      " 7   rider_id              450000 non-null  int16  \n",
      " 8   first_mile_distance   450000 non-null  float16\n",
      " 9   last_mile_distance    450000 non-null  float16\n",
      " 10  alloted_orders        433052 non-null  float16\n",
      " 11  delivered_orders      432659 non-null  float16\n",
      " 12  cancelled             450000 non-null  int16  \n",
      " 13  undelivered_orders    432659 non-null  float16\n",
      " 14  lifetime_order_count  449947 non-null  float16\n",
      " 15  reassignment_method   13744 non-null   object \n",
      " 16  reassignment_reason   13753 non-null   object \n",
      " 17  reassigned_order      13753 non-null   float16\n",
      " 18  session_time          446325 non-null  float16\n",
      " 19  cancelled_time        5218 non-null    object \n",
      "dtypes: float16(8), int16(2), int32(1), object(9)\n",
      "memory usage: 41.2+ MB\n"
     ]
    }
   ],
   "source": [
    "data_df.info()"
   ]
  },
  {
   "cell_type": "code",
   "execution_count": 9,
   "id": "c20588e2",
   "metadata": {
    "execution": {
     "iopub.execute_input": "2022-02-11T10:07:13.974171Z",
     "iopub.status.busy": "2022-02-11T10:07:13.973125Z",
     "iopub.status.idle": "2022-02-11T10:07:13.994878Z",
     "shell.execute_reply": "2022-02-11T10:07:13.996136Z"
    },
    "papermill": {
     "duration": 0.137535,
     "end_time": "2022-02-11T10:07:13.996410",
     "exception": false,
     "start_time": "2022-02-11T10:07:13.858875",
     "status": "completed"
    },
    "tags": []
   },
   "outputs": [
    {
     "name": "stdout",
     "output_type": "stream",
     "text": [
      "<class 'pandas.core.frame.DataFrame'>\n",
      "RangeIndex: 144844 entries, 0 to 144843\n",
      "Data columns (total 16 columns):\n",
      " #   Column                Non-Null Count   Dtype  \n",
      "---  ------                --------------   -----  \n",
      " 0   order_time            144844 non-null  object \n",
      " 1   order_id              144844 non-null  int32  \n",
      " 2   order_date            144844 non-null  object \n",
      " 3   allot_time            144844 non-null  object \n",
      " 4   accept_time           144776 non-null  object \n",
      " 5   rider_id              144844 non-null  int16  \n",
      " 6   first_mile_distance   144844 non-null  float16\n",
      " 7   last_mile_distance    144844 non-null  float16\n",
      " 8   alloted_orders        140071 non-null  float16\n",
      " 9   delivered_orders      139960 non-null  float16\n",
      " 10  undelivered_orders    139960 non-null  float16\n",
      " 11  lifetime_order_count  144066 non-null  float16\n",
      " 12  reassignment_method   4632 non-null    object \n",
      " 13  reassignment_reason   4635 non-null    object \n",
      " 14  reassigned_order      4635 non-null    float16\n",
      " 15  session_time          139790 non-null  float16\n",
      "dtypes: float16(8), int16(1), int32(1), object(6)\n",
      "memory usage: 9.7+ MB\n"
     ]
    }
   ],
   "source": [
    "test_df.info()"
   ]
  },
  {
   "cell_type": "code",
   "execution_count": 10,
   "id": "4e9163dd",
   "metadata": {
    "execution": {
     "iopub.execute_input": "2022-02-11T10:07:14.075011Z",
     "iopub.status.busy": "2022-02-11T10:07:14.074065Z",
     "iopub.status.idle": "2022-02-11T10:07:15.523919Z",
     "shell.execute_reply": "2022-02-11T10:07:15.523339Z"
    },
    "papermill": {
     "duration": 1.489781,
     "end_time": "2022-02-11T10:07:15.524078",
     "exception": false,
     "start_time": "2022-02-11T10:07:14.034297",
     "status": "completed"
    },
    "tags": []
   },
   "outputs": [
    {
     "data": {
      "text/plain": [
       "<AxesSubplot:>"
      ]
     },
     "execution_count": 10,
     "metadata": {},
     "output_type": "execute_result"
    },
    {
     "data": {
      "image/png": "[encoded data removed]",
      "text/plain": [
       "<Figure size 720x720 with 1 Axes>"
      ]
     },
     "metadata": {
      "needs_background": "light"
     },
     "output_type": "display_data"
    }
   ],
   "source": [
    "x = data_df[~np.isnan(data_df.lifetime_order_count)].lifetime_order_count.quantile(1)\n",
    "plt.figure(figsize = (10,10))\n",
    "data_df[~np.isnan(data_df.lifetime_order_count)][['lifetime_order_count']][data_df[~np.isnan(data_df.lifetime_order_count)][['lifetime_order_count']] <= x].boxplot(column = ['lifetime_order_count'])"
   ]
  },
  {
   "cell_type": "code",
   "execution_count": 11,
   "id": "e263e09f",
   "metadata": {
    "execution": {
     "iopub.execute_input": "2022-02-11T10:07:15.604537Z",
     "iopub.status.busy": "2022-02-11T10:07:15.603892Z",
     "iopub.status.idle": "2022-02-11T10:07:16.909682Z",
     "shell.execute_reply": "2022-02-11T10:07:16.908975Z"
    },
    "papermill": {
     "duration": 1.346775,
     "end_time": "2022-02-11T10:07:16.909837",
     "exception": false,
     "start_time": "2022-02-11T10:07:15.563062",
     "status": "completed"
    },
    "tags": []
   },
   "outputs": [
    {
     "data": {
      "text/plain": [
       "<AxesSubplot:>"
      ]
     },
     "execution_count": 11,
     "metadata": {},
     "output_type": "execute_result"
    },
    {
     "data": {
      "image/png": "[encoded data removed]",
      "text/plain": [
       "<Figure size 720x720 with 1 Axes>"
      ]
     },
     "metadata": {
      "needs_background": "light"
     },
     "output_type": "display_data"
    }
   ],
   "source": [
    "x = data_df[~np.isnan(data_df.undelivered_orders)].undelivered_orders.quantile(1)\n",
    "plt.figure(figsize = (10,10))\n",
    "data_df[~np.isnan(data_df.undelivered_orders)][['undelivered_orders']][data_df[~np.isnan(data_df.undelivered_orders)][['undelivered_orders']] <= x].boxplot(column = ['undelivered_orders'])"
   ]
  },
  {
   "cell_type": "code",
   "execution_count": 12,
   "id": "7b75b978",
   "metadata": {
    "execution": {
     "iopub.execute_input": "2022-02-11T10:07:17.000841Z",
     "iopub.status.busy": "2022-02-11T10:07:16.999704Z",
     "iopub.status.idle": "2022-02-11T10:07:18.329206Z",
     "shell.execute_reply": "2022-02-11T10:07:18.328515Z"
    },
    "papermill": {
     "duration": 1.379435,
     "end_time": "2022-02-11T10:07:18.329349",
     "exception": false,
     "start_time": "2022-02-11T10:07:16.949914",
     "status": "completed"
    },
    "tags": []
   },
   "outputs": [
    {
     "data": {
      "text/plain": [
       "<AxesSubplot:>"
      ]
     },
     "execution_count": 12,
     "metadata": {},
     "output_type": "execute_result"
    },
    {
     "data": {
      "image/png": "[encoded data removed]",
      "text/plain": [
       "<Figure size 720x720 with 1 Axes>"
      ]
     },
     "metadata": {
      "needs_background": "light"
     },
     "output_type": "display_data"
    }
   ],
   "source": [
    "x = data_df[~np.isnan(data_df.delivered_orders)].delivered_orders.quantile(1)\n",
    "plt.figure(figsize = (10,10))\n",
    "data_df[~np.isnan(data_df.delivered_orders)][['delivered_orders']][data_df[~np.isnan(data_df.delivered_orders)][['delivered_orders']] <= x].boxplot(column = ['delivered_orders'])"
   ]
  },
  {
   "cell_type": "code",
   "execution_count": 13,
   "id": "ed73e4a8",
   "metadata": {
    "execution": {
     "iopub.execute_input": "2022-02-11T10:07:18.419435Z",
     "iopub.status.busy": "2022-02-11T10:07:18.415879Z",
     "iopub.status.idle": "2022-02-11T10:07:19.723874Z",
     "shell.execute_reply": "2022-02-11T10:07:19.723170Z"
    },
    "papermill": {
     "duration": 1.353201,
     "end_time": "2022-02-11T10:07:19.724020",
     "exception": false,
     "start_time": "2022-02-11T10:07:18.370819",
     "status": "completed"
    },
    "tags": []
   },
   "outputs": [
    {
     "data": {
      "text/plain": [
       "<AxesSubplot:>"
      ]
     },
     "execution_count": 13,
     "metadata": {},
     "output_type": "execute_result"
    },
    {
     "data": {
      "image/png": "[encoded data removed]",
      "text/plain": [
       "<Figure size 720x720 with 1 Axes>"
      ]
     },
     "metadata": {
      "needs_background": "light"
     },
     "output_type": "display_data"
    }
   ],
   "source": [
    "#alloted_orders\n",
    "x = data_df[~np.isnan(data_df.alloted_orders)].alloted_orders.quantile(1)\n",
    "plt.figure(figsize = (10,10))\n",
    "data_df[~np.isnan(data_df.alloted_orders)][['alloted_orders']][data_df[~np.isnan(data_df.alloted_orders)][['alloted_orders']] <= x].boxplot(column = ['alloted_orders'])"
   ]
  },
  {
   "cell_type": "code",
   "execution_count": 14,
   "id": "681a3b1e",
   "metadata": {
    "execution": {
     "iopub.execute_input": "2022-02-11T10:07:19.835840Z",
     "iopub.status.busy": "2022-02-11T10:07:19.835096Z",
     "iopub.status.idle": "2022-02-11T10:07:19.838090Z",
     "shell.execute_reply": "2022-02-11T10:07:19.837475Z"
    },
    "papermill": {
     "duration": 0.071279,
     "end_time": "2022-02-11T10:07:19.838248",
     "exception": false,
     "start_time": "2022-02-11T10:07:19.766969",
     "status": "completed"
    },
    "tags": []
   },
   "outputs": [],
   "source": [
    "def get_features(df ,test = False ,normalize = False):\n",
    "    if test :\n",
    "        df = df[['order_time','order_id','allot_time','accept_time','first_mile_distance', 'last_mile_distance','alloted_orders', 'delivered_orders', 'undelivered_orders','lifetime_order_count' ,'session_time' ,'reassigned_order']]\n",
    "    else:    \n",
    "        df = df[['order_time','allot_time','accept_time','first_mile_distance', 'last_mile_distance','alloted_orders', 'delivered_orders', 'undelivered_orders','lifetime_order_count' , 'session_time','reassigned_order']]\n",
    "    days = ['Monday' , 'Saturday' , 'Sunday' , 'Thursday' , 'Tuesday', 'Wednesday' ,'Friday']\n",
    "    for i in df.columns[5:]:\n",
    "        #print(i)\n",
    "        #print(df[[i]][~np.isnan(df[i])][i].quantile(0.5))\n",
    "        if i == 'reassigned_order':\n",
    "            df[[i]] = df[[i]].fillna(0)\n",
    "            continue\n",
    "        df[[i]] = df[[i]].fillna(df[[i]][~np.isnan(df[i])][i].quantile(0.5) )\n",
    "    ## Processing Date \n",
    "    df.order_time = pd.to_datetime(df.order_time ,yearfirst =True)\n",
    "    df.allot_time = pd.to_datetime(df.allot_time ,yearfirst =True)\n",
    "    df.accept_time = pd.to_datetime(df.accept_time ,yearfirst =True)\n",
    "    df['elapse1'] = (df.allot_time - df.order_time).dt.total_seconds()\n",
    "    df['elapse2'] = (df.accept_time - df.allot_time).dt.total_seconds()\n",
    "    df['elapse3'] = df['elapse1'] + df['elapse2']\n",
    "    df[['elapse1']] = df[['elapse1']].fillna(df[['elapse1']][~np.isnan(df['elapse1'])]['elapse1'].quantile(0.5) )\n",
    "    df[['elapse2']] = df[['elapse2']].fillna(df[['elapse2']][~np.isnan(df['elapse2'])]['elapse2'].quantile(0.5) )\n",
    "    df[['elapse3']] = df[['elapse3']].fillna(df[['elapse3']][~np.isnan(df['elapse3'])]['elapse3'].quantile(0.5) )\n",
    "    df['elapse4'] = df['elapse2']/df['elapse1']\n",
    "    df['tot_dist'] = df['first_mile_distance'] + df['last_mile_distance']\n",
    "    df['del_ratio'] = df['delivered_orders']/df['alloted_orders']\n",
    "    df['order_ratio'] = df['alloted_orders']/df['lifetime_order_count']\n",
    "    df['diff_dist'] = df['first_mile_distance'] - df['last_mile_distance']\n",
    "    df['dist_ratio'] = df['first_mile_distance']/df['last_mile_distance']\n",
    "    #df[['dist_ratio']] = df[['dist_ratio']].astype(np.float16)\n",
    "    df['dist_ratio_2'] = df['last_mile_distance']/df['first_mile_distance']\n",
    "    df['Day_of_the_week'] = df.order_time.dt.day_name()\n",
    "    df['Hour'] = df.order_time.dt.hour\n",
    "    df['Month'] = df.order_time.dt.month\n",
    "    df.drop(columns = ['order_time'] ,inplace =True)\n",
    "    df = pd.concat([df,pd.get_dummies(df['Day_of_the_week']).astype(int)] ,axis = 1)\n",
    "    df.drop(columns = [ 'Day_of_the_week' ,'allot_time' , 'accept_time'] ,inplace = True) #'Day_of_the_week' ,\n",
    "    for i in days:\n",
    "        if i not in df.columns:\n",
    "            df[i] = 0\n",
    "    if normalize:\n",
    "        df[['first_mile_distance','elapse1','elapse2', 'last_mile_distance','tot_dist','alloted_orders', 'delivered_orders','del_ratio','undelivered_orders','lifetime_order_count','Hour','session_time','dist_ratio']] = StandardScaler().fit_transform(df[['first_mile_distance','elapse1','elapse2', 'last_mile_distance','tot_dist','alloted_orders', 'delivered_orders','del_ratio','undelivered_orders','lifetime_order_count','Hour','session_time','dist_ratio']])\n",
    "    if test:        \n",
    "        df = df[['order_id','first_mile_distance','elapse1','elapse2', 'last_mile_distance','tot_dist','alloted_orders', 'delivered_orders','del_ratio','undelivered_orders','lifetime_order_count','Hour','session_time','Monday' , 'Saturday' , 'Sunday' , 'Thursday' , 'Tuesday', 'Wednesday','dist_ratio']]   #'Monday' , 'Saturday' , 'Sunday' , 'Thursday' , 'Tuesday', 'Wednesday'\n",
    "    else:\n",
    "        df = df[['first_mile_distance','elapse1','elapse2', 'last_mile_distance','tot_dist','alloted_orders', 'delivered_orders','del_ratio','undelivered_orders','lifetime_order_count','Hour','session_time','Monday' , 'Saturday' , 'Sunday' , 'Thursday' , 'Tuesday', 'Wednesday','dist_ratio']] #'undelivered_orders'  #,'del_ratio'  #,'order_ratio' #,'order_ratio' #,'diff_dist' #,'reassigned_order'#,'dist_ratio_2'#,'Hour'#,'Month'#,'tot_dist'\n",
    "    df = reduce_mem_usage(df)\n",
    "    return df"
   ]
  },
  {
   "cell_type": "code",
   "execution_count": 15,
   "id": "a4e761ab",
   "metadata": {
    "execution": {
     "iopub.execute_input": "2022-02-11T10:07:19.930032Z",
     "iopub.status.busy": "2022-02-11T10:07:19.929329Z",
     "iopub.status.idle": "2022-02-11T10:07:21.891817Z",
     "shell.execute_reply": "2022-02-11T10:07:21.891179Z"
    },
    "papermill": {
     "duration": 2.011071,
     "end_time": "2022-02-11T10:07:21.891972",
     "exception": false,
     "start_time": "2022-02-11T10:07:19.880901",
     "status": "completed"
    },
    "tags": []
   },
   "outputs": [
    {
     "name": "stderr",
     "output_type": "stream",
     "text": [
      "/opt/conda/lib/python3.7/site-packages/pandas/core/frame.py:3641: SettingWithCopyWarning: \n",
      "A value is trying to be set on a copy of a slice from a DataFrame.\n",
      "Try using .loc[row_indexer,col_indexer] = value instead\n",
      "\n",
      "See the caveats in the documentation: https://pandas.pydata.org/pandas-docs/stable/user_guide/indexing.html#returning-a-view-versus-a-copy\n",
      "  self[k1] = value[k2]\n",
      "/opt/conda/lib/python3.7/site-packages/pandas/core/generic.py:5516: SettingWithCopyWarning: \n",
      "A value is trying to be set on a copy of a slice from a DataFrame.\n",
      "Try using .loc[row_indexer,col_indexer] = value instead\n",
      "\n",
      "See the caveats in the documentation: https://pandas.pydata.org/pandas-docs/stable/user_guide/indexing.html#returning-a-view-versus-a-copy\n",
      "  self[name] = value\n",
      "/opt/conda/lib/python3.7/site-packages/ipykernel_launcher.py:18: SettingWithCopyWarning: \n",
      "A value is trying to be set on a copy of a slice from a DataFrame.\n",
      "Try using .loc[row_indexer,col_indexer] = value instead\n",
      "\n",
      "See the caveats in the documentation: https://pandas.pydata.org/pandas-docs/stable/user_guide/indexing.html#returning-a-view-versus-a-copy\n",
      "/opt/conda/lib/python3.7/site-packages/ipykernel_launcher.py:19: SettingWithCopyWarning: \n",
      "A value is trying to be set on a copy of a slice from a DataFrame.\n",
      "Try using .loc[row_indexer,col_indexer] = value instead\n",
      "\n",
      "See the caveats in the documentation: https://pandas.pydata.org/pandas-docs/stable/user_guide/indexing.html#returning-a-view-versus-a-copy\n",
      "/opt/conda/lib/python3.7/site-packages/ipykernel_launcher.py:20: SettingWithCopyWarning: \n",
      "A value is trying to be set on a copy of a slice from a DataFrame.\n",
      "Try using .loc[row_indexer,col_indexer] = value instead\n",
      "\n",
      "See the caveats in the documentation: https://pandas.pydata.org/pandas-docs/stable/user_guide/indexing.html#returning-a-view-versus-a-copy\n",
      "/opt/conda/lib/python3.7/site-packages/ipykernel_launcher.py:24: SettingWithCopyWarning: \n",
      "A value is trying to be set on a copy of a slice from a DataFrame.\n",
      "Try using .loc[row_indexer,col_indexer] = value instead\n",
      "\n",
      "See the caveats in the documentation: https://pandas.pydata.org/pandas-docs/stable/user_guide/indexing.html#returning-a-view-versus-a-copy\n",
      "/opt/conda/lib/python3.7/site-packages/ipykernel_launcher.py:25: SettingWithCopyWarning: \n",
      "A value is trying to be set on a copy of a slice from a DataFrame.\n",
      "Try using .loc[row_indexer,col_indexer] = value instead\n",
      "\n",
      "See the caveats in the documentation: https://pandas.pydata.org/pandas-docs/stable/user_guide/indexing.html#returning-a-view-versus-a-copy\n",
      "/opt/conda/lib/python3.7/site-packages/ipykernel_launcher.py:26: SettingWithCopyWarning: \n",
      "A value is trying to be set on a copy of a slice from a DataFrame.\n",
      "Try using .loc[row_indexer,col_indexer] = value instead\n",
      "\n",
      "See the caveats in the documentation: https://pandas.pydata.org/pandas-docs/stable/user_guide/indexing.html#returning-a-view-versus-a-copy\n",
      "/opt/conda/lib/python3.7/site-packages/ipykernel_launcher.py:27: SettingWithCopyWarning: \n",
      "A value is trying to be set on a copy of a slice from a DataFrame.\n",
      "Try using .loc[row_indexer,col_indexer] = value instead\n",
      "\n",
      "See the caveats in the documentation: https://pandas.pydata.org/pandas-docs/stable/user_guide/indexing.html#returning-a-view-versus-a-copy\n",
      "/opt/conda/lib/python3.7/site-packages/ipykernel_launcher.py:28: SettingWithCopyWarning: \n",
      "A value is trying to be set on a copy of a slice from a DataFrame.\n",
      "Try using .loc[row_indexer,col_indexer] = value instead\n",
      "\n",
      "See the caveats in the documentation: https://pandas.pydata.org/pandas-docs/stable/user_guide/indexing.html#returning-a-view-versus-a-copy\n"
     ]
    },
    {
     "name": "stdout",
     "output_type": "stream",
     "text": [
      "Memory usage of dataframe is 39.48 MB\n",
      "Memory usage after optimization is: 18.88 MB\n",
      "Decreased by 52.2%\n"
     ]
    },
    {
     "name": "stderr",
     "output_type": "stream",
     "text": [
      "/opt/conda/lib/python3.7/site-packages/pandas/core/frame.py:3641: SettingWithCopyWarning: \n",
      "A value is trying to be set on a copy of a slice from a DataFrame.\n",
      "Try using .loc[row_indexer,col_indexer] = value instead\n",
      "\n",
      "See the caveats in the documentation: https://pandas.pydata.org/pandas-docs/stable/user_guide/indexing.html#returning-a-view-versus-a-copy\n",
      "  self[k1] = value[k2]\n",
      "/opt/conda/lib/python3.7/site-packages/pandas/core/generic.py:5516: SettingWithCopyWarning: \n",
      "A value is trying to be set on a copy of a slice from a DataFrame.\n",
      "Try using .loc[row_indexer,col_indexer] = value instead\n",
      "\n",
      "See the caveats in the documentation: https://pandas.pydata.org/pandas-docs/stable/user_guide/indexing.html#returning-a-view-versus-a-copy\n",
      "  self[name] = value\n",
      "/opt/conda/lib/python3.7/site-packages/ipykernel_launcher.py:18: SettingWithCopyWarning: \n",
      "A value is trying to be set on a copy of a slice from a DataFrame.\n",
      "Try using .loc[row_indexer,col_indexer] = value instead\n",
      "\n",
      "See the caveats in the documentation: https://pandas.pydata.org/pandas-docs/stable/user_guide/indexing.html#returning-a-view-versus-a-copy\n",
      "/opt/conda/lib/python3.7/site-packages/ipykernel_launcher.py:19: SettingWithCopyWarning: \n",
      "A value is trying to be set on a copy of a slice from a DataFrame.\n",
      "Try using .loc[row_indexer,col_indexer] = value instead\n",
      "\n",
      "See the caveats in the documentation: https://pandas.pydata.org/pandas-docs/stable/user_guide/indexing.html#returning-a-view-versus-a-copy\n",
      "/opt/conda/lib/python3.7/site-packages/ipykernel_launcher.py:20: SettingWithCopyWarning: \n",
      "A value is trying to be set on a copy of a slice from a DataFrame.\n",
      "Try using .loc[row_indexer,col_indexer] = value instead\n",
      "\n",
      "See the caveats in the documentation: https://pandas.pydata.org/pandas-docs/stable/user_guide/indexing.html#returning-a-view-versus-a-copy\n"
     ]
    },
    {
     "name": "stdout",
     "output_type": "stream",
     "text": [
      "Memory usage of dataframe is 13.26 MB\n",
      "Memory usage after optimization is: 6.63 MB\n",
      "Decreased by 50.0%\n"
     ]
    }
   ],
   "source": [
    "X ,y = get_features(data_df) , data_df[['cancelled']]\n",
    "test_df = get_features(test_df ,test =True)"
   ]
  },
  {
   "cell_type": "code",
   "execution_count": 16,
   "id": "207979ff",
   "metadata": {
    "execution": {
     "iopub.execute_input": "2022-02-11T10:07:21.989874Z",
     "iopub.status.busy": "2022-02-11T10:07:21.988875Z",
     "iopub.status.idle": "2022-02-11T10:07:21.992995Z",
     "shell.execute_reply": "2022-02-11T10:07:21.992415Z"
    },
    "papermill": {
     "duration": 0.055432,
     "end_time": "2022-02-11T10:07:21.993129",
     "exception": false,
     "start_time": "2022-02-11T10:07:21.937697",
     "status": "completed"
    },
    "tags": []
   },
   "outputs": [
    {
     "data": {
      "text/plain": [
       "((450000, 19), (450000, 1), (144844, 20))"
      ]
     },
     "execution_count": 16,
     "metadata": {},
     "output_type": "execute_result"
    }
   ],
   "source": [
    "X.shape ,y.shape ,test_df.shape"
   ]
  },
  {
   "cell_type": "code",
   "execution_count": 17,
   "id": "4573c98a",
   "metadata": {
    "execution": {
     "iopub.execute_input": "2022-02-11T10:07:22.091106Z",
     "iopub.status.busy": "2022-02-11T10:07:22.090464Z",
     "iopub.status.idle": "2022-02-11T10:07:22.132403Z",
     "shell.execute_reply": "2022-02-11T10:07:22.131692Z"
    },
    "papermill": {
     "duration": 0.093208,
     "end_time": "2022-02-11T10:07:22.132556",
     "exception": false,
     "start_time": "2022-02-11T10:07:22.039348",
     "status": "completed"
    },
    "tags": []
   },
   "outputs": [
    {
     "name": "stdout",
     "output_type": "stream",
     "text": [
      "<class 'pandas.core.frame.DataFrame'>\n",
      "RangeIndex: 450000 entries, 0 to 449999\n",
      "Data columns (total 19 columns):\n",
      " #   Column                Non-Null Count   Dtype  \n",
      "---  ------                --------------   -----  \n",
      " 0   first_mile_distance   450000 non-null  float16\n",
      " 1   elapse1               450000 non-null  float16\n",
      " 2   elapse2               450000 non-null  float16\n",
      " 3   last_mile_distance    450000 non-null  float16\n",
      " 4   tot_dist              450000 non-null  float16\n",
      " 5   alloted_orders        450000 non-null  float16\n",
      " 6   delivered_orders      450000 non-null  float16\n",
      " 7   del_ratio             450000 non-null  float16\n",
      " 8   undelivered_orders    450000 non-null  float16\n",
      " 9   lifetime_order_count  450000 non-null  float16\n",
      " 10  Hour                  450000 non-null  int16  \n",
      " 11  session_time          450000 non-null  float16\n",
      " 12  Monday                450000 non-null  int16  \n",
      " 13  Saturday              450000 non-null  int16  \n",
      " 14  Sunday                450000 non-null  int16  \n",
      " 15  Thursday              450000 non-null  int16  \n",
      " 16  Tuesday               450000 non-null  int16  \n",
      " 17  Wednesday             450000 non-null  int16  \n",
      " 18  dist_ratio            450000 non-null  float64\n",
      "dtypes: float16(11), float64(1), int16(7)\n",
      "memory usage: 18.9 MB\n"
     ]
    }
   ],
   "source": [
    "X.info()"
   ]
  },
  {
   "cell_type": "code",
   "execution_count": 18,
   "id": "34243727",
   "metadata": {
    "execution": {
     "iopub.execute_input": "2022-02-11T10:07:22.231406Z",
     "iopub.status.busy": "2022-02-11T10:07:22.230707Z",
     "iopub.status.idle": "2022-02-11T10:07:22.239891Z",
     "shell.execute_reply": "2022-02-11T10:07:22.240466Z"
    },
    "papermill": {
     "duration": 0.060497,
     "end_time": "2022-02-11T10:07:22.240640",
     "exception": false,
     "start_time": "2022-02-11T10:07:22.180143",
     "status": "completed"
    },
    "tags": []
   },
   "outputs": [
    {
     "name": "stdout",
     "output_type": "stream",
     "text": [
      "<class 'pandas.core.frame.DataFrame'>\n",
      "RangeIndex: 450000 entries, 0 to 449999\n",
      "Data columns (total 1 columns):\n",
      " #   Column     Non-Null Count   Dtype\n",
      "---  ------     --------------   -----\n",
      " 0   cancelled  450000 non-null  int16\n",
      "dtypes: int16(1)\n",
      "memory usage: 879.0 KB\n"
     ]
    }
   ],
   "source": [
    "y.info()"
   ]
  },
  {
   "cell_type": "code",
   "execution_count": 19,
   "id": "f1d6e179",
   "metadata": {
    "execution": {
     "iopub.execute_input": "2022-02-11T10:07:22.337907Z",
     "iopub.status.busy": "2022-02-11T10:07:22.337291Z",
     "iopub.status.idle": "2022-02-11T10:07:22.360345Z",
     "shell.execute_reply": "2022-02-11T10:07:22.360890Z"
    },
    "papermill": {
     "duration": 0.073188,
     "end_time": "2022-02-11T10:07:22.361061",
     "exception": false,
     "start_time": "2022-02-11T10:07:22.287873",
     "status": "completed"
    },
    "tags": []
   },
   "outputs": [
    {
     "name": "stdout",
     "output_type": "stream",
     "text": [
      "<class 'pandas.core.frame.DataFrame'>\n",
      "RangeIndex: 144844 entries, 0 to 144843\n",
      "Data columns (total 20 columns):\n",
      " #   Column                Non-Null Count   Dtype  \n",
      "---  ------                --------------   -----  \n",
      " 0   order_id              144844 non-null  int32  \n",
      " 1   first_mile_distance   144844 non-null  float16\n",
      " 2   elapse1               144844 non-null  float16\n",
      " 3   elapse2               144844 non-null  float16\n",
      " 4   last_mile_distance    144844 non-null  float16\n",
      " 5   tot_dist              144844 non-null  float16\n",
      " 6   alloted_orders        144844 non-null  float16\n",
      " 7   delivered_orders      144844 non-null  float16\n",
      " 8   del_ratio             144844 non-null  float16\n",
      " 9   undelivered_orders    144844 non-null  float16\n",
      " 10  lifetime_order_count  144844 non-null  float16\n",
      " 11  Hour                  144844 non-null  int16  \n",
      " 12  session_time          144844 non-null  float16\n",
      " 13  Monday                144844 non-null  int16  \n",
      " 14  Saturday              144844 non-null  int16  \n",
      " 15  Sunday                144844 non-null  int16  \n",
      " 16  Thursday              144844 non-null  int16  \n",
      " 17  Tuesday               144844 non-null  int16  \n",
      " 18  Wednesday             144844 non-null  int16  \n",
      " 19  dist_ratio            144844 non-null  float64\n",
      "dtypes: float16(11), float64(1), int16(7), int32(1)\n",
      "memory usage: 6.6 MB\n"
     ]
    }
   ],
   "source": [
    "test_df.info()"
   ]
  },
  {
   "cell_type": "code",
   "execution_count": 20,
   "id": "f269bf1f",
   "metadata": {
    "execution": {
     "iopub.execute_input": "2022-02-11T10:07:22.460280Z",
     "iopub.status.busy": "2022-02-11T10:07:22.459625Z",
     "iopub.status.idle": "2022-02-11T10:07:23.689767Z",
     "shell.execute_reply": "2022-02-11T10:07:23.689047Z"
    },
    "papermill": {
     "duration": 1.280966,
     "end_time": "2022-02-11T10:07:23.689916",
     "exception": false,
     "start_time": "2022-02-11T10:07:22.408950",
     "status": "completed"
    },
    "tags": []
   },
   "outputs": [
    {
     "data": {
      "text/html": [
       "<style type='text/css'>\n",
       ".datatable table.frame { margin-bottom: 0; }\n",
       ".datatable table.frame thead { border-bottom: none; }\n",
       ".datatable table.frame tr.coltypes td {  color: #FFFFFF;  line-height: 6px;  padding: 0 0.5em;}\n",
       ".datatable .bool    { background: #DDDD99; }\n",
       ".datatable .object  { background: #565656; }\n",
       ".datatable .int     { background: #5D9E5D; }\n",
       ".datatable .float   { background: #4040CC; }\n",
       ".datatable .str     { background: #CC4040; }\n",
       ".datatable .time    { background: #40CC40; }\n",
       ".datatable .row_index {  background: var(--jp-border-color3);  border-right: 1px solid var(--jp-border-color0);  color: var(--jp-ui-font-color3);  font-size: 9px;}\n",
       ".datatable .frame tbody td { text-align: left; }\n",
       ".datatable .frame tr.coltypes .row_index {  background: var(--jp-border-color0);}\n",
       ".datatable th:nth-child(2) { padding-left: 12px; }\n",
       ".datatable .hellipsis {  color: var(--jp-cell-editor-border-color);}\n",
       ".datatable .vellipsis {  background: var(--jp-layout-color0);  color: var(--jp-cell-editor-border-color);}\n",
       ".datatable .na {  color: var(--jp-cell-editor-border-color);  font-size: 80%;}\n",
       ".datatable .sp {  opacity: 0.25;}\n",
       ".datatable .footer { font-size: 9px; }\n",
       ".datatable .frame_dimensions {  background: var(--jp-border-color3);  border-top: 1px solid var(--jp-border-color0);  color: var(--jp-ui-font-color3);  display: inline-block;  opacity: 0.6;  padding: 1px 10px 1px 5px;}\n",
       "</style>\n"
      ],
      "text/plain": [
       "<IPython.core.display.HTML object>"
      ]
     },
     "metadata": {},
     "output_type": "display_data"
    }
   ],
   "source": [
    "from sklearn.metrics import roc_auc_score\n",
    "from lightgbm import LGBMClassifier"
   ]
  },
  {
   "cell_type": "code",
   "execution_count": 21,
   "id": "bd90acf5",
   "metadata": {
    "execution": {
     "iopub.execute_input": "2022-02-11T10:07:23.798627Z",
     "iopub.status.busy": "2022-02-11T10:07:23.797944Z",
     "iopub.status.idle": "2022-02-11T10:07:23.799384Z",
     "shell.execute_reply": "2022-02-11T10:07:23.799949Z"
    },
    "papermill": {
     "duration": 0.060061,
     "end_time": "2022-02-11T10:07:23.800112",
     "exception": false,
     "start_time": "2022-02-11T10:07:23.740051",
     "status": "completed"
    },
    "tags": []
   },
   "outputs": [],
   "source": [
    "Length = X.shape[0]\n",
    "X_train ,y_train = X[:int((1-TEST_SPLIT_RATIO)*Length)] , y[:int((1-TEST_SPLIT_RATIO)*Length)]\n",
    "X_test , y_test = X[int((1-TEST_SPLIT_RATIO)*Length):] ,y[int((1-TEST_SPLIT_RATIO)*Length):]"
   ]
  },
  {
   "cell_type": "code",
   "execution_count": 22,
   "id": "9bab5c0f",
   "metadata": {
    "execution": {
     "iopub.execute_input": "2022-02-11T10:07:23.901438Z",
     "iopub.status.busy": "2022-02-11T10:07:23.900445Z",
     "iopub.status.idle": "2022-02-11T10:07:24.630275Z",
     "shell.execute_reply": "2022-02-11T10:07:24.630937Z"
    },
    "papermill": {
     "duration": 0.78205,
     "end_time": "2022-02-11T10:07:24.631168",
     "exception": false,
     "start_time": "2022-02-11T10:07:23.849118",
     "status": "completed"
    },
    "tags": []
   },
   "outputs": [
    {
     "name": "stdout",
     "output_type": "stream",
     "text": [
      "2.10.0\n"
     ]
    }
   ],
   "source": [
    "import optuna\n",
    "from optuna import Trial\n",
    "from sklearn.model_selection import StratifiedKFold\n",
    "print(optuna.__version__)\n",
    "import gc\n",
    "import warnings\n",
    "warnings.filterwarnings(\"ignore\")\n",
    "from optuna.integration import LightGBMPruningCallback"
   ]
  },
  {
   "cell_type": "code",
   "execution_count": 23,
   "id": "8e45e1a0",
   "metadata": {
    "execution": {
     "iopub.execute_input": "2022-02-11T10:07:24.736862Z",
     "iopub.status.busy": "2022-02-11T10:07:24.735859Z",
     "iopub.status.idle": "2022-02-11T10:07:24.742606Z",
     "shell.execute_reply": "2022-02-11T10:07:24.743068Z"
    },
    "papermill": {
     "duration": 0.060192,
     "end_time": "2022-02-11T10:07:24.743286",
     "exception": false,
     "start_time": "2022-02-11T10:07:24.683094",
     "status": "completed"
    },
    "tags": []
   },
   "outputs": [],
   "source": [
    "def create_X_y(train_df):\n",
    "    target_train_df = train_df\n",
    "    #target_train_df =target_train_df.sample(frac =0.3)\n",
    "    target_train_df = target_train_df.groupby('cancelled').apply(lambda x: x.sample(frac=1))\n",
    "    print(f\"cancelled :{target_train_df[target_train_df['cancelled'] == 1].shape[0]} , not_cancelled :{target_train_df[target_train_df['cancelled'] == 0].shape[0]}\")\n",
    "    X_train = get_features(target_train_df)\n",
    "    X_train.reset_index(level=[0] ,inplace  =True)\n",
    "    X_train.drop(columns = ['cancelled'] ,inplace =True)\n",
    "    print(f\"Features : {list(X_train.columns)}\")\n",
    "    y_train = target_train_df['cancelled'].values\n",
    "    del target_train_df\n",
    "    return X_train, y_train"
   ]
  },
  {
   "cell_type": "code",
   "execution_count": 24,
   "id": "b262556b",
   "metadata": {
    "execution": {
     "iopub.execute_input": "2022-02-11T10:07:24.847233Z",
     "iopub.status.busy": "2022-02-11T10:07:24.846174Z",
     "iopub.status.idle": "2022-02-11T10:07:24.855619Z",
     "shell.execute_reply": "2022-02-11T10:07:24.856090Z"
    },
    "papermill": {
     "duration": 0.063234,
     "end_time": "2022-02-11T10:07:24.856286",
     "exception": false,
     "start_time": "2022-02-11T10:07:24.793052",
     "status": "completed"
    },
    "tags": []
   },
   "outputs": [],
   "source": [
    "def objective(trial: Trial):\n",
    "    folds = 5\n",
    "    seed = SEED\n",
    "    shuffle = True\n",
    "    kf = StratifiedKFold(n_splits=folds, shuffle=shuffle, random_state=seed)\n",
    "\n",
    "    X_train, y_train = create_X_y(data_df)\n",
    "    y_valid_pred_total = np.zeros(X_train.shape[0])\n",
    "    gc.collect()\n",
    "\n",
    "    #cat_features = [X_train.columns.get_loc(cat_col) for cat_col in category_cols]\n",
    "    cat_features = []\n",
    "    print('cat_features', cat_features)\n",
    "    print(X_train.shape, y_train.shape)\n",
    "    models = []\n",
    "    valid_score = 0\n",
    "    for train_idx, valid_idx in kf.split(X_train, y_train):\n",
    "        train_data = X_train.iloc[train_idx,:], y_train[train_idx]\n",
    "        valid_data = X_train.iloc[valid_idx,:], y_train[valid_idx]\n",
    "\n",
    "        print('train', len(train_idx), 'valid', len(valid_idx))\n",
    "        model, log = fit_lgbm(trial, train_data, valid_data)\n",
    "        models.append(model)\n",
    "        gc.collect()\n",
    "        valid_score += log[\"valid/roc_auc\"]\n",
    "    valid_score /= len(models)\n",
    "    return valid_score"
   ]
  },
  {
   "cell_type": "code",
   "execution_count": 25,
   "id": "4bb0a880",
   "metadata": {
    "execution": {
     "iopub.execute_input": "2022-02-11T10:07:24.960852Z",
     "iopub.status.busy": "2022-02-11T10:07:24.959723Z",
     "iopub.status.idle": "2022-02-11T10:07:24.974637Z",
     "shell.execute_reply": "2022-02-11T10:07:24.975215Z"
    },
    "papermill": {
     "duration": 0.068872,
     "end_time": "2022-02-11T10:07:24.975519",
     "exception": false,
     "start_time": "2022-02-11T10:07:24.906647",
     "status": "completed"
    },
    "tags": []
   },
   "outputs": [],
   "source": [
    "def fit_lgbm(trial, train, val, devices=(-1,), seed=SEED):\n",
    "    \"\"\"Train Light gbm model\"\"\"\n",
    "    X_train, y_train = train\n",
    "    X_valid, y_valid = val\n",
    "    #metric = 'None'\n",
    "    params = {\n",
    "        # \"device_type\": trial.suggest_categorical(\"device_type\", ['gpu']),\n",
    "        \"n_estimators\": trial.suggest_categorical(\"n_estimators\", [10000 ,15000 ,20000]),\n",
    "        #\"boosting\": trial.suggest_categorical(\"boostng\", ['gbdt' ,'rf' ,'dart']),\n",
    "        \"learning_rate\": trial.suggest_float(\"learning_rate\", 0.01, 0.5),\n",
    "        \"num_leaves\": trial.suggest_int(\"num_leaves\", 20, 3000, step=1),\n",
    "        \"max_depth\": trial.suggest_int(\"max_depth\", 3, 12),\n",
    "        \"min_data_in_leaf\": trial.suggest_int(\"min_data_in_leaf\", 200, 10000, step=50),\n",
    "        \"lambda_l1\": trial.suggest_loguniform(\"lambda_l1\", 1e-8, 100),\n",
    "        \"lambda_l2\": trial.suggest_int(\"lambda_l2\", 0, 100 ,step = 5),\n",
    "        \"min_gain_to_split\": trial.suggest_float(\"min_gain_to_split\", 0, 15),\n",
    "        \"bagging_fraction\": trial.suggest_float(\n",
    "            \"bagging_fraction\", 0.2, 0.95, step =0.1\n",
    "        ),\n",
    "        \"bagging_freq\": trial.suggest_categorical(\"bagging_freq\", [1]),\n",
    "        \"feature_fraction\": trial.suggest_float(\n",
    "            \"feature_fraction\", 0.2, 0.95 ,step =0.1\n",
    "        ),\n",
    "    }\n",
    "    ##params = {\n",
    "        # \"device_type\": trial.suggest_categorical(\"device_type\", ['gpu']),\n",
    "      #  \"n_estimators\": trial.suggest_categorical(\"n_estimators\", [10000]),\n",
    "        #\"boosting\": trial.suggest_categorical(\"boostng\", ['gbdt' ,'rf' ,'dart']),\n",
    "      #  \"learning_rate\": trial.suggest_float(\"learning_rate\", 0.01, 0.3),\n",
    "      #  \"num_leaves\": trial.suggest_int(\"num_leaves\", 20, 3000, step=20),\n",
    "      #  \"max_depth\": trial.suggest_int(\"max_depth\", 3, 12),\n",
    "     #   \"min_data_in_leaf\": trial.suggest_int(\"min_data_in_leaf\", 200, 10000, step=100),\n",
    "     #   \"lambda_l1\": trial.suggest_loguniform(\"lambda_l1\", 1e-8, 100),\n",
    "     #   \"lambda_l2\": trial.suggest_int(\"lambda_l2\", 0, 100, step=5),\n",
    "     #   \"min_gain_to_split\": trial.suggest_float(\"min_gain_to_split\", 0, 15),\n",
    "     #   \"bagging_fraction\": trial.suggest_float(\n",
    "      #      \"bagging_fraction\", 0.2, 0.95, step=0.1\n",
    "     #   ),\n",
    "     #   \"bagging_freq\": trial.suggest_categorical(\"bagging_freq\", [1]),\n",
    "     #   \"feature_fraction\": trial.suggest_float(\n",
    "      #      \"feature_fraction\", 0.2, 0.95, step=0.1\n",
    "      #  ),\n",
    "   # }\n",
    "    device = devices[0]\n",
    "    if device == -1:\n",
    "        # use cpu\n",
    "        pass\n",
    "    else:\n",
    "        # use gpu\n",
    "        print(f'using gpu device_id {device}...')\n",
    "        params.update({'device': 'gpu', 'gpu_device_id': device})\n",
    "\n",
    "    params['seed'] = seed\n",
    "    #params['device'] = 'gpu'\n",
    "    print('training Light GBM:')\n",
    "    model = LGBMClassifier(objective = 'binary',**params).fit(X_train,y_train,\n",
    "            eval_set=[(X_valid, y_valid)],\n",
    "            eval_metric=\"binary_logloss\",\n",
    "            early_stopping_rounds=20,\n",
    "            callbacks=[\n",
    "                LightGBMPruningCallback(trial, \"binary_logloss\")\n",
    "            ], )\n",
    "\n",
    "    # predictions\n",
    "    #print(f\"shape of predict_proba = {model.predict_proba(val[0]).shape}\")\n",
    "    #print(model.predict_proba(val[0])[:5 ,...])\n",
    "    y_pred_valid = -roc_auc_score(val[1], model.predict_proba(val[0])[:, 1])\n",
    "    \n",
    "    print('score', y_pred_valid)\n",
    "    log = {'valid/roc_auc': y_pred_valid}\n",
    "    return model, log"
   ]
  },
  {
   "cell_type": "code",
   "execution_count": 26,
   "id": "b4a84cb3",
   "metadata": {
    "execution": {
     "iopub.execute_input": "2022-02-11T10:07:25.084528Z",
     "iopub.status.busy": "2022-02-11T10:07:25.083631Z",
     "iopub.status.idle": "2022-02-11T10:37:28.174543Z",
     "shell.execute_reply": "2022-02-11T10:37:28.175740Z"
    },
    "papermill": {
     "duration": 1803.149302,
     "end_time": "2022-02-11T10:37:28.176011",
     "exception": false,
     "start_time": "2022-02-11T10:07:25.026709",
     "status": "completed"
    },
    "tags": []
   },
   "outputs": [
    {
     "name": "stderr",
     "output_type": "stream",
     "text": [
      "\u001b[32m[I 2022-02-11 10:07:25,081]\u001b[0m A new study created in memory with name: no-name-c2ff5f39-46e5-4841-bb87-cbef01f21fb0\u001b[0m\n"
     ]
    },
    {
     "name": "stdout",
     "output_type": "stream",
     "text": [
      "cancelled :5218 , not_cancelled :444782\n",
      "Memory usage of dataframe is 61.19 MB\n",
      "Memory usage after optimization is: 40.59 MB\n",
      "Decreased by 33.7%\n",
      "Features : ['first_mile_distance', 'elapse1', 'elapse2', 'last_mile_distance', 'tot_dist', 'alloted_orders', 'delivered_orders', 'del_ratio', 'undelivered_orders', 'lifetime_order_count', 'Hour', 'session_time', 'Monday', 'Saturday', 'Sunday', 'Thursday', 'Tuesday', 'Wednesday', 'dist_ratio']\n",
      "cat_features []\n",
      "(450000, 19) (450000,)\n",
      "train 360000 valid 90000\n",
      "training Light GBM:\n",
      "[LightGBM] [Warning] lambda_l1 is set=2.9395938677181945, reg_alpha=0.0 will be ignored. Current value: lambda_l1=2.9395938677181945\n",
      "[LightGBM] [Warning] bagging_fraction is set=0.30000000000000004, subsample=1.0 will be ignored. Current value: bagging_fraction=0.30000000000000004\n",
      "[LightGBM] [Warning] min_gain_to_split is set=9.427493703767057, min_split_gain=0.0 will be ignored. Current value: min_gain_to_split=9.427493703767057\n",
      "[LightGBM] [Warning] lambda_l2 is set=90, reg_lambda=0.0 will be ignored. Current value: lambda_l2=90\n",
      "[LightGBM] [Warning] feature_fraction is set=0.4, colsample_bytree=1.0 will be ignored. Current value: feature_fraction=0.4\n",
      "[LightGBM] [Warning] min_data_in_leaf is set=5350, min_child_samples=20 will be ignored. Current value: min_data_in_leaf=5350\n",
      "[LightGBM] [Warning] bagging_freq is set=1, subsample_freq=0 will be ignored. Current value: bagging_freq=1\n",
      "score -0.7226041461358231\n",
      "train 360000 valid 90000\n",
      "training Light GBM:\n",
      "[LightGBM] [Warning] lambda_l1 is set=2.9395938677181945, reg_alpha=0.0 will be ignored. Current value: lambda_l1=2.9395938677181945\n",
      "[LightGBM] [Warning] bagging_fraction is set=0.30000000000000004, subsample=1.0 will be ignored. Current value: bagging_fraction=0.30000000000000004\n",
      "[LightGBM] [Warning] min_gain_to_split is set=9.427493703767057, min_split_gain=0.0 will be ignored. Current value: min_gain_to_split=9.427493703767057\n",
      "[LightGBM] [Warning] lambda_l2 is set=90, reg_lambda=0.0 will be ignored. Current value: lambda_l2=90\n",
      "[LightGBM] [Warning] feature_fraction is set=0.4, colsample_bytree=1.0 will be ignored. Current value: feature_fraction=0.4\n",
      "[LightGBM] [Warning] min_data_in_leaf is set=5350, min_child_samples=20 will be ignored. Current value: min_data_in_leaf=5350\n",
      "[LightGBM] [Warning] bagging_freq is set=1, subsample_freq=0 will be ignored. Current value: bagging_freq=1\n",
      "score -0.7411986492962424\n",
      "train 360000 valid 90000\n",
      "training Light GBM:\n",
      "[LightGBM] [Warning] lambda_l1 is set=2.9395938677181945, reg_alpha=0.0 will be ignored. Current value: lambda_l1=2.9395938677181945\n",
      "[LightGBM] [Warning] bagging_fraction is set=0.30000000000000004, subsample=1.0 will be ignored. Current value: bagging_fraction=0.30000000000000004\n",
      "[LightGBM] [Warning] min_gain_to_split is set=9.427493703767057, min_split_gain=0.0 will be ignored. Current value: min_gain_to_split=9.427493703767057\n",
      "[LightGBM] [Warning] lambda_l2 is set=90, reg_lambda=0.0 will be ignored. Current value: lambda_l2=90\n",
      "[LightGBM] [Warning] feature_fraction is set=0.4, colsample_bytree=1.0 will be ignored. Current value: feature_fraction=0.4\n",
      "[LightGBM] [Warning] min_data_in_leaf is set=5350, min_child_samples=20 will be ignored. Current value: min_data_in_leaf=5350\n",
      "[LightGBM] [Warning] bagging_freq is set=1, subsample_freq=0 will be ignored. Current value: bagging_freq=1\n",
      "score -0.7323256878556689\n",
      "train 360000 valid 90000\n",
      "training Light GBM:\n",
      "[LightGBM] [Warning] lambda_l1 is set=2.9395938677181945, reg_alpha=0.0 will be ignored. Current value: lambda_l1=2.9395938677181945\n",
      "[LightGBM] [Warning] bagging_fraction is set=0.30000000000000004, subsample=1.0 will be ignored. Current value: bagging_fraction=0.30000000000000004\n",
      "[LightGBM] [Warning] min_gain_to_split is set=9.427493703767057, min_split_gain=0.0 will be ignored. Current value: min_gain_to_split=9.427493703767057\n",
      "[LightGBM] [Warning] lambda_l2 is set=90, reg_lambda=0.0 will be ignored. Current value: lambda_l2=90\n",
      "[LightGBM] [Warning] feature_fraction is set=0.4, colsample_bytree=1.0 will be ignored. Current value: feature_fraction=0.4\n",
      "[LightGBM] [Warning] min_data_in_leaf is set=5350, min_child_samples=20 will be ignored. Current value: min_data_in_leaf=5350\n",
      "[LightGBM] [Warning] bagging_freq is set=1, subsample_freq=0 will be ignored. Current value: bagging_freq=1\n",
      "score -0.7412927862308785\n",
      "train 360000 valid 90000\n",
      "training Light GBM:\n",
      "[LightGBM] [Warning] lambda_l1 is set=2.9395938677181945, reg_alpha=0.0 will be ignored. Current value: lambda_l1=2.9395938677181945\n",
      "[LightGBM] [Warning] bagging_fraction is set=0.30000000000000004, subsample=1.0 will be ignored. Current value: bagging_fraction=0.30000000000000004\n",
      "[LightGBM] [Warning] min_gain_to_split is set=9.427493703767057, min_split_gain=0.0 will be ignored. Current value: min_gain_to_split=9.427493703767057\n",
      "[LightGBM] [Warning] lambda_l2 is set=90, reg_lambda=0.0 will be ignored. Current value: lambda_l2=90\n",
      "[LightGBM] [Warning] feature_fraction is set=0.4, colsample_bytree=1.0 will be ignored. Current value: feature_fraction=0.4\n",
      "[LightGBM] [Warning] min_data_in_leaf is set=5350, min_child_samples=20 will be ignored. Current value: min_data_in_leaf=5350\n",
      "[LightGBM] [Warning] bagging_freq is set=1, subsample_freq=0 will be ignored. Current value: bagging_freq=1\n"
     ]
    },
    {
     "name": "stderr",
     "output_type": "stream",
     "text": [
      "\u001b[32m[I 2022-02-11 10:07:41,133]\u001b[0m Trial 0 finished with value: -0.7318063112245832 and parameters: {'n_estimators': 15000, 'learning_rate': 0.261628646326651, 'num_leaves': 2948, 'max_depth': 9, 'min_data_in_leaf': 5350, 'lambda_l1': 2.9395938677181945, 'lambda_l2': 90, 'min_gain_to_split': 9.427493703767057, 'bagging_fraction': 0.30000000000000004, 'bagging_freq': 1, 'feature_fraction': 0.4}. Best is trial 0 with value: -0.7318063112245832.\u001b[0m\n"
     ]
    },
    {
     "name": "stdout",
     "output_type": "stream",
     "text": [
      "score -0.7216102866043034\n",
      "cancelled :5218 , not_cancelled :444782\n",
      "Memory usage of dataframe is 61.19 MB\n",
      "Memory usage after optimization is: 40.59 MB\n",
      "Decreased by 33.7%\n",
      "Features : ['first_mile_distance', 'elapse1', 'elapse2', 'last_mile_distance', 'tot_dist', 'alloted_orders', 'delivered_orders', 'del_ratio', 'undelivered_orders', 'lifetime_order_count', 'Hour', 'session_time', 'Monday', 'Saturday', 'Sunday', 'Thursday', 'Tuesday', 'Wednesday', 'dist_ratio']\n",
      "cat_features []\n",
      "(450000, 19) (450000,)\n",
      "train 360000 valid 90000\n",
      "training Light GBM:\n",
      "[LightGBM] [Warning] lambda_l1 is set=22.034377483931177, reg_alpha=0.0 will be ignored. Current value: lambda_l1=22.034377483931177\n",
      "[LightGBM] [Warning] bagging_fraction is set=0.5, subsample=1.0 will be ignored. Current value: bagging_fraction=0.5\n",
      "[LightGBM] [Warning] min_gain_to_split is set=12.945041660870247, min_split_gain=0.0 will be ignored. Current value: min_gain_to_split=12.945041660870247\n",
      "[LightGBM] [Warning] lambda_l2 is set=80, reg_lambda=0.0 will be ignored. Current value: lambda_l2=80\n",
      "[LightGBM] [Warning] feature_fraction is set=0.30000000000000004, colsample_bytree=1.0 will be ignored. Current value: feature_fraction=0.30000000000000004\n",
      "[LightGBM] [Warning] min_data_in_leaf is set=9800, min_child_samples=20 will be ignored. Current value: min_data_in_leaf=9800\n",
      "[LightGBM] [Warning] bagging_freq is set=1, subsample_freq=0 will be ignored. Current value: bagging_freq=1\n",
      "score -0.7203575179023387\n",
      "train 360000 valid 90000\n",
      "training Light GBM:\n",
      "[LightGBM] [Warning] lambda_l1 is set=22.034377483931177, reg_alpha=0.0 will be ignored. Current value: lambda_l1=22.034377483931177\n",
      "[LightGBM] [Warning] bagging_fraction is set=0.5, subsample=1.0 will be ignored. Current value: bagging_fraction=0.5\n",
      "[LightGBM] [Warning] min_gain_to_split is set=12.945041660870247, min_split_gain=0.0 will be ignored. Current value: min_gain_to_split=12.945041660870247\n",
      "[LightGBM] [Warning] lambda_l2 is set=80, reg_lambda=0.0 will be ignored. Current value: lambda_l2=80\n",
      "[LightGBM] [Warning] feature_fraction is set=0.30000000000000004, colsample_bytree=1.0 will be ignored. Current value: feature_fraction=0.30000000000000004\n",
      "[LightGBM] [Warning] min_data_in_leaf is set=9800, min_child_samples=20 will be ignored. Current value: min_data_in_leaf=9800\n",
      "[LightGBM] [Warning] bagging_freq is set=1, subsample_freq=0 will be ignored. Current value: bagging_freq=1\n",
      "score -0.7217931280769725\n",
      "train 360000 valid 90000\n",
      "training Light GBM:\n",
      "[LightGBM] [Warning] lambda_l1 is set=22.034377483931177, reg_alpha=0.0 will be ignored. Current value: lambda_l1=22.034377483931177\n",
      "[LightGBM] [Warning] bagging_fraction is set=0.5, subsample=1.0 will be ignored. Current value: bagging_fraction=0.5\n",
      "[LightGBM] [Warning] min_gain_to_split is set=12.945041660870247, min_split_gain=0.0 will be ignored. Current value: min_gain_to_split=12.945041660870247\n",
      "[LightGBM] [Warning] lambda_l2 is set=80, reg_lambda=0.0 will be ignored. Current value: lambda_l2=80\n",
      "[LightGBM] [Warning] feature_fraction is set=0.30000000000000004, colsample_bytree=1.0 will be ignored. Current value: feature_fraction=0.30000000000000004\n",
      "[LightGBM] [Warning] min_data_in_leaf is set=9800, min_child_samples=20 will be ignored. Current value: min_data_in_leaf=9800\n",
      "[LightGBM] [Warning] bagging_freq is set=1, subsample_freq=0 will be ignored. Current value: bagging_freq=1\n",
      "score -0.716395931416608\n",
      "train 360000 valid 90000\n",
      "training Light GBM:\n",
      "[LightGBM] [Warning] lambda_l1 is set=22.034377483931177, reg_alpha=0.0 will be ignored. Current value: lambda_l1=22.034377483931177\n",
      "[LightGBM] [Warning] bagging_fraction is set=0.5, subsample=1.0 will be ignored. Current value: bagging_fraction=0.5\n",
      "[LightGBM] [Warning] min_gain_to_split is set=12.945041660870247, min_split_gain=0.0 will be ignored. Current value: min_gain_to_split=12.945041660870247\n",
      "[LightGBM] [Warning] lambda_l2 is set=80, reg_lambda=0.0 will be ignored. Current value: lambda_l2=80\n",
      "[LightGBM] [Warning] feature_fraction is set=0.30000000000000004, colsample_bytree=1.0 will be ignored. Current value: feature_fraction=0.30000000000000004\n",
      "[LightGBM] [Warning] min_data_in_leaf is set=9800, min_child_samples=20 will be ignored. Current value: min_data_in_leaf=9800\n",
      "[LightGBM] [Warning] bagging_freq is set=1, subsample_freq=0 will be ignored. Current value: bagging_freq=1\n",
      "score -0.7437028685583763\n",
      "train 360000 valid 90000\n",
      "training Light GBM:\n",
      "[LightGBM] [Warning] lambda_l1 is set=22.034377483931177, reg_alpha=0.0 will be ignored. Current value: lambda_l1=22.034377483931177\n",
      "[LightGBM] [Warning] bagging_fraction is set=0.5, subsample=1.0 will be ignored. Current value: bagging_fraction=0.5\n",
      "[LightGBM] [Warning] min_gain_to_split is set=12.945041660870247, min_split_gain=0.0 will be ignored. Current value: min_gain_to_split=12.945041660870247\n",
      "[LightGBM] [Warning] lambda_l2 is set=80, reg_lambda=0.0 will be ignored. Current value: lambda_l2=80\n",
      "[LightGBM] [Warning] feature_fraction is set=0.30000000000000004, colsample_bytree=1.0 will be ignored. Current value: feature_fraction=0.30000000000000004\n",
      "[LightGBM] [Warning] min_data_in_leaf is set=9800, min_child_samples=20 will be ignored. Current value: min_data_in_leaf=9800\n",
      "[LightGBM] [Warning] bagging_freq is set=1, subsample_freq=0 will be ignored. Current value: bagging_freq=1\n"
     ]
    },
    {
     "name": "stderr",
     "output_type": "stream",
     "text": [
      "\u001b[32m[I 2022-02-11 10:07:58,256]\u001b[0m Trial 1 finished with value: -0.7281546156568599 and parameters: {'n_estimators': 10000, 'learning_rate': 0.18827066896719202, 'num_leaves': 126, 'max_depth': 9, 'min_data_in_leaf': 9800, 'lambda_l1': 22.034377483931177, 'lambda_l2': 80, 'min_gain_to_split': 12.945041660870247, 'bagging_fraction': 0.5, 'bagging_freq': 1, 'feature_fraction': 0.30000000000000004}. Best is trial 0 with value: -0.7318063112245832.\u001b[0m\n"
     ]
    },
    {
     "name": "stdout",
     "output_type": "stream",
     "text": [
      "score -0.7385236323300046\n",
      "cancelled :5218 , not_cancelled :444782\n",
      "Memory usage of dataframe is 61.19 MB\n",
      "Memory usage after optimization is: 40.59 MB\n",
      "Decreased by 33.7%\n",
      "Features : ['first_mile_distance', 'elapse1', 'elapse2', 'last_mile_distance', 'tot_dist', 'alloted_orders', 'delivered_orders', 'del_ratio', 'undelivered_orders', 'lifetime_order_count', 'Hour', 'session_time', 'Monday', 'Saturday', 'Sunday', 'Thursday', 'Tuesday', 'Wednesday', 'dist_ratio']\n",
      "cat_features []\n",
      "(450000, 19) (450000,)\n",
      "train 360000 valid 90000\n",
      "training Light GBM:\n",
      "[LightGBM] [Warning] lambda_l1 is set=1.788180353652817e-06, reg_alpha=0.0 will be ignored. Current value: lambda_l1=1.788180353652817e-06\n",
      "[LightGBM] [Warning] bagging_fraction is set=0.4, subsample=1.0 will be ignored. Current value: bagging_fraction=0.4\n",
      "[LightGBM] [Warning] min_gain_to_split is set=2.666773201410111, min_split_gain=0.0 will be ignored. Current value: min_gain_to_split=2.666773201410111\n",
      "[LightGBM] [Warning] lambda_l2 is set=25, reg_lambda=0.0 will be ignored. Current value: lambda_l2=25\n",
      "[LightGBM] [Warning] feature_fraction is set=0.6000000000000001, colsample_bytree=1.0 will be ignored. Current value: feature_fraction=0.6000000000000001\n",
      "[LightGBM] [Warning] min_data_in_leaf is set=8650, min_child_samples=20 will be ignored. Current value: min_data_in_leaf=8650\n",
      "[LightGBM] [Warning] bagging_freq is set=1, subsample_freq=0 will be ignored. Current value: bagging_freq=1\n",
      "score -0.7379753030299977\n",
      "train 360000 valid 90000\n",
      "training Light GBM:\n",
      "[LightGBM] [Warning] lambda_l1 is set=1.788180353652817e-06, reg_alpha=0.0 will be ignored. Current value: lambda_l1=1.788180353652817e-06\n",
      "[LightGBM] [Warning] bagging_fraction is set=0.4, subsample=1.0 will be ignored. Current value: bagging_fraction=0.4\n",
      "[LightGBM] [Warning] min_gain_to_split is set=2.666773201410111, min_split_gain=0.0 will be ignored. Current value: min_gain_to_split=2.666773201410111\n",
      "[LightGBM] [Warning] lambda_l2 is set=25, reg_lambda=0.0 will be ignored. Current value: lambda_l2=25\n",
      "[LightGBM] [Warning] feature_fraction is set=0.6000000000000001, colsample_bytree=1.0 will be ignored. Current value: feature_fraction=0.6000000000000001\n",
      "[LightGBM] [Warning] min_data_in_leaf is set=8650, min_child_samples=20 will be ignored. Current value: min_data_in_leaf=8650\n",
      "[LightGBM] [Warning] bagging_freq is set=1, subsample_freq=0 will be ignored. Current value: bagging_freq=1\n",
      "score -0.7377959474123423\n",
      "train 360000 valid 90000\n",
      "training Light GBM:\n",
      "[LightGBM] [Warning] lambda_l1 is set=1.788180353652817e-06, reg_alpha=0.0 will be ignored. Current value: lambda_l1=1.788180353652817e-06\n",
      "[LightGBM] [Warning] bagging_fraction is set=0.4, subsample=1.0 will be ignored. Current value: bagging_fraction=0.4\n",
      "[LightGBM] [Warning] min_gain_to_split is set=2.666773201410111, min_split_gain=0.0 will be ignored. Current value: min_gain_to_split=2.666773201410111\n",
      "[LightGBM] [Warning] lambda_l2 is set=25, reg_lambda=0.0 will be ignored. Current value: lambda_l2=25\n",
      "[LightGBM] [Warning] feature_fraction is set=0.6000000000000001, colsample_bytree=1.0 will be ignored. Current value: feature_fraction=0.6000000000000001\n",
      "[LightGBM] [Warning] min_data_in_leaf is set=8650, min_child_samples=20 will be ignored. Current value: min_data_in_leaf=8650\n",
      "[LightGBM] [Warning] bagging_freq is set=1, subsample_freq=0 will be ignored. Current value: bagging_freq=1\n",
      "score -0.7444272462222057\n",
      "train 360000 valid 90000\n",
      "training Light GBM:\n",
      "[LightGBM] [Warning] lambda_l1 is set=1.788180353652817e-06, reg_alpha=0.0 will be ignored. Current value: lambda_l1=1.788180353652817e-06\n",
      "[LightGBM] [Warning] bagging_fraction is set=0.4, subsample=1.0 will be ignored. Current value: bagging_fraction=0.4\n",
      "[LightGBM] [Warning] min_gain_to_split is set=2.666773201410111, min_split_gain=0.0 will be ignored. Current value: min_gain_to_split=2.666773201410111\n",
      "[LightGBM] [Warning] lambda_l2 is set=25, reg_lambda=0.0 will be ignored. Current value: lambda_l2=25\n",
      "[LightGBM] [Warning] feature_fraction is set=0.6000000000000001, colsample_bytree=1.0 will be ignored. Current value: feature_fraction=0.6000000000000001\n",
      "[LightGBM] [Warning] min_data_in_leaf is set=8650, min_child_samples=20 will be ignored. Current value: min_data_in_leaf=8650\n",
      "[LightGBM] [Warning] bagging_freq is set=1, subsample_freq=0 will be ignored. Current value: bagging_freq=1\n",
      "score -0.7384054133956449\n",
      "train 360000 valid 90000\n",
      "training Light GBM:\n",
      "[LightGBM] [Warning] lambda_l1 is set=1.788180353652817e-06, reg_alpha=0.0 will be ignored. Current value: lambda_l1=1.788180353652817e-06\n",
      "[LightGBM] [Warning] bagging_fraction is set=0.4, subsample=1.0 will be ignored. Current value: bagging_fraction=0.4\n",
      "[LightGBM] [Warning] min_gain_to_split is set=2.666773201410111, min_split_gain=0.0 will be ignored. Current value: min_gain_to_split=2.666773201410111\n",
      "[LightGBM] [Warning] lambda_l2 is set=25, reg_lambda=0.0 will be ignored. Current value: lambda_l2=25\n",
      "[LightGBM] [Warning] feature_fraction is set=0.6000000000000001, colsample_bytree=1.0 will be ignored. Current value: feature_fraction=0.6000000000000001\n",
      "[LightGBM] [Warning] min_data_in_leaf is set=8650, min_child_samples=20 will be ignored. Current value: min_data_in_leaf=8650\n",
      "[LightGBM] [Warning] bagging_freq is set=1, subsample_freq=0 will be ignored. Current value: bagging_freq=1\n"
     ]
    },
    {
     "name": "stderr",
     "output_type": "stream",
     "text": [
      "\u001b[32m[I 2022-02-11 10:08:20,946]\u001b[0m Trial 2 finished with value: -0.7388699031755597 and parameters: {'n_estimators': 20000, 'learning_rate': 0.30690969114588484, 'num_leaves': 797, 'max_depth': 6, 'min_data_in_leaf': 8650, 'lambda_l1': 1.788180353652817e-06, 'lambda_l2': 25, 'min_gain_to_split': 2.666773201410111, 'bagging_fraction': 0.4, 'bagging_freq': 1, 'feature_fraction': 0.6000000000000001}. Best is trial 2 with value: -0.7388699031755597.\u001b[0m\n"
     ]
    },
    {
     "name": "stdout",
     "output_type": "stream",
     "text": [
      "score -0.7357456058176077\n",
      "cancelled :5218 , not_cancelled :444782\n",
      "Memory usage of dataframe is 61.19 MB\n",
      "Memory usage after optimization is: 40.59 MB\n",
      "Decreased by 33.7%\n",
      "Features : ['first_mile_distance', 'elapse1', 'elapse2', 'last_mile_distance', 'tot_dist', 'alloted_orders', 'delivered_orders', 'del_ratio', 'undelivered_orders', 'lifetime_order_count', 'Hour', 'session_time', 'Monday', 'Saturday', 'Sunday', 'Thursday', 'Tuesday', 'Wednesday', 'dist_ratio']\n",
      "cat_features []\n",
      "(450000, 19) (450000,)\n",
      "train 360000 valid 90000\n",
      "training Light GBM:\n",
      "[LightGBM] [Warning] lambda_l1 is set=0.0008573449530522803, reg_alpha=0.0 will be ignored. Current value: lambda_l1=0.0008573449530522803\n",
      "[LightGBM] [Warning] bagging_fraction is set=0.5, subsample=1.0 will be ignored. Current value: bagging_fraction=0.5\n",
      "[LightGBM] [Warning] min_gain_to_split is set=11.924671943447352, min_split_gain=0.0 will be ignored. Current value: min_gain_to_split=11.924671943447352\n",
      "[LightGBM] [Warning] lambda_l2 is set=85, reg_lambda=0.0 will be ignored. Current value: lambda_l2=85\n",
      "[LightGBM] [Warning] feature_fraction is set=0.4, colsample_bytree=1.0 will be ignored. Current value: feature_fraction=0.4\n",
      "[LightGBM] [Warning] min_data_in_leaf is set=3950, min_child_samples=20 will be ignored. Current value: min_data_in_leaf=3950\n",
      "[LightGBM] [Warning] bagging_freq is set=1, subsample_freq=0 will be ignored. Current value: bagging_freq=1\n",
      "score -0.7286996558206545\n",
      "train 360000 valid 90000\n",
      "training Light GBM:\n",
      "[LightGBM] [Warning] lambda_l1 is set=0.0008573449530522803, reg_alpha=0.0 will be ignored. Current value: lambda_l1=0.0008573449530522803\n",
      "[LightGBM] [Warning] bagging_fraction is set=0.5, subsample=1.0 will be ignored. Current value: bagging_fraction=0.5\n",
      "[LightGBM] [Warning] min_gain_to_split is set=11.924671943447352, min_split_gain=0.0 will be ignored. Current value: min_gain_to_split=11.924671943447352\n",
      "[LightGBM] [Warning] lambda_l2 is set=85, reg_lambda=0.0 will be ignored. Current value: lambda_l2=85\n",
      "[LightGBM] [Warning] feature_fraction is set=0.4, colsample_bytree=1.0 will be ignored. Current value: feature_fraction=0.4\n",
      "[LightGBM] [Warning] min_data_in_leaf is set=3950, min_child_samples=20 will be ignored. Current value: min_data_in_leaf=3950\n",
      "[LightGBM] [Warning] bagging_freq is set=1, subsample_freq=0 will be ignored. Current value: bagging_freq=1\n",
      "score -0.7334037286977751\n",
      "train 360000 valid 90000\n",
      "training Light GBM:\n",
      "[LightGBM] [Warning] lambda_l1 is set=0.0008573449530522803, reg_alpha=0.0 will be ignored. Current value: lambda_l1=0.0008573449530522803\n",
      "[LightGBM] [Warning] bagging_fraction is set=0.5, subsample=1.0 will be ignored. Current value: bagging_fraction=0.5\n",
      "[LightGBM] [Warning] min_gain_to_split is set=11.924671943447352, min_split_gain=0.0 will be ignored. Current value: min_gain_to_split=11.924671943447352\n",
      "[LightGBM] [Warning] lambda_l2 is set=85, reg_lambda=0.0 will be ignored. Current value: lambda_l2=85\n",
      "[LightGBM] [Warning] feature_fraction is set=0.4, colsample_bytree=1.0 will be ignored. Current value: feature_fraction=0.4\n",
      "[LightGBM] [Warning] min_data_in_leaf is set=3950, min_child_samples=20 will be ignored. Current value: min_data_in_leaf=3950\n",
      "[LightGBM] [Warning] bagging_freq is set=1, subsample_freq=0 will be ignored. Current value: bagging_freq=1\n",
      "score -0.7353144281240077\n",
      "train 360000 valid 90000\n",
      "training Light GBM:\n",
      "[LightGBM] [Warning] lambda_l1 is set=0.0008573449530522803, reg_alpha=0.0 will be ignored. Current value: lambda_l1=0.0008573449530522803\n",
      "[LightGBM] [Warning] bagging_fraction is set=0.5, subsample=1.0 will be ignored. Current value: bagging_fraction=0.5\n",
      "[LightGBM] [Warning] min_gain_to_split is set=11.924671943447352, min_split_gain=0.0 will be ignored. Current value: min_gain_to_split=11.924671943447352\n",
      "[LightGBM] [Warning] lambda_l2 is set=85, reg_lambda=0.0 will be ignored. Current value: lambda_l2=85\n",
      "[LightGBM] [Warning] feature_fraction is set=0.4, colsample_bytree=1.0 will be ignored. Current value: feature_fraction=0.4\n",
      "[LightGBM] [Warning] min_data_in_leaf is set=3950, min_child_samples=20 will be ignored. Current value: min_data_in_leaf=3950\n",
      "[LightGBM] [Warning] bagging_freq is set=1, subsample_freq=0 will be ignored. Current value: bagging_freq=1\n",
      "score -0.7441947439596898\n",
      "train 360000 valid 90000\n",
      "training Light GBM:\n",
      "[LightGBM] [Warning] lambda_l1 is set=0.0008573449530522803, reg_alpha=0.0 will be ignored. Current value: lambda_l1=0.0008573449530522803\n",
      "[LightGBM] [Warning] bagging_fraction is set=0.5, subsample=1.0 will be ignored. Current value: bagging_fraction=0.5\n",
      "[LightGBM] [Warning] min_gain_to_split is set=11.924671943447352, min_split_gain=0.0 will be ignored. Current value: min_gain_to_split=11.924671943447352\n",
      "[LightGBM] [Warning] lambda_l2 is set=85, reg_lambda=0.0 will be ignored. Current value: lambda_l2=85\n",
      "[LightGBM] [Warning] feature_fraction is set=0.4, colsample_bytree=1.0 will be ignored. Current value: feature_fraction=0.4\n",
      "[LightGBM] [Warning] min_data_in_leaf is set=3950, min_child_samples=20 will be ignored. Current value: min_data_in_leaf=3950\n",
      "[LightGBM] [Warning] bagging_freq is set=1, subsample_freq=0 will be ignored. Current value: bagging_freq=1\n"
     ]
    },
    {
     "name": "stderr",
     "output_type": "stream",
     "text": [
      "\u001b[32m[I 2022-02-11 10:08:37,734]\u001b[0m Trial 3 finished with value: -0.7362657193707612 and parameters: {'n_estimators': 20000, 'learning_rate': 0.1723570802342459, 'num_leaves': 2130, 'max_depth': 9, 'min_data_in_leaf': 3950, 'lambda_l1': 0.0008573449530522803, 'lambda_l2': 85, 'min_gain_to_split': 11.924671943447352, 'bagging_fraction': 0.5, 'bagging_freq': 1, 'feature_fraction': 0.4}. Best is trial 2 with value: -0.7388699031755597.\u001b[0m\n"
     ]
    },
    {
     "name": "stdout",
     "output_type": "stream",
     "text": [
      "score -0.739716040251679\n",
      "cancelled :5218 , not_cancelled :444782\n",
      "Memory usage of dataframe is 61.19 MB\n",
      "Memory usage after optimization is: 40.59 MB\n",
      "Decreased by 33.7%\n",
      "Features : ['first_mile_distance', 'elapse1', 'elapse2', 'last_mile_distance', 'tot_dist', 'alloted_orders', 'delivered_orders', 'del_ratio', 'undelivered_orders', 'lifetime_order_count', 'Hour', 'session_time', 'Monday', 'Saturday', 'Sunday', 'Thursday', 'Tuesday', 'Wednesday', 'dist_ratio']\n",
      "cat_features []\n",
      "(450000, 19) (450000,)\n",
      "train 360000 valid 90000\n",
      "training Light GBM:\n",
      "[LightGBM] [Warning] lambda_l1 is set=2.0750765005376879e-07, reg_alpha=0.0 will be ignored. Current value: lambda_l1=2.0750765005376879e-07\n",
      "[LightGBM] [Warning] bagging_fraction is set=0.4, subsample=1.0 will be ignored. Current value: bagging_fraction=0.4\n",
      "[LightGBM] [Warning] min_gain_to_split is set=9.611682451615485, min_split_gain=0.0 will be ignored. Current value: min_gain_to_split=9.611682451615485\n",
      "[LightGBM] [Warning] lambda_l2 is set=20, reg_lambda=0.0 will be ignored. Current value: lambda_l2=20\n",
      "[LightGBM] [Warning] feature_fraction is set=0.30000000000000004, colsample_bytree=1.0 will be ignored. Current value: feature_fraction=0.30000000000000004\n",
      "[LightGBM] [Warning] min_data_in_leaf is set=4400, min_child_samples=20 will be ignored. Current value: min_data_in_leaf=4400\n",
      "[LightGBM] [Warning] bagging_freq is set=1, subsample_freq=0 will be ignored. Current value: bagging_freq=1\n",
      "score -0.7306678630462016\n",
      "train 360000 valid 90000\n",
      "training Light GBM:\n",
      "[LightGBM] [Warning] lambda_l1 is set=2.0750765005376879e-07, reg_alpha=0.0 will be ignored. Current value: lambda_l1=2.0750765005376879e-07\n",
      "[LightGBM] [Warning] bagging_fraction is set=0.4, subsample=1.0 will be ignored. Current value: bagging_fraction=0.4\n",
      "[LightGBM] [Warning] min_gain_to_split is set=9.611682451615485, min_split_gain=0.0 will be ignored. Current value: min_gain_to_split=9.611682451615485\n",
      "[LightGBM] [Warning] lambda_l2 is set=20, reg_lambda=0.0 will be ignored. Current value: lambda_l2=20\n",
      "[LightGBM] [Warning] feature_fraction is set=0.30000000000000004, colsample_bytree=1.0 will be ignored. Current value: feature_fraction=0.30000000000000004\n",
      "[LightGBM] [Warning] min_data_in_leaf is set=4400, min_child_samples=20 will be ignored. Current value: min_data_in_leaf=4400\n",
      "[LightGBM] [Warning] bagging_freq is set=1, subsample_freq=0 will be ignored. Current value: bagging_freq=1\n",
      "score -0.7391245488585407\n",
      "train 360000 valid 90000\n",
      "training Light GBM:\n",
      "[LightGBM] [Warning] lambda_l1 is set=2.0750765005376879e-07, reg_alpha=0.0 will be ignored. Current value: lambda_l1=2.0750765005376879e-07\n",
      "[LightGBM] [Warning] bagging_fraction is set=0.4, subsample=1.0 will be ignored. Current value: bagging_fraction=0.4\n",
      "[LightGBM] [Warning] min_gain_to_split is set=9.611682451615485, min_split_gain=0.0 will be ignored. Current value: min_gain_to_split=9.611682451615485\n",
      "[LightGBM] [Warning] lambda_l2 is set=20, reg_lambda=0.0 will be ignored. Current value: lambda_l2=20\n",
      "[LightGBM] [Warning] feature_fraction is set=0.30000000000000004, colsample_bytree=1.0 will be ignored. Current value: feature_fraction=0.30000000000000004\n",
      "[LightGBM] [Warning] min_data_in_leaf is set=4400, min_child_samples=20 will be ignored. Current value: min_data_in_leaf=4400\n",
      "[LightGBM] [Warning] bagging_freq is set=1, subsample_freq=0 will be ignored. Current value: bagging_freq=1\n",
      "score -0.7263893669762088\n",
      "train 360000 valid 90000\n",
      "training Light GBM:\n",
      "[LightGBM] [Warning] lambda_l1 is set=2.0750765005376879e-07, reg_alpha=0.0 will be ignored. Current value: lambda_l1=2.0750765005376879e-07\n",
      "[LightGBM] [Warning] bagging_fraction is set=0.4, subsample=1.0 will be ignored. Current value: bagging_fraction=0.4\n",
      "[LightGBM] [Warning] min_gain_to_split is set=9.611682451615485, min_split_gain=0.0 will be ignored. Current value: min_gain_to_split=9.611682451615485\n",
      "[LightGBM] [Warning] lambda_l2 is set=20, reg_lambda=0.0 will be ignored. Current value: lambda_l2=20\n",
      "[LightGBM] [Warning] feature_fraction is set=0.30000000000000004, colsample_bytree=1.0 will be ignored. Current value: feature_fraction=0.30000000000000004\n",
      "[LightGBM] [Warning] min_data_in_leaf is set=4400, min_child_samples=20 will be ignored. Current value: min_data_in_leaf=4400\n",
      "[LightGBM] [Warning] bagging_freq is set=1, subsample_freq=0 will be ignored. Current value: bagging_freq=1\n",
      "score -0.7441347246191194\n",
      "train 360000 valid 90000\n",
      "training Light GBM:\n",
      "[LightGBM] [Warning] lambda_l1 is set=2.0750765005376879e-07, reg_alpha=0.0 will be ignored. Current value: lambda_l1=2.0750765005376879e-07\n",
      "[LightGBM] [Warning] bagging_fraction is set=0.4, subsample=1.0 will be ignored. Current value: bagging_fraction=0.4\n",
      "[LightGBM] [Warning] min_gain_to_split is set=9.611682451615485, min_split_gain=0.0 will be ignored. Current value: min_gain_to_split=9.611682451615485\n",
      "[LightGBM] [Warning] lambda_l2 is set=20, reg_lambda=0.0 will be ignored. Current value: lambda_l2=20\n",
      "[LightGBM] [Warning] feature_fraction is set=0.30000000000000004, colsample_bytree=1.0 will be ignored. Current value: feature_fraction=0.30000000000000004\n",
      "[LightGBM] [Warning] min_data_in_leaf is set=4400, min_child_samples=20 will be ignored. Current value: min_data_in_leaf=4400\n",
      "[LightGBM] [Warning] bagging_freq is set=1, subsample_freq=0 will be ignored. Current value: bagging_freq=1\n"
     ]
    },
    {
     "name": "stderr",
     "output_type": "stream",
     "text": [
      "\u001b[32m[I 2022-02-11 10:08:53,042]\u001b[0m Trial 4 finished with value: -0.737545984377286 and parameters: {'n_estimators': 10000, 'learning_rate': 0.405463613089095, 'num_leaves': 1935, 'max_depth': 3, 'min_data_in_leaf': 4400, 'lambda_l1': 2.0750765005376879e-07, 'lambda_l2': 20, 'min_gain_to_split': 9.611682451615485, 'bagging_fraction': 0.4, 'bagging_freq': 1, 'feature_fraction': 0.30000000000000004}. Best is trial 2 with value: -0.7388699031755597.\u001b[0m\n"
     ]
    },
    {
     "name": "stdout",
     "output_type": "stream",
     "text": [
      "score -0.7474134183863597\n",
      "cancelled :5218 , not_cancelled :444782\n",
      "Memory usage of dataframe is 61.19 MB\n",
      "Memory usage after optimization is: 40.59 MB\n",
      "Decreased by 33.7%\n",
      "Features : ['first_mile_distance', 'elapse1', 'elapse2', 'last_mile_distance', 'tot_dist', 'alloted_orders', 'delivered_orders', 'del_ratio', 'undelivered_orders', 'lifetime_order_count', 'Hour', 'session_time', 'Monday', 'Saturday', 'Sunday', 'Thursday', 'Tuesday', 'Wednesday', 'dist_ratio']\n",
      "cat_features []\n",
      "(450000, 19) (450000,)\n",
      "train 360000 valid 90000\n",
      "training Light GBM:\n",
      "[LightGBM] [Warning] lambda_l1 is set=7.081463116431042e-07, reg_alpha=0.0 will be ignored. Current value: lambda_l1=7.081463116431042e-07\n",
      "[LightGBM] [Warning] bagging_fraction is set=0.8, subsample=1.0 will be ignored. Current value: bagging_fraction=0.8\n",
      "[LightGBM] [Warning] min_gain_to_split is set=12.775742937799253, min_split_gain=0.0 will be ignored. Current value: min_gain_to_split=12.775742937799253\n",
      "[LightGBM] [Warning] lambda_l2 is set=75, reg_lambda=0.0 will be ignored. Current value: lambda_l2=75\n",
      "[LightGBM] [Warning] feature_fraction is set=0.4, colsample_bytree=1.0 will be ignored. Current value: feature_fraction=0.4\n",
      "[LightGBM] [Warning] min_data_in_leaf is set=2500, min_child_samples=20 will be ignored. Current value: min_data_in_leaf=2500\n",
      "[LightGBM] [Warning] bagging_freq is set=1, subsample_freq=0 will be ignored. Current value: bagging_freq=1\n",
      "score -0.751154621323664\n",
      "train 360000 valid 90000\n",
      "training Light GBM:\n",
      "[LightGBM] [Warning] lambda_l1 is set=7.081463116431042e-07, reg_alpha=0.0 will be ignored. Current value: lambda_l1=7.081463116431042e-07\n",
      "[LightGBM] [Warning] bagging_fraction is set=0.8, subsample=1.0 will be ignored. Current value: bagging_fraction=0.8\n",
      "[LightGBM] [Warning] min_gain_to_split is set=12.775742937799253, min_split_gain=0.0 will be ignored. Current value: min_gain_to_split=12.775742937799253\n",
      "[LightGBM] [Warning] lambda_l2 is set=75, reg_lambda=0.0 will be ignored. Current value: lambda_l2=75\n",
      "[LightGBM] [Warning] feature_fraction is set=0.4, colsample_bytree=1.0 will be ignored. Current value: feature_fraction=0.4\n",
      "[LightGBM] [Warning] min_data_in_leaf is set=2500, min_child_samples=20 will be ignored. Current value: min_data_in_leaf=2500\n",
      "[LightGBM] [Warning] bagging_freq is set=1, subsample_freq=0 will be ignored. Current value: bagging_freq=1\n",
      "score -0.7430800186988551\n",
      "train 360000 valid 90000\n",
      "training Light GBM:\n",
      "[LightGBM] [Warning] lambda_l1 is set=7.081463116431042e-07, reg_alpha=0.0 will be ignored. Current value: lambda_l1=7.081463116431042e-07\n",
      "[LightGBM] [Warning] bagging_fraction is set=0.8, subsample=1.0 will be ignored. Current value: bagging_fraction=0.8\n",
      "[LightGBM] [Warning] min_gain_to_split is set=12.775742937799253, min_split_gain=0.0 will be ignored. Current value: min_gain_to_split=12.775742937799253\n",
      "[LightGBM] [Warning] lambda_l2 is set=75, reg_lambda=0.0 will be ignored. Current value: lambda_l2=75\n",
      "[LightGBM] [Warning] feature_fraction is set=0.4, colsample_bytree=1.0 will be ignored. Current value: feature_fraction=0.4\n",
      "[LightGBM] [Warning] min_data_in_leaf is set=2500, min_child_samples=20 will be ignored. Current value: min_data_in_leaf=2500\n",
      "[LightGBM] [Warning] bagging_freq is set=1, subsample_freq=0 will be ignored. Current value: bagging_freq=1\n",
      "score -0.737184433295965\n",
      "train 360000 valid 90000\n",
      "training Light GBM:\n",
      "[LightGBM] [Warning] lambda_l1 is set=7.081463116431042e-07, reg_alpha=0.0 will be ignored. Current value: lambda_l1=7.081463116431042e-07\n",
      "[LightGBM] [Warning] bagging_fraction is set=0.8, subsample=1.0 will be ignored. Current value: bagging_fraction=0.8\n",
      "[LightGBM] [Warning] min_gain_to_split is set=12.775742937799253, min_split_gain=0.0 will be ignored. Current value: min_gain_to_split=12.775742937799253\n",
      "[LightGBM] [Warning] lambda_l2 is set=75, reg_lambda=0.0 will be ignored. Current value: lambda_l2=75\n",
      "[LightGBM] [Warning] feature_fraction is set=0.4, colsample_bytree=1.0 will be ignored. Current value: feature_fraction=0.4\n",
      "[LightGBM] [Warning] min_data_in_leaf is set=2500, min_child_samples=20 will be ignored. Current value: min_data_in_leaf=2500\n",
      "[LightGBM] [Warning] bagging_freq is set=1, subsample_freq=0 will be ignored. Current value: bagging_freq=1\n",
      "score -0.7375707795355886\n",
      "train 360000 valid 90000\n",
      "training Light GBM:\n",
      "[LightGBM] [Warning] lambda_l1 is set=7.081463116431042e-07, reg_alpha=0.0 will be ignored. Current value: lambda_l1=7.081463116431042e-07\n",
      "[LightGBM] [Warning] bagging_fraction is set=0.8, subsample=1.0 will be ignored. Current value: bagging_fraction=0.8\n",
      "[LightGBM] [Warning] min_gain_to_split is set=12.775742937799253, min_split_gain=0.0 will be ignored. Current value: min_gain_to_split=12.775742937799253\n",
      "[LightGBM] [Warning] lambda_l2 is set=75, reg_lambda=0.0 will be ignored. Current value: lambda_l2=75\n",
      "[LightGBM] [Warning] feature_fraction is set=0.4, colsample_bytree=1.0 will be ignored. Current value: feature_fraction=0.4\n",
      "[LightGBM] [Warning] min_data_in_leaf is set=2500, min_child_samples=20 will be ignored. Current value: min_data_in_leaf=2500\n",
      "[LightGBM] [Warning] bagging_freq is set=1, subsample_freq=0 will be ignored. Current value: bagging_freq=1\n"
     ]
    },
    {
     "name": "stderr",
     "output_type": "stream",
     "text": [
      "\u001b[32m[I 2022-02-11 10:09:07,969]\u001b[0m Trial 5 finished with value: -0.7409767869868341 and parameters: {'n_estimators': 15000, 'learning_rate': 0.29624387595283214, 'num_leaves': 923, 'max_depth': 11, 'min_data_in_leaf': 2500, 'lambda_l1': 7.081463116431042e-07, 'lambda_l2': 75, 'min_gain_to_split': 12.775742937799253, 'bagging_fraction': 0.8, 'bagging_freq': 1, 'feature_fraction': 0.4}. Best is trial 5 with value: -0.7409767869868341.\u001b[0m\n"
     ]
    },
    {
     "name": "stdout",
     "output_type": "stream",
     "text": [
      "score -0.7358940820800983\n",
      "cancelled :5218 , not_cancelled :444782\n",
      "Memory usage of dataframe is 61.19 MB\n",
      "Memory usage after optimization is: 40.59 MB\n",
      "Decreased by 33.7%\n",
      "Features : ['first_mile_distance', 'elapse1', 'elapse2', 'last_mile_distance', 'tot_dist', 'alloted_orders', 'delivered_orders', 'del_ratio', 'undelivered_orders', 'lifetime_order_count', 'Hour', 'session_time', 'Monday', 'Saturday', 'Sunday', 'Thursday', 'Tuesday', 'Wednesday', 'dist_ratio']\n",
      "cat_features []\n",
      "(450000, 19) (450000,)\n",
      "train 360000 valid 90000\n",
      "training Light GBM:\n",
      "[LightGBM] [Warning] lambda_l1 is set=3.4408455847921168e-06, reg_alpha=0.0 will be ignored. Current value: lambda_l1=3.4408455847921168e-06\n",
      "[LightGBM] [Warning] bagging_fraction is set=0.9, subsample=1.0 will be ignored. Current value: bagging_fraction=0.9\n",
      "[LightGBM] [Warning] min_gain_to_split is set=11.724672581729454, min_split_gain=0.0 will be ignored. Current value: min_gain_to_split=11.724672581729454\n",
      "[LightGBM] [Warning] lambda_l2 is set=0, reg_lambda=0.0 will be ignored. Current value: lambda_l2=0\n",
      "[LightGBM] [Warning] feature_fraction is set=0.6000000000000001, colsample_bytree=1.0 will be ignored. Current value: feature_fraction=0.6000000000000001\n",
      "[LightGBM] [Warning] min_data_in_leaf is set=5250, min_child_samples=20 will be ignored. Current value: min_data_in_leaf=5250\n",
      "[LightGBM] [Warning] bagging_freq is set=1, subsample_freq=0 will be ignored. Current value: bagging_freq=1\n",
      "score -0.7264608577570054\n",
      "train 360000 valid 90000\n",
      "training Light GBM:\n",
      "[LightGBM] [Warning] lambda_l1 is set=3.4408455847921168e-06, reg_alpha=0.0 will be ignored. Current value: lambda_l1=3.4408455847921168e-06\n",
      "[LightGBM] [Warning] bagging_fraction is set=0.9, subsample=1.0 will be ignored. Current value: bagging_fraction=0.9\n",
      "[LightGBM] [Warning] min_gain_to_split is set=11.724672581729454, min_split_gain=0.0 will be ignored. Current value: min_gain_to_split=11.724672581729454\n",
      "[LightGBM] [Warning] lambda_l2 is set=0, reg_lambda=0.0 will be ignored. Current value: lambda_l2=0\n",
      "[LightGBM] [Warning] feature_fraction is set=0.6000000000000001, colsample_bytree=1.0 will be ignored. Current value: feature_fraction=0.6000000000000001\n",
      "[LightGBM] [Warning] min_data_in_leaf is set=5250, min_child_samples=20 will be ignored. Current value: min_data_in_leaf=5250\n",
      "[LightGBM] [Warning] bagging_freq is set=1, subsample_freq=0 will be ignored. Current value: bagging_freq=1\n",
      "score -0.7407090292614578\n",
      "train 360000 valid 90000\n",
      "training Light GBM:\n",
      "[LightGBM] [Warning] lambda_l1 is set=3.4408455847921168e-06, reg_alpha=0.0 will be ignored. Current value: lambda_l1=3.4408455847921168e-06\n",
      "[LightGBM] [Warning] bagging_fraction is set=0.9, subsample=1.0 will be ignored. Current value: bagging_fraction=0.9\n",
      "[LightGBM] [Warning] min_gain_to_split is set=11.724672581729454, min_split_gain=0.0 will be ignored. Current value: min_gain_to_split=11.724672581729454\n",
      "[LightGBM] [Warning] lambda_l2 is set=0, reg_lambda=0.0 will be ignored. Current value: lambda_l2=0\n",
      "[LightGBM] [Warning] feature_fraction is set=0.6000000000000001, colsample_bytree=1.0 will be ignored. Current value: feature_fraction=0.6000000000000001\n",
      "[LightGBM] [Warning] min_data_in_leaf is set=5250, min_child_samples=20 will be ignored. Current value: min_data_in_leaf=5250\n",
      "[LightGBM] [Warning] bagging_freq is set=1, subsample_freq=0 will be ignored. Current value: bagging_freq=1\n",
      "score -0.7467841197998959\n",
      "train 360000 valid 90000\n",
      "training Light GBM:\n",
      "[LightGBM] [Warning] lambda_l1 is set=3.4408455847921168e-06, reg_alpha=0.0 will be ignored. Current value: lambda_l1=3.4408455847921168e-06\n",
      "[LightGBM] [Warning] bagging_fraction is set=0.9, subsample=1.0 will be ignored. Current value: bagging_fraction=0.9\n",
      "[LightGBM] [Warning] min_gain_to_split is set=11.724672581729454, min_split_gain=0.0 will be ignored. Current value: min_gain_to_split=11.724672581729454\n",
      "[LightGBM] [Warning] lambda_l2 is set=0, reg_lambda=0.0 will be ignored. Current value: lambda_l2=0\n",
      "[LightGBM] [Warning] feature_fraction is set=0.6000000000000001, colsample_bytree=1.0 will be ignored. Current value: feature_fraction=0.6000000000000001\n",
      "[LightGBM] [Warning] min_data_in_leaf is set=5250, min_child_samples=20 will be ignored. Current value: min_data_in_leaf=5250\n",
      "[LightGBM] [Warning] bagging_freq is set=1, subsample_freq=0 will be ignored. Current value: bagging_freq=1\n",
      "score -0.7404236041013172\n",
      "train 360000 valid 90000\n",
      "training Light GBM:\n",
      "[LightGBM] [Warning] lambda_l1 is set=3.4408455847921168e-06, reg_alpha=0.0 will be ignored. Current value: lambda_l1=3.4408455847921168e-06\n",
      "[LightGBM] [Warning] bagging_fraction is set=0.9, subsample=1.0 will be ignored. Current value: bagging_fraction=0.9\n",
      "[LightGBM] [Warning] min_gain_to_split is set=11.724672581729454, min_split_gain=0.0 will be ignored. Current value: min_gain_to_split=11.724672581729454\n",
      "[LightGBM] [Warning] lambda_l2 is set=0, reg_lambda=0.0 will be ignored. Current value: lambda_l2=0\n",
      "[LightGBM] [Warning] feature_fraction is set=0.6000000000000001, colsample_bytree=1.0 will be ignored. Current value: feature_fraction=0.6000000000000001\n",
      "[LightGBM] [Warning] min_data_in_leaf is set=5250, min_child_samples=20 will be ignored. Current value: min_data_in_leaf=5250\n",
      "[LightGBM] [Warning] bagging_freq is set=1, subsample_freq=0 will be ignored. Current value: bagging_freq=1\n"
     ]
    },
    {
     "name": "stderr",
     "output_type": "stream",
     "text": [
      "\u001b[32m[I 2022-02-11 10:09:21,362]\u001b[0m Trial 6 finished with value: -0.7375300264814666 and parameters: {'n_estimators': 10000, 'learning_rate': 0.37189935338299984, 'num_leaves': 316, 'max_depth': 3, 'min_data_in_leaf': 5250, 'lambda_l1': 3.4408455847921168e-06, 'lambda_l2': 0, 'min_gain_to_split': 11.724672581729454, 'bagging_fraction': 0.9, 'bagging_freq': 1, 'feature_fraction': 0.6000000000000001}. Best is trial 5 with value: -0.7409767869868341.\u001b[0m\n"
     ]
    },
    {
     "name": "stdout",
     "output_type": "stream",
     "text": [
      "score -0.7332725214876562\n",
      "cancelled :5218 , not_cancelled :444782\n",
      "Memory usage of dataframe is 61.19 MB\n",
      "Memory usage after optimization is: 40.59 MB\n",
      "Decreased by 33.7%\n",
      "Features : ['first_mile_distance', 'elapse1', 'elapse2', 'last_mile_distance', 'tot_dist', 'alloted_orders', 'delivered_orders', 'del_ratio', 'undelivered_orders', 'lifetime_order_count', 'Hour', 'session_time', 'Monday', 'Saturday', 'Sunday', 'Thursday', 'Tuesday', 'Wednesday', 'dist_ratio']\n",
      "cat_features []\n",
      "(450000, 19) (450000,)\n",
      "train 360000 valid 90000\n",
      "training Light GBM:\n",
      "[LightGBM] [Warning] lambda_l1 is set=0.0018619354964509306, reg_alpha=0.0 will be ignored. Current value: lambda_l1=0.0018619354964509306\n",
      "[LightGBM] [Warning] bagging_fraction is set=0.2, subsample=1.0 will be ignored. Current value: bagging_fraction=0.2\n",
      "[LightGBM] [Warning] min_gain_to_split is set=4.803402417780701, min_split_gain=0.0 will be ignored. Current value: min_gain_to_split=4.803402417780701\n",
      "[LightGBM] [Warning] lambda_l2 is set=25, reg_lambda=0.0 will be ignored. Current value: lambda_l2=25\n",
      "[LightGBM] [Warning] feature_fraction is set=0.7, colsample_bytree=1.0 will be ignored. Current value: feature_fraction=0.7\n",
      "[LightGBM] [Warning] min_data_in_leaf is set=7800, min_child_samples=20 will be ignored. Current value: min_data_in_leaf=7800\n",
      "[LightGBM] [Warning] bagging_freq is set=1, subsample_freq=0 will be ignored. Current value: bagging_freq=1\n"
     ]
    },
    {
     "name": "stderr",
     "output_type": "stream",
     "text": [
      "\u001b[32m[I 2022-02-11 10:09:25,068]\u001b[0m Trial 7 pruned. Trial was pruned at iteration 0.\u001b[0m\n"
     ]
    },
    {
     "name": "stdout",
     "output_type": "stream",
     "text": [
      "cancelled :5218 , not_cancelled :444782\n",
      "Memory usage of dataframe is 61.19 MB\n",
      "Memory usage after optimization is: 40.59 MB\n",
      "Decreased by 33.7%\n",
      "Features : ['first_mile_distance', 'elapse1', 'elapse2', 'last_mile_distance', 'tot_dist', 'alloted_orders', 'delivered_orders', 'del_ratio', 'undelivered_orders', 'lifetime_order_count', 'Hour', 'session_time', 'Monday', 'Saturday', 'Sunday', 'Thursday', 'Tuesday', 'Wednesday', 'dist_ratio']\n",
      "cat_features []\n",
      "(450000, 19) (450000,)\n",
      "train 360000 valid 90000\n",
      "training Light GBM:\n",
      "score -0.7470954623589187\n",
      "train 360000 valid 90000\n",
      "training Light GBM:\n",
      "[LightGBM] [Warning] lambda_l1 is set=0.5073946430169506, reg_alpha=0.0 will be ignored. Current value: lambda_l1=0.5073946430169506\n",
      "[LightGBM] [Warning] bagging_fraction is set=0.5, subsample=1.0 will be ignored. Current value: bagging_fraction=0.5\n",
      "[LightGBM] [Warning] min_gain_to_split is set=3.4810404448614998, min_split_gain=0.0 will be ignored. Current value: min_gain_to_split=3.4810404448614998\n",
      "[LightGBM] [Warning] lambda_l2 is set=80, reg_lambda=0.0 will be ignored. Current value: lambda_l2=80\n",
      "[LightGBM] [Warning] feature_fraction is set=0.7, colsample_bytree=1.0 will be ignored. Current value: feature_fraction=0.7\n",
      "[LightGBM] [Warning] min_data_in_leaf is set=1650, min_child_samples=20 will be ignored. Current value: min_data_in_leaf=1650\n",
      "[LightGBM] [Warning] bagging_freq is set=1, subsample_freq=0 will be ignored. Current value: bagging_freq=1\n",
      "score -0.7468856914084694\n",
      "train 360000 valid 90000\n",
      "training Light GBM:\n",
      "[LightGBM] [Warning] lambda_l1 is set=0.5073946430169506, reg_alpha=0.0 will be ignored. Current value: lambda_l1=0.5073946430169506\n",
      "[LightGBM] [Warning] bagging_fraction is set=0.5, subsample=1.0 will be ignored. Current value: bagging_fraction=0.5\n",
      "[LightGBM] [Warning] min_gain_to_split is set=3.4810404448614998, min_split_gain=0.0 will be ignored. Current value: min_gain_to_split=3.4810404448614998\n",
      "[LightGBM] [Warning] lambda_l2 is set=80, reg_lambda=0.0 will be ignored. Current value: lambda_l2=80\n",
      "[LightGBM] [Warning] feature_fraction is set=0.7, colsample_bytree=1.0 will be ignored. Current value: feature_fraction=0.7\n",
      "[LightGBM] [Warning] min_data_in_leaf is set=1650, min_child_samples=20 will be ignored. Current value: min_data_in_leaf=1650\n",
      "[LightGBM] [Warning] bagging_freq is set=1, subsample_freq=0 will be ignored. Current value: bagging_freq=1\n",
      "score -0.7428788355308983\n",
      "train 360000 valid 90000\n",
      "training Light GBM:\n",
      "[LightGBM] [Warning] lambda_l1 is set=0.5073946430169506, reg_alpha=0.0 will be ignored. Current value: lambda_l1=0.5073946430169506\n",
      "[LightGBM] [Warning] bagging_fraction is set=0.5, subsample=1.0 will be ignored. Current value: bagging_fraction=0.5\n",
      "[LightGBM] [Warning] min_gain_to_split is set=3.4810404448614998, min_split_gain=0.0 will be ignored. Current value: min_gain_to_split=3.4810404448614998\n",
      "[LightGBM] [Warning] lambda_l2 is set=80, reg_lambda=0.0 will be ignored. Current value: lambda_l2=80\n",
      "[LightGBM] [Warning] feature_fraction is set=0.7, colsample_bytree=1.0 will be ignored. Current value: feature_fraction=0.7\n",
      "[LightGBM] [Warning] min_data_in_leaf is set=1650, min_child_samples=20 will be ignored. Current value: min_data_in_leaf=1650\n",
      "[LightGBM] [Warning] bagging_freq is set=1, subsample_freq=0 will be ignored. Current value: bagging_freq=1\n",
      "score -0.7510659032172089\n",
      "train 360000 valid 90000\n",
      "training Light GBM:\n",
      "[LightGBM] [Warning] lambda_l1 is set=0.5073946430169506, reg_alpha=0.0 will be ignored. Current value: lambda_l1=0.5073946430169506\n",
      "[LightGBM] [Warning] bagging_fraction is set=0.5, subsample=1.0 will be ignored. Current value: bagging_fraction=0.5\n",
      "[LightGBM] [Warning] min_gain_to_split is set=3.4810404448614998, min_split_gain=0.0 will be ignored. Current value: min_gain_to_split=3.4810404448614998\n",
      "[LightGBM] [Warning] lambda_l2 is set=80, reg_lambda=0.0 will be ignored. Current value: lambda_l2=80\n",
      "[LightGBM] [Warning] feature_fraction is set=0.7, colsample_bytree=1.0 will be ignored. Current value: feature_fraction=0.7\n",
      "[LightGBM] [Warning] min_data_in_leaf is set=1650, min_child_samples=20 will be ignored. Current value: min_data_in_leaf=1650\n",
      "[LightGBM] [Warning] bagging_freq is set=1, subsample_freq=0 will be ignored. Current value: bagging_freq=1\n"
     ]
    },
    {
     "name": "stderr",
     "output_type": "stream",
     "text": [
      "\u001b[32m[I 2022-02-11 10:09:45,412]\u001b[0m Trial 8 finished with value: -0.7471360800724142 and parameters: {'n_estimators': 10000, 'learning_rate': 0.33263901088758024, 'num_leaves': 107, 'max_depth': 6, 'min_data_in_leaf': 1650, 'lambda_l1': 0.5073946430169506, 'lambda_l2': 80, 'min_gain_to_split': 3.4810404448614998, 'bagging_fraction': 0.5, 'bagging_freq': 1, 'feature_fraction': 0.7}. Best is trial 8 with value: -0.7471360800724142.\u001b[0m\n"
     ]
    },
    {
     "name": "stdout",
     "output_type": "stream",
     "text": [
      "score -0.7477545078465758\n",
      "cancelled :5218 , not_cancelled :444782\n",
      "Memory usage of dataframe is 61.19 MB\n",
      "Memory usage after optimization is: 40.59 MB\n",
      "Decreased by 33.7%\n",
      "Features : ['first_mile_distance', 'elapse1', 'elapse2', 'last_mile_distance', 'tot_dist', 'alloted_orders', 'delivered_orders', 'del_ratio', 'undelivered_orders', 'lifetime_order_count', 'Hour', 'session_time', 'Monday', 'Saturday', 'Sunday', 'Thursday', 'Tuesday', 'Wednesday', 'dist_ratio']\n",
      "cat_features []\n",
      "(450000, 19) (450000,)\n",
      "train 360000 valid 90000\n",
      "training Light GBM:\n",
      "[LightGBM] [Warning] lambda_l1 is set=30.233275654740176, reg_alpha=0.0 will be ignored. Current value: lambda_l1=30.233275654740176\n",
      "[LightGBM] [Warning] bagging_fraction is set=0.8, subsample=1.0 will be ignored. Current value: bagging_fraction=0.8\n",
      "[LightGBM] [Warning] min_gain_to_split is set=6.052993701357364, min_split_gain=0.0 will be ignored. Current value: min_gain_to_split=6.052993701357364\n",
      "[LightGBM] [Warning] lambda_l2 is set=50, reg_lambda=0.0 will be ignored. Current value: lambda_l2=50\n",
      "[LightGBM] [Warning] feature_fraction is set=0.30000000000000004, colsample_bytree=1.0 will be ignored. Current value: feature_fraction=0.30000000000000004\n",
      "[LightGBM] [Warning] min_data_in_leaf is set=5800, min_child_samples=20 will be ignored. Current value: min_data_in_leaf=5800\n",
      "[LightGBM] [Warning] bagging_freq is set=1, subsample_freq=0 will be ignored. Current value: bagging_freq=1\n"
     ]
    },
    {
     "name": "stderr",
     "output_type": "stream",
     "text": [
      "\u001b[32m[I 2022-02-11 10:09:49,959]\u001b[0m Trial 9 pruned. Trial was pruned at iteration 80.\u001b[0m\n"
     ]
    },
    {
     "name": "stdout",
     "output_type": "stream",
     "text": [
      "cancelled :5218 , not_cancelled :444782\n",
      "Memory usage of dataframe is 61.19 MB\n",
      "Memory usage after optimization is: 40.59 MB\n",
      "Decreased by 33.7%\n",
      "Features : ['first_mile_distance', 'elapse1', 'elapse2', 'last_mile_distance', 'tot_dist', 'alloted_orders', 'delivered_orders', 'del_ratio', 'undelivered_orders', 'lifetime_order_count', 'Hour', 'session_time', 'Monday', 'Saturday', 'Sunday', 'Thursday', 'Tuesday', 'Wednesday', 'dist_ratio']\n",
      "cat_features []\n",
      "(450000, 19) (450000,)\n",
      "train 360000 valid 90000\n",
      "training Light GBM:\n"
     ]
    },
    {
     "name": "stderr",
     "output_type": "stream",
     "text": [
      "\u001b[32m[I 2022-02-11 10:09:54,393]\u001b[0m Trial 10 pruned. Trial was pruned at iteration 0.\u001b[0m\n"
     ]
    },
    {
     "name": "stdout",
     "output_type": "stream",
     "text": [
      "cancelled :5218 , not_cancelled :444782\n",
      "Memory usage of dataframe is 61.19 MB\n",
      "Memory usage after optimization is: 40.59 MB\n",
      "Decreased by 33.7%\n",
      "Features : ['first_mile_distance', 'elapse1', 'elapse2', 'last_mile_distance', 'tot_dist', 'alloted_orders', 'delivered_orders', 'del_ratio', 'undelivered_orders', 'lifetime_order_count', 'Hour', 'session_time', 'Monday', 'Saturday', 'Sunday', 'Thursday', 'Tuesday', 'Wednesday', 'dist_ratio']\n",
      "cat_features []\n",
      "(450000, 19) (450000,)\n",
      "train 360000 valid 90000\n",
      "training Light GBM:\n",
      "score -0.7541577366534646\n",
      "train 360000 valid 90000\n",
      "training Light GBM:\n",
      "[LightGBM] [Warning] lambda_l1 is set=0.0003510369960623, reg_alpha=0.0 will be ignored. Current value: lambda_l1=0.0003510369960623\n",
      "[LightGBM] [Warning] bagging_fraction is set=0.7, subsample=1.0 will be ignored. Current value: bagging_fraction=0.7\n",
      "[LightGBM] [Warning] min_gain_to_split is set=3.3508528024559574, min_split_gain=0.0 will be ignored. Current value: min_gain_to_split=3.3508528024559574\n",
      "[LightGBM] [Warning] lambda_l2 is set=65, reg_lambda=0.0 will be ignored. Current value: lambda_l2=65\n",
      "[LightGBM] [Warning] feature_fraction is set=0.7, colsample_bytree=1.0 will be ignored. Current value: feature_fraction=0.7\n",
      "[LightGBM] [Warning] min_data_in_leaf is set=1550, min_child_samples=20 will be ignored. Current value: min_data_in_leaf=1550\n",
      "[LightGBM] [Warning] bagging_freq is set=1, subsample_freq=0 will be ignored. Current value: bagging_freq=1\n",
      "score -0.7573048451959257\n",
      "train 360000 valid 90000\n",
      "training Light GBM:\n",
      "[LightGBM] [Warning] lambda_l1 is set=0.0003510369960623, reg_alpha=0.0 will be ignored. Current value: lambda_l1=0.0003510369960623\n",
      "[LightGBM] [Warning] bagging_fraction is set=0.7, subsample=1.0 will be ignored. Current value: bagging_fraction=0.7\n",
      "[LightGBM] [Warning] min_gain_to_split is set=3.3508528024559574, min_split_gain=0.0 will be ignored. Current value: min_gain_to_split=3.3508528024559574\n",
      "[LightGBM] [Warning] lambda_l2 is set=65, reg_lambda=0.0 will be ignored. Current value: lambda_l2=65\n",
      "[LightGBM] [Warning] feature_fraction is set=0.7, colsample_bytree=1.0 will be ignored. Current value: feature_fraction=0.7\n",
      "[LightGBM] [Warning] min_data_in_leaf is set=1550, min_child_samples=20 will be ignored. Current value: min_data_in_leaf=1550\n",
      "[LightGBM] [Warning] bagging_freq is set=1, subsample_freq=0 will be ignored. Current value: bagging_freq=1\n",
      "score -0.7474149527882311\n",
      "train 360000 valid 90000\n",
      "training Light GBM:\n",
      "[LightGBM] [Warning] lambda_l1 is set=0.0003510369960623, reg_alpha=0.0 will be ignored. Current value: lambda_l1=0.0003510369960623\n",
      "[LightGBM] [Warning] bagging_fraction is set=0.7, subsample=1.0 will be ignored. Current value: bagging_fraction=0.7\n",
      "[LightGBM] [Warning] min_gain_to_split is set=3.3508528024559574, min_split_gain=0.0 will be ignored. Current value: min_gain_to_split=3.3508528024559574\n",
      "[LightGBM] [Warning] lambda_l2 is set=65, reg_lambda=0.0 will be ignored. Current value: lambda_l2=65\n",
      "[LightGBM] [Warning] feature_fraction is set=0.7, colsample_bytree=1.0 will be ignored. Current value: feature_fraction=0.7\n",
      "[LightGBM] [Warning] min_data_in_leaf is set=1550, min_child_samples=20 will be ignored. Current value: min_data_in_leaf=1550\n",
      "[LightGBM] [Warning] bagging_freq is set=1, subsample_freq=0 will be ignored. Current value: bagging_freq=1\n",
      "score -0.7360348109591053\n",
      "train 360000 valid 90000\n",
      "training Light GBM:\n",
      "[LightGBM] [Warning] lambda_l1 is set=0.0003510369960623, reg_alpha=0.0 will be ignored. Current value: lambda_l1=0.0003510369960623\n",
      "[LightGBM] [Warning] bagging_fraction is set=0.7, subsample=1.0 will be ignored. Current value: bagging_fraction=0.7\n",
      "[LightGBM] [Warning] min_gain_to_split is set=3.3508528024559574, min_split_gain=0.0 will be ignored. Current value: min_gain_to_split=3.3508528024559574\n",
      "[LightGBM] [Warning] lambda_l2 is set=65, reg_lambda=0.0 will be ignored. Current value: lambda_l2=65\n",
      "[LightGBM] [Warning] feature_fraction is set=0.7, colsample_bytree=1.0 will be ignored. Current value: feature_fraction=0.7\n",
      "[LightGBM] [Warning] min_data_in_leaf is set=1550, min_child_samples=20 will be ignored. Current value: min_data_in_leaf=1550\n",
      "[LightGBM] [Warning] bagging_freq is set=1, subsample_freq=0 will be ignored. Current value: bagging_freq=1\n"
     ]
    },
    {
     "name": "stderr",
     "output_type": "stream",
     "text": [
      "\u001b[32m[I 2022-02-11 10:10:09,750]\u001b[0m Trial 11 finished with value: -0.7464450992732343 and parameters: {'n_estimators': 15000, 'learning_rate': 0.47918222898614427, 'num_leaves': 554, 'max_depth': 12, 'min_data_in_leaf': 1550, 'lambda_l1': 0.0003510369960623, 'lambda_l2': 65, 'min_gain_to_split': 3.3508528024559574, 'bagging_fraction': 0.7, 'bagging_freq': 1, 'feature_fraction': 0.7}. Best is trial 8 with value: -0.7471360800724142.\u001b[0m\n"
     ]
    },
    {
     "name": "stdout",
     "output_type": "stream",
     "text": [
      "score -0.737313150769445\n",
      "cancelled :5218 , not_cancelled :444782\n",
      "Memory usage of dataframe is 61.19 MB\n",
      "Memory usage after optimization is: 40.59 MB\n",
      "Decreased by 33.7%\n",
      "Features : ['first_mile_distance', 'elapse1', 'elapse2', 'last_mile_distance', 'tot_dist', 'alloted_orders', 'delivered_orders', 'del_ratio', 'undelivered_orders', 'lifetime_order_count', 'Hour', 'session_time', 'Monday', 'Saturday', 'Sunday', 'Thursday', 'Tuesday', 'Wednesday', 'dist_ratio']\n",
      "cat_features []\n",
      "(450000, 19) (450000,)\n",
      "train 360000 valid 90000\n",
      "training Light GBM:\n",
      "[LightGBM] [Warning] lambda_l1 is set=0.0004189783112879489, reg_alpha=0.0 will be ignored. Current value: lambda_l1=0.0004189783112879489\n",
      "[LightGBM] [Warning] bagging_fraction is set=0.6000000000000001, subsample=1.0 will be ignored. Current value: bagging_fraction=0.6000000000000001\n",
      "[LightGBM] [Warning] min_gain_to_split is set=2.941832404211504, min_split_gain=0.0 will be ignored. Current value: min_gain_to_split=2.941832404211504\n",
      "[LightGBM] [Warning] lambda_l2 is set=60, reg_lambda=0.0 will be ignored. Current value: lambda_l2=60\n",
      "[LightGBM] [Warning] feature_fraction is set=0.8, colsample_bytree=1.0 will be ignored. Current value: feature_fraction=0.8\n",
      "[LightGBM] [Warning] min_data_in_leaf is set=650, min_child_samples=20 will be ignored. Current value: min_data_in_leaf=650\n",
      "[LightGBM] [Warning] bagging_freq is set=1, subsample_freq=0 will be ignored. Current value: bagging_freq=1\n",
      "score -0.7259942701694856\n",
      "train 360000 valid 90000\n",
      "training Light GBM:\n",
      "[LightGBM] [Warning] lambda_l1 is set=0.0004189783112879489, reg_alpha=0.0 will be ignored. Current value: lambda_l1=0.0004189783112879489\n",
      "[LightGBM] [Warning] bagging_fraction is set=0.6000000000000001, subsample=1.0 will be ignored. Current value: bagging_fraction=0.6000000000000001\n",
      "[LightGBM] [Warning] min_gain_to_split is set=2.941832404211504, min_split_gain=0.0 will be ignored. Current value: min_gain_to_split=2.941832404211504\n",
      "[LightGBM] [Warning] lambda_l2 is set=60, reg_lambda=0.0 will be ignored. Current value: lambda_l2=60\n",
      "[LightGBM] [Warning] feature_fraction is set=0.8, colsample_bytree=1.0 will be ignored. Current value: feature_fraction=0.8\n",
      "[LightGBM] [Warning] min_data_in_leaf is set=650, min_child_samples=20 will be ignored. Current value: min_data_in_leaf=650\n",
      "[LightGBM] [Warning] bagging_freq is set=1, subsample_freq=0 will be ignored. Current value: bagging_freq=1\n",
      "score -0.74886558730461\n",
      "train 360000 valid 90000\n",
      "training Light GBM:\n",
      "[LightGBM] [Warning] lambda_l1 is set=0.0004189783112879489, reg_alpha=0.0 will be ignored. Current value: lambda_l1=0.0004189783112879489\n",
      "[LightGBM] [Warning] bagging_fraction is set=0.6000000000000001, subsample=1.0 will be ignored. Current value: bagging_fraction=0.6000000000000001\n",
      "[LightGBM] [Warning] min_gain_to_split is set=2.941832404211504, min_split_gain=0.0 will be ignored. Current value: min_gain_to_split=2.941832404211504\n",
      "[LightGBM] [Warning] lambda_l2 is set=60, reg_lambda=0.0 will be ignored. Current value: lambda_l2=60\n",
      "[LightGBM] [Warning] feature_fraction is set=0.8, colsample_bytree=1.0 will be ignored. Current value: feature_fraction=0.8\n",
      "[LightGBM] [Warning] min_data_in_leaf is set=650, min_child_samples=20 will be ignored. Current value: min_data_in_leaf=650\n",
      "[LightGBM] [Warning] bagging_freq is set=1, subsample_freq=0 will be ignored. Current value: bagging_freq=1\n",
      "score -0.7505724611108269\n",
      "train 360000 valid 90000\n",
      "training Light GBM:\n",
      "[LightGBM] [Warning] lambda_l1 is set=0.0004189783112879489, reg_alpha=0.0 will be ignored. Current value: lambda_l1=0.0004189783112879489\n",
      "[LightGBM] [Warning] bagging_fraction is set=0.6000000000000001, subsample=1.0 will be ignored. Current value: bagging_fraction=0.6000000000000001\n",
      "[LightGBM] [Warning] min_gain_to_split is set=2.941832404211504, min_split_gain=0.0 will be ignored. Current value: min_gain_to_split=2.941832404211504\n",
      "[LightGBM] [Warning] lambda_l2 is set=60, reg_lambda=0.0 will be ignored. Current value: lambda_l2=60\n",
      "[LightGBM] [Warning] feature_fraction is set=0.8, colsample_bytree=1.0 will be ignored. Current value: feature_fraction=0.8\n",
      "[LightGBM] [Warning] min_data_in_leaf is set=650, min_child_samples=20 will be ignored. Current value: min_data_in_leaf=650\n",
      "[LightGBM] [Warning] bagging_freq is set=1, subsample_freq=0 will be ignored. Current value: bagging_freq=1\n",
      "score -0.7570250516894228\n",
      "train 360000 valid 90000\n",
      "training Light GBM:\n",
      "[LightGBM] [Warning] lambda_l1 is set=0.0004189783112879489, reg_alpha=0.0 will be ignored. Current value: lambda_l1=0.0004189783112879489\n",
      "[LightGBM] [Warning] bagging_fraction is set=0.6000000000000001, subsample=1.0 will be ignored. Current value: bagging_fraction=0.6000000000000001\n",
      "[LightGBM] [Warning] min_gain_to_split is set=2.941832404211504, min_split_gain=0.0 will be ignored. Current value: min_gain_to_split=2.941832404211504\n",
      "[LightGBM] [Warning] lambda_l2 is set=60, reg_lambda=0.0 will be ignored. Current value: lambda_l2=60\n",
      "[LightGBM] [Warning] feature_fraction is set=0.8, colsample_bytree=1.0 will be ignored. Current value: feature_fraction=0.8\n",
      "[LightGBM] [Warning] min_data_in_leaf is set=650, min_child_samples=20 will be ignored. Current value: min_data_in_leaf=650\n",
      "[LightGBM] [Warning] bagging_freq is set=1, subsample_freq=0 will be ignored. Current value: bagging_freq=1\n"
     ]
    },
    {
     "name": "stderr",
     "output_type": "stream",
     "text": [
      "\u001b[32m[I 2022-02-11 10:10:23,406]\u001b[0m Trial 12 finished with value: -0.7439166120412066 and parameters: {'n_estimators': 15000, 'learning_rate': 0.4996114497532257, 'num_leaves': 485, 'max_depth': 7, 'min_data_in_leaf': 650, 'lambda_l1': 0.0004189783112879489, 'lambda_l2': 60, 'min_gain_to_split': 2.941832404211504, 'bagging_fraction': 0.6000000000000001, 'bagging_freq': 1, 'feature_fraction': 0.8}. Best is trial 8 with value: -0.7471360800724142.\u001b[0m\n"
     ]
    },
    {
     "name": "stdout",
     "output_type": "stream",
     "text": [
      "score -0.7371256899316878\n",
      "cancelled :5218 , not_cancelled :444782\n",
      "Memory usage of dataframe is 61.19 MB\n",
      "Memory usage after optimization is: 40.59 MB\n",
      "Decreased by 33.7%\n",
      "Features : ['first_mile_distance', 'elapse1', 'elapse2', 'last_mile_distance', 'tot_dist', 'alloted_orders', 'delivered_orders', 'del_ratio', 'undelivered_orders', 'lifetime_order_count', 'Hour', 'session_time', 'Monday', 'Saturday', 'Sunday', 'Thursday', 'Tuesday', 'Wednesday', 'dist_ratio']\n",
      "cat_features []\n",
      "(450000, 19) (450000,)\n",
      "train 360000 valid 90000\n",
      "training Light GBM:\n",
      "[LightGBM] [Warning] lambda_l1 is set=0.09782791176686033, reg_alpha=0.0 will be ignored. Current value: lambda_l1=0.09782791176686033\n",
      "[LightGBM] [Warning] bagging_fraction is set=0.6000000000000001, subsample=1.0 will be ignored. Current value: bagging_fraction=0.6000000000000001\n",
      "[LightGBM] [Warning] min_gain_to_split is set=0.2033502940242231, min_split_gain=0.0 will be ignored. Current value: min_gain_to_split=0.2033502940242231\n",
      "[LightGBM] [Warning] lambda_l2 is set=65, reg_lambda=0.0 will be ignored. Current value: lambda_l2=65\n",
      "[LightGBM] [Warning] feature_fraction is set=0.8, colsample_bytree=1.0 will be ignored. Current value: feature_fraction=0.8\n",
      "[LightGBM] [Warning] min_data_in_leaf is set=2350, min_child_samples=20 will be ignored. Current value: min_data_in_leaf=2350\n",
      "[LightGBM] [Warning] bagging_freq is set=1, subsample_freq=0 will be ignored. Current value: bagging_freq=1\n",
      "score -0.7374468447061547\n",
      "train 360000 valid 90000\n",
      "training Light GBM:\n",
      "[LightGBM] [Warning] lambda_l1 is set=0.09782791176686033, reg_alpha=0.0 will be ignored. Current value: lambda_l1=0.09782791176686033\n",
      "[LightGBM] [Warning] bagging_fraction is set=0.6000000000000001, subsample=1.0 will be ignored. Current value: bagging_fraction=0.6000000000000001\n",
      "[LightGBM] [Warning] min_gain_to_split is set=0.2033502940242231, min_split_gain=0.0 will be ignored. Current value: min_gain_to_split=0.2033502940242231\n",
      "[LightGBM] [Warning] lambda_l2 is set=65, reg_lambda=0.0 will be ignored. Current value: lambda_l2=65\n",
      "[LightGBM] [Warning] feature_fraction is set=0.8, colsample_bytree=1.0 will be ignored. Current value: feature_fraction=0.8\n",
      "[LightGBM] [Warning] min_data_in_leaf is set=2350, min_child_samples=20 will be ignored. Current value: min_data_in_leaf=2350\n",
      "[LightGBM] [Warning] bagging_freq is set=1, subsample_freq=0 will be ignored. Current value: bagging_freq=1\n",
      "score -0.7435652036133545\n",
      "train 360000 valid 90000\n",
      "training Light GBM:\n",
      "[LightGBM] [Warning] lambda_l1 is set=0.09782791176686033, reg_alpha=0.0 will be ignored. Current value: lambda_l1=0.09782791176686033\n",
      "[LightGBM] [Warning] bagging_fraction is set=0.6000000000000001, subsample=1.0 will be ignored. Current value: bagging_fraction=0.6000000000000001\n",
      "[LightGBM] [Warning] min_gain_to_split is set=0.2033502940242231, min_split_gain=0.0 will be ignored. Current value: min_gain_to_split=0.2033502940242231\n",
      "[LightGBM] [Warning] lambda_l2 is set=65, reg_lambda=0.0 will be ignored. Current value: lambda_l2=65\n",
      "[LightGBM] [Warning] feature_fraction is set=0.8, colsample_bytree=1.0 will be ignored. Current value: feature_fraction=0.8\n",
      "[LightGBM] [Warning] min_data_in_leaf is set=2350, min_child_samples=20 will be ignored. Current value: min_data_in_leaf=2350\n",
      "[LightGBM] [Warning] bagging_freq is set=1, subsample_freq=0 will be ignored. Current value: bagging_freq=1\n",
      "score -0.7451555594922386\n",
      "train 360000 valid 90000\n",
      "training Light GBM:\n",
      "[LightGBM] [Warning] lambda_l1 is set=0.09782791176686033, reg_alpha=0.0 will be ignored. Current value: lambda_l1=0.09782791176686033\n",
      "[LightGBM] [Warning] bagging_fraction is set=0.6000000000000001, subsample=1.0 will be ignored. Current value: bagging_fraction=0.6000000000000001\n",
      "[LightGBM] [Warning] min_gain_to_split is set=0.2033502940242231, min_split_gain=0.0 will be ignored. Current value: min_gain_to_split=0.2033502940242231\n",
      "[LightGBM] [Warning] lambda_l2 is set=65, reg_lambda=0.0 will be ignored. Current value: lambda_l2=65\n",
      "[LightGBM] [Warning] feature_fraction is set=0.8, colsample_bytree=1.0 will be ignored. Current value: feature_fraction=0.8\n",
      "[LightGBM] [Warning] min_data_in_leaf is set=2350, min_child_samples=20 will be ignored. Current value: min_data_in_leaf=2350\n",
      "[LightGBM] [Warning] bagging_freq is set=1, subsample_freq=0 will be ignored. Current value: bagging_freq=1\n",
      "score -0.7498201788684028\n",
      "train 360000 valid 90000\n",
      "training Light GBM:\n",
      "[LightGBM] [Warning] lambda_l1 is set=0.09782791176686033, reg_alpha=0.0 will be ignored. Current value: lambda_l1=0.09782791176686033\n",
      "[LightGBM] [Warning] bagging_fraction is set=0.6000000000000001, subsample=1.0 will be ignored. Current value: bagging_fraction=0.6000000000000001\n",
      "[LightGBM] [Warning] min_gain_to_split is set=0.2033502940242231, min_split_gain=0.0 will be ignored. Current value: min_gain_to_split=0.2033502940242231\n",
      "[LightGBM] [Warning] lambda_l2 is set=65, reg_lambda=0.0 will be ignored. Current value: lambda_l2=65\n",
      "[LightGBM] [Warning] feature_fraction is set=0.8, colsample_bytree=1.0 will be ignored. Current value: feature_fraction=0.8\n",
      "[LightGBM] [Warning] min_data_in_leaf is set=2350, min_child_samples=20 will be ignored. Current value: min_data_in_leaf=2350\n",
      "[LightGBM] [Warning] bagging_freq is set=1, subsample_freq=0 will be ignored. Current value: bagging_freq=1\n"
     ]
    },
    {
     "name": "stderr",
     "output_type": "stream",
     "text": [
      "\u001b[32m[I 2022-02-11 10:10:37,131]\u001b[0m Trial 13 finished with value: -0.7430324958367724 and parameters: {'n_estimators': 15000, 'learning_rate': 0.4833307144077918, 'num_leaves': 72, 'max_depth': 11, 'min_data_in_leaf': 2350, 'lambda_l1': 0.09782791176686033, 'lambda_l2': 65, 'min_gain_to_split': 0.2033502940242231, 'bagging_fraction': 0.6000000000000001, 'bagging_freq': 1, 'feature_fraction': 0.8}. Best is trial 8 with value: -0.7471360800724142.\u001b[0m\n"
     ]
    },
    {
     "name": "stdout",
     "output_type": "stream",
     "text": [
      "score -0.7391746925037115\n",
      "cancelled :5218 , not_cancelled :444782\n",
      "Memory usage of dataframe is 61.19 MB\n",
      "Memory usage after optimization is: 40.59 MB\n",
      "Decreased by 33.7%\n",
      "Features : ['first_mile_distance', 'elapse1', 'elapse2', 'last_mile_distance', 'tot_dist', 'alloted_orders', 'delivered_orders', 'del_ratio', 'undelivered_orders', 'lifetime_order_count', 'Hour', 'session_time', 'Monday', 'Saturday', 'Sunday', 'Thursday', 'Tuesday', 'Wednesday', 'dist_ratio']\n",
      "cat_features []\n",
      "(450000, 19) (450000,)\n",
      "train 360000 valid 90000\n",
      "training Light GBM:\n",
      "[LightGBM] [Warning] lambda_l1 is set=3.8074388735804805e-05, reg_alpha=0.0 will be ignored. Current value: lambda_l1=3.8074388735804805e-05\n",
      "[LightGBM] [Warning] bagging_fraction is set=0.7, subsample=1.0 will be ignored. Current value: bagging_fraction=0.7\n",
      "[LightGBM] [Warning] min_gain_to_split is set=3.2803126183652314, min_split_gain=0.0 will be ignored. Current value: min_gain_to_split=3.2803126183652314\n",
      "[LightGBM] [Warning] lambda_l2 is set=100, reg_lambda=0.0 will be ignored. Current value: lambda_l2=100\n",
      "[LightGBM] [Warning] feature_fraction is set=0.7, colsample_bytree=1.0 will be ignored. Current value: feature_fraction=0.7\n",
      "[LightGBM] [Warning] min_data_in_leaf is set=1900, min_child_samples=20 will be ignored. Current value: min_data_in_leaf=1900\n",
      "[LightGBM] [Warning] bagging_freq is set=1, subsample_freq=0 will be ignored. Current value: bagging_freq=1\n",
      "score -0.7487227419420358\n",
      "train 360000 valid 90000\n",
      "training Light GBM:\n",
      "[LightGBM] [Warning] lambda_l1 is set=3.8074388735804805e-05, reg_alpha=0.0 will be ignored. Current value: lambda_l1=3.8074388735804805e-05\n",
      "[LightGBM] [Warning] bagging_fraction is set=0.7, subsample=1.0 will be ignored. Current value: bagging_fraction=0.7\n",
      "[LightGBM] [Warning] min_gain_to_split is set=3.2803126183652314, min_split_gain=0.0 will be ignored. Current value: min_gain_to_split=3.2803126183652314\n",
      "[LightGBM] [Warning] lambda_l2 is set=100, reg_lambda=0.0 will be ignored. Current value: lambda_l2=100\n",
      "[LightGBM] [Warning] feature_fraction is set=0.7, colsample_bytree=1.0 will be ignored. Current value: feature_fraction=0.7\n",
      "[LightGBM] [Warning] min_data_in_leaf is set=1900, min_child_samples=20 will be ignored. Current value: min_data_in_leaf=1900\n",
      "[LightGBM] [Warning] bagging_freq is set=1, subsample_freq=0 will be ignored. Current value: bagging_freq=1\n",
      "score -0.7587719107740883\n",
      "train 360000 valid 90000\n",
      "training Light GBM:\n",
      "[LightGBM] [Warning] lambda_l1 is set=3.8074388735804805e-05, reg_alpha=0.0 will be ignored. Current value: lambda_l1=3.8074388735804805e-05\n",
      "[LightGBM] [Warning] bagging_fraction is set=0.7, subsample=1.0 will be ignored. Current value: bagging_fraction=0.7\n",
      "[LightGBM] [Warning] min_gain_to_split is set=3.2803126183652314, min_split_gain=0.0 will be ignored. Current value: min_gain_to_split=3.2803126183652314\n",
      "[LightGBM] [Warning] lambda_l2 is set=100, reg_lambda=0.0 will be ignored. Current value: lambda_l2=100\n",
      "[LightGBM] [Warning] feature_fraction is set=0.7, colsample_bytree=1.0 will be ignored. Current value: feature_fraction=0.7\n",
      "[LightGBM] [Warning] min_data_in_leaf is set=1900, min_child_samples=20 will be ignored. Current value: min_data_in_leaf=1900\n",
      "[LightGBM] [Warning] bagging_freq is set=1, subsample_freq=0 will be ignored. Current value: bagging_freq=1\n",
      "score -0.7437939420392776\n",
      "train 360000 valid 90000\n",
      "training Light GBM:\n",
      "[LightGBM] [Warning] lambda_l1 is set=3.8074388735804805e-05, reg_alpha=0.0 will be ignored. Current value: lambda_l1=3.8074388735804805e-05\n",
      "[LightGBM] [Warning] bagging_fraction is set=0.7, subsample=1.0 will be ignored. Current value: bagging_fraction=0.7\n",
      "[LightGBM] [Warning] min_gain_to_split is set=3.2803126183652314, min_split_gain=0.0 will be ignored. Current value: min_gain_to_split=3.2803126183652314\n",
      "[LightGBM] [Warning] lambda_l2 is set=100, reg_lambda=0.0 will be ignored. Current value: lambda_l2=100\n",
      "[LightGBM] [Warning] feature_fraction is set=0.7, colsample_bytree=1.0 will be ignored. Current value: feature_fraction=0.7\n",
      "[LightGBM] [Warning] min_data_in_leaf is set=1900, min_child_samples=20 will be ignored. Current value: min_data_in_leaf=1900\n",
      "[LightGBM] [Warning] bagging_freq is set=1, subsample_freq=0 will be ignored. Current value: bagging_freq=1\n",
      "score -0.7538835280656206\n",
      "train 360000 valid 90000\n",
      "training Light GBM:\n",
      "[LightGBM] [Warning] lambda_l1 is set=3.8074388735804805e-05, reg_alpha=0.0 will be ignored. Current value: lambda_l1=3.8074388735804805e-05\n",
      "[LightGBM] [Warning] bagging_fraction is set=0.7, subsample=1.0 will be ignored. Current value: bagging_fraction=0.7\n",
      "[LightGBM] [Warning] min_gain_to_split is set=3.2803126183652314, min_split_gain=0.0 will be ignored. Current value: min_gain_to_split=3.2803126183652314\n",
      "[LightGBM] [Warning] lambda_l2 is set=100, reg_lambda=0.0 will be ignored. Current value: lambda_l2=100\n",
      "[LightGBM] [Warning] feature_fraction is set=0.7, colsample_bytree=1.0 will be ignored. Current value: feature_fraction=0.7\n",
      "[LightGBM] [Warning] min_data_in_leaf is set=1900, min_child_samples=20 will be ignored. Current value: min_data_in_leaf=1900\n",
      "[LightGBM] [Warning] bagging_freq is set=1, subsample_freq=0 will be ignored. Current value: bagging_freq=1\n"
     ]
    },
    {
     "name": "stderr",
     "output_type": "stream",
     "text": [
      "\u001b[32m[I 2022-02-11 10:10:52,732]\u001b[0m Trial 14 finished with value: -0.7488949116636858 and parameters: {'n_estimators': 20000, 'learning_rate': 0.3572578915923442, 'num_leaves': 511, 'max_depth': 5, 'min_data_in_leaf': 1900, 'lambda_l1': 3.8074388735804805e-05, 'lambda_l2': 100, 'min_gain_to_split': 3.2803126183652314, 'bagging_fraction': 0.7, 'bagging_freq': 1, 'feature_fraction': 0.7}. Best is trial 14 with value: -0.7488949116636858.\u001b[0m\n"
     ]
    },
    {
     "name": "stdout",
     "output_type": "stream",
     "text": [
      "score -0.7393024354974065\n",
      "cancelled :5218 , not_cancelled :444782\n",
      "Memory usage of dataframe is 61.19 MB\n",
      "Memory usage after optimization is: 40.59 MB\n",
      "Decreased by 33.7%\n",
      "Features : ['first_mile_distance', 'elapse1', 'elapse2', 'last_mile_distance', 'tot_dist', 'alloted_orders', 'delivered_orders', 'del_ratio', 'undelivered_orders', 'lifetime_order_count', 'Hour', 'session_time', 'Monday', 'Saturday', 'Sunday', 'Thursday', 'Tuesday', 'Wednesday', 'dist_ratio']\n",
      "cat_features []\n",
      "(450000, 19) (450000,)\n",
      "train 360000 valid 90000\n",
      "training Light GBM:\n",
      "[LightGBM] [Warning] lambda_l1 is set=1.7098414247902e-08, reg_alpha=0.0 will be ignored. Current value: lambda_l1=1.7098414247902e-08\n",
      "[LightGBM] [Warning] bagging_fraction is set=0.7, subsample=1.0 will be ignored. Current value: bagging_fraction=0.7\n",
      "[LightGBM] [Warning] min_gain_to_split is set=6.267238751109485, min_split_gain=0.0 will be ignored. Current value: min_gain_to_split=6.267238751109485\n",
      "[LightGBM] [Warning] lambda_l2 is set=100, reg_lambda=0.0 will be ignored. Current value: lambda_l2=100\n",
      "[LightGBM] [Warning] feature_fraction is set=0.9, colsample_bytree=1.0 will be ignored. Current value: feature_fraction=0.9\n",
      "[LightGBM] [Warning] min_data_in_leaf is set=3150, min_child_samples=20 will be ignored. Current value: min_data_in_leaf=3150\n",
      "[LightGBM] [Warning] bagging_freq is set=1, subsample_freq=0 will be ignored. Current value: bagging_freq=1\n",
      "score -0.7448133962748934\n",
      "train 360000 valid 90000\n",
      "training Light GBM:\n",
      "[LightGBM] [Warning] lambda_l1 is set=1.7098414247902e-08, reg_alpha=0.0 will be ignored. Current value: lambda_l1=1.7098414247902e-08\n",
      "[LightGBM] [Warning] bagging_fraction is set=0.7, subsample=1.0 will be ignored. Current value: bagging_fraction=0.7\n",
      "[LightGBM] [Warning] min_gain_to_split is set=6.267238751109485, min_split_gain=0.0 will be ignored. Current value: min_gain_to_split=6.267238751109485\n",
      "[LightGBM] [Warning] lambda_l2 is set=100, reg_lambda=0.0 will be ignored. Current value: lambda_l2=100\n",
      "[LightGBM] [Warning] feature_fraction is set=0.9, colsample_bytree=1.0 will be ignored. Current value: feature_fraction=0.9\n",
      "[LightGBM] [Warning] min_data_in_leaf is set=3150, min_child_samples=20 will be ignored. Current value: min_data_in_leaf=3150\n",
      "[LightGBM] [Warning] bagging_freq is set=1, subsample_freq=0 will be ignored. Current value: bagging_freq=1\n",
      "score -0.7393644225816667\n",
      "train 360000 valid 90000\n",
      "training Light GBM:\n",
      "[LightGBM] [Warning] lambda_l1 is set=1.7098414247902e-08, reg_alpha=0.0 will be ignored. Current value: lambda_l1=1.7098414247902e-08\n",
      "[LightGBM] [Warning] bagging_fraction is set=0.7, subsample=1.0 will be ignored. Current value: bagging_fraction=0.7\n",
      "[LightGBM] [Warning] min_gain_to_split is set=6.267238751109485, min_split_gain=0.0 will be ignored. Current value: min_gain_to_split=6.267238751109485\n",
      "[LightGBM] [Warning] lambda_l2 is set=100, reg_lambda=0.0 will be ignored. Current value: lambda_l2=100\n",
      "[LightGBM] [Warning] feature_fraction is set=0.9, colsample_bytree=1.0 will be ignored. Current value: feature_fraction=0.9\n",
      "[LightGBM] [Warning] min_data_in_leaf is set=3150, min_child_samples=20 will be ignored. Current value: min_data_in_leaf=3150\n",
      "[LightGBM] [Warning] bagging_freq is set=1, subsample_freq=0 will be ignored. Current value: bagging_freq=1\n",
      "score -0.7470117765828179\n",
      "train 360000 valid 90000\n",
      "training Light GBM:\n",
      "[LightGBM] [Warning] lambda_l1 is set=1.7098414247902e-08, reg_alpha=0.0 will be ignored. Current value: lambda_l1=1.7098414247902e-08\n",
      "[LightGBM] [Warning] bagging_fraction is set=0.7, subsample=1.0 will be ignored. Current value: bagging_fraction=0.7\n",
      "[LightGBM] [Warning] min_gain_to_split is set=6.267238751109485, min_split_gain=0.0 will be ignored. Current value: min_gain_to_split=6.267238751109485\n",
      "[LightGBM] [Warning] lambda_l2 is set=100, reg_lambda=0.0 will be ignored. Current value: lambda_l2=100\n",
      "[LightGBM] [Warning] feature_fraction is set=0.9, colsample_bytree=1.0 will be ignored. Current value: feature_fraction=0.9\n",
      "[LightGBM] [Warning] min_data_in_leaf is set=3150, min_child_samples=20 will be ignored. Current value: min_data_in_leaf=3150\n",
      "[LightGBM] [Warning] bagging_freq is set=1, subsample_freq=0 will be ignored. Current value: bagging_freq=1\n",
      "score -0.7542915335990295\n",
      "train 360000 valid 90000\n",
      "training Light GBM:\n",
      "[LightGBM] [Warning] lambda_l1 is set=1.7098414247902e-08, reg_alpha=0.0 will be ignored. Current value: lambda_l1=1.7098414247902e-08\n",
      "[LightGBM] [Warning] bagging_fraction is set=0.7, subsample=1.0 will be ignored. Current value: bagging_fraction=0.7\n",
      "[LightGBM] [Warning] min_gain_to_split is set=6.267238751109485, min_split_gain=0.0 will be ignored. Current value: min_gain_to_split=6.267238751109485\n",
      "[LightGBM] [Warning] lambda_l2 is set=100, reg_lambda=0.0 will be ignored. Current value: lambda_l2=100\n",
      "[LightGBM] [Warning] feature_fraction is set=0.9, colsample_bytree=1.0 will be ignored. Current value: feature_fraction=0.9\n",
      "[LightGBM] [Warning] min_data_in_leaf is set=3150, min_child_samples=20 will be ignored. Current value: min_data_in_leaf=3150\n",
      "[LightGBM] [Warning] bagging_freq is set=1, subsample_freq=0 will be ignored. Current value: bagging_freq=1\n"
     ]
    },
    {
     "name": "stderr",
     "output_type": "stream",
     "text": [
      "\u001b[32m[I 2022-02-11 10:11:07,817]\u001b[0m Trial 15 finished with value: -0.7461155556533032 and parameters: {'n_estimators': 20000, 'learning_rate': 0.35813965496442873, 'num_leaves': 1362, 'max_depth': 5, 'min_data_in_leaf': 3150, 'lambda_l1': 1.7098414247902e-08, 'lambda_l2': 100, 'min_gain_to_split': 6.267238751109485, 'bagging_fraction': 0.7, 'bagging_freq': 1, 'feature_fraction': 0.9}. Best is trial 14 with value: -0.7488949116636858.\u001b[0m\n"
     ]
    },
    {
     "name": "stdout",
     "output_type": "stream",
     "text": [
      "score -0.7450966492281086\n",
      "cancelled :5218 , not_cancelled :444782\n",
      "Memory usage of dataframe is 61.19 MB\n",
      "Memory usage after optimization is: 40.59 MB\n",
      "Decreased by 33.7%\n",
      "Features : ['first_mile_distance', 'elapse1', 'elapse2', 'last_mile_distance', 'tot_dist', 'alloted_orders', 'delivered_orders', 'del_ratio', 'undelivered_orders', 'lifetime_order_count', 'Hour', 'session_time', 'Monday', 'Saturday', 'Sunday', 'Thursday', 'Tuesday', 'Wednesday', 'dist_ratio']\n",
      "cat_features []\n",
      "(450000, 19) (450000,)\n",
      "train 360000 valid 90000\n",
      "training Light GBM:\n",
      "[LightGBM] [Warning] lambda_l1 is set=3.9181696699813925e-05, reg_alpha=0.0 will be ignored. Current value: lambda_l1=3.9181696699813925e-05\n",
      "[LightGBM] [Warning] bagging_fraction is set=0.4, subsample=1.0 will be ignored. Current value: bagging_fraction=0.4\n",
      "[LightGBM] [Warning] min_gain_to_split is set=8.185468538758462, min_split_gain=0.0 will be ignored. Current value: min_gain_to_split=8.185468538758462\n",
      "[LightGBM] [Warning] lambda_l2 is set=100, reg_lambda=0.0 will be ignored. Current value: lambda_l2=100\n",
      "[LightGBM] [Warning] feature_fraction is set=0.5, colsample_bytree=1.0 will be ignored. Current value: feature_fraction=0.5\n",
      "[LightGBM] [Warning] min_data_in_leaf is set=1600, min_child_samples=20 will be ignored. Current value: min_data_in_leaf=1600\n",
      "[LightGBM] [Warning] bagging_freq is set=1, subsample_freq=0 will be ignored. Current value: bagging_freq=1\n"
     ]
    },
    {
     "name": "stderr",
     "output_type": "stream",
     "text": [
      "\u001b[32m[I 2022-02-11 10:11:11,686]\u001b[0m Trial 16 pruned. Trial was pruned at iteration 0.\u001b[0m\n"
     ]
    },
    {
     "name": "stdout",
     "output_type": "stream",
     "text": [
      "cancelled :5218 , not_cancelled :444782\n",
      "Memory usage of dataframe is 61.19 MB\n",
      "Memory usage after optimization is: 40.59 MB\n",
      "Decreased by 33.7%\n",
      "Features : ['first_mile_distance', 'elapse1', 'elapse2', 'last_mile_distance', 'tot_dist', 'alloted_orders', 'delivered_orders', 'del_ratio', 'undelivered_orders', 'lifetime_order_count', 'Hour', 'session_time', 'Monday', 'Saturday', 'Sunday', 'Thursday', 'Tuesday', 'Wednesday', 'dist_ratio']\n",
      "cat_features []\n",
      "(450000, 19) (450000,)\n",
      "train 360000 valid 90000\n",
      "training Light GBM:\n",
      "score -0.7432696618555438\n",
      "train 360000 valid 90000\n",
      "training Light GBM:\n",
      "[LightGBM] [Warning] lambda_l1 is set=0.018899056030119866, reg_alpha=0.0 will be ignored. Current value: lambda_l1=0.018899056030119866\n",
      "[LightGBM] [Warning] bagging_fraction is set=0.9, subsample=1.0 will be ignored. Current value: bagging_fraction=0.9\n",
      "[LightGBM] [Warning] min_gain_to_split is set=1.8842885047545233, min_split_gain=0.0 will be ignored. Current value: min_gain_to_split=1.8842885047545233\n",
      "[LightGBM] [Warning] lambda_l2 is set=40, reg_lambda=0.0 will be ignored. Current value: lambda_l2=40\n",
      "[LightGBM] [Warning] feature_fraction is set=0.7, colsample_bytree=1.0 will be ignored. Current value: feature_fraction=0.7\n",
      "[LightGBM] [Warning] min_data_in_leaf is set=6650, min_child_samples=20 will be ignored. Current value: min_data_in_leaf=6650\n",
      "[LightGBM] [Warning] bagging_freq is set=1, subsample_freq=0 will be ignored. Current value: bagging_freq=1\n",
      "score -0.7370385495805114\n",
      "train 360000 valid 90000\n",
      "training Light GBM:\n",
      "[LightGBM] [Warning] lambda_l1 is set=0.018899056030119866, reg_alpha=0.0 will be ignored. Current value: lambda_l1=0.018899056030119866\n",
      "[LightGBM] [Warning] bagging_fraction is set=0.9, subsample=1.0 will be ignored. Current value: bagging_fraction=0.9\n",
      "[LightGBM] [Warning] min_gain_to_split is set=1.8842885047545233, min_split_gain=0.0 will be ignored. Current value: min_gain_to_split=1.8842885047545233\n",
      "[LightGBM] [Warning] lambda_l2 is set=40, reg_lambda=0.0 will be ignored. Current value: lambda_l2=40\n",
      "[LightGBM] [Warning] feature_fraction is set=0.7, colsample_bytree=1.0 will be ignored. Current value: feature_fraction=0.7\n",
      "[LightGBM] [Warning] min_data_in_leaf is set=6650, min_child_samples=20 will be ignored. Current value: min_data_in_leaf=6650\n",
      "[LightGBM] [Warning] bagging_freq is set=1, subsample_freq=0 will be ignored. Current value: bagging_freq=1\n",
      "score -0.7413411118140287\n",
      "train 360000 valid 90000\n",
      "training Light GBM:\n",
      "[LightGBM] [Warning] lambda_l1 is set=0.018899056030119866, reg_alpha=0.0 will be ignored. Current value: lambda_l1=0.018899056030119866\n",
      "[LightGBM] [Warning] bagging_fraction is set=0.9, subsample=1.0 will be ignored. Current value: bagging_fraction=0.9\n",
      "[LightGBM] [Warning] min_gain_to_split is set=1.8842885047545233, min_split_gain=0.0 will be ignored. Current value: min_gain_to_split=1.8842885047545233\n",
      "[LightGBM] [Warning] lambda_l2 is set=40, reg_lambda=0.0 will be ignored. Current value: lambda_l2=40\n",
      "[LightGBM] [Warning] feature_fraction is set=0.7, colsample_bytree=1.0 will be ignored. Current value: feature_fraction=0.7\n",
      "[LightGBM] [Warning] min_data_in_leaf is set=6650, min_child_samples=20 will be ignored. Current value: min_data_in_leaf=6650\n",
      "[LightGBM] [Warning] bagging_freq is set=1, subsample_freq=0 will be ignored. Current value: bagging_freq=1\n",
      "score -0.7466068506208846\n",
      "train 360000 valid 90000\n",
      "training Light GBM:\n",
      "[LightGBM] [Warning] lambda_l1 is set=0.018899056030119866, reg_alpha=0.0 will be ignored. Current value: lambda_l1=0.018899056030119866\n",
      "[LightGBM] [Warning] bagging_fraction is set=0.9, subsample=1.0 will be ignored. Current value: bagging_fraction=0.9\n",
      "[LightGBM] [Warning] min_gain_to_split is set=1.8842885047545233, min_split_gain=0.0 will be ignored. Current value: min_gain_to_split=1.8842885047545233\n",
      "[LightGBM] [Warning] lambda_l2 is set=40, reg_lambda=0.0 will be ignored. Current value: lambda_l2=40\n",
      "[LightGBM] [Warning] feature_fraction is set=0.7, colsample_bytree=1.0 will be ignored. Current value: feature_fraction=0.7\n",
      "[LightGBM] [Warning] min_data_in_leaf is set=6650, min_child_samples=20 will be ignored. Current value: min_data_in_leaf=6650\n",
      "[LightGBM] [Warning] bagging_freq is set=1, subsample_freq=0 will be ignored. Current value: bagging_freq=1\n"
     ]
    },
    {
     "name": "stderr",
     "output_type": "stream",
     "text": [
      "\u001b[32m[I 2022-02-11 10:11:27,294]\u001b[0m Trial 17 finished with value: -0.7448300215143429 and parameters: {'n_estimators': 20000, 'learning_rate': 0.3432524970736856, 'num_leaves': 20, 'max_depth': 7, 'min_data_in_leaf': 6650, 'lambda_l1': 0.018899056030119866, 'lambda_l2': 40, 'min_gain_to_split': 1.8842885047545233, 'bagging_fraction': 0.9, 'bagging_freq': 1, 'feature_fraction': 0.7}. Best is trial 14 with value: -0.7488949116636858.\u001b[0m\n"
     ]
    },
    {
     "name": "stdout",
     "output_type": "stream",
     "text": [
      "score -0.7558939337007455\n",
      "cancelled :5218 , not_cancelled :444782\n",
      "Memory usage of dataframe is 61.19 MB\n",
      "Memory usage after optimization is: 40.59 MB\n",
      "Decreased by 33.7%\n",
      "Features : ['first_mile_distance', 'elapse1', 'elapse2', 'last_mile_distance', 'tot_dist', 'alloted_orders', 'delivered_orders', 'del_ratio', 'undelivered_orders', 'lifetime_order_count', 'Hour', 'session_time', 'Monday', 'Saturday', 'Sunday', 'Thursday', 'Tuesday', 'Wednesday', 'dist_ratio']\n",
      "cat_features []\n",
      "(450000, 19) (450000,)\n",
      "train 360000 valid 90000\n",
      "training Light GBM:\n",
      "[LightGBM] [Warning] lambda_l1 is set=0.5300835497052954, reg_alpha=0.0 will be ignored. Current value: lambda_l1=0.5300835497052954\n",
      "[LightGBM] [Warning] bagging_fraction is set=0.6000000000000001, subsample=1.0 will be ignored. Current value: bagging_fraction=0.6000000000000001\n",
      "[LightGBM] [Warning] min_gain_to_split is set=14.794701488417177, min_split_gain=0.0 will be ignored. Current value: min_gain_to_split=14.794701488417177\n",
      "[LightGBM] [Warning] lambda_l2 is set=90, reg_lambda=0.0 will be ignored. Current value: lambda_l2=90\n",
      "[LightGBM] [Warning] feature_fraction is set=0.8, colsample_bytree=1.0 will be ignored. Current value: feature_fraction=0.8\n",
      "[LightGBM] [Warning] min_data_in_leaf is set=3650, min_child_samples=20 will be ignored. Current value: min_data_in_leaf=3650\n",
      "[LightGBM] [Warning] bagging_freq is set=1, subsample_freq=0 will be ignored. Current value: bagging_freq=1\n"
     ]
    },
    {
     "name": "stderr",
     "output_type": "stream",
     "text": [
      "\u001b[32m[I 2022-02-11 10:11:31,122]\u001b[0m Trial 18 pruned. Trial was pruned at iteration 0.\u001b[0m\n"
     ]
    },
    {
     "name": "stdout",
     "output_type": "stream",
     "text": [
      "cancelled :5218 , not_cancelled :444782\n",
      "Memory usage of dataframe is 61.19 MB\n",
      "Memory usage after optimization is: 40.59 MB\n",
      "Decreased by 33.7%\n",
      "Features : ['first_mile_distance', 'elapse1', 'elapse2', 'last_mile_distance', 'tot_dist', 'alloted_orders', 'delivered_orders', 'del_ratio', 'undelivered_orders', 'lifetime_order_count', 'Hour', 'session_time', 'Monday', 'Saturday', 'Sunday', 'Thursday', 'Tuesday', 'Wednesday', 'dist_ratio']\n",
      "cat_features []\n",
      "(450000, 19) (450000,)\n",
      "train 360000 valid 90000\n",
      "training Light GBM:\n",
      "score -0.7590761934372484\n",
      "train 360000 valid 90000\n",
      "training Light GBM:\n",
      "[LightGBM] [Warning] lambda_l1 is set=0.019070980814924064, reg_alpha=0.0 will be ignored. Current value: lambda_l1=0.019070980814924064\n",
      "[LightGBM] [Warning] bagging_fraction is set=0.8, subsample=1.0 will be ignored. Current value: bagging_fraction=0.8\n",
      "[LightGBM] [Warning] min_gain_to_split is set=4.505452758733763, min_split_gain=0.0 will be ignored. Current value: min_gain_to_split=4.505452758733763\n",
      "[LightGBM] [Warning] lambda_l2 is set=70, reg_lambda=0.0 will be ignored. Current value: lambda_l2=70\n",
      "[LightGBM] [Warning] feature_fraction is set=0.5, colsample_bytree=1.0 will be ignored. Current value: feature_fraction=0.5\n",
      "[LightGBM] [Warning] min_data_in_leaf is set=250, min_child_samples=20 will be ignored. Current value: min_data_in_leaf=250\n",
      "[LightGBM] [Warning] bagging_freq is set=1, subsample_freq=0 will be ignored. Current value: bagging_freq=1\n",
      "score -0.7497097367358945\n",
      "train 360000 valid 90000\n",
      "training Light GBM:\n",
      "[LightGBM] [Warning] lambda_l1 is set=0.019070980814924064, reg_alpha=0.0 will be ignored. Current value: lambda_l1=0.019070980814924064\n",
      "[LightGBM] [Warning] bagging_fraction is set=0.8, subsample=1.0 will be ignored. Current value: bagging_fraction=0.8\n",
      "[LightGBM] [Warning] min_gain_to_split is set=4.505452758733763, min_split_gain=0.0 will be ignored. Current value: min_gain_to_split=4.505452758733763\n",
      "[LightGBM] [Warning] lambda_l2 is set=70, reg_lambda=0.0 will be ignored. Current value: lambda_l2=70\n",
      "[LightGBM] [Warning] feature_fraction is set=0.5, colsample_bytree=1.0 will be ignored. Current value: feature_fraction=0.5\n",
      "[LightGBM] [Warning] min_data_in_leaf is set=250, min_child_samples=20 will be ignored. Current value: min_data_in_leaf=250\n",
      "[LightGBM] [Warning] bagging_freq is set=1, subsample_freq=0 will be ignored. Current value: bagging_freq=1\n",
      "score -0.7364801051499221\n",
      "train 360000 valid 90000\n",
      "training Light GBM:\n",
      "[LightGBM] [Warning] lambda_l1 is set=0.019070980814924064, reg_alpha=0.0 will be ignored. Current value: lambda_l1=0.019070980814924064\n",
      "[LightGBM] [Warning] bagging_fraction is set=0.8, subsample=1.0 will be ignored. Current value: bagging_fraction=0.8\n",
      "[LightGBM] [Warning] min_gain_to_split is set=4.505452758733763, min_split_gain=0.0 will be ignored. Current value: min_gain_to_split=4.505452758733763\n",
      "[LightGBM] [Warning] lambda_l2 is set=70, reg_lambda=0.0 will be ignored. Current value: lambda_l2=70\n",
      "[LightGBM] [Warning] feature_fraction is set=0.5, colsample_bytree=1.0 will be ignored. Current value: feature_fraction=0.5\n",
      "[LightGBM] [Warning] min_data_in_leaf is set=250, min_child_samples=20 will be ignored. Current value: min_data_in_leaf=250\n",
      "[LightGBM] [Warning] bagging_freq is set=1, subsample_freq=0 will be ignored. Current value: bagging_freq=1\n",
      "score -0.7391119112397726\n",
      "train 360000 valid 90000\n",
      "training Light GBM:\n",
      "[LightGBM] [Warning] lambda_l1 is set=0.019070980814924064, reg_alpha=0.0 will be ignored. Current value: lambda_l1=0.019070980814924064\n",
      "[LightGBM] [Warning] bagging_fraction is set=0.8, subsample=1.0 will be ignored. Current value: bagging_fraction=0.8\n",
      "[LightGBM] [Warning] min_gain_to_split is set=4.505452758733763, min_split_gain=0.0 will be ignored. Current value: min_gain_to_split=4.505452758733763\n",
      "[LightGBM] [Warning] lambda_l2 is set=70, reg_lambda=0.0 will be ignored. Current value: lambda_l2=70\n",
      "[LightGBM] [Warning] feature_fraction is set=0.5, colsample_bytree=1.0 will be ignored. Current value: feature_fraction=0.5\n",
      "[LightGBM] [Warning] min_data_in_leaf is set=250, min_child_samples=20 will be ignored. Current value: min_data_in_leaf=250\n",
      "[LightGBM] [Warning] bagging_freq is set=1, subsample_freq=0 will be ignored. Current value: bagging_freq=1\n"
     ]
    },
    {
     "name": "stderr",
     "output_type": "stream",
     "text": [
      "\u001b[32m[I 2022-02-11 10:11:43,487]\u001b[0m Trial 19 finished with value: -0.7470750507881191 and parameters: {'n_estimators': 10000, 'learning_rate': 0.4075529605341134, 'num_leaves': 2794, 'max_depth': 8, 'min_data_in_leaf': 250, 'lambda_l1': 0.019070980814924064, 'lambda_l2': 70, 'min_gain_to_split': 4.505452758733763, 'bagging_fraction': 0.8, 'bagging_freq': 1, 'feature_fraction': 0.5}. Best is trial 14 with value: -0.7488949116636858.\u001b[0m\n"
     ]
    },
    {
     "name": "stdout",
     "output_type": "stream",
     "text": [
      "score -0.7509973073777574\n",
      "cancelled :5218 , not_cancelled :444782\n",
      "Memory usage of dataframe is 61.19 MB\n",
      "Memory usage after optimization is: 40.59 MB\n",
      "Decreased by 33.7%\n",
      "Features : ['first_mile_distance', 'elapse1', 'elapse2', 'last_mile_distance', 'tot_dist', 'alloted_orders', 'delivered_orders', 'del_ratio', 'undelivered_orders', 'lifetime_order_count', 'Hour', 'session_time', 'Monday', 'Saturday', 'Sunday', 'Thursday', 'Tuesday', 'Wednesday', 'dist_ratio']\n",
      "cat_features []\n",
      "(450000, 19) (450000,)\n",
      "train 360000 valid 90000\n",
      "training Light GBM:\n",
      "[LightGBM] [Warning] lambda_l1 is set=2.3138439736563383e-05, reg_alpha=0.0 will be ignored. Current value: lambda_l1=2.3138439736563383e-05\n",
      "[LightGBM] [Warning] bagging_fraction is set=0.5, subsample=1.0 will be ignored. Current value: bagging_fraction=0.5\n",
      "[LightGBM] [Warning] min_gain_to_split is set=1.8033608765788518, min_split_gain=0.0 will be ignored. Current value: min_gain_to_split=1.8033608765788518\n",
      "[LightGBM] [Warning] lambda_l2 is set=100, reg_lambda=0.0 will be ignored. Current value: lambda_l2=100\n",
      "[LightGBM] [Warning] feature_fraction is set=0.6000000000000001, colsample_bytree=1.0 will be ignored. Current value: feature_fraction=0.6000000000000001\n",
      "[LightGBM] [Warning] min_data_in_leaf is set=1700, min_child_samples=20 will be ignored. Current value: min_data_in_leaf=1700\n",
      "[LightGBM] [Warning] bagging_freq is set=1, subsample_freq=0 will be ignored. Current value: bagging_freq=1\n"
     ]
    },
    {
     "name": "stderr",
     "output_type": "stream",
     "text": [
      "\u001b[32m[I 2022-02-11 10:11:47,217]\u001b[0m Trial 20 pruned. Trial was pruned at iteration 0.\u001b[0m\n"
     ]
    },
    {
     "name": "stdout",
     "output_type": "stream",
     "text": [
      "cancelled :5218 , not_cancelled :444782\n",
      "Memory usage of dataframe is 61.19 MB\n",
      "Memory usage after optimization is: 40.59 MB\n",
      "Decreased by 33.7%\n",
      "Features : ['first_mile_distance', 'elapse1', 'elapse2', 'last_mile_distance', 'tot_dist', 'alloted_orders', 'delivered_orders', 'del_ratio', 'undelivered_orders', 'lifetime_order_count', 'Hour', 'session_time', 'Monday', 'Saturday', 'Sunday', 'Thursday', 'Tuesday', 'Wednesday', 'dist_ratio']\n",
      "cat_features []\n",
      "(450000, 19) (450000,)\n",
      "train 360000 valid 90000\n",
      "training Light GBM:\n",
      "score -0.7433824745020192\n",
      "train 360000 valid 90000\n",
      "training Light GBM:\n",
      "[LightGBM] [Warning] lambda_l1 is set=0.007289908693224009, reg_alpha=0.0 will be ignored. Current value: lambda_l1=0.007289908693224009\n",
      "[LightGBM] [Warning] bagging_fraction is set=0.8, subsample=1.0 will be ignored. Current value: bagging_fraction=0.8\n",
      "[LightGBM] [Warning] min_gain_to_split is set=4.697267015937143, min_split_gain=0.0 will be ignored. Current value: min_gain_to_split=4.697267015937143\n",
      "[LightGBM] [Warning] lambda_l2 is set=75, reg_lambda=0.0 will be ignored. Current value: lambda_l2=75\n",
      "[LightGBM] [Warning] feature_fraction is set=0.5, colsample_bytree=1.0 will be ignored. Current value: feature_fraction=0.5\n",
      "[LightGBM] [Warning] min_data_in_leaf is set=300, min_child_samples=20 will be ignored. Current value: min_data_in_leaf=300\n",
      "[LightGBM] [Warning] bagging_freq is set=1, subsample_freq=0 will be ignored. Current value: bagging_freq=1\n",
      "score -0.7383221639256887\n",
      "train 360000 valid 90000\n",
      "training Light GBM:\n",
      "[LightGBM] [Warning] lambda_l1 is set=0.007289908693224009, reg_alpha=0.0 will be ignored. Current value: lambda_l1=0.007289908693224009\n",
      "[LightGBM] [Warning] bagging_fraction is set=0.8, subsample=1.0 will be ignored. Current value: bagging_fraction=0.8\n",
      "[LightGBM] [Warning] min_gain_to_split is set=4.697267015937143, min_split_gain=0.0 will be ignored. Current value: min_gain_to_split=4.697267015937143\n",
      "[LightGBM] [Warning] lambda_l2 is set=75, reg_lambda=0.0 will be ignored. Current value: lambda_l2=75\n",
      "[LightGBM] [Warning] feature_fraction is set=0.5, colsample_bytree=1.0 will be ignored. Current value: feature_fraction=0.5\n",
      "[LightGBM] [Warning] min_data_in_leaf is set=300, min_child_samples=20 will be ignored. Current value: min_data_in_leaf=300\n",
      "[LightGBM] [Warning] bagging_freq is set=1, subsample_freq=0 will be ignored. Current value: bagging_freq=1\n",
      "score -0.7506326258157849\n",
      "train 360000 valid 90000\n",
      "training Light GBM:\n",
      "[LightGBM] [Warning] lambda_l1 is set=0.007289908693224009, reg_alpha=0.0 will be ignored. Current value: lambda_l1=0.007289908693224009\n",
      "[LightGBM] [Warning] bagging_fraction is set=0.8, subsample=1.0 will be ignored. Current value: bagging_fraction=0.8\n",
      "[LightGBM] [Warning] min_gain_to_split is set=4.697267015937143, min_split_gain=0.0 will be ignored. Current value: min_gain_to_split=4.697267015937143\n",
      "[LightGBM] [Warning] lambda_l2 is set=75, reg_lambda=0.0 will be ignored. Current value: lambda_l2=75\n",
      "[LightGBM] [Warning] feature_fraction is set=0.5, colsample_bytree=1.0 will be ignored. Current value: feature_fraction=0.5\n",
      "[LightGBM] [Warning] min_data_in_leaf is set=300, min_child_samples=20 will be ignored. Current value: min_data_in_leaf=300\n",
      "[LightGBM] [Warning] bagging_freq is set=1, subsample_freq=0 will be ignored. Current value: bagging_freq=1\n",
      "score -0.7361925420876203\n",
      "train 360000 valid 90000\n",
      "training Light GBM:\n",
      "[LightGBM] [Warning] lambda_l1 is set=0.007289908693224009, reg_alpha=0.0 will be ignored. Current value: lambda_l1=0.007289908693224009\n",
      "[LightGBM] [Warning] bagging_fraction is set=0.8, subsample=1.0 will be ignored. Current value: bagging_fraction=0.8\n",
      "[LightGBM] [Warning] min_gain_to_split is set=4.697267015937143, min_split_gain=0.0 will be ignored. Current value: min_gain_to_split=4.697267015937143\n",
      "[LightGBM] [Warning] lambda_l2 is set=75, reg_lambda=0.0 will be ignored. Current value: lambda_l2=75\n",
      "[LightGBM] [Warning] feature_fraction is set=0.5, colsample_bytree=1.0 will be ignored. Current value: feature_fraction=0.5\n",
      "[LightGBM] [Warning] min_data_in_leaf is set=300, min_child_samples=20 will be ignored. Current value: min_data_in_leaf=300\n",
      "[LightGBM] [Warning] bagging_freq is set=1, subsample_freq=0 will be ignored. Current value: bagging_freq=1\n"
     ]
    },
    {
     "name": "stderr",
     "output_type": "stream",
     "text": [
      "\u001b[32m[I 2022-02-11 10:11:58,873]\u001b[0m Trial 21 finished with value: -0.7450176164407039 and parameters: {'n_estimators': 10000, 'learning_rate': 0.4179077999922862, 'num_leaves': 2919, 'max_depth': 8, 'min_data_in_leaf': 300, 'lambda_l1': 0.007289908693224009, 'lambda_l2': 75, 'min_gain_to_split': 4.697267015937143, 'bagging_fraction': 0.8, 'bagging_freq': 1, 'feature_fraction': 0.5}. Best is trial 14 with value: -0.7488949116636858.\u001b[0m\n"
     ]
    },
    {
     "name": "stdout",
     "output_type": "stream",
     "text": [
      "score -0.756558275872406\n",
      "cancelled :5218 , not_cancelled :444782\n",
      "Memory usage of dataframe is 61.19 MB\n",
      "Memory usage after optimization is: 40.59 MB\n",
      "Decreased by 33.7%\n",
      "Features : ['first_mile_distance', 'elapse1', 'elapse2', 'last_mile_distance', 'tot_dist', 'alloted_orders', 'delivered_orders', 'del_ratio', 'undelivered_orders', 'lifetime_order_count', 'Hour', 'session_time', 'Monday', 'Saturday', 'Sunday', 'Thursday', 'Tuesday', 'Wednesday', 'dist_ratio']\n",
      "cat_features []\n",
      "(450000, 19) (450000,)\n",
      "train 360000 valid 90000\n",
      "training Light GBM:\n",
      "[LightGBM] [Warning] lambda_l1 is set=1.4560861519013482, reg_alpha=0.0 will be ignored. Current value: lambda_l1=1.4560861519013482\n",
      "[LightGBM] [Warning] bagging_fraction is set=0.7, subsample=1.0 will be ignored. Current value: bagging_fraction=0.7\n",
      "[LightGBM] [Warning] min_gain_to_split is set=4.168832153431536, min_split_gain=0.0 will be ignored. Current value: min_gain_to_split=4.168832153431536\n",
      "[LightGBM] [Warning] lambda_l2 is set=75, reg_lambda=0.0 will be ignored. Current value: lambda_l2=75\n",
      "[LightGBM] [Warning] feature_fraction is set=0.7, colsample_bytree=1.0 will be ignored. Current value: feature_fraction=0.7\n",
      "[LightGBM] [Warning] min_data_in_leaf is set=1150, min_child_samples=20 will be ignored. Current value: min_data_in_leaf=1150\n",
      "[LightGBM] [Warning] bagging_freq is set=1, subsample_freq=0 will be ignored. Current value: bagging_freq=1\n",
      "score -0.7399870207794601\n",
      "train 360000 valid 90000\n",
      "training Light GBM:\n",
      "[LightGBM] [Warning] lambda_l1 is set=1.4560861519013482, reg_alpha=0.0 will be ignored. Current value: lambda_l1=1.4560861519013482\n",
      "[LightGBM] [Warning] bagging_fraction is set=0.7, subsample=1.0 will be ignored. Current value: bagging_fraction=0.7\n",
      "[LightGBM] [Warning] min_gain_to_split is set=4.168832153431536, min_split_gain=0.0 will be ignored. Current value: min_gain_to_split=4.168832153431536\n",
      "[LightGBM] [Warning] lambda_l2 is set=75, reg_lambda=0.0 will be ignored. Current value: lambda_l2=75\n",
      "[LightGBM] [Warning] feature_fraction is set=0.7, colsample_bytree=1.0 will be ignored. Current value: feature_fraction=0.7\n",
      "[LightGBM] [Warning] min_data_in_leaf is set=1150, min_child_samples=20 will be ignored. Current value: min_data_in_leaf=1150\n",
      "[LightGBM] [Warning] bagging_freq is set=1, subsample_freq=0 will be ignored. Current value: bagging_freq=1\n",
      "score -0.7421140570453039\n",
      "train 360000 valid 90000\n",
      "training Light GBM:\n",
      "[LightGBM] [Warning] lambda_l1 is set=1.4560861519013482, reg_alpha=0.0 will be ignored. Current value: lambda_l1=1.4560861519013482\n",
      "[LightGBM] [Warning] bagging_fraction is set=0.7, subsample=1.0 will be ignored. Current value: bagging_fraction=0.7\n",
      "[LightGBM] [Warning] min_gain_to_split is set=4.168832153431536, min_split_gain=0.0 will be ignored. Current value: min_gain_to_split=4.168832153431536\n",
      "[LightGBM] [Warning] lambda_l2 is set=75, reg_lambda=0.0 will be ignored. Current value: lambda_l2=75\n",
      "[LightGBM] [Warning] feature_fraction is set=0.7, colsample_bytree=1.0 will be ignored. Current value: feature_fraction=0.7\n",
      "[LightGBM] [Warning] min_data_in_leaf is set=1150, min_child_samples=20 will be ignored. Current value: min_data_in_leaf=1150\n",
      "[LightGBM] [Warning] bagging_freq is set=1, subsample_freq=0 will be ignored. Current value: bagging_freq=1\n",
      "score -0.7589000638569604\n",
      "train 360000 valid 90000\n",
      "training Light GBM:\n",
      "[LightGBM] [Warning] lambda_l1 is set=1.4560861519013482, reg_alpha=0.0 will be ignored. Current value: lambda_l1=1.4560861519013482\n",
      "[LightGBM] [Warning] bagging_fraction is set=0.7, subsample=1.0 will be ignored. Current value: bagging_fraction=0.7\n",
      "[LightGBM] [Warning] min_gain_to_split is set=4.168832153431536, min_split_gain=0.0 will be ignored. Current value: min_gain_to_split=4.168832153431536\n",
      "[LightGBM] [Warning] lambda_l2 is set=75, reg_lambda=0.0 will be ignored. Current value: lambda_l2=75\n",
      "[LightGBM] [Warning] feature_fraction is set=0.7, colsample_bytree=1.0 will be ignored. Current value: feature_fraction=0.7\n",
      "[LightGBM] [Warning] min_data_in_leaf is set=1150, min_child_samples=20 will be ignored. Current value: min_data_in_leaf=1150\n",
      "[LightGBM] [Warning] bagging_freq is set=1, subsample_freq=0 will be ignored. Current value: bagging_freq=1\n",
      "score -0.7598507469532917\n",
      "train 360000 valid 90000\n",
      "training Light GBM:\n",
      "[LightGBM] [Warning] lambda_l1 is set=1.4560861519013482, reg_alpha=0.0 will be ignored. Current value: lambda_l1=1.4560861519013482\n",
      "[LightGBM] [Warning] bagging_fraction is set=0.7, subsample=1.0 will be ignored. Current value: bagging_fraction=0.7\n",
      "[LightGBM] [Warning] min_gain_to_split is set=4.168832153431536, min_split_gain=0.0 will be ignored. Current value: min_gain_to_split=4.168832153431536\n",
      "[LightGBM] [Warning] lambda_l2 is set=75, reg_lambda=0.0 will be ignored. Current value: lambda_l2=75\n",
      "[LightGBM] [Warning] feature_fraction is set=0.7, colsample_bytree=1.0 will be ignored. Current value: feature_fraction=0.7\n",
      "[LightGBM] [Warning] min_data_in_leaf is set=1150, min_child_samples=20 will be ignored. Current value: min_data_in_leaf=1150\n",
      "[LightGBM] [Warning] bagging_freq is set=1, subsample_freq=0 will be ignored. Current value: bagging_freq=1\n"
     ]
    },
    {
     "name": "stderr",
     "output_type": "stream",
     "text": [
      "\u001b[32m[I 2022-02-11 10:12:13,556]\u001b[0m Trial 22 finished with value: -0.749546649288526 and parameters: {'n_estimators': 10000, 'learning_rate': 0.3188715054035669, 'num_leaves': 2575, 'max_depth': 8, 'min_data_in_leaf': 1150, 'lambda_l1': 1.4560861519013482, 'lambda_l2': 75, 'min_gain_to_split': 4.168832153431536, 'bagging_fraction': 0.7, 'bagging_freq': 1, 'feature_fraction': 0.7}. Best is trial 22 with value: -0.749546649288526.\u001b[0m\n"
     ]
    },
    {
     "name": "stdout",
     "output_type": "stream",
     "text": [
      "score -0.7468813578076139\n",
      "cancelled :5218 , not_cancelled :444782\n",
      "Memory usage of dataframe is 61.19 MB\n",
      "Memory usage after optimization is: 40.59 MB\n",
      "Decreased by 33.7%\n",
      "Features : ['first_mile_distance', 'elapse1', 'elapse2', 'last_mile_distance', 'tot_dist', 'alloted_orders', 'delivered_orders', 'del_ratio', 'undelivered_orders', 'lifetime_order_count', 'Hour', 'session_time', 'Monday', 'Saturday', 'Sunday', 'Thursday', 'Tuesday', 'Wednesday', 'dist_ratio']\n",
      "cat_features []\n",
      "(450000, 19) (450000,)\n",
      "train 360000 valid 90000\n",
      "training Light GBM:\n",
      "[LightGBM] [Warning] lambda_l1 is set=2.652145427693695, reg_alpha=0.0 will be ignored. Current value: lambda_l1=2.652145427693695\n",
      "[LightGBM] [Warning] bagging_fraction is set=0.7, subsample=1.0 will be ignored. Current value: bagging_fraction=0.7\n",
      "[LightGBM] [Warning] min_gain_to_split is set=6.5780102649995795, min_split_gain=0.0 will be ignored. Current value: min_gain_to_split=6.5780102649995795\n",
      "[LightGBM] [Warning] lambda_l2 is set=90, reg_lambda=0.0 will be ignored. Current value: lambda_l2=90\n",
      "[LightGBM] [Warning] feature_fraction is set=0.7, colsample_bytree=1.0 will be ignored. Current value: feature_fraction=0.7\n",
      "[LightGBM] [Warning] min_data_in_leaf is set=2700, min_child_samples=20 will be ignored. Current value: min_data_in_leaf=2700\n",
      "[LightGBM] [Warning] bagging_freq is set=1, subsample_freq=0 will be ignored. Current value: bagging_freq=1\n"
     ]
    },
    {
     "name": "stderr",
     "output_type": "stream",
     "text": [
      "\u001b[32m[I 2022-02-11 10:12:17,440]\u001b[0m Trial 23 pruned. Trial was pruned at iteration 0.\u001b[0m\n"
     ]
    },
    {
     "name": "stdout",
     "output_type": "stream",
     "text": [
      "cancelled :5218 , not_cancelled :444782\n",
      "Memory usage of dataframe is 61.19 MB\n",
      "Memory usage after optimization is: 40.59 MB\n",
      "Decreased by 33.7%\n",
      "Features : ['first_mile_distance', 'elapse1', 'elapse2', 'last_mile_distance', 'tot_dist', 'alloted_orders', 'delivered_orders', 'del_ratio', 'undelivered_orders', 'lifetime_order_count', 'Hour', 'session_time', 'Monday', 'Saturday', 'Sunday', 'Thursday', 'Tuesday', 'Wednesday', 'dist_ratio']\n",
      "cat_features []\n",
      "(450000, 19) (450000,)\n",
      "train 360000 valid 90000\n",
      "training Light GBM:\n"
     ]
    },
    {
     "name": "stderr",
     "output_type": "stream",
     "text": [
      "\u001b[32m[I 2022-02-11 10:12:21,487]\u001b[0m Trial 24 pruned. Trial was pruned at iteration 12.\u001b[0m\n"
     ]
    },
    {
     "name": "stdout",
     "output_type": "stream",
     "text": [
      "cancelled :5218 , not_cancelled :444782\n",
      "Memory usage of dataframe is 61.19 MB\n",
      "Memory usage after optimization is: 40.59 MB\n",
      "Decreased by 33.7%\n",
      "Features : ['first_mile_distance', 'elapse1', 'elapse2', 'last_mile_distance', 'tot_dist', 'alloted_orders', 'delivered_orders', 'del_ratio', 'undelivered_orders', 'lifetime_order_count', 'Hour', 'session_time', 'Monday', 'Saturday', 'Sunday', 'Thursday', 'Tuesday', 'Wednesday', 'dist_ratio']\n",
      "cat_features []\n",
      "(450000, 19) (450000,)\n",
      "train 360000 valid 90000\n",
      "training Light GBM:\n"
     ]
    },
    {
     "name": "stderr",
     "output_type": "stream",
     "text": [
      "\u001b[32m[I 2022-02-11 10:12:25,364]\u001b[0m Trial 25 pruned. Trial was pruned at iteration 0.\u001b[0m\n"
     ]
    },
    {
     "name": "stdout",
     "output_type": "stream",
     "text": [
      "cancelled :5218 , not_cancelled :444782\n",
      "Memory usage of dataframe is 61.19 MB\n",
      "Memory usage after optimization is: 40.59 MB\n",
      "Decreased by 33.7%\n",
      "Features : ['first_mile_distance', 'elapse1', 'elapse2', 'last_mile_distance', 'tot_dist', 'alloted_orders', 'delivered_orders', 'del_ratio', 'undelivered_orders', 'lifetime_order_count', 'Hour', 'session_time', 'Monday', 'Saturday', 'Sunday', 'Thursday', 'Tuesday', 'Wednesday', 'dist_ratio']\n",
      "cat_features []\n",
      "(450000, 19) (450000,)\n",
      "train 360000 valid 90000\n",
      "training Light GBM:\n"
     ]
    },
    {
     "name": "stderr",
     "output_type": "stream",
     "text": [
      "\u001b[32m[I 2022-02-11 10:12:29,316]\u001b[0m Trial 26 pruned. Trial was pruned at iteration 0.\u001b[0m\n"
     ]
    },
    {
     "name": "stdout",
     "output_type": "stream",
     "text": [
      "cancelled :5218 , not_cancelled :444782\n",
      "Memory usage of dataframe is 61.19 MB\n",
      "Memory usage after optimization is: 40.59 MB\n",
      "Decreased by 33.7%\n",
      "Features : ['first_mile_distance', 'elapse1', 'elapse2', 'last_mile_distance', 'tot_dist', 'alloted_orders', 'delivered_orders', 'del_ratio', 'undelivered_orders', 'lifetime_order_count', 'Hour', 'session_time', 'Monday', 'Saturday', 'Sunday', 'Thursday', 'Tuesday', 'Wednesday', 'dist_ratio']\n",
      "cat_features []\n",
      "(450000, 19) (450000,)\n",
      "train 360000 valid 90000\n",
      "training Light GBM:\n"
     ]
    },
    {
     "name": "stderr",
     "output_type": "stream",
     "text": [
      "\u001b[32m[I 2022-02-11 10:12:33,327]\u001b[0m Trial 27 pruned. Trial was pruned at iteration 0.\u001b[0m\n"
     ]
    },
    {
     "name": "stdout",
     "output_type": "stream",
     "text": [
      "cancelled :5218 , not_cancelled :444782\n",
      "Memory usage of dataframe is 61.19 MB\n",
      "Memory usage after optimization is: 40.59 MB\n",
      "Decreased by 33.7%\n",
      "Features : ['first_mile_distance', 'elapse1', 'elapse2', 'last_mile_distance', 'tot_dist', 'alloted_orders', 'delivered_orders', 'del_ratio', 'undelivered_orders', 'lifetime_order_count', 'Hour', 'session_time', 'Monday', 'Saturday', 'Sunday', 'Thursday', 'Tuesday', 'Wednesday', 'dist_ratio']\n",
      "cat_features []\n",
      "(450000, 19) (450000,)\n",
      "train 360000 valid 90000\n",
      "training Light GBM:\n"
     ]
    },
    {
     "name": "stderr",
     "output_type": "stream",
     "text": [
      "\u001b[32m[I 2022-02-11 10:12:37,179]\u001b[0m Trial 28 pruned. Trial was pruned at iteration 0.\u001b[0m\n"
     ]
    },
    {
     "name": "stdout",
     "output_type": "stream",
     "text": [
      "cancelled :5218 , not_cancelled :444782\n",
      "Memory usage of dataframe is 61.19 MB\n",
      "Memory usage after optimization is: 40.59 MB\n",
      "Decreased by 33.7%\n",
      "Features : ['first_mile_distance', 'elapse1', 'elapse2', 'last_mile_distance', 'tot_dist', 'alloted_orders', 'delivered_orders', 'del_ratio', 'undelivered_orders', 'lifetime_order_count', 'Hour', 'session_time', 'Monday', 'Saturday', 'Sunday', 'Thursday', 'Tuesday', 'Wednesday', 'dist_ratio']\n",
      "cat_features []\n",
      "(450000, 19) (450000,)\n",
      "train 360000 valid 90000\n",
      "training Light GBM:\n"
     ]
    },
    {
     "name": "stderr",
     "output_type": "stream",
     "text": [
      "\u001b[32m[I 2022-02-11 10:12:41,106]\u001b[0m Trial 29 pruned. Trial was pruned at iteration 0.\u001b[0m\n"
     ]
    },
    {
     "name": "stdout",
     "output_type": "stream",
     "text": [
      "cancelled :5218 , not_cancelled :444782\n",
      "Memory usage of dataframe is 61.19 MB\n",
      "Memory usage after optimization is: 40.59 MB\n",
      "Decreased by 33.7%\n",
      "Features : ['first_mile_distance', 'elapse1', 'elapse2', 'last_mile_distance', 'tot_dist', 'alloted_orders', 'delivered_orders', 'del_ratio', 'undelivered_orders', 'lifetime_order_count', 'Hour', 'session_time', 'Monday', 'Saturday', 'Sunday', 'Thursday', 'Tuesday', 'Wednesday', 'dist_ratio']\n",
      "cat_features []\n",
      "(450000, 19) (450000,)\n",
      "train 360000 valid 90000\n",
      "training Light GBM:\n"
     ]
    },
    {
     "name": "stderr",
     "output_type": "stream",
     "text": [
      "\u001b[32m[I 2022-02-11 10:12:45,092]\u001b[0m Trial 30 pruned. Trial was pruned at iteration 0.\u001b[0m\n"
     ]
    },
    {
     "name": "stdout",
     "output_type": "stream",
     "text": [
      "cancelled :5218 , not_cancelled :444782\n",
      "Memory usage of dataframe is 61.19 MB\n",
      "Memory usage after optimization is: 40.59 MB\n",
      "Decreased by 33.7%\n",
      "Features : ['first_mile_distance', 'elapse1', 'elapse2', 'last_mile_distance', 'tot_dist', 'alloted_orders', 'delivered_orders', 'del_ratio', 'undelivered_orders', 'lifetime_order_count', 'Hour', 'session_time', 'Monday', 'Saturday', 'Sunday', 'Thursday', 'Tuesday', 'Wednesday', 'dist_ratio']\n",
      "cat_features []\n",
      "(450000, 19) (450000,)\n",
      "train 360000 valid 90000\n",
      "training Light GBM:\n",
      "score -0.7555663534896923\n",
      "train 360000 valid 90000\n",
      "training Light GBM:\n",
      "[LightGBM] [Warning] lambda_l1 is set=0.03558126144675695, reg_alpha=0.0 will be ignored. Current value: lambda_l1=0.03558126144675695\n",
      "[LightGBM] [Warning] bagging_fraction is set=0.8, subsample=1.0 will be ignored. Current value: bagging_fraction=0.8\n",
      "[LightGBM] [Warning] min_gain_to_split is set=4.639640713432928, min_split_gain=0.0 will be ignored. Current value: min_gain_to_split=4.639640713432928\n",
      "[LightGBM] [Warning] lambda_l2 is set=70, reg_lambda=0.0 will be ignored. Current value: lambda_l2=70\n",
      "[LightGBM] [Warning] feature_fraction is set=0.5, colsample_bytree=1.0 will be ignored. Current value: feature_fraction=0.5\n",
      "[LightGBM] [Warning] min_data_in_leaf is set=1050, min_child_samples=20 will be ignored. Current value: min_data_in_leaf=1050\n",
      "[LightGBM] [Warning] bagging_freq is set=1, subsample_freq=0 will be ignored. Current value: bagging_freq=1\n",
      "score -0.7497423777122822\n",
      "train 360000 valid 90000\n",
      "training Light GBM:\n",
      "[LightGBM] [Warning] lambda_l1 is set=0.03558126144675695, reg_alpha=0.0 will be ignored. Current value: lambda_l1=0.03558126144675695\n",
      "[LightGBM] [Warning] bagging_fraction is set=0.8, subsample=1.0 will be ignored. Current value: bagging_fraction=0.8\n",
      "[LightGBM] [Warning] min_gain_to_split is set=4.639640713432928, min_split_gain=0.0 will be ignored. Current value: min_gain_to_split=4.639640713432928\n",
      "[LightGBM] [Warning] lambda_l2 is set=70, reg_lambda=0.0 will be ignored. Current value: lambda_l2=70\n",
      "[LightGBM] [Warning] feature_fraction is set=0.5, colsample_bytree=1.0 will be ignored. Current value: feature_fraction=0.5\n",
      "[LightGBM] [Warning] min_data_in_leaf is set=1050, min_child_samples=20 will be ignored. Current value: min_data_in_leaf=1050\n",
      "[LightGBM] [Warning] bagging_freq is set=1, subsample_freq=0 will be ignored. Current value: bagging_freq=1\n",
      "score -0.7410077589695643\n",
      "train 360000 valid 90000\n",
      "training Light GBM:\n",
      "[LightGBM] [Warning] lambda_l1 is set=0.03558126144675695, reg_alpha=0.0 will be ignored. Current value: lambda_l1=0.03558126144675695\n",
      "[LightGBM] [Warning] bagging_fraction is set=0.8, subsample=1.0 will be ignored. Current value: bagging_fraction=0.8\n",
      "[LightGBM] [Warning] min_gain_to_split is set=4.639640713432928, min_split_gain=0.0 will be ignored. Current value: min_gain_to_split=4.639640713432928\n",
      "[LightGBM] [Warning] lambda_l2 is set=70, reg_lambda=0.0 will be ignored. Current value: lambda_l2=70\n",
      "[LightGBM] [Warning] feature_fraction is set=0.5, colsample_bytree=1.0 will be ignored. Current value: feature_fraction=0.5\n",
      "[LightGBM] [Warning] min_data_in_leaf is set=1050, min_child_samples=20 will be ignored. Current value: min_data_in_leaf=1050\n",
      "[LightGBM] [Warning] bagging_freq is set=1, subsample_freq=0 will be ignored. Current value: bagging_freq=1\n",
      "score -0.7481848079699827\n",
      "train 360000 valid 90000\n",
      "training Light GBM:\n",
      "[LightGBM] [Warning] lambda_l1 is set=0.03558126144675695, reg_alpha=0.0 will be ignored. Current value: lambda_l1=0.03558126144675695\n",
      "[LightGBM] [Warning] bagging_fraction is set=0.8, subsample=1.0 will be ignored. Current value: bagging_fraction=0.8\n",
      "[LightGBM] [Warning] min_gain_to_split is set=4.639640713432928, min_split_gain=0.0 will be ignored. Current value: min_gain_to_split=4.639640713432928\n",
      "[LightGBM] [Warning] lambda_l2 is set=70, reg_lambda=0.0 will be ignored. Current value: lambda_l2=70\n",
      "[LightGBM] [Warning] feature_fraction is set=0.5, colsample_bytree=1.0 will be ignored. Current value: feature_fraction=0.5\n",
      "[LightGBM] [Warning] min_data_in_leaf is set=1050, min_child_samples=20 will be ignored. Current value: min_data_in_leaf=1050\n",
      "[LightGBM] [Warning] bagging_freq is set=1, subsample_freq=0 will be ignored. Current value: bagging_freq=1\n"
     ]
    },
    {
     "name": "stderr",
     "output_type": "stream",
     "text": [
      "\u001b[32m[I 2022-02-11 10:12:59,313]\u001b[0m Trial 31 finished with value: -0.7490168031034978 and parameters: {'n_estimators': 10000, 'learning_rate': 0.39167460819318917, 'num_leaves': 2986, 'max_depth': 8, 'min_data_in_leaf': 1050, 'lambda_l1': 0.03558126144675695, 'lambda_l2': 70, 'min_gain_to_split': 4.639640713432928, 'bagging_fraction': 0.8, 'bagging_freq': 1, 'feature_fraction': 0.5}. Best is trial 22 with value: -0.749546649288526.\u001b[0m\n"
     ]
    },
    {
     "name": "stdout",
     "output_type": "stream",
     "text": [
      "score -0.7505827173759674\n",
      "cancelled :5218 , not_cancelled :444782\n",
      "Memory usage of dataframe is 61.19 MB\n",
      "Memory usage after optimization is: 40.59 MB\n",
      "Decreased by 33.7%\n",
      "Features : ['first_mile_distance', 'elapse1', 'elapse2', 'last_mile_distance', 'tot_dist', 'alloted_orders', 'delivered_orders', 'del_ratio', 'undelivered_orders', 'lifetime_order_count', 'Hour', 'session_time', 'Monday', 'Saturday', 'Sunday', 'Thursday', 'Tuesday', 'Wednesday', 'dist_ratio']\n",
      "cat_features []\n",
      "(450000, 19) (450000,)\n",
      "train 360000 valid 90000\n",
      "training Light GBM:\n",
      "[LightGBM] [Warning] lambda_l1 is set=0.5457206353193202, reg_alpha=0.0 will be ignored. Current value: lambda_l1=0.5457206353193202\n",
      "[LightGBM] [Warning] bagging_fraction is set=0.8, subsample=1.0 will be ignored. Current value: bagging_fraction=0.8\n",
      "[LightGBM] [Warning] min_gain_to_split is set=5.225364453259594, min_split_gain=0.0 will be ignored. Current value: min_gain_to_split=5.225364453259594\n",
      "[LightGBM] [Warning] lambda_l2 is set=50, reg_lambda=0.0 will be ignored. Current value: lambda_l2=50\n",
      "[LightGBM] [Warning] feature_fraction is set=0.5, colsample_bytree=1.0 will be ignored. Current value: feature_fraction=0.5\n",
      "[LightGBM] [Warning] min_data_in_leaf is set=950, min_child_samples=20 will be ignored. Current value: min_data_in_leaf=950\n",
      "[LightGBM] [Warning] bagging_freq is set=1, subsample_freq=0 will be ignored. Current value: bagging_freq=1\n",
      "score -0.7531926210678173\n",
      "train 360000 valid 90000\n",
      "training Light GBM:\n",
      "[LightGBM] [Warning] lambda_l1 is set=0.5457206353193202, reg_alpha=0.0 will be ignored. Current value: lambda_l1=0.5457206353193202\n",
      "[LightGBM] [Warning] bagging_fraction is set=0.8, subsample=1.0 will be ignored. Current value: bagging_fraction=0.8\n",
      "[LightGBM] [Warning] min_gain_to_split is set=5.225364453259594, min_split_gain=0.0 will be ignored. Current value: min_gain_to_split=5.225364453259594\n",
      "[LightGBM] [Warning] lambda_l2 is set=50, reg_lambda=0.0 will be ignored. Current value: lambda_l2=50\n",
      "[LightGBM] [Warning] feature_fraction is set=0.5, colsample_bytree=1.0 will be ignored. Current value: feature_fraction=0.5\n",
      "[LightGBM] [Warning] min_data_in_leaf is set=950, min_child_samples=20 will be ignored. Current value: min_data_in_leaf=950\n",
      "[LightGBM] [Warning] bagging_freq is set=1, subsample_freq=0 will be ignored. Current value: bagging_freq=1\n",
      "score -0.7606739576451509\n",
      "train 360000 valid 90000\n",
      "training Light GBM:\n",
      "[LightGBM] [Warning] lambda_l1 is set=0.5457206353193202, reg_alpha=0.0 will be ignored. Current value: lambda_l1=0.5457206353193202\n",
      "[LightGBM] [Warning] bagging_fraction is set=0.8, subsample=1.0 will be ignored. Current value: bagging_fraction=0.8\n",
      "[LightGBM] [Warning] min_gain_to_split is set=5.225364453259594, min_split_gain=0.0 will be ignored. Current value: min_gain_to_split=5.225364453259594\n",
      "[LightGBM] [Warning] lambda_l2 is set=50, reg_lambda=0.0 will be ignored. Current value: lambda_l2=50\n",
      "[LightGBM] [Warning] feature_fraction is set=0.5, colsample_bytree=1.0 will be ignored. Current value: feature_fraction=0.5\n",
      "[LightGBM] [Warning] min_data_in_leaf is set=950, min_child_samples=20 will be ignored. Current value: min_data_in_leaf=950\n",
      "[LightGBM] [Warning] bagging_freq is set=1, subsample_freq=0 will be ignored. Current value: bagging_freq=1\n",
      "score -0.7364687021212777\n",
      "train 360000 valid 90000\n",
      "training Light GBM:\n",
      "[LightGBM] [Warning] lambda_l1 is set=0.5457206353193202, reg_alpha=0.0 will be ignored. Current value: lambda_l1=0.5457206353193202\n",
      "[LightGBM] [Warning] bagging_fraction is set=0.8, subsample=1.0 will be ignored. Current value: bagging_fraction=0.8\n",
      "[LightGBM] [Warning] min_gain_to_split is set=5.225364453259594, min_split_gain=0.0 will be ignored. Current value: min_gain_to_split=5.225364453259594\n",
      "[LightGBM] [Warning] lambda_l2 is set=50, reg_lambda=0.0 will be ignored. Current value: lambda_l2=50\n",
      "[LightGBM] [Warning] feature_fraction is set=0.5, colsample_bytree=1.0 will be ignored. Current value: feature_fraction=0.5\n",
      "[LightGBM] [Warning] min_data_in_leaf is set=950, min_child_samples=20 will be ignored. Current value: min_data_in_leaf=950\n",
      "[LightGBM] [Warning] bagging_freq is set=1, subsample_freq=0 will be ignored. Current value: bagging_freq=1\n"
     ]
    },
    {
     "name": "stderr",
     "output_type": "stream",
     "text": [
      "\u001b[32m[I 2022-02-11 10:13:11,270]\u001b[0m Trial 32 pruned. Trial was pruned at iteration 124.\u001b[0m\n"
     ]
    },
    {
     "name": "stdout",
     "output_type": "stream",
     "text": [
      "cancelled :5218 , not_cancelled :444782\n",
      "Memory usage of dataframe is 61.19 MB\n",
      "Memory usage after optimization is: 40.59 MB\n",
      "Decreased by 33.7%\n",
      "Features : ['first_mile_distance', 'elapse1', 'elapse2', 'last_mile_distance', 'tot_dist', 'alloted_orders', 'delivered_orders', 'del_ratio', 'undelivered_orders', 'lifetime_order_count', 'Hour', 'session_time', 'Monday', 'Saturday', 'Sunday', 'Thursday', 'Tuesday', 'Wednesday', 'dist_ratio']\n",
      "cat_features []\n",
      "(450000, 19) (450000,)\n",
      "train 360000 valid 90000\n",
      "training Light GBM:\n"
     ]
    },
    {
     "name": "stderr",
     "output_type": "stream",
     "text": [
      "\u001b[32m[I 2022-02-11 10:13:15,192]\u001b[0m Trial 33 pruned. Trial was pruned at iteration 0.\u001b[0m\n"
     ]
    },
    {
     "name": "stdout",
     "output_type": "stream",
     "text": [
      "cancelled :5218 , not_cancelled :444782\n",
      "Memory usage of dataframe is 61.19 MB\n",
      "Memory usage after optimization is: 40.59 MB\n",
      "Decreased by 33.7%\n",
      "Features : ['first_mile_distance', 'elapse1', 'elapse2', 'last_mile_distance', 'tot_dist', 'alloted_orders', 'delivered_orders', 'del_ratio', 'undelivered_orders', 'lifetime_order_count', 'Hour', 'session_time', 'Monday', 'Saturday', 'Sunday', 'Thursday', 'Tuesday', 'Wednesday', 'dist_ratio']\n",
      "cat_features []\n",
      "(450000, 19) (450000,)\n",
      "train 360000 valid 90000\n",
      "training Light GBM:\n"
     ]
    },
    {
     "name": "stderr",
     "output_type": "stream",
     "text": [
      "\u001b[32m[I 2022-02-11 10:13:19,125]\u001b[0m Trial 34 pruned. Trial was pruned at iteration 0.\u001b[0m\n"
     ]
    },
    {
     "name": "stdout",
     "output_type": "stream",
     "text": [
      "cancelled :5218 , not_cancelled :444782\n",
      "Memory usage of dataframe is 61.19 MB\n",
      "Memory usage after optimization is: 40.59 MB\n",
      "Decreased by 33.7%\n",
      "Features : ['first_mile_distance', 'elapse1', 'elapse2', 'last_mile_distance', 'tot_dist', 'alloted_orders', 'delivered_orders', 'del_ratio', 'undelivered_orders', 'lifetime_order_count', 'Hour', 'session_time', 'Monday', 'Saturday', 'Sunday', 'Thursday', 'Tuesday', 'Wednesday', 'dist_ratio']\n",
      "cat_features []\n",
      "(450000, 19) (450000,)\n",
      "train 360000 valid 90000\n",
      "training Light GBM:\n"
     ]
    },
    {
     "name": "stderr",
     "output_type": "stream",
     "text": [
      "\u001b[32m[I 2022-02-11 10:13:23,124]\u001b[0m Trial 35 pruned. Trial was pruned at iteration 0.\u001b[0m\n"
     ]
    },
    {
     "name": "stdout",
     "output_type": "stream",
     "text": [
      "cancelled :5218 , not_cancelled :444782\n",
      "Memory usage of dataframe is 61.19 MB\n",
      "Memory usage after optimization is: 40.59 MB\n",
      "Decreased by 33.7%\n",
      "Features : ['first_mile_distance', 'elapse1', 'elapse2', 'last_mile_distance', 'tot_dist', 'alloted_orders', 'delivered_orders', 'del_ratio', 'undelivered_orders', 'lifetime_order_count', 'Hour', 'session_time', 'Monday', 'Saturday', 'Sunday', 'Thursday', 'Tuesday', 'Wednesday', 'dist_ratio']\n",
      "cat_features []\n",
      "(450000, 19) (450000,)\n",
      "train 360000 valid 90000\n",
      "training Light GBM:\n"
     ]
    },
    {
     "name": "stderr",
     "output_type": "stream",
     "text": [
      "\u001b[32m[I 2022-02-11 10:13:27,097]\u001b[0m Trial 36 pruned. Trial was pruned at iteration 0.\u001b[0m\n"
     ]
    },
    {
     "name": "stdout",
     "output_type": "stream",
     "text": [
      "cancelled :5218 , not_cancelled :444782\n",
      "Memory usage of dataframe is 61.19 MB\n",
      "Memory usage after optimization is: 40.59 MB\n",
      "Decreased by 33.7%\n",
      "Features : ['first_mile_distance', 'elapse1', 'elapse2', 'last_mile_distance', 'tot_dist', 'alloted_orders', 'delivered_orders', 'del_ratio', 'undelivered_orders', 'lifetime_order_count', 'Hour', 'session_time', 'Monday', 'Saturday', 'Sunday', 'Thursday', 'Tuesday', 'Wednesday', 'dist_ratio']\n",
      "cat_features []\n",
      "(450000, 19) (450000,)\n",
      "train 360000 valid 90000\n",
      "training Light GBM:\n"
     ]
    },
    {
     "name": "stderr",
     "output_type": "stream",
     "text": [
      "\u001b[32m[I 2022-02-11 10:13:30,972]\u001b[0m Trial 37 pruned. Trial was pruned at iteration 5.\u001b[0m\n"
     ]
    },
    {
     "name": "stdout",
     "output_type": "stream",
     "text": [
      "cancelled :5218 , not_cancelled :444782\n",
      "Memory usage of dataframe is 61.19 MB\n",
      "Memory usage after optimization is: 40.59 MB\n",
      "Decreased by 33.7%\n",
      "Features : ['first_mile_distance', 'elapse1', 'elapse2', 'last_mile_distance', 'tot_dist', 'alloted_orders', 'delivered_orders', 'del_ratio', 'undelivered_orders', 'lifetime_order_count', 'Hour', 'session_time', 'Monday', 'Saturday', 'Sunday', 'Thursday', 'Tuesday', 'Wednesday', 'dist_ratio']\n",
      "cat_features []\n",
      "(450000, 19) (450000,)\n",
      "train 360000 valid 90000\n",
      "training Light GBM:\n"
     ]
    },
    {
     "name": "stderr",
     "output_type": "stream",
     "text": [
      "\u001b[32m[I 2022-02-11 10:13:34,892]\u001b[0m Trial 38 pruned. Trial was pruned at iteration 0.\u001b[0m\n"
     ]
    },
    {
     "name": "stdout",
     "output_type": "stream",
     "text": [
      "cancelled :5218 , not_cancelled :444782\n",
      "Memory usage of dataframe is 61.19 MB\n",
      "Memory usage after optimization is: 40.59 MB\n",
      "Decreased by 33.7%\n",
      "Features : ['first_mile_distance', 'elapse1', 'elapse2', 'last_mile_distance', 'tot_dist', 'alloted_orders', 'delivered_orders', 'del_ratio', 'undelivered_orders', 'lifetime_order_count', 'Hour', 'session_time', 'Monday', 'Saturday', 'Sunday', 'Thursday', 'Tuesday', 'Wednesday', 'dist_ratio']\n",
      "cat_features []\n",
      "(450000, 19) (450000,)\n",
      "train 360000 valid 90000\n",
      "training Light GBM:\n"
     ]
    },
    {
     "name": "stderr",
     "output_type": "stream",
     "text": [
      "\u001b[32m[I 2022-02-11 10:13:38,818]\u001b[0m Trial 39 pruned. Trial was pruned at iteration 0.\u001b[0m\n"
     ]
    },
    {
     "name": "stdout",
     "output_type": "stream",
     "text": [
      "cancelled :5218 , not_cancelled :444782\n",
      "Memory usage of dataframe is 61.19 MB\n",
      "Memory usage after optimization is: 40.59 MB\n",
      "Decreased by 33.7%\n",
      "Features : ['first_mile_distance', 'elapse1', 'elapse2', 'last_mile_distance', 'tot_dist', 'alloted_orders', 'delivered_orders', 'del_ratio', 'undelivered_orders', 'lifetime_order_count', 'Hour', 'session_time', 'Monday', 'Saturday', 'Sunday', 'Thursday', 'Tuesday', 'Wednesday', 'dist_ratio']\n",
      "cat_features []\n",
      "(450000, 19) (450000,)\n",
      "train 360000 valid 90000\n",
      "training Light GBM:\n"
     ]
    },
    {
     "name": "stderr",
     "output_type": "stream",
     "text": [
      "\u001b[32m[I 2022-02-11 10:13:42,619]\u001b[0m Trial 40 pruned. Trial was pruned at iteration 2.\u001b[0m\n"
     ]
    },
    {
     "name": "stdout",
     "output_type": "stream",
     "text": [
      "cancelled :5218 , not_cancelled :444782\n",
      "Memory usage of dataframe is 61.19 MB\n",
      "Memory usage after optimization is: 40.59 MB\n",
      "Decreased by 33.7%\n",
      "Features : ['first_mile_distance', 'elapse1', 'elapse2', 'last_mile_distance', 'tot_dist', 'alloted_orders', 'delivered_orders', 'del_ratio', 'undelivered_orders', 'lifetime_order_count', 'Hour', 'session_time', 'Monday', 'Saturday', 'Sunday', 'Thursday', 'Tuesday', 'Wednesday', 'dist_ratio']\n",
      "cat_features []\n",
      "(450000, 19) (450000,)\n",
      "train 360000 valid 90000\n",
      "training Light GBM:\n",
      "score -0.7664160588387308\n",
      "train 360000 valid 90000\n",
      "training Light GBM:\n",
      "[LightGBM] [Warning] lambda_l1 is set=0.018186887926473168, reg_alpha=0.0 will be ignored. Current value: lambda_l1=0.018186887926473168\n",
      "[LightGBM] [Warning] bagging_fraction is set=0.8, subsample=1.0 will be ignored. Current value: bagging_fraction=0.8\n",
      "[LightGBM] [Warning] min_gain_to_split is set=4.821867728611187, min_split_gain=0.0 will be ignored. Current value: min_gain_to_split=4.821867728611187\n",
      "[LightGBM] [Warning] lambda_l2 is set=70, reg_lambda=0.0 will be ignored. Current value: lambda_l2=70\n",
      "[LightGBM] [Warning] feature_fraction is set=0.5, colsample_bytree=1.0 will be ignored. Current value: feature_fraction=0.5\n",
      "[LightGBM] [Warning] min_data_in_leaf is set=450, min_child_samples=20 will be ignored. Current value: min_data_in_leaf=450\n",
      "[LightGBM] [Warning] bagging_freq is set=1, subsample_freq=0 will be ignored. Current value: bagging_freq=1\n",
      "score -0.7424242244610173\n",
      "train 360000 valid 90000\n",
      "training Light GBM:\n",
      "[LightGBM] [Warning] lambda_l1 is set=0.018186887926473168, reg_alpha=0.0 will be ignored. Current value: lambda_l1=0.018186887926473168\n",
      "[LightGBM] [Warning] bagging_fraction is set=0.8, subsample=1.0 will be ignored. Current value: bagging_fraction=0.8\n",
      "[LightGBM] [Warning] min_gain_to_split is set=4.821867728611187, min_split_gain=0.0 will be ignored. Current value: min_gain_to_split=4.821867728611187\n",
      "[LightGBM] [Warning] lambda_l2 is set=70, reg_lambda=0.0 will be ignored. Current value: lambda_l2=70\n",
      "[LightGBM] [Warning] feature_fraction is set=0.5, colsample_bytree=1.0 will be ignored. Current value: feature_fraction=0.5\n",
      "[LightGBM] [Warning] min_data_in_leaf is set=450, min_child_samples=20 will be ignored. Current value: min_data_in_leaf=450\n",
      "[LightGBM] [Warning] bagging_freq is set=1, subsample_freq=0 will be ignored. Current value: bagging_freq=1\n",
      "score -0.7306998302488518\n",
      "train 360000 valid 90000\n",
      "training Light GBM:\n",
      "[LightGBM] [Warning] lambda_l1 is set=0.018186887926473168, reg_alpha=0.0 will be ignored. Current value: lambda_l1=0.018186887926473168\n",
      "[LightGBM] [Warning] bagging_fraction is set=0.8, subsample=1.0 will be ignored. Current value: bagging_fraction=0.8\n",
      "[LightGBM] [Warning] min_gain_to_split is set=4.821867728611187, min_split_gain=0.0 will be ignored. Current value: min_gain_to_split=4.821867728611187\n",
      "[LightGBM] [Warning] lambda_l2 is set=70, reg_lambda=0.0 will be ignored. Current value: lambda_l2=70\n",
      "[LightGBM] [Warning] feature_fraction is set=0.5, colsample_bytree=1.0 will be ignored. Current value: feature_fraction=0.5\n",
      "[LightGBM] [Warning] min_data_in_leaf is set=450, min_child_samples=20 will be ignored. Current value: min_data_in_leaf=450\n",
      "[LightGBM] [Warning] bagging_freq is set=1, subsample_freq=0 will be ignored. Current value: bagging_freq=1\n",
      "score -0.7396279494326611\n",
      "train 360000 valid 90000\n",
      "training Light GBM:\n",
      "[LightGBM] [Warning] lambda_l1 is set=0.018186887926473168, reg_alpha=0.0 will be ignored. Current value: lambda_l1=0.018186887926473168\n",
      "[LightGBM] [Warning] bagging_fraction is set=0.8, subsample=1.0 will be ignored. Current value: bagging_fraction=0.8\n",
      "[LightGBM] [Warning] min_gain_to_split is set=4.821867728611187, min_split_gain=0.0 will be ignored. Current value: min_gain_to_split=4.821867728611187\n",
      "[LightGBM] [Warning] lambda_l2 is set=70, reg_lambda=0.0 will be ignored. Current value: lambda_l2=70\n",
      "[LightGBM] [Warning] feature_fraction is set=0.5, colsample_bytree=1.0 will be ignored. Current value: feature_fraction=0.5\n",
      "[LightGBM] [Warning] min_data_in_leaf is set=450, min_child_samples=20 will be ignored. Current value: min_data_in_leaf=450\n",
      "[LightGBM] [Warning] bagging_freq is set=1, subsample_freq=0 will be ignored. Current value: bagging_freq=1\n"
     ]
    },
    {
     "name": "stderr",
     "output_type": "stream",
     "text": [
      "\u001b[32m[I 2022-02-11 10:13:55,390]\u001b[0m Trial 41 finished with value: -0.7459652793516449 and parameters: {'n_estimators': 10000, 'learning_rate': 0.4070878816662888, 'num_leaves': 2594, 'max_depth': 8, 'min_data_in_leaf': 450, 'lambda_l1': 0.018186887926473168, 'lambda_l2': 70, 'min_gain_to_split': 4.821867728611187, 'bagging_fraction': 0.8, 'bagging_freq': 1, 'feature_fraction': 0.5}. Best is trial 22 with value: -0.749546649288526.\u001b[0m\n"
     ]
    },
    {
     "name": "stdout",
     "output_type": "stream",
     "text": [
      "score -0.7506583337769639\n",
      "cancelled :5218 , not_cancelled :444782\n",
      "Memory usage of dataframe is 61.19 MB\n",
      "Memory usage after optimization is: 40.59 MB\n",
      "Decreased by 33.7%\n",
      "Features : ['first_mile_distance', 'elapse1', 'elapse2', 'last_mile_distance', 'tot_dist', 'alloted_orders', 'delivered_orders', 'del_ratio', 'undelivered_orders', 'lifetime_order_count', 'Hour', 'session_time', 'Monday', 'Saturday', 'Sunday', 'Thursday', 'Tuesday', 'Wednesday', 'dist_ratio']\n",
      "cat_features []\n",
      "(450000, 19) (450000,)\n",
      "train 360000 valid 90000\n",
      "training Light GBM:\n",
      "[LightGBM] [Warning] lambda_l1 is set=0.025056551286175087, reg_alpha=0.0 will be ignored. Current value: lambda_l1=0.025056551286175087\n",
      "[LightGBM] [Warning] bagging_fraction is set=0.8, subsample=1.0 will be ignored. Current value: bagging_fraction=0.8\n",
      "[LightGBM] [Warning] min_gain_to_split is set=4.457794558850232, min_split_gain=0.0 will be ignored. Current value: min_gain_to_split=4.457794558850232\n",
      "[LightGBM] [Warning] lambda_l2 is set=0, reg_lambda=0.0 will be ignored. Current value: lambda_l2=0\n",
      "[LightGBM] [Warning] feature_fraction is set=0.5, colsample_bytree=1.0 will be ignored. Current value: feature_fraction=0.5\n",
      "[LightGBM] [Warning] min_data_in_leaf is set=250, min_child_samples=20 will be ignored. Current value: min_data_in_leaf=250\n",
      "[LightGBM] [Warning] bagging_freq is set=1, subsample_freq=0 will be ignored. Current value: bagging_freq=1\n"
     ]
    },
    {
     "name": "stderr",
     "output_type": "stream",
     "text": [
      "\u001b[32m[I 2022-02-11 10:13:59,118]\u001b[0m Trial 42 pruned. Trial was pruned at iteration 0.\u001b[0m\n"
     ]
    },
    {
     "name": "stdout",
     "output_type": "stream",
     "text": [
      "cancelled :5218 , not_cancelled :444782\n",
      "Memory usage of dataframe is 61.19 MB\n",
      "Memory usage after optimization is: 40.59 MB\n",
      "Decreased by 33.7%\n",
      "Features : ['first_mile_distance', 'elapse1', 'elapse2', 'last_mile_distance', 'tot_dist', 'alloted_orders', 'delivered_orders', 'del_ratio', 'undelivered_orders', 'lifetime_order_count', 'Hour', 'session_time', 'Monday', 'Saturday', 'Sunday', 'Thursday', 'Tuesday', 'Wednesday', 'dist_ratio']\n",
      "cat_features []\n",
      "(450000, 19) (450000,)\n",
      "train 360000 valid 90000\n",
      "training Light GBM:\n",
      "score -0.7486700055056926\n",
      "train 360000 valid 90000\n",
      "training Light GBM:\n",
      "[LightGBM] [Warning] lambda_l1 is set=0.0011902253357034653, reg_alpha=0.0 will be ignored. Current value: lambda_l1=0.0011902253357034653\n",
      "[LightGBM] [Warning] bagging_fraction is set=0.9, subsample=1.0 will be ignored. Current value: bagging_fraction=0.9\n",
      "[LightGBM] [Warning] min_gain_to_split is set=3.3214893514774637, min_split_gain=0.0 will be ignored. Current value: min_gain_to_split=3.3214893514774637\n",
      "[LightGBM] [Warning] lambda_l2 is set=55, reg_lambda=0.0 will be ignored. Current value: lambda_l2=55\n",
      "[LightGBM] [Warning] feature_fraction is set=0.4, colsample_bytree=1.0 will be ignored. Current value: feature_fraction=0.4\n",
      "[LightGBM] [Warning] min_data_in_leaf is set=1550, min_child_samples=20 will be ignored. Current value: min_data_in_leaf=1550\n",
      "[LightGBM] [Warning] bagging_freq is set=1, subsample_freq=0 will be ignored. Current value: bagging_freq=1\n",
      "score -0.7525751747229917\n",
      "train 360000 valid 90000\n",
      "training Light GBM:\n",
      "[LightGBM] [Warning] lambda_l1 is set=0.0011902253357034653, reg_alpha=0.0 will be ignored. Current value: lambda_l1=0.0011902253357034653\n",
      "[LightGBM] [Warning] bagging_fraction is set=0.9, subsample=1.0 will be ignored. Current value: bagging_fraction=0.9\n",
      "[LightGBM] [Warning] min_gain_to_split is set=3.3214893514774637, min_split_gain=0.0 will be ignored. Current value: min_gain_to_split=3.3214893514774637\n",
      "[LightGBM] [Warning] lambda_l2 is set=55, reg_lambda=0.0 will be ignored. Current value: lambda_l2=55\n",
      "[LightGBM] [Warning] feature_fraction is set=0.4, colsample_bytree=1.0 will be ignored. Current value: feature_fraction=0.4\n",
      "[LightGBM] [Warning] min_data_in_leaf is set=1550, min_child_samples=20 will be ignored. Current value: min_data_in_leaf=1550\n",
      "[LightGBM] [Warning] bagging_freq is set=1, subsample_freq=0 will be ignored. Current value: bagging_freq=1\n",
      "score -0.7543779554195202\n",
      "train 360000 valid 90000\n",
      "training Light GBM:\n",
      "[LightGBM] [Warning] lambda_l1 is set=0.0011902253357034653, reg_alpha=0.0 will be ignored. Current value: lambda_l1=0.0011902253357034653\n",
      "[LightGBM] [Warning] bagging_fraction is set=0.9, subsample=1.0 will be ignored. Current value: bagging_fraction=0.9\n",
      "[LightGBM] [Warning] min_gain_to_split is set=3.3214893514774637, min_split_gain=0.0 will be ignored. Current value: min_gain_to_split=3.3214893514774637\n",
      "[LightGBM] [Warning] lambda_l2 is set=55, reg_lambda=0.0 will be ignored. Current value: lambda_l2=55\n",
      "[LightGBM] [Warning] feature_fraction is set=0.4, colsample_bytree=1.0 will be ignored. Current value: feature_fraction=0.4\n",
      "[LightGBM] [Warning] min_data_in_leaf is set=1550, min_child_samples=20 will be ignored. Current value: min_data_in_leaf=1550\n",
      "[LightGBM] [Warning] bagging_freq is set=1, subsample_freq=0 will be ignored. Current value: bagging_freq=1\n",
      "score -0.7580743833664204\n",
      "train 360000 valid 90000\n",
      "training Light GBM:\n",
      "[LightGBM] [Warning] lambda_l1 is set=0.0011902253357034653, reg_alpha=0.0 will be ignored. Current value: lambda_l1=0.0011902253357034653\n",
      "[LightGBM] [Warning] bagging_fraction is set=0.9, subsample=1.0 will be ignored. Current value: bagging_fraction=0.9\n",
      "[LightGBM] [Warning] min_gain_to_split is set=3.3214893514774637, min_split_gain=0.0 will be ignored. Current value: min_gain_to_split=3.3214893514774637\n",
      "[LightGBM] [Warning] lambda_l2 is set=55, reg_lambda=0.0 will be ignored. Current value: lambda_l2=55\n",
      "[LightGBM] [Warning] feature_fraction is set=0.4, colsample_bytree=1.0 will be ignored. Current value: feature_fraction=0.4\n",
      "[LightGBM] [Warning] min_data_in_leaf is set=1550, min_child_samples=20 will be ignored. Current value: min_data_in_leaf=1550\n",
      "[LightGBM] [Warning] bagging_freq is set=1, subsample_freq=0 will be ignored. Current value: bagging_freq=1\n"
     ]
    },
    {
     "name": "stderr",
     "output_type": "stream",
     "text": [
      "\u001b[32m[I 2022-02-11 10:14:13,320]\u001b[0m Trial 43 finished with value: -0.7495685788857203 and parameters: {'n_estimators': 10000, 'learning_rate': 0.35478443343077803, 'num_leaves': 2761, 'max_depth': 9, 'min_data_in_leaf': 1550, 'lambda_l1': 0.0011902253357034653, 'lambda_l2': 55, 'min_gain_to_split': 3.3214893514774637, 'bagging_fraction': 0.9, 'bagging_freq': 1, 'feature_fraction': 0.4}. Best is trial 43 with value: -0.7495685788857203.\u001b[0m\n"
     ]
    },
    {
     "name": "stdout",
     "output_type": "stream",
     "text": [
      "score -0.7341453754139762\n",
      "cancelled :5218 , not_cancelled :444782\n",
      "Memory usage of dataframe is 61.19 MB\n",
      "Memory usage after optimization is: 40.59 MB\n",
      "Decreased by 33.7%\n",
      "Features : ['first_mile_distance', 'elapse1', 'elapse2', 'last_mile_distance', 'tot_dist', 'alloted_orders', 'delivered_orders', 'del_ratio', 'undelivered_orders', 'lifetime_order_count', 'Hour', 'session_time', 'Monday', 'Saturday', 'Sunday', 'Thursday', 'Tuesday', 'Wednesday', 'dist_ratio']\n",
      "cat_features []\n",
      "(450000, 19) (450000,)\n",
      "train 360000 valid 90000\n",
      "training Light GBM:\n",
      "[LightGBM] [Warning] lambda_l1 is set=0.00013387024367316107, reg_alpha=0.0 will be ignored. Current value: lambda_l1=0.00013387024367316107\n",
      "[LightGBM] [Warning] bagging_fraction is set=0.9, subsample=1.0 will be ignored. Current value: bagging_fraction=0.9\n",
      "[LightGBM] [Warning] min_gain_to_split is set=3.419458914434173, min_split_gain=0.0 will be ignored. Current value: min_gain_to_split=3.419458914434173\n",
      "[LightGBM] [Warning] lambda_l2 is set=50, reg_lambda=0.0 will be ignored. Current value: lambda_l2=50\n",
      "[LightGBM] [Warning] feature_fraction is set=0.4, colsample_bytree=1.0 will be ignored. Current value: feature_fraction=0.4\n",
      "[LightGBM] [Warning] min_data_in_leaf is set=1400, min_child_samples=20 will be ignored. Current value: min_data_in_leaf=1400\n",
      "[LightGBM] [Warning] bagging_freq is set=1, subsample_freq=0 will be ignored. Current value: bagging_freq=1\n"
     ]
    },
    {
     "name": "stderr",
     "output_type": "stream",
     "text": [
      "\u001b[32m[I 2022-02-11 10:14:17,631]\u001b[0m Trial 44 pruned. Trial was pruned at iteration 31.\u001b[0m\n"
     ]
    },
    {
     "name": "stdout",
     "output_type": "stream",
     "text": [
      "cancelled :5218 , not_cancelled :444782\n",
      "Memory usage of dataframe is 61.19 MB\n",
      "Memory usage after optimization is: 40.59 MB\n",
      "Decreased by 33.7%\n",
      "Features : ['first_mile_distance', 'elapse1', 'elapse2', 'last_mile_distance', 'tot_dist', 'alloted_orders', 'delivered_orders', 'del_ratio', 'undelivered_orders', 'lifetime_order_count', 'Hour', 'session_time', 'Monday', 'Saturday', 'Sunday', 'Thursday', 'Tuesday', 'Wednesday', 'dist_ratio']\n",
      "cat_features []\n",
      "(450000, 19) (450000,)\n",
      "train 360000 valid 90000\n",
      "training Light GBM:\n"
     ]
    },
    {
     "name": "stderr",
     "output_type": "stream",
     "text": [
      "\u001b[32m[I 2022-02-11 10:14:21,508]\u001b[0m Trial 45 pruned. Trial was pruned at iteration 0.\u001b[0m\n"
     ]
    },
    {
     "name": "stdout",
     "output_type": "stream",
     "text": [
      "cancelled :5218 , not_cancelled :444782\n",
      "Memory usage of dataframe is 61.19 MB\n",
      "Memory usage after optimization is: 40.59 MB\n",
      "Decreased by 33.7%\n",
      "Features : ['first_mile_distance', 'elapse1', 'elapse2', 'last_mile_distance', 'tot_dist', 'alloted_orders', 'delivered_orders', 'del_ratio', 'undelivered_orders', 'lifetime_order_count', 'Hour', 'session_time', 'Monday', 'Saturday', 'Sunday', 'Thursday', 'Tuesday', 'Wednesday', 'dist_ratio']\n",
      "cat_features []\n",
      "(450000, 19) (450000,)\n",
      "train 360000 valid 90000\n",
      "training Light GBM:\n"
     ]
    },
    {
     "name": "stderr",
     "output_type": "stream",
     "text": [
      "\u001b[32m[I 2022-02-11 10:14:25,408]\u001b[0m Trial 46 pruned. Trial was pruned at iteration 0.\u001b[0m\n"
     ]
    },
    {
     "name": "stdout",
     "output_type": "stream",
     "text": [
      "cancelled :5218 , not_cancelled :444782\n",
      "Memory usage of dataframe is 61.19 MB\n",
      "Memory usage after optimization is: 40.59 MB\n",
      "Decreased by 33.7%\n",
      "Features : ['first_mile_distance', 'elapse1', 'elapse2', 'last_mile_distance', 'tot_dist', 'alloted_orders', 'delivered_orders', 'del_ratio', 'undelivered_orders', 'lifetime_order_count', 'Hour', 'session_time', 'Monday', 'Saturday', 'Sunday', 'Thursday', 'Tuesday', 'Wednesday', 'dist_ratio']\n",
      "cat_features []\n",
      "(450000, 19) (450000,)\n",
      "train 360000 valid 90000\n",
      "training Light GBM:\n"
     ]
    },
    {
     "name": "stderr",
     "output_type": "stream",
     "text": [
      "\u001b[32m[I 2022-02-11 10:14:29,312]\u001b[0m Trial 47 pruned. Trial was pruned at iteration 0.\u001b[0m\n"
     ]
    },
    {
     "name": "stdout",
     "output_type": "stream",
     "text": [
      "cancelled :5218 , not_cancelled :444782\n",
      "Memory usage of dataframe is 61.19 MB\n",
      "Memory usage after optimization is: 40.59 MB\n",
      "Decreased by 33.7%\n",
      "Features : ['first_mile_distance', 'elapse1', 'elapse2', 'last_mile_distance', 'tot_dist', 'alloted_orders', 'delivered_orders', 'del_ratio', 'undelivered_orders', 'lifetime_order_count', 'Hour', 'session_time', 'Monday', 'Saturday', 'Sunday', 'Thursday', 'Tuesday', 'Wednesday', 'dist_ratio']\n",
      "cat_features []\n",
      "(450000, 19) (450000,)\n",
      "train 360000 valid 90000\n",
      "training Light GBM:\n"
     ]
    },
    {
     "name": "stderr",
     "output_type": "stream",
     "text": [
      "\u001b[32m[I 2022-02-11 10:14:33,293]\u001b[0m Trial 48 pruned. Trial was pruned at iteration 0.\u001b[0m\n"
     ]
    },
    {
     "name": "stdout",
     "output_type": "stream",
     "text": [
      "cancelled :5218 , not_cancelled :444782\n",
      "Memory usage of dataframe is 61.19 MB\n",
      "Memory usage after optimization is: 40.59 MB\n",
      "Decreased by 33.7%\n",
      "Features : ['first_mile_distance', 'elapse1', 'elapse2', 'last_mile_distance', 'tot_dist', 'alloted_orders', 'delivered_orders', 'del_ratio', 'undelivered_orders', 'lifetime_order_count', 'Hour', 'session_time', 'Monday', 'Saturday', 'Sunday', 'Thursday', 'Tuesday', 'Wednesday', 'dist_ratio']\n",
      "cat_features []\n",
      "(450000, 19) (450000,)\n",
      "train 360000 valid 90000\n",
      "training Light GBM:\n"
     ]
    },
    {
     "name": "stderr",
     "output_type": "stream",
     "text": [
      "\u001b[32m[I 2022-02-11 10:14:37,241]\u001b[0m Trial 49 pruned. Trial was pruned at iteration 0.\u001b[0m\n"
     ]
    },
    {
     "name": "stdout",
     "output_type": "stream",
     "text": [
      "cancelled :5218 , not_cancelled :444782\n",
      "Memory usage of dataframe is 61.19 MB\n",
      "Memory usage after optimization is: 40.59 MB\n",
      "Decreased by 33.7%\n",
      "Features : ['first_mile_distance', 'elapse1', 'elapse2', 'last_mile_distance', 'tot_dist', 'alloted_orders', 'delivered_orders', 'del_ratio', 'undelivered_orders', 'lifetime_order_count', 'Hour', 'session_time', 'Monday', 'Saturday', 'Sunday', 'Thursday', 'Tuesday', 'Wednesday', 'dist_ratio']\n",
      "cat_features []\n",
      "(450000, 19) (450000,)\n",
      "train 360000 valid 90000\n",
      "training Light GBM:\n"
     ]
    },
    {
     "name": "stderr",
     "output_type": "stream",
     "text": [
      "\u001b[32m[I 2022-02-11 10:14:40,983]\u001b[0m Trial 50 pruned. Trial was pruned at iteration 0.\u001b[0m\n"
     ]
    },
    {
     "name": "stdout",
     "output_type": "stream",
     "text": [
      "cancelled :5218 , not_cancelled :444782\n",
      "Memory usage of dataframe is 61.19 MB\n",
      "Memory usage after optimization is: 40.59 MB\n",
      "Decreased by 33.7%\n",
      "Features : ['first_mile_distance', 'elapse1', 'elapse2', 'last_mile_distance', 'tot_dist', 'alloted_orders', 'delivered_orders', 'del_ratio', 'undelivered_orders', 'lifetime_order_count', 'Hour', 'session_time', 'Monday', 'Saturday', 'Sunday', 'Thursday', 'Tuesday', 'Wednesday', 'dist_ratio']\n",
      "cat_features []\n",
      "(450000, 19) (450000,)\n",
      "train 360000 valid 90000\n",
      "training Light GBM:\n"
     ]
    },
    {
     "name": "stderr",
     "output_type": "stream",
     "text": [
      "\u001b[32m[I 2022-02-11 10:14:45,377]\u001b[0m Trial 51 pruned. Trial was pruned at iteration 25.\u001b[0m\n"
     ]
    },
    {
     "name": "stdout",
     "output_type": "stream",
     "text": [
      "cancelled :5218 , not_cancelled :444782\n",
      "Memory usage of dataframe is 61.19 MB\n",
      "Memory usage after optimization is: 40.59 MB\n",
      "Decreased by 33.7%\n",
      "Features : ['first_mile_distance', 'elapse1', 'elapse2', 'last_mile_distance', 'tot_dist', 'alloted_orders', 'delivered_orders', 'del_ratio', 'undelivered_orders', 'lifetime_order_count', 'Hour', 'session_time', 'Monday', 'Saturday', 'Sunday', 'Thursday', 'Tuesday', 'Wednesday', 'dist_ratio']\n",
      "cat_features []\n",
      "(450000, 19) (450000,)\n",
      "train 360000 valid 90000\n",
      "training Light GBM:\n",
      "score -0.7561264666088632\n",
      "train 360000 valid 90000\n",
      "training Light GBM:\n",
      "[LightGBM] [Warning] lambda_l1 is set=0.0565916445213246, reg_alpha=0.0 will be ignored. Current value: lambda_l1=0.0565916445213246\n",
      "[LightGBM] [Warning] bagging_fraction is set=0.8, subsample=1.0 will be ignored. Current value: bagging_fraction=0.8\n",
      "[LightGBM] [Warning] min_gain_to_split is set=5.1356679841579105, min_split_gain=0.0 will be ignored. Current value: min_gain_to_split=5.1356679841579105\n",
      "[LightGBM] [Warning] lambda_l2 is set=70, reg_lambda=0.0 will be ignored. Current value: lambda_l2=70\n",
      "[LightGBM] [Warning] feature_fraction is set=0.5, colsample_bytree=1.0 will be ignored. Current value: feature_fraction=0.5\n",
      "[LightGBM] [Warning] min_data_in_leaf is set=200, min_child_samples=20 will be ignored. Current value: min_data_in_leaf=200\n",
      "[LightGBM] [Warning] bagging_freq is set=1, subsample_freq=0 will be ignored. Current value: bagging_freq=1\n",
      "score -0.7366636768315492\n",
      "train 360000 valid 90000\n",
      "training Light GBM:\n",
      "[LightGBM] [Warning] lambda_l1 is set=0.0565916445213246, reg_alpha=0.0 will be ignored. Current value: lambda_l1=0.0565916445213246\n",
      "[LightGBM] [Warning] bagging_fraction is set=0.8, subsample=1.0 will be ignored. Current value: bagging_fraction=0.8\n",
      "[LightGBM] [Warning] min_gain_to_split is set=5.1356679841579105, min_split_gain=0.0 will be ignored. Current value: min_gain_to_split=5.1356679841579105\n",
      "[LightGBM] [Warning] lambda_l2 is set=70, reg_lambda=0.0 will be ignored. Current value: lambda_l2=70\n",
      "[LightGBM] [Warning] feature_fraction is set=0.5, colsample_bytree=1.0 will be ignored. Current value: feature_fraction=0.5\n",
      "[LightGBM] [Warning] min_data_in_leaf is set=200, min_child_samples=20 will be ignored. Current value: min_data_in_leaf=200\n",
      "[LightGBM] [Warning] bagging_freq is set=1, subsample_freq=0 will be ignored. Current value: bagging_freq=1\n",
      "score -0.7445722821941847\n",
      "train 360000 valid 90000\n",
      "training Light GBM:\n",
      "[LightGBM] [Warning] lambda_l1 is set=0.0565916445213246, reg_alpha=0.0 will be ignored. Current value: lambda_l1=0.0565916445213246\n",
      "[LightGBM] [Warning] bagging_fraction is set=0.8, subsample=1.0 will be ignored. Current value: bagging_fraction=0.8\n",
      "[LightGBM] [Warning] min_gain_to_split is set=5.1356679841579105, min_split_gain=0.0 will be ignored. Current value: min_gain_to_split=5.1356679841579105\n",
      "[LightGBM] [Warning] lambda_l2 is set=70, reg_lambda=0.0 will be ignored. Current value: lambda_l2=70\n",
      "[LightGBM] [Warning] feature_fraction is set=0.5, colsample_bytree=1.0 will be ignored. Current value: feature_fraction=0.5\n",
      "[LightGBM] [Warning] min_data_in_leaf is set=200, min_child_samples=20 will be ignored. Current value: min_data_in_leaf=200\n",
      "[LightGBM] [Warning] bagging_freq is set=1, subsample_freq=0 will be ignored. Current value: bagging_freq=1\n",
      "score -0.7558087394017516\n",
      "train 360000 valid 90000\n",
      "training Light GBM:\n",
      "[LightGBM] [Warning] lambda_l1 is set=0.0565916445213246, reg_alpha=0.0 will be ignored. Current value: lambda_l1=0.0565916445213246\n",
      "[LightGBM] [Warning] bagging_fraction is set=0.8, subsample=1.0 will be ignored. Current value: bagging_fraction=0.8\n",
      "[LightGBM] [Warning] min_gain_to_split is set=5.1356679841579105, min_split_gain=0.0 will be ignored. Current value: min_gain_to_split=5.1356679841579105\n",
      "[LightGBM] [Warning] lambda_l2 is set=70, reg_lambda=0.0 will be ignored. Current value: lambda_l2=70\n",
      "[LightGBM] [Warning] feature_fraction is set=0.5, colsample_bytree=1.0 will be ignored. Current value: feature_fraction=0.5\n",
      "[LightGBM] [Warning] min_data_in_leaf is set=200, min_child_samples=20 will be ignored. Current value: min_data_in_leaf=200\n",
      "[LightGBM] [Warning] bagging_freq is set=1, subsample_freq=0 will be ignored. Current value: bagging_freq=1\n"
     ]
    },
    {
     "name": "stderr",
     "output_type": "stream",
     "text": [
      "\u001b[32m[I 2022-02-11 10:14:58,688]\u001b[0m Trial 52 finished with value: -0.7474185646299979 and parameters: {'n_estimators': 10000, 'learning_rate': 0.374634500723726, 'num_leaves': 2855, 'max_depth': 8, 'min_data_in_leaf': 200, 'lambda_l1': 0.0565916445213246, 'lambda_l2': 70, 'min_gain_to_split': 5.1356679841579105, 'bagging_fraction': 0.8, 'bagging_freq': 1, 'feature_fraction': 0.5}. Best is trial 43 with value: -0.7495685788857203.\u001b[0m\n"
     ]
    },
    {
     "name": "stdout",
     "output_type": "stream",
     "text": [
      "score -0.7439216581136414\n",
      "cancelled :5218 , not_cancelled :444782\n",
      "Memory usage of dataframe is 61.19 MB\n",
      "Memory usage after optimization is: 40.59 MB\n",
      "Decreased by 33.7%\n",
      "Features : ['first_mile_distance', 'elapse1', 'elapse2', 'last_mile_distance', 'tot_dist', 'alloted_orders', 'delivered_orders', 'del_ratio', 'undelivered_orders', 'lifetime_order_count', 'Hour', 'session_time', 'Monday', 'Saturday', 'Sunday', 'Thursday', 'Tuesday', 'Wednesday', 'dist_ratio']\n",
      "cat_features []\n",
      "(450000, 19) (450000,)\n",
      "train 360000 valid 90000\n",
      "training Light GBM:\n",
      "[LightGBM] [Warning] lambda_l1 is set=0.07978032174531406, reg_alpha=0.0 will be ignored. Current value: lambda_l1=0.07978032174531406\n",
      "[LightGBM] [Warning] bagging_fraction is set=0.9, subsample=1.0 will be ignored. Current value: bagging_fraction=0.9\n",
      "[LightGBM] [Warning] min_gain_to_split is set=5.286922486434888, min_split_gain=0.0 will be ignored. Current value: min_gain_to_split=5.286922486434888\n",
      "[LightGBM] [Warning] lambda_l2 is set=80, reg_lambda=0.0 will be ignored. Current value: lambda_l2=80\n",
      "[LightGBM] [Warning] feature_fraction is set=0.6000000000000001, colsample_bytree=1.0 will be ignored. Current value: feature_fraction=0.6000000000000001\n",
      "[LightGBM] [Warning] min_data_in_leaf is set=700, min_child_samples=20 will be ignored. Current value: min_data_in_leaf=700\n",
      "[LightGBM] [Warning] bagging_freq is set=1, subsample_freq=0 will be ignored. Current value: bagging_freq=1\n"
     ]
    },
    {
     "name": "stderr",
     "output_type": "stream",
     "text": [
      "\u001b[32m[I 2022-02-11 10:15:02,955]\u001b[0m Trial 53 pruned. Trial was pruned at iteration 29.\u001b[0m\n"
     ]
    },
    {
     "name": "stdout",
     "output_type": "stream",
     "text": [
      "cancelled :5218 , not_cancelled :444782\n",
      "Memory usage of dataframe is 61.19 MB\n",
      "Memory usage after optimization is: 40.59 MB\n",
      "Decreased by 33.7%\n",
      "Features : ['first_mile_distance', 'elapse1', 'elapse2', 'last_mile_distance', 'tot_dist', 'alloted_orders', 'delivered_orders', 'del_ratio', 'undelivered_orders', 'lifetime_order_count', 'Hour', 'session_time', 'Monday', 'Saturday', 'Sunday', 'Thursday', 'Tuesday', 'Wednesday', 'dist_ratio']\n",
      "cat_features []\n",
      "(450000, 19) (450000,)\n",
      "train 360000 valid 90000\n",
      "training Light GBM:\n"
     ]
    },
    {
     "name": "stderr",
     "output_type": "stream",
     "text": [
      "\u001b[32m[I 2022-02-11 10:15:06,690]\u001b[0m Trial 54 pruned. Trial was pruned at iteration 0.\u001b[0m\n"
     ]
    },
    {
     "name": "stdout",
     "output_type": "stream",
     "text": [
      "cancelled :5218 , not_cancelled :444782\n",
      "Memory usage of dataframe is 61.19 MB\n",
      "Memory usage after optimization is: 40.59 MB\n",
      "Decreased by 33.7%\n",
      "Features : ['first_mile_distance', 'elapse1', 'elapse2', 'last_mile_distance', 'tot_dist', 'alloted_orders', 'delivered_orders', 'del_ratio', 'undelivered_orders', 'lifetime_order_count', 'Hour', 'session_time', 'Monday', 'Saturday', 'Sunday', 'Thursday', 'Tuesday', 'Wednesday', 'dist_ratio']\n",
      "cat_features []\n",
      "(450000, 19) (450000,)\n",
      "train 360000 valid 90000\n",
      "training Light GBM:\n"
     ]
    },
    {
     "name": "stderr",
     "output_type": "stream",
     "text": [
      "\u001b[32m[I 2022-02-11 10:15:10,465]\u001b[0m Trial 55 pruned. Trial was pruned at iteration 0.\u001b[0m\n"
     ]
    },
    {
     "name": "stdout",
     "output_type": "stream",
     "text": [
      "cancelled :5218 , not_cancelled :444782\n",
      "Memory usage of dataframe is 61.19 MB\n",
      "Memory usage after optimization is: 40.59 MB\n",
      "Decreased by 33.7%\n",
      "Features : ['first_mile_distance', 'elapse1', 'elapse2', 'last_mile_distance', 'tot_dist', 'alloted_orders', 'delivered_orders', 'del_ratio', 'undelivered_orders', 'lifetime_order_count', 'Hour', 'session_time', 'Monday', 'Saturday', 'Sunday', 'Thursday', 'Tuesday', 'Wednesday', 'dist_ratio']\n",
      "cat_features []\n",
      "(450000, 19) (450000,)\n",
      "train 360000 valid 90000\n",
      "training Light GBM:\n"
     ]
    },
    {
     "name": "stderr",
     "output_type": "stream",
     "text": [
      "\u001b[32m[I 2022-02-11 10:15:14,398]\u001b[0m Trial 56 pruned. Trial was pruned at iteration 0.\u001b[0m\n"
     ]
    },
    {
     "name": "stdout",
     "output_type": "stream",
     "text": [
      "cancelled :5218 , not_cancelled :444782\n",
      "Memory usage of dataframe is 61.19 MB\n",
      "Memory usage after optimization is: 40.59 MB\n",
      "Decreased by 33.7%\n",
      "Features : ['first_mile_distance', 'elapse1', 'elapse2', 'last_mile_distance', 'tot_dist', 'alloted_orders', 'delivered_orders', 'del_ratio', 'undelivered_orders', 'lifetime_order_count', 'Hour', 'session_time', 'Monday', 'Saturday', 'Sunday', 'Thursday', 'Tuesday', 'Wednesday', 'dist_ratio']\n",
      "cat_features []\n",
      "(450000, 19) (450000,)\n",
      "train 360000 valid 90000\n",
      "training Light GBM:\n"
     ]
    },
    {
     "name": "stderr",
     "output_type": "stream",
     "text": [
      "\u001b[32m[I 2022-02-11 10:15:18,202]\u001b[0m Trial 57 pruned. Trial was pruned at iteration 0.\u001b[0m\n"
     ]
    },
    {
     "name": "stdout",
     "output_type": "stream",
     "text": [
      "cancelled :5218 , not_cancelled :444782\n",
      "Memory usage of dataframe is 61.19 MB\n",
      "Memory usage after optimization is: 40.59 MB\n",
      "Decreased by 33.7%\n",
      "Features : ['first_mile_distance', 'elapse1', 'elapse2', 'last_mile_distance', 'tot_dist', 'alloted_orders', 'delivered_orders', 'del_ratio', 'undelivered_orders', 'lifetime_order_count', 'Hour', 'session_time', 'Monday', 'Saturday', 'Sunday', 'Thursday', 'Tuesday', 'Wednesday', 'dist_ratio']\n",
      "cat_features []\n",
      "(450000, 19) (450000,)\n",
      "train 360000 valid 90000\n",
      "training Light GBM:\n"
     ]
    },
    {
     "name": "stderr",
     "output_type": "stream",
     "text": [
      "\u001b[32m[I 2022-02-11 10:15:22,135]\u001b[0m Trial 58 pruned. Trial was pruned at iteration 6.\u001b[0m\n"
     ]
    },
    {
     "name": "stdout",
     "output_type": "stream",
     "text": [
      "cancelled :5218 , not_cancelled :444782\n",
      "Memory usage of dataframe is 61.19 MB\n",
      "Memory usage after optimization is: 40.59 MB\n",
      "Decreased by 33.7%\n",
      "Features : ['first_mile_distance', 'elapse1', 'elapse2', 'last_mile_distance', 'tot_dist', 'alloted_orders', 'delivered_orders', 'del_ratio', 'undelivered_orders', 'lifetime_order_count', 'Hour', 'session_time', 'Monday', 'Saturday', 'Sunday', 'Thursday', 'Tuesday', 'Wednesday', 'dist_ratio']\n",
      "cat_features []\n",
      "(450000, 19) (450000,)\n",
      "train 360000 valid 90000\n",
      "training Light GBM:\n",
      "score -0.7579181905364535\n",
      "train 360000 valid 90000\n",
      "training Light GBM:\n",
      "[LightGBM] [Warning] lambda_l1 is set=0.9515871233638558, reg_alpha=0.0 will be ignored. Current value: lambda_l1=0.9515871233638558\n",
      "[LightGBM] [Warning] bagging_fraction is set=0.9, subsample=1.0 will be ignored. Current value: bagging_fraction=0.9\n",
      "[LightGBM] [Warning] min_gain_to_split is set=7.37483799416558, min_split_gain=0.0 will be ignored. Current value: min_gain_to_split=7.37483799416558\n",
      "[LightGBM] [Warning] lambda_l2 is set=30, reg_lambda=0.0 will be ignored. Current value: lambda_l2=30\n",
      "[LightGBM] [Warning] feature_fraction is set=0.7, colsample_bytree=1.0 will be ignored. Current value: feature_fraction=0.7\n",
      "[LightGBM] [Warning] min_data_in_leaf is set=2300, min_child_samples=20 will be ignored. Current value: min_data_in_leaf=2300\n",
      "[LightGBM] [Warning] bagging_freq is set=1, subsample_freq=0 will be ignored. Current value: bagging_freq=1\n",
      "score -0.742053776054405\n",
      "train 360000 valid 90000\n",
      "training Light GBM:\n",
      "[LightGBM] [Warning] lambda_l1 is set=0.9515871233638558, reg_alpha=0.0 will be ignored. Current value: lambda_l1=0.9515871233638558\n",
      "[LightGBM] [Warning] bagging_fraction is set=0.9, subsample=1.0 will be ignored. Current value: bagging_fraction=0.9\n",
      "[LightGBM] [Warning] min_gain_to_split is set=7.37483799416558, min_split_gain=0.0 will be ignored. Current value: min_gain_to_split=7.37483799416558\n",
      "[LightGBM] [Warning] lambda_l2 is set=30, reg_lambda=0.0 will be ignored. Current value: lambda_l2=30\n",
      "[LightGBM] [Warning] feature_fraction is set=0.7, colsample_bytree=1.0 will be ignored. Current value: feature_fraction=0.7\n",
      "[LightGBM] [Warning] min_data_in_leaf is set=2300, min_child_samples=20 will be ignored. Current value: min_data_in_leaf=2300\n",
      "[LightGBM] [Warning] bagging_freq is set=1, subsample_freq=0 will be ignored. Current value: bagging_freq=1\n",
      "score -0.7577803381291952\n",
      "train 360000 valid 90000\n",
      "training Light GBM:\n",
      "[LightGBM] [Warning] lambda_l1 is set=0.9515871233638558, reg_alpha=0.0 will be ignored. Current value: lambda_l1=0.9515871233638558\n",
      "[LightGBM] [Warning] bagging_fraction is set=0.9, subsample=1.0 will be ignored. Current value: bagging_fraction=0.9\n",
      "[LightGBM] [Warning] min_gain_to_split is set=7.37483799416558, min_split_gain=0.0 will be ignored. Current value: min_gain_to_split=7.37483799416558\n",
      "[LightGBM] [Warning] lambda_l2 is set=30, reg_lambda=0.0 will be ignored. Current value: lambda_l2=30\n",
      "[LightGBM] [Warning] feature_fraction is set=0.7, colsample_bytree=1.0 will be ignored. Current value: feature_fraction=0.7\n",
      "[LightGBM] [Warning] min_data_in_leaf is set=2300, min_child_samples=20 will be ignored. Current value: min_data_in_leaf=2300\n",
      "[LightGBM] [Warning] bagging_freq is set=1, subsample_freq=0 will be ignored. Current value: bagging_freq=1\n",
      "score -0.7419759665504269\n",
      "train 360000 valid 90000\n",
      "training Light GBM:\n",
      "[LightGBM] [Warning] lambda_l1 is set=0.9515871233638558, reg_alpha=0.0 will be ignored. Current value: lambda_l1=0.9515871233638558\n",
      "[LightGBM] [Warning] bagging_fraction is set=0.9, subsample=1.0 will be ignored. Current value: bagging_fraction=0.9\n",
      "[LightGBM] [Warning] min_gain_to_split is set=7.37483799416558, min_split_gain=0.0 will be ignored. Current value: min_gain_to_split=7.37483799416558\n",
      "[LightGBM] [Warning] lambda_l2 is set=30, reg_lambda=0.0 will be ignored. Current value: lambda_l2=30\n",
      "[LightGBM] [Warning] feature_fraction is set=0.7, colsample_bytree=1.0 will be ignored. Current value: feature_fraction=0.7\n",
      "[LightGBM] [Warning] min_data_in_leaf is set=2300, min_child_samples=20 will be ignored. Current value: min_data_in_leaf=2300\n",
      "[LightGBM] [Warning] bagging_freq is set=1, subsample_freq=0 will be ignored. Current value: bagging_freq=1\n"
     ]
    },
    {
     "name": "stderr",
     "output_type": "stream",
     "text": [
      "\u001b[32m[I 2022-02-11 10:15:33,413]\u001b[0m Trial 59 finished with value: -0.747319798413187 and parameters: {'n_estimators': 10000, 'learning_rate': 0.32768666412002323, 'num_leaves': 2043, 'max_depth': 5, 'min_data_in_leaf': 2300, 'lambda_l1': 0.9515871233638558, 'lambda_l2': 30, 'min_gain_to_split': 7.37483799416558, 'bagging_fraction': 0.9, 'bagging_freq': 1, 'feature_fraction': 0.7}. Best is trial 43 with value: -0.7495685788857203.\u001b[0m\n"
     ]
    },
    {
     "name": "stdout",
     "output_type": "stream",
     "text": [
      "score -0.7368707207954546\n",
      "cancelled :5218 , not_cancelled :444782\n",
      "Memory usage of dataframe is 61.19 MB\n",
      "Memory usage after optimization is: 40.59 MB\n",
      "Decreased by 33.7%\n",
      "Features : ['first_mile_distance', 'elapse1', 'elapse2', 'last_mile_distance', 'tot_dist', 'alloted_orders', 'delivered_orders', 'del_ratio', 'undelivered_orders', 'lifetime_order_count', 'Hour', 'session_time', 'Monday', 'Saturday', 'Sunday', 'Thursday', 'Tuesday', 'Wednesday', 'dist_ratio']\n",
      "cat_features []\n",
      "(450000, 19) (450000,)\n",
      "train 360000 valid 90000\n",
      "training Light GBM:\n",
      "[LightGBM] [Warning] lambda_l1 is set=9.739984998175546e-05, reg_alpha=0.0 will be ignored. Current value: lambda_l1=9.739984998175546e-05\n",
      "[LightGBM] [Warning] bagging_fraction is set=0.9, subsample=1.0 will be ignored. Current value: bagging_fraction=0.9\n",
      "[LightGBM] [Warning] min_gain_to_split is set=8.96927640739159, min_split_gain=0.0 will be ignored. Current value: min_gain_to_split=8.96927640739159\n",
      "[LightGBM] [Warning] lambda_l2 is set=30, reg_lambda=0.0 will be ignored. Current value: lambda_l2=30\n",
      "[LightGBM] [Warning] feature_fraction is set=0.5, colsample_bytree=1.0 will be ignored. Current value: feature_fraction=0.5\n",
      "[LightGBM] [Warning] min_data_in_leaf is set=2300, min_child_samples=20 will be ignored. Current value: min_data_in_leaf=2300\n",
      "[LightGBM] [Warning] bagging_freq is set=1, subsample_freq=0 will be ignored. Current value: bagging_freq=1\n",
      "score -0.7515333256285468\n",
      "train 360000 valid 90000\n",
      "training Light GBM:\n",
      "[LightGBM] [Warning] lambda_l1 is set=9.739984998175546e-05, reg_alpha=0.0 will be ignored. Current value: lambda_l1=9.739984998175546e-05\n",
      "[LightGBM] [Warning] bagging_fraction is set=0.9, subsample=1.0 will be ignored. Current value: bagging_fraction=0.9\n",
      "[LightGBM] [Warning] min_gain_to_split is set=8.96927640739159, min_split_gain=0.0 will be ignored. Current value: min_gain_to_split=8.96927640739159\n",
      "[LightGBM] [Warning] lambda_l2 is set=30, reg_lambda=0.0 will be ignored. Current value: lambda_l2=30\n",
      "[LightGBM] [Warning] feature_fraction is set=0.5, colsample_bytree=1.0 will be ignored. Current value: feature_fraction=0.5\n",
      "[LightGBM] [Warning] min_data_in_leaf is set=2300, min_child_samples=20 will be ignored. Current value: min_data_in_leaf=2300\n",
      "[LightGBM] [Warning] bagging_freq is set=1, subsample_freq=0 will be ignored. Current value: bagging_freq=1\n",
      "score -0.7452566119101939\n",
      "train 360000 valid 90000\n",
      "training Light GBM:\n",
      "[LightGBM] [Warning] lambda_l1 is set=9.739984998175546e-05, reg_alpha=0.0 will be ignored. Current value: lambda_l1=9.739984998175546e-05\n",
      "[LightGBM] [Warning] bagging_fraction is set=0.9, subsample=1.0 will be ignored. Current value: bagging_fraction=0.9\n",
      "[LightGBM] [Warning] min_gain_to_split is set=8.96927640739159, min_split_gain=0.0 will be ignored. Current value: min_gain_to_split=8.96927640739159\n",
      "[LightGBM] [Warning] lambda_l2 is set=30, reg_lambda=0.0 will be ignored. Current value: lambda_l2=30\n",
      "[LightGBM] [Warning] feature_fraction is set=0.5, colsample_bytree=1.0 will be ignored. Current value: feature_fraction=0.5\n",
      "[LightGBM] [Warning] min_data_in_leaf is set=2300, min_child_samples=20 will be ignored. Current value: min_data_in_leaf=2300\n",
      "[LightGBM] [Warning] bagging_freq is set=1, subsample_freq=0 will be ignored. Current value: bagging_freq=1\n",
      "score -0.729290646337877\n",
      "train 360000 valid 90000\n",
      "training Light GBM:\n",
      "[LightGBM] [Warning] lambda_l1 is set=9.739984998175546e-05, reg_alpha=0.0 will be ignored. Current value: lambda_l1=9.739984998175546e-05\n",
      "[LightGBM] [Warning] bagging_fraction is set=0.9, subsample=1.0 will be ignored. Current value: bagging_fraction=0.9\n",
      "[LightGBM] [Warning] min_gain_to_split is set=8.96927640739159, min_split_gain=0.0 will be ignored. Current value: min_gain_to_split=8.96927640739159\n",
      "[LightGBM] [Warning] lambda_l2 is set=30, reg_lambda=0.0 will be ignored. Current value: lambda_l2=30\n",
      "[LightGBM] [Warning] feature_fraction is set=0.5, colsample_bytree=1.0 will be ignored. Current value: feature_fraction=0.5\n",
      "[LightGBM] [Warning] min_data_in_leaf is set=2300, min_child_samples=20 will be ignored. Current value: min_data_in_leaf=2300\n",
      "[LightGBM] [Warning] bagging_freq is set=1, subsample_freq=0 will be ignored. Current value: bagging_freq=1\n",
      "score -0.7486547925712639\n",
      "train 360000 valid 90000\n",
      "training Light GBM:\n",
      "[LightGBM] [Warning] lambda_l1 is set=9.739984998175546e-05, reg_alpha=0.0 will be ignored. Current value: lambda_l1=9.739984998175546e-05\n",
      "[LightGBM] [Warning] bagging_fraction is set=0.9, subsample=1.0 will be ignored. Current value: bagging_fraction=0.9\n",
      "[LightGBM] [Warning] min_gain_to_split is set=8.96927640739159, min_split_gain=0.0 will be ignored. Current value: min_gain_to_split=8.96927640739159\n",
      "[LightGBM] [Warning] lambda_l2 is set=30, reg_lambda=0.0 will be ignored. Current value: lambda_l2=30\n",
      "[LightGBM] [Warning] feature_fraction is set=0.5, colsample_bytree=1.0 will be ignored. Current value: feature_fraction=0.5\n",
      "[LightGBM] [Warning] min_data_in_leaf is set=2300, min_child_samples=20 will be ignored. Current value: min_data_in_leaf=2300\n",
      "[LightGBM] [Warning] bagging_freq is set=1, subsample_freq=0 will be ignored. Current value: bagging_freq=1\n"
     ]
    },
    {
     "name": "stderr",
     "output_type": "stream",
     "text": [
      "\u001b[32m[I 2022-02-11 10:15:47,158]\u001b[0m Trial 60 finished with value: -0.7454250355502692 and parameters: {'n_estimators': 10000, 'learning_rate': 0.27097673272501765, 'num_leaves': 2060, 'max_depth': 5, 'min_data_in_leaf': 2300, 'lambda_l1': 9.739984998175546e-05, 'lambda_l2': 30, 'min_gain_to_split': 8.96927640739159, 'bagging_fraction': 0.9, 'bagging_freq': 1, 'feature_fraction': 0.5}. Best is trial 43 with value: -0.7495685788857203.\u001b[0m\n"
     ]
    },
    {
     "name": "stdout",
     "output_type": "stream",
     "text": [
      "score -0.7523898013034642\n",
      "cancelled :5218 , not_cancelled :444782\n",
      "Memory usage of dataframe is 61.19 MB\n",
      "Memory usage after optimization is: 40.59 MB\n",
      "Decreased by 33.7%\n",
      "Features : ['first_mile_distance', 'elapse1', 'elapse2', 'last_mile_distance', 'tot_dist', 'alloted_orders', 'delivered_orders', 'del_ratio', 'undelivered_orders', 'lifetime_order_count', 'Hour', 'session_time', 'Monday', 'Saturday', 'Sunday', 'Thursday', 'Tuesday', 'Wednesday', 'dist_ratio']\n",
      "cat_features []\n",
      "(450000, 19) (450000,)\n",
      "train 360000 valid 90000\n",
      "training Light GBM:\n",
      "[LightGBM] [Warning] lambda_l1 is set=0.8936218887395236, reg_alpha=0.0 will be ignored. Current value: lambda_l1=0.8936218887395236\n",
      "[LightGBM] [Warning] bagging_fraction is set=0.9, subsample=1.0 will be ignored. Current value: bagging_fraction=0.9\n",
      "[LightGBM] [Warning] min_gain_to_split is set=10.612302856223522, min_split_gain=0.0 will be ignored. Current value: min_gain_to_split=10.612302856223522\n",
      "[LightGBM] [Warning] lambda_l2 is set=10, reg_lambda=0.0 will be ignored. Current value: lambda_l2=10\n",
      "[LightGBM] [Warning] feature_fraction is set=0.7, colsample_bytree=1.0 will be ignored. Current value: feature_fraction=0.7\n",
      "[LightGBM] [Warning] min_data_in_leaf is set=1300, min_child_samples=20 will be ignored. Current value: min_data_in_leaf=1300\n",
      "[LightGBM] [Warning] bagging_freq is set=1, subsample_freq=0 will be ignored. Current value: bagging_freq=1\n"
     ]
    },
    {
     "name": "stderr",
     "output_type": "stream",
     "text": [
      "\u001b[32m[I 2022-02-11 10:15:51,389]\u001b[0m Trial 61 pruned. Trial was pruned at iteration 37.\u001b[0m\n"
     ]
    },
    {
     "name": "stdout",
     "output_type": "stream",
     "text": [
      "cancelled :5218 , not_cancelled :444782\n",
      "Memory usage of dataframe is 61.19 MB\n",
      "Memory usage after optimization is: 40.59 MB\n",
      "Decreased by 33.7%\n",
      "Features : ['first_mile_distance', 'elapse1', 'elapse2', 'last_mile_distance', 'tot_dist', 'alloted_orders', 'delivered_orders', 'del_ratio', 'undelivered_orders', 'lifetime_order_count', 'Hour', 'session_time', 'Monday', 'Saturday', 'Sunday', 'Thursday', 'Tuesday', 'Wednesday', 'dist_ratio']\n",
      "cat_features []\n",
      "(450000, 19) (450000,)\n",
      "train 360000 valid 90000\n",
      "training Light GBM:\n",
      "score -0.7566348618065558\n",
      "train 360000 valid 90000\n",
      "training Light GBM:\n",
      "[LightGBM] [Warning] lambda_l1 is set=2.5180554301838067, reg_alpha=0.0 will be ignored. Current value: lambda_l1=2.5180554301838067\n",
      "[LightGBM] [Warning] bagging_fraction is set=0.9, subsample=1.0 will be ignored. Current value: bagging_fraction=0.9\n",
      "[LightGBM] [Warning] min_gain_to_split is set=7.586437060334413, min_split_gain=0.0 will be ignored. Current value: min_gain_to_split=7.586437060334413\n",
      "[LightGBM] [Warning] lambda_l2 is set=25, reg_lambda=0.0 will be ignored. Current value: lambda_l2=25\n",
      "[LightGBM] [Warning] feature_fraction is set=0.7, colsample_bytree=1.0 will be ignored. Current value: feature_fraction=0.7\n",
      "[LightGBM] [Warning] min_data_in_leaf is set=550, min_child_samples=20 will be ignored. Current value: min_data_in_leaf=550\n",
      "[LightGBM] [Warning] bagging_freq is set=1, subsample_freq=0 will be ignored. Current value: bagging_freq=1\n",
      "score -0.7433374442892577\n",
      "train 360000 valid 90000\n",
      "training Light GBM:\n",
      "[LightGBM] [Warning] lambda_l1 is set=2.5180554301838067, reg_alpha=0.0 will be ignored. Current value: lambda_l1=2.5180554301838067\n",
      "[LightGBM] [Warning] bagging_fraction is set=0.9, subsample=1.0 will be ignored. Current value: bagging_fraction=0.9\n",
      "[LightGBM] [Warning] min_gain_to_split is set=7.586437060334413, min_split_gain=0.0 will be ignored. Current value: min_gain_to_split=7.586437060334413\n",
      "[LightGBM] [Warning] lambda_l2 is set=25, reg_lambda=0.0 will be ignored. Current value: lambda_l2=25\n",
      "[LightGBM] [Warning] feature_fraction is set=0.7, colsample_bytree=1.0 will be ignored. Current value: feature_fraction=0.7\n",
      "[LightGBM] [Warning] min_data_in_leaf is set=550, min_child_samples=20 will be ignored. Current value: min_data_in_leaf=550\n",
      "[LightGBM] [Warning] bagging_freq is set=1, subsample_freq=0 will be ignored. Current value: bagging_freq=1\n",
      "score -0.7391896865711215\n",
      "train 360000 valid 90000\n",
      "training Light GBM:\n",
      "[LightGBM] [Warning] lambda_l1 is set=2.5180554301838067, reg_alpha=0.0 will be ignored. Current value: lambda_l1=2.5180554301838067\n",
      "[LightGBM] [Warning] bagging_fraction is set=0.9, subsample=1.0 will be ignored. Current value: bagging_fraction=0.9\n",
      "[LightGBM] [Warning] min_gain_to_split is set=7.586437060334413, min_split_gain=0.0 will be ignored. Current value: min_gain_to_split=7.586437060334413\n",
      "[LightGBM] [Warning] lambda_l2 is set=25, reg_lambda=0.0 will be ignored. Current value: lambda_l2=25\n",
      "[LightGBM] [Warning] feature_fraction is set=0.7, colsample_bytree=1.0 will be ignored. Current value: feature_fraction=0.7\n",
      "[LightGBM] [Warning] min_data_in_leaf is set=550, min_child_samples=20 will be ignored. Current value: min_data_in_leaf=550\n",
      "[LightGBM] [Warning] bagging_freq is set=1, subsample_freq=0 will be ignored. Current value: bagging_freq=1\n",
      "score -0.7515840357340553\n",
      "train 360000 valid 90000\n",
      "training Light GBM:\n",
      "[LightGBM] [Warning] lambda_l1 is set=2.5180554301838067, reg_alpha=0.0 will be ignored. Current value: lambda_l1=2.5180554301838067\n",
      "[LightGBM] [Warning] bagging_fraction is set=0.9, subsample=1.0 will be ignored. Current value: bagging_fraction=0.9\n",
      "[LightGBM] [Warning] min_gain_to_split is set=7.586437060334413, min_split_gain=0.0 will be ignored. Current value: min_gain_to_split=7.586437060334413\n",
      "[LightGBM] [Warning] lambda_l2 is set=25, reg_lambda=0.0 will be ignored. Current value: lambda_l2=25\n",
      "[LightGBM] [Warning] feature_fraction is set=0.7, colsample_bytree=1.0 will be ignored. Current value: feature_fraction=0.7\n",
      "[LightGBM] [Warning] min_data_in_leaf is set=550, min_child_samples=20 will be ignored. Current value: min_data_in_leaf=550\n",
      "[LightGBM] [Warning] bagging_freq is set=1, subsample_freq=0 will be ignored. Current value: bagging_freq=1\n"
     ]
    },
    {
     "name": "stderr",
     "output_type": "stream",
     "text": [
      "\u001b[32m[I 2022-02-11 10:16:03,675]\u001b[0m Trial 62 finished with value: -0.7475037985660176 and parameters: {'n_estimators': 10000, 'learning_rate': 0.32786330702432015, 'num_leaves': 2746, 'max_depth': 5, 'min_data_in_leaf': 550, 'lambda_l1': 2.5180554301838067, 'lambda_l2': 25, 'min_gain_to_split': 7.586437060334413, 'bagging_fraction': 0.9, 'bagging_freq': 1, 'feature_fraction': 0.7}. Best is trial 43 with value: -0.7495685788857203.\u001b[0m\n"
     ]
    },
    {
     "name": "stdout",
     "output_type": "stream",
     "text": [
      "score -0.7467729644290975\n",
      "cancelled :5218 , not_cancelled :444782\n",
      "Memory usage of dataframe is 61.19 MB\n",
      "Memory usage after optimization is: 40.59 MB\n",
      "Decreased by 33.7%\n",
      "Features : ['first_mile_distance', 'elapse1', 'elapse2', 'last_mile_distance', 'tot_dist', 'alloted_orders', 'delivered_orders', 'del_ratio', 'undelivered_orders', 'lifetime_order_count', 'Hour', 'session_time', 'Monday', 'Saturday', 'Sunday', 'Thursday', 'Tuesday', 'Wednesday', 'dist_ratio']\n",
      "cat_features []\n",
      "(450000, 19) (450000,)\n",
      "train 360000 valid 90000\n",
      "training Light GBM:\n",
      "[LightGBM] [Warning] lambda_l1 is set=1.9650027134230101, reg_alpha=0.0 will be ignored. Current value: lambda_l1=1.9650027134230101\n",
      "[LightGBM] [Warning] bagging_fraction is set=0.9, subsample=1.0 will be ignored. Current value: bagging_fraction=0.9\n",
      "[LightGBM] [Warning] min_gain_to_split is set=7.902565610793949, min_split_gain=0.0 will be ignored. Current value: min_gain_to_split=7.902565610793949\n",
      "[LightGBM] [Warning] lambda_l2 is set=25, reg_lambda=0.0 will be ignored. Current value: lambda_l2=25\n",
      "[LightGBM] [Warning] feature_fraction is set=0.7, colsample_bytree=1.0 will be ignored. Current value: feature_fraction=0.7\n",
      "[LightGBM] [Warning] min_data_in_leaf is set=200, min_child_samples=20 will be ignored. Current value: min_data_in_leaf=200\n",
      "[LightGBM] [Warning] bagging_freq is set=1, subsample_freq=0 will be ignored. Current value: bagging_freq=1\n"
     ]
    },
    {
     "name": "stderr",
     "output_type": "stream",
     "text": [
      "\u001b[32m[I 2022-02-11 10:16:07,817]\u001b[0m Trial 63 pruned. Trial was pruned at iteration 26.\u001b[0m\n"
     ]
    },
    {
     "name": "stdout",
     "output_type": "stream",
     "text": [
      "cancelled :5218 , not_cancelled :444782\n",
      "Memory usage of dataframe is 61.19 MB\n",
      "Memory usage after optimization is: 40.59 MB\n",
      "Decreased by 33.7%\n",
      "Features : ['first_mile_distance', 'elapse1', 'elapse2', 'last_mile_distance', 'tot_dist', 'alloted_orders', 'delivered_orders', 'del_ratio', 'undelivered_orders', 'lifetime_order_count', 'Hour', 'session_time', 'Monday', 'Saturday', 'Sunday', 'Thursday', 'Tuesday', 'Wednesday', 'dist_ratio']\n",
      "cat_features []\n",
      "(450000, 19) (450000,)\n",
      "train 360000 valid 90000\n",
      "training Light GBM:\n"
     ]
    },
    {
     "name": "stderr",
     "output_type": "stream",
     "text": [
      "\u001b[32m[I 2022-02-11 10:16:11,790]\u001b[0m Trial 64 pruned. Trial was pruned at iteration 12.\u001b[0m\n"
     ]
    },
    {
     "name": "stdout",
     "output_type": "stream",
     "text": [
      "cancelled :5218 , not_cancelled :444782\n",
      "Memory usage of dataframe is 61.19 MB\n",
      "Memory usage after optimization is: 40.59 MB\n",
      "Decreased by 33.7%\n",
      "Features : ['first_mile_distance', 'elapse1', 'elapse2', 'last_mile_distance', 'tot_dist', 'alloted_orders', 'delivered_orders', 'del_ratio', 'undelivered_orders', 'lifetime_order_count', 'Hour', 'session_time', 'Monday', 'Saturday', 'Sunday', 'Thursday', 'Tuesday', 'Wednesday', 'dist_ratio']\n",
      "cat_features []\n",
      "(450000, 19) (450000,)\n",
      "train 360000 valid 90000\n",
      "training Light GBM:\n"
     ]
    },
    {
     "name": "stderr",
     "output_type": "stream",
     "text": [
      "\u001b[32m[I 2022-02-11 10:16:16,093]\u001b[0m Trial 65 pruned. Trial was pruned at iteration 36.\u001b[0m\n"
     ]
    },
    {
     "name": "stdout",
     "output_type": "stream",
     "text": [
      "cancelled :5218 , not_cancelled :444782\n",
      "Memory usage of dataframe is 61.19 MB\n",
      "Memory usage after optimization is: 40.59 MB\n",
      "Decreased by 33.7%\n",
      "Features : ['first_mile_distance', 'elapse1', 'elapse2', 'last_mile_distance', 'tot_dist', 'alloted_orders', 'delivered_orders', 'del_ratio', 'undelivered_orders', 'lifetime_order_count', 'Hour', 'session_time', 'Monday', 'Saturday', 'Sunday', 'Thursday', 'Tuesday', 'Wednesday', 'dist_ratio']\n",
      "cat_features []\n",
      "(450000, 19) (450000,)\n",
      "train 360000 valid 90000\n",
      "training Light GBM:\n",
      "score -0.7436635307150834\n",
      "train 360000 valid 90000\n",
      "training Light GBM:\n",
      "[LightGBM] [Warning] lambda_l1 is set=0.003527079702400713, reg_alpha=0.0 will be ignored. Current value: lambda_l1=0.003527079702400713\n",
      "[LightGBM] [Warning] bagging_fraction is set=0.8, subsample=1.0 will be ignored. Current value: bagging_fraction=0.8\n",
      "[LightGBM] [Warning] min_gain_to_split is set=8.74806937096882, min_split_gain=0.0 will be ignored. Current value: min_gain_to_split=8.74806937096882\n",
      "[LightGBM] [Warning] lambda_l2 is set=15, reg_lambda=0.0 will be ignored. Current value: lambda_l2=15\n",
      "[LightGBM] [Warning] feature_fraction is set=0.6000000000000001, colsample_bytree=1.0 will be ignored. Current value: feature_fraction=0.6000000000000001\n",
      "[LightGBM] [Warning] min_data_in_leaf is set=650, min_child_samples=20 will be ignored. Current value: min_data_in_leaf=650\n",
      "[LightGBM] [Warning] bagging_freq is set=1, subsample_freq=0 will be ignored. Current value: bagging_freq=1\n",
      "score -0.7477358333716577\n",
      "train 360000 valid 90000\n",
      "training Light GBM:\n",
      "[LightGBM] [Warning] lambda_l1 is set=0.003527079702400713, reg_alpha=0.0 will be ignored. Current value: lambda_l1=0.003527079702400713\n",
      "[LightGBM] [Warning] bagging_fraction is set=0.8, subsample=1.0 will be ignored. Current value: bagging_fraction=0.8\n",
      "[LightGBM] [Warning] min_gain_to_split is set=8.74806937096882, min_split_gain=0.0 will be ignored. Current value: min_gain_to_split=8.74806937096882\n",
      "[LightGBM] [Warning] lambda_l2 is set=15, reg_lambda=0.0 will be ignored. Current value: lambda_l2=15\n",
      "[LightGBM] [Warning] feature_fraction is set=0.6000000000000001, colsample_bytree=1.0 will be ignored. Current value: feature_fraction=0.6000000000000001\n",
      "[LightGBM] [Warning] min_data_in_leaf is set=650, min_child_samples=20 will be ignored. Current value: min_data_in_leaf=650\n",
      "[LightGBM] [Warning] bagging_freq is set=1, subsample_freq=0 will be ignored. Current value: bagging_freq=1\n",
      "score -0.7540501425733915\n",
      "train 360000 valid 90000\n",
      "training Light GBM:\n",
      "[LightGBM] [Warning] lambda_l1 is set=0.003527079702400713, reg_alpha=0.0 will be ignored. Current value: lambda_l1=0.003527079702400713\n",
      "[LightGBM] [Warning] bagging_fraction is set=0.8, subsample=1.0 will be ignored. Current value: bagging_fraction=0.8\n",
      "[LightGBM] [Warning] min_gain_to_split is set=8.74806937096882, min_split_gain=0.0 will be ignored. Current value: min_gain_to_split=8.74806937096882\n",
      "[LightGBM] [Warning] lambda_l2 is set=15, reg_lambda=0.0 will be ignored. Current value: lambda_l2=15\n",
      "[LightGBM] [Warning] feature_fraction is set=0.6000000000000001, colsample_bytree=1.0 will be ignored. Current value: feature_fraction=0.6000000000000001\n",
      "[LightGBM] [Warning] min_data_in_leaf is set=650, min_child_samples=20 will be ignored. Current value: min_data_in_leaf=650\n",
      "[LightGBM] [Warning] bagging_freq is set=1, subsample_freq=0 will be ignored. Current value: bagging_freq=1\n",
      "score -0.757640917529679\n",
      "train 360000 valid 90000\n",
      "training Light GBM:\n",
      "[LightGBM] [Warning] lambda_l1 is set=0.003527079702400713, reg_alpha=0.0 will be ignored. Current value: lambda_l1=0.003527079702400713\n",
      "[LightGBM] [Warning] bagging_fraction is set=0.8, subsample=1.0 will be ignored. Current value: bagging_fraction=0.8\n",
      "[LightGBM] [Warning] min_gain_to_split is set=8.74806937096882, min_split_gain=0.0 will be ignored. Current value: min_gain_to_split=8.74806937096882\n",
      "[LightGBM] [Warning] lambda_l2 is set=15, reg_lambda=0.0 will be ignored. Current value: lambda_l2=15\n",
      "[LightGBM] [Warning] feature_fraction is set=0.6000000000000001, colsample_bytree=1.0 will be ignored. Current value: feature_fraction=0.6000000000000001\n",
      "[LightGBM] [Warning] min_data_in_leaf is set=650, min_child_samples=20 will be ignored. Current value: min_data_in_leaf=650\n",
      "[LightGBM] [Warning] bagging_freq is set=1, subsample_freq=0 will be ignored. Current value: bagging_freq=1\n"
     ]
    },
    {
     "name": "stderr",
     "output_type": "stream",
     "text": [
      "\u001b[32m[I 2022-02-11 10:16:29,135]\u001b[0m Trial 66 finished with value: -0.7488540793776022 and parameters: {'n_estimators': 10000, 'learning_rate': 0.25217091067346253, 'num_leaves': 1739, 'max_depth': 8, 'min_data_in_leaf': 650, 'lambda_l1': 0.003527079702400713, 'lambda_l2': 15, 'min_gain_to_split': 8.74806937096882, 'bagging_fraction': 0.8, 'bagging_freq': 1, 'feature_fraction': 0.6000000000000001}. Best is trial 43 with value: -0.7495685788857203.\u001b[0m\n"
     ]
    },
    {
     "name": "stdout",
     "output_type": "stream",
     "text": [
      "score -0.7411799726981991\n",
      "cancelled :5218 , not_cancelled :444782\n",
      "Memory usage of dataframe is 61.19 MB\n",
      "Memory usage after optimization is: 40.59 MB\n",
      "Decreased by 33.7%\n",
      "Features : ['first_mile_distance', 'elapse1', 'elapse2', 'last_mile_distance', 'tot_dist', 'alloted_orders', 'delivered_orders', 'del_ratio', 'undelivered_orders', 'lifetime_order_count', 'Hour', 'session_time', 'Monday', 'Saturday', 'Sunday', 'Thursday', 'Tuesday', 'Wednesday', 'dist_ratio']\n",
      "cat_features []\n",
      "(450000, 19) (450000,)\n",
      "train 360000 valid 90000\n",
      "training Light GBM:\n",
      "[LightGBM] [Warning] lambda_l1 is set=0.00496043704594247, reg_alpha=0.0 will be ignored. Current value: lambda_l1=0.00496043704594247\n",
      "[LightGBM] [Warning] bagging_fraction is set=0.8, subsample=1.0 will be ignored. Current value: bagging_fraction=0.8\n",
      "[LightGBM] [Warning] min_gain_to_split is set=8.56852111775244, min_split_gain=0.0 will be ignored. Current value: min_gain_to_split=8.56852111775244\n",
      "[LightGBM] [Warning] lambda_l2 is set=5, reg_lambda=0.0 will be ignored. Current value: lambda_l2=5\n",
      "[LightGBM] [Warning] feature_fraction is set=0.6000000000000001, colsample_bytree=1.0 will be ignored. Current value: feature_fraction=0.6000000000000001\n",
      "[LightGBM] [Warning] min_data_in_leaf is set=600, min_child_samples=20 will be ignored. Current value: min_data_in_leaf=600\n",
      "[LightGBM] [Warning] bagging_freq is set=1, subsample_freq=0 will be ignored. Current value: bagging_freq=1\n"
     ]
    },
    {
     "name": "stderr",
     "output_type": "stream",
     "text": [
      "\u001b[32m[I 2022-02-11 10:16:33,167]\u001b[0m Trial 67 pruned. Trial was pruned at iteration 14.\u001b[0m\n"
     ]
    },
    {
     "name": "stdout",
     "output_type": "stream",
     "text": [
      "cancelled :5218 , not_cancelled :444782\n",
      "Memory usage of dataframe is 61.19 MB\n",
      "Memory usage after optimization is: 40.59 MB\n",
      "Decreased by 33.7%\n",
      "Features : ['first_mile_distance', 'elapse1', 'elapse2', 'last_mile_distance', 'tot_dist', 'alloted_orders', 'delivered_orders', 'del_ratio', 'undelivered_orders', 'lifetime_order_count', 'Hour', 'session_time', 'Monday', 'Saturday', 'Sunday', 'Thursday', 'Tuesday', 'Wednesday', 'dist_ratio']\n",
      "cat_features []\n",
      "(450000, 19) (450000,)\n",
      "train 360000 valid 90000\n",
      "training Light GBM:\n"
     ]
    },
    {
     "name": "stderr",
     "output_type": "stream",
     "text": [
      "\u001b[32m[I 2022-02-11 10:16:36,982]\u001b[0m Trial 68 pruned. Trial was pruned at iteration 0.\u001b[0m\n"
     ]
    },
    {
     "name": "stdout",
     "output_type": "stream",
     "text": [
      "cancelled :5218 , not_cancelled :444782\n",
      "Memory usage of dataframe is 61.19 MB\n",
      "Memory usage after optimization is: 40.59 MB\n",
      "Decreased by 33.7%\n",
      "Features : ['first_mile_distance', 'elapse1', 'elapse2', 'last_mile_distance', 'tot_dist', 'alloted_orders', 'delivered_orders', 'del_ratio', 'undelivered_orders', 'lifetime_order_count', 'Hour', 'session_time', 'Monday', 'Saturday', 'Sunday', 'Thursday', 'Tuesday', 'Wednesday', 'dist_ratio']\n",
      "cat_features []\n",
      "(450000, 19) (450000,)\n",
      "train 360000 valid 90000\n",
      "training Light GBM:\n",
      "score -0.7450316548492177\n",
      "train 360000 valid 90000\n",
      "training Light GBM:\n",
      "[LightGBM] [Warning] lambda_l1 is set=0.010733478549043428, reg_alpha=0.0 will be ignored. Current value: lambda_l1=0.010733478549043428\n",
      "[LightGBM] [Warning] bagging_fraction is set=0.8, subsample=1.0 will be ignored. Current value: bagging_fraction=0.8\n",
      "[LightGBM] [Warning] min_gain_to_split is set=11.071945184639057, min_split_gain=0.0 will be ignored. Current value: min_gain_to_split=11.071945184639057\n",
      "[LightGBM] [Warning] lambda_l2 is set=15, reg_lambda=0.0 will be ignored. Current value: lambda_l2=15\n",
      "[LightGBM] [Warning] feature_fraction is set=0.6000000000000001, colsample_bytree=1.0 will be ignored. Current value: feature_fraction=0.6000000000000001\n",
      "[LightGBM] [Warning] min_data_in_leaf is set=1500, min_child_samples=20 will be ignored. Current value: min_data_in_leaf=1500\n",
      "[LightGBM] [Warning] bagging_freq is set=1, subsample_freq=0 will be ignored. Current value: bagging_freq=1\n",
      "score -0.7631901420349696\n",
      "train 360000 valid 90000\n",
      "training Light GBM:\n",
      "[LightGBM] [Warning] lambda_l1 is set=0.010733478549043428, reg_alpha=0.0 will be ignored. Current value: lambda_l1=0.010733478549043428\n",
      "[LightGBM] [Warning] bagging_fraction is set=0.8, subsample=1.0 will be ignored. Current value: bagging_fraction=0.8\n",
      "[LightGBM] [Warning] min_gain_to_split is set=11.071945184639057, min_split_gain=0.0 will be ignored. Current value: min_gain_to_split=11.071945184639057\n",
      "[LightGBM] [Warning] lambda_l2 is set=15, reg_lambda=0.0 will be ignored. Current value: lambda_l2=15\n",
      "[LightGBM] [Warning] feature_fraction is set=0.6000000000000001, colsample_bytree=1.0 will be ignored. Current value: feature_fraction=0.6000000000000001\n",
      "[LightGBM] [Warning] min_data_in_leaf is set=1500, min_child_samples=20 will be ignored. Current value: min_data_in_leaf=1500\n",
      "[LightGBM] [Warning] bagging_freq is set=1, subsample_freq=0 will be ignored. Current value: bagging_freq=1\n",
      "score -0.7446968756261436\n",
      "train 360000 valid 90000\n",
      "training Light GBM:\n",
      "[LightGBM] [Warning] lambda_l1 is set=0.010733478549043428, reg_alpha=0.0 will be ignored. Current value: lambda_l1=0.010733478549043428\n",
      "[LightGBM] [Warning] bagging_fraction is set=0.8, subsample=1.0 will be ignored. Current value: bagging_fraction=0.8\n",
      "[LightGBM] [Warning] min_gain_to_split is set=11.071945184639057, min_split_gain=0.0 will be ignored. Current value: min_gain_to_split=11.071945184639057\n",
      "[LightGBM] [Warning] lambda_l2 is set=15, reg_lambda=0.0 will be ignored. Current value: lambda_l2=15\n",
      "[LightGBM] [Warning] feature_fraction is set=0.6000000000000001, colsample_bytree=1.0 will be ignored. Current value: feature_fraction=0.6000000000000001\n",
      "[LightGBM] [Warning] min_data_in_leaf is set=1500, min_child_samples=20 will be ignored. Current value: min_data_in_leaf=1500\n",
      "[LightGBM] [Warning] bagging_freq is set=1, subsample_freq=0 will be ignored. Current value: bagging_freq=1\n",
      "score -0.7396907791513959\n",
      "train 360000 valid 90000\n",
      "training Light GBM:\n",
      "[LightGBM] [Warning] lambda_l1 is set=0.010733478549043428, reg_alpha=0.0 will be ignored. Current value: lambda_l1=0.010733478549043428\n",
      "[LightGBM] [Warning] bagging_fraction is set=0.8, subsample=1.0 will be ignored. Current value: bagging_fraction=0.8\n",
      "[LightGBM] [Warning] min_gain_to_split is set=11.071945184639057, min_split_gain=0.0 will be ignored. Current value: min_gain_to_split=11.071945184639057\n",
      "[LightGBM] [Warning] lambda_l2 is set=15, reg_lambda=0.0 will be ignored. Current value: lambda_l2=15\n",
      "[LightGBM] [Warning] feature_fraction is set=0.6000000000000001, colsample_bytree=1.0 will be ignored. Current value: feature_fraction=0.6000000000000001\n",
      "[LightGBM] [Warning] min_data_in_leaf is set=1500, min_child_samples=20 will be ignored. Current value: min_data_in_leaf=1500\n",
      "[LightGBM] [Warning] bagging_freq is set=1, subsample_freq=0 will be ignored. Current value: bagging_freq=1\n"
     ]
    },
    {
     "name": "stderr",
     "output_type": "stream",
     "text": [
      "\u001b[32m[I 2022-02-11 10:16:49,075]\u001b[0m Trial 69 finished with value: -0.7443448920264112 and parameters: {'n_estimators': 10000, 'learning_rate': 0.23742794980456883, 'num_leaves': 2803, 'max_depth': 9, 'min_data_in_leaf': 1500, 'lambda_l1': 0.010733478549043428, 'lambda_l2': 15, 'min_gain_to_split': 11.071945184639057, 'bagging_fraction': 0.8, 'bagging_freq': 1, 'feature_fraction': 0.6000000000000001}. Best is trial 43 with value: -0.7495685788857203.\u001b[0m\n"
     ]
    },
    {
     "name": "stdout",
     "output_type": "stream",
     "text": [
      "score -0.7291150084703291\n",
      "cancelled :5218 , not_cancelled :444782\n",
      "Memory usage of dataframe is 61.19 MB\n",
      "Memory usage after optimization is: 40.59 MB\n",
      "Decreased by 33.7%\n",
      "Features : ['first_mile_distance', 'elapse1', 'elapse2', 'last_mile_distance', 'tot_dist', 'alloted_orders', 'delivered_orders', 'del_ratio', 'undelivered_orders', 'lifetime_order_count', 'Hour', 'session_time', 'Monday', 'Saturday', 'Sunday', 'Thursday', 'Tuesday', 'Wednesday', 'dist_ratio']\n",
      "cat_features []\n",
      "(450000, 19) (450000,)\n",
      "train 360000 valid 90000\n",
      "training Light GBM:\n",
      "[LightGBM] [Warning] lambda_l1 is set=0.0001920423638658969, reg_alpha=0.0 will be ignored. Current value: lambda_l1=0.0001920423638658969\n",
      "[LightGBM] [Warning] bagging_fraction is set=0.8, subsample=1.0 will be ignored. Current value: bagging_fraction=0.8\n",
      "[LightGBM] [Warning] min_gain_to_split is set=9.839504370177577, min_split_gain=0.0 will be ignored. Current value: min_gain_to_split=9.839504370177577\n",
      "[LightGBM] [Warning] lambda_l2 is set=10, reg_lambda=0.0 will be ignored. Current value: lambda_l2=10\n",
      "[LightGBM] [Warning] feature_fraction is set=0.6000000000000001, colsample_bytree=1.0 will be ignored. Current value: feature_fraction=0.6000000000000001\n",
      "[LightGBM] [Warning] min_data_in_leaf is set=1150, min_child_samples=20 will be ignored. Current value: min_data_in_leaf=1150\n",
      "[LightGBM] [Warning] bagging_freq is set=1, subsample_freq=0 will be ignored. Current value: bagging_freq=1\n"
     ]
    },
    {
     "name": "stderr",
     "output_type": "stream",
     "text": [
      "\u001b[32m[I 2022-02-11 10:16:53,055]\u001b[0m Trial 70 pruned. Trial was pruned at iteration 11.\u001b[0m\n"
     ]
    },
    {
     "name": "stdout",
     "output_type": "stream",
     "text": [
      "cancelled :5218 , not_cancelled :444782\n",
      "Memory usage of dataframe is 61.19 MB\n",
      "Memory usage after optimization is: 40.59 MB\n",
      "Decreased by 33.7%\n",
      "Features : ['first_mile_distance', 'elapse1', 'elapse2', 'last_mile_distance', 'tot_dist', 'alloted_orders', 'delivered_orders', 'del_ratio', 'undelivered_orders', 'lifetime_order_count', 'Hour', 'session_time', 'Monday', 'Saturday', 'Sunday', 'Thursday', 'Tuesday', 'Wednesday', 'dist_ratio']\n",
      "cat_features []\n",
      "(450000, 19) (450000,)\n",
      "train 360000 valid 90000\n",
      "training Light GBM:\n"
     ]
    },
    {
     "name": "stderr",
     "output_type": "stream",
     "text": [
      "\u001b[32m[I 2022-02-11 10:16:57,379]\u001b[0m Trial 71 pruned. Trial was pruned at iteration 35.\u001b[0m\n"
     ]
    },
    {
     "name": "stdout",
     "output_type": "stream",
     "text": [
      "cancelled :5218 , not_cancelled :444782\n",
      "Memory usage of dataframe is 61.19 MB\n",
      "Memory usage after optimization is: 40.59 MB\n",
      "Decreased by 33.7%\n",
      "Features : ['first_mile_distance', 'elapse1', 'elapse2', 'last_mile_distance', 'tot_dist', 'alloted_orders', 'delivered_orders', 'del_ratio', 'undelivered_orders', 'lifetime_order_count', 'Hour', 'session_time', 'Monday', 'Saturday', 'Sunday', 'Thursday', 'Tuesday', 'Wednesday', 'dist_ratio']\n",
      "cat_features []\n",
      "(450000, 19) (450000,)\n",
      "train 360000 valid 90000\n",
      "training Light GBM:\n",
      "score -0.746430064980925\n",
      "train 360000 valid 90000\n",
      "training Light GBM:\n",
      "[LightGBM] [Warning] lambda_l1 is set=0.22576818814669308, reg_alpha=0.0 will be ignored. Current value: lambda_l1=0.22576818814669308\n",
      "[LightGBM] [Warning] bagging_fraction is set=0.9, subsample=1.0 will be ignored. Current value: bagging_fraction=0.9\n",
      "[LightGBM] [Warning] min_gain_to_split is set=8.401762937743962, min_split_gain=0.0 will be ignored. Current value: min_gain_to_split=8.401762937743962\n",
      "[LightGBM] [Warning] lambda_l2 is set=20, reg_lambda=0.0 will be ignored. Current value: lambda_l2=20\n",
      "[LightGBM] [Warning] feature_fraction is set=0.7, colsample_bytree=1.0 will be ignored. Current value: feature_fraction=0.7\n",
      "[LightGBM] [Warning] min_data_in_leaf is set=200, min_child_samples=20 will be ignored. Current value: min_data_in_leaf=200\n",
      "[LightGBM] [Warning] bagging_freq is set=1, subsample_freq=0 will be ignored. Current value: bagging_freq=1\n",
      "score -0.7507951232990924\n",
      "train 360000 valid 90000\n",
      "training Light GBM:\n",
      "[LightGBM] [Warning] lambda_l1 is set=0.22576818814669308, reg_alpha=0.0 will be ignored. Current value: lambda_l1=0.22576818814669308\n",
      "[LightGBM] [Warning] bagging_fraction is set=0.9, subsample=1.0 will be ignored. Current value: bagging_fraction=0.9\n",
      "[LightGBM] [Warning] min_gain_to_split is set=8.401762937743962, min_split_gain=0.0 will be ignored. Current value: min_gain_to_split=8.401762937743962\n",
      "[LightGBM] [Warning] lambda_l2 is set=20, reg_lambda=0.0 will be ignored. Current value: lambda_l2=20\n",
      "[LightGBM] [Warning] feature_fraction is set=0.7, colsample_bytree=1.0 will be ignored. Current value: feature_fraction=0.7\n",
      "[LightGBM] [Warning] min_data_in_leaf is set=200, min_child_samples=20 will be ignored. Current value: min_data_in_leaf=200\n",
      "[LightGBM] [Warning] bagging_freq is set=1, subsample_freq=0 will be ignored. Current value: bagging_freq=1\n",
      "score -0.7456137911135714\n",
      "train 360000 valid 90000\n",
      "training Light GBM:\n",
      "[LightGBM] [Warning] lambda_l1 is set=0.22576818814669308, reg_alpha=0.0 will be ignored. Current value: lambda_l1=0.22576818814669308\n",
      "[LightGBM] [Warning] bagging_fraction is set=0.9, subsample=1.0 will be ignored. Current value: bagging_fraction=0.9\n",
      "[LightGBM] [Warning] min_gain_to_split is set=8.401762937743962, min_split_gain=0.0 will be ignored. Current value: min_gain_to_split=8.401762937743962\n",
      "[LightGBM] [Warning] lambda_l2 is set=20, reg_lambda=0.0 will be ignored. Current value: lambda_l2=20\n",
      "[LightGBM] [Warning] feature_fraction is set=0.7, colsample_bytree=1.0 will be ignored. Current value: feature_fraction=0.7\n",
      "[LightGBM] [Warning] min_data_in_leaf is set=200, min_child_samples=20 will be ignored. Current value: min_data_in_leaf=200\n",
      "[LightGBM] [Warning] bagging_freq is set=1, subsample_freq=0 will be ignored. Current value: bagging_freq=1\n",
      "score -0.7431884778285498\n",
      "train 360000 valid 90000\n",
      "training Light GBM:\n",
      "[LightGBM] [Warning] lambda_l1 is set=0.22576818814669308, reg_alpha=0.0 will be ignored. Current value: lambda_l1=0.22576818814669308\n",
      "[LightGBM] [Warning] bagging_fraction is set=0.9, subsample=1.0 will be ignored. Current value: bagging_fraction=0.9\n",
      "[LightGBM] [Warning] min_gain_to_split is set=8.401762937743962, min_split_gain=0.0 will be ignored. Current value: min_gain_to_split=8.401762937743962\n",
      "[LightGBM] [Warning] lambda_l2 is set=20, reg_lambda=0.0 will be ignored. Current value: lambda_l2=20\n",
      "[LightGBM] [Warning] feature_fraction is set=0.7, colsample_bytree=1.0 will be ignored. Current value: feature_fraction=0.7\n",
      "[LightGBM] [Warning] min_data_in_leaf is set=200, min_child_samples=20 will be ignored. Current value: min_data_in_leaf=200\n",
      "[LightGBM] [Warning] bagging_freq is set=1, subsample_freq=0 will be ignored. Current value: bagging_freq=1\n"
     ]
    },
    {
     "name": "stderr",
     "output_type": "stream",
     "text": [
      "\u001b[32m[I 2022-02-11 10:17:09,702]\u001b[0m Trial 72 finished with value: -0.7467281072574199 and parameters: {'n_estimators': 10000, 'learning_rate': 0.27118915970011337, 'num_leaves': 1638, 'max_depth': 8, 'min_data_in_leaf': 200, 'lambda_l1': 0.22576818814669308, 'lambda_l2': 20, 'min_gain_to_split': 8.401762937743962, 'bagging_fraction': 0.9, 'bagging_freq': 1, 'feature_fraction': 0.7}. Best is trial 43 with value: -0.7495685788857203.\u001b[0m\n"
     ]
    },
    {
     "name": "stdout",
     "output_type": "stream",
     "text": [
      "score -0.747613079064961\n",
      "cancelled :5218 , not_cancelled :444782\n",
      "Memory usage of dataframe is 61.19 MB\n",
      "Memory usage after optimization is: 40.59 MB\n",
      "Decreased by 33.7%\n",
      "Features : ['first_mile_distance', 'elapse1', 'elapse2', 'last_mile_distance', 'tot_dist', 'alloted_orders', 'delivered_orders', 'del_ratio', 'undelivered_orders', 'lifetime_order_count', 'Hour', 'session_time', 'Monday', 'Saturday', 'Sunday', 'Thursday', 'Tuesday', 'Wednesday', 'dist_ratio']\n",
      "cat_features []\n",
      "(450000, 19) (450000,)\n",
      "train 360000 valid 90000\n",
      "training Light GBM:\n",
      "[LightGBM] [Warning] lambda_l1 is set=0.8012444722910134, reg_alpha=0.0 will be ignored. Current value: lambda_l1=0.8012444722910134\n",
      "[LightGBM] [Warning] bagging_fraction is set=0.9, subsample=1.0 will be ignored. Current value: bagging_fraction=0.9\n",
      "[LightGBM] [Warning] min_gain_to_split is set=9.9663443417464, min_split_gain=0.0 will be ignored. Current value: min_gain_to_split=9.9663443417464\n",
      "[LightGBM] [Warning] lambda_l2 is set=25, reg_lambda=0.0 will be ignored. Current value: lambda_l2=25\n",
      "[LightGBM] [Warning] feature_fraction is set=0.8, colsample_bytree=1.0 will be ignored. Current value: feature_fraction=0.8\n",
      "[LightGBM] [Warning] min_data_in_leaf is set=2900, min_child_samples=20 will be ignored. Current value: min_data_in_leaf=2900\n",
      "[LightGBM] [Warning] bagging_freq is set=1, subsample_freq=0 will be ignored. Current value: bagging_freq=1\n"
     ]
    },
    {
     "name": "stderr",
     "output_type": "stream",
     "text": [
      "\u001b[32m[I 2022-02-11 10:17:14,518]\u001b[0m Trial 73 pruned. Trial was pruned at iteration 3.\u001b[0m\n"
     ]
    },
    {
     "name": "stdout",
     "output_type": "stream",
     "text": [
      "cancelled :5218 , not_cancelled :444782\n",
      "Memory usage of dataframe is 61.19 MB\n",
      "Memory usage after optimization is: 40.59 MB\n",
      "Decreased by 33.7%\n",
      "Features : ['first_mile_distance', 'elapse1', 'elapse2', 'last_mile_distance', 'tot_dist', 'alloted_orders', 'delivered_orders', 'del_ratio', 'undelivered_orders', 'lifetime_order_count', 'Hour', 'session_time', 'Monday', 'Saturday', 'Sunday', 'Thursday', 'Tuesday', 'Wednesday', 'dist_ratio']\n",
      "cat_features []\n",
      "(450000, 19) (450000,)\n",
      "train 360000 valid 90000\n",
      "training Light GBM:\n",
      "score -0.7594120608391587\n",
      "train 360000 valid 90000\n",
      "training Light GBM:\n",
      "[LightGBM] [Warning] lambda_l1 is set=0.011308842591637535, reg_alpha=0.0 will be ignored. Current value: lambda_l1=0.011308842591637535\n",
      "[LightGBM] [Warning] bagging_fraction is set=0.8, subsample=1.0 will be ignored. Current value: bagging_fraction=0.8\n",
      "[LightGBM] [Warning] min_gain_to_split is set=8.992383084300583, min_split_gain=0.0 will be ignored. Current value: min_gain_to_split=8.992383084300583\n",
      "[LightGBM] [Warning] lambda_l2 is set=70, reg_lambda=0.0 will be ignored. Current value: lambda_l2=70\n",
      "[LightGBM] [Warning] feature_fraction is set=0.7, colsample_bytree=1.0 will be ignored. Current value: feature_fraction=0.7\n",
      "[LightGBM] [Warning] min_data_in_leaf is set=2100, min_child_samples=20 will be ignored. Current value: min_data_in_leaf=2100\n",
      "[LightGBM] [Warning] bagging_freq is set=1, subsample_freq=0 will be ignored. Current value: bagging_freq=1\n",
      "score -0.7416073917061914\n",
      "train 360000 valid 90000\n",
      "training Light GBM:\n",
      "[LightGBM] [Warning] lambda_l1 is set=0.011308842591637535, reg_alpha=0.0 will be ignored. Current value: lambda_l1=0.011308842591637535\n",
      "[LightGBM] [Warning] bagging_fraction is set=0.8, subsample=1.0 will be ignored. Current value: bagging_fraction=0.8\n",
      "[LightGBM] [Warning] min_gain_to_split is set=8.992383084300583, min_split_gain=0.0 will be ignored. Current value: min_gain_to_split=8.992383084300583\n",
      "[LightGBM] [Warning] lambda_l2 is set=70, reg_lambda=0.0 will be ignored. Current value: lambda_l2=70\n",
      "[LightGBM] [Warning] feature_fraction is set=0.7, colsample_bytree=1.0 will be ignored. Current value: feature_fraction=0.7\n",
      "[LightGBM] [Warning] min_data_in_leaf is set=2100, min_child_samples=20 will be ignored. Current value: min_data_in_leaf=2100\n",
      "[LightGBM] [Warning] bagging_freq is set=1, subsample_freq=0 will be ignored. Current value: bagging_freq=1\n",
      "score -0.728325103770791\n",
      "train 360000 valid 90000\n",
      "training Light GBM:\n",
      "[LightGBM] [Warning] lambda_l1 is set=0.011308842591637535, reg_alpha=0.0 will be ignored. Current value: lambda_l1=0.011308842591637535\n",
      "[LightGBM] [Warning] bagging_fraction is set=0.8, subsample=1.0 will be ignored. Current value: bagging_fraction=0.8\n",
      "[LightGBM] [Warning] min_gain_to_split is set=8.992383084300583, min_split_gain=0.0 will be ignored. Current value: min_gain_to_split=8.992383084300583\n",
      "[LightGBM] [Warning] lambda_l2 is set=70, reg_lambda=0.0 will be ignored. Current value: lambda_l2=70\n",
      "[LightGBM] [Warning] feature_fraction is set=0.7, colsample_bytree=1.0 will be ignored. Current value: feature_fraction=0.7\n",
      "[LightGBM] [Warning] min_data_in_leaf is set=2100, min_child_samples=20 will be ignored. Current value: min_data_in_leaf=2100\n",
      "[LightGBM] [Warning] bagging_freq is set=1, subsample_freq=0 will be ignored. Current value: bagging_freq=1\n",
      "score -0.7506590875182341\n",
      "train 360000 valid 90000\n",
      "training Light GBM:\n",
      "[LightGBM] [Warning] lambda_l1 is set=0.011308842591637535, reg_alpha=0.0 will be ignored. Current value: lambda_l1=0.011308842591637535\n",
      "[LightGBM] [Warning] bagging_fraction is set=0.8, subsample=1.0 will be ignored. Current value: bagging_fraction=0.8\n",
      "[LightGBM] [Warning] min_gain_to_split is set=8.992383084300583, min_split_gain=0.0 will be ignored. Current value: min_gain_to_split=8.992383084300583\n",
      "[LightGBM] [Warning] lambda_l2 is set=70, reg_lambda=0.0 will be ignored. Current value: lambda_l2=70\n",
      "[LightGBM] [Warning] feature_fraction is set=0.7, colsample_bytree=1.0 will be ignored. Current value: feature_fraction=0.7\n",
      "[LightGBM] [Warning] min_data_in_leaf is set=2100, min_child_samples=20 will be ignored. Current value: min_data_in_leaf=2100\n",
      "[LightGBM] [Warning] bagging_freq is set=1, subsample_freq=0 will be ignored. Current value: bagging_freq=1\n"
     ]
    },
    {
     "name": "stderr",
     "output_type": "stream",
     "text": [
      "\u001b[32m[I 2022-02-11 10:17:28,113]\u001b[0m Trial 74 finished with value: -0.7439333629039636 and parameters: {'n_estimators': 10000, 'learning_rate': 0.3542911097888193, 'num_leaves': 2142, 'max_depth': 7, 'min_data_in_leaf': 2100, 'lambda_l1': 0.011308842591637535, 'lambda_l2': 70, 'min_gain_to_split': 8.992383084300583, 'bagging_fraction': 0.8, 'bagging_freq': 1, 'feature_fraction': 0.7}. Best is trial 43 with value: -0.7495685788857203.\u001b[0m\n"
     ]
    },
    {
     "name": "stdout",
     "output_type": "stream",
     "text": [
      "score -0.7396631706854429\n",
      "cancelled :5218 , not_cancelled :444782\n",
      "Memory usage of dataframe is 61.19 MB\n",
      "Memory usage after optimization is: 40.59 MB\n",
      "Decreased by 33.7%\n",
      "Features : ['first_mile_distance', 'elapse1', 'elapse2', 'last_mile_distance', 'tot_dist', 'alloted_orders', 'delivered_orders', 'del_ratio', 'undelivered_orders', 'lifetime_order_count', 'Hour', 'session_time', 'Monday', 'Saturday', 'Sunday', 'Thursday', 'Tuesday', 'Wednesday', 'dist_ratio']\n",
      "cat_features []\n",
      "(450000, 19) (450000,)\n",
      "train 360000 valid 90000\n",
      "training Light GBM:\n",
      "[LightGBM] [Warning] lambda_l1 is set=0.04839157576958098, reg_alpha=0.0 will be ignored. Current value: lambda_l1=0.04839157576958098\n",
      "[LightGBM] [Warning] bagging_fraction is set=0.7, subsample=1.0 will be ignored. Current value: bagging_fraction=0.7\n",
      "[LightGBM] [Warning] min_gain_to_split is set=6.879575808677421, min_split_gain=0.0 will be ignored. Current value: min_gain_to_split=6.879575808677421\n",
      "[LightGBM] [Warning] lambda_l2 is set=30, reg_lambda=0.0 will be ignored. Current value: lambda_l2=30\n",
      "[LightGBM] [Warning] feature_fraction is set=0.5, colsample_bytree=1.0 will be ignored. Current value: feature_fraction=0.5\n",
      "[LightGBM] [Warning] min_data_in_leaf is set=650, min_child_samples=20 will be ignored. Current value: min_data_in_leaf=650\n",
      "[LightGBM] [Warning] bagging_freq is set=1, subsample_freq=0 will be ignored. Current value: bagging_freq=1\n"
     ]
    },
    {
     "name": "stderr",
     "output_type": "stream",
     "text": [
      "\u001b[32m[I 2022-02-11 10:17:32,182]\u001b[0m Trial 75 pruned. Trial was pruned at iteration 7.\u001b[0m\n"
     ]
    },
    {
     "name": "stdout",
     "output_type": "stream",
     "text": [
      "cancelled :5218 , not_cancelled :444782\n",
      "Memory usage of dataframe is 61.19 MB\n",
      "Memory usage after optimization is: 40.59 MB\n",
      "Decreased by 33.7%\n",
      "Features : ['first_mile_distance', 'elapse1', 'elapse2', 'last_mile_distance', 'tot_dist', 'alloted_orders', 'delivered_orders', 'del_ratio', 'undelivered_orders', 'lifetime_order_count', 'Hour', 'session_time', 'Monday', 'Saturday', 'Sunday', 'Thursday', 'Tuesday', 'Wednesday', 'dist_ratio']\n",
      "cat_features []\n",
      "(450000, 19) (450000,)\n",
      "train 360000 valid 90000\n",
      "training Light GBM:\n"
     ]
    },
    {
     "name": "stderr",
     "output_type": "stream",
     "text": [
      "\u001b[32m[I 2022-02-11 10:17:36,157]\u001b[0m Trial 76 pruned. Trial was pruned at iteration 0.\u001b[0m\n"
     ]
    },
    {
     "name": "stdout",
     "output_type": "stream",
     "text": [
      "cancelled :5218 , not_cancelled :444782\n",
      "Memory usage of dataframe is 61.19 MB\n",
      "Memory usage after optimization is: 40.59 MB\n",
      "Decreased by 33.7%\n",
      "Features : ['first_mile_distance', 'elapse1', 'elapse2', 'last_mile_distance', 'tot_dist', 'alloted_orders', 'delivered_orders', 'del_ratio', 'undelivered_orders', 'lifetime_order_count', 'Hour', 'session_time', 'Monday', 'Saturday', 'Sunday', 'Thursday', 'Tuesday', 'Wednesday', 'dist_ratio']\n",
      "cat_features []\n",
      "(450000, 19) (450000,)\n",
      "train 360000 valid 90000\n",
      "training Light GBM:\n"
     ]
    },
    {
     "name": "stderr",
     "output_type": "stream",
     "text": [
      "\u001b[32m[I 2022-02-11 10:17:40,053]\u001b[0m Trial 77 pruned. Trial was pruned at iteration 0.\u001b[0m\n"
     ]
    },
    {
     "name": "stdout",
     "output_type": "stream",
     "text": [
      "cancelled :5218 , not_cancelled :444782\n",
      "Memory usage of dataframe is 61.19 MB\n",
      "Memory usage after optimization is: 40.59 MB\n",
      "Decreased by 33.7%\n",
      "Features : ['first_mile_distance', 'elapse1', 'elapse2', 'last_mile_distance', 'tot_dist', 'alloted_orders', 'delivered_orders', 'del_ratio', 'undelivered_orders', 'lifetime_order_count', 'Hour', 'session_time', 'Monday', 'Saturday', 'Sunday', 'Thursday', 'Tuesday', 'Wednesday', 'dist_ratio']\n",
      "cat_features []\n",
      "(450000, 19) (450000,)\n",
      "train 360000 valid 90000\n",
      "training Light GBM:\n",
      "score -0.7503342911289047\n",
      "train 360000 valid 90000\n",
      "training Light GBM:\n",
      "[LightGBM] [Warning] lambda_l1 is set=0.0008365801997471243, reg_alpha=0.0 will be ignored. Current value: lambda_l1=0.0008365801997471243\n",
      "[LightGBM] [Warning] bagging_fraction is set=0.8, subsample=1.0 will be ignored. Current value: bagging_fraction=0.8\n",
      "[LightGBM] [Warning] min_gain_to_split is set=3.902311956584986, min_split_gain=0.0 will be ignored. Current value: min_gain_to_split=3.902311956584986\n",
      "[LightGBM] [Warning] lambda_l2 is set=20, reg_lambda=0.0 will be ignored. Current value: lambda_l2=20\n",
      "[LightGBM] [Warning] feature_fraction is set=0.8, colsample_bytree=1.0 will be ignored. Current value: feature_fraction=0.8\n",
      "[LightGBM] [Warning] min_data_in_leaf is set=450, min_child_samples=20 will be ignored. Current value: min_data_in_leaf=450\n",
      "[LightGBM] [Warning] bagging_freq is set=1, subsample_freq=0 will be ignored. Current value: bagging_freq=1\n",
      "score -0.7496032884600832\n",
      "train 360000 valid 90000\n",
      "training Light GBM:\n",
      "[LightGBM] [Warning] lambda_l1 is set=0.0008365801997471243, reg_alpha=0.0 will be ignored. Current value: lambda_l1=0.0008365801997471243\n",
      "[LightGBM] [Warning] bagging_fraction is set=0.8, subsample=1.0 will be ignored. Current value: bagging_fraction=0.8\n",
      "[LightGBM] [Warning] min_gain_to_split is set=3.902311956584986, min_split_gain=0.0 will be ignored. Current value: min_gain_to_split=3.902311956584986\n",
      "[LightGBM] [Warning] lambda_l2 is set=20, reg_lambda=0.0 will be ignored. Current value: lambda_l2=20\n",
      "[LightGBM] [Warning] feature_fraction is set=0.8, colsample_bytree=1.0 will be ignored. Current value: feature_fraction=0.8\n",
      "[LightGBM] [Warning] min_data_in_leaf is set=450, min_child_samples=20 will be ignored. Current value: min_data_in_leaf=450\n",
      "[LightGBM] [Warning] bagging_freq is set=1, subsample_freq=0 will be ignored. Current value: bagging_freq=1\n",
      "score -0.7440154289115166\n",
      "train 360000 valid 90000\n",
      "training Light GBM:\n",
      "[LightGBM] [Warning] lambda_l1 is set=0.0008365801997471243, reg_alpha=0.0 will be ignored. Current value: lambda_l1=0.0008365801997471243\n",
      "[LightGBM] [Warning] bagging_fraction is set=0.8, subsample=1.0 will be ignored. Current value: bagging_fraction=0.8\n",
      "[LightGBM] [Warning] min_gain_to_split is set=3.902311956584986, min_split_gain=0.0 will be ignored. Current value: min_gain_to_split=3.902311956584986\n",
      "[LightGBM] [Warning] lambda_l2 is set=20, reg_lambda=0.0 will be ignored. Current value: lambda_l2=20\n",
      "[LightGBM] [Warning] feature_fraction is set=0.8, colsample_bytree=1.0 will be ignored. Current value: feature_fraction=0.8\n",
      "[LightGBM] [Warning] min_data_in_leaf is set=450, min_child_samples=20 will be ignored. Current value: min_data_in_leaf=450\n",
      "[LightGBM] [Warning] bagging_freq is set=1, subsample_freq=0 will be ignored. Current value: bagging_freq=1\n",
      "score -0.7429052218592205\n",
      "train 360000 valid 90000\n",
      "training Light GBM:\n",
      "[LightGBM] [Warning] lambda_l1 is set=0.0008365801997471243, reg_alpha=0.0 will be ignored. Current value: lambda_l1=0.0008365801997471243\n",
      "[LightGBM] [Warning] bagging_fraction is set=0.8, subsample=1.0 will be ignored. Current value: bagging_fraction=0.8\n",
      "[LightGBM] [Warning] min_gain_to_split is set=3.902311956584986, min_split_gain=0.0 will be ignored. Current value: min_gain_to_split=3.902311956584986\n",
      "[LightGBM] [Warning] lambda_l2 is set=20, reg_lambda=0.0 will be ignored. Current value: lambda_l2=20\n",
      "[LightGBM] [Warning] feature_fraction is set=0.8, colsample_bytree=1.0 will be ignored. Current value: feature_fraction=0.8\n",
      "[LightGBM] [Warning] min_data_in_leaf is set=450, min_child_samples=20 will be ignored. Current value: min_data_in_leaf=450\n",
      "[LightGBM] [Warning] bagging_freq is set=1, subsample_freq=0 will be ignored. Current value: bagging_freq=1\n"
     ]
    },
    {
     "name": "stderr",
     "output_type": "stream",
     "text": [
      "\u001b[32m[I 2022-02-11 10:17:51,954]\u001b[0m Trial 78 finished with value: -0.7467163552561661 and parameters: {'n_estimators': 10000, 'learning_rate': 0.4231598635868943, 'num_leaves': 2732, 'max_depth': 8, 'min_data_in_leaf': 450, 'lambda_l1': 0.0008365801997471243, 'lambda_l2': 20, 'min_gain_to_split': 3.902311956584986, 'bagging_fraction': 0.8, 'bagging_freq': 1, 'feature_fraction': 0.8}. Best is trial 43 with value: -0.7495685788857203.\u001b[0m\n"
     ]
    },
    {
     "name": "stdout",
     "output_type": "stream",
     "text": [
      "score -0.7467235459211055\n",
      "cancelled :5218 , not_cancelled :444782\n",
      "Memory usage of dataframe is 61.19 MB\n",
      "Memory usage after optimization is: 40.59 MB\n",
      "Decreased by 33.7%\n",
      "Features : ['first_mile_distance', 'elapse1', 'elapse2', 'last_mile_distance', 'tot_dist', 'alloted_orders', 'delivered_orders', 'del_ratio', 'undelivered_orders', 'lifetime_order_count', 'Hour', 'session_time', 'Monday', 'Saturday', 'Sunday', 'Thursday', 'Tuesday', 'Wednesday', 'dist_ratio']\n",
      "cat_features []\n",
      "(450000, 19) (450000,)\n",
      "train 360000 valid 90000\n",
      "training Light GBM:\n",
      "[LightGBM] [Warning] lambda_l1 is set=0.0029456373208787924, reg_alpha=0.0 will be ignored. Current value: lambda_l1=0.0029456373208787924\n",
      "[LightGBM] [Warning] bagging_fraction is set=0.9, subsample=1.0 will be ignored. Current value: bagging_fraction=0.9\n",
      "[LightGBM] [Warning] min_gain_to_split is set=4.520880639985292, min_split_gain=0.0 will be ignored. Current value: min_gain_to_split=4.520880639985292\n",
      "[LightGBM] [Warning] lambda_l2 is set=55, reg_lambda=0.0 will be ignored. Current value: lambda_l2=55\n",
      "[LightGBM] [Warning] feature_fraction is set=0.6000000000000001, colsample_bytree=1.0 will be ignored. Current value: feature_fraction=0.6000000000000001\n",
      "[LightGBM] [Warning] min_data_in_leaf is set=1950, min_child_samples=20 will be ignored. Current value: min_data_in_leaf=1950\n",
      "[LightGBM] [Warning] bagging_freq is set=1, subsample_freq=0 will be ignored. Current value: bagging_freq=1\n"
     ]
    },
    {
     "name": "stderr",
     "output_type": "stream",
     "text": [
      "\u001b[32m[I 2022-02-11 10:17:55,838]\u001b[0m Trial 79 pruned. Trial was pruned at iteration 0.\u001b[0m\n"
     ]
    },
    {
     "name": "stdout",
     "output_type": "stream",
     "text": [
      "cancelled :5218 , not_cancelled :444782\n",
      "Memory usage of dataframe is 61.19 MB\n",
      "Memory usage after optimization is: 40.59 MB\n",
      "Decreased by 33.7%\n",
      "Features : ['first_mile_distance', 'elapse1', 'elapse2', 'last_mile_distance', 'tot_dist', 'alloted_orders', 'delivered_orders', 'del_ratio', 'undelivered_orders', 'lifetime_order_count', 'Hour', 'session_time', 'Monday', 'Saturday', 'Sunday', 'Thursday', 'Tuesday', 'Wednesday', 'dist_ratio']\n",
      "cat_features []\n",
      "(450000, 19) (450000,)\n",
      "train 360000 valid 90000\n",
      "training Light GBM:\n"
     ]
    },
    {
     "name": "stderr",
     "output_type": "stream",
     "text": [
      "\u001b[32m[I 2022-02-11 10:17:59,786]\u001b[0m Trial 80 pruned. Trial was pruned at iteration 0.\u001b[0m\n"
     ]
    },
    {
     "name": "stdout",
     "output_type": "stream",
     "text": [
      "cancelled :5218 , not_cancelled :444782\n",
      "Memory usage of dataframe is 61.19 MB\n",
      "Memory usage after optimization is: 40.59 MB\n",
      "Decreased by 33.7%\n",
      "Features : ['first_mile_distance', 'elapse1', 'elapse2', 'last_mile_distance', 'tot_dist', 'alloted_orders', 'delivered_orders', 'del_ratio', 'undelivered_orders', 'lifetime_order_count', 'Hour', 'session_time', 'Monday', 'Saturday', 'Sunday', 'Thursday', 'Tuesday', 'Wednesday', 'dist_ratio']\n",
      "cat_features []\n",
      "(450000, 19) (450000,)\n",
      "train 360000 valid 90000\n",
      "training Light GBM:\n"
     ]
    },
    {
     "name": "stderr",
     "output_type": "stream",
     "text": [
      "\u001b[32m[I 2022-02-11 10:18:03,647]\u001b[0m Trial 81 pruned. Trial was pruned at iteration 0.\u001b[0m\n"
     ]
    },
    {
     "name": "stdout",
     "output_type": "stream",
     "text": [
      "cancelled :5218 , not_cancelled :444782\n",
      "Memory usage of dataframe is 61.19 MB\n",
      "Memory usage after optimization is: 40.59 MB\n",
      "Decreased by 33.7%\n",
      "Features : ['first_mile_distance', 'elapse1', 'elapse2', 'last_mile_distance', 'tot_dist', 'alloted_orders', 'delivered_orders', 'del_ratio', 'undelivered_orders', 'lifetime_order_count', 'Hour', 'session_time', 'Monday', 'Saturday', 'Sunday', 'Thursday', 'Tuesday', 'Wednesday', 'dist_ratio']\n",
      "cat_features []\n",
      "(450000, 19) (450000,)\n",
      "train 360000 valid 90000\n",
      "training Light GBM:\n"
     ]
    },
    {
     "name": "stderr",
     "output_type": "stream",
     "text": [
      "\u001b[32m[I 2022-02-11 10:18:07,500]\u001b[0m Trial 82 pruned. Trial was pruned at iteration 0.\u001b[0m\n"
     ]
    },
    {
     "name": "stdout",
     "output_type": "stream",
     "text": [
      "cancelled :5218 , not_cancelled :444782\n",
      "Memory usage of dataframe is 61.19 MB\n",
      "Memory usage after optimization is: 40.59 MB\n",
      "Decreased by 33.7%\n",
      "Features : ['first_mile_distance', 'elapse1', 'elapse2', 'last_mile_distance', 'tot_dist', 'alloted_orders', 'delivered_orders', 'del_ratio', 'undelivered_orders', 'lifetime_order_count', 'Hour', 'session_time', 'Monday', 'Saturday', 'Sunday', 'Thursday', 'Tuesday', 'Wednesday', 'dist_ratio']\n",
      "cat_features []\n",
      "(450000, 19) (450000,)\n",
      "train 360000 valid 90000\n",
      "training Light GBM:\n"
     ]
    },
    {
     "name": "stderr",
     "output_type": "stream",
     "text": [
      "\u001b[32m[I 2022-02-11 10:18:11,220]\u001b[0m Trial 83 pruned. Trial was pruned at iteration 0.\u001b[0m\n"
     ]
    },
    {
     "name": "stdout",
     "output_type": "stream",
     "text": [
      "cancelled :5218 , not_cancelled :444782\n",
      "Memory usage of dataframe is 61.19 MB\n",
      "Memory usage after optimization is: 40.59 MB\n",
      "Decreased by 33.7%\n",
      "Features : ['first_mile_distance', 'elapse1', 'elapse2', 'last_mile_distance', 'tot_dist', 'alloted_orders', 'delivered_orders', 'del_ratio', 'undelivered_orders', 'lifetime_order_count', 'Hour', 'session_time', 'Monday', 'Saturday', 'Sunday', 'Thursday', 'Tuesday', 'Wednesday', 'dist_ratio']\n",
      "cat_features []\n",
      "(450000, 19) (450000,)\n",
      "train 360000 valid 90000\n",
      "training Light GBM:\n"
     ]
    },
    {
     "name": "stderr",
     "output_type": "stream",
     "text": [
      "\u001b[32m[I 2022-02-11 10:18:14,995]\u001b[0m Trial 84 pruned. Trial was pruned at iteration 0.\u001b[0m\n"
     ]
    },
    {
     "name": "stdout",
     "output_type": "stream",
     "text": [
      "cancelled :5218 , not_cancelled :444782\n",
      "Memory usage of dataframe is 61.19 MB\n",
      "Memory usage after optimization is: 40.59 MB\n",
      "Decreased by 33.7%\n",
      "Features : ['first_mile_distance', 'elapse1', 'elapse2', 'last_mile_distance', 'tot_dist', 'alloted_orders', 'delivered_orders', 'del_ratio', 'undelivered_orders', 'lifetime_order_count', 'Hour', 'session_time', 'Monday', 'Saturday', 'Sunday', 'Thursday', 'Tuesday', 'Wednesday', 'dist_ratio']\n",
      "cat_features []\n",
      "(450000, 19) (450000,)\n",
      "train 360000 valid 90000\n",
      "training Light GBM:\n"
     ]
    },
    {
     "name": "stderr",
     "output_type": "stream",
     "text": [
      "\u001b[32m[I 2022-02-11 10:18:18,959]\u001b[0m Trial 85 pruned. Trial was pruned at iteration 0.\u001b[0m\n"
     ]
    },
    {
     "name": "stdout",
     "output_type": "stream",
     "text": [
      "cancelled :5218 , not_cancelled :444782\n",
      "Memory usage of dataframe is 61.19 MB\n",
      "Memory usage after optimization is: 40.59 MB\n",
      "Decreased by 33.7%\n",
      "Features : ['first_mile_distance', 'elapse1', 'elapse2', 'last_mile_distance', 'tot_dist', 'alloted_orders', 'delivered_orders', 'del_ratio', 'undelivered_orders', 'lifetime_order_count', 'Hour', 'session_time', 'Monday', 'Saturday', 'Sunday', 'Thursday', 'Tuesday', 'Wednesday', 'dist_ratio']\n",
      "cat_features []\n",
      "(450000, 19) (450000,)\n",
      "train 360000 valid 90000\n",
      "training Light GBM:\n"
     ]
    },
    {
     "name": "stderr",
     "output_type": "stream",
     "text": [
      "\u001b[32m[I 2022-02-11 10:18:22,749]\u001b[0m Trial 86 pruned. Trial was pruned at iteration 0.\u001b[0m\n"
     ]
    },
    {
     "name": "stdout",
     "output_type": "stream",
     "text": [
      "cancelled :5218 , not_cancelled :444782\n",
      "Memory usage of dataframe is 61.19 MB\n",
      "Memory usage after optimization is: 40.59 MB\n",
      "Decreased by 33.7%\n",
      "Features : ['first_mile_distance', 'elapse1', 'elapse2', 'last_mile_distance', 'tot_dist', 'alloted_orders', 'delivered_orders', 'del_ratio', 'undelivered_orders', 'lifetime_order_count', 'Hour', 'session_time', 'Monday', 'Saturday', 'Sunday', 'Thursday', 'Tuesday', 'Wednesday', 'dist_ratio']\n",
      "cat_features []\n",
      "(450000, 19) (450000,)\n",
      "train 360000 valid 90000\n",
      "training Light GBM:\n"
     ]
    },
    {
     "name": "stderr",
     "output_type": "stream",
     "text": [
      "\u001b[32m[I 2022-02-11 10:18:26,582]\u001b[0m Trial 87 pruned. Trial was pruned at iteration 0.\u001b[0m\n"
     ]
    },
    {
     "name": "stdout",
     "output_type": "stream",
     "text": [
      "cancelled :5218 , not_cancelled :444782\n",
      "Memory usage of dataframe is 61.19 MB\n",
      "Memory usage after optimization is: 40.59 MB\n",
      "Decreased by 33.7%\n",
      "Features : ['first_mile_distance', 'elapse1', 'elapse2', 'last_mile_distance', 'tot_dist', 'alloted_orders', 'delivered_orders', 'del_ratio', 'undelivered_orders', 'lifetime_order_count', 'Hour', 'session_time', 'Monday', 'Saturday', 'Sunday', 'Thursday', 'Tuesday', 'Wednesday', 'dist_ratio']\n",
      "cat_features []\n",
      "(450000, 19) (450000,)\n",
      "train 360000 valid 90000\n",
      "training Light GBM:\n"
     ]
    },
    {
     "name": "stderr",
     "output_type": "stream",
     "text": [
      "\u001b[32m[I 2022-02-11 10:18:30,328]\u001b[0m Trial 88 pruned. Trial was pruned at iteration 0.\u001b[0m\n"
     ]
    },
    {
     "name": "stdout",
     "output_type": "stream",
     "text": [
      "cancelled :5218 , not_cancelled :444782\n",
      "Memory usage of dataframe is 61.19 MB\n",
      "Memory usage after optimization is: 40.59 MB\n",
      "Decreased by 33.7%\n",
      "Features : ['first_mile_distance', 'elapse1', 'elapse2', 'last_mile_distance', 'tot_dist', 'alloted_orders', 'delivered_orders', 'del_ratio', 'undelivered_orders', 'lifetime_order_count', 'Hour', 'session_time', 'Monday', 'Saturday', 'Sunday', 'Thursday', 'Tuesday', 'Wednesday', 'dist_ratio']\n",
      "cat_features []\n",
      "(450000, 19) (450000,)\n",
      "train 360000 valid 90000\n",
      "training Light GBM:\n"
     ]
    },
    {
     "name": "stderr",
     "output_type": "stream",
     "text": [
      "\u001b[32m[I 2022-02-11 10:18:34,125]\u001b[0m Trial 89 pruned. Trial was pruned at iteration 0.\u001b[0m\n"
     ]
    },
    {
     "name": "stdout",
     "output_type": "stream",
     "text": [
      "cancelled :5218 , not_cancelled :444782\n",
      "Memory usage of dataframe is 61.19 MB\n",
      "Memory usage after optimization is: 40.59 MB\n",
      "Decreased by 33.7%\n",
      "Features : ['first_mile_distance', 'elapse1', 'elapse2', 'last_mile_distance', 'tot_dist', 'alloted_orders', 'delivered_orders', 'del_ratio', 'undelivered_orders', 'lifetime_order_count', 'Hour', 'session_time', 'Monday', 'Saturday', 'Sunday', 'Thursday', 'Tuesday', 'Wednesday', 'dist_ratio']\n",
      "cat_features []\n",
      "(450000, 19) (450000,)\n",
      "train 360000 valid 90000\n",
      "training Light GBM:\n"
     ]
    },
    {
     "name": "stderr",
     "output_type": "stream",
     "text": [
      "\u001b[32m[I 2022-02-11 10:18:38,008]\u001b[0m Trial 90 pruned. Trial was pruned at iteration 0.\u001b[0m\n"
     ]
    },
    {
     "name": "stdout",
     "output_type": "stream",
     "text": [
      "cancelled :5218 , not_cancelled :444782\n",
      "Memory usage of dataframe is 61.19 MB\n",
      "Memory usage after optimization is: 40.59 MB\n",
      "Decreased by 33.7%\n",
      "Features : ['first_mile_distance', 'elapse1', 'elapse2', 'last_mile_distance', 'tot_dist', 'alloted_orders', 'delivered_orders', 'del_ratio', 'undelivered_orders', 'lifetime_order_count', 'Hour', 'session_time', 'Monday', 'Saturday', 'Sunday', 'Thursday', 'Tuesday', 'Wednesday', 'dist_ratio']\n",
      "cat_features []\n",
      "(450000, 19) (450000,)\n",
      "train 360000 valid 90000\n",
      "training Light GBM:\n"
     ]
    },
    {
     "name": "stderr",
     "output_type": "stream",
     "text": [
      "\u001b[32m[I 2022-02-11 10:18:41,862]\u001b[0m Trial 91 pruned. Trial was pruned at iteration 0.\u001b[0m\n"
     ]
    },
    {
     "name": "stdout",
     "output_type": "stream",
     "text": [
      "cancelled :5218 , not_cancelled :444782\n",
      "Memory usage of dataframe is 61.19 MB\n",
      "Memory usage after optimization is: 40.59 MB\n",
      "Decreased by 33.7%\n",
      "Features : ['first_mile_distance', 'elapse1', 'elapse2', 'last_mile_distance', 'tot_dist', 'alloted_orders', 'delivered_orders', 'del_ratio', 'undelivered_orders', 'lifetime_order_count', 'Hour', 'session_time', 'Monday', 'Saturday', 'Sunday', 'Thursday', 'Tuesday', 'Wednesday', 'dist_ratio']\n",
      "cat_features []\n",
      "(450000, 19) (450000,)\n",
      "train 360000 valid 90000\n",
      "training Light GBM:\n"
     ]
    },
    {
     "name": "stderr",
     "output_type": "stream",
     "text": [
      "\u001b[32m[I 2022-02-11 10:18:45,737]\u001b[0m Trial 92 pruned. Trial was pruned at iteration 0.\u001b[0m\n"
     ]
    },
    {
     "name": "stdout",
     "output_type": "stream",
     "text": [
      "cancelled :5218 , not_cancelled :444782\n",
      "Memory usage of dataframe is 61.19 MB\n",
      "Memory usage after optimization is: 40.59 MB\n",
      "Decreased by 33.7%\n",
      "Features : ['first_mile_distance', 'elapse1', 'elapse2', 'last_mile_distance', 'tot_dist', 'alloted_orders', 'delivered_orders', 'del_ratio', 'undelivered_orders', 'lifetime_order_count', 'Hour', 'session_time', 'Monday', 'Saturday', 'Sunday', 'Thursday', 'Tuesday', 'Wednesday', 'dist_ratio']\n",
      "cat_features []\n",
      "(450000, 19) (450000,)\n",
      "train 360000 valid 90000\n",
      "training Light GBM:\n"
     ]
    },
    {
     "name": "stderr",
     "output_type": "stream",
     "text": [
      "\u001b[32m[I 2022-02-11 10:18:49,621]\u001b[0m Trial 93 pruned. Trial was pruned at iteration 0.\u001b[0m\n"
     ]
    },
    {
     "name": "stdout",
     "output_type": "stream",
     "text": [
      "cancelled :5218 , not_cancelled :444782\n",
      "Memory usage of dataframe is 61.19 MB\n",
      "Memory usage after optimization is: 40.59 MB\n",
      "Decreased by 33.7%\n",
      "Features : ['first_mile_distance', 'elapse1', 'elapse2', 'last_mile_distance', 'tot_dist', 'alloted_orders', 'delivered_orders', 'del_ratio', 'undelivered_orders', 'lifetime_order_count', 'Hour', 'session_time', 'Monday', 'Saturday', 'Sunday', 'Thursday', 'Tuesday', 'Wednesday', 'dist_ratio']\n",
      "cat_features []\n",
      "(450000, 19) (450000,)\n",
      "train 360000 valid 90000\n",
      "training Light GBM:\n"
     ]
    },
    {
     "name": "stderr",
     "output_type": "stream",
     "text": [
      "\u001b[32m[I 2022-02-11 10:18:53,429]\u001b[0m Trial 94 pruned. Trial was pruned at iteration 0.\u001b[0m\n"
     ]
    },
    {
     "name": "stdout",
     "output_type": "stream",
     "text": [
      "cancelled :5218 , not_cancelled :444782\n",
      "Memory usage of dataframe is 61.19 MB\n",
      "Memory usage after optimization is: 40.59 MB\n",
      "Decreased by 33.7%\n",
      "Features : ['first_mile_distance', 'elapse1', 'elapse2', 'last_mile_distance', 'tot_dist', 'alloted_orders', 'delivered_orders', 'del_ratio', 'undelivered_orders', 'lifetime_order_count', 'Hour', 'session_time', 'Monday', 'Saturday', 'Sunday', 'Thursday', 'Tuesday', 'Wednesday', 'dist_ratio']\n",
      "cat_features []\n",
      "(450000, 19) (450000,)\n",
      "train 360000 valid 90000\n",
      "training Light GBM:\n"
     ]
    },
    {
     "name": "stderr",
     "output_type": "stream",
     "text": [
      "\u001b[32m[I 2022-02-11 10:18:57,387]\u001b[0m Trial 95 pruned. Trial was pruned at iteration 0.\u001b[0m\n"
     ]
    },
    {
     "name": "stdout",
     "output_type": "stream",
     "text": [
      "cancelled :5218 , not_cancelled :444782\n",
      "Memory usage of dataframe is 61.19 MB\n",
      "Memory usage after optimization is: 40.59 MB\n",
      "Decreased by 33.7%\n",
      "Features : ['first_mile_distance', 'elapse1', 'elapse2', 'last_mile_distance', 'tot_dist', 'alloted_orders', 'delivered_orders', 'del_ratio', 'undelivered_orders', 'lifetime_order_count', 'Hour', 'session_time', 'Monday', 'Saturday', 'Sunday', 'Thursday', 'Tuesday', 'Wednesday', 'dist_ratio']\n",
      "cat_features []\n",
      "(450000, 19) (450000,)\n",
      "train 360000 valid 90000\n",
      "training Light GBM:\n"
     ]
    },
    {
     "name": "stderr",
     "output_type": "stream",
     "text": [
      "\u001b[32m[I 2022-02-11 10:19:01,302]\u001b[0m Trial 96 pruned. Trial was pruned at iteration 0.\u001b[0m\n"
     ]
    },
    {
     "name": "stdout",
     "output_type": "stream",
     "text": [
      "cancelled :5218 , not_cancelled :444782\n",
      "Memory usage of dataframe is 61.19 MB\n",
      "Memory usage after optimization is: 40.59 MB\n",
      "Decreased by 33.7%\n",
      "Features : ['first_mile_distance', 'elapse1', 'elapse2', 'last_mile_distance', 'tot_dist', 'alloted_orders', 'delivered_orders', 'del_ratio', 'undelivered_orders', 'lifetime_order_count', 'Hour', 'session_time', 'Monday', 'Saturday', 'Sunday', 'Thursday', 'Tuesday', 'Wednesday', 'dist_ratio']\n",
      "cat_features []\n",
      "(450000, 19) (450000,)\n",
      "train 360000 valid 90000\n",
      "training Light GBM:\n"
     ]
    },
    {
     "name": "stderr",
     "output_type": "stream",
     "text": [
      "\u001b[32m[I 2022-02-11 10:19:05,284]\u001b[0m Trial 97 pruned. Trial was pruned at iteration 0.\u001b[0m\n"
     ]
    },
    {
     "name": "stdout",
     "output_type": "stream",
     "text": [
      "cancelled :5218 , not_cancelled :444782\n",
      "Memory usage of dataframe is 61.19 MB\n",
      "Memory usage after optimization is: 40.59 MB\n",
      "Decreased by 33.7%\n",
      "Features : ['first_mile_distance', 'elapse1', 'elapse2', 'last_mile_distance', 'tot_dist', 'alloted_orders', 'delivered_orders', 'del_ratio', 'undelivered_orders', 'lifetime_order_count', 'Hour', 'session_time', 'Monday', 'Saturday', 'Sunday', 'Thursday', 'Tuesday', 'Wednesday', 'dist_ratio']\n",
      "cat_features []\n",
      "(450000, 19) (450000,)\n",
      "train 360000 valid 90000\n",
      "training Light GBM:\n"
     ]
    },
    {
     "name": "stderr",
     "output_type": "stream",
     "text": [
      "\u001b[32m[I 2022-02-11 10:19:09,265]\u001b[0m Trial 98 pruned. Trial was pruned at iteration 5.\u001b[0m\n"
     ]
    },
    {
     "name": "stdout",
     "output_type": "stream",
     "text": [
      "cancelled :5218 , not_cancelled :444782\n",
      "Memory usage of dataframe is 61.19 MB\n",
      "Memory usage after optimization is: 40.59 MB\n",
      "Decreased by 33.7%\n",
      "Features : ['first_mile_distance', 'elapse1', 'elapse2', 'last_mile_distance', 'tot_dist', 'alloted_orders', 'delivered_orders', 'del_ratio', 'undelivered_orders', 'lifetime_order_count', 'Hour', 'session_time', 'Monday', 'Saturday', 'Sunday', 'Thursday', 'Tuesday', 'Wednesday', 'dist_ratio']\n",
      "cat_features []\n",
      "(450000, 19) (450000,)\n",
      "train 360000 valid 90000\n",
      "training Light GBM:\n"
     ]
    },
    {
     "name": "stderr",
     "output_type": "stream",
     "text": [
      "\u001b[32m[I 2022-02-11 10:19:13,170]\u001b[0m Trial 99 pruned. Trial was pruned at iteration 0.\u001b[0m\n"
     ]
    },
    {
     "name": "stdout",
     "output_type": "stream",
     "text": [
      "cancelled :5218 , not_cancelled :444782\n",
      "Memory usage of dataframe is 61.19 MB\n",
      "Memory usage after optimization is: 40.59 MB\n",
      "Decreased by 33.7%\n",
      "Features : ['first_mile_distance', 'elapse1', 'elapse2', 'last_mile_distance', 'tot_dist', 'alloted_orders', 'delivered_orders', 'del_ratio', 'undelivered_orders', 'lifetime_order_count', 'Hour', 'session_time', 'Monday', 'Saturday', 'Sunday', 'Thursday', 'Tuesday', 'Wednesday', 'dist_ratio']\n",
      "cat_features []\n",
      "(450000, 19) (450000,)\n",
      "train 360000 valid 90000\n",
      "training Light GBM:\n"
     ]
    },
    {
     "name": "stderr",
     "output_type": "stream",
     "text": [
      "\u001b[32m[I 2022-02-11 10:19:16,952]\u001b[0m Trial 100 pruned. Trial was pruned at iteration 0.\u001b[0m\n"
     ]
    },
    {
     "name": "stdout",
     "output_type": "stream",
     "text": [
      "cancelled :5218 , not_cancelled :444782\n",
      "Memory usage of dataframe is 61.19 MB\n",
      "Memory usage after optimization is: 40.59 MB\n",
      "Decreased by 33.7%\n",
      "Features : ['first_mile_distance', 'elapse1', 'elapse2', 'last_mile_distance', 'tot_dist', 'alloted_orders', 'delivered_orders', 'del_ratio', 'undelivered_orders', 'lifetime_order_count', 'Hour', 'session_time', 'Monday', 'Saturday', 'Sunday', 'Thursday', 'Tuesday', 'Wednesday', 'dist_ratio']\n",
      "cat_features []\n",
      "(450000, 19) (450000,)\n",
      "train 360000 valid 90000\n",
      "training Light GBM:\n",
      "score -0.7545044143242594\n",
      "train 360000 valid 90000\n",
      "training Light GBM:\n",
      "[LightGBM] [Warning] lambda_l1 is set=0.24473925592647927, reg_alpha=0.0 will be ignored. Current value: lambda_l1=0.24473925592647927\n",
      "[LightGBM] [Warning] bagging_fraction is set=0.9, subsample=1.0 will be ignored. Current value: bagging_fraction=0.9\n",
      "[LightGBM] [Warning] min_gain_to_split is set=8.341401740760503, min_split_gain=0.0 will be ignored. Current value: min_gain_to_split=8.341401740760503\n",
      "[LightGBM] [Warning] lambda_l2 is set=20, reg_lambda=0.0 will be ignored. Current value: lambda_l2=20\n",
      "[LightGBM] [Warning] feature_fraction is set=0.7, colsample_bytree=1.0 will be ignored. Current value: feature_fraction=0.7\n",
      "[LightGBM] [Warning] min_data_in_leaf is set=300, min_child_samples=20 will be ignored. Current value: min_data_in_leaf=300\n",
      "[LightGBM] [Warning] bagging_freq is set=1, subsample_freq=0 will be ignored. Current value: bagging_freq=1\n",
      "score -0.7557285560236688\n",
      "train 360000 valid 90000\n",
      "training Light GBM:\n",
      "[LightGBM] [Warning] lambda_l1 is set=0.24473925592647927, reg_alpha=0.0 will be ignored. Current value: lambda_l1=0.24473925592647927\n",
      "[LightGBM] [Warning] bagging_fraction is set=0.9, subsample=1.0 will be ignored. Current value: bagging_fraction=0.9\n",
      "[LightGBM] [Warning] min_gain_to_split is set=8.341401740760503, min_split_gain=0.0 will be ignored. Current value: min_gain_to_split=8.341401740760503\n",
      "[LightGBM] [Warning] lambda_l2 is set=20, reg_lambda=0.0 will be ignored. Current value: lambda_l2=20\n",
      "[LightGBM] [Warning] feature_fraction is set=0.7, colsample_bytree=1.0 will be ignored. Current value: feature_fraction=0.7\n",
      "[LightGBM] [Warning] min_data_in_leaf is set=300, min_child_samples=20 will be ignored. Current value: min_data_in_leaf=300\n",
      "[LightGBM] [Warning] bagging_freq is set=1, subsample_freq=0 will be ignored. Current value: bagging_freq=1\n",
      "score -0.7374305836593371\n",
      "train 360000 valid 90000\n",
      "training Light GBM:\n",
      "[LightGBM] [Warning] lambda_l1 is set=0.24473925592647927, reg_alpha=0.0 will be ignored. Current value: lambda_l1=0.24473925592647927\n",
      "[LightGBM] [Warning] bagging_fraction is set=0.9, subsample=1.0 will be ignored. Current value: bagging_fraction=0.9\n",
      "[LightGBM] [Warning] min_gain_to_split is set=8.341401740760503, min_split_gain=0.0 will be ignored. Current value: min_gain_to_split=8.341401740760503\n",
      "[LightGBM] [Warning] lambda_l2 is set=20, reg_lambda=0.0 will be ignored. Current value: lambda_l2=20\n",
      "[LightGBM] [Warning] feature_fraction is set=0.7, colsample_bytree=1.0 will be ignored. Current value: feature_fraction=0.7\n",
      "[LightGBM] [Warning] min_data_in_leaf is set=300, min_child_samples=20 will be ignored. Current value: min_data_in_leaf=300\n",
      "[LightGBM] [Warning] bagging_freq is set=1, subsample_freq=0 will be ignored. Current value: bagging_freq=1\n",
      "score -0.7423491223178225\n",
      "train 360000 valid 90000\n",
      "training Light GBM:\n",
      "[LightGBM] [Warning] lambda_l1 is set=0.24473925592647927, reg_alpha=0.0 will be ignored. Current value: lambda_l1=0.24473925592647927\n",
      "[LightGBM] [Warning] bagging_fraction is set=0.9, subsample=1.0 will be ignored. Current value: bagging_fraction=0.9\n",
      "[LightGBM] [Warning] min_gain_to_split is set=8.341401740760503, min_split_gain=0.0 will be ignored. Current value: min_gain_to_split=8.341401740760503\n",
      "[LightGBM] [Warning] lambda_l2 is set=20, reg_lambda=0.0 will be ignored. Current value: lambda_l2=20\n",
      "[LightGBM] [Warning] feature_fraction is set=0.7, colsample_bytree=1.0 will be ignored. Current value: feature_fraction=0.7\n",
      "[LightGBM] [Warning] min_data_in_leaf is set=300, min_child_samples=20 will be ignored. Current value: min_data_in_leaf=300\n",
      "[LightGBM] [Warning] bagging_freq is set=1, subsample_freq=0 will be ignored. Current value: bagging_freq=1\n"
     ]
    },
    {
     "name": "stderr",
     "output_type": "stream",
     "text": [
      "\u001b[32m[I 2022-02-11 10:19:31,614]\u001b[0m Trial 101 finished with value: -0.7467533953914841 and parameters: {'n_estimators': 10000, 'learning_rate': 0.2693001768880286, 'num_leaves': 1618, 'max_depth': 8, 'min_data_in_leaf': 300, 'lambda_l1': 0.24473925592647927, 'lambda_l2': 20, 'min_gain_to_split': 8.341401740760503, 'bagging_fraction': 0.9, 'bagging_freq': 1, 'feature_fraction': 0.7}. Best is trial 43 with value: -0.7495685788857203.\u001b[0m\n"
     ]
    },
    {
     "name": "stdout",
     "output_type": "stream",
     "text": [
      "score -0.7437543006323328\n",
      "cancelled :5218 , not_cancelled :444782\n",
      "Memory usage of dataframe is 61.19 MB\n",
      "Memory usage after optimization is: 40.59 MB\n",
      "Decreased by 33.7%\n",
      "Features : ['first_mile_distance', 'elapse1', 'elapse2', 'last_mile_distance', 'tot_dist', 'alloted_orders', 'delivered_orders', 'del_ratio', 'undelivered_orders', 'lifetime_order_count', 'Hour', 'session_time', 'Monday', 'Saturday', 'Sunday', 'Thursday', 'Tuesday', 'Wednesday', 'dist_ratio']\n",
      "cat_features []\n",
      "(450000, 19) (450000,)\n",
      "train 360000 valid 90000\n",
      "training Light GBM:\n",
      "[LightGBM] [Warning] lambda_l1 is set=0.8539749181514373, reg_alpha=0.0 will be ignored. Current value: lambda_l1=0.8539749181514373\n",
      "[LightGBM] [Warning] bagging_fraction is set=0.9, subsample=1.0 will be ignored. Current value: bagging_fraction=0.9\n",
      "[LightGBM] [Warning] min_gain_to_split is set=7.2444853827654505, min_split_gain=0.0 will be ignored. Current value: min_gain_to_split=7.2444853827654505\n",
      "[LightGBM] [Warning] lambda_l2 is set=25, reg_lambda=0.0 will be ignored. Current value: lambda_l2=25\n",
      "[LightGBM] [Warning] feature_fraction is set=0.7, colsample_bytree=1.0 will be ignored. Current value: feature_fraction=0.7\n",
      "[LightGBM] [Warning] min_data_in_leaf is set=1000, min_child_samples=20 will be ignored. Current value: min_data_in_leaf=1000\n",
      "[LightGBM] [Warning] bagging_freq is set=1, subsample_freq=0 will be ignored. Current value: bagging_freq=1\n"
     ]
    },
    {
     "name": "stderr",
     "output_type": "stream",
     "text": [
      "\u001b[32m[I 2022-02-11 10:19:36,141]\u001b[0m Trial 102 pruned. Trial was pruned at iteration 31.\u001b[0m\n"
     ]
    },
    {
     "name": "stdout",
     "output_type": "stream",
     "text": [
      "cancelled :5218 , not_cancelled :444782\n",
      "Memory usage of dataframe is 61.19 MB\n",
      "Memory usage after optimization is: 40.59 MB\n",
      "Decreased by 33.7%\n",
      "Features : ['first_mile_distance', 'elapse1', 'elapse2', 'last_mile_distance', 'tot_dist', 'alloted_orders', 'delivered_orders', 'del_ratio', 'undelivered_orders', 'lifetime_order_count', 'Hour', 'session_time', 'Monday', 'Saturday', 'Sunday', 'Thursday', 'Tuesday', 'Wednesday', 'dist_ratio']\n",
      "cat_features []\n",
      "(450000, 19) (450000,)\n",
      "train 360000 valid 90000\n",
      "training Light GBM:\n"
     ]
    },
    {
     "name": "stderr",
     "output_type": "stream",
     "text": [
      "\u001b[32m[I 2022-02-11 10:19:40,267]\u001b[0m Trial 103 pruned. Trial was pruned at iteration 8.\u001b[0m\n"
     ]
    },
    {
     "name": "stdout",
     "output_type": "stream",
     "text": [
      "cancelled :5218 , not_cancelled :444782\n",
      "Memory usage of dataframe is 61.19 MB\n",
      "Memory usage after optimization is: 40.59 MB\n",
      "Decreased by 33.7%\n",
      "Features : ['first_mile_distance', 'elapse1', 'elapse2', 'last_mile_distance', 'tot_dist', 'alloted_orders', 'delivered_orders', 'del_ratio', 'undelivered_orders', 'lifetime_order_count', 'Hour', 'session_time', 'Monday', 'Saturday', 'Sunday', 'Thursday', 'Tuesday', 'Wednesday', 'dist_ratio']\n",
      "cat_features []\n",
      "(450000, 19) (450000,)\n",
      "train 360000 valid 90000\n",
      "training Light GBM:\n"
     ]
    },
    {
     "name": "stderr",
     "output_type": "stream",
     "text": [
      "\u001b[32m[I 2022-02-11 10:19:44,271]\u001b[0m Trial 104 pruned. Trial was pruned at iteration 2.\u001b[0m\n"
     ]
    },
    {
     "name": "stdout",
     "output_type": "stream",
     "text": [
      "cancelled :5218 , not_cancelled :444782\n",
      "Memory usage of dataframe is 61.19 MB\n",
      "Memory usage after optimization is: 40.59 MB\n",
      "Decreased by 33.7%\n",
      "Features : ['first_mile_distance', 'elapse1', 'elapse2', 'last_mile_distance', 'tot_dist', 'alloted_orders', 'delivered_orders', 'del_ratio', 'undelivered_orders', 'lifetime_order_count', 'Hour', 'session_time', 'Monday', 'Saturday', 'Sunday', 'Thursday', 'Tuesday', 'Wednesday', 'dist_ratio']\n",
      "cat_features []\n",
      "(450000, 19) (450000,)\n",
      "train 360000 valid 90000\n",
      "training Light GBM:\n"
     ]
    },
    {
     "name": "stderr",
     "output_type": "stream",
     "text": [
      "\u001b[32m[I 2022-02-11 10:19:48,404]\u001b[0m Trial 105 pruned. Trial was pruned at iteration 9.\u001b[0m\n"
     ]
    },
    {
     "name": "stdout",
     "output_type": "stream",
     "text": [
      "cancelled :5218 , not_cancelled :444782\n",
      "Memory usage of dataframe is 61.19 MB\n",
      "Memory usage after optimization is: 40.59 MB\n",
      "Decreased by 33.7%\n",
      "Features : ['first_mile_distance', 'elapse1', 'elapse2', 'last_mile_distance', 'tot_dist', 'alloted_orders', 'delivered_orders', 'del_ratio', 'undelivered_orders', 'lifetime_order_count', 'Hour', 'session_time', 'Monday', 'Saturday', 'Sunday', 'Thursday', 'Tuesday', 'Wednesday', 'dist_ratio']\n",
      "cat_features []\n",
      "(450000, 19) (450000,)\n",
      "train 360000 valid 90000\n",
      "training Light GBM:\n"
     ]
    },
    {
     "name": "stderr",
     "output_type": "stream",
     "text": [
      "\u001b[32m[I 2022-02-11 10:19:52,285]\u001b[0m Trial 106 pruned. Trial was pruned at iteration 4.\u001b[0m\n"
     ]
    },
    {
     "name": "stdout",
     "output_type": "stream",
     "text": [
      "cancelled :5218 , not_cancelled :444782\n",
      "Memory usage of dataframe is 61.19 MB\n",
      "Memory usage after optimization is: 40.59 MB\n",
      "Decreased by 33.7%\n",
      "Features : ['first_mile_distance', 'elapse1', 'elapse2', 'last_mile_distance', 'tot_dist', 'alloted_orders', 'delivered_orders', 'del_ratio', 'undelivered_orders', 'lifetime_order_count', 'Hour', 'session_time', 'Monday', 'Saturday', 'Sunday', 'Thursday', 'Tuesday', 'Wednesday', 'dist_ratio']\n",
      "cat_features []\n",
      "(450000, 19) (450000,)\n",
      "train 360000 valid 90000\n",
      "training Light GBM:\n"
     ]
    },
    {
     "name": "stderr",
     "output_type": "stream",
     "text": [
      "\u001b[32m[I 2022-02-11 10:19:55,956]\u001b[0m Trial 107 pruned. Trial was pruned at iteration 0.\u001b[0m\n"
     ]
    },
    {
     "name": "stdout",
     "output_type": "stream",
     "text": [
      "cancelled :5218 , not_cancelled :444782\n",
      "Memory usage of dataframe is 61.19 MB\n",
      "Memory usage after optimization is: 40.59 MB\n",
      "Decreased by 33.7%\n",
      "Features : ['first_mile_distance', 'elapse1', 'elapse2', 'last_mile_distance', 'tot_dist', 'alloted_orders', 'delivered_orders', 'del_ratio', 'undelivered_orders', 'lifetime_order_count', 'Hour', 'session_time', 'Monday', 'Saturday', 'Sunday', 'Thursday', 'Tuesday', 'Wednesday', 'dist_ratio']\n",
      "cat_features []\n",
      "(450000, 19) (450000,)\n",
      "train 360000 valid 90000\n",
      "training Light GBM:\n"
     ]
    },
    {
     "name": "stderr",
     "output_type": "stream",
     "text": [
      "\u001b[32m[I 2022-02-11 10:20:00,182]\u001b[0m Trial 108 pruned. Trial was pruned at iteration 4.\u001b[0m\n"
     ]
    },
    {
     "name": "stdout",
     "output_type": "stream",
     "text": [
      "cancelled :5218 , not_cancelled :444782\n",
      "Memory usage of dataframe is 61.19 MB\n",
      "Memory usage after optimization is: 40.59 MB\n",
      "Decreased by 33.7%\n",
      "Features : ['first_mile_distance', 'elapse1', 'elapse2', 'last_mile_distance', 'tot_dist', 'alloted_orders', 'delivered_orders', 'del_ratio', 'undelivered_orders', 'lifetime_order_count', 'Hour', 'session_time', 'Monday', 'Saturday', 'Sunday', 'Thursday', 'Tuesday', 'Wednesday', 'dist_ratio']\n",
      "cat_features []\n",
      "(450000, 19) (450000,)\n",
      "train 360000 valid 90000\n",
      "training Light GBM:\n"
     ]
    },
    {
     "name": "stderr",
     "output_type": "stream",
     "text": [
      "\u001b[32m[I 2022-02-11 10:20:04,167]\u001b[0m Trial 109 pruned. Trial was pruned at iteration 6.\u001b[0m\n"
     ]
    },
    {
     "name": "stdout",
     "output_type": "stream",
     "text": [
      "cancelled :5218 , not_cancelled :444782\n",
      "Memory usage of dataframe is 61.19 MB\n",
      "Memory usage after optimization is: 40.59 MB\n",
      "Decreased by 33.7%\n",
      "Features : ['first_mile_distance', 'elapse1', 'elapse2', 'last_mile_distance', 'tot_dist', 'alloted_orders', 'delivered_orders', 'del_ratio', 'undelivered_orders', 'lifetime_order_count', 'Hour', 'session_time', 'Monday', 'Saturday', 'Sunday', 'Thursday', 'Tuesday', 'Wednesday', 'dist_ratio']\n",
      "cat_features []\n",
      "(450000, 19) (450000,)\n",
      "train 360000 valid 90000\n",
      "training Light GBM:\n"
     ]
    },
    {
     "name": "stderr",
     "output_type": "stream",
     "text": [
      "\u001b[32m[I 2022-02-11 10:20:08,111]\u001b[0m Trial 110 pruned. Trial was pruned at iteration 0.\u001b[0m\n"
     ]
    },
    {
     "name": "stdout",
     "output_type": "stream",
     "text": [
      "cancelled :5218 , not_cancelled :444782\n",
      "Memory usage of dataframe is 61.19 MB\n",
      "Memory usage after optimization is: 40.59 MB\n",
      "Decreased by 33.7%\n",
      "Features : ['first_mile_distance', 'elapse1', 'elapse2', 'last_mile_distance', 'tot_dist', 'alloted_orders', 'delivered_orders', 'del_ratio', 'undelivered_orders', 'lifetime_order_count', 'Hour', 'session_time', 'Monday', 'Saturday', 'Sunday', 'Thursday', 'Tuesday', 'Wednesday', 'dist_ratio']\n",
      "cat_features []\n",
      "(450000, 19) (450000,)\n",
      "train 360000 valid 90000\n",
      "training Light GBM:\n",
      "score -0.749681493157019\n",
      "train 360000 valid 90000\n",
      "training Light GBM:\n",
      "[LightGBM] [Warning] lambda_l1 is set=0.2095383100111254, reg_alpha=0.0 will be ignored. Current value: lambda_l1=0.2095383100111254\n",
      "[LightGBM] [Warning] bagging_fraction is set=0.9, subsample=1.0 will be ignored. Current value: bagging_fraction=0.9\n",
      "[LightGBM] [Warning] min_gain_to_split is set=8.654353927826206, min_split_gain=0.0 will be ignored. Current value: min_gain_to_split=8.654353927826206\n",
      "[LightGBM] [Warning] lambda_l2 is set=20, reg_lambda=0.0 will be ignored. Current value: lambda_l2=20\n",
      "[LightGBM] [Warning] feature_fraction is set=0.7, colsample_bytree=1.0 will be ignored. Current value: feature_fraction=0.7\n",
      "[LightGBM] [Warning] min_data_in_leaf is set=200, min_child_samples=20 will be ignored. Current value: min_data_in_leaf=200\n",
      "[LightGBM] [Warning] bagging_freq is set=1, subsample_freq=0 will be ignored. Current value: bagging_freq=1\n",
      "score -0.7462621339744537\n",
      "train 360000 valid 90000\n",
      "training Light GBM:\n",
      "[LightGBM] [Warning] lambda_l1 is set=0.2095383100111254, reg_alpha=0.0 will be ignored. Current value: lambda_l1=0.2095383100111254\n",
      "[LightGBM] [Warning] bagging_fraction is set=0.9, subsample=1.0 will be ignored. Current value: bagging_fraction=0.9\n",
      "[LightGBM] [Warning] min_gain_to_split is set=8.654353927826206, min_split_gain=0.0 will be ignored. Current value: min_gain_to_split=8.654353927826206\n",
      "[LightGBM] [Warning] lambda_l2 is set=20, reg_lambda=0.0 will be ignored. Current value: lambda_l2=20\n",
      "[LightGBM] [Warning] feature_fraction is set=0.7, colsample_bytree=1.0 will be ignored. Current value: feature_fraction=0.7\n",
      "[LightGBM] [Warning] min_data_in_leaf is set=200, min_child_samples=20 will be ignored. Current value: min_data_in_leaf=200\n",
      "[LightGBM] [Warning] bagging_freq is set=1, subsample_freq=0 will be ignored. Current value: bagging_freq=1\n",
      "score -0.7367888752612468\n",
      "train 360000 valid 90000\n",
      "training Light GBM:\n",
      "[LightGBM] [Warning] lambda_l1 is set=0.2095383100111254, reg_alpha=0.0 will be ignored. Current value: lambda_l1=0.2095383100111254\n",
      "[LightGBM] [Warning] bagging_fraction is set=0.9, subsample=1.0 will be ignored. Current value: bagging_fraction=0.9\n",
      "[LightGBM] [Warning] min_gain_to_split is set=8.654353927826206, min_split_gain=0.0 will be ignored. Current value: min_gain_to_split=8.654353927826206\n",
      "[LightGBM] [Warning] lambda_l2 is set=20, reg_lambda=0.0 will be ignored. Current value: lambda_l2=20\n",
      "[LightGBM] [Warning] feature_fraction is set=0.7, colsample_bytree=1.0 will be ignored. Current value: feature_fraction=0.7\n",
      "[LightGBM] [Warning] min_data_in_leaf is set=200, min_child_samples=20 will be ignored. Current value: min_data_in_leaf=200\n",
      "[LightGBM] [Warning] bagging_freq is set=1, subsample_freq=0 will be ignored. Current value: bagging_freq=1\n",
      "score -0.7510651871630022\n",
      "train 360000 valid 90000\n",
      "training Light GBM:\n",
      "[LightGBM] [Warning] lambda_l1 is set=0.2095383100111254, reg_alpha=0.0 will be ignored. Current value: lambda_l1=0.2095383100111254\n",
      "[LightGBM] [Warning] bagging_fraction is set=0.9, subsample=1.0 will be ignored. Current value: bagging_fraction=0.9\n",
      "[LightGBM] [Warning] min_gain_to_split is set=8.654353927826206, min_split_gain=0.0 will be ignored. Current value: min_gain_to_split=8.654353927826206\n",
      "[LightGBM] [Warning] lambda_l2 is set=20, reg_lambda=0.0 will be ignored. Current value: lambda_l2=20\n",
      "[LightGBM] [Warning] feature_fraction is set=0.7, colsample_bytree=1.0 will be ignored. Current value: feature_fraction=0.7\n",
      "[LightGBM] [Warning] min_data_in_leaf is set=200, min_child_samples=20 will be ignored. Current value: min_data_in_leaf=200\n",
      "[LightGBM] [Warning] bagging_freq is set=1, subsample_freq=0 will be ignored. Current value: bagging_freq=1\n"
     ]
    },
    {
     "name": "stderr",
     "output_type": "stream",
     "text": [
      "\u001b[32m[I 2022-02-11 10:20:20,047]\u001b[0m Trial 111 finished with value: -0.7480778863081048 and parameters: {'n_estimators': 10000, 'learning_rate': 0.2682279752318444, 'num_leaves': 1649, 'max_depth': 8, 'min_data_in_leaf': 200, 'lambda_l1': 0.2095383100111254, 'lambda_l2': 20, 'min_gain_to_split': 8.654353927826206, 'bagging_fraction': 0.9, 'bagging_freq': 1, 'feature_fraction': 0.7}. Best is trial 43 with value: -0.7495685788857203.\u001b[0m\n"
     ]
    },
    {
     "name": "stdout",
     "output_type": "stream",
     "text": [
      "score -0.7565917419848016\n",
      "cancelled :5218 , not_cancelled :444782\n",
      "Memory usage of dataframe is 61.19 MB\n",
      "Memory usage after optimization is: 40.59 MB\n",
      "Decreased by 33.7%\n",
      "Features : ['first_mile_distance', 'elapse1', 'elapse2', 'last_mile_distance', 'tot_dist', 'alloted_orders', 'delivered_orders', 'del_ratio', 'undelivered_orders', 'lifetime_order_count', 'Hour', 'session_time', 'Monday', 'Saturday', 'Sunday', 'Thursday', 'Tuesday', 'Wednesday', 'dist_ratio']\n",
      "cat_features []\n",
      "(450000, 19) (450000,)\n",
      "train 360000 valid 90000\n",
      "training Light GBM:\n",
      "[LightGBM] [Warning] lambda_l1 is set=1.3385426937942748, reg_alpha=0.0 will be ignored. Current value: lambda_l1=1.3385426937942748\n",
      "[LightGBM] [Warning] bagging_fraction is set=0.9, subsample=1.0 will be ignored. Current value: bagging_fraction=0.9\n",
      "[LightGBM] [Warning] min_gain_to_split is set=8.148617953082276, min_split_gain=0.0 will be ignored. Current value: min_gain_to_split=8.148617953082276\n",
      "[LightGBM] [Warning] lambda_l2 is set=15, reg_lambda=0.0 will be ignored. Current value: lambda_l2=15\n",
      "[LightGBM] [Warning] feature_fraction is set=0.7, colsample_bytree=1.0 will be ignored. Current value: feature_fraction=0.7\n",
      "[LightGBM] [Warning] min_data_in_leaf is set=500, min_child_samples=20 will be ignored. Current value: min_data_in_leaf=500\n",
      "[LightGBM] [Warning] bagging_freq is set=1, subsample_freq=0 will be ignored. Current value: bagging_freq=1\n"
     ]
    },
    {
     "name": "stderr",
     "output_type": "stream",
     "text": [
      "\u001b[32m[I 2022-02-11 10:20:23,904]\u001b[0m Trial 112 pruned. Trial was pruned at iteration 4.\u001b[0m\n"
     ]
    },
    {
     "name": "stdout",
     "output_type": "stream",
     "text": [
      "cancelled :5218 , not_cancelled :444782\n",
      "Memory usage of dataframe is 61.19 MB\n",
      "Memory usage after optimization is: 40.59 MB\n",
      "Decreased by 33.7%\n",
      "Features : ['first_mile_distance', 'elapse1', 'elapse2', 'last_mile_distance', 'tot_dist', 'alloted_orders', 'delivered_orders', 'del_ratio', 'undelivered_orders', 'lifetime_order_count', 'Hour', 'session_time', 'Monday', 'Saturday', 'Sunday', 'Thursday', 'Tuesday', 'Wednesday', 'dist_ratio']\n",
      "cat_features []\n",
      "(450000, 19) (450000,)\n",
      "train 360000 valid 90000\n",
      "training Light GBM:\n"
     ]
    },
    {
     "name": "stderr",
     "output_type": "stream",
     "text": [
      "\u001b[32m[I 2022-02-11 10:20:27,881]\u001b[0m Trial 113 pruned. Trial was pruned at iteration 0.\u001b[0m\n"
     ]
    },
    {
     "name": "stdout",
     "output_type": "stream",
     "text": [
      "cancelled :5218 , not_cancelled :444782\n",
      "Memory usage of dataframe is 61.19 MB\n",
      "Memory usage after optimization is: 40.59 MB\n",
      "Decreased by 33.7%\n",
      "Features : ['first_mile_distance', 'elapse1', 'elapse2', 'last_mile_distance', 'tot_dist', 'alloted_orders', 'delivered_orders', 'del_ratio', 'undelivered_orders', 'lifetime_order_count', 'Hour', 'session_time', 'Monday', 'Saturday', 'Sunday', 'Thursday', 'Tuesday', 'Wednesday', 'dist_ratio']\n",
      "cat_features []\n",
      "(450000, 19) (450000,)\n",
      "train 360000 valid 90000\n",
      "training Light GBM:\n"
     ]
    },
    {
     "name": "stderr",
     "output_type": "stream",
     "text": [
      "\u001b[32m[I 2022-02-11 10:20:32,197]\u001b[0m Trial 114 pruned. Trial was pruned at iteration 9.\u001b[0m\n"
     ]
    },
    {
     "name": "stdout",
     "output_type": "stream",
     "text": [
      "cancelled :5218 , not_cancelled :444782\n",
      "Memory usage of dataframe is 61.19 MB\n",
      "Memory usage after optimization is: 40.59 MB\n",
      "Decreased by 33.7%\n",
      "Features : ['first_mile_distance', 'elapse1', 'elapse2', 'last_mile_distance', 'tot_dist', 'alloted_orders', 'delivered_orders', 'del_ratio', 'undelivered_orders', 'lifetime_order_count', 'Hour', 'session_time', 'Monday', 'Saturday', 'Sunday', 'Thursday', 'Tuesday', 'Wednesday', 'dist_ratio']\n",
      "cat_features []\n",
      "(450000, 19) (450000,)\n",
      "train 360000 valid 90000\n",
      "training Light GBM:\n",
      "score -0.7459125678170577\n",
      "train 360000 valid 90000\n",
      "training Light GBM:\n",
      "[LightGBM] [Warning] lambda_l1 is set=0.04206878494709979, reg_alpha=0.0 will be ignored. Current value: lambda_l1=0.04206878494709979\n",
      "[LightGBM] [Warning] bagging_fraction is set=0.7, subsample=1.0 will be ignored. Current value: bagging_fraction=0.7\n",
      "[LightGBM] [Warning] min_gain_to_split is set=3.2850934500065705, min_split_gain=0.0 will be ignored. Current value: min_gain_to_split=3.2850934500065705\n",
      "[LightGBM] [Warning] lambda_l2 is set=20, reg_lambda=0.0 will be ignored. Current value: lambda_l2=20\n",
      "[LightGBM] [Warning] feature_fraction is set=0.8, colsample_bytree=1.0 will be ignored. Current value: feature_fraction=0.8\n",
      "[LightGBM] [Warning] min_data_in_leaf is set=1400, min_child_samples=20 will be ignored. Current value: min_data_in_leaf=1400\n",
      "[LightGBM] [Warning] bagging_freq is set=1, subsample_freq=0 will be ignored. Current value: bagging_freq=1\n",
      "score -0.7620998515113107\n",
      "train 360000 valid 90000\n",
      "training Light GBM:\n",
      "[LightGBM] [Warning] lambda_l1 is set=0.04206878494709979, reg_alpha=0.0 will be ignored. Current value: lambda_l1=0.04206878494709979\n",
      "[LightGBM] [Warning] bagging_fraction is set=0.7, subsample=1.0 will be ignored. Current value: bagging_fraction=0.7\n",
      "[LightGBM] [Warning] min_gain_to_split is set=3.2850934500065705, min_split_gain=0.0 will be ignored. Current value: min_gain_to_split=3.2850934500065705\n",
      "[LightGBM] [Warning] lambda_l2 is set=20, reg_lambda=0.0 will be ignored. Current value: lambda_l2=20\n",
      "[LightGBM] [Warning] feature_fraction is set=0.8, colsample_bytree=1.0 will be ignored. Current value: feature_fraction=0.8\n",
      "[LightGBM] [Warning] min_data_in_leaf is set=1400, min_child_samples=20 will be ignored. Current value: min_data_in_leaf=1400\n",
      "[LightGBM] [Warning] bagging_freq is set=1, subsample_freq=0 will be ignored. Current value: bagging_freq=1\n",
      "score -0.7412759401134902\n",
      "train 360000 valid 90000\n",
      "training Light GBM:\n",
      "[LightGBM] [Warning] lambda_l1 is set=0.04206878494709979, reg_alpha=0.0 will be ignored. Current value: lambda_l1=0.04206878494709979\n",
      "[LightGBM] [Warning] bagging_fraction is set=0.7, subsample=1.0 will be ignored. Current value: bagging_fraction=0.7\n",
      "[LightGBM] [Warning] min_gain_to_split is set=3.2850934500065705, min_split_gain=0.0 will be ignored. Current value: min_gain_to_split=3.2850934500065705\n",
      "[LightGBM] [Warning] lambda_l2 is set=20, reg_lambda=0.0 will be ignored. Current value: lambda_l2=20\n",
      "[LightGBM] [Warning] feature_fraction is set=0.8, colsample_bytree=1.0 will be ignored. Current value: feature_fraction=0.8\n",
      "[LightGBM] [Warning] min_data_in_leaf is set=1400, min_child_samples=20 will be ignored. Current value: min_data_in_leaf=1400\n",
      "[LightGBM] [Warning] bagging_freq is set=1, subsample_freq=0 will be ignored. Current value: bagging_freq=1\n",
      "score -0.7456200094790503\n",
      "train 360000 valid 90000\n",
      "training Light GBM:\n",
      "[LightGBM] [Warning] lambda_l1 is set=0.04206878494709979, reg_alpha=0.0 will be ignored. Current value: lambda_l1=0.04206878494709979\n",
      "[LightGBM] [Warning] bagging_fraction is set=0.7, subsample=1.0 will be ignored. Current value: bagging_fraction=0.7\n",
      "[LightGBM] [Warning] min_gain_to_split is set=3.2850934500065705, min_split_gain=0.0 will be ignored. Current value: min_gain_to_split=3.2850934500065705\n",
      "[LightGBM] [Warning] lambda_l2 is set=20, reg_lambda=0.0 will be ignored. Current value: lambda_l2=20\n",
      "[LightGBM] [Warning] feature_fraction is set=0.8, colsample_bytree=1.0 will be ignored. Current value: feature_fraction=0.8\n",
      "[LightGBM] [Warning] min_data_in_leaf is set=1400, min_child_samples=20 will be ignored. Current value: min_data_in_leaf=1400\n",
      "[LightGBM] [Warning] bagging_freq is set=1, subsample_freq=0 will be ignored. Current value: bagging_freq=1\n"
     ]
    },
    {
     "name": "stderr",
     "output_type": "stream",
     "text": [
      "\u001b[32m[I 2022-02-11 10:20:46,982]\u001b[0m Trial 115 finished with value: -0.7505066894232363 and parameters: {'n_estimators': 10000, 'learning_rate': 0.2820060384288739, 'num_leaves': 2723, 'max_depth': 8, 'min_data_in_leaf': 1400, 'lambda_l1': 0.04206878494709979, 'lambda_l2': 20, 'min_gain_to_split': 3.2850934500065705, 'bagging_fraction': 0.7, 'bagging_freq': 1, 'feature_fraction': 0.8}. Best is trial 115 with value: -0.7505066894232363.\u001b[0m\n"
     ]
    },
    {
     "name": "stdout",
     "output_type": "stream",
     "text": [
      "score -0.7576250781952729\n",
      "cancelled :5218 , not_cancelled :444782\n",
      "Memory usage of dataframe is 61.19 MB\n",
      "Memory usage after optimization is: 40.59 MB\n",
      "Decreased by 33.7%\n",
      "Features : ['first_mile_distance', 'elapse1', 'elapse2', 'last_mile_distance', 'tot_dist', 'alloted_orders', 'delivered_orders', 'del_ratio', 'undelivered_orders', 'lifetime_order_count', 'Hour', 'session_time', 'Monday', 'Saturday', 'Sunday', 'Thursday', 'Tuesday', 'Wednesday', 'dist_ratio']\n",
      "cat_features []\n",
      "(450000, 19) (450000,)\n",
      "train 360000 valid 90000\n",
      "training Light GBM:\n",
      "[LightGBM] [Warning] lambda_l1 is set=3.597096027879891e-07, reg_alpha=0.0 will be ignored. Current value: lambda_l1=3.597096027879891e-07\n",
      "[LightGBM] [Warning] bagging_fraction is set=0.7, subsample=1.0 will be ignored. Current value: bagging_fraction=0.7\n",
      "[LightGBM] [Warning] min_gain_to_split is set=2.0607201330836196, min_split_gain=0.0 will be ignored. Current value: min_gain_to_split=2.0607201330836196\n",
      "[LightGBM] [Warning] lambda_l2 is set=65, reg_lambda=0.0 will be ignored. Current value: lambda_l2=65\n",
      "[LightGBM] [Warning] feature_fraction is set=0.8, colsample_bytree=1.0 will be ignored. Current value: feature_fraction=0.8\n",
      "[LightGBM] [Warning] min_data_in_leaf is set=1650, min_child_samples=20 will be ignored. Current value: min_data_in_leaf=1650\n",
      "[LightGBM] [Warning] bagging_freq is set=1, subsample_freq=0 will be ignored. Current value: bagging_freq=1\n"
     ]
    },
    {
     "name": "stderr",
     "output_type": "stream",
     "text": [
      "\u001b[32m[I 2022-02-11 10:20:50,918]\u001b[0m Trial 116 pruned. Trial was pruned at iteration 0.\u001b[0m\n"
     ]
    },
    {
     "name": "stdout",
     "output_type": "stream",
     "text": [
      "cancelled :5218 , not_cancelled :444782\n",
      "Memory usage of dataframe is 61.19 MB\n",
      "Memory usage after optimization is: 40.59 MB\n",
      "Decreased by 33.7%\n",
      "Features : ['first_mile_distance', 'elapse1', 'elapse2', 'last_mile_distance', 'tot_dist', 'alloted_orders', 'delivered_orders', 'del_ratio', 'undelivered_orders', 'lifetime_order_count', 'Hour', 'session_time', 'Monday', 'Saturday', 'Sunday', 'Thursday', 'Tuesday', 'Wednesday', 'dist_ratio']\n",
      "cat_features []\n",
      "(450000, 19) (450000,)\n",
      "train 360000 valid 90000\n",
      "training Light GBM:\n"
     ]
    },
    {
     "name": "stderr",
     "output_type": "stream",
     "text": [
      "\u001b[32m[I 2022-02-11 10:20:54,881]\u001b[0m Trial 117 pruned. Trial was pruned at iteration 0.\u001b[0m\n"
     ]
    },
    {
     "name": "stdout",
     "output_type": "stream",
     "text": [
      "cancelled :5218 , not_cancelled :444782\n",
      "Memory usage of dataframe is 61.19 MB\n",
      "Memory usage after optimization is: 40.59 MB\n",
      "Decreased by 33.7%\n",
      "Features : ['first_mile_distance', 'elapse1', 'elapse2', 'last_mile_distance', 'tot_dist', 'alloted_orders', 'delivered_orders', 'del_ratio', 'undelivered_orders', 'lifetime_order_count', 'Hour', 'session_time', 'Monday', 'Saturday', 'Sunday', 'Thursday', 'Tuesday', 'Wednesday', 'dist_ratio']\n",
      "cat_features []\n",
      "(450000, 19) (450000,)\n",
      "train 360000 valid 90000\n",
      "training Light GBM:\n",
      "score -0.751673066945818\n",
      "train 360000 valid 90000\n",
      "training Light GBM:\n",
      "[LightGBM] [Warning] lambda_l1 is set=0.003064498617449944, reg_alpha=0.0 will be ignored. Current value: lambda_l1=0.003064498617449944\n",
      "[LightGBM] [Warning] bagging_fraction is set=0.7, subsample=1.0 will be ignored. Current value: bagging_fraction=0.7\n",
      "[LightGBM] [Warning] min_gain_to_split is set=3.6049024686795184, min_split_gain=0.0 will be ignored. Current value: min_gain_to_split=3.6049024686795184\n",
      "[LightGBM] [Warning] lambda_l2 is set=15, reg_lambda=0.0 will be ignored. Current value: lambda_l2=15\n",
      "[LightGBM] [Warning] feature_fraction is set=0.9, colsample_bytree=1.0 will be ignored. Current value: feature_fraction=0.9\n",
      "[LightGBM] [Warning] min_data_in_leaf is set=2150, min_child_samples=20 will be ignored. Current value: min_data_in_leaf=2150\n",
      "[LightGBM] [Warning] bagging_freq is set=1, subsample_freq=0 will be ignored. Current value: bagging_freq=1\n",
      "score -0.7498705004155379\n",
      "train 360000 valid 90000\n",
      "training Light GBM:\n",
      "[LightGBM] [Warning] lambda_l1 is set=0.003064498617449944, reg_alpha=0.0 will be ignored. Current value: lambda_l1=0.003064498617449944\n",
      "[LightGBM] [Warning] bagging_fraction is set=0.7, subsample=1.0 will be ignored. Current value: bagging_fraction=0.7\n",
      "[LightGBM] [Warning] min_gain_to_split is set=3.6049024686795184, min_split_gain=0.0 will be ignored. Current value: min_gain_to_split=3.6049024686795184\n",
      "[LightGBM] [Warning] lambda_l2 is set=15, reg_lambda=0.0 will be ignored. Current value: lambda_l2=15\n",
      "[LightGBM] [Warning] feature_fraction is set=0.9, colsample_bytree=1.0 will be ignored. Current value: feature_fraction=0.9\n",
      "[LightGBM] [Warning] min_data_in_leaf is set=2150, min_child_samples=20 will be ignored. Current value: min_data_in_leaf=2150\n",
      "[LightGBM] [Warning] bagging_freq is set=1, subsample_freq=0 will be ignored. Current value: bagging_freq=1\n",
      "score -0.7380502720446064\n",
      "train 360000 valid 90000\n",
      "training Light GBM:\n",
      "[LightGBM] [Warning] lambda_l1 is set=0.003064498617449944, reg_alpha=0.0 will be ignored. Current value: lambda_l1=0.003064498617449944\n",
      "[LightGBM] [Warning] bagging_fraction is set=0.7, subsample=1.0 will be ignored. Current value: bagging_fraction=0.7\n",
      "[LightGBM] [Warning] min_gain_to_split is set=3.6049024686795184, min_split_gain=0.0 will be ignored. Current value: min_gain_to_split=3.6049024686795184\n",
      "[LightGBM] [Warning] lambda_l2 is set=15, reg_lambda=0.0 will be ignored. Current value: lambda_l2=15\n",
      "[LightGBM] [Warning] feature_fraction is set=0.9, colsample_bytree=1.0 will be ignored. Current value: feature_fraction=0.9\n",
      "[LightGBM] [Warning] min_data_in_leaf is set=2150, min_child_samples=20 will be ignored. Current value: min_data_in_leaf=2150\n",
      "[LightGBM] [Warning] bagging_freq is set=1, subsample_freq=0 will be ignored. Current value: bagging_freq=1\n",
      "score -0.7515959286945252\n",
      "train 360000 valid 90000\n",
      "training Light GBM:\n",
      "[LightGBM] [Warning] lambda_l1 is set=0.003064498617449944, reg_alpha=0.0 will be ignored. Current value: lambda_l1=0.003064498617449944\n",
      "[LightGBM] [Warning] bagging_fraction is set=0.7, subsample=1.0 will be ignored. Current value: bagging_fraction=0.7\n",
      "[LightGBM] [Warning] min_gain_to_split is set=3.6049024686795184, min_split_gain=0.0 will be ignored. Current value: min_gain_to_split=3.6049024686795184\n",
      "[LightGBM] [Warning] lambda_l2 is set=15, reg_lambda=0.0 will be ignored. Current value: lambda_l2=15\n",
      "[LightGBM] [Warning] feature_fraction is set=0.9, colsample_bytree=1.0 will be ignored. Current value: feature_fraction=0.9\n",
      "[LightGBM] [Warning] min_data_in_leaf is set=2150, min_child_samples=20 will be ignored. Current value: min_data_in_leaf=2150\n",
      "[LightGBM] [Warning] bagging_freq is set=1, subsample_freq=0 will be ignored. Current value: bagging_freq=1\n"
     ]
    },
    {
     "name": "stderr",
     "output_type": "stream",
     "text": [
      "\u001b[32m[I 2022-02-11 10:21:07,587]\u001b[0m Trial 118 finished with value: -0.74790360368361 and parameters: {'n_estimators': 20000, 'learning_rate': 0.41414645861407484, 'num_leaves': 2749, 'max_depth': 9, 'min_data_in_leaf': 2150, 'lambda_l1': 0.003064498617449944, 'lambda_l2': 15, 'min_gain_to_split': 3.6049024686795184, 'bagging_fraction': 0.7, 'bagging_freq': 1, 'feature_fraction': 0.9}. Best is trial 115 with value: -0.7505066894232363.\u001b[0m\n"
     ]
    },
    {
     "name": "stdout",
     "output_type": "stream",
     "text": [
      "score -0.7483282503175619\n",
      "cancelled :5218 , not_cancelled :444782\n",
      "Memory usage of dataframe is 61.19 MB\n",
      "Memory usage after optimization is: 40.59 MB\n",
      "Decreased by 33.7%\n",
      "Features : ['first_mile_distance', 'elapse1', 'elapse2', 'last_mile_distance', 'tot_dist', 'alloted_orders', 'delivered_orders', 'del_ratio', 'undelivered_orders', 'lifetime_order_count', 'Hour', 'session_time', 'Monday', 'Saturday', 'Sunday', 'Thursday', 'Tuesday', 'Wednesday', 'dist_ratio']\n",
      "cat_features []\n",
      "(450000, 19) (450000,)\n",
      "train 360000 valid 90000\n",
      "training Light GBM:\n",
      "[LightGBM] [Warning] lambda_l1 is set=0.0034677411935446394, reg_alpha=0.0 will be ignored. Current value: lambda_l1=0.0034677411935446394\n",
      "[LightGBM] [Warning] bagging_fraction is set=0.7, subsample=1.0 will be ignored. Current value: bagging_fraction=0.7\n",
      "[LightGBM] [Warning] min_gain_to_split is set=3.928550440118529, min_split_gain=0.0 will be ignored. Current value: min_gain_to_split=3.928550440118529\n",
      "[LightGBM] [Warning] lambda_l2 is set=20, reg_lambda=0.0 will be ignored. Current value: lambda_l2=20\n",
      "[LightGBM] [Warning] feature_fraction is set=0.9, colsample_bytree=1.0 will be ignored. Current value: feature_fraction=0.9\n",
      "[LightGBM] [Warning] min_data_in_leaf is set=2100, min_child_samples=20 will be ignored. Current value: min_data_in_leaf=2100\n",
      "[LightGBM] [Warning] bagging_freq is set=1, subsample_freq=0 will be ignored. Current value: bagging_freq=1\n",
      "score -0.7425926027517943\n",
      "train 360000 valid 90000\n",
      "training Light GBM:\n",
      "[LightGBM] [Warning] lambda_l1 is set=0.0034677411935446394, reg_alpha=0.0 will be ignored. Current value: lambda_l1=0.0034677411935446394\n",
      "[LightGBM] [Warning] bagging_fraction is set=0.7, subsample=1.0 will be ignored. Current value: bagging_fraction=0.7\n",
      "[LightGBM] [Warning] min_gain_to_split is set=3.928550440118529, min_split_gain=0.0 will be ignored. Current value: min_gain_to_split=3.928550440118529\n",
      "[LightGBM] [Warning] lambda_l2 is set=20, reg_lambda=0.0 will be ignored. Current value: lambda_l2=20\n",
      "[LightGBM] [Warning] feature_fraction is set=0.9, colsample_bytree=1.0 will be ignored. Current value: feature_fraction=0.9\n",
      "[LightGBM] [Warning] min_data_in_leaf is set=2100, min_child_samples=20 will be ignored. Current value: min_data_in_leaf=2100\n",
      "[LightGBM] [Warning] bagging_freq is set=1, subsample_freq=0 will be ignored. Current value: bagging_freq=1\n",
      "score -0.7492901840570607\n",
      "train 360000 valid 90000\n",
      "training Light GBM:\n",
      "[LightGBM] [Warning] lambda_l1 is set=0.0034677411935446394, reg_alpha=0.0 will be ignored. Current value: lambda_l1=0.0034677411935446394\n",
      "[LightGBM] [Warning] bagging_fraction is set=0.7, subsample=1.0 will be ignored. Current value: bagging_fraction=0.7\n",
      "[LightGBM] [Warning] min_gain_to_split is set=3.928550440118529, min_split_gain=0.0 will be ignored. Current value: min_gain_to_split=3.928550440118529\n",
      "[LightGBM] [Warning] lambda_l2 is set=20, reg_lambda=0.0 will be ignored. Current value: lambda_l2=20\n",
      "[LightGBM] [Warning] feature_fraction is set=0.9, colsample_bytree=1.0 will be ignored. Current value: feature_fraction=0.9\n",
      "[LightGBM] [Warning] min_data_in_leaf is set=2100, min_child_samples=20 will be ignored. Current value: min_data_in_leaf=2100\n",
      "[LightGBM] [Warning] bagging_freq is set=1, subsample_freq=0 will be ignored. Current value: bagging_freq=1\n",
      "score -0.7553431641869011\n",
      "train 360000 valid 90000\n",
      "training Light GBM:\n",
      "[LightGBM] [Warning] lambda_l1 is set=0.0034677411935446394, reg_alpha=0.0 will be ignored. Current value: lambda_l1=0.0034677411935446394\n",
      "[LightGBM] [Warning] bagging_fraction is set=0.7, subsample=1.0 will be ignored. Current value: bagging_fraction=0.7\n",
      "[LightGBM] [Warning] min_gain_to_split is set=3.928550440118529, min_split_gain=0.0 will be ignored. Current value: min_gain_to_split=3.928550440118529\n",
      "[LightGBM] [Warning] lambda_l2 is set=20, reg_lambda=0.0 will be ignored. Current value: lambda_l2=20\n",
      "[LightGBM] [Warning] feature_fraction is set=0.9, colsample_bytree=1.0 will be ignored. Current value: feature_fraction=0.9\n",
      "[LightGBM] [Warning] min_data_in_leaf is set=2100, min_child_samples=20 will be ignored. Current value: min_data_in_leaf=2100\n",
      "[LightGBM] [Warning] bagging_freq is set=1, subsample_freq=0 will be ignored. Current value: bagging_freq=1\n",
      "score -0.752900697904117\n",
      "train 360000 valid 90000\n",
      "training Light GBM:\n",
      "[LightGBM] [Warning] lambda_l1 is set=0.0034677411935446394, reg_alpha=0.0 will be ignored. Current value: lambda_l1=0.0034677411935446394\n",
      "[LightGBM] [Warning] bagging_fraction is set=0.7, subsample=1.0 will be ignored. Current value: bagging_fraction=0.7\n",
      "[LightGBM] [Warning] min_gain_to_split is set=3.928550440118529, min_split_gain=0.0 will be ignored. Current value: min_gain_to_split=3.928550440118529\n",
      "[LightGBM] [Warning] lambda_l2 is set=20, reg_lambda=0.0 will be ignored. Current value: lambda_l2=20\n",
      "[LightGBM] [Warning] feature_fraction is set=0.9, colsample_bytree=1.0 will be ignored. Current value: feature_fraction=0.9\n",
      "[LightGBM] [Warning] min_data_in_leaf is set=2100, min_child_samples=20 will be ignored. Current value: min_data_in_leaf=2100\n",
      "[LightGBM] [Warning] bagging_freq is set=1, subsample_freq=0 will be ignored. Current value: bagging_freq=1\n"
     ]
    },
    {
     "name": "stderr",
     "output_type": "stream",
     "text": [
      "\u001b[32m[I 2022-02-11 10:21:23,147]\u001b[0m Trial 119 finished with value: -0.750851069493043 and parameters: {'n_estimators': 20000, 'learning_rate': 0.28262154348124036, 'num_leaves': 2610, 'max_depth': 9, 'min_data_in_leaf': 2100, 'lambda_l1': 0.0034677411935446394, 'lambda_l2': 20, 'min_gain_to_split': 3.928550440118529, 'bagging_fraction': 0.7, 'bagging_freq': 1, 'feature_fraction': 0.9}. Best is trial 119 with value: -0.750851069493043.\u001b[0m\n"
     ]
    },
    {
     "name": "stdout",
     "output_type": "stream",
     "text": [
      "score -0.7541286985653418\n",
      "cancelled :5218 , not_cancelled :444782\n",
      "Memory usage of dataframe is 61.19 MB\n",
      "Memory usage after optimization is: 40.59 MB\n",
      "Decreased by 33.7%\n",
      "Features : ['first_mile_distance', 'elapse1', 'elapse2', 'last_mile_distance', 'tot_dist', 'alloted_orders', 'delivered_orders', 'del_ratio', 'undelivered_orders', 'lifetime_order_count', 'Hour', 'session_time', 'Monday', 'Saturday', 'Sunday', 'Thursday', 'Tuesday', 'Wednesday', 'dist_ratio']\n",
      "cat_features []\n",
      "(450000, 19) (450000,)\n",
      "train 360000 valid 90000\n",
      "training Light GBM:\n",
      "[LightGBM] [Warning] lambda_l1 is set=0.0032200842931088733, reg_alpha=0.0 will be ignored. Current value: lambda_l1=0.0032200842931088733\n",
      "[LightGBM] [Warning] bagging_fraction is set=0.7, subsample=1.0 will be ignored. Current value: bagging_fraction=0.7\n",
      "[LightGBM] [Warning] min_gain_to_split is set=3.7789559875917047, min_split_gain=0.0 will be ignored. Current value: min_gain_to_split=3.7789559875917047\n",
      "[LightGBM] [Warning] lambda_l2 is set=20, reg_lambda=0.0 will be ignored. Current value: lambda_l2=20\n",
      "[LightGBM] [Warning] feature_fraction is set=0.9, colsample_bytree=1.0 will be ignored. Current value: feature_fraction=0.9\n",
      "[LightGBM] [Warning] min_data_in_leaf is set=2800, min_child_samples=20 will be ignored. Current value: min_data_in_leaf=2800\n",
      "[LightGBM] [Warning] bagging_freq is set=1, subsample_freq=0 will be ignored. Current value: bagging_freq=1\n"
     ]
    },
    {
     "name": "stderr",
     "output_type": "stream",
     "text": [
      "\u001b[32m[I 2022-02-11 10:21:27,089]\u001b[0m Trial 120 pruned. Trial was pruned at iteration 0.\u001b[0m\n"
     ]
    },
    {
     "name": "stdout",
     "output_type": "stream",
     "text": [
      "cancelled :5218 , not_cancelled :444782\n",
      "Memory usage of dataframe is 61.19 MB\n",
      "Memory usage after optimization is: 40.59 MB\n",
      "Decreased by 33.7%\n",
      "Features : ['first_mile_distance', 'elapse1', 'elapse2', 'last_mile_distance', 'tot_dist', 'alloted_orders', 'delivered_orders', 'del_ratio', 'undelivered_orders', 'lifetime_order_count', 'Hour', 'session_time', 'Monday', 'Saturday', 'Sunday', 'Thursday', 'Tuesday', 'Wednesday', 'dist_ratio']\n",
      "cat_features []\n",
      "(450000, 19) (450000,)\n",
      "train 360000 valid 90000\n",
      "training Light GBM:\n"
     ]
    },
    {
     "name": "stderr",
     "output_type": "stream",
     "text": [
      "\u001b[32m[I 2022-02-11 10:21:31,165]\u001b[0m Trial 121 pruned. Trial was pruned at iteration 4.\u001b[0m\n"
     ]
    },
    {
     "name": "stdout",
     "output_type": "stream",
     "text": [
      "cancelled :5218 , not_cancelled :444782\n",
      "Memory usage of dataframe is 61.19 MB\n",
      "Memory usage after optimization is: 40.59 MB\n",
      "Decreased by 33.7%\n",
      "Features : ['first_mile_distance', 'elapse1', 'elapse2', 'last_mile_distance', 'tot_dist', 'alloted_orders', 'delivered_orders', 'del_ratio', 'undelivered_orders', 'lifetime_order_count', 'Hour', 'session_time', 'Monday', 'Saturday', 'Sunday', 'Thursday', 'Tuesday', 'Wednesday', 'dist_ratio']\n",
      "cat_features []\n",
      "(450000, 19) (450000,)\n",
      "train 360000 valid 90000\n",
      "training Light GBM:\n"
     ]
    },
    {
     "name": "stderr",
     "output_type": "stream",
     "text": [
      "\u001b[32m[I 2022-02-11 10:21:35,262]\u001b[0m Trial 122 pruned. Trial was pruned at iteration 5.\u001b[0m\n"
     ]
    },
    {
     "name": "stdout",
     "output_type": "stream",
     "text": [
      "cancelled :5218 , not_cancelled :444782\n",
      "Memory usage of dataframe is 61.19 MB\n",
      "Memory usage after optimization is: 40.59 MB\n",
      "Decreased by 33.7%\n",
      "Features : ['first_mile_distance', 'elapse1', 'elapse2', 'last_mile_distance', 'tot_dist', 'alloted_orders', 'delivered_orders', 'del_ratio', 'undelivered_orders', 'lifetime_order_count', 'Hour', 'session_time', 'Monday', 'Saturday', 'Sunday', 'Thursday', 'Tuesday', 'Wednesday', 'dist_ratio']\n",
      "cat_features []\n",
      "(450000, 19) (450000,)\n",
      "train 360000 valid 90000\n",
      "training Light GBM:\n",
      "score -0.748238182147771\n",
      "train 360000 valid 90000\n",
      "training Light GBM:\n",
      "[LightGBM] [Warning] lambda_l1 is set=0.002117672351226509, reg_alpha=0.0 will be ignored. Current value: lambda_l1=0.002117672351226509\n",
      "[LightGBM] [Warning] bagging_fraction is set=0.6000000000000001, subsample=1.0 will be ignored. Current value: bagging_fraction=0.6000000000000001\n",
      "[LightGBM] [Warning] min_gain_to_split is set=3.4085611754731637, min_split_gain=0.0 will be ignored. Current value: min_gain_to_split=3.4085611754731637\n",
      "[LightGBM] [Warning] lambda_l2 is set=20, reg_lambda=0.0 will be ignored. Current value: lambda_l2=20\n",
      "[LightGBM] [Warning] feature_fraction is set=0.9, colsample_bytree=1.0 will be ignored. Current value: feature_fraction=0.9\n",
      "[LightGBM] [Warning] min_data_in_leaf is set=2150, min_child_samples=20 will be ignored. Current value: min_data_in_leaf=2150\n",
      "[LightGBM] [Warning] bagging_freq is set=1, subsample_freq=0 will be ignored. Current value: bagging_freq=1\n",
      "score -0.7469702335312317\n",
      "train 360000 valid 90000\n",
      "training Light GBM:\n",
      "[LightGBM] [Warning] lambda_l1 is set=0.002117672351226509, reg_alpha=0.0 will be ignored. Current value: lambda_l1=0.002117672351226509\n",
      "[LightGBM] [Warning] bagging_fraction is set=0.6000000000000001, subsample=1.0 will be ignored. Current value: bagging_fraction=0.6000000000000001\n",
      "[LightGBM] [Warning] min_gain_to_split is set=3.4085611754731637, min_split_gain=0.0 will be ignored. Current value: min_gain_to_split=3.4085611754731637\n",
      "[LightGBM] [Warning] lambda_l2 is set=20, reg_lambda=0.0 will be ignored. Current value: lambda_l2=20\n",
      "[LightGBM] [Warning] feature_fraction is set=0.9, colsample_bytree=1.0 will be ignored. Current value: feature_fraction=0.9\n",
      "[LightGBM] [Warning] min_data_in_leaf is set=2150, min_child_samples=20 will be ignored. Current value: min_data_in_leaf=2150\n",
      "[LightGBM] [Warning] bagging_freq is set=1, subsample_freq=0 will be ignored. Current value: bagging_freq=1\n",
      "score -0.754546718089911\n",
      "train 360000 valid 90000\n",
      "training Light GBM:\n",
      "[LightGBM] [Warning] lambda_l1 is set=0.002117672351226509, reg_alpha=0.0 will be ignored. Current value: lambda_l1=0.002117672351226509\n",
      "[LightGBM] [Warning] bagging_fraction is set=0.6000000000000001, subsample=1.0 will be ignored. Current value: bagging_fraction=0.6000000000000001\n",
      "[LightGBM] [Warning] min_gain_to_split is set=3.4085611754731637, min_split_gain=0.0 will be ignored. Current value: min_gain_to_split=3.4085611754731637\n",
      "[LightGBM] [Warning] lambda_l2 is set=20, reg_lambda=0.0 will be ignored. Current value: lambda_l2=20\n",
      "[LightGBM] [Warning] feature_fraction is set=0.9, colsample_bytree=1.0 will be ignored. Current value: feature_fraction=0.9\n",
      "[LightGBM] [Warning] min_data_in_leaf is set=2150, min_child_samples=20 will be ignored. Current value: min_data_in_leaf=2150\n",
      "[LightGBM] [Warning] bagging_freq is set=1, subsample_freq=0 will be ignored. Current value: bagging_freq=1\n",
      "score -0.7576575052214889\n",
      "train 360000 valid 90000\n",
      "training Light GBM:\n",
      "[LightGBM] [Warning] lambda_l1 is set=0.002117672351226509, reg_alpha=0.0 will be ignored. Current value: lambda_l1=0.002117672351226509\n",
      "[LightGBM] [Warning] bagging_fraction is set=0.6000000000000001, subsample=1.0 will be ignored. Current value: bagging_fraction=0.6000000000000001\n",
      "[LightGBM] [Warning] min_gain_to_split is set=3.4085611754731637, min_split_gain=0.0 will be ignored. Current value: min_gain_to_split=3.4085611754731637\n",
      "[LightGBM] [Warning] lambda_l2 is set=20, reg_lambda=0.0 will be ignored. Current value: lambda_l2=20\n",
      "[LightGBM] [Warning] feature_fraction is set=0.9, colsample_bytree=1.0 will be ignored. Current value: feature_fraction=0.9\n",
      "[LightGBM] [Warning] min_data_in_leaf is set=2150, min_child_samples=20 will be ignored. Current value: min_data_in_leaf=2150\n",
      "[LightGBM] [Warning] bagging_freq is set=1, subsample_freq=0 will be ignored. Current value: bagging_freq=1\n"
     ]
    },
    {
     "name": "stderr",
     "output_type": "stream",
     "text": [
      "\u001b[32m[I 2022-02-11 10:21:49,644]\u001b[0m Trial 123 finished with value: -0.7470728463317255 and parameters: {'n_estimators': 20000, 'learning_rate': 0.3081241269175692, 'num_leaves': 2740, 'max_depth': 9, 'min_data_in_leaf': 2150, 'lambda_l1': 0.002117672351226509, 'lambda_l2': 20, 'min_gain_to_split': 3.4085611754731637, 'bagging_fraction': 0.6000000000000001, 'bagging_freq': 1, 'feature_fraction': 0.9}. Best is trial 119 with value: -0.750851069493043.\u001b[0m\n"
     ]
    },
    {
     "name": "stdout",
     "output_type": "stream",
     "text": [
      "score -0.7279515926682252\n",
      "cancelled :5218 , not_cancelled :444782\n",
      "Memory usage of dataframe is 61.19 MB\n",
      "Memory usage after optimization is: 40.59 MB\n",
      "Decreased by 33.7%\n",
      "Features : ['first_mile_distance', 'elapse1', 'elapse2', 'last_mile_distance', 'tot_dist', 'alloted_orders', 'delivered_orders', 'del_ratio', 'undelivered_orders', 'lifetime_order_count', 'Hour', 'session_time', 'Monday', 'Saturday', 'Sunday', 'Thursday', 'Tuesday', 'Wednesday', 'dist_ratio']\n",
      "cat_features []\n",
      "(450000, 19) (450000,)\n",
      "train 360000 valid 90000\n",
      "training Light GBM:\n",
      "[LightGBM] [Warning] lambda_l1 is set=0.007012016277843143, reg_alpha=0.0 will be ignored. Current value: lambda_l1=0.007012016277843143\n",
      "[LightGBM] [Warning] bagging_fraction is set=0.7, subsample=1.0 will be ignored. Current value: bagging_fraction=0.7\n",
      "[LightGBM] [Warning] min_gain_to_split is set=2.339259534210291, min_split_gain=0.0 will be ignored. Current value: min_gain_to_split=2.339259534210291\n",
      "[LightGBM] [Warning] lambda_l2 is set=5, reg_lambda=0.0 will be ignored. Current value: lambda_l2=5\n",
      "[LightGBM] [Warning] feature_fraction is set=0.9, colsample_bytree=1.0 will be ignored. Current value: feature_fraction=0.9\n",
      "[LightGBM] [Warning] min_data_in_leaf is set=2000, min_child_samples=20 will be ignored. Current value: min_data_in_leaf=2000\n",
      "[LightGBM] [Warning] bagging_freq is set=1, subsample_freq=0 will be ignored. Current value: bagging_freq=1\n"
     ]
    },
    {
     "name": "stderr",
     "output_type": "stream",
     "text": [
      "\u001b[32m[I 2022-02-11 10:21:53,691]\u001b[0m Trial 124 pruned. Trial was pruned at iteration 10.\u001b[0m\n"
     ]
    },
    {
     "name": "stdout",
     "output_type": "stream",
     "text": [
      "cancelled :5218 , not_cancelled :444782\n",
      "Memory usage of dataframe is 61.19 MB\n",
      "Memory usage after optimization is: 40.59 MB\n",
      "Decreased by 33.7%\n",
      "Features : ['first_mile_distance', 'elapse1', 'elapse2', 'last_mile_distance', 'tot_dist', 'alloted_orders', 'delivered_orders', 'del_ratio', 'undelivered_orders', 'lifetime_order_count', 'Hour', 'session_time', 'Monday', 'Saturday', 'Sunday', 'Thursday', 'Tuesday', 'Wednesday', 'dist_ratio']\n",
      "cat_features []\n",
      "(450000, 19) (450000,)\n",
      "train 360000 valid 90000\n",
      "training Light GBM:\n"
     ]
    },
    {
     "name": "stderr",
     "output_type": "stream",
     "text": [
      "\u001b[32m[I 2022-02-11 10:21:57,652]\u001b[0m Trial 125 pruned. Trial was pruned at iteration 3.\u001b[0m\n"
     ]
    },
    {
     "name": "stdout",
     "output_type": "stream",
     "text": [
      "cancelled :5218 , not_cancelled :444782\n",
      "Memory usage of dataframe is 61.19 MB\n",
      "Memory usage after optimization is: 40.59 MB\n",
      "Decreased by 33.7%\n",
      "Features : ['first_mile_distance', 'elapse1', 'elapse2', 'last_mile_distance', 'tot_dist', 'alloted_orders', 'delivered_orders', 'del_ratio', 'undelivered_orders', 'lifetime_order_count', 'Hour', 'session_time', 'Monday', 'Saturday', 'Sunday', 'Thursday', 'Tuesday', 'Wednesday', 'dist_ratio']\n",
      "cat_features []\n",
      "(450000, 19) (450000,)\n",
      "train 360000 valid 90000\n",
      "training Light GBM:\n"
     ]
    },
    {
     "name": "stderr",
     "output_type": "stream",
     "text": [
      "\u001b[32m[I 2022-02-11 10:22:01,806]\u001b[0m Trial 126 pruned. Trial was pruned at iteration 10.\u001b[0m\n"
     ]
    },
    {
     "name": "stdout",
     "output_type": "stream",
     "text": [
      "cancelled :5218 , not_cancelled :444782\n",
      "Memory usage of dataframe is 61.19 MB\n",
      "Memory usage after optimization is: 40.59 MB\n",
      "Decreased by 33.7%\n",
      "Features : ['first_mile_distance', 'elapse1', 'elapse2', 'last_mile_distance', 'tot_dist', 'alloted_orders', 'delivered_orders', 'del_ratio', 'undelivered_orders', 'lifetime_order_count', 'Hour', 'session_time', 'Monday', 'Saturday', 'Sunday', 'Thursday', 'Tuesday', 'Wednesday', 'dist_ratio']\n",
      "cat_features []\n",
      "(450000, 19) (450000,)\n",
      "train 360000 valid 90000\n",
      "training Light GBM:\n"
     ]
    },
    {
     "name": "stderr",
     "output_type": "stream",
     "text": [
      "\u001b[32m[I 2022-02-11 10:22:05,724]\u001b[0m Trial 127 pruned. Trial was pruned at iteration 2.\u001b[0m\n"
     ]
    },
    {
     "name": "stdout",
     "output_type": "stream",
     "text": [
      "cancelled :5218 , not_cancelled :444782\n",
      "Memory usage of dataframe is 61.19 MB\n",
      "Memory usage after optimization is: 40.59 MB\n",
      "Decreased by 33.7%\n",
      "Features : ['first_mile_distance', 'elapse1', 'elapse2', 'last_mile_distance', 'tot_dist', 'alloted_orders', 'delivered_orders', 'del_ratio', 'undelivered_orders', 'lifetime_order_count', 'Hour', 'session_time', 'Monday', 'Saturday', 'Sunday', 'Thursday', 'Tuesday', 'Wednesday', 'dist_ratio']\n",
      "cat_features []\n",
      "(450000, 19) (450000,)\n",
      "train 360000 valid 90000\n",
      "training Light GBM:\n"
     ]
    },
    {
     "name": "stderr",
     "output_type": "stream",
     "text": [
      "\u001b[32m[I 2022-02-11 10:22:09,634]\u001b[0m Trial 128 pruned. Trial was pruned at iteration 0.\u001b[0m\n"
     ]
    },
    {
     "name": "stdout",
     "output_type": "stream",
     "text": [
      "cancelled :5218 , not_cancelled :444782\n",
      "Memory usage of dataframe is 61.19 MB\n",
      "Memory usage after optimization is: 40.59 MB\n",
      "Decreased by 33.7%\n",
      "Features : ['first_mile_distance', 'elapse1', 'elapse2', 'last_mile_distance', 'tot_dist', 'alloted_orders', 'delivered_orders', 'del_ratio', 'undelivered_orders', 'lifetime_order_count', 'Hour', 'session_time', 'Monday', 'Saturday', 'Sunday', 'Thursday', 'Tuesday', 'Wednesday', 'dist_ratio']\n",
      "cat_features []\n",
      "(450000, 19) (450000,)\n",
      "train 360000 valid 90000\n",
      "training Light GBM:\n"
     ]
    },
    {
     "name": "stderr",
     "output_type": "stream",
     "text": [
      "\u001b[32m[I 2022-02-11 10:22:13,762]\u001b[0m Trial 129 pruned. Trial was pruned at iteration 10.\u001b[0m\n"
     ]
    },
    {
     "name": "stdout",
     "output_type": "stream",
     "text": [
      "cancelled :5218 , not_cancelled :444782\n",
      "Memory usage of dataframe is 61.19 MB\n",
      "Memory usage after optimization is: 40.59 MB\n",
      "Decreased by 33.7%\n",
      "Features : ['first_mile_distance', 'elapse1', 'elapse2', 'last_mile_distance', 'tot_dist', 'alloted_orders', 'delivered_orders', 'del_ratio', 'undelivered_orders', 'lifetime_order_count', 'Hour', 'session_time', 'Monday', 'Saturday', 'Sunday', 'Thursday', 'Tuesday', 'Wednesday', 'dist_ratio']\n",
      "cat_features []\n",
      "(450000, 19) (450000,)\n",
      "train 360000 valid 90000\n",
      "training Light GBM:\n",
      "score -0.7537712399015194\n",
      "train 360000 valid 90000\n",
      "training Light GBM:\n",
      "[LightGBM] [Warning] lambda_l1 is set=0.0016118053526835419, reg_alpha=0.0 will be ignored. Current value: lambda_l1=0.0016118053526835419\n",
      "[LightGBM] [Warning] bagging_fraction is set=0.7, subsample=1.0 will be ignored. Current value: bagging_fraction=0.7\n",
      "[LightGBM] [Warning] min_gain_to_split is set=4.086007126863788, min_split_gain=0.0 will be ignored. Current value: min_gain_to_split=4.086007126863788\n",
      "[LightGBM] [Warning] lambda_l2 is set=20, reg_lambda=0.0 will be ignored. Current value: lambda_l2=20\n",
      "[LightGBM] [Warning] feature_fraction is set=0.8, colsample_bytree=1.0 will be ignored. Current value: feature_fraction=0.8\n",
      "[LightGBM] [Warning] min_data_in_leaf is set=2100, min_child_samples=20 will be ignored. Current value: min_data_in_leaf=2100\n",
      "[LightGBM] [Warning] bagging_freq is set=1, subsample_freq=0 will be ignored. Current value: bagging_freq=1\n",
      "score -0.7413330501466817\n",
      "train 360000 valid 90000\n",
      "training Light GBM:\n",
      "[LightGBM] [Warning] lambda_l1 is set=0.0016118053526835419, reg_alpha=0.0 will be ignored. Current value: lambda_l1=0.0016118053526835419\n",
      "[LightGBM] [Warning] bagging_fraction is set=0.7, subsample=1.0 will be ignored. Current value: bagging_fraction=0.7\n",
      "[LightGBM] [Warning] min_gain_to_split is set=4.086007126863788, min_split_gain=0.0 will be ignored. Current value: min_gain_to_split=4.086007126863788\n",
      "[LightGBM] [Warning] lambda_l2 is set=20, reg_lambda=0.0 will be ignored. Current value: lambda_l2=20\n",
      "[LightGBM] [Warning] feature_fraction is set=0.8, colsample_bytree=1.0 will be ignored. Current value: feature_fraction=0.8\n",
      "[LightGBM] [Warning] min_data_in_leaf is set=2100, min_child_samples=20 will be ignored. Current value: min_data_in_leaf=2100\n",
      "[LightGBM] [Warning] bagging_freq is set=1, subsample_freq=0 will be ignored. Current value: bagging_freq=1\n",
      "score -0.7437057758461327\n",
      "train 360000 valid 90000\n",
      "training Light GBM:\n",
      "[LightGBM] [Warning] lambda_l1 is set=0.0016118053526835419, reg_alpha=0.0 will be ignored. Current value: lambda_l1=0.0016118053526835419\n",
      "[LightGBM] [Warning] bagging_fraction is set=0.7, subsample=1.0 will be ignored. Current value: bagging_fraction=0.7\n",
      "[LightGBM] [Warning] min_gain_to_split is set=4.086007126863788, min_split_gain=0.0 will be ignored. Current value: min_gain_to_split=4.086007126863788\n",
      "[LightGBM] [Warning] lambda_l2 is set=20, reg_lambda=0.0 will be ignored. Current value: lambda_l2=20\n",
      "[LightGBM] [Warning] feature_fraction is set=0.8, colsample_bytree=1.0 will be ignored. Current value: feature_fraction=0.8\n",
      "[LightGBM] [Warning] min_data_in_leaf is set=2100, min_child_samples=20 will be ignored. Current value: min_data_in_leaf=2100\n",
      "[LightGBM] [Warning] bagging_freq is set=1, subsample_freq=0 will be ignored. Current value: bagging_freq=1\n",
      "score -0.734879632472311\n",
      "train 360000 valid 90000\n",
      "training Light GBM:\n",
      "[LightGBM] [Warning] lambda_l1 is set=0.0016118053526835419, reg_alpha=0.0 will be ignored. Current value: lambda_l1=0.0016118053526835419\n",
      "[LightGBM] [Warning] bagging_fraction is set=0.7, subsample=1.0 will be ignored. Current value: bagging_fraction=0.7\n",
      "[LightGBM] [Warning] min_gain_to_split is set=4.086007126863788, min_split_gain=0.0 will be ignored. Current value: min_gain_to_split=4.086007126863788\n",
      "[LightGBM] [Warning] lambda_l2 is set=20, reg_lambda=0.0 will be ignored. Current value: lambda_l2=20\n",
      "[LightGBM] [Warning] feature_fraction is set=0.8, colsample_bytree=1.0 will be ignored. Current value: feature_fraction=0.8\n",
      "[LightGBM] [Warning] min_data_in_leaf is set=2100, min_child_samples=20 will be ignored. Current value: min_data_in_leaf=2100\n",
      "[LightGBM] [Warning] bagging_freq is set=1, subsample_freq=0 will be ignored. Current value: bagging_freq=1\n"
     ]
    },
    {
     "name": "stderr",
     "output_type": "stream",
     "text": [
      "\u001b[32m[I 2022-02-11 10:22:25,869]\u001b[0m Trial 130 finished with value: -0.7458069106175074 and parameters: {'n_estimators': 20000, 'learning_rate': 0.4115192266955661, 'num_leaves': 486, 'max_depth': 11, 'min_data_in_leaf': 2100, 'lambda_l1': 0.0016118053526835419, 'lambda_l2': 20, 'min_gain_to_split': 4.086007126863788, 'bagging_fraction': 0.7, 'bagging_freq': 1, 'feature_fraction': 0.8}. Best is trial 119 with value: -0.750851069493043.\u001b[0m\n"
     ]
    },
    {
     "name": "stdout",
     "output_type": "stream",
     "text": [
      "score -0.7553448547208925\n",
      "cancelled :5218 , not_cancelled :444782\n",
      "Memory usage of dataframe is 61.19 MB\n",
      "Memory usage after optimization is: 40.59 MB\n",
      "Decreased by 33.7%\n",
      "Features : ['first_mile_distance', 'elapse1', 'elapse2', 'last_mile_distance', 'tot_dist', 'alloted_orders', 'delivered_orders', 'del_ratio', 'undelivered_orders', 'lifetime_order_count', 'Hour', 'session_time', 'Monday', 'Saturday', 'Sunday', 'Thursday', 'Tuesday', 'Wednesday', 'dist_ratio']\n",
      "cat_features []\n",
      "(450000, 19) (450000,)\n",
      "train 360000 valid 90000\n",
      "training Light GBM:\n",
      "[LightGBM] [Warning] lambda_l1 is set=2.9989153260745023, reg_alpha=0.0 will be ignored. Current value: lambda_l1=2.9989153260745023\n",
      "[LightGBM] [Warning] bagging_fraction is set=0.8, subsample=1.0 will be ignored. Current value: bagging_fraction=0.8\n",
      "[LightGBM] [Warning] min_gain_to_split is set=5.0315714154328095, min_split_gain=0.0 will be ignored. Current value: min_gain_to_split=5.0315714154328095\n",
      "[LightGBM] [Warning] lambda_l2 is set=15, reg_lambda=0.0 will be ignored. Current value: lambda_l2=15\n",
      "[LightGBM] [Warning] feature_fraction is set=0.5, colsample_bytree=1.0 will be ignored. Current value: feature_fraction=0.5\n",
      "[LightGBM] [Warning] min_data_in_leaf is set=900, min_child_samples=20 will be ignored. Current value: min_data_in_leaf=900\n",
      "[LightGBM] [Warning] bagging_freq is set=1, subsample_freq=0 will be ignored. Current value: bagging_freq=1\n"
     ]
    },
    {
     "name": "stderr",
     "output_type": "stream",
     "text": [
      "\u001b[32m[I 2022-02-11 10:22:29,872]\u001b[0m Trial 131 pruned. Trial was pruned at iteration 9.\u001b[0m\n"
     ]
    },
    {
     "name": "stdout",
     "output_type": "stream",
     "text": [
      "cancelled :5218 , not_cancelled :444782\n",
      "Memory usage of dataframe is 61.19 MB\n",
      "Memory usage after optimization is: 40.59 MB\n",
      "Decreased by 33.7%\n",
      "Features : ['first_mile_distance', 'elapse1', 'elapse2', 'last_mile_distance', 'tot_dist', 'alloted_orders', 'delivered_orders', 'del_ratio', 'undelivered_orders', 'lifetime_order_count', 'Hour', 'session_time', 'Monday', 'Saturday', 'Sunday', 'Thursday', 'Tuesday', 'Wednesday', 'dist_ratio']\n",
      "cat_features []\n",
      "(450000, 19) (450000,)\n",
      "train 360000 valid 90000\n",
      "training Light GBM:\n"
     ]
    },
    {
     "name": "stderr",
     "output_type": "stream",
     "text": [
      "\u001b[32m[I 2022-02-11 10:22:34,062]\u001b[0m Trial 132 pruned. Trial was pruned at iteration 12.\u001b[0m\n"
     ]
    },
    {
     "name": "stdout",
     "output_type": "stream",
     "text": [
      "cancelled :5218 , not_cancelled :444782\n",
      "Memory usage of dataframe is 61.19 MB\n",
      "Memory usage after optimization is: 40.59 MB\n",
      "Decreased by 33.7%\n",
      "Features : ['first_mile_distance', 'elapse1', 'elapse2', 'last_mile_distance', 'tot_dist', 'alloted_orders', 'delivered_orders', 'del_ratio', 'undelivered_orders', 'lifetime_order_count', 'Hour', 'session_time', 'Monday', 'Saturday', 'Sunday', 'Thursday', 'Tuesday', 'Wednesday', 'dist_ratio']\n",
      "cat_features []\n",
      "(450000, 19) (450000,)\n",
      "train 360000 valid 90000\n",
      "training Light GBM:\n",
      "score -0.7588582689789116\n",
      "train 360000 valid 90000\n",
      "training Light GBM:\n",
      "[LightGBM] [Warning] lambda_l1 is set=0.06799932844805467, reg_alpha=0.0 will be ignored. Current value: lambda_l1=0.06799932844805467\n",
      "[LightGBM] [Warning] bagging_fraction is set=0.8, subsample=1.0 will be ignored. Current value: bagging_fraction=0.8\n",
      "[LightGBM] [Warning] min_gain_to_split is set=4.428018943671857, min_split_gain=0.0 will be ignored. Current value: min_gain_to_split=4.428018943671857\n",
      "[LightGBM] [Warning] lambda_l2 is set=55, reg_lambda=0.0 will be ignored. Current value: lambda_l2=55\n",
      "[LightGBM] [Warning] feature_fraction is set=0.6000000000000001, colsample_bytree=1.0 will be ignored. Current value: feature_fraction=0.6000000000000001\n",
      "[LightGBM] [Warning] min_data_in_leaf is set=1200, min_child_samples=20 will be ignored. Current value: min_data_in_leaf=1200\n",
      "[LightGBM] [Warning] bagging_freq is set=1, subsample_freq=0 will be ignored. Current value: bagging_freq=1\n",
      "score -0.7436148898940702\n",
      "train 360000 valid 90000\n",
      "training Light GBM:\n",
      "[LightGBM] [Warning] lambda_l1 is set=0.06799932844805467, reg_alpha=0.0 will be ignored. Current value: lambda_l1=0.06799932844805467\n",
      "[LightGBM] [Warning] bagging_fraction is set=0.8, subsample=1.0 will be ignored. Current value: bagging_fraction=0.8\n",
      "[LightGBM] [Warning] min_gain_to_split is set=4.428018943671857, min_split_gain=0.0 will be ignored. Current value: min_gain_to_split=4.428018943671857\n",
      "[LightGBM] [Warning] lambda_l2 is set=55, reg_lambda=0.0 will be ignored. Current value: lambda_l2=55\n",
      "[LightGBM] [Warning] feature_fraction is set=0.6000000000000001, colsample_bytree=1.0 will be ignored. Current value: feature_fraction=0.6000000000000001\n",
      "[LightGBM] [Warning] min_data_in_leaf is set=1200, min_child_samples=20 will be ignored. Current value: min_data_in_leaf=1200\n",
      "[LightGBM] [Warning] bagging_freq is set=1, subsample_freq=0 will be ignored. Current value: bagging_freq=1\n",
      "score -0.7601022434958159\n",
      "train 360000 valid 90000\n",
      "training Light GBM:\n",
      "[LightGBM] [Warning] lambda_l1 is set=0.06799932844805467, reg_alpha=0.0 will be ignored. Current value: lambda_l1=0.06799932844805467\n",
      "[LightGBM] [Warning] bagging_fraction is set=0.8, subsample=1.0 will be ignored. Current value: bagging_fraction=0.8\n",
      "[LightGBM] [Warning] min_gain_to_split is set=4.428018943671857, min_split_gain=0.0 will be ignored. Current value: min_gain_to_split=4.428018943671857\n",
      "[LightGBM] [Warning] lambda_l2 is set=55, reg_lambda=0.0 will be ignored. Current value: lambda_l2=55\n",
      "[LightGBM] [Warning] feature_fraction is set=0.6000000000000001, colsample_bytree=1.0 will be ignored. Current value: feature_fraction=0.6000000000000001\n",
      "[LightGBM] [Warning] min_data_in_leaf is set=1200, min_child_samples=20 will be ignored. Current value: min_data_in_leaf=1200\n",
      "[LightGBM] [Warning] bagging_freq is set=1, subsample_freq=0 will be ignored. Current value: bagging_freq=1\n",
      "score -0.7386701219458619\n",
      "train 360000 valid 90000\n",
      "training Light GBM:\n",
      "[LightGBM] [Warning] lambda_l1 is set=0.06799932844805467, reg_alpha=0.0 will be ignored. Current value: lambda_l1=0.06799932844805467\n",
      "[LightGBM] [Warning] bagging_fraction is set=0.8, subsample=1.0 will be ignored. Current value: bagging_fraction=0.8\n",
      "[LightGBM] [Warning] min_gain_to_split is set=4.428018943671857, min_split_gain=0.0 will be ignored. Current value: min_gain_to_split=4.428018943671857\n",
      "[LightGBM] [Warning] lambda_l2 is set=55, reg_lambda=0.0 will be ignored. Current value: lambda_l2=55\n",
      "[LightGBM] [Warning] feature_fraction is set=0.6000000000000001, colsample_bytree=1.0 will be ignored. Current value: feature_fraction=0.6000000000000001\n",
      "[LightGBM] [Warning] min_data_in_leaf is set=1200, min_child_samples=20 will be ignored. Current value: min_data_in_leaf=1200\n",
      "[LightGBM] [Warning] bagging_freq is set=1, subsample_freq=0 will be ignored. Current value: bagging_freq=1\n"
     ]
    },
    {
     "name": "stderr",
     "output_type": "stream",
     "text": [
      "\u001b[32m[I 2022-02-11 10:22:48,686]\u001b[0m Trial 133 finished with value: -0.7472666303380947 and parameters: {'n_estimators': 10000, 'learning_rate': 0.36570363094136704, 'num_leaves': 3000, 'max_depth': 8, 'min_data_in_leaf': 1200, 'lambda_l1': 0.06799932844805467, 'lambda_l2': 55, 'min_gain_to_split': 4.428018943671857, 'bagging_fraction': 0.8, 'bagging_freq': 1, 'feature_fraction': 0.6000000000000001}. Best is trial 119 with value: -0.750851069493043.\u001b[0m\n"
     ]
    },
    {
     "name": "stdout",
     "output_type": "stream",
     "text": [
      "score -0.735087627375814\n",
      "cancelled :5218 , not_cancelled :444782\n",
      "Memory usage of dataframe is 61.19 MB\n",
      "Memory usage after optimization is: 40.59 MB\n",
      "Decreased by 33.7%\n",
      "Features : ['first_mile_distance', 'elapse1', 'elapse2', 'last_mile_distance', 'tot_dist', 'alloted_orders', 'delivered_orders', 'del_ratio', 'undelivered_orders', 'lifetime_order_count', 'Hour', 'session_time', 'Monday', 'Saturday', 'Sunday', 'Thursday', 'Tuesday', 'Wednesday', 'dist_ratio']\n",
      "cat_features []\n",
      "(450000, 19) (450000,)\n",
      "train 360000 valid 90000\n",
      "training Light GBM:\n",
      "[LightGBM] [Warning] lambda_l1 is set=1.0230234120998765e-08, reg_alpha=0.0 will be ignored. Current value: lambda_l1=1.0230234120998765e-08\n",
      "[LightGBM] [Warning] bagging_fraction is set=0.7, subsample=1.0 will be ignored. Current value: bagging_fraction=0.7\n",
      "[LightGBM] [Warning] min_gain_to_split is set=3.8113531904281386, min_split_gain=0.0 will be ignored. Current value: min_gain_to_split=3.8113531904281386\n",
      "[LightGBM] [Warning] lambda_l2 is set=55, reg_lambda=0.0 will be ignored. Current value: lambda_l2=55\n",
      "[LightGBM] [Warning] feature_fraction is set=0.6000000000000001, colsample_bytree=1.0 will be ignored. Current value: feature_fraction=0.6000000000000001\n",
      "[LightGBM] [Warning] min_data_in_leaf is set=1900, min_child_samples=20 will be ignored. Current value: min_data_in_leaf=1900\n",
      "[LightGBM] [Warning] bagging_freq is set=1, subsample_freq=0 will be ignored. Current value: bagging_freq=1\n"
     ]
    },
    {
     "name": "stderr",
     "output_type": "stream",
     "text": [
      "\u001b[32m[I 2022-02-11 10:22:52,622]\u001b[0m Trial 134 pruned. Trial was pruned at iteration 0.\u001b[0m\n"
     ]
    },
    {
     "name": "stdout",
     "output_type": "stream",
     "text": [
      "cancelled :5218 , not_cancelled :444782\n",
      "Memory usage of dataframe is 61.19 MB\n",
      "Memory usage after optimization is: 40.59 MB\n",
      "Decreased by 33.7%\n",
      "Features : ['first_mile_distance', 'elapse1', 'elapse2', 'last_mile_distance', 'tot_dist', 'alloted_orders', 'delivered_orders', 'del_ratio', 'undelivered_orders', 'lifetime_order_count', 'Hour', 'session_time', 'Monday', 'Saturday', 'Sunday', 'Thursday', 'Tuesday', 'Wednesday', 'dist_ratio']\n",
      "cat_features []\n",
      "(450000, 19) (450000,)\n",
      "train 360000 valid 90000\n",
      "training Light GBM:\n"
     ]
    },
    {
     "name": "stderr",
     "output_type": "stream",
     "text": [
      "\u001b[32m[I 2022-02-11 10:22:56,662]\u001b[0m Trial 135 pruned. Trial was pruned at iteration 4.\u001b[0m\n"
     ]
    },
    {
     "name": "stdout",
     "output_type": "stream",
     "text": [
      "cancelled :5218 , not_cancelled :444782\n",
      "Memory usage of dataframe is 61.19 MB\n",
      "Memory usage after optimization is: 40.59 MB\n",
      "Decreased by 33.7%\n",
      "Features : ['first_mile_distance', 'elapse1', 'elapse2', 'last_mile_distance', 'tot_dist', 'alloted_orders', 'delivered_orders', 'del_ratio', 'undelivered_orders', 'lifetime_order_count', 'Hour', 'session_time', 'Monday', 'Saturday', 'Sunday', 'Thursday', 'Tuesday', 'Wednesday', 'dist_ratio']\n",
      "cat_features []\n",
      "(450000, 19) (450000,)\n",
      "train 360000 valid 90000\n",
      "training Light GBM:\n"
     ]
    },
    {
     "name": "stderr",
     "output_type": "stream",
     "text": [
      "\u001b[32m[I 2022-02-11 10:23:00,612]\u001b[0m Trial 136 pruned. Trial was pruned at iteration 0.\u001b[0m\n"
     ]
    },
    {
     "name": "stdout",
     "output_type": "stream",
     "text": [
      "cancelled :5218 , not_cancelled :444782\n",
      "Memory usage of dataframe is 61.19 MB\n",
      "Memory usage after optimization is: 40.59 MB\n",
      "Decreased by 33.7%\n",
      "Features : ['first_mile_distance', 'elapse1', 'elapse2', 'last_mile_distance', 'tot_dist', 'alloted_orders', 'delivered_orders', 'del_ratio', 'undelivered_orders', 'lifetime_order_count', 'Hour', 'session_time', 'Monday', 'Saturday', 'Sunday', 'Thursday', 'Tuesday', 'Wednesday', 'dist_ratio']\n",
      "cat_features []\n",
      "(450000, 19) (450000,)\n",
      "train 360000 valid 90000\n",
      "training Light GBM:\n"
     ]
    },
    {
     "name": "stderr",
     "output_type": "stream",
     "text": [
      "\u001b[32m[I 2022-02-11 10:23:04,468]\u001b[0m Trial 137 pruned. Trial was pruned at iteration 0.\u001b[0m\n"
     ]
    },
    {
     "name": "stdout",
     "output_type": "stream",
     "text": [
      "cancelled :5218 , not_cancelled :444782\n",
      "Memory usage of dataframe is 61.19 MB\n",
      "Memory usage after optimization is: 40.59 MB\n",
      "Decreased by 33.7%\n",
      "Features : ['first_mile_distance', 'elapse1', 'elapse2', 'last_mile_distance', 'tot_dist', 'alloted_orders', 'delivered_orders', 'del_ratio', 'undelivered_orders', 'lifetime_order_count', 'Hour', 'session_time', 'Monday', 'Saturday', 'Sunday', 'Thursday', 'Tuesday', 'Wednesday', 'dist_ratio']\n",
      "cat_features []\n",
      "(450000, 19) (450000,)\n",
      "train 360000 valid 90000\n",
      "training Light GBM:\n",
      "score -0.7512948530369812\n",
      "train 360000 valid 90000\n",
      "training Light GBM:\n",
      "[LightGBM] [Warning] lambda_l1 is set=1.1107931957727255, reg_alpha=0.0 will be ignored. Current value: lambda_l1=1.1107931957727255\n",
      "[LightGBM] [Warning] bagging_fraction is set=0.8, subsample=1.0 will be ignored. Current value: bagging_fraction=0.8\n",
      "[LightGBM] [Warning] min_gain_to_split is set=3.587018800630459, min_split_gain=0.0 will be ignored. Current value: min_gain_to_split=3.587018800630459\n",
      "[LightGBM] [Warning] lambda_l2 is set=25, reg_lambda=0.0 will be ignored. Current value: lambda_l2=25\n",
      "[LightGBM] [Warning] feature_fraction is set=0.6000000000000001, colsample_bytree=1.0 will be ignored. Current value: feature_fraction=0.6000000000000001\n",
      "[LightGBM] [Warning] min_data_in_leaf is set=1700, min_child_samples=20 will be ignored. Current value: min_data_in_leaf=1700\n",
      "[LightGBM] [Warning] bagging_freq is set=1, subsample_freq=0 will be ignored. Current value: bagging_freq=1\n",
      "score -0.7539684168348284\n",
      "train 360000 valid 90000\n",
      "training Light GBM:\n",
      "[LightGBM] [Warning] lambda_l1 is set=1.1107931957727255, reg_alpha=0.0 will be ignored. Current value: lambda_l1=1.1107931957727255\n",
      "[LightGBM] [Warning] bagging_fraction is set=0.8, subsample=1.0 will be ignored. Current value: bagging_fraction=0.8\n",
      "[LightGBM] [Warning] min_gain_to_split is set=3.587018800630459, min_split_gain=0.0 will be ignored. Current value: min_gain_to_split=3.587018800630459\n",
      "[LightGBM] [Warning] lambda_l2 is set=25, reg_lambda=0.0 will be ignored. Current value: lambda_l2=25\n",
      "[LightGBM] [Warning] feature_fraction is set=0.6000000000000001, colsample_bytree=1.0 will be ignored. Current value: feature_fraction=0.6000000000000001\n",
      "[LightGBM] [Warning] min_data_in_leaf is set=1700, min_child_samples=20 will be ignored. Current value: min_data_in_leaf=1700\n",
      "[LightGBM] [Warning] bagging_freq is set=1, subsample_freq=0 will be ignored. Current value: bagging_freq=1\n",
      "score -0.757651588352518\n",
      "train 360000 valid 90000\n",
      "training Light GBM:\n",
      "[LightGBM] [Warning] lambda_l1 is set=1.1107931957727255, reg_alpha=0.0 will be ignored. Current value: lambda_l1=1.1107931957727255\n",
      "[LightGBM] [Warning] bagging_fraction is set=0.8, subsample=1.0 will be ignored. Current value: bagging_fraction=0.8\n",
      "[LightGBM] [Warning] min_gain_to_split is set=3.587018800630459, min_split_gain=0.0 will be ignored. Current value: min_gain_to_split=3.587018800630459\n",
      "[LightGBM] [Warning] lambda_l2 is set=25, reg_lambda=0.0 will be ignored. Current value: lambda_l2=25\n",
      "[LightGBM] [Warning] feature_fraction is set=0.6000000000000001, colsample_bytree=1.0 will be ignored. Current value: feature_fraction=0.6000000000000001\n",
      "[LightGBM] [Warning] min_data_in_leaf is set=1700, min_child_samples=20 will be ignored. Current value: min_data_in_leaf=1700\n",
      "[LightGBM] [Warning] bagging_freq is set=1, subsample_freq=0 will be ignored. Current value: bagging_freq=1\n",
      "score -0.7430968821126256\n",
      "train 360000 valid 90000\n",
      "training Light GBM:\n",
      "[LightGBM] [Warning] lambda_l1 is set=1.1107931957727255, reg_alpha=0.0 will be ignored. Current value: lambda_l1=1.1107931957727255\n",
      "[LightGBM] [Warning] bagging_fraction is set=0.8, subsample=1.0 will be ignored. Current value: bagging_fraction=0.8\n",
      "[LightGBM] [Warning] min_gain_to_split is set=3.587018800630459, min_split_gain=0.0 will be ignored. Current value: min_gain_to_split=3.587018800630459\n",
      "[LightGBM] [Warning] lambda_l2 is set=25, reg_lambda=0.0 will be ignored. Current value: lambda_l2=25\n",
      "[LightGBM] [Warning] feature_fraction is set=0.6000000000000001, colsample_bytree=1.0 will be ignored. Current value: feature_fraction=0.6000000000000001\n",
      "[LightGBM] [Warning] min_data_in_leaf is set=1700, min_child_samples=20 will be ignored. Current value: min_data_in_leaf=1700\n",
      "[LightGBM] [Warning] bagging_freq is set=1, subsample_freq=0 will be ignored. Current value: bagging_freq=1\n"
     ]
    },
    {
     "name": "stderr",
     "output_type": "stream",
     "text": [
      "\u001b[32m[I 2022-02-11 10:23:19,509]\u001b[0m Trial 138 finished with value: -0.75040917213074 and parameters: {'n_estimators': 10000, 'learning_rate': 0.29665085367501964, 'num_leaves': 2996, 'max_depth': 8, 'min_data_in_leaf': 1700, 'lambda_l1': 1.1107931957727255, 'lambda_l2': 25, 'min_gain_to_split': 3.587018800630459, 'bagging_fraction': 0.8, 'bagging_freq': 1, 'feature_fraction': 0.6000000000000001}. Best is trial 119 with value: -0.750851069493043.\u001b[0m\n"
     ]
    },
    {
     "name": "stdout",
     "output_type": "stream",
     "text": [
      "score -0.7460341203167471\n",
      "cancelled :5218 , not_cancelled :444782\n",
      "Memory usage of dataframe is 61.19 MB\n",
      "Memory usage after optimization is: 40.59 MB\n",
      "Decreased by 33.7%\n",
      "Features : ['first_mile_distance', 'elapse1', 'elapse2', 'last_mile_distance', 'tot_dist', 'alloted_orders', 'delivered_orders', 'del_ratio', 'undelivered_orders', 'lifetime_order_count', 'Hour', 'session_time', 'Monday', 'Saturday', 'Sunday', 'Thursday', 'Tuesday', 'Wednesday', 'dist_ratio']\n",
      "cat_features []\n",
      "(450000, 19) (450000,)\n",
      "train 360000 valid 90000\n",
      "training Light GBM:\n",
      "[LightGBM] [Warning] lambda_l1 is set=1.316307061133922, reg_alpha=0.0 will be ignored. Current value: lambda_l1=1.316307061133922\n",
      "[LightGBM] [Warning] bagging_fraction is set=0.8, subsample=1.0 will be ignored. Current value: bagging_fraction=0.8\n",
      "[LightGBM] [Warning] min_gain_to_split is set=12.065454324904557, min_split_gain=0.0 will be ignored. Current value: min_gain_to_split=12.065454324904557\n",
      "[LightGBM] [Warning] lambda_l2 is set=25, reg_lambda=0.0 will be ignored. Current value: lambda_l2=25\n",
      "[LightGBM] [Warning] feature_fraction is set=0.6000000000000001, colsample_bytree=1.0 will be ignored. Current value: feature_fraction=0.6000000000000001\n",
      "[LightGBM] [Warning] min_data_in_leaf is set=1750, min_child_samples=20 will be ignored. Current value: min_data_in_leaf=1750\n",
      "[LightGBM] [Warning] bagging_freq is set=1, subsample_freq=0 will be ignored. Current value: bagging_freq=1\n"
     ]
    },
    {
     "name": "stderr",
     "output_type": "stream",
     "text": [
      "\u001b[32m[I 2022-02-11 10:23:23,485]\u001b[0m Trial 139 pruned. Trial was pruned at iteration 5.\u001b[0m\n"
     ]
    },
    {
     "name": "stdout",
     "output_type": "stream",
     "text": [
      "cancelled :5218 , not_cancelled :444782\n",
      "Memory usage of dataframe is 61.19 MB\n",
      "Memory usage after optimization is: 40.59 MB\n",
      "Decreased by 33.7%\n",
      "Features : ['first_mile_distance', 'elapse1', 'elapse2', 'last_mile_distance', 'tot_dist', 'alloted_orders', 'delivered_orders', 'del_ratio', 'undelivered_orders', 'lifetime_order_count', 'Hour', 'session_time', 'Monday', 'Saturday', 'Sunday', 'Thursday', 'Tuesday', 'Wednesday', 'dist_ratio']\n",
      "cat_features []\n",
      "(450000, 19) (450000,)\n",
      "train 360000 valid 90000\n",
      "training Light GBM:\n"
     ]
    },
    {
     "name": "stderr",
     "output_type": "stream",
     "text": [
      "\u001b[32m[I 2022-02-11 10:23:27,526]\u001b[0m Trial 140 pruned. Trial was pruned at iteration 0.\u001b[0m\n"
     ]
    },
    {
     "name": "stdout",
     "output_type": "stream",
     "text": [
      "cancelled :5218 , not_cancelled :444782\n",
      "Memory usage of dataframe is 61.19 MB\n",
      "Memory usage after optimization is: 40.59 MB\n",
      "Decreased by 33.7%\n",
      "Features : ['first_mile_distance', 'elapse1', 'elapse2', 'last_mile_distance', 'tot_dist', 'alloted_orders', 'delivered_orders', 'del_ratio', 'undelivered_orders', 'lifetime_order_count', 'Hour', 'session_time', 'Monday', 'Saturday', 'Sunday', 'Thursday', 'Tuesday', 'Wednesday', 'dist_ratio']\n",
      "cat_features []\n",
      "(450000, 19) (450000,)\n",
      "train 360000 valid 90000\n",
      "training Light GBM:\n"
     ]
    },
    {
     "name": "stderr",
     "output_type": "stream",
     "text": [
      "\u001b[32m[I 2022-02-11 10:23:31,549]\u001b[0m Trial 141 pruned. Trial was pruned at iteration 6.\u001b[0m\n"
     ]
    },
    {
     "name": "stdout",
     "output_type": "stream",
     "text": [
      "cancelled :5218 , not_cancelled :444782\n",
      "Memory usage of dataframe is 61.19 MB\n",
      "Memory usage after optimization is: 40.59 MB\n",
      "Decreased by 33.7%\n",
      "Features : ['first_mile_distance', 'elapse1', 'elapse2', 'last_mile_distance', 'tot_dist', 'alloted_orders', 'delivered_orders', 'del_ratio', 'undelivered_orders', 'lifetime_order_count', 'Hour', 'session_time', 'Monday', 'Saturday', 'Sunday', 'Thursday', 'Tuesday', 'Wednesday', 'dist_ratio']\n",
      "cat_features []\n",
      "(450000, 19) (450000,)\n",
      "train 360000 valid 90000\n",
      "training Light GBM:\n",
      "score -0.7604214737379822\n",
      "train 360000 valid 90000\n",
      "training Light GBM:\n",
      "[LightGBM] [Warning] lambda_l1 is set=0.4599959422677634, reg_alpha=0.0 will be ignored. Current value: lambda_l1=0.4599959422677634\n",
      "[LightGBM] [Warning] bagging_fraction is set=0.7, subsample=1.0 will be ignored. Current value: bagging_fraction=0.7\n",
      "[LightGBM] [Warning] min_gain_to_split is set=3.5660700183349063, min_split_gain=0.0 will be ignored. Current value: min_gain_to_split=3.5660700183349063\n",
      "[LightGBM] [Warning] lambda_l2 is set=25, reg_lambda=0.0 will be ignored. Current value: lambda_l2=25\n",
      "[LightGBM] [Warning] feature_fraction is set=0.7, colsample_bytree=1.0 will be ignored. Current value: feature_fraction=0.7\n",
      "[LightGBM] [Warning] min_data_in_leaf is set=1600, min_child_samples=20 will be ignored. Current value: min_data_in_leaf=1600\n",
      "[LightGBM] [Warning] bagging_freq is set=1, subsample_freq=0 will be ignored. Current value: bagging_freq=1\n",
      "score -0.7352816383832275\n",
      "train 360000 valid 90000\n",
      "training Light GBM:\n",
      "[LightGBM] [Warning] lambda_l1 is set=0.4599959422677634, reg_alpha=0.0 will be ignored. Current value: lambda_l1=0.4599959422677634\n",
      "[LightGBM] [Warning] bagging_fraction is set=0.7, subsample=1.0 will be ignored. Current value: bagging_fraction=0.7\n",
      "[LightGBM] [Warning] min_gain_to_split is set=3.5660700183349063, min_split_gain=0.0 will be ignored. Current value: min_gain_to_split=3.5660700183349063\n",
      "[LightGBM] [Warning] lambda_l2 is set=25, reg_lambda=0.0 will be ignored. Current value: lambda_l2=25\n",
      "[LightGBM] [Warning] feature_fraction is set=0.7, colsample_bytree=1.0 will be ignored. Current value: feature_fraction=0.7\n",
      "[LightGBM] [Warning] min_data_in_leaf is set=1600, min_child_samples=20 will be ignored. Current value: min_data_in_leaf=1600\n",
      "[LightGBM] [Warning] bagging_freq is set=1, subsample_freq=0 will be ignored. Current value: bagging_freq=1\n",
      "score -0.74133954510896\n",
      "train 360000 valid 90000\n",
      "training Light GBM:\n",
      "[LightGBM] [Warning] lambda_l1 is set=0.4599959422677634, reg_alpha=0.0 will be ignored. Current value: lambda_l1=0.4599959422677634\n",
      "[LightGBM] [Warning] bagging_fraction is set=0.7, subsample=1.0 will be ignored. Current value: bagging_fraction=0.7\n",
      "[LightGBM] [Warning] min_gain_to_split is set=3.5660700183349063, min_split_gain=0.0 will be ignored. Current value: min_gain_to_split=3.5660700183349063\n",
      "[LightGBM] [Warning] lambda_l2 is set=25, reg_lambda=0.0 will be ignored. Current value: lambda_l2=25\n",
      "[LightGBM] [Warning] feature_fraction is set=0.7, colsample_bytree=1.0 will be ignored. Current value: feature_fraction=0.7\n",
      "[LightGBM] [Warning] min_data_in_leaf is set=1600, min_child_samples=20 will be ignored. Current value: min_data_in_leaf=1600\n",
      "[LightGBM] [Warning] bagging_freq is set=1, subsample_freq=0 will be ignored. Current value: bagging_freq=1\n",
      "score -0.7539292317059241\n",
      "train 360000 valid 90000\n",
      "training Light GBM:\n",
      "[LightGBM] [Warning] lambda_l1 is set=0.4599959422677634, reg_alpha=0.0 will be ignored. Current value: lambda_l1=0.4599959422677634\n",
      "[LightGBM] [Warning] bagging_fraction is set=0.7, subsample=1.0 will be ignored. Current value: bagging_fraction=0.7\n",
      "[LightGBM] [Warning] min_gain_to_split is set=3.5660700183349063, min_split_gain=0.0 will be ignored. Current value: min_gain_to_split=3.5660700183349063\n",
      "[LightGBM] [Warning] lambda_l2 is set=25, reg_lambda=0.0 will be ignored. Current value: lambda_l2=25\n",
      "[LightGBM] [Warning] feature_fraction is set=0.7, colsample_bytree=1.0 will be ignored. Current value: feature_fraction=0.7\n",
      "[LightGBM] [Warning] min_data_in_leaf is set=1600, min_child_samples=20 will be ignored. Current value: min_data_in_leaf=1600\n",
      "[LightGBM] [Warning] bagging_freq is set=1, subsample_freq=0 will be ignored. Current value: bagging_freq=1\n"
     ]
    },
    {
     "name": "stderr",
     "output_type": "stream",
     "text": [
      "\u001b[32m[I 2022-02-11 10:23:46,626]\u001b[0m Trial 142 finished with value: -0.7509172918147142 and parameters: {'n_estimators': 10000, 'learning_rate': 0.32063862666747056, 'num_leaves': 2994, 'max_depth': 9, 'min_data_in_leaf': 1600, 'lambda_l1': 0.4599959422677634, 'lambda_l2': 25, 'min_gain_to_split': 3.5660700183349063, 'bagging_fraction': 0.7, 'bagging_freq': 1, 'feature_fraction': 0.7}. Best is trial 142 with value: -0.7509172918147142.\u001b[0m\n"
     ]
    },
    {
     "name": "stdout",
     "output_type": "stream",
     "text": [
      "score -0.7636145701374772\n",
      "cancelled :5218 , not_cancelled :444782\n",
      "Memory usage of dataframe is 61.19 MB\n",
      "Memory usage after optimization is: 40.59 MB\n",
      "Decreased by 33.7%\n",
      "Features : ['first_mile_distance', 'elapse1', 'elapse2', 'last_mile_distance', 'tot_dist', 'alloted_orders', 'delivered_orders', 'del_ratio', 'undelivered_orders', 'lifetime_order_count', 'Hour', 'session_time', 'Monday', 'Saturday', 'Sunday', 'Thursday', 'Tuesday', 'Wednesday', 'dist_ratio']\n",
      "cat_features []\n",
      "(450000, 19) (450000,)\n",
      "train 360000 valid 90000\n",
      "training Light GBM:\n",
      "[LightGBM] [Warning] lambda_l1 is set=0.0009374894518164766, reg_alpha=0.0 will be ignored. Current value: lambda_l1=0.0009374894518164766\n",
      "[LightGBM] [Warning] bagging_fraction is set=0.7, subsample=1.0 will be ignored. Current value: bagging_fraction=0.7\n",
      "[LightGBM] [Warning] min_gain_to_split is set=3.570810073816754, min_split_gain=0.0 will be ignored. Current value: min_gain_to_split=3.570810073816754\n",
      "[LightGBM] [Warning] lambda_l2 is set=25, reg_lambda=0.0 will be ignored. Current value: lambda_l2=25\n",
      "[LightGBM] [Warning] feature_fraction is set=0.6000000000000001, colsample_bytree=1.0 will be ignored. Current value: feature_fraction=0.6000000000000001\n",
      "[LightGBM] [Warning] min_data_in_leaf is set=1300, min_child_samples=20 will be ignored. Current value: min_data_in_leaf=1300\n",
      "[LightGBM] [Warning] bagging_freq is set=1, subsample_freq=0 will be ignored. Current value: bagging_freq=1\n"
     ]
    },
    {
     "name": "stderr",
     "output_type": "stream",
     "text": [
      "\u001b[32m[I 2022-02-11 10:23:50,606]\u001b[0m Trial 143 pruned. Trial was pruned at iteration 3.\u001b[0m\n"
     ]
    },
    {
     "name": "stdout",
     "output_type": "stream",
     "text": [
      "cancelled :5218 , not_cancelled :444782\n",
      "Memory usage of dataframe is 61.19 MB\n",
      "Memory usage after optimization is: 40.59 MB\n",
      "Decreased by 33.7%\n",
      "Features : ['first_mile_distance', 'elapse1', 'elapse2', 'last_mile_distance', 'tot_dist', 'alloted_orders', 'delivered_orders', 'del_ratio', 'undelivered_orders', 'lifetime_order_count', 'Hour', 'session_time', 'Monday', 'Saturday', 'Sunday', 'Thursday', 'Tuesday', 'Wednesday', 'dist_ratio']\n",
      "cat_features []\n",
      "(450000, 19) (450000,)\n",
      "train 360000 valid 90000\n",
      "training Light GBM:\n"
     ]
    },
    {
     "name": "stderr",
     "output_type": "stream",
     "text": [
      "\u001b[32m[I 2022-02-11 10:23:54,605]\u001b[0m Trial 144 pruned. Trial was pruned at iteration 3.\u001b[0m\n"
     ]
    },
    {
     "name": "stdout",
     "output_type": "stream",
     "text": [
      "cancelled :5218 , not_cancelled :444782\n",
      "Memory usage of dataframe is 61.19 MB\n",
      "Memory usage after optimization is: 40.59 MB\n",
      "Decreased by 33.7%\n",
      "Features : ['first_mile_distance', 'elapse1', 'elapse2', 'last_mile_distance', 'tot_dist', 'alloted_orders', 'delivered_orders', 'del_ratio', 'undelivered_orders', 'lifetime_order_count', 'Hour', 'session_time', 'Monday', 'Saturday', 'Sunday', 'Thursday', 'Tuesday', 'Wednesday', 'dist_ratio']\n",
      "cat_features []\n",
      "(450000, 19) (450000,)\n",
      "train 360000 valid 90000\n",
      "training Light GBM:\n"
     ]
    },
    {
     "name": "stderr",
     "output_type": "stream",
     "text": [
      "\u001b[32m[I 2022-02-11 10:23:58,665]\u001b[0m Trial 145 pruned. Trial was pruned at iteration 3.\u001b[0m\n"
     ]
    },
    {
     "name": "stdout",
     "output_type": "stream",
     "text": [
      "cancelled :5218 , not_cancelled :444782\n",
      "Memory usage of dataframe is 61.19 MB\n",
      "Memory usage after optimization is: 40.59 MB\n",
      "Decreased by 33.7%\n",
      "Features : ['first_mile_distance', 'elapse1', 'elapse2', 'last_mile_distance', 'tot_dist', 'alloted_orders', 'delivered_orders', 'del_ratio', 'undelivered_orders', 'lifetime_order_count', 'Hour', 'session_time', 'Monday', 'Saturday', 'Sunday', 'Thursday', 'Tuesday', 'Wednesday', 'dist_ratio']\n",
      "cat_features []\n",
      "(450000, 19) (450000,)\n",
      "train 360000 valid 90000\n",
      "training Light GBM:\n"
     ]
    },
    {
     "name": "stderr",
     "output_type": "stream",
     "text": [
      "\u001b[32m[I 2022-02-11 10:24:02,849]\u001b[0m Trial 146 pruned. Trial was pruned at iteration 9.\u001b[0m\n"
     ]
    },
    {
     "name": "stdout",
     "output_type": "stream",
     "text": [
      "cancelled :5218 , not_cancelled :444782\n",
      "Memory usage of dataframe is 61.19 MB\n",
      "Memory usage after optimization is: 40.59 MB\n",
      "Decreased by 33.7%\n",
      "Features : ['first_mile_distance', 'elapse1', 'elapse2', 'last_mile_distance', 'tot_dist', 'alloted_orders', 'delivered_orders', 'del_ratio', 'undelivered_orders', 'lifetime_order_count', 'Hour', 'session_time', 'Monday', 'Saturday', 'Sunday', 'Thursday', 'Tuesday', 'Wednesday', 'dist_ratio']\n",
      "cat_features []\n",
      "(450000, 19) (450000,)\n",
      "train 360000 valid 90000\n",
      "training Light GBM:\n"
     ]
    },
    {
     "name": "stderr",
     "output_type": "stream",
     "text": [
      "\u001b[32m[I 2022-02-11 10:24:06,664]\u001b[0m Trial 147 pruned. Trial was pruned at iteration 0.\u001b[0m\n"
     ]
    },
    {
     "name": "stdout",
     "output_type": "stream",
     "text": [
      "cancelled :5218 , not_cancelled :444782\n",
      "Memory usage of dataframe is 61.19 MB\n",
      "Memory usage after optimization is: 40.59 MB\n",
      "Decreased by 33.7%\n",
      "Features : ['first_mile_distance', 'elapse1', 'elapse2', 'last_mile_distance', 'tot_dist', 'alloted_orders', 'delivered_orders', 'del_ratio', 'undelivered_orders', 'lifetime_order_count', 'Hour', 'session_time', 'Monday', 'Saturday', 'Sunday', 'Thursday', 'Tuesday', 'Wednesday', 'dist_ratio']\n",
      "cat_features []\n",
      "(450000, 19) (450000,)\n",
      "train 360000 valid 90000\n",
      "training Light GBM:\n"
     ]
    },
    {
     "name": "stderr",
     "output_type": "stream",
     "text": [
      "\u001b[32m[I 2022-02-11 10:24:10,578]\u001b[0m Trial 148 pruned. Trial was pruned at iteration 0.\u001b[0m\n"
     ]
    },
    {
     "name": "stdout",
     "output_type": "stream",
     "text": [
      "cancelled :5218 , not_cancelled :444782\n",
      "Memory usage of dataframe is 61.19 MB\n",
      "Memory usage after optimization is: 40.59 MB\n",
      "Decreased by 33.7%\n",
      "Features : ['first_mile_distance', 'elapse1', 'elapse2', 'last_mile_distance', 'tot_dist', 'alloted_orders', 'delivered_orders', 'del_ratio', 'undelivered_orders', 'lifetime_order_count', 'Hour', 'session_time', 'Monday', 'Saturday', 'Sunday', 'Thursday', 'Tuesday', 'Wednesday', 'dist_ratio']\n",
      "cat_features []\n",
      "(450000, 19) (450000,)\n",
      "train 360000 valid 90000\n",
      "training Light GBM:\n"
     ]
    },
    {
     "name": "stderr",
     "output_type": "stream",
     "text": [
      "\u001b[32m[I 2022-02-11 10:24:14,887]\u001b[0m Trial 149 pruned. Trial was pruned at iteration 23.\u001b[0m\n"
     ]
    },
    {
     "name": "stdout",
     "output_type": "stream",
     "text": [
      "cancelled :5218 , not_cancelled :444782\n",
      "Memory usage of dataframe is 61.19 MB\n",
      "Memory usage after optimization is: 40.59 MB\n",
      "Decreased by 33.7%\n",
      "Features : ['first_mile_distance', 'elapse1', 'elapse2', 'last_mile_distance', 'tot_dist', 'alloted_orders', 'delivered_orders', 'del_ratio', 'undelivered_orders', 'lifetime_order_count', 'Hour', 'session_time', 'Monday', 'Saturday', 'Sunday', 'Thursday', 'Tuesday', 'Wednesday', 'dist_ratio']\n",
      "cat_features []\n",
      "(450000, 19) (450000,)\n",
      "train 360000 valid 90000\n",
      "training Light GBM:\n"
     ]
    },
    {
     "name": "stderr",
     "output_type": "stream",
     "text": [
      "\u001b[32m[I 2022-02-11 10:24:18,774]\u001b[0m Trial 150 pruned. Trial was pruned at iteration 0.\u001b[0m\n"
     ]
    },
    {
     "name": "stdout",
     "output_type": "stream",
     "text": [
      "cancelled :5218 , not_cancelled :444782\n",
      "Memory usage of dataframe is 61.19 MB\n",
      "Memory usage after optimization is: 40.59 MB\n",
      "Decreased by 33.7%\n",
      "Features : ['first_mile_distance', 'elapse1', 'elapse2', 'last_mile_distance', 'tot_dist', 'alloted_orders', 'delivered_orders', 'del_ratio', 'undelivered_orders', 'lifetime_order_count', 'Hour', 'session_time', 'Monday', 'Saturday', 'Sunday', 'Thursday', 'Tuesday', 'Wednesday', 'dist_ratio']\n",
      "cat_features []\n",
      "(450000, 19) (450000,)\n",
      "train 360000 valid 90000\n",
      "training Light GBM:\n"
     ]
    },
    {
     "name": "stderr",
     "output_type": "stream",
     "text": [
      "\u001b[32m[I 2022-02-11 10:24:22,633]\u001b[0m Trial 151 pruned. Trial was pruned at iteration 0.\u001b[0m\n"
     ]
    },
    {
     "name": "stdout",
     "output_type": "stream",
     "text": [
      "cancelled :5218 , not_cancelled :444782\n",
      "Memory usage of dataframe is 61.19 MB\n",
      "Memory usage after optimization is: 40.59 MB\n",
      "Decreased by 33.7%\n",
      "Features : ['first_mile_distance', 'elapse1', 'elapse2', 'last_mile_distance', 'tot_dist', 'alloted_orders', 'delivered_orders', 'del_ratio', 'undelivered_orders', 'lifetime_order_count', 'Hour', 'session_time', 'Monday', 'Saturday', 'Sunday', 'Thursday', 'Tuesday', 'Wednesday', 'dist_ratio']\n",
      "cat_features []\n",
      "(450000, 19) (450000,)\n",
      "train 360000 valid 90000\n",
      "training Light GBM:\n"
     ]
    },
    {
     "name": "stderr",
     "output_type": "stream",
     "text": [
      "\u001b[32m[I 2022-02-11 10:24:26,441]\u001b[0m Trial 152 pruned. Trial was pruned at iteration 0.\u001b[0m\n"
     ]
    },
    {
     "name": "stdout",
     "output_type": "stream",
     "text": [
      "cancelled :5218 , not_cancelled :444782\n",
      "Memory usage of dataframe is 61.19 MB\n",
      "Memory usage after optimization is: 40.59 MB\n",
      "Decreased by 33.7%\n",
      "Features : ['first_mile_distance', 'elapse1', 'elapse2', 'last_mile_distance', 'tot_dist', 'alloted_orders', 'delivered_orders', 'del_ratio', 'undelivered_orders', 'lifetime_order_count', 'Hour', 'session_time', 'Monday', 'Saturday', 'Sunday', 'Thursday', 'Tuesday', 'Wednesday', 'dist_ratio']\n",
      "cat_features []\n",
      "(450000, 19) (450000,)\n",
      "train 360000 valid 90000\n",
      "training Light GBM:\n"
     ]
    },
    {
     "name": "stderr",
     "output_type": "stream",
     "text": [
      "\u001b[32m[I 2022-02-11 10:24:30,454]\u001b[0m Trial 153 pruned. Trial was pruned at iteration 6.\u001b[0m\n"
     ]
    },
    {
     "name": "stdout",
     "output_type": "stream",
     "text": [
      "cancelled :5218 , not_cancelled :444782\n",
      "Memory usage of dataframe is 61.19 MB\n",
      "Memory usage after optimization is: 40.59 MB\n",
      "Decreased by 33.7%\n",
      "Features : ['first_mile_distance', 'elapse1', 'elapse2', 'last_mile_distance', 'tot_dist', 'alloted_orders', 'delivered_orders', 'del_ratio', 'undelivered_orders', 'lifetime_order_count', 'Hour', 'session_time', 'Monday', 'Saturday', 'Sunday', 'Thursday', 'Tuesday', 'Wednesday', 'dist_ratio']\n",
      "cat_features []\n",
      "(450000, 19) (450000,)\n",
      "train 360000 valid 90000\n",
      "training Light GBM:\n"
     ]
    },
    {
     "name": "stderr",
     "output_type": "stream",
     "text": [
      "\u001b[32m[I 2022-02-11 10:24:34,410]\u001b[0m Trial 154 pruned. Trial was pruned at iteration 0.\u001b[0m\n"
     ]
    },
    {
     "name": "stdout",
     "output_type": "stream",
     "text": [
      "cancelled :5218 , not_cancelled :444782\n",
      "Memory usage of dataframe is 61.19 MB\n",
      "Memory usage after optimization is: 40.59 MB\n",
      "Decreased by 33.7%\n",
      "Features : ['first_mile_distance', 'elapse1', 'elapse2', 'last_mile_distance', 'tot_dist', 'alloted_orders', 'delivered_orders', 'del_ratio', 'undelivered_orders', 'lifetime_order_count', 'Hour', 'session_time', 'Monday', 'Saturday', 'Sunday', 'Thursday', 'Tuesday', 'Wednesday', 'dist_ratio']\n",
      "cat_features []\n",
      "(450000, 19) (450000,)\n",
      "train 360000 valid 90000\n",
      "training Light GBM:\n"
     ]
    },
    {
     "name": "stderr",
     "output_type": "stream",
     "text": [
      "\u001b[32m[I 2022-02-11 10:24:38,187]\u001b[0m Trial 155 pruned. Trial was pruned at iteration 0.\u001b[0m\n"
     ]
    },
    {
     "name": "stdout",
     "output_type": "stream",
     "text": [
      "cancelled :5218 , not_cancelled :444782\n",
      "Memory usage of dataframe is 61.19 MB\n",
      "Memory usage after optimization is: 40.59 MB\n",
      "Decreased by 33.7%\n",
      "Features : ['first_mile_distance', 'elapse1', 'elapse2', 'last_mile_distance', 'tot_dist', 'alloted_orders', 'delivered_orders', 'del_ratio', 'undelivered_orders', 'lifetime_order_count', 'Hour', 'session_time', 'Monday', 'Saturday', 'Sunday', 'Thursday', 'Tuesday', 'Wednesday', 'dist_ratio']\n",
      "cat_features []\n",
      "(450000, 19) (450000,)\n",
      "train 360000 valid 90000\n",
      "training Light GBM:\n"
     ]
    },
    {
     "name": "stderr",
     "output_type": "stream",
     "text": [
      "\u001b[32m[I 2022-02-11 10:24:42,221]\u001b[0m Trial 156 pruned. Trial was pruned at iteration 12.\u001b[0m\n"
     ]
    },
    {
     "name": "stdout",
     "output_type": "stream",
     "text": [
      "cancelled :5218 , not_cancelled :444782\n",
      "Memory usage of dataframe is 61.19 MB\n",
      "Memory usage after optimization is: 40.59 MB\n",
      "Decreased by 33.7%\n",
      "Features : ['first_mile_distance', 'elapse1', 'elapse2', 'last_mile_distance', 'tot_dist', 'alloted_orders', 'delivered_orders', 'del_ratio', 'undelivered_orders', 'lifetime_order_count', 'Hour', 'session_time', 'Monday', 'Saturday', 'Sunday', 'Thursday', 'Tuesday', 'Wednesday', 'dist_ratio']\n",
      "cat_features []\n",
      "(450000, 19) (450000,)\n",
      "train 360000 valid 90000\n",
      "training Light GBM:\n"
     ]
    },
    {
     "name": "stderr",
     "output_type": "stream",
     "text": [
      "\u001b[32m[I 2022-02-11 10:24:46,054]\u001b[0m Trial 157 pruned. Trial was pruned at iteration 0.\u001b[0m\n"
     ]
    },
    {
     "name": "stdout",
     "output_type": "stream",
     "text": [
      "cancelled :5218 , not_cancelled :444782\n",
      "Memory usage of dataframe is 61.19 MB\n",
      "Memory usage after optimization is: 40.59 MB\n",
      "Decreased by 33.7%\n",
      "Features : ['first_mile_distance', 'elapse1', 'elapse2', 'last_mile_distance', 'tot_dist', 'alloted_orders', 'delivered_orders', 'del_ratio', 'undelivered_orders', 'lifetime_order_count', 'Hour', 'session_time', 'Monday', 'Saturday', 'Sunday', 'Thursday', 'Tuesday', 'Wednesday', 'dist_ratio']\n",
      "cat_features []\n",
      "(450000, 19) (450000,)\n",
      "train 360000 valid 90000\n",
      "training Light GBM:\n"
     ]
    },
    {
     "name": "stderr",
     "output_type": "stream",
     "text": [
      "\u001b[32m[I 2022-02-11 10:24:49,997]\u001b[0m Trial 158 pruned. Trial was pruned at iteration 6.\u001b[0m\n"
     ]
    },
    {
     "name": "stdout",
     "output_type": "stream",
     "text": [
      "cancelled :5218 , not_cancelled :444782\n",
      "Memory usage of dataframe is 61.19 MB\n",
      "Memory usage after optimization is: 40.59 MB\n",
      "Decreased by 33.7%\n",
      "Features : ['first_mile_distance', 'elapse1', 'elapse2', 'last_mile_distance', 'tot_dist', 'alloted_orders', 'delivered_orders', 'del_ratio', 'undelivered_orders', 'lifetime_order_count', 'Hour', 'session_time', 'Monday', 'Saturday', 'Sunday', 'Thursday', 'Tuesday', 'Wednesday', 'dist_ratio']\n",
      "cat_features []\n",
      "(450000, 19) (450000,)\n",
      "train 360000 valid 90000\n",
      "training Light GBM:\n"
     ]
    },
    {
     "name": "stderr",
     "output_type": "stream",
     "text": [
      "\u001b[32m[I 2022-02-11 10:24:53,845]\u001b[0m Trial 159 pruned. Trial was pruned at iteration 0.\u001b[0m\n"
     ]
    },
    {
     "name": "stdout",
     "output_type": "stream",
     "text": [
      "cancelled :5218 , not_cancelled :444782\n",
      "Memory usage of dataframe is 61.19 MB\n",
      "Memory usage after optimization is: 40.59 MB\n",
      "Decreased by 33.7%\n",
      "Features : ['first_mile_distance', 'elapse1', 'elapse2', 'last_mile_distance', 'tot_dist', 'alloted_orders', 'delivered_orders', 'del_ratio', 'undelivered_orders', 'lifetime_order_count', 'Hour', 'session_time', 'Monday', 'Saturday', 'Sunday', 'Thursday', 'Tuesday', 'Wednesday', 'dist_ratio']\n",
      "cat_features []\n",
      "(450000, 19) (450000,)\n",
      "train 360000 valid 90000\n",
      "training Light GBM:\n"
     ]
    },
    {
     "name": "stderr",
     "output_type": "stream",
     "text": [
      "\u001b[32m[I 2022-02-11 10:24:57,659]\u001b[0m Trial 160 pruned. Trial was pruned at iteration 0.\u001b[0m\n"
     ]
    },
    {
     "name": "stdout",
     "output_type": "stream",
     "text": [
      "cancelled :5218 , not_cancelled :444782\n",
      "Memory usage of dataframe is 61.19 MB\n",
      "Memory usage after optimization is: 40.59 MB\n",
      "Decreased by 33.7%\n",
      "Features : ['first_mile_distance', 'elapse1', 'elapse2', 'last_mile_distance', 'tot_dist', 'alloted_orders', 'delivered_orders', 'del_ratio', 'undelivered_orders', 'lifetime_order_count', 'Hour', 'session_time', 'Monday', 'Saturday', 'Sunday', 'Thursday', 'Tuesday', 'Wednesday', 'dist_ratio']\n",
      "cat_features []\n",
      "(450000, 19) (450000,)\n",
      "train 360000 valid 90000\n",
      "training Light GBM:\n"
     ]
    },
    {
     "name": "stderr",
     "output_type": "stream",
     "text": [
      "\u001b[32m[I 2022-02-11 10:25:01,628]\u001b[0m Trial 161 pruned. Trial was pruned at iteration 0.\u001b[0m\n"
     ]
    },
    {
     "name": "stdout",
     "output_type": "stream",
     "text": [
      "cancelled :5218 , not_cancelled :444782\n",
      "Memory usage of dataframe is 61.19 MB\n",
      "Memory usage after optimization is: 40.59 MB\n",
      "Decreased by 33.7%\n",
      "Features : ['first_mile_distance', 'elapse1', 'elapse2', 'last_mile_distance', 'tot_dist', 'alloted_orders', 'delivered_orders', 'del_ratio', 'undelivered_orders', 'lifetime_order_count', 'Hour', 'session_time', 'Monday', 'Saturday', 'Sunday', 'Thursday', 'Tuesday', 'Wednesday', 'dist_ratio']\n",
      "cat_features []\n",
      "(450000, 19) (450000,)\n",
      "train 360000 valid 90000\n",
      "training Light GBM:\n"
     ]
    },
    {
     "name": "stderr",
     "output_type": "stream",
     "text": [
      "\u001b[32m[I 2022-02-11 10:25:05,529]\u001b[0m Trial 162 pruned. Trial was pruned at iteration 0.\u001b[0m\n"
     ]
    },
    {
     "name": "stdout",
     "output_type": "stream",
     "text": [
      "cancelled :5218 , not_cancelled :444782\n",
      "Memory usage of dataframe is 61.19 MB\n",
      "Memory usage after optimization is: 40.59 MB\n",
      "Decreased by 33.7%\n",
      "Features : ['first_mile_distance', 'elapse1', 'elapse2', 'last_mile_distance', 'tot_dist', 'alloted_orders', 'delivered_orders', 'del_ratio', 'undelivered_orders', 'lifetime_order_count', 'Hour', 'session_time', 'Monday', 'Saturday', 'Sunday', 'Thursday', 'Tuesday', 'Wednesday', 'dist_ratio']\n",
      "cat_features []\n",
      "(450000, 19) (450000,)\n",
      "train 360000 valid 90000\n",
      "training Light GBM:\n"
     ]
    },
    {
     "name": "stderr",
     "output_type": "stream",
     "text": [
      "\u001b[32m[I 2022-02-11 10:25:09,269]\u001b[0m Trial 163 pruned. Trial was pruned at iteration 0.\u001b[0m\n"
     ]
    },
    {
     "name": "stdout",
     "output_type": "stream",
     "text": [
      "cancelled :5218 , not_cancelled :444782\n",
      "Memory usage of dataframe is 61.19 MB\n",
      "Memory usage after optimization is: 40.59 MB\n",
      "Decreased by 33.7%\n",
      "Features : ['first_mile_distance', 'elapse1', 'elapse2', 'last_mile_distance', 'tot_dist', 'alloted_orders', 'delivered_orders', 'del_ratio', 'undelivered_orders', 'lifetime_order_count', 'Hour', 'session_time', 'Monday', 'Saturday', 'Sunday', 'Thursday', 'Tuesday', 'Wednesday', 'dist_ratio']\n",
      "cat_features []\n",
      "(450000, 19) (450000,)\n",
      "train 360000 valid 90000\n",
      "training Light GBM:\n"
     ]
    },
    {
     "name": "stderr",
     "output_type": "stream",
     "text": [
      "\u001b[32m[I 2022-02-11 10:25:13,188]\u001b[0m Trial 164 pruned. Trial was pruned at iteration 0.\u001b[0m\n"
     ]
    },
    {
     "name": "stdout",
     "output_type": "stream",
     "text": [
      "cancelled :5218 , not_cancelled :444782\n",
      "Memory usage of dataframe is 61.19 MB\n",
      "Memory usage after optimization is: 40.59 MB\n",
      "Decreased by 33.7%\n",
      "Features : ['first_mile_distance', 'elapse1', 'elapse2', 'last_mile_distance', 'tot_dist', 'alloted_orders', 'delivered_orders', 'del_ratio', 'undelivered_orders', 'lifetime_order_count', 'Hour', 'session_time', 'Monday', 'Saturday', 'Sunday', 'Thursday', 'Tuesday', 'Wednesday', 'dist_ratio']\n",
      "cat_features []\n",
      "(450000, 19) (450000,)\n",
      "train 360000 valid 90000\n",
      "training Light GBM:\n"
     ]
    },
    {
     "name": "stderr",
     "output_type": "stream",
     "text": [
      "\u001b[32m[I 2022-02-11 10:25:17,082]\u001b[0m Trial 165 pruned. Trial was pruned at iteration 0.\u001b[0m\n"
     ]
    },
    {
     "name": "stdout",
     "output_type": "stream",
     "text": [
      "cancelled :5218 , not_cancelled :444782\n",
      "Memory usage of dataframe is 61.19 MB\n",
      "Memory usage after optimization is: 40.59 MB\n",
      "Decreased by 33.7%\n",
      "Features : ['first_mile_distance', 'elapse1', 'elapse2', 'last_mile_distance', 'tot_dist', 'alloted_orders', 'delivered_orders', 'del_ratio', 'undelivered_orders', 'lifetime_order_count', 'Hour', 'session_time', 'Monday', 'Saturday', 'Sunday', 'Thursday', 'Tuesday', 'Wednesday', 'dist_ratio']\n",
      "cat_features []\n",
      "(450000, 19) (450000,)\n",
      "train 360000 valid 90000\n",
      "training Light GBM:\n"
     ]
    },
    {
     "name": "stderr",
     "output_type": "stream",
     "text": [
      "\u001b[32m[I 2022-02-11 10:25:20,920]\u001b[0m Trial 166 pruned. Trial was pruned at iteration 0.\u001b[0m\n"
     ]
    },
    {
     "name": "stdout",
     "output_type": "stream",
     "text": [
      "cancelled :5218 , not_cancelled :444782\n",
      "Memory usage of dataframe is 61.19 MB\n",
      "Memory usage after optimization is: 40.59 MB\n",
      "Decreased by 33.7%\n",
      "Features : ['first_mile_distance', 'elapse1', 'elapse2', 'last_mile_distance', 'tot_dist', 'alloted_orders', 'delivered_orders', 'del_ratio', 'undelivered_orders', 'lifetime_order_count', 'Hour', 'session_time', 'Monday', 'Saturday', 'Sunday', 'Thursday', 'Tuesday', 'Wednesday', 'dist_ratio']\n",
      "cat_features []\n",
      "(450000, 19) (450000,)\n",
      "train 360000 valid 90000\n",
      "training Light GBM:\n"
     ]
    },
    {
     "name": "stderr",
     "output_type": "stream",
     "text": [
      "\u001b[32m[I 2022-02-11 10:25:25,186]\u001b[0m Trial 167 pruned. Trial was pruned at iteration 9.\u001b[0m\n"
     ]
    },
    {
     "name": "stdout",
     "output_type": "stream",
     "text": [
      "cancelled :5218 , not_cancelled :444782\n",
      "Memory usage of dataframe is 61.19 MB\n",
      "Memory usage after optimization is: 40.59 MB\n",
      "Decreased by 33.7%\n",
      "Features : ['first_mile_distance', 'elapse1', 'elapse2', 'last_mile_distance', 'tot_dist', 'alloted_orders', 'delivered_orders', 'del_ratio', 'undelivered_orders', 'lifetime_order_count', 'Hour', 'session_time', 'Monday', 'Saturday', 'Sunday', 'Thursday', 'Tuesday', 'Wednesday', 'dist_ratio']\n",
      "cat_features []\n",
      "(450000, 19) (450000,)\n",
      "train 360000 valid 90000\n",
      "training Light GBM:\n"
     ]
    },
    {
     "name": "stderr",
     "output_type": "stream",
     "text": [
      "\u001b[32m[I 2022-02-11 10:25:29,113]\u001b[0m Trial 168 pruned. Trial was pruned at iteration 0.\u001b[0m\n"
     ]
    },
    {
     "name": "stdout",
     "output_type": "stream",
     "text": [
      "cancelled :5218 , not_cancelled :444782\n",
      "Memory usage of dataframe is 61.19 MB\n",
      "Memory usage after optimization is: 40.59 MB\n",
      "Decreased by 33.7%\n",
      "Features : ['first_mile_distance', 'elapse1', 'elapse2', 'last_mile_distance', 'tot_dist', 'alloted_orders', 'delivered_orders', 'del_ratio', 'undelivered_orders', 'lifetime_order_count', 'Hour', 'session_time', 'Monday', 'Saturday', 'Sunday', 'Thursday', 'Tuesday', 'Wednesday', 'dist_ratio']\n",
      "cat_features []\n",
      "(450000, 19) (450000,)\n",
      "train 360000 valid 90000\n",
      "training Light GBM:\n"
     ]
    },
    {
     "name": "stderr",
     "output_type": "stream",
     "text": [
      "\u001b[32m[I 2022-02-11 10:25:33,020]\u001b[0m Trial 169 pruned. Trial was pruned at iteration 0.\u001b[0m\n"
     ]
    },
    {
     "name": "stdout",
     "output_type": "stream",
     "text": [
      "cancelled :5218 , not_cancelled :444782\n",
      "Memory usage of dataframe is 61.19 MB\n",
      "Memory usage after optimization is: 40.59 MB\n",
      "Decreased by 33.7%\n",
      "Features : ['first_mile_distance', 'elapse1', 'elapse2', 'last_mile_distance', 'tot_dist', 'alloted_orders', 'delivered_orders', 'del_ratio', 'undelivered_orders', 'lifetime_order_count', 'Hour', 'session_time', 'Monday', 'Saturday', 'Sunday', 'Thursday', 'Tuesday', 'Wednesday', 'dist_ratio']\n",
      "cat_features []\n",
      "(450000, 19) (450000,)\n",
      "train 360000 valid 90000\n",
      "training Light GBM:\n"
     ]
    },
    {
     "name": "stderr",
     "output_type": "stream",
     "text": [
      "\u001b[32m[I 2022-02-11 10:25:36,769]\u001b[0m Trial 170 pruned. Trial was pruned at iteration 0.\u001b[0m\n"
     ]
    },
    {
     "name": "stdout",
     "output_type": "stream",
     "text": [
      "cancelled :5218 , not_cancelled :444782\n",
      "Memory usage of dataframe is 61.19 MB\n",
      "Memory usage after optimization is: 40.59 MB\n",
      "Decreased by 33.7%\n",
      "Features : ['first_mile_distance', 'elapse1', 'elapse2', 'last_mile_distance', 'tot_dist', 'alloted_orders', 'delivered_orders', 'del_ratio', 'undelivered_orders', 'lifetime_order_count', 'Hour', 'session_time', 'Monday', 'Saturday', 'Sunday', 'Thursday', 'Tuesday', 'Wednesday', 'dist_ratio']\n",
      "cat_features []\n",
      "(450000, 19) (450000,)\n",
      "train 360000 valid 90000\n",
      "training Light GBM:\n",
      "score -0.7546468501253004\n",
      "train 360000 valid 90000\n",
      "training Light GBM:\n",
      "[LightGBM] [Warning] lambda_l1 is set=0.001767184191261159, reg_alpha=0.0 will be ignored. Current value: lambda_l1=0.001767184191261159\n",
      "[LightGBM] [Warning] bagging_fraction is set=0.6000000000000001, subsample=1.0 will be ignored. Current value: bagging_fraction=0.6000000000000001\n",
      "[LightGBM] [Warning] min_gain_to_split is set=3.4031481661229117, min_split_gain=0.0 will be ignored. Current value: min_gain_to_split=3.4031481661229117\n",
      "[LightGBM] [Warning] lambda_l2 is set=20, reg_lambda=0.0 will be ignored. Current value: lambda_l2=20\n",
      "[LightGBM] [Warning] feature_fraction is set=0.9, colsample_bytree=1.0 will be ignored. Current value: feature_fraction=0.9\n",
      "[LightGBM] [Warning] min_data_in_leaf is set=2150, min_child_samples=20 will be ignored. Current value: min_data_in_leaf=2150\n",
      "[LightGBM] [Warning] bagging_freq is set=1, subsample_freq=0 will be ignored. Current value: bagging_freq=1\n",
      "score -0.7579455449356849\n",
      "train 360000 valid 90000\n",
      "training Light GBM:\n",
      "[LightGBM] [Warning] lambda_l1 is set=0.001767184191261159, reg_alpha=0.0 will be ignored. Current value: lambda_l1=0.001767184191261159\n",
      "[LightGBM] [Warning] bagging_fraction is set=0.6000000000000001, subsample=1.0 will be ignored. Current value: bagging_fraction=0.6000000000000001\n",
      "[LightGBM] [Warning] min_gain_to_split is set=3.4031481661229117, min_split_gain=0.0 will be ignored. Current value: min_gain_to_split=3.4031481661229117\n",
      "[LightGBM] [Warning] lambda_l2 is set=20, reg_lambda=0.0 will be ignored. Current value: lambda_l2=20\n",
      "[LightGBM] [Warning] feature_fraction is set=0.9, colsample_bytree=1.0 will be ignored. Current value: feature_fraction=0.9\n",
      "[LightGBM] [Warning] min_data_in_leaf is set=2150, min_child_samples=20 will be ignored. Current value: min_data_in_leaf=2150\n",
      "[LightGBM] [Warning] bagging_freq is set=1, subsample_freq=0 will be ignored. Current value: bagging_freq=1\n",
      "score -0.7433578704112878\n",
      "train 360000 valid 90000\n",
      "training Light GBM:\n",
      "[LightGBM] [Warning] lambda_l1 is set=0.001767184191261159, reg_alpha=0.0 will be ignored. Current value: lambda_l1=0.001767184191261159\n",
      "[LightGBM] [Warning] bagging_fraction is set=0.6000000000000001, subsample=1.0 will be ignored. Current value: bagging_fraction=0.6000000000000001\n",
      "[LightGBM] [Warning] min_gain_to_split is set=3.4031481661229117, min_split_gain=0.0 will be ignored. Current value: min_gain_to_split=3.4031481661229117\n",
      "[LightGBM] [Warning] lambda_l2 is set=20, reg_lambda=0.0 will be ignored. Current value: lambda_l2=20\n",
      "[LightGBM] [Warning] feature_fraction is set=0.9, colsample_bytree=1.0 will be ignored. Current value: feature_fraction=0.9\n",
      "[LightGBM] [Warning] min_data_in_leaf is set=2150, min_child_samples=20 will be ignored. Current value: min_data_in_leaf=2150\n",
      "[LightGBM] [Warning] bagging_freq is set=1, subsample_freq=0 will be ignored. Current value: bagging_freq=1\n",
      "score -0.7408697004882003\n",
      "train 360000 valid 90000\n",
      "training Light GBM:\n",
      "[LightGBM] [Warning] lambda_l1 is set=0.001767184191261159, reg_alpha=0.0 will be ignored. Current value: lambda_l1=0.001767184191261159\n",
      "[LightGBM] [Warning] bagging_fraction is set=0.6000000000000001, subsample=1.0 will be ignored. Current value: bagging_fraction=0.6000000000000001\n",
      "[LightGBM] [Warning] min_gain_to_split is set=3.4031481661229117, min_split_gain=0.0 will be ignored. Current value: min_gain_to_split=3.4031481661229117\n",
      "[LightGBM] [Warning] lambda_l2 is set=20, reg_lambda=0.0 will be ignored. Current value: lambda_l2=20\n",
      "[LightGBM] [Warning] feature_fraction is set=0.9, colsample_bytree=1.0 will be ignored. Current value: feature_fraction=0.9\n",
      "[LightGBM] [Warning] min_data_in_leaf is set=2150, min_child_samples=20 will be ignored. Current value: min_data_in_leaf=2150\n",
      "[LightGBM] [Warning] bagging_freq is set=1, subsample_freq=0 will be ignored. Current value: bagging_freq=1\n"
     ]
    },
    {
     "name": "stderr",
     "output_type": "stream",
     "text": [
      "\u001b[32m[I 2022-02-11 10:25:50,198]\u001b[0m Trial 171 finished with value: -0.7477659034136706 and parameters: {'n_estimators': 20000, 'learning_rate': 0.3237384345213935, 'num_leaves': 2720, 'max_depth': 9, 'min_data_in_leaf': 2150, 'lambda_l1': 0.001767184191261159, 'lambda_l2': 20, 'min_gain_to_split': 3.4031481661229117, 'bagging_fraction': 0.6000000000000001, 'bagging_freq': 1, 'feature_fraction': 0.9}. Best is trial 142 with value: -0.7509172918147142.\u001b[0m\n"
     ]
    },
    {
     "name": "stdout",
     "output_type": "stream",
     "text": [
      "score -0.742009551107879\n",
      "cancelled :5218 , not_cancelled :444782\n",
      "Memory usage of dataframe is 61.19 MB\n",
      "Memory usage after optimization is: 40.59 MB\n",
      "Decreased by 33.7%\n",
      "Features : ['first_mile_distance', 'elapse1', 'elapse2', 'last_mile_distance', 'tot_dist', 'alloted_orders', 'delivered_orders', 'del_ratio', 'undelivered_orders', 'lifetime_order_count', 'Hour', 'session_time', 'Monday', 'Saturday', 'Sunday', 'Thursday', 'Tuesday', 'Wednesday', 'dist_ratio']\n",
      "cat_features []\n",
      "(450000, 19) (450000,)\n",
      "train 360000 valid 90000\n",
      "training Light GBM:\n",
      "[LightGBM] [Warning] lambda_l1 is set=0.00213338089920136, reg_alpha=0.0 will be ignored. Current value: lambda_l1=0.00213338089920136\n",
      "[LightGBM] [Warning] bagging_fraction is set=0.5, subsample=1.0 will be ignored. Current value: bagging_fraction=0.5\n",
      "[LightGBM] [Warning] min_gain_to_split is set=3.214074556323522, min_split_gain=0.0 will be ignored. Current value: min_gain_to_split=3.214074556323522\n",
      "[LightGBM] [Warning] lambda_l2 is set=20, reg_lambda=0.0 will be ignored. Current value: lambda_l2=20\n",
      "[LightGBM] [Warning] feature_fraction is set=0.9, colsample_bytree=1.0 will be ignored. Current value: feature_fraction=0.9\n",
      "[LightGBM] [Warning] min_data_in_leaf is set=1950, min_child_samples=20 will be ignored. Current value: min_data_in_leaf=1950\n",
      "[LightGBM] [Warning] bagging_freq is set=1, subsample_freq=0 will be ignored. Current value: bagging_freq=1\n"
     ]
    },
    {
     "name": "stderr",
     "output_type": "stream",
     "text": [
      "\u001b[32m[I 2022-02-11 10:25:54,238]\u001b[0m Trial 172 pruned. Trial was pruned at iteration 3.\u001b[0m\n"
     ]
    },
    {
     "name": "stdout",
     "output_type": "stream",
     "text": [
      "cancelled :5218 , not_cancelled :444782\n",
      "Memory usage of dataframe is 61.19 MB\n",
      "Memory usage after optimization is: 40.59 MB\n",
      "Decreased by 33.7%\n",
      "Features : ['first_mile_distance', 'elapse1', 'elapse2', 'last_mile_distance', 'tot_dist', 'alloted_orders', 'delivered_orders', 'del_ratio', 'undelivered_orders', 'lifetime_order_count', 'Hour', 'session_time', 'Monday', 'Saturday', 'Sunday', 'Thursday', 'Tuesday', 'Wednesday', 'dist_ratio']\n",
      "cat_features []\n",
      "(450000, 19) (450000,)\n",
      "train 360000 valid 90000\n",
      "training Light GBM:\n"
     ]
    },
    {
     "name": "stderr",
     "output_type": "stream",
     "text": [
      "\u001b[32m[I 2022-02-11 10:25:58,196]\u001b[0m Trial 173 pruned. Trial was pruned at iteration 3.\u001b[0m\n"
     ]
    },
    {
     "name": "stdout",
     "output_type": "stream",
     "text": [
      "cancelled :5218 , not_cancelled :444782\n",
      "Memory usage of dataframe is 61.19 MB\n",
      "Memory usage after optimization is: 40.59 MB\n",
      "Decreased by 33.7%\n",
      "Features : ['first_mile_distance', 'elapse1', 'elapse2', 'last_mile_distance', 'tot_dist', 'alloted_orders', 'delivered_orders', 'del_ratio', 'undelivered_orders', 'lifetime_order_count', 'Hour', 'session_time', 'Monday', 'Saturday', 'Sunday', 'Thursday', 'Tuesday', 'Wednesday', 'dist_ratio']\n",
      "cat_features []\n",
      "(450000, 19) (450000,)\n",
      "train 360000 valid 90000\n",
      "training Light GBM:\n"
     ]
    },
    {
     "name": "stderr",
     "output_type": "stream",
     "text": [
      "\u001b[32m[I 2022-02-11 10:26:02,148]\u001b[0m Trial 174 pruned. Trial was pruned at iteration 0.\u001b[0m\n"
     ]
    },
    {
     "name": "stdout",
     "output_type": "stream",
     "text": [
      "cancelled :5218 , not_cancelled :444782\n",
      "Memory usage of dataframe is 61.19 MB\n",
      "Memory usage after optimization is: 40.59 MB\n",
      "Decreased by 33.7%\n",
      "Features : ['first_mile_distance', 'elapse1', 'elapse2', 'last_mile_distance', 'tot_dist', 'alloted_orders', 'delivered_orders', 'del_ratio', 'undelivered_orders', 'lifetime_order_count', 'Hour', 'session_time', 'Monday', 'Saturday', 'Sunday', 'Thursday', 'Tuesday', 'Wednesday', 'dist_ratio']\n",
      "cat_features []\n",
      "(450000, 19) (450000,)\n",
      "train 360000 valid 90000\n",
      "training Light GBM:\n"
     ]
    },
    {
     "name": "stderr",
     "output_type": "stream",
     "text": [
      "\u001b[32m[I 2022-02-11 10:26:06,326]\u001b[0m Trial 175 pruned. Trial was pruned at iteration 16.\u001b[0m\n"
     ]
    },
    {
     "name": "stdout",
     "output_type": "stream",
     "text": [
      "cancelled :5218 , not_cancelled :444782\n",
      "Memory usage of dataframe is 61.19 MB\n",
      "Memory usage after optimization is: 40.59 MB\n",
      "Decreased by 33.7%\n",
      "Features : ['first_mile_distance', 'elapse1', 'elapse2', 'last_mile_distance', 'tot_dist', 'alloted_orders', 'delivered_orders', 'del_ratio', 'undelivered_orders', 'lifetime_order_count', 'Hour', 'session_time', 'Monday', 'Saturday', 'Sunday', 'Thursday', 'Tuesday', 'Wednesday', 'dist_ratio']\n",
      "cat_features []\n",
      "(450000, 19) (450000,)\n",
      "train 360000 valid 90000\n",
      "training Light GBM:\n"
     ]
    },
    {
     "name": "stderr",
     "output_type": "stream",
     "text": [
      "\u001b[32m[I 2022-02-11 10:26:10,276]\u001b[0m Trial 176 pruned. Trial was pruned at iteration 3.\u001b[0m\n"
     ]
    },
    {
     "name": "stdout",
     "output_type": "stream",
     "text": [
      "cancelled :5218 , not_cancelled :444782\n",
      "Memory usage of dataframe is 61.19 MB\n",
      "Memory usage after optimization is: 40.59 MB\n",
      "Decreased by 33.7%\n",
      "Features : ['first_mile_distance', 'elapse1', 'elapse2', 'last_mile_distance', 'tot_dist', 'alloted_orders', 'delivered_orders', 'del_ratio', 'undelivered_orders', 'lifetime_order_count', 'Hour', 'session_time', 'Monday', 'Saturday', 'Sunday', 'Thursday', 'Tuesday', 'Wednesday', 'dist_ratio']\n",
      "cat_features []\n",
      "(450000, 19) (450000,)\n",
      "train 360000 valid 90000\n",
      "training Light GBM:\n"
     ]
    },
    {
     "name": "stderr",
     "output_type": "stream",
     "text": [
      "\u001b[32m[I 2022-02-11 10:26:14,263]\u001b[0m Trial 177 pruned. Trial was pruned at iteration 6.\u001b[0m\n"
     ]
    },
    {
     "name": "stdout",
     "output_type": "stream",
     "text": [
      "cancelled :5218 , not_cancelled :444782\n",
      "Memory usage of dataframe is 61.19 MB\n",
      "Memory usage after optimization is: 40.59 MB\n",
      "Decreased by 33.7%\n",
      "Features : ['first_mile_distance', 'elapse1', 'elapse2', 'last_mile_distance', 'tot_dist', 'alloted_orders', 'delivered_orders', 'del_ratio', 'undelivered_orders', 'lifetime_order_count', 'Hour', 'session_time', 'Monday', 'Saturday', 'Sunday', 'Thursday', 'Tuesday', 'Wednesday', 'dist_ratio']\n",
      "cat_features []\n",
      "(450000, 19) (450000,)\n",
      "train 360000 valid 90000\n",
      "training Light GBM:\n"
     ]
    },
    {
     "name": "stderr",
     "output_type": "stream",
     "text": [
      "\u001b[32m[I 2022-02-11 10:26:18,081]\u001b[0m Trial 178 pruned. Trial was pruned at iteration 0.\u001b[0m\n"
     ]
    },
    {
     "name": "stdout",
     "output_type": "stream",
     "text": [
      "cancelled :5218 , not_cancelled :444782\n",
      "Memory usage of dataframe is 61.19 MB\n",
      "Memory usage after optimization is: 40.59 MB\n",
      "Decreased by 33.7%\n",
      "Features : ['first_mile_distance', 'elapse1', 'elapse2', 'last_mile_distance', 'tot_dist', 'alloted_orders', 'delivered_orders', 'del_ratio', 'undelivered_orders', 'lifetime_order_count', 'Hour', 'session_time', 'Monday', 'Saturday', 'Sunday', 'Thursday', 'Tuesday', 'Wednesday', 'dist_ratio']\n",
      "cat_features []\n",
      "(450000, 19) (450000,)\n",
      "train 360000 valid 90000\n",
      "training Light GBM:\n"
     ]
    },
    {
     "name": "stderr",
     "output_type": "stream",
     "text": [
      "\u001b[32m[I 2022-02-11 10:26:21,896]\u001b[0m Trial 179 pruned. Trial was pruned at iteration 0.\u001b[0m\n"
     ]
    },
    {
     "name": "stdout",
     "output_type": "stream",
     "text": [
      "cancelled :5218 , not_cancelled :444782\n",
      "Memory usage of dataframe is 61.19 MB\n",
      "Memory usage after optimization is: 40.59 MB\n",
      "Decreased by 33.7%\n",
      "Features : ['first_mile_distance', 'elapse1', 'elapse2', 'last_mile_distance', 'tot_dist', 'alloted_orders', 'delivered_orders', 'del_ratio', 'undelivered_orders', 'lifetime_order_count', 'Hour', 'session_time', 'Monday', 'Saturday', 'Sunday', 'Thursday', 'Tuesday', 'Wednesday', 'dist_ratio']\n",
      "cat_features []\n",
      "(450000, 19) (450000,)\n",
      "train 360000 valid 90000\n",
      "training Light GBM:\n"
     ]
    },
    {
     "name": "stderr",
     "output_type": "stream",
     "text": [
      "\u001b[32m[I 2022-02-11 10:26:25,788]\u001b[0m Trial 180 pruned. Trial was pruned at iteration 0.\u001b[0m\n"
     ]
    },
    {
     "name": "stdout",
     "output_type": "stream",
     "text": [
      "cancelled :5218 , not_cancelled :444782\n",
      "Memory usage of dataframe is 61.19 MB\n",
      "Memory usage after optimization is: 40.59 MB\n",
      "Decreased by 33.7%\n",
      "Features : ['first_mile_distance', 'elapse1', 'elapse2', 'last_mile_distance', 'tot_dist', 'alloted_orders', 'delivered_orders', 'del_ratio', 'undelivered_orders', 'lifetime_order_count', 'Hour', 'session_time', 'Monday', 'Saturday', 'Sunday', 'Thursday', 'Tuesday', 'Wednesday', 'dist_ratio']\n",
      "cat_features []\n",
      "(450000, 19) (450000,)\n",
      "train 360000 valid 90000\n",
      "training Light GBM:\n"
     ]
    },
    {
     "name": "stderr",
     "output_type": "stream",
     "text": [
      "\u001b[32m[I 2022-02-11 10:26:30,076]\u001b[0m Trial 181 pruned. Trial was pruned at iteration 0.\u001b[0m\n"
     ]
    },
    {
     "name": "stdout",
     "output_type": "stream",
     "text": [
      "cancelled :5218 , not_cancelled :444782\n",
      "Memory usage of dataframe is 61.19 MB\n",
      "Memory usage after optimization is: 40.59 MB\n",
      "Decreased by 33.7%\n",
      "Features : ['first_mile_distance', 'elapse1', 'elapse2', 'last_mile_distance', 'tot_dist', 'alloted_orders', 'delivered_orders', 'del_ratio', 'undelivered_orders', 'lifetime_order_count', 'Hour', 'session_time', 'Monday', 'Saturday', 'Sunday', 'Thursday', 'Tuesday', 'Wednesday', 'dist_ratio']\n",
      "cat_features []\n",
      "(450000, 19) (450000,)\n",
      "train 360000 valid 90000\n",
      "training Light GBM:\n"
     ]
    },
    {
     "name": "stderr",
     "output_type": "stream",
     "text": [
      "\u001b[32m[I 2022-02-11 10:26:34,073]\u001b[0m Trial 182 pruned. Trial was pruned at iteration 3.\u001b[0m\n"
     ]
    },
    {
     "name": "stdout",
     "output_type": "stream",
     "text": [
      "cancelled :5218 , not_cancelled :444782\n",
      "Memory usage of dataframe is 61.19 MB\n",
      "Memory usage after optimization is: 40.59 MB\n",
      "Decreased by 33.7%\n",
      "Features : ['first_mile_distance', 'elapse1', 'elapse2', 'last_mile_distance', 'tot_dist', 'alloted_orders', 'delivered_orders', 'del_ratio', 'undelivered_orders', 'lifetime_order_count', 'Hour', 'session_time', 'Monday', 'Saturday', 'Sunday', 'Thursday', 'Tuesday', 'Wednesday', 'dist_ratio']\n",
      "cat_features []\n",
      "(450000, 19) (450000,)\n",
      "train 360000 valid 90000\n",
      "training Light GBM:\n"
     ]
    },
    {
     "name": "stderr",
     "output_type": "stream",
     "text": [
      "\u001b[32m[I 2022-02-11 10:26:38,452]\u001b[0m Trial 183 pruned. Trial was pruned at iteration 21.\u001b[0m\n"
     ]
    },
    {
     "name": "stdout",
     "output_type": "stream",
     "text": [
      "cancelled :5218 , not_cancelled :444782\n",
      "Memory usage of dataframe is 61.19 MB\n",
      "Memory usage after optimization is: 40.59 MB\n",
      "Decreased by 33.7%\n",
      "Features : ['first_mile_distance', 'elapse1', 'elapse2', 'last_mile_distance', 'tot_dist', 'alloted_orders', 'delivered_orders', 'del_ratio', 'undelivered_orders', 'lifetime_order_count', 'Hour', 'session_time', 'Monday', 'Saturday', 'Sunday', 'Thursday', 'Tuesday', 'Wednesday', 'dist_ratio']\n",
      "cat_features []\n",
      "(450000, 19) (450000,)\n",
      "train 360000 valid 90000\n",
      "training Light GBM:\n"
     ]
    },
    {
     "name": "stderr",
     "output_type": "stream",
     "text": [
      "\u001b[32m[I 2022-02-11 10:26:42,384]\u001b[0m Trial 184 pruned. Trial was pruned at iteration 2.\u001b[0m\n"
     ]
    },
    {
     "name": "stdout",
     "output_type": "stream",
     "text": [
      "cancelled :5218 , not_cancelled :444782\n",
      "Memory usage of dataframe is 61.19 MB\n",
      "Memory usage after optimization is: 40.59 MB\n",
      "Decreased by 33.7%\n",
      "Features : ['first_mile_distance', 'elapse1', 'elapse2', 'last_mile_distance', 'tot_dist', 'alloted_orders', 'delivered_orders', 'del_ratio', 'undelivered_orders', 'lifetime_order_count', 'Hour', 'session_time', 'Monday', 'Saturday', 'Sunday', 'Thursday', 'Tuesday', 'Wednesday', 'dist_ratio']\n",
      "cat_features []\n",
      "(450000, 19) (450000,)\n",
      "train 360000 valid 90000\n",
      "training Light GBM:\n"
     ]
    },
    {
     "name": "stderr",
     "output_type": "stream",
     "text": [
      "\u001b[32m[I 2022-02-11 10:26:46,324]\u001b[0m Trial 185 pruned. Trial was pruned at iteration 0.\u001b[0m\n"
     ]
    },
    {
     "name": "stdout",
     "output_type": "stream",
     "text": [
      "cancelled :5218 , not_cancelled :444782\n",
      "Memory usage of dataframe is 61.19 MB\n",
      "Memory usage after optimization is: 40.59 MB\n",
      "Decreased by 33.7%\n",
      "Features : ['first_mile_distance', 'elapse1', 'elapse2', 'last_mile_distance', 'tot_dist', 'alloted_orders', 'delivered_orders', 'del_ratio', 'undelivered_orders', 'lifetime_order_count', 'Hour', 'session_time', 'Monday', 'Saturday', 'Sunday', 'Thursday', 'Tuesday', 'Wednesday', 'dist_ratio']\n",
      "cat_features []\n",
      "(450000, 19) (450000,)\n",
      "train 360000 valid 90000\n",
      "training Light GBM:\n"
     ]
    },
    {
     "name": "stderr",
     "output_type": "stream",
     "text": [
      "\u001b[32m[I 2022-02-11 10:26:50,155]\u001b[0m Trial 186 pruned. Trial was pruned at iteration 0.\u001b[0m\n"
     ]
    },
    {
     "name": "stdout",
     "output_type": "stream",
     "text": [
      "cancelled :5218 , not_cancelled :444782\n",
      "Memory usage of dataframe is 61.19 MB\n",
      "Memory usage after optimization is: 40.59 MB\n",
      "Decreased by 33.7%\n",
      "Features : ['first_mile_distance', 'elapse1', 'elapse2', 'last_mile_distance', 'tot_dist', 'alloted_orders', 'delivered_orders', 'del_ratio', 'undelivered_orders', 'lifetime_order_count', 'Hour', 'session_time', 'Monday', 'Saturday', 'Sunday', 'Thursday', 'Tuesday', 'Wednesday', 'dist_ratio']\n",
      "cat_features []\n",
      "(450000, 19) (450000,)\n",
      "train 360000 valid 90000\n",
      "training Light GBM:\n"
     ]
    },
    {
     "name": "stderr",
     "output_type": "stream",
     "text": [
      "\u001b[32m[I 2022-02-11 10:26:54,072]\u001b[0m Trial 187 pruned. Trial was pruned at iteration 3.\u001b[0m\n"
     ]
    },
    {
     "name": "stdout",
     "output_type": "stream",
     "text": [
      "cancelled :5218 , not_cancelled :444782\n",
      "Memory usage of dataframe is 61.19 MB\n",
      "Memory usage after optimization is: 40.59 MB\n",
      "Decreased by 33.7%\n",
      "Features : ['first_mile_distance', 'elapse1', 'elapse2', 'last_mile_distance', 'tot_dist', 'alloted_orders', 'delivered_orders', 'del_ratio', 'undelivered_orders', 'lifetime_order_count', 'Hour', 'session_time', 'Monday', 'Saturday', 'Sunday', 'Thursday', 'Tuesday', 'Wednesday', 'dist_ratio']\n",
      "cat_features []\n",
      "(450000, 19) (450000,)\n",
      "train 360000 valid 90000\n",
      "training Light GBM:\n",
      "score -0.7612053906790758\n",
      "train 360000 valid 90000\n",
      "training Light GBM:\n",
      "[LightGBM] [Warning] lambda_l1 is set=1.8018829690670024, reg_alpha=0.0 will be ignored. Current value: lambda_l1=1.8018829690670024\n",
      "[LightGBM] [Warning] bagging_fraction is set=0.9, subsample=1.0 will be ignored. Current value: bagging_fraction=0.9\n",
      "[LightGBM] [Warning] min_gain_to_split is set=4.344333424443881, min_split_gain=0.0 will be ignored. Current value: min_gain_to_split=4.344333424443881\n",
      "[LightGBM] [Warning] lambda_l2 is set=20, reg_lambda=0.0 will be ignored. Current value: lambda_l2=20\n",
      "[LightGBM] [Warning] feature_fraction is set=0.6000000000000001, colsample_bytree=1.0 will be ignored. Current value: feature_fraction=0.6000000000000001\n",
      "[LightGBM] [Warning] min_data_in_leaf is set=1450, min_child_samples=20 will be ignored. Current value: min_data_in_leaf=1450\n",
      "[LightGBM] [Warning] bagging_freq is set=1, subsample_freq=0 will be ignored. Current value: bagging_freq=1\n",
      "score -0.7453449694219744\n",
      "train 360000 valid 90000\n",
      "training Light GBM:\n",
      "[LightGBM] [Warning] lambda_l1 is set=1.8018829690670024, reg_alpha=0.0 will be ignored. Current value: lambda_l1=1.8018829690670024\n",
      "[LightGBM] [Warning] bagging_fraction is set=0.9, subsample=1.0 will be ignored. Current value: bagging_fraction=0.9\n",
      "[LightGBM] [Warning] min_gain_to_split is set=4.344333424443881, min_split_gain=0.0 will be ignored. Current value: min_gain_to_split=4.344333424443881\n",
      "[LightGBM] [Warning] lambda_l2 is set=20, reg_lambda=0.0 will be ignored. Current value: lambda_l2=20\n",
      "[LightGBM] [Warning] feature_fraction is set=0.6000000000000001, colsample_bytree=1.0 will be ignored. Current value: feature_fraction=0.6000000000000001\n",
      "[LightGBM] [Warning] min_data_in_leaf is set=1450, min_child_samples=20 will be ignored. Current value: min_data_in_leaf=1450\n",
      "[LightGBM] [Warning] bagging_freq is set=1, subsample_freq=0 will be ignored. Current value: bagging_freq=1\n",
      "score -0.7282577408367028\n",
      "train 360000 valid 90000\n",
      "training Light GBM:\n",
      "[LightGBM] [Warning] lambda_l1 is set=1.8018829690670024, reg_alpha=0.0 will be ignored. Current value: lambda_l1=1.8018829690670024\n",
      "[LightGBM] [Warning] bagging_fraction is set=0.9, subsample=1.0 will be ignored. Current value: bagging_fraction=0.9\n",
      "[LightGBM] [Warning] min_gain_to_split is set=4.344333424443881, min_split_gain=0.0 will be ignored. Current value: min_gain_to_split=4.344333424443881\n",
      "[LightGBM] [Warning] lambda_l2 is set=20, reg_lambda=0.0 will be ignored. Current value: lambda_l2=20\n",
      "[LightGBM] [Warning] feature_fraction is set=0.6000000000000001, colsample_bytree=1.0 will be ignored. Current value: feature_fraction=0.6000000000000001\n",
      "[LightGBM] [Warning] min_data_in_leaf is set=1450, min_child_samples=20 will be ignored. Current value: min_data_in_leaf=1450\n",
      "[LightGBM] [Warning] bagging_freq is set=1, subsample_freq=0 will be ignored. Current value: bagging_freq=1\n",
      "score -0.7555861488369384\n",
      "train 360000 valid 90000\n",
      "training Light GBM:\n",
      "[LightGBM] [Warning] lambda_l1 is set=1.8018829690670024, reg_alpha=0.0 will be ignored. Current value: lambda_l1=1.8018829690670024\n",
      "[LightGBM] [Warning] bagging_fraction is set=0.9, subsample=1.0 will be ignored. Current value: bagging_fraction=0.9\n",
      "[LightGBM] [Warning] min_gain_to_split is set=4.344333424443881, min_split_gain=0.0 will be ignored. Current value: min_gain_to_split=4.344333424443881\n",
      "[LightGBM] [Warning] lambda_l2 is set=20, reg_lambda=0.0 will be ignored. Current value: lambda_l2=20\n",
      "[LightGBM] [Warning] feature_fraction is set=0.6000000000000001, colsample_bytree=1.0 will be ignored. Current value: feature_fraction=0.6000000000000001\n",
      "[LightGBM] [Warning] min_data_in_leaf is set=1450, min_child_samples=20 will be ignored. Current value: min_data_in_leaf=1450\n",
      "[LightGBM] [Warning] bagging_freq is set=1, subsample_freq=0 will be ignored. Current value: bagging_freq=1\n"
     ]
    },
    {
     "name": "stderr",
     "output_type": "stream",
     "text": [
      "\u001b[32m[I 2022-02-11 10:27:09,533]\u001b[0m Trial 188 finished with value: -0.7523407399865851 and parameters: {'n_estimators': 10000, 'learning_rate': 0.2523889555990624, 'num_leaves': 1586, 'max_depth': 9, 'min_data_in_leaf': 1450, 'lambda_l1': 1.8018829690670024, 'lambda_l2': 20, 'min_gain_to_split': 4.344333424443881, 'bagging_fraction': 0.9, 'bagging_freq': 1, 'feature_fraction': 0.6000000000000001}. Best is trial 188 with value: -0.7523407399865851.\u001b[0m\n"
     ]
    },
    {
     "name": "stdout",
     "output_type": "stream",
     "text": [
      "score -0.771309450158234\n",
      "cancelled :5218 , not_cancelled :444782\n",
      "Memory usage of dataframe is 61.19 MB\n",
      "Memory usage after optimization is: 40.59 MB\n",
      "Decreased by 33.7%\n",
      "Features : ['first_mile_distance', 'elapse1', 'elapse2', 'last_mile_distance', 'tot_dist', 'alloted_orders', 'delivered_orders', 'del_ratio', 'undelivered_orders', 'lifetime_order_count', 'Hour', 'session_time', 'Monday', 'Saturday', 'Sunday', 'Thursday', 'Tuesday', 'Wednesday', 'dist_ratio']\n",
      "cat_features []\n",
      "(450000, 19) (450000,)\n",
      "train 360000 valid 90000\n",
      "training Light GBM:\n",
      "[LightGBM] [Warning] lambda_l1 is set=1.460940450333369, reg_alpha=0.0 will be ignored. Current value: lambda_l1=1.460940450333369\n",
      "[LightGBM] [Warning] bagging_fraction is set=0.9, subsample=1.0 will be ignored. Current value: bagging_fraction=0.9\n",
      "[LightGBM] [Warning] min_gain_to_split is set=4.444032911014787, min_split_gain=0.0 will be ignored. Current value: min_gain_to_split=4.444032911014787\n",
      "[LightGBM] [Warning] lambda_l2 is set=80, reg_lambda=0.0 will be ignored. Current value: lambda_l2=80\n",
      "[LightGBM] [Warning] feature_fraction is set=0.6000000000000001, colsample_bytree=1.0 will be ignored. Current value: feature_fraction=0.6000000000000001\n",
      "[LightGBM] [Warning] min_data_in_leaf is set=1450, min_child_samples=20 will be ignored. Current value: min_data_in_leaf=1450\n",
      "[LightGBM] [Warning] bagging_freq is set=1, subsample_freq=0 will be ignored. Current value: bagging_freq=1\n"
     ]
    },
    {
     "name": "stderr",
     "output_type": "stream",
     "text": [
      "\u001b[32m[I 2022-02-11 10:27:13,405]\u001b[0m Trial 189 pruned. Trial was pruned at iteration 0.\u001b[0m\n"
     ]
    },
    {
     "name": "stdout",
     "output_type": "stream",
     "text": [
      "cancelled :5218 , not_cancelled :444782\n",
      "Memory usage of dataframe is 61.19 MB\n",
      "Memory usage after optimization is: 40.59 MB\n",
      "Decreased by 33.7%\n",
      "Features : ['first_mile_distance', 'elapse1', 'elapse2', 'last_mile_distance', 'tot_dist', 'alloted_orders', 'delivered_orders', 'del_ratio', 'undelivered_orders', 'lifetime_order_count', 'Hour', 'session_time', 'Monday', 'Saturday', 'Sunday', 'Thursday', 'Tuesday', 'Wednesday', 'dist_ratio']\n",
      "cat_features []\n",
      "(450000, 19) (450000,)\n",
      "train 360000 valid 90000\n",
      "training Light GBM:\n"
     ]
    },
    {
     "name": "stderr",
     "output_type": "stream",
     "text": [
      "\u001b[32m[I 2022-02-11 10:27:18,001]\u001b[0m Trial 190 pruned. Trial was pruned at iteration 10.\u001b[0m\n"
     ]
    },
    {
     "name": "stdout",
     "output_type": "stream",
     "text": [
      "cancelled :5218 , not_cancelled :444782\n",
      "Memory usage of dataframe is 61.19 MB\n",
      "Memory usage after optimization is: 40.59 MB\n",
      "Decreased by 33.7%\n",
      "Features : ['first_mile_distance', 'elapse1', 'elapse2', 'last_mile_distance', 'tot_dist', 'alloted_orders', 'delivered_orders', 'del_ratio', 'undelivered_orders', 'lifetime_order_count', 'Hour', 'session_time', 'Monday', 'Saturday', 'Sunday', 'Thursday', 'Tuesday', 'Wednesday', 'dist_ratio']\n",
      "cat_features []\n",
      "(450000, 19) (450000,)\n",
      "train 360000 valid 90000\n",
      "training Light GBM:\n"
     ]
    },
    {
     "name": "stderr",
     "output_type": "stream",
     "text": [
      "\u001b[32m[I 2022-02-11 10:27:22,552]\u001b[0m Trial 191 pruned. Trial was pruned at iteration 2.\u001b[0m\n"
     ]
    },
    {
     "name": "stdout",
     "output_type": "stream",
     "text": [
      "cancelled :5218 , not_cancelled :444782\n",
      "Memory usage of dataframe is 61.19 MB\n",
      "Memory usage after optimization is: 40.59 MB\n",
      "Decreased by 33.7%\n",
      "Features : ['first_mile_distance', 'elapse1', 'elapse2', 'last_mile_distance', 'tot_dist', 'alloted_orders', 'delivered_orders', 'del_ratio', 'undelivered_orders', 'lifetime_order_count', 'Hour', 'session_time', 'Monday', 'Saturday', 'Sunday', 'Thursday', 'Tuesday', 'Wednesday', 'dist_ratio']\n",
      "cat_features []\n",
      "(450000, 19) (450000,)\n",
      "train 360000 valid 90000\n",
      "training Light GBM:\n"
     ]
    },
    {
     "name": "stderr",
     "output_type": "stream",
     "text": [
      "\u001b[32m[I 2022-02-11 10:27:28,563]\u001b[0m Trial 192 pruned. Trial was pruned at iteration 10.\u001b[0m\n"
     ]
    },
    {
     "name": "stdout",
     "output_type": "stream",
     "text": [
      "cancelled :5218 , not_cancelled :444782\n",
      "Memory usage of dataframe is 61.19 MB\n",
      "Memory usage after optimization is: 40.59 MB\n",
      "Decreased by 33.7%\n",
      "Features : ['first_mile_distance', 'elapse1', 'elapse2', 'last_mile_distance', 'tot_dist', 'alloted_orders', 'delivered_orders', 'del_ratio', 'undelivered_orders', 'lifetime_order_count', 'Hour', 'session_time', 'Monday', 'Saturday', 'Sunday', 'Thursday', 'Tuesday', 'Wednesday', 'dist_ratio']\n",
      "cat_features []\n",
      "(450000, 19) (450000,)\n",
      "train 360000 valid 90000\n",
      "training Light GBM:\n"
     ]
    },
    {
     "name": "stderr",
     "output_type": "stream",
     "text": [
      "\u001b[32m[I 2022-02-11 10:27:32,786]\u001b[0m Trial 193 pruned. Trial was pruned at iteration 0.\u001b[0m\n"
     ]
    },
    {
     "name": "stdout",
     "output_type": "stream",
     "text": [
      "cancelled :5218 , not_cancelled :444782\n",
      "Memory usage of dataframe is 61.19 MB\n",
      "Memory usage after optimization is: 40.59 MB\n",
      "Decreased by 33.7%\n",
      "Features : ['first_mile_distance', 'elapse1', 'elapse2', 'last_mile_distance', 'tot_dist', 'alloted_orders', 'delivered_orders', 'del_ratio', 'undelivered_orders', 'lifetime_order_count', 'Hour', 'session_time', 'Monday', 'Saturday', 'Sunday', 'Thursday', 'Tuesday', 'Wednesday', 'dist_ratio']\n",
      "cat_features []\n",
      "(450000, 19) (450000,)\n",
      "train 360000 valid 90000\n",
      "training Light GBM:\n"
     ]
    },
    {
     "name": "stderr",
     "output_type": "stream",
     "text": [
      "\u001b[32m[I 2022-02-11 10:27:36,736]\u001b[0m Trial 194 pruned. Trial was pruned at iteration 0.\u001b[0m\n"
     ]
    },
    {
     "name": "stdout",
     "output_type": "stream",
     "text": [
      "cancelled :5218 , not_cancelled :444782\n",
      "Memory usage of dataframe is 61.19 MB\n",
      "Memory usage after optimization is: 40.59 MB\n",
      "Decreased by 33.7%\n",
      "Features : ['first_mile_distance', 'elapse1', 'elapse2', 'last_mile_distance', 'tot_dist', 'alloted_orders', 'delivered_orders', 'del_ratio', 'undelivered_orders', 'lifetime_order_count', 'Hour', 'session_time', 'Monday', 'Saturday', 'Sunday', 'Thursday', 'Tuesday', 'Wednesday', 'dist_ratio']\n",
      "cat_features []\n",
      "(450000, 19) (450000,)\n",
      "train 360000 valid 90000\n",
      "training Light GBM:\n",
      "score -0.7598483354842678\n",
      "train 360000 valid 90000\n",
      "training Light GBM:\n",
      "[LightGBM] [Warning] lambda_l1 is set=0.03499148395055527, reg_alpha=0.0 will be ignored. Current value: lambda_l1=0.03499148395055527\n",
      "[LightGBM] [Warning] bagging_fraction is set=0.9, subsample=1.0 will be ignored. Current value: bagging_fraction=0.9\n",
      "[LightGBM] [Warning] min_gain_to_split is set=2.5720656909033264, min_split_gain=0.0 will be ignored. Current value: min_gain_to_split=2.5720656909033264\n",
      "[LightGBM] [Warning] lambda_l2 is set=25, reg_lambda=0.0 will be ignored. Current value: lambda_l2=25\n",
      "[LightGBM] [Warning] feature_fraction is set=0.7, colsample_bytree=1.0 will be ignored. Current value: feature_fraction=0.7\n",
      "[LightGBM] [Warning] min_data_in_leaf is set=1400, min_child_samples=20 will be ignored. Current value: min_data_in_leaf=1400\n",
      "[LightGBM] [Warning] bagging_freq is set=1, subsample_freq=0 will be ignored. Current value: bagging_freq=1\n",
      "score -0.7404580758210704\n",
      "train 360000 valid 90000\n",
      "training Light GBM:\n",
      "[LightGBM] [Warning] lambda_l1 is set=0.03499148395055527, reg_alpha=0.0 will be ignored. Current value: lambda_l1=0.03499148395055527\n",
      "[LightGBM] [Warning] bagging_fraction is set=0.9, subsample=1.0 will be ignored. Current value: bagging_fraction=0.9\n",
      "[LightGBM] [Warning] min_gain_to_split is set=2.5720656909033264, min_split_gain=0.0 will be ignored. Current value: min_gain_to_split=2.5720656909033264\n",
      "[LightGBM] [Warning] lambda_l2 is set=25, reg_lambda=0.0 will be ignored. Current value: lambda_l2=25\n",
      "[LightGBM] [Warning] feature_fraction is set=0.7, colsample_bytree=1.0 will be ignored. Current value: feature_fraction=0.7\n",
      "[LightGBM] [Warning] min_data_in_leaf is set=1400, min_child_samples=20 will be ignored. Current value: min_data_in_leaf=1400\n",
      "[LightGBM] [Warning] bagging_freq is set=1, subsample_freq=0 will be ignored. Current value: bagging_freq=1\n",
      "score -0.753659871495297\n",
      "train 360000 valid 90000\n",
      "training Light GBM:\n",
      "[LightGBM] [Warning] lambda_l1 is set=0.03499148395055527, reg_alpha=0.0 will be ignored. Current value: lambda_l1=0.03499148395055527\n",
      "[LightGBM] [Warning] bagging_fraction is set=0.9, subsample=1.0 will be ignored. Current value: bagging_fraction=0.9\n",
      "[LightGBM] [Warning] min_gain_to_split is set=2.5720656909033264, min_split_gain=0.0 will be ignored. Current value: min_gain_to_split=2.5720656909033264\n",
      "[LightGBM] [Warning] lambda_l2 is set=25, reg_lambda=0.0 will be ignored. Current value: lambda_l2=25\n",
      "[LightGBM] [Warning] feature_fraction is set=0.7, colsample_bytree=1.0 will be ignored. Current value: feature_fraction=0.7\n",
      "[LightGBM] [Warning] min_data_in_leaf is set=1400, min_child_samples=20 will be ignored. Current value: min_data_in_leaf=1400\n",
      "[LightGBM] [Warning] bagging_freq is set=1, subsample_freq=0 will be ignored. Current value: bagging_freq=1\n",
      "score -0.7599480172642068\n",
      "train 360000 valid 90000\n",
      "training Light GBM:\n",
      "[LightGBM] [Warning] lambda_l1 is set=0.03499148395055527, reg_alpha=0.0 will be ignored. Current value: lambda_l1=0.03499148395055527\n",
      "[LightGBM] [Warning] bagging_fraction is set=0.9, subsample=1.0 will be ignored. Current value: bagging_fraction=0.9\n",
      "[LightGBM] [Warning] min_gain_to_split is set=2.5720656909033264, min_split_gain=0.0 will be ignored. Current value: min_gain_to_split=2.5720656909033264\n",
      "[LightGBM] [Warning] lambda_l2 is set=25, reg_lambda=0.0 will be ignored. Current value: lambda_l2=25\n",
      "[LightGBM] [Warning] feature_fraction is set=0.7, colsample_bytree=1.0 will be ignored. Current value: feature_fraction=0.7\n",
      "[LightGBM] [Warning] min_data_in_leaf is set=1400, min_child_samples=20 will be ignored. Current value: min_data_in_leaf=1400\n",
      "[LightGBM] [Warning] bagging_freq is set=1, subsample_freq=0 will be ignored. Current value: bagging_freq=1\n"
     ]
    },
    {
     "name": "stderr",
     "output_type": "stream",
     "text": [
      "\u001b[32m[I 2022-02-11 10:27:50,016]\u001b[0m Trial 195 finished with value: -0.7524194716556609 and parameters: {'n_estimators': 10000, 'learning_rate': 0.26278367829329163, 'num_leaves': 1741, 'max_depth': 9, 'min_data_in_leaf': 1400, 'lambda_l1': 0.03499148395055527, 'lambda_l2': 25, 'min_gain_to_split': 2.5720656909033264, 'bagging_fraction': 0.9, 'bagging_freq': 1, 'feature_fraction': 0.7}. Best is trial 195 with value: -0.7524194716556609.\u001b[0m\n"
     ]
    },
    {
     "name": "stdout",
     "output_type": "stream",
     "text": [
      "score -0.7481830582134625\n",
      "cancelled :5218 , not_cancelled :444782\n",
      "Memory usage of dataframe is 61.19 MB\n",
      "Memory usage after optimization is: 40.59 MB\n",
      "Decreased by 33.7%\n",
      "Features : ['first_mile_distance', 'elapse1', 'elapse2', 'last_mile_distance', 'tot_dist', 'alloted_orders', 'delivered_orders', 'del_ratio', 'undelivered_orders', 'lifetime_order_count', 'Hour', 'session_time', 'Monday', 'Saturday', 'Sunday', 'Thursday', 'Tuesday', 'Wednesday', 'dist_ratio']\n",
      "cat_features []\n",
      "(450000, 19) (450000,)\n",
      "train 360000 valid 90000\n",
      "training Light GBM:\n",
      "[LightGBM] [Warning] lambda_l1 is set=0.026655757592004548, reg_alpha=0.0 will be ignored. Current value: lambda_l1=0.026655757592004548\n",
      "[LightGBM] [Warning] bagging_fraction is set=0.9, subsample=1.0 will be ignored. Current value: bagging_fraction=0.9\n",
      "[LightGBM] [Warning] min_gain_to_split is set=2.549429653964094, min_split_gain=0.0 will be ignored. Current value: min_gain_to_split=2.549429653964094\n",
      "[LightGBM] [Warning] lambda_l2 is set=30, reg_lambda=0.0 will be ignored. Current value: lambda_l2=30\n",
      "[LightGBM] [Warning] feature_fraction is set=0.7, colsample_bytree=1.0 will be ignored. Current value: feature_fraction=0.7\n",
      "[LightGBM] [Warning] min_data_in_leaf is set=1050, min_child_samples=20 will be ignored. Current value: min_data_in_leaf=1050\n",
      "[LightGBM] [Warning] bagging_freq is set=1, subsample_freq=0 will be ignored. Current value: bagging_freq=1\n"
     ]
    },
    {
     "name": "stderr",
     "output_type": "stream",
     "text": [
      "\u001b[32m[I 2022-02-11 10:27:53,862]\u001b[0m Trial 196 pruned. Trial was pruned at iteration 0.\u001b[0m\n"
     ]
    },
    {
     "name": "stdout",
     "output_type": "stream",
     "text": [
      "cancelled :5218 , not_cancelled :444782\n",
      "Memory usage of dataframe is 61.19 MB\n",
      "Memory usage after optimization is: 40.59 MB\n",
      "Decreased by 33.7%\n",
      "Features : ['first_mile_distance', 'elapse1', 'elapse2', 'last_mile_distance', 'tot_dist', 'alloted_orders', 'delivered_orders', 'del_ratio', 'undelivered_orders', 'lifetime_order_count', 'Hour', 'session_time', 'Monday', 'Saturday', 'Sunday', 'Thursday', 'Tuesday', 'Wednesday', 'dist_ratio']\n",
      "cat_features []\n",
      "(450000, 19) (450000,)\n",
      "train 360000 valid 90000\n",
      "training Light GBM:\n",
      "score -0.7611854245543412\n",
      "train 360000 valid 90000\n",
      "training Light GBM:\n",
      "[LightGBM] [Warning] lambda_l1 is set=0.9742191379197725, reg_alpha=0.0 will be ignored. Current value: lambda_l1=0.9742191379197725\n",
      "[LightGBM] [Warning] bagging_fraction is set=0.9, subsample=1.0 will be ignored. Current value: bagging_fraction=0.9\n",
      "[LightGBM] [Warning] min_gain_to_split is set=6.108990626390034, min_split_gain=0.0 will be ignored. Current value: min_gain_to_split=6.108990626390034\n",
      "[LightGBM] [Warning] lambda_l2 is set=25, reg_lambda=0.0 will be ignored. Current value: lambda_l2=25\n",
      "[LightGBM] [Warning] feature_fraction is set=0.7, colsample_bytree=1.0 will be ignored. Current value: feature_fraction=0.7\n",
      "[LightGBM] [Warning] min_data_in_leaf is set=1500, min_child_samples=20 will be ignored. Current value: min_data_in_leaf=1500\n",
      "[LightGBM] [Warning] bagging_freq is set=1, subsample_freq=0 will be ignored. Current value: bagging_freq=1\n",
      "score -0.741518834802612\n",
      "train 360000 valid 90000\n",
      "training Light GBM:\n",
      "[LightGBM] [Warning] lambda_l1 is set=0.9742191379197725, reg_alpha=0.0 will be ignored. Current value: lambda_l1=0.9742191379197725\n",
      "[LightGBM] [Warning] bagging_fraction is set=0.9, subsample=1.0 will be ignored. Current value: bagging_fraction=0.9\n",
      "[LightGBM] [Warning] min_gain_to_split is set=6.108990626390034, min_split_gain=0.0 will be ignored. Current value: min_gain_to_split=6.108990626390034\n",
      "[LightGBM] [Warning] lambda_l2 is set=25, reg_lambda=0.0 will be ignored. Current value: lambda_l2=25\n",
      "[LightGBM] [Warning] feature_fraction is set=0.7, colsample_bytree=1.0 will be ignored. Current value: feature_fraction=0.7\n",
      "[LightGBM] [Warning] min_data_in_leaf is set=1500, min_child_samples=20 will be ignored. Current value: min_data_in_leaf=1500\n",
      "[LightGBM] [Warning] bagging_freq is set=1, subsample_freq=0 will be ignored. Current value: bagging_freq=1\n",
      "score -0.7507700220816041\n",
      "train 360000 valid 90000\n",
      "training Light GBM:\n",
      "[LightGBM] [Warning] lambda_l1 is set=0.9742191379197725, reg_alpha=0.0 will be ignored. Current value: lambda_l1=0.9742191379197725\n",
      "[LightGBM] [Warning] bagging_fraction is set=0.9, subsample=1.0 will be ignored. Current value: bagging_fraction=0.9\n",
      "[LightGBM] [Warning] min_gain_to_split is set=6.108990626390034, min_split_gain=0.0 will be ignored. Current value: min_gain_to_split=6.108990626390034\n",
      "[LightGBM] [Warning] lambda_l2 is set=25, reg_lambda=0.0 will be ignored. Current value: lambda_l2=25\n",
      "[LightGBM] [Warning] feature_fraction is set=0.7, colsample_bytree=1.0 will be ignored. Current value: feature_fraction=0.7\n",
      "[LightGBM] [Warning] min_data_in_leaf is set=1500, min_child_samples=20 will be ignored. Current value: min_data_in_leaf=1500\n",
      "[LightGBM] [Warning] bagging_freq is set=1, subsample_freq=0 will be ignored. Current value: bagging_freq=1\n",
      "score -0.7427899102126171\n",
      "train 360000 valid 90000\n",
      "training Light GBM:\n",
      "[LightGBM] [Warning] lambda_l1 is set=0.9742191379197725, reg_alpha=0.0 will be ignored. Current value: lambda_l1=0.9742191379197725\n",
      "[LightGBM] [Warning] bagging_fraction is set=0.9, subsample=1.0 will be ignored. Current value: bagging_fraction=0.9\n",
      "[LightGBM] [Warning] min_gain_to_split is set=6.108990626390034, min_split_gain=0.0 will be ignored. Current value: min_gain_to_split=6.108990626390034\n",
      "[LightGBM] [Warning] lambda_l2 is set=25, reg_lambda=0.0 will be ignored. Current value: lambda_l2=25\n",
      "[LightGBM] [Warning] feature_fraction is set=0.7, colsample_bytree=1.0 will be ignored. Current value: feature_fraction=0.7\n",
      "[LightGBM] [Warning] min_data_in_leaf is set=1500, min_child_samples=20 will be ignored. Current value: min_data_in_leaf=1500\n",
      "[LightGBM] [Warning] bagging_freq is set=1, subsample_freq=0 will be ignored. Current value: bagging_freq=1\n"
     ]
    },
    {
     "name": "stderr",
     "output_type": "stream",
     "text": [
      "\u001b[32m[I 2022-02-11 10:28:06,372]\u001b[0m Trial 197 finished with value: -0.7508032722784661 and parameters: {'n_estimators': 10000, 'learning_rate': 0.26162615116665233, 'num_leaves': 1522, 'max_depth': 8, 'min_data_in_leaf': 1500, 'lambda_l1': 0.9742191379197725, 'lambda_l2': 25, 'min_gain_to_split': 6.108990626390034, 'bagging_fraction': 0.9, 'bagging_freq': 1, 'feature_fraction': 0.7}. Best is trial 195 with value: -0.7524194716556609.\u001b[0m\n"
     ]
    },
    {
     "name": "stdout",
     "output_type": "stream",
     "text": [
      "score -0.7577521697411557\n",
      "cancelled :5218 , not_cancelled :444782\n",
      "Memory usage of dataframe is 61.19 MB\n",
      "Memory usage after optimization is: 40.59 MB\n",
      "Decreased by 33.7%\n",
      "Features : ['first_mile_distance', 'elapse1', 'elapse2', 'last_mile_distance', 'tot_dist', 'alloted_orders', 'delivered_orders', 'del_ratio', 'undelivered_orders', 'lifetime_order_count', 'Hour', 'session_time', 'Monday', 'Saturday', 'Sunday', 'Thursday', 'Tuesday', 'Wednesday', 'dist_ratio']\n",
      "cat_features []\n",
      "(450000, 19) (450000,)\n",
      "train 360000 valid 90000\n",
      "training Light GBM:\n",
      "[LightGBM] [Warning] lambda_l1 is set=0.8267457014190934, reg_alpha=0.0 will be ignored. Current value: lambda_l1=0.8267457014190934\n",
      "[LightGBM] [Warning] bagging_fraction is set=0.9, subsample=1.0 will be ignored. Current value: bagging_fraction=0.9\n",
      "[LightGBM] [Warning] min_gain_to_split is set=5.7018646973079985, min_split_gain=0.0 will be ignored. Current value: min_gain_to_split=5.7018646973079985\n",
      "[LightGBM] [Warning] lambda_l2 is set=25, reg_lambda=0.0 will be ignored. Current value: lambda_l2=25\n",
      "[LightGBM] [Warning] feature_fraction is set=0.7, colsample_bytree=1.0 will be ignored. Current value: feature_fraction=0.7\n",
      "[LightGBM] [Warning] min_data_in_leaf is set=1350, min_child_samples=20 will be ignored. Current value: min_data_in_leaf=1350\n",
      "[LightGBM] [Warning] bagging_freq is set=1, subsample_freq=0 will be ignored. Current value: bagging_freq=1\n"
     ]
    },
    {
     "name": "stderr",
     "output_type": "stream",
     "text": [
      "\u001b[32m[I 2022-02-11 10:28:10,490]\u001b[0m Trial 198 pruned. Trial was pruned at iteration 3.\u001b[0m\n"
     ]
    },
    {
     "name": "stdout",
     "output_type": "stream",
     "text": [
      "cancelled :5218 , not_cancelled :444782\n",
      "Memory usage of dataframe is 61.19 MB\n",
      "Memory usage after optimization is: 40.59 MB\n",
      "Decreased by 33.7%\n",
      "Features : ['first_mile_distance', 'elapse1', 'elapse2', 'last_mile_distance', 'tot_dist', 'alloted_orders', 'delivered_orders', 'del_ratio', 'undelivered_orders', 'lifetime_order_count', 'Hour', 'session_time', 'Monday', 'Saturday', 'Sunday', 'Thursday', 'Tuesday', 'Wednesday', 'dist_ratio']\n",
      "cat_features []\n",
      "(450000, 19) (450000,)\n",
      "train 360000 valid 90000\n",
      "training Light GBM:\n",
      "score -0.7695819964337753\n",
      "train 360000 valid 90000\n",
      "training Light GBM:\n",
      "[LightGBM] [Warning] lambda_l1 is set=1.5262997693684974, reg_alpha=0.0 will be ignored. Current value: lambda_l1=1.5262997693684974\n",
      "[LightGBM] [Warning] bagging_fraction is set=0.9, subsample=1.0 will be ignored. Current value: bagging_fraction=0.9\n",
      "[LightGBM] [Warning] min_gain_to_split is set=6.447462103134479, min_split_gain=0.0 will be ignored. Current value: min_gain_to_split=6.447462103134479\n",
      "[LightGBM] [Warning] lambda_l2 is set=25, reg_lambda=0.0 will be ignored. Current value: lambda_l2=25\n",
      "[LightGBM] [Warning] feature_fraction is set=0.7, colsample_bytree=1.0 will be ignored. Current value: feature_fraction=0.7\n",
      "[LightGBM] [Warning] min_data_in_leaf is set=1500, min_child_samples=20 will be ignored. Current value: min_data_in_leaf=1500\n",
      "[LightGBM] [Warning] bagging_freq is set=1, subsample_freq=0 will be ignored. Current value: bagging_freq=1\n",
      "score -0.7287115600499496\n",
      "train 360000 valid 90000\n",
      "training Light GBM:\n",
      "[LightGBM] [Warning] lambda_l1 is set=1.5262997693684974, reg_alpha=0.0 will be ignored. Current value: lambda_l1=1.5262997693684974\n",
      "[LightGBM] [Warning] bagging_fraction is set=0.9, subsample=1.0 will be ignored. Current value: bagging_fraction=0.9\n",
      "[LightGBM] [Warning] min_gain_to_split is set=6.447462103134479, min_split_gain=0.0 will be ignored. Current value: min_gain_to_split=6.447462103134479\n",
      "[LightGBM] [Warning] lambda_l2 is set=25, reg_lambda=0.0 will be ignored. Current value: lambda_l2=25\n",
      "[LightGBM] [Warning] feature_fraction is set=0.7, colsample_bytree=1.0 will be ignored. Current value: feature_fraction=0.7\n",
      "[LightGBM] [Warning] min_data_in_leaf is set=1500, min_child_samples=20 will be ignored. Current value: min_data_in_leaf=1500\n",
      "[LightGBM] [Warning] bagging_freq is set=1, subsample_freq=0 will be ignored. Current value: bagging_freq=1\n",
      "score -0.7456504498586326\n",
      "train 360000 valid 90000\n",
      "training Light GBM:\n",
      "[LightGBM] [Warning] lambda_l1 is set=1.5262997693684974, reg_alpha=0.0 will be ignored. Current value: lambda_l1=1.5262997693684974\n",
      "[LightGBM] [Warning] bagging_fraction is set=0.9, subsample=1.0 will be ignored. Current value: bagging_fraction=0.9\n",
      "[LightGBM] [Warning] min_gain_to_split is set=6.447462103134479, min_split_gain=0.0 will be ignored. Current value: min_gain_to_split=6.447462103134479\n",
      "[LightGBM] [Warning] lambda_l2 is set=25, reg_lambda=0.0 will be ignored. Current value: lambda_l2=25\n",
      "[LightGBM] [Warning] feature_fraction is set=0.7, colsample_bytree=1.0 will be ignored. Current value: feature_fraction=0.7\n",
      "[LightGBM] [Warning] min_data_in_leaf is set=1500, min_child_samples=20 will be ignored. Current value: min_data_in_leaf=1500\n",
      "[LightGBM] [Warning] bagging_freq is set=1, subsample_freq=0 will be ignored. Current value: bagging_freq=1\n",
      "score -0.7413272914294535\n",
      "train 360000 valid 90000\n",
      "training Light GBM:\n",
      "[LightGBM] [Warning] lambda_l1 is set=1.5262997693684974, reg_alpha=0.0 will be ignored. Current value: lambda_l1=1.5262997693684974\n",
      "[LightGBM] [Warning] bagging_fraction is set=0.9, subsample=1.0 will be ignored. Current value: bagging_fraction=0.9\n",
      "[LightGBM] [Warning] min_gain_to_split is set=6.447462103134479, min_split_gain=0.0 will be ignored. Current value: min_gain_to_split=6.447462103134479\n",
      "[LightGBM] [Warning] lambda_l2 is set=25, reg_lambda=0.0 will be ignored. Current value: lambda_l2=25\n",
      "[LightGBM] [Warning] feature_fraction is set=0.7, colsample_bytree=1.0 will be ignored. Current value: feature_fraction=0.7\n",
      "[LightGBM] [Warning] min_data_in_leaf is set=1500, min_child_samples=20 will be ignored. Current value: min_data_in_leaf=1500\n",
      "[LightGBM] [Warning] bagging_freq is set=1, subsample_freq=0 will be ignored. Current value: bagging_freq=1\n"
     ]
    },
    {
     "name": "stderr",
     "output_type": "stream",
     "text": [
      "\u001b[32m[I 2022-02-11 10:28:22,704]\u001b[0m Trial 199 finished with value: -0.7491478771489405 and parameters: {'n_estimators': 10000, 'learning_rate': 0.2748824952763669, 'num_leaves': 1594, 'max_depth': 9, 'min_data_in_leaf': 1500, 'lambda_l1': 1.5262997693684974, 'lambda_l2': 25, 'min_gain_to_split': 6.447462103134479, 'bagging_fraction': 0.9, 'bagging_freq': 1, 'feature_fraction': 0.7}. Best is trial 195 with value: -0.7524194716556609.\u001b[0m\n"
     ]
    },
    {
     "name": "stdout",
     "output_type": "stream",
     "text": [
      "score -0.7604680879728909\n",
      "cancelled :5218 , not_cancelled :444782\n",
      "Memory usage of dataframe is 61.19 MB\n",
      "Memory usage after optimization is: 40.59 MB\n",
      "Decreased by 33.7%\n",
      "Features : ['first_mile_distance', 'elapse1', 'elapse2', 'last_mile_distance', 'tot_dist', 'alloted_orders', 'delivered_orders', 'del_ratio', 'undelivered_orders', 'lifetime_order_count', 'Hour', 'session_time', 'Monday', 'Saturday', 'Sunday', 'Thursday', 'Tuesday', 'Wednesday', 'dist_ratio']\n",
      "cat_features []\n",
      "(450000, 19) (450000,)\n",
      "train 360000 valid 90000\n",
      "training Light GBM:\n",
      "[LightGBM] [Warning] lambda_l1 is set=1.5561828514133078, reg_alpha=0.0 will be ignored. Current value: lambda_l1=1.5561828514133078\n",
      "[LightGBM] [Warning] bagging_fraction is set=0.9, subsample=1.0 will be ignored. Current value: bagging_fraction=0.9\n",
      "[LightGBM] [Warning] min_gain_to_split is set=6.188889192697781, min_split_gain=0.0 will be ignored. Current value: min_gain_to_split=6.188889192697781\n",
      "[LightGBM] [Warning] lambda_l2 is set=25, reg_lambda=0.0 will be ignored. Current value: lambda_l2=25\n",
      "[LightGBM] [Warning] feature_fraction is set=0.7, colsample_bytree=1.0 will be ignored. Current value: feature_fraction=0.7\n",
      "[LightGBM] [Warning] min_data_in_leaf is set=1250, min_child_samples=20 will be ignored. Current value: min_data_in_leaf=1250\n",
      "[LightGBM] [Warning] bagging_freq is set=1, subsample_freq=0 will be ignored. Current value: bagging_freq=1\n"
     ]
    },
    {
     "name": "stderr",
     "output_type": "stream",
     "text": [
      "\u001b[32m[I 2022-02-11 10:28:26,598]\u001b[0m Trial 200 pruned. Trial was pruned at iteration 0.\u001b[0m\n"
     ]
    },
    {
     "name": "stdout",
     "output_type": "stream",
     "text": [
      "cancelled :5218 , not_cancelled :444782\n",
      "Memory usage of dataframe is 61.19 MB\n",
      "Memory usage after optimization is: 40.59 MB\n",
      "Decreased by 33.7%\n",
      "Features : ['first_mile_distance', 'elapse1', 'elapse2', 'last_mile_distance', 'tot_dist', 'alloted_orders', 'delivered_orders', 'del_ratio', 'undelivered_orders', 'lifetime_order_count', 'Hour', 'session_time', 'Monday', 'Saturday', 'Sunday', 'Thursday', 'Tuesday', 'Wednesday', 'dist_ratio']\n",
      "cat_features []\n",
      "(450000, 19) (450000,)\n",
      "train 360000 valid 90000\n",
      "training Light GBM:\n"
     ]
    },
    {
     "name": "stderr",
     "output_type": "stream",
     "text": [
      "\u001b[32m[I 2022-02-11 10:28:30,633]\u001b[0m Trial 201 pruned. Trial was pruned at iteration 3.\u001b[0m\n"
     ]
    },
    {
     "name": "stdout",
     "output_type": "stream",
     "text": [
      "cancelled :5218 , not_cancelled :444782\n",
      "Memory usage of dataframe is 61.19 MB\n",
      "Memory usage after optimization is: 40.59 MB\n",
      "Decreased by 33.7%\n",
      "Features : ['first_mile_distance', 'elapse1', 'elapse2', 'last_mile_distance', 'tot_dist', 'alloted_orders', 'delivered_orders', 'del_ratio', 'undelivered_orders', 'lifetime_order_count', 'Hour', 'session_time', 'Monday', 'Saturday', 'Sunday', 'Thursday', 'Tuesday', 'Wednesday', 'dist_ratio']\n",
      "cat_features []\n",
      "(450000, 19) (450000,)\n",
      "train 360000 valid 90000\n",
      "training Light GBM:\n",
      "score -0.752105973486215\n",
      "train 360000 valid 90000\n",
      "training Light GBM:\n",
      "[LightGBM] [Warning] lambda_l1 is set=2.2275143126018317, reg_alpha=0.0 will be ignored. Current value: lambda_l1=2.2275143126018317\n",
      "[LightGBM] [Warning] bagging_fraction is set=0.9, subsample=1.0 will be ignored. Current value: bagging_fraction=0.9\n",
      "[LightGBM] [Warning] min_gain_to_split is set=6.208244537319992, min_split_gain=0.0 will be ignored. Current value: min_gain_to_split=6.208244537319992\n",
      "[LightGBM] [Warning] lambda_l2 is set=25, reg_lambda=0.0 will be ignored. Current value: lambda_l2=25\n",
      "[LightGBM] [Warning] feature_fraction is set=0.7, colsample_bytree=1.0 will be ignored. Current value: feature_fraction=0.7\n",
      "[LightGBM] [Warning] min_data_in_leaf is set=1600, min_child_samples=20 will be ignored. Current value: min_data_in_leaf=1600\n",
      "[LightGBM] [Warning] bagging_freq is set=1, subsample_freq=0 will be ignored. Current value: bagging_freq=1\n",
      "score -0.7505076865484612\n",
      "train 360000 valid 90000\n",
      "training Light GBM:\n",
      "[LightGBM] [Warning] lambda_l1 is set=2.2275143126018317, reg_alpha=0.0 will be ignored. Current value: lambda_l1=2.2275143126018317\n",
      "[LightGBM] [Warning] bagging_fraction is set=0.9, subsample=1.0 will be ignored. Current value: bagging_fraction=0.9\n",
      "[LightGBM] [Warning] min_gain_to_split is set=6.208244537319992, min_split_gain=0.0 will be ignored. Current value: min_gain_to_split=6.208244537319992\n",
      "[LightGBM] [Warning] lambda_l2 is set=25, reg_lambda=0.0 will be ignored. Current value: lambda_l2=25\n",
      "[LightGBM] [Warning] feature_fraction is set=0.7, colsample_bytree=1.0 will be ignored. Current value: feature_fraction=0.7\n",
      "[LightGBM] [Warning] min_data_in_leaf is set=1600, min_child_samples=20 will be ignored. Current value: min_data_in_leaf=1600\n",
      "[LightGBM] [Warning] bagging_freq is set=1, subsample_freq=0 will be ignored. Current value: bagging_freq=1\n",
      "score -0.7453425734690999\n",
      "train 360000 valid 90000\n",
      "training Light GBM:\n",
      "[LightGBM] [Warning] lambda_l1 is set=2.2275143126018317, reg_alpha=0.0 will be ignored. Current value: lambda_l1=2.2275143126018317\n",
      "[LightGBM] [Warning] bagging_fraction is set=0.9, subsample=1.0 will be ignored. Current value: bagging_fraction=0.9\n",
      "[LightGBM] [Warning] min_gain_to_split is set=6.208244537319992, min_split_gain=0.0 will be ignored. Current value: min_gain_to_split=6.208244537319992\n",
      "[LightGBM] [Warning] lambda_l2 is set=25, reg_lambda=0.0 will be ignored. Current value: lambda_l2=25\n",
      "[LightGBM] [Warning] feature_fraction is set=0.7, colsample_bytree=1.0 will be ignored. Current value: feature_fraction=0.7\n",
      "[LightGBM] [Warning] min_data_in_leaf is set=1600, min_child_samples=20 will be ignored. Current value: min_data_in_leaf=1600\n",
      "[LightGBM] [Warning] bagging_freq is set=1, subsample_freq=0 will be ignored. Current value: bagging_freq=1\n",
      "score -0.7530049564733798\n",
      "train 360000 valid 90000\n",
      "training Light GBM:\n",
      "[LightGBM] [Warning] lambda_l1 is set=2.2275143126018317, reg_alpha=0.0 will be ignored. Current value: lambda_l1=2.2275143126018317\n",
      "[LightGBM] [Warning] bagging_fraction is set=0.9, subsample=1.0 will be ignored. Current value: bagging_fraction=0.9\n",
      "[LightGBM] [Warning] min_gain_to_split is set=6.208244537319992, min_split_gain=0.0 will be ignored. Current value: min_gain_to_split=6.208244537319992\n",
      "[LightGBM] [Warning] lambda_l2 is set=25, reg_lambda=0.0 will be ignored. Current value: lambda_l2=25\n",
      "[LightGBM] [Warning] feature_fraction is set=0.7, colsample_bytree=1.0 will be ignored. Current value: feature_fraction=0.7\n",
      "[LightGBM] [Warning] min_data_in_leaf is set=1600, min_child_samples=20 will be ignored. Current value: min_data_in_leaf=1600\n",
      "[LightGBM] [Warning] bagging_freq is set=1, subsample_freq=0 will be ignored. Current value: bagging_freq=1\n"
     ]
    },
    {
     "name": "stderr",
     "output_type": "stream",
     "text": [
      "\u001b[32m[I 2022-02-11 10:28:43,418]\u001b[0m Trial 202 finished with value: -0.7495884050961668 and parameters: {'n_estimators': 10000, 'learning_rate': 0.2726926436468864, 'num_leaves': 1682, 'max_depth': 9, 'min_data_in_leaf': 1600, 'lambda_l1': 2.2275143126018317, 'lambda_l2': 25, 'min_gain_to_split': 6.208244537319992, 'bagging_fraction': 0.9, 'bagging_freq': 1, 'feature_fraction': 0.7}. Best is trial 195 with value: -0.7524194716556609.\u001b[0m\n"
     ]
    },
    {
     "name": "stdout",
     "output_type": "stream",
     "text": [
      "score -0.7469808355036776\n",
      "cancelled :5218 , not_cancelled :444782\n",
      "Memory usage of dataframe is 61.19 MB\n",
      "Memory usage after optimization is: 40.59 MB\n",
      "Decreased by 33.7%\n",
      "Features : ['first_mile_distance', 'elapse1', 'elapse2', 'last_mile_distance', 'tot_dist', 'alloted_orders', 'delivered_orders', 'del_ratio', 'undelivered_orders', 'lifetime_order_count', 'Hour', 'session_time', 'Monday', 'Saturday', 'Sunday', 'Thursday', 'Tuesday', 'Wednesday', 'dist_ratio']\n",
      "cat_features []\n",
      "(450000, 19) (450000,)\n",
      "train 360000 valid 90000\n",
      "training Light GBM:\n",
      "[LightGBM] [Warning] lambda_l1 is set=4.331919504842715, reg_alpha=0.0 will be ignored. Current value: lambda_l1=4.331919504842715\n",
      "[LightGBM] [Warning] bagging_fraction is set=0.9, subsample=1.0 will be ignored. Current value: bagging_fraction=0.9\n",
      "[LightGBM] [Warning] min_gain_to_split is set=5.937026889189696, min_split_gain=0.0 will be ignored. Current value: min_gain_to_split=5.937026889189696\n",
      "[LightGBM] [Warning] lambda_l2 is set=30, reg_lambda=0.0 will be ignored. Current value: lambda_l2=30\n",
      "[LightGBM] [Warning] feature_fraction is set=0.7, colsample_bytree=1.0 will be ignored. Current value: feature_fraction=0.7\n",
      "[LightGBM] [Warning] min_data_in_leaf is set=1650, min_child_samples=20 will be ignored. Current value: min_data_in_leaf=1650\n",
      "[LightGBM] [Warning] bagging_freq is set=1, subsample_freq=0 will be ignored. Current value: bagging_freq=1\n"
     ]
    },
    {
     "name": "stderr",
     "output_type": "stream",
     "text": [
      "\u001b[32m[I 2022-02-11 10:28:47,381]\u001b[0m Trial 203 pruned. Trial was pruned at iteration 0.\u001b[0m\n"
     ]
    },
    {
     "name": "stdout",
     "output_type": "stream",
     "text": [
      "cancelled :5218 , not_cancelled :444782\n",
      "Memory usage of dataframe is 61.19 MB\n",
      "Memory usage after optimization is: 40.59 MB\n",
      "Decreased by 33.7%\n",
      "Features : ['first_mile_distance', 'elapse1', 'elapse2', 'last_mile_distance', 'tot_dist', 'alloted_orders', 'delivered_orders', 'del_ratio', 'undelivered_orders', 'lifetime_order_count', 'Hour', 'session_time', 'Monday', 'Saturday', 'Sunday', 'Thursday', 'Tuesday', 'Wednesday', 'dist_ratio']\n",
      "cat_features []\n",
      "(450000, 19) (450000,)\n",
      "train 360000 valid 90000\n",
      "training Light GBM:\n"
     ]
    },
    {
     "name": "stderr",
     "output_type": "stream",
     "text": [
      "\u001b[32m[I 2022-02-11 10:28:51,282]\u001b[0m Trial 204 pruned. Trial was pruned at iteration 0.\u001b[0m\n"
     ]
    },
    {
     "name": "stdout",
     "output_type": "stream",
     "text": [
      "cancelled :5218 , not_cancelled :444782\n",
      "Memory usage of dataframe is 61.19 MB\n",
      "Memory usage after optimization is: 40.59 MB\n",
      "Decreased by 33.7%\n",
      "Features : ['first_mile_distance', 'elapse1', 'elapse2', 'last_mile_distance', 'tot_dist', 'alloted_orders', 'delivered_orders', 'del_ratio', 'undelivered_orders', 'lifetime_order_count', 'Hour', 'session_time', 'Monday', 'Saturday', 'Sunday', 'Thursday', 'Tuesday', 'Wednesday', 'dist_ratio']\n",
      "cat_features []\n",
      "(450000, 19) (450000,)\n",
      "train 360000 valid 90000\n",
      "training Light GBM:\n"
     ]
    },
    {
     "name": "stderr",
     "output_type": "stream",
     "text": [
      "\u001b[32m[I 2022-02-11 10:28:55,143]\u001b[0m Trial 205 pruned. Trial was pruned at iteration 0.\u001b[0m\n"
     ]
    },
    {
     "name": "stdout",
     "output_type": "stream",
     "text": [
      "cancelled :5218 , not_cancelled :444782\n",
      "Memory usage of dataframe is 61.19 MB\n",
      "Memory usage after optimization is: 40.59 MB\n",
      "Decreased by 33.7%\n",
      "Features : ['first_mile_distance', 'elapse1', 'elapse2', 'last_mile_distance', 'tot_dist', 'alloted_orders', 'delivered_orders', 'del_ratio', 'undelivered_orders', 'lifetime_order_count', 'Hour', 'session_time', 'Monday', 'Saturday', 'Sunday', 'Thursday', 'Tuesday', 'Wednesday', 'dist_ratio']\n",
      "cat_features []\n",
      "(450000, 19) (450000,)\n",
      "train 360000 valid 90000\n",
      "training Light GBM:\n"
     ]
    },
    {
     "name": "stderr",
     "output_type": "stream",
     "text": [
      "\u001b[32m[I 2022-02-11 10:28:58,996]\u001b[0m Trial 206 pruned. Trial was pruned at iteration 0.\u001b[0m\n"
     ]
    },
    {
     "name": "stdout",
     "output_type": "stream",
     "text": [
      "cancelled :5218 , not_cancelled :444782\n",
      "Memory usage of dataframe is 61.19 MB\n",
      "Memory usage after optimization is: 40.59 MB\n",
      "Decreased by 33.7%\n",
      "Features : ['first_mile_distance', 'elapse1', 'elapse2', 'last_mile_distance', 'tot_dist', 'alloted_orders', 'delivered_orders', 'del_ratio', 'undelivered_orders', 'lifetime_order_count', 'Hour', 'session_time', 'Monday', 'Saturday', 'Sunday', 'Thursday', 'Tuesday', 'Wednesday', 'dist_ratio']\n",
      "cat_features []\n",
      "(450000, 19) (450000,)\n",
      "train 360000 valid 90000\n",
      "training Light GBM:\n"
     ]
    },
    {
     "name": "stderr",
     "output_type": "stream",
     "text": [
      "\u001b[32m[I 2022-02-11 10:29:03,206]\u001b[0m Trial 207 pruned. Trial was pruned at iteration 19.\u001b[0m\n"
     ]
    },
    {
     "name": "stdout",
     "output_type": "stream",
     "text": [
      "cancelled :5218 , not_cancelled :444782\n",
      "Memory usage of dataframe is 61.19 MB\n",
      "Memory usage after optimization is: 40.59 MB\n",
      "Decreased by 33.7%\n",
      "Features : ['first_mile_distance', 'elapse1', 'elapse2', 'last_mile_distance', 'tot_dist', 'alloted_orders', 'delivered_orders', 'del_ratio', 'undelivered_orders', 'lifetime_order_count', 'Hour', 'session_time', 'Monday', 'Saturday', 'Sunday', 'Thursday', 'Tuesday', 'Wednesday', 'dist_ratio']\n",
      "cat_features []\n",
      "(450000, 19) (450000,)\n",
      "train 360000 valid 90000\n",
      "training Light GBM:\n"
     ]
    },
    {
     "name": "stderr",
     "output_type": "stream",
     "text": [
      "\u001b[32m[I 2022-02-11 10:29:07,102]\u001b[0m Trial 208 pruned. Trial was pruned at iteration 0.\u001b[0m\n"
     ]
    },
    {
     "name": "stdout",
     "output_type": "stream",
     "text": [
      "cancelled :5218 , not_cancelled :444782\n",
      "Memory usage of dataframe is 61.19 MB\n",
      "Memory usage after optimization is: 40.59 MB\n",
      "Decreased by 33.7%\n",
      "Features : ['first_mile_distance', 'elapse1', 'elapse2', 'last_mile_distance', 'tot_dist', 'alloted_orders', 'delivered_orders', 'del_ratio', 'undelivered_orders', 'lifetime_order_count', 'Hour', 'session_time', 'Monday', 'Saturday', 'Sunday', 'Thursday', 'Tuesday', 'Wednesday', 'dist_ratio']\n",
      "cat_features []\n",
      "(450000, 19) (450000,)\n",
      "train 360000 valid 90000\n",
      "training Light GBM:\n",
      "score -0.7464701858442578\n",
      "train 360000 valid 90000\n",
      "training Light GBM:\n",
      "[LightGBM] [Warning] lambda_l1 is set=0.9826184940114355, reg_alpha=0.0 will be ignored. Current value: lambda_l1=0.9826184940114355\n",
      "[LightGBM] [Warning] bagging_fraction is set=0.9, subsample=1.0 will be ignored. Current value: bagging_fraction=0.9\n",
      "[LightGBM] [Warning] min_gain_to_split is set=1.8795351148514803, min_split_gain=0.0 will be ignored. Current value: min_gain_to_split=1.8795351148514803\n",
      "[LightGBM] [Warning] lambda_l2 is set=25, reg_lambda=0.0 will be ignored. Current value: lambda_l2=25\n",
      "[LightGBM] [Warning] feature_fraction is set=0.7, colsample_bytree=1.0 will be ignored. Current value: feature_fraction=0.7\n",
      "[LightGBM] [Warning] min_data_in_leaf is set=1650, min_child_samples=20 will be ignored. Current value: min_data_in_leaf=1650\n",
      "[LightGBM] [Warning] bagging_freq is set=1, subsample_freq=0 will be ignored. Current value: bagging_freq=1\n",
      "score -0.7495114335083697\n",
      "train 360000 valid 90000\n",
      "training Light GBM:\n",
      "[LightGBM] [Warning] lambda_l1 is set=0.9826184940114355, reg_alpha=0.0 will be ignored. Current value: lambda_l1=0.9826184940114355\n",
      "[LightGBM] [Warning] bagging_fraction is set=0.9, subsample=1.0 will be ignored. Current value: bagging_fraction=0.9\n",
      "[LightGBM] [Warning] min_gain_to_split is set=1.8795351148514803, min_split_gain=0.0 will be ignored. Current value: min_gain_to_split=1.8795351148514803\n",
      "[LightGBM] [Warning] lambda_l2 is set=25, reg_lambda=0.0 will be ignored. Current value: lambda_l2=25\n",
      "[LightGBM] [Warning] feature_fraction is set=0.7, colsample_bytree=1.0 will be ignored. Current value: feature_fraction=0.7\n",
      "[LightGBM] [Warning] min_data_in_leaf is set=1650, min_child_samples=20 will be ignored. Current value: min_data_in_leaf=1650\n",
      "[LightGBM] [Warning] bagging_freq is set=1, subsample_freq=0 will be ignored. Current value: bagging_freq=1\n",
      "score -0.7520581120736602\n",
      "train 360000 valid 90000\n",
      "training Light GBM:\n",
      "[LightGBM] [Warning] lambda_l1 is set=0.9826184940114355, reg_alpha=0.0 will be ignored. Current value: lambda_l1=0.9826184940114355\n",
      "[LightGBM] [Warning] bagging_fraction is set=0.9, subsample=1.0 will be ignored. Current value: bagging_fraction=0.9\n",
      "[LightGBM] [Warning] min_gain_to_split is set=1.8795351148514803, min_split_gain=0.0 will be ignored. Current value: min_gain_to_split=1.8795351148514803\n",
      "[LightGBM] [Warning] lambda_l2 is set=25, reg_lambda=0.0 will be ignored. Current value: lambda_l2=25\n",
      "[LightGBM] [Warning] feature_fraction is set=0.7, colsample_bytree=1.0 will be ignored. Current value: feature_fraction=0.7\n",
      "[LightGBM] [Warning] min_data_in_leaf is set=1650, min_child_samples=20 will be ignored. Current value: min_data_in_leaf=1650\n",
      "[LightGBM] [Warning] bagging_freq is set=1, subsample_freq=0 will be ignored. Current value: bagging_freq=1\n",
      "score -0.7616925945049419\n",
      "train 360000 valid 90000\n",
      "training Light GBM:\n",
      "[LightGBM] [Warning] lambda_l1 is set=0.9826184940114355, reg_alpha=0.0 will be ignored. Current value: lambda_l1=0.9826184940114355\n",
      "[LightGBM] [Warning] bagging_fraction is set=0.9, subsample=1.0 will be ignored. Current value: bagging_fraction=0.9\n",
      "[LightGBM] [Warning] min_gain_to_split is set=1.8795351148514803, min_split_gain=0.0 will be ignored. Current value: min_gain_to_split=1.8795351148514803\n",
      "[LightGBM] [Warning] lambda_l2 is set=25, reg_lambda=0.0 will be ignored. Current value: lambda_l2=25\n",
      "[LightGBM] [Warning] feature_fraction is set=0.7, colsample_bytree=1.0 will be ignored. Current value: feature_fraction=0.7\n",
      "[LightGBM] [Warning] min_data_in_leaf is set=1650, min_child_samples=20 will be ignored. Current value: min_data_in_leaf=1650\n",
      "[LightGBM] [Warning] bagging_freq is set=1, subsample_freq=0 will be ignored. Current value: bagging_freq=1\n"
     ]
    },
    {
     "name": "stderr",
     "output_type": "stream",
     "text": [
      "\u001b[32m[I 2022-02-11 10:29:23,142]\u001b[0m Trial 209 finished with value: -0.7498861715699952 and parameters: {'n_estimators': 10000, 'learning_rate': 0.26142344976977555, 'num_leaves': 1338, 'max_depth': 9, 'min_data_in_leaf': 1650, 'lambda_l1': 0.9826184940114355, 'lambda_l2': 25, 'min_gain_to_split': 1.8795351148514803, 'bagging_fraction': 0.9, 'bagging_freq': 1, 'feature_fraction': 0.7}. Best is trial 195 with value: -0.7524194716556609.\u001b[0m\n"
     ]
    },
    {
     "name": "stdout",
     "output_type": "stream",
     "text": [
      "score -0.7396985319187462\n",
      "cancelled :5218 , not_cancelled :444782\n",
      "Memory usage of dataframe is 61.19 MB\n",
      "Memory usage after optimization is: 40.59 MB\n",
      "Decreased by 33.7%\n",
      "Features : ['first_mile_distance', 'elapse1', 'elapse2', 'last_mile_distance', 'tot_dist', 'alloted_orders', 'delivered_orders', 'del_ratio', 'undelivered_orders', 'lifetime_order_count', 'Hour', 'session_time', 'Monday', 'Saturday', 'Sunday', 'Thursday', 'Tuesday', 'Wednesday', 'dist_ratio']\n",
      "cat_features []\n",
      "(450000, 19) (450000,)\n",
      "train 360000 valid 90000\n",
      "training Light GBM:\n",
      "[LightGBM] [Warning] lambda_l1 is set=0.9706915056610403, reg_alpha=0.0 will be ignored. Current value: lambda_l1=0.9706915056610403\n",
      "[LightGBM] [Warning] bagging_fraction is set=0.9, subsample=1.0 will be ignored. Current value: bagging_fraction=0.9\n",
      "[LightGBM] [Warning] min_gain_to_split is set=1.8796308176718406, min_split_gain=0.0 will be ignored. Current value: min_gain_to_split=1.8796308176718406\n",
      "[LightGBM] [Warning] lambda_l2 is set=25, reg_lambda=0.0 will be ignored. Current value: lambda_l2=25\n",
      "[LightGBM] [Warning] feature_fraction is set=0.7, colsample_bytree=1.0 will be ignored. Current value: feature_fraction=0.7\n",
      "[LightGBM] [Warning] min_data_in_leaf is set=1650, min_child_samples=20 will be ignored. Current value: min_data_in_leaf=1650\n",
      "[LightGBM] [Warning] bagging_freq is set=1, subsample_freq=0 will be ignored. Current value: bagging_freq=1\n"
     ]
    },
    {
     "name": "stderr",
     "output_type": "stream",
     "text": [
      "\u001b[32m[I 2022-02-11 10:29:27,075]\u001b[0m Trial 210 pruned. Trial was pruned at iteration 0.\u001b[0m\n"
     ]
    },
    {
     "name": "stdout",
     "output_type": "stream",
     "text": [
      "cancelled :5218 , not_cancelled :444782\n",
      "Memory usage of dataframe is 61.19 MB\n",
      "Memory usage after optimization is: 40.59 MB\n",
      "Decreased by 33.7%\n",
      "Features : ['first_mile_distance', 'elapse1', 'elapse2', 'last_mile_distance', 'tot_dist', 'alloted_orders', 'delivered_orders', 'del_ratio', 'undelivered_orders', 'lifetime_order_count', 'Hour', 'session_time', 'Monday', 'Saturday', 'Sunday', 'Thursday', 'Tuesday', 'Wednesday', 'dist_ratio']\n",
      "cat_features []\n",
      "(450000, 19) (450000,)\n",
      "train 360000 valid 90000\n",
      "training Light GBM:\n"
     ]
    },
    {
     "name": "stderr",
     "output_type": "stream",
     "text": [
      "\u001b[32m[I 2022-02-11 10:29:31,287]\u001b[0m Trial 211 pruned. Trial was pruned at iteration 12.\u001b[0m\n"
     ]
    },
    {
     "name": "stdout",
     "output_type": "stream",
     "text": [
      "cancelled :5218 , not_cancelled :444782\n",
      "Memory usage of dataframe is 61.19 MB\n",
      "Memory usage after optimization is: 40.59 MB\n",
      "Decreased by 33.7%\n",
      "Features : ['first_mile_distance', 'elapse1', 'elapse2', 'last_mile_distance', 'tot_dist', 'alloted_orders', 'delivered_orders', 'del_ratio', 'undelivered_orders', 'lifetime_order_count', 'Hour', 'session_time', 'Monday', 'Saturday', 'Sunday', 'Thursday', 'Tuesday', 'Wednesday', 'dist_ratio']\n",
      "cat_features []\n",
      "(450000, 19) (450000,)\n",
      "train 360000 valid 90000\n",
      "training Light GBM:\n"
     ]
    },
    {
     "name": "stderr",
     "output_type": "stream",
     "text": [
      "\u001b[32m[I 2022-02-11 10:29:35,215]\u001b[0m Trial 212 pruned. Trial was pruned at iteration 0.\u001b[0m\n"
     ]
    },
    {
     "name": "stdout",
     "output_type": "stream",
     "text": [
      "cancelled :5218 , not_cancelled :444782\n",
      "Memory usage of dataframe is 61.19 MB\n",
      "Memory usage after optimization is: 40.59 MB\n",
      "Decreased by 33.7%\n",
      "Features : ['first_mile_distance', 'elapse1', 'elapse2', 'last_mile_distance', 'tot_dist', 'alloted_orders', 'delivered_orders', 'del_ratio', 'undelivered_orders', 'lifetime_order_count', 'Hour', 'session_time', 'Monday', 'Saturday', 'Sunday', 'Thursday', 'Tuesday', 'Wednesday', 'dist_ratio']\n",
      "cat_features []\n",
      "(450000, 19) (450000,)\n",
      "train 360000 valid 90000\n",
      "training Light GBM:\n"
     ]
    },
    {
     "name": "stderr",
     "output_type": "stream",
     "text": [
      "\u001b[32m[I 2022-02-11 10:29:39,365]\u001b[0m Trial 213 pruned. Trial was pruned at iteration 8.\u001b[0m\n"
     ]
    },
    {
     "name": "stdout",
     "output_type": "stream",
     "text": [
      "cancelled :5218 , not_cancelled :444782\n",
      "Memory usage of dataframe is 61.19 MB\n",
      "Memory usage after optimization is: 40.59 MB\n",
      "Decreased by 33.7%\n",
      "Features : ['first_mile_distance', 'elapse1', 'elapse2', 'last_mile_distance', 'tot_dist', 'alloted_orders', 'delivered_orders', 'del_ratio', 'undelivered_orders', 'lifetime_order_count', 'Hour', 'session_time', 'Monday', 'Saturday', 'Sunday', 'Thursday', 'Tuesday', 'Wednesday', 'dist_ratio']\n",
      "cat_features []\n",
      "(450000, 19) (450000,)\n",
      "train 360000 valid 90000\n",
      "training Light GBM:\n"
     ]
    },
    {
     "name": "stderr",
     "output_type": "stream",
     "text": [
      "\u001b[32m[I 2022-02-11 10:29:43,303]\u001b[0m Trial 214 pruned. Trial was pruned at iteration 0.\u001b[0m\n"
     ]
    },
    {
     "name": "stdout",
     "output_type": "stream",
     "text": [
      "cancelled :5218 , not_cancelled :444782\n",
      "Memory usage of dataframe is 61.19 MB\n",
      "Memory usage after optimization is: 40.59 MB\n",
      "Decreased by 33.7%\n",
      "Features : ['first_mile_distance', 'elapse1', 'elapse2', 'last_mile_distance', 'tot_dist', 'alloted_orders', 'delivered_orders', 'del_ratio', 'undelivered_orders', 'lifetime_order_count', 'Hour', 'session_time', 'Monday', 'Saturday', 'Sunday', 'Thursday', 'Tuesday', 'Wednesday', 'dist_ratio']\n",
      "cat_features []\n",
      "(450000, 19) (450000,)\n",
      "train 360000 valid 90000\n",
      "training Light GBM:\n",
      "score -0.752821752321737\n",
      "train 360000 valid 90000\n",
      "training Light GBM:\n",
      "[LightGBM] [Warning] lambda_l1 is set=0.03577867317626096, reg_alpha=0.0 will be ignored. Current value: lambda_l1=0.03577867317626096\n",
      "[LightGBM] [Warning] bagging_fraction is set=0.9, subsample=1.0 will be ignored. Current value: bagging_fraction=0.9\n",
      "[LightGBM] [Warning] min_gain_to_split is set=8.903174554320541, min_split_gain=0.0 will be ignored. Current value: min_gain_to_split=8.903174554320541\n",
      "[LightGBM] [Warning] lambda_l2 is set=20, reg_lambda=0.0 will be ignored. Current value: lambda_l2=20\n",
      "[LightGBM] [Warning] feature_fraction is set=0.7, colsample_bytree=1.0 will be ignored. Current value: feature_fraction=0.7\n",
      "[LightGBM] [Warning] min_data_in_leaf is set=1050, min_child_samples=20 will be ignored. Current value: min_data_in_leaf=1050\n",
      "[LightGBM] [Warning] bagging_freq is set=1, subsample_freq=0 will be ignored. Current value: bagging_freq=1\n",
      "score -0.7486954468214473\n",
      "train 360000 valid 90000\n",
      "training Light GBM:\n",
      "[LightGBM] [Warning] lambda_l1 is set=0.03577867317626096, reg_alpha=0.0 will be ignored. Current value: lambda_l1=0.03577867317626096\n",
      "[LightGBM] [Warning] bagging_fraction is set=0.9, subsample=1.0 will be ignored. Current value: bagging_fraction=0.9\n",
      "[LightGBM] [Warning] min_gain_to_split is set=8.903174554320541, min_split_gain=0.0 will be ignored. Current value: min_gain_to_split=8.903174554320541\n",
      "[LightGBM] [Warning] lambda_l2 is set=20, reg_lambda=0.0 will be ignored. Current value: lambda_l2=20\n",
      "[LightGBM] [Warning] feature_fraction is set=0.7, colsample_bytree=1.0 will be ignored. Current value: feature_fraction=0.7\n",
      "[LightGBM] [Warning] min_data_in_leaf is set=1050, min_child_samples=20 will be ignored. Current value: min_data_in_leaf=1050\n",
      "[LightGBM] [Warning] bagging_freq is set=1, subsample_freq=0 will be ignored. Current value: bagging_freq=1\n",
      "score -0.7476456945264947\n",
      "train 360000 valid 90000\n",
      "training Light GBM:\n",
      "[LightGBM] [Warning] lambda_l1 is set=0.03577867317626096, reg_alpha=0.0 will be ignored. Current value: lambda_l1=0.03577867317626096\n",
      "[LightGBM] [Warning] bagging_fraction is set=0.9, subsample=1.0 will be ignored. Current value: bagging_fraction=0.9\n",
      "[LightGBM] [Warning] min_gain_to_split is set=8.903174554320541, min_split_gain=0.0 will be ignored. Current value: min_gain_to_split=8.903174554320541\n",
      "[LightGBM] [Warning] lambda_l2 is set=20, reg_lambda=0.0 will be ignored. Current value: lambda_l2=20\n",
      "[LightGBM] [Warning] feature_fraction is set=0.7, colsample_bytree=1.0 will be ignored. Current value: feature_fraction=0.7\n",
      "[LightGBM] [Warning] min_data_in_leaf is set=1050, min_child_samples=20 will be ignored. Current value: min_data_in_leaf=1050\n",
      "[LightGBM] [Warning] bagging_freq is set=1, subsample_freq=0 will be ignored. Current value: bagging_freq=1\n",
      "score -0.7495006625601119\n",
      "train 360000 valid 90000\n",
      "training Light GBM:\n",
      "[LightGBM] [Warning] lambda_l1 is set=0.03577867317626096, reg_alpha=0.0 will be ignored. Current value: lambda_l1=0.03577867317626096\n",
      "[LightGBM] [Warning] bagging_fraction is set=0.9, subsample=1.0 will be ignored. Current value: bagging_fraction=0.9\n",
      "[LightGBM] [Warning] min_gain_to_split is set=8.903174554320541, min_split_gain=0.0 will be ignored. Current value: min_gain_to_split=8.903174554320541\n",
      "[LightGBM] [Warning] lambda_l2 is set=20, reg_lambda=0.0 will be ignored. Current value: lambda_l2=20\n",
      "[LightGBM] [Warning] feature_fraction is set=0.7, colsample_bytree=1.0 will be ignored. Current value: feature_fraction=0.7\n",
      "[LightGBM] [Warning] min_data_in_leaf is set=1050, min_child_samples=20 will be ignored. Current value: min_data_in_leaf=1050\n",
      "[LightGBM] [Warning] bagging_freq is set=1, subsample_freq=0 will be ignored. Current value: bagging_freq=1\n"
     ]
    },
    {
     "name": "stderr",
     "output_type": "stream",
     "text": [
      "\u001b[32m[I 2022-02-11 10:29:56,271]\u001b[0m Trial 215 finished with value: -0.7472758678868322 and parameters: {'n_estimators': 10000, 'learning_rate': 0.2785160401112079, 'num_leaves': 1884, 'max_depth': 9, 'min_data_in_leaf': 1050, 'lambda_l1': 0.03577867317626096, 'lambda_l2': 20, 'min_gain_to_split': 8.903174554320541, 'bagging_fraction': 0.9, 'bagging_freq': 1, 'feature_fraction': 0.7}. Best is trial 195 with value: -0.7524194716556609.\u001b[0m\n"
     ]
    },
    {
     "name": "stdout",
     "output_type": "stream",
     "text": [
      "score -0.7377157832043704\n",
      "cancelled :5218 , not_cancelled :444782\n",
      "Memory usage of dataframe is 61.19 MB\n",
      "Memory usage after optimization is: 40.59 MB\n",
      "Decreased by 33.7%\n",
      "Features : ['first_mile_distance', 'elapse1', 'elapse2', 'last_mile_distance', 'tot_dist', 'alloted_orders', 'delivered_orders', 'del_ratio', 'undelivered_orders', 'lifetime_order_count', 'Hour', 'session_time', 'Monday', 'Saturday', 'Sunday', 'Thursday', 'Tuesday', 'Wednesday', 'dist_ratio']\n",
      "cat_features []\n",
      "(450000, 19) (450000,)\n",
      "train 360000 valid 90000\n",
      "training Light GBM:\n",
      "[LightGBM] [Warning] lambda_l1 is set=0.03717801690900929, reg_alpha=0.0 will be ignored. Current value: lambda_l1=0.03717801690900929\n",
      "[LightGBM] [Warning] bagging_fraction is set=0.9, subsample=1.0 will be ignored. Current value: bagging_fraction=0.9\n",
      "[LightGBM] [Warning] min_gain_to_split is set=8.115596868286225, min_split_gain=0.0 will be ignored. Current value: min_gain_to_split=8.115596868286225\n",
      "[LightGBM] [Warning] lambda_l2 is set=20, reg_lambda=0.0 will be ignored. Current value: lambda_l2=20\n",
      "[LightGBM] [Warning] feature_fraction is set=0.7, colsample_bytree=1.0 will be ignored. Current value: feature_fraction=0.7\n",
      "[LightGBM] [Warning] min_data_in_leaf is set=1800, min_child_samples=20 will be ignored. Current value: min_data_in_leaf=1800\n",
      "[LightGBM] [Warning] bagging_freq is set=1, subsample_freq=0 will be ignored. Current value: bagging_freq=1\n",
      "score -0.7601602489254642\n",
      "train 360000 valid 90000\n",
      "training Light GBM:\n",
      "[LightGBM] [Warning] lambda_l1 is set=0.03717801690900929, reg_alpha=0.0 will be ignored. Current value: lambda_l1=0.03717801690900929\n",
      "[LightGBM] [Warning] bagging_fraction is set=0.9, subsample=1.0 will be ignored. Current value: bagging_fraction=0.9\n",
      "[LightGBM] [Warning] min_gain_to_split is set=8.115596868286225, min_split_gain=0.0 will be ignored. Current value: min_gain_to_split=8.115596868286225\n",
      "[LightGBM] [Warning] lambda_l2 is set=20, reg_lambda=0.0 will be ignored. Current value: lambda_l2=20\n",
      "[LightGBM] [Warning] feature_fraction is set=0.7, colsample_bytree=1.0 will be ignored. Current value: feature_fraction=0.7\n",
      "[LightGBM] [Warning] min_data_in_leaf is set=1800, min_child_samples=20 will be ignored. Current value: min_data_in_leaf=1800\n",
      "[LightGBM] [Warning] bagging_freq is set=1, subsample_freq=0 will be ignored. Current value: bagging_freq=1\n",
      "score -0.7576891109153094\n",
      "train 360000 valid 90000\n",
      "training Light GBM:\n",
      "[LightGBM] [Warning] lambda_l1 is set=0.03717801690900929, reg_alpha=0.0 will be ignored. Current value: lambda_l1=0.03717801690900929\n",
      "[LightGBM] [Warning] bagging_fraction is set=0.9, subsample=1.0 will be ignored. Current value: bagging_fraction=0.9\n",
      "[LightGBM] [Warning] min_gain_to_split is set=8.115596868286225, min_split_gain=0.0 will be ignored. Current value: min_gain_to_split=8.115596868286225\n",
      "[LightGBM] [Warning] lambda_l2 is set=20, reg_lambda=0.0 will be ignored. Current value: lambda_l2=20\n",
      "[LightGBM] [Warning] feature_fraction is set=0.7, colsample_bytree=1.0 will be ignored. Current value: feature_fraction=0.7\n",
      "[LightGBM] [Warning] min_data_in_leaf is set=1800, min_child_samples=20 will be ignored. Current value: min_data_in_leaf=1800\n",
      "[LightGBM] [Warning] bagging_freq is set=1, subsample_freq=0 will be ignored. Current value: bagging_freq=1\n",
      "score -0.7385184476668392\n",
      "train 360000 valid 90000\n",
      "training Light GBM:\n",
      "[LightGBM] [Warning] lambda_l1 is set=0.03717801690900929, reg_alpha=0.0 will be ignored. Current value: lambda_l1=0.03717801690900929\n",
      "[LightGBM] [Warning] bagging_fraction is set=0.9, subsample=1.0 will be ignored. Current value: bagging_fraction=0.9\n",
      "[LightGBM] [Warning] min_gain_to_split is set=8.115596868286225, min_split_gain=0.0 will be ignored. Current value: min_gain_to_split=8.115596868286225\n",
      "[LightGBM] [Warning] lambda_l2 is set=20, reg_lambda=0.0 will be ignored. Current value: lambda_l2=20\n",
      "[LightGBM] [Warning] feature_fraction is set=0.7, colsample_bytree=1.0 will be ignored. Current value: feature_fraction=0.7\n",
      "[LightGBM] [Warning] min_data_in_leaf is set=1800, min_child_samples=20 will be ignored. Current value: min_data_in_leaf=1800\n",
      "[LightGBM] [Warning] bagging_freq is set=1, subsample_freq=0 will be ignored. Current value: bagging_freq=1\n",
      "score -0.7282883158129405\n",
      "train 360000 valid 90000\n",
      "training Light GBM:\n",
      "[LightGBM] [Warning] lambda_l1 is set=0.03717801690900929, reg_alpha=0.0 will be ignored. Current value: lambda_l1=0.03717801690900929\n",
      "[LightGBM] [Warning] bagging_fraction is set=0.9, subsample=1.0 will be ignored. Current value: bagging_fraction=0.9\n",
      "[LightGBM] [Warning] min_gain_to_split is set=8.115596868286225, min_split_gain=0.0 will be ignored. Current value: min_gain_to_split=8.115596868286225\n",
      "[LightGBM] [Warning] lambda_l2 is set=20, reg_lambda=0.0 will be ignored. Current value: lambda_l2=20\n",
      "[LightGBM] [Warning] feature_fraction is set=0.7, colsample_bytree=1.0 will be ignored. Current value: feature_fraction=0.7\n",
      "[LightGBM] [Warning] min_data_in_leaf is set=1800, min_child_samples=20 will be ignored. Current value: min_data_in_leaf=1800\n",
      "[LightGBM] [Warning] bagging_freq is set=1, subsample_freq=0 will be ignored. Current value: bagging_freq=1\n"
     ]
    },
    {
     "name": "stderr",
     "output_type": "stream",
     "text": [
      "\u001b[32m[I 2022-02-11 10:30:07,880]\u001b[0m Trial 216 finished with value: -0.7461760545158485 and parameters: {'n_estimators': 10000, 'learning_rate': 0.2786892136826675, 'num_leaves': 1774, 'max_depth': 9, 'min_data_in_leaf': 1800, 'lambda_l1': 0.03717801690900929, 'lambda_l2': 20, 'min_gain_to_split': 8.115596868286225, 'bagging_fraction': 0.9, 'bagging_freq': 1, 'feature_fraction': 0.7}. Best is trial 195 with value: -0.7524194716556609.\u001b[0m\n"
     ]
    },
    {
     "name": "stdout",
     "output_type": "stream",
     "text": [
      "score -0.7462241492586891\n",
      "cancelled :5218 , not_cancelled :444782\n",
      "Memory usage of dataframe is 61.19 MB\n",
      "Memory usage after optimization is: 40.59 MB\n",
      "Decreased by 33.7%\n",
      "Features : ['first_mile_distance', 'elapse1', 'elapse2', 'last_mile_distance', 'tot_dist', 'alloted_orders', 'delivered_orders', 'del_ratio', 'undelivered_orders', 'lifetime_order_count', 'Hour', 'session_time', 'Monday', 'Saturday', 'Sunday', 'Thursday', 'Tuesday', 'Wednesday', 'dist_ratio']\n",
      "cat_features []\n",
      "(450000, 19) (450000,)\n",
      "train 360000 valid 90000\n",
      "training Light GBM:\n",
      "[LightGBM] [Warning] lambda_l1 is set=1.1418810393007761, reg_alpha=0.0 will be ignored. Current value: lambda_l1=1.1418810393007761\n",
      "[LightGBM] [Warning] bagging_fraction is set=0.9, subsample=1.0 will be ignored. Current value: bagging_fraction=0.9\n",
      "[LightGBM] [Warning] min_gain_to_split is set=8.815445666559853, min_split_gain=0.0 will be ignored. Current value: min_gain_to_split=8.815445666559853\n",
      "[LightGBM] [Warning] lambda_l2 is set=25, reg_lambda=0.0 will be ignored. Current value: lambda_l2=25\n",
      "[LightGBM] [Warning] feature_fraction is set=0.7, colsample_bytree=1.0 will be ignored. Current value: feature_fraction=0.7\n",
      "[LightGBM] [Warning] min_data_in_leaf is set=1050, min_child_samples=20 will be ignored. Current value: min_data_in_leaf=1050\n",
      "[LightGBM] [Warning] bagging_freq is set=1, subsample_freq=0 will be ignored. Current value: bagging_freq=1\n"
     ]
    },
    {
     "name": "stderr",
     "output_type": "stream",
     "text": [
      "\u001b[32m[I 2022-02-11 10:30:11,779]\u001b[0m Trial 217 pruned. Trial was pruned at iteration 0.\u001b[0m\n"
     ]
    },
    {
     "name": "stdout",
     "output_type": "stream",
     "text": [
      "cancelled :5218 , not_cancelled :444782\n",
      "Memory usage of dataframe is 61.19 MB\n",
      "Memory usage after optimization is: 40.59 MB\n",
      "Decreased by 33.7%\n",
      "Features : ['first_mile_distance', 'elapse1', 'elapse2', 'last_mile_distance', 'tot_dist', 'alloted_orders', 'delivered_orders', 'del_ratio', 'undelivered_orders', 'lifetime_order_count', 'Hour', 'session_time', 'Monday', 'Saturday', 'Sunday', 'Thursday', 'Tuesday', 'Wednesday', 'dist_ratio']\n",
      "cat_features []\n",
      "(450000, 19) (450000,)\n",
      "train 360000 valid 90000\n",
      "training Light GBM:\n"
     ]
    },
    {
     "name": "stderr",
     "output_type": "stream",
     "text": [
      "\u001b[32m[I 2022-02-11 10:30:15,909]\u001b[0m Trial 218 pruned. Trial was pruned at iteration 12.\u001b[0m\n"
     ]
    },
    {
     "name": "stdout",
     "output_type": "stream",
     "text": [
      "cancelled :5218 , not_cancelled :444782\n",
      "Memory usage of dataframe is 61.19 MB\n",
      "Memory usage after optimization is: 40.59 MB\n",
      "Decreased by 33.7%\n",
      "Features : ['first_mile_distance', 'elapse1', 'elapse2', 'last_mile_distance', 'tot_dist', 'alloted_orders', 'delivered_orders', 'del_ratio', 'undelivered_orders', 'lifetime_order_count', 'Hour', 'session_time', 'Monday', 'Saturday', 'Sunday', 'Thursday', 'Tuesday', 'Wednesday', 'dist_ratio']\n",
      "cat_features []\n",
      "(450000, 19) (450000,)\n",
      "train 360000 valid 90000\n",
      "training Light GBM:\n"
     ]
    },
    {
     "name": "stderr",
     "output_type": "stream",
     "text": [
      "\u001b[32m[I 2022-02-11 10:30:19,820]\u001b[0m Trial 219 pruned. Trial was pruned at iteration 2.\u001b[0m\n"
     ]
    },
    {
     "name": "stdout",
     "output_type": "stream",
     "text": [
      "cancelled :5218 , not_cancelled :444782\n",
      "Memory usage of dataframe is 61.19 MB\n",
      "Memory usage after optimization is: 40.59 MB\n",
      "Decreased by 33.7%\n",
      "Features : ['first_mile_distance', 'elapse1', 'elapse2', 'last_mile_distance', 'tot_dist', 'alloted_orders', 'delivered_orders', 'del_ratio', 'undelivered_orders', 'lifetime_order_count', 'Hour', 'session_time', 'Monday', 'Saturday', 'Sunday', 'Thursday', 'Tuesday', 'Wednesday', 'dist_ratio']\n",
      "cat_features []\n",
      "(450000, 19) (450000,)\n",
      "train 360000 valid 90000\n",
      "training Light GBM:\n"
     ]
    },
    {
     "name": "stderr",
     "output_type": "stream",
     "text": [
      "\u001b[32m[I 2022-02-11 10:30:23,789]\u001b[0m Trial 220 pruned. Trial was pruned at iteration 0.\u001b[0m\n"
     ]
    },
    {
     "name": "stdout",
     "output_type": "stream",
     "text": [
      "cancelled :5218 , not_cancelled :444782\n",
      "Memory usage of dataframe is 61.19 MB\n",
      "Memory usage after optimization is: 40.59 MB\n",
      "Decreased by 33.7%\n",
      "Features : ['first_mile_distance', 'elapse1', 'elapse2', 'last_mile_distance', 'tot_dist', 'alloted_orders', 'delivered_orders', 'del_ratio', 'undelivered_orders', 'lifetime_order_count', 'Hour', 'session_time', 'Monday', 'Saturday', 'Sunday', 'Thursday', 'Tuesday', 'Wednesday', 'dist_ratio']\n",
      "cat_features []\n",
      "(450000, 19) (450000,)\n",
      "train 360000 valid 90000\n",
      "training Light GBM:\n"
     ]
    },
    {
     "name": "stderr",
     "output_type": "stream",
     "text": [
      "\u001b[32m[I 2022-02-11 10:30:27,748]\u001b[0m Trial 221 pruned. Trial was pruned at iteration 0.\u001b[0m\n"
     ]
    },
    {
     "name": "stdout",
     "output_type": "stream",
     "text": [
      "cancelled :5218 , not_cancelled :444782\n",
      "Memory usage of dataframe is 61.19 MB\n",
      "Memory usage after optimization is: 40.59 MB\n",
      "Decreased by 33.7%\n",
      "Features : ['first_mile_distance', 'elapse1', 'elapse2', 'last_mile_distance', 'tot_dist', 'alloted_orders', 'delivered_orders', 'del_ratio', 'undelivered_orders', 'lifetime_order_count', 'Hour', 'session_time', 'Monday', 'Saturday', 'Sunday', 'Thursday', 'Tuesday', 'Wednesday', 'dist_ratio']\n",
      "cat_features []\n",
      "(450000, 19) (450000,)\n",
      "train 360000 valid 90000\n",
      "training Light GBM:\n"
     ]
    },
    {
     "name": "stderr",
     "output_type": "stream",
     "text": [
      "\u001b[32m[I 2022-02-11 10:30:31,606]\u001b[0m Trial 222 pruned. Trial was pruned at iteration 0.\u001b[0m\n"
     ]
    },
    {
     "name": "stdout",
     "output_type": "stream",
     "text": [
      "cancelled :5218 , not_cancelled :444782\n",
      "Memory usage of dataframe is 61.19 MB\n",
      "Memory usage after optimization is: 40.59 MB\n",
      "Decreased by 33.7%\n",
      "Features : ['first_mile_distance', 'elapse1', 'elapse2', 'last_mile_distance', 'tot_dist', 'alloted_orders', 'delivered_orders', 'del_ratio', 'undelivered_orders', 'lifetime_order_count', 'Hour', 'session_time', 'Monday', 'Saturday', 'Sunday', 'Thursday', 'Tuesday', 'Wednesday', 'dist_ratio']\n",
      "cat_features []\n",
      "(450000, 19) (450000,)\n",
      "train 360000 valid 90000\n",
      "training Light GBM:\n"
     ]
    },
    {
     "name": "stderr",
     "output_type": "stream",
     "text": [
      "\u001b[32m[I 2022-02-11 10:30:35,579]\u001b[0m Trial 223 pruned. Trial was pruned at iteration 0.\u001b[0m\n"
     ]
    },
    {
     "name": "stdout",
     "output_type": "stream",
     "text": [
      "cancelled :5218 , not_cancelled :444782\n",
      "Memory usage of dataframe is 61.19 MB\n",
      "Memory usage after optimization is: 40.59 MB\n",
      "Decreased by 33.7%\n",
      "Features : ['first_mile_distance', 'elapse1', 'elapse2', 'last_mile_distance', 'tot_dist', 'alloted_orders', 'delivered_orders', 'del_ratio', 'undelivered_orders', 'lifetime_order_count', 'Hour', 'session_time', 'Monday', 'Saturday', 'Sunday', 'Thursday', 'Tuesday', 'Wednesday', 'dist_ratio']\n",
      "cat_features []\n",
      "(450000, 19) (450000,)\n",
      "train 360000 valid 90000\n",
      "training Light GBM:\n"
     ]
    },
    {
     "name": "stderr",
     "output_type": "stream",
     "text": [
      "\u001b[32m[I 2022-02-11 10:30:39,442]\u001b[0m Trial 224 pruned. Trial was pruned at iteration 0.\u001b[0m\n"
     ]
    },
    {
     "name": "stdout",
     "output_type": "stream",
     "text": [
      "cancelled :5218 , not_cancelled :444782\n",
      "Memory usage of dataframe is 61.19 MB\n",
      "Memory usage after optimization is: 40.59 MB\n",
      "Decreased by 33.7%\n",
      "Features : ['first_mile_distance', 'elapse1', 'elapse2', 'last_mile_distance', 'tot_dist', 'alloted_orders', 'delivered_orders', 'del_ratio', 'undelivered_orders', 'lifetime_order_count', 'Hour', 'session_time', 'Monday', 'Saturday', 'Sunday', 'Thursday', 'Tuesday', 'Wednesday', 'dist_ratio']\n",
      "cat_features []\n",
      "(450000, 19) (450000,)\n",
      "train 360000 valid 90000\n",
      "training Light GBM:\n"
     ]
    },
    {
     "name": "stderr",
     "output_type": "stream",
     "text": [
      "\u001b[32m[I 2022-02-11 10:30:43,574]\u001b[0m Trial 225 pruned. Trial was pruned at iteration 12.\u001b[0m\n"
     ]
    },
    {
     "name": "stdout",
     "output_type": "stream",
     "text": [
      "cancelled :5218 , not_cancelled :444782\n",
      "Memory usage of dataframe is 61.19 MB\n",
      "Memory usage after optimization is: 40.59 MB\n",
      "Decreased by 33.7%\n",
      "Features : ['first_mile_distance', 'elapse1', 'elapse2', 'last_mile_distance', 'tot_dist', 'alloted_orders', 'delivered_orders', 'del_ratio', 'undelivered_orders', 'lifetime_order_count', 'Hour', 'session_time', 'Monday', 'Saturday', 'Sunday', 'Thursday', 'Tuesday', 'Wednesday', 'dist_ratio']\n",
      "cat_features []\n",
      "(450000, 19) (450000,)\n",
      "train 360000 valid 90000\n",
      "training Light GBM:\n"
     ]
    },
    {
     "name": "stderr",
     "output_type": "stream",
     "text": [
      "\u001b[32m[I 2022-02-11 10:30:47,522]\u001b[0m Trial 226 pruned. Trial was pruned at iteration 0.\u001b[0m\n"
     ]
    },
    {
     "name": "stdout",
     "output_type": "stream",
     "text": [
      "cancelled :5218 , not_cancelled :444782\n",
      "Memory usage of dataframe is 61.19 MB\n",
      "Memory usage after optimization is: 40.59 MB\n",
      "Decreased by 33.7%\n",
      "Features : ['first_mile_distance', 'elapse1', 'elapse2', 'last_mile_distance', 'tot_dist', 'alloted_orders', 'delivered_orders', 'del_ratio', 'undelivered_orders', 'lifetime_order_count', 'Hour', 'session_time', 'Monday', 'Saturday', 'Sunday', 'Thursday', 'Tuesday', 'Wednesday', 'dist_ratio']\n",
      "cat_features []\n",
      "(450000, 19) (450000,)\n",
      "train 360000 valid 90000\n",
      "training Light GBM:\n"
     ]
    },
    {
     "name": "stderr",
     "output_type": "stream",
     "text": [
      "\u001b[32m[I 2022-02-11 10:30:51,323]\u001b[0m Trial 227 pruned. Trial was pruned at iteration 0.\u001b[0m\n"
     ]
    },
    {
     "name": "stdout",
     "output_type": "stream",
     "text": [
      "cancelled :5218 , not_cancelled :444782\n",
      "Memory usage of dataframe is 61.19 MB\n",
      "Memory usage after optimization is: 40.59 MB\n",
      "Decreased by 33.7%\n",
      "Features : ['first_mile_distance', 'elapse1', 'elapse2', 'last_mile_distance', 'tot_dist', 'alloted_orders', 'delivered_orders', 'del_ratio', 'undelivered_orders', 'lifetime_order_count', 'Hour', 'session_time', 'Monday', 'Saturday', 'Sunday', 'Thursday', 'Tuesday', 'Wednesday', 'dist_ratio']\n",
      "cat_features []\n",
      "(450000, 19) (450000,)\n",
      "train 360000 valid 90000\n",
      "training Light GBM:\n"
     ]
    },
    {
     "name": "stderr",
     "output_type": "stream",
     "text": [
      "\u001b[32m[I 2022-02-11 10:30:55,306]\u001b[0m Trial 228 pruned. Trial was pruned at iteration 3.\u001b[0m\n"
     ]
    },
    {
     "name": "stdout",
     "output_type": "stream",
     "text": [
      "cancelled :5218 , not_cancelled :444782\n",
      "Memory usage of dataframe is 61.19 MB\n",
      "Memory usage after optimization is: 40.59 MB\n",
      "Decreased by 33.7%\n",
      "Features : ['first_mile_distance', 'elapse1', 'elapse2', 'last_mile_distance', 'tot_dist', 'alloted_orders', 'delivered_orders', 'del_ratio', 'undelivered_orders', 'lifetime_order_count', 'Hour', 'session_time', 'Monday', 'Saturday', 'Sunday', 'Thursday', 'Tuesday', 'Wednesday', 'dist_ratio']\n",
      "cat_features []\n",
      "(450000, 19) (450000,)\n",
      "train 360000 valid 90000\n",
      "training Light GBM:\n"
     ]
    },
    {
     "name": "stderr",
     "output_type": "stream",
     "text": [
      "\u001b[32m[I 2022-02-11 10:30:59,343]\u001b[0m Trial 229 pruned. Trial was pruned at iteration 0.\u001b[0m\n"
     ]
    },
    {
     "name": "stdout",
     "output_type": "stream",
     "text": [
      "cancelled :5218 , not_cancelled :444782\n",
      "Memory usage of dataframe is 61.19 MB\n",
      "Memory usage after optimization is: 40.59 MB\n",
      "Decreased by 33.7%\n",
      "Features : ['first_mile_distance', 'elapse1', 'elapse2', 'last_mile_distance', 'tot_dist', 'alloted_orders', 'delivered_orders', 'del_ratio', 'undelivered_orders', 'lifetime_order_count', 'Hour', 'session_time', 'Monday', 'Saturday', 'Sunday', 'Thursday', 'Tuesday', 'Wednesday', 'dist_ratio']\n",
      "cat_features []\n",
      "(450000, 19) (450000,)\n",
      "train 360000 valid 90000\n",
      "training Light GBM:\n"
     ]
    },
    {
     "name": "stderr",
     "output_type": "stream",
     "text": [
      "\u001b[32m[I 2022-02-11 10:31:03,259]\u001b[0m Trial 230 pruned. Trial was pruned at iteration 0.\u001b[0m\n"
     ]
    },
    {
     "name": "stdout",
     "output_type": "stream",
     "text": [
      "cancelled :5218 , not_cancelled :444782\n",
      "Memory usage of dataframe is 61.19 MB\n",
      "Memory usage after optimization is: 40.59 MB\n",
      "Decreased by 33.7%\n",
      "Features : ['first_mile_distance', 'elapse1', 'elapse2', 'last_mile_distance', 'tot_dist', 'alloted_orders', 'delivered_orders', 'del_ratio', 'undelivered_orders', 'lifetime_order_count', 'Hour', 'session_time', 'Monday', 'Saturday', 'Sunday', 'Thursday', 'Tuesday', 'Wednesday', 'dist_ratio']\n",
      "cat_features []\n",
      "(450000, 19) (450000,)\n",
      "train 360000 valid 90000\n",
      "training Light GBM:\n"
     ]
    },
    {
     "name": "stderr",
     "output_type": "stream",
     "text": [
      "\u001b[32m[I 2022-02-11 10:31:07,131]\u001b[0m Trial 231 pruned. Trial was pruned at iteration 0.\u001b[0m\n"
     ]
    },
    {
     "name": "stdout",
     "output_type": "stream",
     "text": [
      "cancelled :5218 , not_cancelled :444782\n",
      "Memory usage of dataframe is 61.19 MB\n",
      "Memory usage after optimization is: 40.59 MB\n",
      "Decreased by 33.7%\n",
      "Features : ['first_mile_distance', 'elapse1', 'elapse2', 'last_mile_distance', 'tot_dist', 'alloted_orders', 'delivered_orders', 'del_ratio', 'undelivered_orders', 'lifetime_order_count', 'Hour', 'session_time', 'Monday', 'Saturday', 'Sunday', 'Thursday', 'Tuesday', 'Wednesday', 'dist_ratio']\n",
      "cat_features []\n",
      "(450000, 19) (450000,)\n",
      "train 360000 valid 90000\n",
      "training Light GBM:\n"
     ]
    },
    {
     "name": "stderr",
     "output_type": "stream",
     "text": [
      "\u001b[32m[I 2022-02-11 10:31:10,967]\u001b[0m Trial 232 pruned. Trial was pruned at iteration 3.\u001b[0m\n"
     ]
    },
    {
     "name": "stdout",
     "output_type": "stream",
     "text": [
      "cancelled :5218 , not_cancelled :444782\n",
      "Memory usage of dataframe is 61.19 MB\n",
      "Memory usage after optimization is: 40.59 MB\n",
      "Decreased by 33.7%\n",
      "Features : ['first_mile_distance', 'elapse1', 'elapse2', 'last_mile_distance', 'tot_dist', 'alloted_orders', 'delivered_orders', 'del_ratio', 'undelivered_orders', 'lifetime_order_count', 'Hour', 'session_time', 'Monday', 'Saturday', 'Sunday', 'Thursday', 'Tuesday', 'Wednesday', 'dist_ratio']\n",
      "cat_features []\n",
      "(450000, 19) (450000,)\n",
      "train 360000 valid 90000\n",
      "training Light GBM:\n"
     ]
    },
    {
     "name": "stderr",
     "output_type": "stream",
     "text": [
      "\u001b[32m[I 2022-02-11 10:31:14,922]\u001b[0m Trial 233 pruned. Trial was pruned at iteration 7.\u001b[0m\n"
     ]
    },
    {
     "name": "stdout",
     "output_type": "stream",
     "text": [
      "cancelled :5218 , not_cancelled :444782\n",
      "Memory usage of dataframe is 61.19 MB\n",
      "Memory usage after optimization is: 40.59 MB\n",
      "Decreased by 33.7%\n",
      "Features : ['first_mile_distance', 'elapse1', 'elapse2', 'last_mile_distance', 'tot_dist', 'alloted_orders', 'delivered_orders', 'del_ratio', 'undelivered_orders', 'lifetime_order_count', 'Hour', 'session_time', 'Monday', 'Saturday', 'Sunday', 'Thursday', 'Tuesday', 'Wednesday', 'dist_ratio']\n",
      "cat_features []\n",
      "(450000, 19) (450000,)\n",
      "train 360000 valid 90000\n",
      "training Light GBM:\n"
     ]
    },
    {
     "name": "stderr",
     "output_type": "stream",
     "text": [
      "\u001b[32m[I 2022-02-11 10:31:19,014]\u001b[0m Trial 234 pruned. Trial was pruned at iteration 7.\u001b[0m\n"
     ]
    },
    {
     "name": "stdout",
     "output_type": "stream",
     "text": [
      "cancelled :5218 , not_cancelled :444782\n",
      "Memory usage of dataframe is 61.19 MB\n",
      "Memory usage after optimization is: 40.59 MB\n",
      "Decreased by 33.7%\n",
      "Features : ['first_mile_distance', 'elapse1', 'elapse2', 'last_mile_distance', 'tot_dist', 'alloted_orders', 'delivered_orders', 'del_ratio', 'undelivered_orders', 'lifetime_order_count', 'Hour', 'session_time', 'Monday', 'Saturday', 'Sunday', 'Thursday', 'Tuesday', 'Wednesday', 'dist_ratio']\n",
      "cat_features []\n",
      "(450000, 19) (450000,)\n",
      "train 360000 valid 90000\n",
      "training Light GBM:\n"
     ]
    },
    {
     "name": "stderr",
     "output_type": "stream",
     "text": [
      "\u001b[32m[I 2022-02-11 10:31:22,803]\u001b[0m Trial 235 pruned. Trial was pruned at iteration 0.\u001b[0m\n"
     ]
    },
    {
     "name": "stdout",
     "output_type": "stream",
     "text": [
      "cancelled :5218 , not_cancelled :444782\n",
      "Memory usage of dataframe is 61.19 MB\n",
      "Memory usage after optimization is: 40.59 MB\n",
      "Decreased by 33.7%\n",
      "Features : ['first_mile_distance', 'elapse1', 'elapse2', 'last_mile_distance', 'tot_dist', 'alloted_orders', 'delivered_orders', 'del_ratio', 'undelivered_orders', 'lifetime_order_count', 'Hour', 'session_time', 'Monday', 'Saturday', 'Sunday', 'Thursday', 'Tuesday', 'Wednesday', 'dist_ratio']\n",
      "cat_features []\n",
      "(450000, 19) (450000,)\n",
      "train 360000 valid 90000\n",
      "training Light GBM:\n"
     ]
    },
    {
     "name": "stderr",
     "output_type": "stream",
     "text": [
      "\u001b[32m[I 2022-02-11 10:31:27,106]\u001b[0m Trial 236 pruned. Trial was pruned at iteration 0.\u001b[0m\n"
     ]
    },
    {
     "name": "stdout",
     "output_type": "stream",
     "text": [
      "cancelled :5218 , not_cancelled :444782\n",
      "Memory usage of dataframe is 61.19 MB\n",
      "Memory usage after optimization is: 40.59 MB\n",
      "Decreased by 33.7%\n",
      "Features : ['first_mile_distance', 'elapse1', 'elapse2', 'last_mile_distance', 'tot_dist', 'alloted_orders', 'delivered_orders', 'del_ratio', 'undelivered_orders', 'lifetime_order_count', 'Hour', 'session_time', 'Monday', 'Saturday', 'Sunday', 'Thursday', 'Tuesday', 'Wednesday', 'dist_ratio']\n",
      "cat_features []\n",
      "(450000, 19) (450000,)\n",
      "train 360000 valid 90000\n",
      "training Light GBM:\n"
     ]
    },
    {
     "name": "stderr",
     "output_type": "stream",
     "text": [
      "\u001b[32m[I 2022-02-11 10:31:30,984]\u001b[0m Trial 237 pruned. Trial was pruned at iteration 0.\u001b[0m\n"
     ]
    },
    {
     "name": "stdout",
     "output_type": "stream",
     "text": [
      "cancelled :5218 , not_cancelled :444782\n",
      "Memory usage of dataframe is 61.19 MB\n",
      "Memory usage after optimization is: 40.59 MB\n",
      "Decreased by 33.7%\n",
      "Features : ['first_mile_distance', 'elapse1', 'elapse2', 'last_mile_distance', 'tot_dist', 'alloted_orders', 'delivered_orders', 'del_ratio', 'undelivered_orders', 'lifetime_order_count', 'Hour', 'session_time', 'Monday', 'Saturday', 'Sunday', 'Thursday', 'Tuesday', 'Wednesday', 'dist_ratio']\n",
      "cat_features []\n",
      "(450000, 19) (450000,)\n",
      "train 360000 valid 90000\n",
      "training Light GBM:\n"
     ]
    },
    {
     "name": "stderr",
     "output_type": "stream",
     "text": [
      "\u001b[32m[I 2022-02-11 10:31:34,899]\u001b[0m Trial 238 pruned. Trial was pruned at iteration 0.\u001b[0m\n"
     ]
    },
    {
     "name": "stdout",
     "output_type": "stream",
     "text": [
      "cancelled :5218 , not_cancelled :444782\n",
      "Memory usage of dataframe is 61.19 MB\n",
      "Memory usage after optimization is: 40.59 MB\n",
      "Decreased by 33.7%\n",
      "Features : ['first_mile_distance', 'elapse1', 'elapse2', 'last_mile_distance', 'tot_dist', 'alloted_orders', 'delivered_orders', 'del_ratio', 'undelivered_orders', 'lifetime_order_count', 'Hour', 'session_time', 'Monday', 'Saturday', 'Sunday', 'Thursday', 'Tuesday', 'Wednesday', 'dist_ratio']\n",
      "cat_features []\n",
      "(450000, 19) (450000,)\n",
      "train 360000 valid 90000\n",
      "training Light GBM:\n"
     ]
    },
    {
     "name": "stderr",
     "output_type": "stream",
     "text": [
      "\u001b[32m[I 2022-02-11 10:31:38,775]\u001b[0m Trial 239 pruned. Trial was pruned at iteration 0.\u001b[0m\n"
     ]
    },
    {
     "name": "stdout",
     "output_type": "stream",
     "text": [
      "cancelled :5218 , not_cancelled :444782\n",
      "Memory usage of dataframe is 61.19 MB\n",
      "Memory usage after optimization is: 40.59 MB\n",
      "Decreased by 33.7%\n",
      "Features : ['first_mile_distance', 'elapse1', 'elapse2', 'last_mile_distance', 'tot_dist', 'alloted_orders', 'delivered_orders', 'del_ratio', 'undelivered_orders', 'lifetime_order_count', 'Hour', 'session_time', 'Monday', 'Saturday', 'Sunday', 'Thursday', 'Tuesday', 'Wednesday', 'dist_ratio']\n",
      "cat_features []\n",
      "(450000, 19) (450000,)\n",
      "train 360000 valid 90000\n",
      "training Light GBM:\n",
      "score -0.7546498463912525\n",
      "train 360000 valid 90000\n",
      "training Light GBM:\n",
      "[LightGBM] [Warning] lambda_l1 is set=0.015735687158970668, reg_alpha=0.0 will be ignored. Current value: lambda_l1=0.015735687158970668\n",
      "[LightGBM] [Warning] bagging_fraction is set=0.8, subsample=1.0 will be ignored. Current value: bagging_fraction=0.8\n",
      "[LightGBM] [Warning] min_gain_to_split is set=4.123184978464687, min_split_gain=0.0 will be ignored. Current value: min_gain_to_split=4.123184978464687\n",
      "[LightGBM] [Warning] lambda_l2 is set=10, reg_lambda=0.0 will be ignored. Current value: lambda_l2=10\n",
      "[LightGBM] [Warning] feature_fraction is set=0.7, colsample_bytree=1.0 will be ignored. Current value: feature_fraction=0.7\n",
      "[LightGBM] [Warning] min_data_in_leaf is set=1350, min_child_samples=20 will be ignored. Current value: min_data_in_leaf=1350\n",
      "[LightGBM] [Warning] bagging_freq is set=1, subsample_freq=0 will be ignored. Current value: bagging_freq=1\n",
      "score -0.7413832537682813\n",
      "train 360000 valid 90000\n",
      "training Light GBM:\n",
      "[LightGBM] [Warning] lambda_l1 is set=0.015735687158970668, reg_alpha=0.0 will be ignored. Current value: lambda_l1=0.015735687158970668\n",
      "[LightGBM] [Warning] bagging_fraction is set=0.8, subsample=1.0 will be ignored. Current value: bagging_fraction=0.8\n",
      "[LightGBM] [Warning] min_gain_to_split is set=4.123184978464687, min_split_gain=0.0 will be ignored. Current value: min_gain_to_split=4.123184978464687\n",
      "[LightGBM] [Warning] lambda_l2 is set=10, reg_lambda=0.0 will be ignored. Current value: lambda_l2=10\n",
      "[LightGBM] [Warning] feature_fraction is set=0.7, colsample_bytree=1.0 will be ignored. Current value: feature_fraction=0.7\n",
      "[LightGBM] [Warning] min_data_in_leaf is set=1350, min_child_samples=20 will be ignored. Current value: min_data_in_leaf=1350\n",
      "[LightGBM] [Warning] bagging_freq is set=1, subsample_freq=0 will be ignored. Current value: bagging_freq=1\n",
      "score -0.7427672010649202\n",
      "train 360000 valid 90000\n",
      "training Light GBM:\n",
      "[LightGBM] [Warning] lambda_l1 is set=0.015735687158970668, reg_alpha=0.0 will be ignored. Current value: lambda_l1=0.015735687158970668\n",
      "[LightGBM] [Warning] bagging_fraction is set=0.8, subsample=1.0 will be ignored. Current value: bagging_fraction=0.8\n",
      "[LightGBM] [Warning] min_gain_to_split is set=4.123184978464687, min_split_gain=0.0 will be ignored. Current value: min_gain_to_split=4.123184978464687\n",
      "[LightGBM] [Warning] lambda_l2 is set=10, reg_lambda=0.0 will be ignored. Current value: lambda_l2=10\n",
      "[LightGBM] [Warning] feature_fraction is set=0.7, colsample_bytree=1.0 will be ignored. Current value: feature_fraction=0.7\n",
      "[LightGBM] [Warning] min_data_in_leaf is set=1350, min_child_samples=20 will be ignored. Current value: min_data_in_leaf=1350\n",
      "[LightGBM] [Warning] bagging_freq is set=1, subsample_freq=0 will be ignored. Current value: bagging_freq=1\n",
      "score -0.7556555145692587\n",
      "train 360000 valid 90000\n",
      "training Light GBM:\n",
      "[LightGBM] [Warning] lambda_l1 is set=0.015735687158970668, reg_alpha=0.0 will be ignored. Current value: lambda_l1=0.015735687158970668\n",
      "[LightGBM] [Warning] bagging_fraction is set=0.8, subsample=1.0 will be ignored. Current value: bagging_fraction=0.8\n",
      "[LightGBM] [Warning] min_gain_to_split is set=4.123184978464687, min_split_gain=0.0 will be ignored. Current value: min_gain_to_split=4.123184978464687\n",
      "[LightGBM] [Warning] lambda_l2 is set=10, reg_lambda=0.0 will be ignored. Current value: lambda_l2=10\n",
      "[LightGBM] [Warning] feature_fraction is set=0.7, colsample_bytree=1.0 will be ignored. Current value: feature_fraction=0.7\n",
      "[LightGBM] [Warning] min_data_in_leaf is set=1350, min_child_samples=20 will be ignored. Current value: min_data_in_leaf=1350\n",
      "[LightGBM] [Warning] bagging_freq is set=1, subsample_freq=0 will be ignored. Current value: bagging_freq=1\n"
     ]
    },
    {
     "name": "stderr",
     "output_type": "stream",
     "text": [
      "\u001b[32m[I 2022-02-11 10:31:52,188]\u001b[0m Trial 240 finished with value: -0.7502002717645038 and parameters: {'n_estimators': 10000, 'learning_rate': 0.3592354957342792, 'num_leaves': 624, 'max_depth': 9, 'min_data_in_leaf': 1350, 'lambda_l1': 0.015735687158970668, 'lambda_l2': 10, 'min_gain_to_split': 4.123184978464687, 'bagging_fraction': 0.8, 'bagging_freq': 1, 'feature_fraction': 0.7}. Best is trial 195 with value: -0.7524194716556609.\u001b[0m\n"
     ]
    },
    {
     "name": "stdout",
     "output_type": "stream",
     "text": [
      "score -0.7565455430288064\n",
      "cancelled :5218 , not_cancelled :444782\n",
      "Memory usage of dataframe is 61.19 MB\n",
      "Memory usage after optimization is: 40.59 MB\n",
      "Decreased by 33.7%\n",
      "Features : ['first_mile_distance', 'elapse1', 'elapse2', 'last_mile_distance', 'tot_dist', 'alloted_orders', 'delivered_orders', 'del_ratio', 'undelivered_orders', 'lifetime_order_count', 'Hour', 'session_time', 'Monday', 'Saturday', 'Sunday', 'Thursday', 'Tuesday', 'Wednesday', 'dist_ratio']\n",
      "cat_features []\n",
      "(450000, 19) (450000,)\n",
      "train 360000 valid 90000\n",
      "training Light GBM:\n",
      "[LightGBM] [Warning] lambda_l1 is set=0.015470821051162363, reg_alpha=0.0 will be ignored. Current value: lambda_l1=0.015470821051162363\n",
      "[LightGBM] [Warning] bagging_fraction is set=0.8, subsample=1.0 will be ignored. Current value: bagging_fraction=0.8\n",
      "[LightGBM] [Warning] min_gain_to_split is set=4.138754670467945, min_split_gain=0.0 will be ignored. Current value: min_gain_to_split=4.138754670467945\n",
      "[LightGBM] [Warning] lambda_l2 is set=5, reg_lambda=0.0 will be ignored. Current value: lambda_l2=5\n",
      "[LightGBM] [Warning] feature_fraction is set=0.7, colsample_bytree=1.0 will be ignored. Current value: feature_fraction=0.7\n",
      "[LightGBM] [Warning] min_data_in_leaf is set=1250, min_child_samples=20 will be ignored. Current value: min_data_in_leaf=1250\n",
      "[LightGBM] [Warning] bagging_freq is set=1, subsample_freq=0 will be ignored. Current value: bagging_freq=1\n"
     ]
    },
    {
     "name": "stderr",
     "output_type": "stream",
     "text": [
      "\u001b[32m[I 2022-02-11 10:31:56,123]\u001b[0m Trial 241 pruned. Trial was pruned at iteration 0.\u001b[0m\n"
     ]
    },
    {
     "name": "stdout",
     "output_type": "stream",
     "text": [
      "cancelled :5218 , not_cancelled :444782\n",
      "Memory usage of dataframe is 61.19 MB\n",
      "Memory usage after optimization is: 40.59 MB\n",
      "Decreased by 33.7%\n",
      "Features : ['first_mile_distance', 'elapse1', 'elapse2', 'last_mile_distance', 'tot_dist', 'alloted_orders', 'delivered_orders', 'del_ratio', 'undelivered_orders', 'lifetime_order_count', 'Hour', 'session_time', 'Monday', 'Saturday', 'Sunday', 'Thursday', 'Tuesday', 'Wednesday', 'dist_ratio']\n",
      "cat_features []\n",
      "(450000, 19) (450000,)\n",
      "train 360000 valid 90000\n",
      "training Light GBM:\n",
      "score -0.7419973697311674\n",
      "train 360000 valid 90000\n",
      "training Light GBM:\n",
      "[LightGBM] [Warning] lambda_l1 is set=0.027890547230867015, reg_alpha=0.0 will be ignored. Current value: lambda_l1=0.027890547230867015\n",
      "[LightGBM] [Warning] bagging_fraction is set=0.8, subsample=1.0 will be ignored. Current value: bagging_fraction=0.8\n",
      "[LightGBM] [Warning] min_gain_to_split is set=3.8044911700318993, min_split_gain=0.0 will be ignored. Current value: min_gain_to_split=3.8044911700318993\n",
      "[LightGBM] [Warning] lambda_l2 is set=10, reg_lambda=0.0 will be ignored. Current value: lambda_l2=10\n",
      "[LightGBM] [Warning] feature_fraction is set=0.7, colsample_bytree=1.0 will be ignored. Current value: feature_fraction=0.7\n",
      "[LightGBM] [Warning] min_data_in_leaf is set=1400, min_child_samples=20 will be ignored. Current value: min_data_in_leaf=1400\n",
      "[LightGBM] [Warning] bagging_freq is set=1, subsample_freq=0 will be ignored. Current value: bagging_freq=1\n",
      "score -0.7575652023846698\n",
      "train 360000 valid 90000\n",
      "training Light GBM:\n",
      "[LightGBM] [Warning] lambda_l1 is set=0.027890547230867015, reg_alpha=0.0 will be ignored. Current value: lambda_l1=0.027890547230867015\n",
      "[LightGBM] [Warning] bagging_fraction is set=0.8, subsample=1.0 will be ignored. Current value: bagging_fraction=0.8\n",
      "[LightGBM] [Warning] min_gain_to_split is set=3.8044911700318993, min_split_gain=0.0 will be ignored. Current value: min_gain_to_split=3.8044911700318993\n",
      "[LightGBM] [Warning] lambda_l2 is set=10, reg_lambda=0.0 will be ignored. Current value: lambda_l2=10\n",
      "[LightGBM] [Warning] feature_fraction is set=0.7, colsample_bytree=1.0 will be ignored. Current value: feature_fraction=0.7\n",
      "[LightGBM] [Warning] min_data_in_leaf is set=1400, min_child_samples=20 will be ignored. Current value: min_data_in_leaf=1400\n",
      "[LightGBM] [Warning] bagging_freq is set=1, subsample_freq=0 will be ignored. Current value: bagging_freq=1\n",
      "score -0.7505645091404266\n",
      "train 360000 valid 90000\n",
      "training Light GBM:\n",
      "[LightGBM] [Warning] lambda_l1 is set=0.027890547230867015, reg_alpha=0.0 will be ignored. Current value: lambda_l1=0.027890547230867015\n",
      "[LightGBM] [Warning] bagging_fraction is set=0.8, subsample=1.0 will be ignored. Current value: bagging_fraction=0.8\n",
      "[LightGBM] [Warning] min_gain_to_split is set=3.8044911700318993, min_split_gain=0.0 will be ignored. Current value: min_gain_to_split=3.8044911700318993\n",
      "[LightGBM] [Warning] lambda_l2 is set=10, reg_lambda=0.0 will be ignored. Current value: lambda_l2=10\n",
      "[LightGBM] [Warning] feature_fraction is set=0.7, colsample_bytree=1.0 will be ignored. Current value: feature_fraction=0.7\n",
      "[LightGBM] [Warning] min_data_in_leaf is set=1400, min_child_samples=20 will be ignored. Current value: min_data_in_leaf=1400\n",
      "[LightGBM] [Warning] bagging_freq is set=1, subsample_freq=0 will be ignored. Current value: bagging_freq=1\n",
      "score -0.7463141728856783\n",
      "train 360000 valid 90000\n",
      "training Light GBM:\n",
      "[LightGBM] [Warning] lambda_l1 is set=0.027890547230867015, reg_alpha=0.0 will be ignored. Current value: lambda_l1=0.027890547230867015\n",
      "[LightGBM] [Warning] bagging_fraction is set=0.8, subsample=1.0 will be ignored. Current value: bagging_fraction=0.8\n",
      "[LightGBM] [Warning] min_gain_to_split is set=3.8044911700318993, min_split_gain=0.0 will be ignored. Current value: min_gain_to_split=3.8044911700318993\n",
      "[LightGBM] [Warning] lambda_l2 is set=10, reg_lambda=0.0 will be ignored. Current value: lambda_l2=10\n",
      "[LightGBM] [Warning] feature_fraction is set=0.7, colsample_bytree=1.0 will be ignored. Current value: feature_fraction=0.7\n",
      "[LightGBM] [Warning] min_data_in_leaf is set=1400, min_child_samples=20 will be ignored. Current value: min_data_in_leaf=1400\n",
      "[LightGBM] [Warning] bagging_freq is set=1, subsample_freq=0 will be ignored. Current value: bagging_freq=1\n"
     ]
    },
    {
     "name": "stderr",
     "output_type": "stream",
     "text": [
      "\u001b[32m[I 2022-02-11 10:32:08,582]\u001b[0m Trial 242 finished with value: -0.7477445693251648 and parameters: {'n_estimators': 10000, 'learning_rate': 0.3484911992331807, 'num_leaves': 416, 'max_depth': 9, 'min_data_in_leaf': 1400, 'lambda_l1': 0.027890547230867015, 'lambda_l2': 10, 'min_gain_to_split': 3.8044911700318993, 'bagging_fraction': 0.8, 'bagging_freq': 1, 'feature_fraction': 0.7}. Best is trial 195 with value: -0.7524194716556609.\u001b[0m\n"
     ]
    },
    {
     "name": "stdout",
     "output_type": "stream",
     "text": [
      "score -0.7422815924838816\n",
      "cancelled :5218 , not_cancelled :444782\n",
      "Memory usage of dataframe is 61.19 MB\n",
      "Memory usage after optimization is: 40.59 MB\n",
      "Decreased by 33.7%\n",
      "Features : ['first_mile_distance', 'elapse1', 'elapse2', 'last_mile_distance', 'tot_dist', 'alloted_orders', 'delivered_orders', 'del_ratio', 'undelivered_orders', 'lifetime_order_count', 'Hour', 'session_time', 'Monday', 'Saturday', 'Sunday', 'Thursday', 'Tuesday', 'Wednesday', 'dist_ratio']\n",
      "cat_features []\n",
      "(450000, 19) (450000,)\n",
      "train 360000 valid 90000\n",
      "training Light GBM:\n",
      "[LightGBM] [Warning] lambda_l1 is set=0.030826644317482207, reg_alpha=0.0 will be ignored. Current value: lambda_l1=0.030826644317482207\n",
      "[LightGBM] [Warning] bagging_fraction is set=0.8, subsample=1.0 will be ignored. Current value: bagging_fraction=0.8\n",
      "[LightGBM] [Warning] min_gain_to_split is set=3.9345948041875887, min_split_gain=0.0 will be ignored. Current value: min_gain_to_split=3.9345948041875887\n",
      "[LightGBM] [Warning] lambda_l2 is set=10, reg_lambda=0.0 will be ignored. Current value: lambda_l2=10\n",
      "[LightGBM] [Warning] feature_fraction is set=0.7, colsample_bytree=1.0 will be ignored. Current value: feature_fraction=0.7\n",
      "[LightGBM] [Warning] min_data_in_leaf is set=1400, min_child_samples=20 will be ignored. Current value: min_data_in_leaf=1400\n",
      "[LightGBM] [Warning] bagging_freq is set=1, subsample_freq=0 will be ignored. Current value: bagging_freq=1\n"
     ]
    },
    {
     "name": "stderr",
     "output_type": "stream",
     "text": [
      "\u001b[32m[I 2022-02-11 10:32:12,742]\u001b[0m Trial 243 pruned. Trial was pruned at iteration 12.\u001b[0m\n"
     ]
    },
    {
     "name": "stdout",
     "output_type": "stream",
     "text": [
      "cancelled :5218 , not_cancelled :444782\n",
      "Memory usage of dataframe is 61.19 MB\n",
      "Memory usage after optimization is: 40.59 MB\n",
      "Decreased by 33.7%\n",
      "Features : ['first_mile_distance', 'elapse1', 'elapse2', 'last_mile_distance', 'tot_dist', 'alloted_orders', 'delivered_orders', 'del_ratio', 'undelivered_orders', 'lifetime_order_count', 'Hour', 'session_time', 'Monday', 'Saturday', 'Sunday', 'Thursday', 'Tuesday', 'Wednesday', 'dist_ratio']\n",
      "cat_features []\n",
      "(450000, 19) (450000,)\n",
      "train 360000 valid 90000\n",
      "training Light GBM:\n"
     ]
    },
    {
     "name": "stderr",
     "output_type": "stream",
     "text": [
      "\u001b[32m[I 2022-02-11 10:32:16,845]\u001b[0m Trial 244 pruned. Trial was pruned at iteration 8.\u001b[0m\n"
     ]
    },
    {
     "name": "stdout",
     "output_type": "stream",
     "text": [
      "cancelled :5218 , not_cancelled :444782\n",
      "Memory usage of dataframe is 61.19 MB\n",
      "Memory usage after optimization is: 40.59 MB\n",
      "Decreased by 33.7%\n",
      "Features : ['first_mile_distance', 'elapse1', 'elapse2', 'last_mile_distance', 'tot_dist', 'alloted_orders', 'delivered_orders', 'del_ratio', 'undelivered_orders', 'lifetime_order_count', 'Hour', 'session_time', 'Monday', 'Saturday', 'Sunday', 'Thursday', 'Tuesday', 'Wednesday', 'dist_ratio']\n",
      "cat_features []\n",
      "(450000, 19) (450000,)\n",
      "train 360000 valid 90000\n",
      "training Light GBM:\n"
     ]
    },
    {
     "name": "stderr",
     "output_type": "stream",
     "text": [
      "\u001b[32m[I 2022-02-11 10:32:21,089]\u001b[0m Trial 245 pruned. Trial was pruned at iteration 17.\u001b[0m\n"
     ]
    },
    {
     "name": "stdout",
     "output_type": "stream",
     "text": [
      "cancelled :5218 , not_cancelled :444782\n",
      "Memory usage of dataframe is 61.19 MB\n",
      "Memory usage after optimization is: 40.59 MB\n",
      "Decreased by 33.7%\n",
      "Features : ['first_mile_distance', 'elapse1', 'elapse2', 'last_mile_distance', 'tot_dist', 'alloted_orders', 'delivered_orders', 'del_ratio', 'undelivered_orders', 'lifetime_order_count', 'Hour', 'session_time', 'Monday', 'Saturday', 'Sunday', 'Thursday', 'Tuesday', 'Wednesday', 'dist_ratio']\n",
      "cat_features []\n",
      "(450000, 19) (450000,)\n",
      "train 360000 valid 90000\n",
      "training Light GBM:\n"
     ]
    },
    {
     "name": "stderr",
     "output_type": "stream",
     "text": [
      "\u001b[32m[I 2022-02-11 10:32:25,018]\u001b[0m Trial 246 pruned. Trial was pruned at iteration 0.\u001b[0m\n"
     ]
    },
    {
     "name": "stdout",
     "output_type": "stream",
     "text": [
      "cancelled :5218 , not_cancelled :444782\n",
      "Memory usage of dataframe is 61.19 MB\n",
      "Memory usage after optimization is: 40.59 MB\n",
      "Decreased by 33.7%\n",
      "Features : ['first_mile_distance', 'elapse1', 'elapse2', 'last_mile_distance', 'tot_dist', 'alloted_orders', 'delivered_orders', 'del_ratio', 'undelivered_orders', 'lifetime_order_count', 'Hour', 'session_time', 'Monday', 'Saturday', 'Sunday', 'Thursday', 'Tuesday', 'Wednesday', 'dist_ratio']\n",
      "cat_features []\n",
      "(450000, 19) (450000,)\n",
      "train 360000 valid 90000\n",
      "training Light GBM:\n"
     ]
    },
    {
     "name": "stderr",
     "output_type": "stream",
     "text": [
      "\u001b[32m[I 2022-02-11 10:32:29,167]\u001b[0m Trial 247 pruned. Trial was pruned at iteration 8.\u001b[0m\n"
     ]
    },
    {
     "name": "stdout",
     "output_type": "stream",
     "text": [
      "cancelled :5218 , not_cancelled :444782\n",
      "Memory usage of dataframe is 61.19 MB\n",
      "Memory usage after optimization is: 40.59 MB\n",
      "Decreased by 33.7%\n",
      "Features : ['first_mile_distance', 'elapse1', 'elapse2', 'last_mile_distance', 'tot_dist', 'alloted_orders', 'delivered_orders', 'del_ratio', 'undelivered_orders', 'lifetime_order_count', 'Hour', 'session_time', 'Monday', 'Saturday', 'Sunday', 'Thursday', 'Tuesday', 'Wednesday', 'dist_ratio']\n",
      "cat_features []\n",
      "(450000, 19) (450000,)\n",
      "train 360000 valid 90000\n",
      "training Light GBM:\n"
     ]
    },
    {
     "name": "stderr",
     "output_type": "stream",
     "text": [
      "\u001b[32m[I 2022-02-11 10:32:33,418]\u001b[0m Trial 248 pruned. Trial was pruned at iteration 0.\u001b[0m\n"
     ]
    },
    {
     "name": "stdout",
     "output_type": "stream",
     "text": [
      "cancelled :5218 , not_cancelled :444782\n",
      "Memory usage of dataframe is 61.19 MB\n",
      "Memory usage after optimization is: 40.59 MB\n",
      "Decreased by 33.7%\n",
      "Features : ['first_mile_distance', 'elapse1', 'elapse2', 'last_mile_distance', 'tot_dist', 'alloted_orders', 'delivered_orders', 'del_ratio', 'undelivered_orders', 'lifetime_order_count', 'Hour', 'session_time', 'Monday', 'Saturday', 'Sunday', 'Thursday', 'Tuesday', 'Wednesday', 'dist_ratio']\n",
      "cat_features []\n",
      "(450000, 19) (450000,)\n",
      "train 360000 valid 90000\n",
      "training Light GBM:\n"
     ]
    },
    {
     "name": "stderr",
     "output_type": "stream",
     "text": [
      "\u001b[32m[I 2022-02-11 10:32:37,459]\u001b[0m Trial 249 pruned. Trial was pruned at iteration 4.\u001b[0m\n"
     ]
    },
    {
     "name": "stdout",
     "output_type": "stream",
     "text": [
      "cancelled :5218 , not_cancelled :444782\n",
      "Memory usage of dataframe is 61.19 MB\n",
      "Memory usage after optimization is: 40.59 MB\n",
      "Decreased by 33.7%\n",
      "Features : ['first_mile_distance', 'elapse1', 'elapse2', 'last_mile_distance', 'tot_dist', 'alloted_orders', 'delivered_orders', 'del_ratio', 'undelivered_orders', 'lifetime_order_count', 'Hour', 'session_time', 'Monday', 'Saturday', 'Sunday', 'Thursday', 'Tuesday', 'Wednesday', 'dist_ratio']\n",
      "cat_features []\n",
      "(450000, 19) (450000,)\n",
      "train 360000 valid 90000\n",
      "training Light GBM:\n",
      "score -0.7503194068005601\n",
      "train 360000 valid 90000\n",
      "training Light GBM:\n",
      "[LightGBM] [Warning] lambda_l1 is set=0.01314129686450305, reg_alpha=0.0 will be ignored. Current value: lambda_l1=0.01314129686450305\n",
      "[LightGBM] [Warning] bagging_fraction is set=0.7, subsample=1.0 will be ignored. Current value: bagging_fraction=0.7\n",
      "[LightGBM] [Warning] min_gain_to_split is set=4.2028814711736855, min_split_gain=0.0 will be ignored. Current value: min_gain_to_split=4.2028814711736855\n",
      "[LightGBM] [Warning] lambda_l2 is set=20, reg_lambda=0.0 will be ignored. Current value: lambda_l2=20\n",
      "[LightGBM] [Warning] feature_fraction is set=0.6000000000000001, colsample_bytree=1.0 will be ignored. Current value: feature_fraction=0.6000000000000001\n",
      "[LightGBM] [Warning] min_data_in_leaf is set=950, min_child_samples=20 will be ignored. Current value: min_data_in_leaf=950\n",
      "[LightGBM] [Warning] bagging_freq is set=1, subsample_freq=0 will be ignored. Current value: bagging_freq=1\n",
      "score -0.7533044151994277\n",
      "train 360000 valid 90000\n",
      "training Light GBM:\n",
      "[LightGBM] [Warning] lambda_l1 is set=0.01314129686450305, reg_alpha=0.0 will be ignored. Current value: lambda_l1=0.01314129686450305\n",
      "[LightGBM] [Warning] bagging_fraction is set=0.7, subsample=1.0 will be ignored. Current value: bagging_fraction=0.7\n",
      "[LightGBM] [Warning] min_gain_to_split is set=4.2028814711736855, min_split_gain=0.0 will be ignored. Current value: min_gain_to_split=4.2028814711736855\n",
      "[LightGBM] [Warning] lambda_l2 is set=20, reg_lambda=0.0 will be ignored. Current value: lambda_l2=20\n",
      "[LightGBM] [Warning] feature_fraction is set=0.6000000000000001, colsample_bytree=1.0 will be ignored. Current value: feature_fraction=0.6000000000000001\n",
      "[LightGBM] [Warning] min_data_in_leaf is set=950, min_child_samples=20 will be ignored. Current value: min_data_in_leaf=950\n",
      "[LightGBM] [Warning] bagging_freq is set=1, subsample_freq=0 will be ignored. Current value: bagging_freq=1\n",
      "score -0.7538576801239202\n",
      "train 360000 valid 90000\n",
      "training Light GBM:\n",
      "[LightGBM] [Warning] lambda_l1 is set=0.01314129686450305, reg_alpha=0.0 will be ignored. Current value: lambda_l1=0.01314129686450305\n",
      "[LightGBM] [Warning] bagging_fraction is set=0.7, subsample=1.0 will be ignored. Current value: bagging_fraction=0.7\n",
      "[LightGBM] [Warning] min_gain_to_split is set=4.2028814711736855, min_split_gain=0.0 will be ignored. Current value: min_gain_to_split=4.2028814711736855\n",
      "[LightGBM] [Warning] lambda_l2 is set=20, reg_lambda=0.0 will be ignored. Current value: lambda_l2=20\n",
      "[LightGBM] [Warning] feature_fraction is set=0.6000000000000001, colsample_bytree=1.0 will be ignored. Current value: feature_fraction=0.6000000000000001\n",
      "[LightGBM] [Warning] min_data_in_leaf is set=950, min_child_samples=20 will be ignored. Current value: min_data_in_leaf=950\n",
      "[LightGBM] [Warning] bagging_freq is set=1, subsample_freq=0 will be ignored. Current value: bagging_freq=1\n",
      "score -0.7363966713751806\n",
      "train 360000 valid 90000\n",
      "training Light GBM:\n",
      "[LightGBM] [Warning] lambda_l1 is set=0.01314129686450305, reg_alpha=0.0 will be ignored. Current value: lambda_l1=0.01314129686450305\n",
      "[LightGBM] [Warning] bagging_fraction is set=0.7, subsample=1.0 will be ignored. Current value: bagging_fraction=0.7\n",
      "[LightGBM] [Warning] min_gain_to_split is set=4.2028814711736855, min_split_gain=0.0 will be ignored. Current value: min_gain_to_split=4.2028814711736855\n",
      "[LightGBM] [Warning] lambda_l2 is set=20, reg_lambda=0.0 will be ignored. Current value: lambda_l2=20\n",
      "[LightGBM] [Warning] feature_fraction is set=0.6000000000000001, colsample_bytree=1.0 will be ignored. Current value: feature_fraction=0.6000000000000001\n",
      "[LightGBM] [Warning] min_data_in_leaf is set=950, min_child_samples=20 will be ignored. Current value: min_data_in_leaf=950\n",
      "[LightGBM] [Warning] bagging_freq is set=1, subsample_freq=0 will be ignored. Current value: bagging_freq=1\n"
     ]
    },
    {
     "name": "stderr",
     "output_type": "stream",
     "text": [
      "\u001b[32m[I 2022-02-11 10:32:51,724]\u001b[0m Trial 250 finished with value: -0.748285529513716 and parameters: {'n_estimators': 20000, 'learning_rate': 0.3633818633680833, 'num_leaves': 309, 'max_depth': 8, 'min_data_in_leaf': 950, 'lambda_l1': 0.01314129686450305, 'lambda_l2': 20, 'min_gain_to_split': 4.2028814711736855, 'bagging_fraction': 0.7, 'bagging_freq': 1, 'feature_fraction': 0.6000000000000001}. Best is trial 195 with value: -0.7524194716556609.\u001b[0m\n"
     ]
    },
    {
     "name": "stdout",
     "output_type": "stream",
     "text": [
      "score -0.7475494740694913\n",
      "cancelled :5218 , not_cancelled :444782\n",
      "Memory usage of dataframe is 61.19 MB\n",
      "Memory usage after optimization is: 40.59 MB\n",
      "Decreased by 33.7%\n",
      "Features : ['first_mile_distance', 'elapse1', 'elapse2', 'last_mile_distance', 'tot_dist', 'alloted_orders', 'delivered_orders', 'del_ratio', 'undelivered_orders', 'lifetime_order_count', 'Hour', 'session_time', 'Monday', 'Saturday', 'Sunday', 'Thursday', 'Tuesday', 'Wednesday', 'dist_ratio']\n",
      "cat_features []\n",
      "(450000, 19) (450000,)\n",
      "train 360000 valid 90000\n",
      "training Light GBM:\n",
      "[LightGBM] [Warning] lambda_l1 is set=0.012809691216231172, reg_alpha=0.0 will be ignored. Current value: lambda_l1=0.012809691216231172\n",
      "[LightGBM] [Warning] bagging_fraction is set=0.7, subsample=1.0 will be ignored. Current value: bagging_fraction=0.7\n",
      "[LightGBM] [Warning] min_gain_to_split is set=5.597303504145803, min_split_gain=0.0 will be ignored. Current value: min_gain_to_split=5.597303504145803\n",
      "[LightGBM] [Warning] lambda_l2 is set=20, reg_lambda=0.0 will be ignored. Current value: lambda_l2=20\n",
      "[LightGBM] [Warning] feature_fraction is set=0.7, colsample_bytree=1.0 will be ignored. Current value: feature_fraction=0.7\n",
      "[LightGBM] [Warning] min_data_in_leaf is set=750, min_child_samples=20 will be ignored. Current value: min_data_in_leaf=750\n",
      "[LightGBM] [Warning] bagging_freq is set=1, subsample_freq=0 will be ignored. Current value: bagging_freq=1\n"
     ]
    },
    {
     "name": "stderr",
     "output_type": "stream",
     "text": [
      "\u001b[32m[I 2022-02-11 10:32:55,786]\u001b[0m Trial 251 pruned. Trial was pruned at iteration 7.\u001b[0m\n"
     ]
    },
    {
     "name": "stdout",
     "output_type": "stream",
     "text": [
      "cancelled :5218 , not_cancelled :444782\n",
      "Memory usage of dataframe is 61.19 MB\n",
      "Memory usage after optimization is: 40.59 MB\n",
      "Decreased by 33.7%\n",
      "Features : ['first_mile_distance', 'elapse1', 'elapse2', 'last_mile_distance', 'tot_dist', 'alloted_orders', 'delivered_orders', 'del_ratio', 'undelivered_orders', 'lifetime_order_count', 'Hour', 'session_time', 'Monday', 'Saturday', 'Sunday', 'Thursday', 'Tuesday', 'Wednesday', 'dist_ratio']\n",
      "cat_features []\n",
      "(450000, 19) (450000,)\n",
      "train 360000 valid 90000\n",
      "training Light GBM:\n"
     ]
    },
    {
     "name": "stderr",
     "output_type": "stream",
     "text": [
      "\u001b[32m[I 2022-02-11 10:32:59,759]\u001b[0m Trial 252 pruned. Trial was pruned at iteration 0.\u001b[0m\n"
     ]
    },
    {
     "name": "stdout",
     "output_type": "stream",
     "text": [
      "cancelled :5218 , not_cancelled :444782\n",
      "Memory usage of dataframe is 61.19 MB\n",
      "Memory usage after optimization is: 40.59 MB\n",
      "Decreased by 33.7%\n",
      "Features : ['first_mile_distance', 'elapse1', 'elapse2', 'last_mile_distance', 'tot_dist', 'alloted_orders', 'delivered_orders', 'del_ratio', 'undelivered_orders', 'lifetime_order_count', 'Hour', 'session_time', 'Monday', 'Saturday', 'Sunday', 'Thursday', 'Tuesday', 'Wednesday', 'dist_ratio']\n",
      "cat_features []\n",
      "(450000, 19) (450000,)\n",
      "train 360000 valid 90000\n",
      "training Light GBM:\n"
     ]
    },
    {
     "name": "stderr",
     "output_type": "stream",
     "text": [
      "\u001b[32m[I 2022-02-11 10:33:03,838]\u001b[0m Trial 253 pruned. Trial was pruned at iteration 4.\u001b[0m\n"
     ]
    },
    {
     "name": "stdout",
     "output_type": "stream",
     "text": [
      "cancelled :5218 , not_cancelled :444782\n",
      "Memory usage of dataframe is 61.19 MB\n",
      "Memory usage after optimization is: 40.59 MB\n",
      "Decreased by 33.7%\n",
      "Features : ['first_mile_distance', 'elapse1', 'elapse2', 'last_mile_distance', 'tot_dist', 'alloted_orders', 'delivered_orders', 'del_ratio', 'undelivered_orders', 'lifetime_order_count', 'Hour', 'session_time', 'Monday', 'Saturday', 'Sunday', 'Thursday', 'Tuesday', 'Wednesday', 'dist_ratio']\n",
      "cat_features []\n",
      "(450000, 19) (450000,)\n",
      "train 360000 valid 90000\n",
      "training Light GBM:\n"
     ]
    },
    {
     "name": "stderr",
     "output_type": "stream",
     "text": [
      "\u001b[32m[I 2022-02-11 10:33:07,927]\u001b[0m Trial 254 pruned. Trial was pruned at iteration 5.\u001b[0m\n"
     ]
    },
    {
     "name": "stdout",
     "output_type": "stream",
     "text": [
      "cancelled :5218 , not_cancelled :444782\n",
      "Memory usage of dataframe is 61.19 MB\n",
      "Memory usage after optimization is: 40.59 MB\n",
      "Decreased by 33.7%\n",
      "Features : ['first_mile_distance', 'elapse1', 'elapse2', 'last_mile_distance', 'tot_dist', 'alloted_orders', 'delivered_orders', 'del_ratio', 'undelivered_orders', 'lifetime_order_count', 'Hour', 'session_time', 'Monday', 'Saturday', 'Sunday', 'Thursday', 'Tuesday', 'Wednesday', 'dist_ratio']\n",
      "cat_features []\n",
      "(450000, 19) (450000,)\n",
      "train 360000 valid 90000\n",
      "training Light GBM:\n"
     ]
    },
    {
     "name": "stderr",
     "output_type": "stream",
     "text": [
      "\u001b[32m[I 2022-02-11 10:33:11,873]\u001b[0m Trial 255 pruned. Trial was pruned at iteration 0.\u001b[0m\n"
     ]
    },
    {
     "name": "stdout",
     "output_type": "stream",
     "text": [
      "cancelled :5218 , not_cancelled :444782\n",
      "Memory usage of dataframe is 61.19 MB\n",
      "Memory usage after optimization is: 40.59 MB\n",
      "Decreased by 33.7%\n",
      "Features : ['first_mile_distance', 'elapse1', 'elapse2', 'last_mile_distance', 'tot_dist', 'alloted_orders', 'delivered_orders', 'del_ratio', 'undelivered_orders', 'lifetime_order_count', 'Hour', 'session_time', 'Monday', 'Saturday', 'Sunday', 'Thursday', 'Tuesday', 'Wednesday', 'dist_ratio']\n",
      "cat_features []\n",
      "(450000, 19) (450000,)\n",
      "train 360000 valid 90000\n",
      "training Light GBM:\n"
     ]
    },
    {
     "name": "stderr",
     "output_type": "stream",
     "text": [
      "\u001b[32m[I 2022-02-11 10:33:16,009]\u001b[0m Trial 256 pruned. Trial was pruned at iteration 10.\u001b[0m\n"
     ]
    },
    {
     "name": "stdout",
     "output_type": "stream",
     "text": [
      "cancelled :5218 , not_cancelled :444782\n",
      "Memory usage of dataframe is 61.19 MB\n",
      "Memory usage after optimization is: 40.59 MB\n",
      "Decreased by 33.7%\n",
      "Features : ['first_mile_distance', 'elapse1', 'elapse2', 'last_mile_distance', 'tot_dist', 'alloted_orders', 'delivered_orders', 'del_ratio', 'undelivered_orders', 'lifetime_order_count', 'Hour', 'session_time', 'Monday', 'Saturday', 'Sunday', 'Thursday', 'Tuesday', 'Wednesday', 'dist_ratio']\n",
      "cat_features []\n",
      "(450000, 19) (450000,)\n",
      "train 360000 valid 90000\n",
      "training Light GBM:\n"
     ]
    },
    {
     "name": "stderr",
     "output_type": "stream",
     "text": [
      "\u001b[32m[I 2022-02-11 10:33:20,176]\u001b[0m Trial 257 pruned. Trial was pruned at iteration 9.\u001b[0m\n"
     ]
    },
    {
     "name": "stdout",
     "output_type": "stream",
     "text": [
      "cancelled :5218 , not_cancelled :444782\n",
      "Memory usage of dataframe is 61.19 MB\n",
      "Memory usage after optimization is: 40.59 MB\n",
      "Decreased by 33.7%\n",
      "Features : ['first_mile_distance', 'elapse1', 'elapse2', 'last_mile_distance', 'tot_dist', 'alloted_orders', 'delivered_orders', 'del_ratio', 'undelivered_orders', 'lifetime_order_count', 'Hour', 'session_time', 'Monday', 'Saturday', 'Sunday', 'Thursday', 'Tuesday', 'Wednesday', 'dist_ratio']\n",
      "cat_features []\n",
      "(450000, 19) (450000,)\n",
      "train 360000 valid 90000\n",
      "training Light GBM:\n"
     ]
    },
    {
     "name": "stderr",
     "output_type": "stream",
     "text": [
      "\u001b[32m[I 2022-02-11 10:33:24,249]\u001b[0m Trial 258 pruned. Trial was pruned at iteration 0.\u001b[0m\n"
     ]
    },
    {
     "name": "stdout",
     "output_type": "stream",
     "text": [
      "cancelled :5218 , not_cancelled :444782\n",
      "Memory usage of dataframe is 61.19 MB\n",
      "Memory usage after optimization is: 40.59 MB\n",
      "Decreased by 33.7%\n",
      "Features : ['first_mile_distance', 'elapse1', 'elapse2', 'last_mile_distance', 'tot_dist', 'alloted_orders', 'delivered_orders', 'del_ratio', 'undelivered_orders', 'lifetime_order_count', 'Hour', 'session_time', 'Monday', 'Saturday', 'Sunday', 'Thursday', 'Tuesday', 'Wednesday', 'dist_ratio']\n",
      "cat_features []\n",
      "(450000, 19) (450000,)\n",
      "train 360000 valid 90000\n",
      "training Light GBM:\n"
     ]
    },
    {
     "name": "stderr",
     "output_type": "stream",
     "text": [
      "\u001b[32m[I 2022-02-11 10:33:28,299]\u001b[0m Trial 259 pruned. Trial was pruned at iteration 3.\u001b[0m\n"
     ]
    },
    {
     "name": "stdout",
     "output_type": "stream",
     "text": [
      "cancelled :5218 , not_cancelled :444782\n",
      "Memory usage of dataframe is 61.19 MB\n",
      "Memory usage after optimization is: 40.59 MB\n",
      "Decreased by 33.7%\n",
      "Features : ['first_mile_distance', 'elapse1', 'elapse2', 'last_mile_distance', 'tot_dist', 'alloted_orders', 'delivered_orders', 'del_ratio', 'undelivered_orders', 'lifetime_order_count', 'Hour', 'session_time', 'Monday', 'Saturday', 'Sunday', 'Thursday', 'Tuesday', 'Wednesday', 'dist_ratio']\n",
      "cat_features []\n",
      "(450000, 19) (450000,)\n",
      "train 360000 valid 90000\n",
      "training Light GBM:\n"
     ]
    },
    {
     "name": "stderr",
     "output_type": "stream",
     "text": [
      "\u001b[32m[I 2022-02-11 10:33:32,417]\u001b[0m Trial 260 pruned. Trial was pruned at iteration 9.\u001b[0m\n"
     ]
    },
    {
     "name": "stdout",
     "output_type": "stream",
     "text": [
      "cancelled :5218 , not_cancelled :444782\n",
      "Memory usage of dataframe is 61.19 MB\n",
      "Memory usage after optimization is: 40.59 MB\n",
      "Decreased by 33.7%\n",
      "Features : ['first_mile_distance', 'elapse1', 'elapse2', 'last_mile_distance', 'tot_dist', 'alloted_orders', 'delivered_orders', 'del_ratio', 'undelivered_orders', 'lifetime_order_count', 'Hour', 'session_time', 'Monday', 'Saturday', 'Sunday', 'Thursday', 'Tuesday', 'Wednesday', 'dist_ratio']\n",
      "cat_features []\n",
      "(450000, 19) (450000,)\n",
      "train 360000 valid 90000\n",
      "training Light GBM:\n"
     ]
    },
    {
     "name": "stderr",
     "output_type": "stream",
     "text": [
      "\u001b[32m[I 2022-02-11 10:33:36,278]\u001b[0m Trial 261 pruned. Trial was pruned at iteration 0.\u001b[0m\n"
     ]
    },
    {
     "name": "stdout",
     "output_type": "stream",
     "text": [
      "cancelled :5218 , not_cancelled :444782\n",
      "Memory usage of dataframe is 61.19 MB\n",
      "Memory usage after optimization is: 40.59 MB\n",
      "Decreased by 33.7%\n",
      "Features : ['first_mile_distance', 'elapse1', 'elapse2', 'last_mile_distance', 'tot_dist', 'alloted_orders', 'delivered_orders', 'del_ratio', 'undelivered_orders', 'lifetime_order_count', 'Hour', 'session_time', 'Monday', 'Saturday', 'Sunday', 'Thursday', 'Tuesday', 'Wednesday', 'dist_ratio']\n",
      "cat_features []\n",
      "(450000, 19) (450000,)\n",
      "train 360000 valid 90000\n",
      "training Light GBM:\n"
     ]
    },
    {
     "name": "stderr",
     "output_type": "stream",
     "text": [
      "\u001b[32m[I 2022-02-11 10:33:40,529]\u001b[0m Trial 262 pruned. Trial was pruned at iteration 13.\u001b[0m\n"
     ]
    },
    {
     "name": "stdout",
     "output_type": "stream",
     "text": [
      "cancelled :5218 , not_cancelled :444782\n",
      "Memory usage of dataframe is 61.19 MB\n",
      "Memory usage after optimization is: 40.59 MB\n",
      "Decreased by 33.7%\n",
      "Features : ['first_mile_distance', 'elapse1', 'elapse2', 'last_mile_distance', 'tot_dist', 'alloted_orders', 'delivered_orders', 'del_ratio', 'undelivered_orders', 'lifetime_order_count', 'Hour', 'session_time', 'Monday', 'Saturday', 'Sunday', 'Thursday', 'Tuesday', 'Wednesday', 'dist_ratio']\n",
      "cat_features []\n",
      "(450000, 19) (450000,)\n",
      "train 360000 valid 90000\n",
      "training Light GBM:\n"
     ]
    },
    {
     "name": "stderr",
     "output_type": "stream",
     "text": [
      "\u001b[32m[I 2022-02-11 10:33:44,482]\u001b[0m Trial 263 pruned. Trial was pruned at iteration 0.\u001b[0m\n"
     ]
    },
    {
     "name": "stdout",
     "output_type": "stream",
     "text": [
      "cancelled :5218 , not_cancelled :444782\n",
      "Memory usage of dataframe is 61.19 MB\n",
      "Memory usage after optimization is: 40.59 MB\n",
      "Decreased by 33.7%\n",
      "Features : ['first_mile_distance', 'elapse1', 'elapse2', 'last_mile_distance', 'tot_dist', 'alloted_orders', 'delivered_orders', 'del_ratio', 'undelivered_orders', 'lifetime_order_count', 'Hour', 'session_time', 'Monday', 'Saturday', 'Sunday', 'Thursday', 'Tuesday', 'Wednesday', 'dist_ratio']\n",
      "cat_features []\n",
      "(450000, 19) (450000,)\n",
      "train 360000 valid 90000\n",
      "training Light GBM:\n"
     ]
    },
    {
     "name": "stderr",
     "output_type": "stream",
     "text": [
      "\u001b[32m[I 2022-02-11 10:33:48,516]\u001b[0m Trial 264 pruned. Trial was pruned at iteration 9.\u001b[0m\n"
     ]
    },
    {
     "name": "stdout",
     "output_type": "stream",
     "text": [
      "cancelled :5218 , not_cancelled :444782\n",
      "Memory usage of dataframe is 61.19 MB\n",
      "Memory usage after optimization is: 40.59 MB\n",
      "Decreased by 33.7%\n",
      "Features : ['first_mile_distance', 'elapse1', 'elapse2', 'last_mile_distance', 'tot_dist', 'alloted_orders', 'delivered_orders', 'del_ratio', 'undelivered_orders', 'lifetime_order_count', 'Hour', 'session_time', 'Monday', 'Saturday', 'Sunday', 'Thursday', 'Tuesday', 'Wednesday', 'dist_ratio']\n",
      "cat_features []\n",
      "(450000, 19) (450000,)\n",
      "train 360000 valid 90000\n",
      "training Light GBM:\n"
     ]
    },
    {
     "name": "stderr",
     "output_type": "stream",
     "text": [
      "\u001b[32m[I 2022-02-11 10:33:52,420]\u001b[0m Trial 265 pruned. Trial was pruned at iteration 6.\u001b[0m\n"
     ]
    },
    {
     "name": "stdout",
     "output_type": "stream",
     "text": [
      "cancelled :5218 , not_cancelled :444782\n",
      "Memory usage of dataframe is 61.19 MB\n",
      "Memory usage after optimization is: 40.59 MB\n",
      "Decreased by 33.7%\n",
      "Features : ['first_mile_distance', 'elapse1', 'elapse2', 'last_mile_distance', 'tot_dist', 'alloted_orders', 'delivered_orders', 'del_ratio', 'undelivered_orders', 'lifetime_order_count', 'Hour', 'session_time', 'Monday', 'Saturday', 'Sunday', 'Thursday', 'Tuesday', 'Wednesday', 'dist_ratio']\n",
      "cat_features []\n",
      "(450000, 19) (450000,)\n",
      "train 360000 valid 90000\n",
      "training Light GBM:\n"
     ]
    },
    {
     "name": "stderr",
     "output_type": "stream",
     "text": [
      "\u001b[32m[I 2022-02-11 10:33:56,319]\u001b[0m Trial 266 pruned. Trial was pruned at iteration 2.\u001b[0m\n"
     ]
    },
    {
     "name": "stdout",
     "output_type": "stream",
     "text": [
      "cancelled :5218 , not_cancelled :444782\n",
      "Memory usage of dataframe is 61.19 MB\n",
      "Memory usage after optimization is: 40.59 MB\n",
      "Decreased by 33.7%\n",
      "Features : ['first_mile_distance', 'elapse1', 'elapse2', 'last_mile_distance', 'tot_dist', 'alloted_orders', 'delivered_orders', 'del_ratio', 'undelivered_orders', 'lifetime_order_count', 'Hour', 'session_time', 'Monday', 'Saturday', 'Sunday', 'Thursday', 'Tuesday', 'Wednesday', 'dist_ratio']\n",
      "cat_features []\n",
      "(450000, 19) (450000,)\n",
      "train 360000 valid 90000\n",
      "training Light GBM:\n",
      "score -0.7578689245952057\n",
      "train 360000 valid 90000\n",
      "training Light GBM:\n",
      "[LightGBM] [Warning] lambda_l1 is set=0.024943612063271718, reg_alpha=0.0 will be ignored. Current value: lambda_l1=0.024943612063271718\n",
      "[LightGBM] [Warning] bagging_fraction is set=0.9, subsample=1.0 will be ignored. Current value: bagging_fraction=0.9\n",
      "[LightGBM] [Warning] min_gain_to_split is set=4.2391174967678715, min_split_gain=0.0 will be ignored. Current value: min_gain_to_split=4.2391174967678715\n",
      "[LightGBM] [Warning] lambda_l2 is set=15, reg_lambda=0.0 will be ignored. Current value: lambda_l2=15\n",
      "[LightGBM] [Warning] feature_fraction is set=0.8, colsample_bytree=1.0 will be ignored. Current value: feature_fraction=0.8\n",
      "[LightGBM] [Warning] min_data_in_leaf is set=950, min_child_samples=20 will be ignored. Current value: min_data_in_leaf=950\n",
      "[LightGBM] [Warning] bagging_freq is set=1, subsample_freq=0 will be ignored. Current value: bagging_freq=1\n",
      "score -0.7526585204949603\n",
      "train 360000 valid 90000\n",
      "training Light GBM:\n",
      "[LightGBM] [Warning] lambda_l1 is set=0.024943612063271718, reg_alpha=0.0 will be ignored. Current value: lambda_l1=0.024943612063271718\n",
      "[LightGBM] [Warning] bagging_fraction is set=0.9, subsample=1.0 will be ignored. Current value: bagging_fraction=0.9\n",
      "[LightGBM] [Warning] min_gain_to_split is set=4.2391174967678715, min_split_gain=0.0 will be ignored. Current value: min_gain_to_split=4.2391174967678715\n",
      "[LightGBM] [Warning] lambda_l2 is set=15, reg_lambda=0.0 will be ignored. Current value: lambda_l2=15\n",
      "[LightGBM] [Warning] feature_fraction is set=0.8, colsample_bytree=1.0 will be ignored. Current value: feature_fraction=0.8\n",
      "[LightGBM] [Warning] min_data_in_leaf is set=950, min_child_samples=20 will be ignored. Current value: min_data_in_leaf=950\n",
      "[LightGBM] [Warning] bagging_freq is set=1, subsample_freq=0 will be ignored. Current value: bagging_freq=1\n",
      "score -0.7397237876351631\n",
      "train 360000 valid 90000\n",
      "training Light GBM:\n",
      "[LightGBM] [Warning] lambda_l1 is set=0.024943612063271718, reg_alpha=0.0 will be ignored. Current value: lambda_l1=0.024943612063271718\n",
      "[LightGBM] [Warning] bagging_fraction is set=0.9, subsample=1.0 will be ignored. Current value: bagging_fraction=0.9\n",
      "[LightGBM] [Warning] min_gain_to_split is set=4.2391174967678715, min_split_gain=0.0 will be ignored. Current value: min_gain_to_split=4.2391174967678715\n",
      "[LightGBM] [Warning] lambda_l2 is set=15, reg_lambda=0.0 will be ignored. Current value: lambda_l2=15\n",
      "[LightGBM] [Warning] feature_fraction is set=0.8, colsample_bytree=1.0 will be ignored. Current value: feature_fraction=0.8\n",
      "[LightGBM] [Warning] min_data_in_leaf is set=950, min_child_samples=20 will be ignored. Current value: min_data_in_leaf=950\n",
      "[LightGBM] [Warning] bagging_freq is set=1, subsample_freq=0 will be ignored. Current value: bagging_freq=1\n",
      "score -0.7489070159357272\n",
      "train 360000 valid 90000\n",
      "training Light GBM:\n",
      "[LightGBM] [Warning] lambda_l1 is set=0.024943612063271718, reg_alpha=0.0 will be ignored. Current value: lambda_l1=0.024943612063271718\n",
      "[LightGBM] [Warning] bagging_fraction is set=0.9, subsample=1.0 will be ignored. Current value: bagging_fraction=0.9\n",
      "[LightGBM] [Warning] min_gain_to_split is set=4.2391174967678715, min_split_gain=0.0 will be ignored. Current value: min_gain_to_split=4.2391174967678715\n",
      "[LightGBM] [Warning] lambda_l2 is set=15, reg_lambda=0.0 will be ignored. Current value: lambda_l2=15\n",
      "[LightGBM] [Warning] feature_fraction is set=0.8, colsample_bytree=1.0 will be ignored. Current value: feature_fraction=0.8\n",
      "[LightGBM] [Warning] min_data_in_leaf is set=950, min_child_samples=20 will be ignored. Current value: min_data_in_leaf=950\n",
      "[LightGBM] [Warning] bagging_freq is set=1, subsample_freq=0 will be ignored. Current value: bagging_freq=1\n"
     ]
    },
    {
     "name": "stderr",
     "output_type": "stream",
     "text": [
      "\u001b[32m[I 2022-02-11 10:34:08,160]\u001b[0m Trial 267 finished with value: -0.7494548706228527 and parameters: {'n_estimators': 10000, 'learning_rate': 0.32444705838081855, 'num_leaves': 2330, 'max_depth': 9, 'min_data_in_leaf': 950, 'lambda_l1': 0.024943612063271718, 'lambda_l2': 15, 'min_gain_to_split': 4.2391174967678715, 'bagging_fraction': 0.9, 'bagging_freq': 1, 'feature_fraction': 0.8}. Best is trial 195 with value: -0.7524194716556609.\u001b[0m\n"
     ]
    },
    {
     "name": "stdout",
     "output_type": "stream",
     "text": [
      "score -0.7481161044532068\n",
      "cancelled :5218 , not_cancelled :444782\n",
      "Memory usage of dataframe is 61.19 MB\n",
      "Memory usage after optimization is: 40.59 MB\n",
      "Decreased by 33.7%\n",
      "Features : ['first_mile_distance', 'elapse1', 'elapse2', 'last_mile_distance', 'tot_dist', 'alloted_orders', 'delivered_orders', 'del_ratio', 'undelivered_orders', 'lifetime_order_count', 'Hour', 'session_time', 'Monday', 'Saturday', 'Sunday', 'Thursday', 'Tuesday', 'Wednesday', 'dist_ratio']\n",
      "cat_features []\n",
      "(450000, 19) (450000,)\n",
      "train 360000 valid 90000\n",
      "training Light GBM:\n",
      "[LightGBM] [Warning] lambda_l1 is set=0.0027438379787770944, reg_alpha=0.0 will be ignored. Current value: lambda_l1=0.0027438379787770944\n",
      "[LightGBM] [Warning] bagging_fraction is set=0.7, subsample=1.0 will be ignored. Current value: bagging_fraction=0.7\n",
      "[LightGBM] [Warning] min_gain_to_split is set=4.241108654312561, min_split_gain=0.0 will be ignored. Current value: min_gain_to_split=4.241108654312561\n",
      "[LightGBM] [Warning] lambda_l2 is set=10, reg_lambda=0.0 will be ignored. Current value: lambda_l2=10\n",
      "[LightGBM] [Warning] feature_fraction is set=0.8, colsample_bytree=1.0 will be ignored. Current value: feature_fraction=0.8\n",
      "[LightGBM] [Warning] min_data_in_leaf is set=850, min_child_samples=20 will be ignored. Current value: min_data_in_leaf=850\n",
      "[LightGBM] [Warning] bagging_freq is set=1, subsample_freq=0 will be ignored. Current value: bagging_freq=1\n"
     ]
    },
    {
     "name": "stderr",
     "output_type": "stream",
     "text": [
      "\u001b[32m[I 2022-02-11 10:34:12,462]\u001b[0m Trial 268 pruned. Trial was pruned at iteration 9.\u001b[0m\n"
     ]
    },
    {
     "name": "stdout",
     "output_type": "stream",
     "text": [
      "cancelled :5218 , not_cancelled :444782\n",
      "Memory usage of dataframe is 61.19 MB\n",
      "Memory usage after optimization is: 40.59 MB\n",
      "Decreased by 33.7%\n",
      "Features : ['first_mile_distance', 'elapse1', 'elapse2', 'last_mile_distance', 'tot_dist', 'alloted_orders', 'delivered_orders', 'del_ratio', 'undelivered_orders', 'lifetime_order_count', 'Hour', 'session_time', 'Monday', 'Saturday', 'Sunday', 'Thursday', 'Tuesday', 'Wednesday', 'dist_ratio']\n",
      "cat_features []\n",
      "(450000, 19) (450000,)\n",
      "train 360000 valid 90000\n",
      "training Light GBM:\n"
     ]
    },
    {
     "name": "stderr",
     "output_type": "stream",
     "text": [
      "\u001b[32m[I 2022-02-11 10:34:16,703]\u001b[0m Trial 269 pruned. Trial was pruned at iteration 8.\u001b[0m\n"
     ]
    },
    {
     "name": "stdout",
     "output_type": "stream",
     "text": [
      "cancelled :5218 , not_cancelled :444782\n",
      "Memory usage of dataframe is 61.19 MB\n",
      "Memory usage after optimization is: 40.59 MB\n",
      "Decreased by 33.7%\n",
      "Features : ['first_mile_distance', 'elapse1', 'elapse2', 'last_mile_distance', 'tot_dist', 'alloted_orders', 'delivered_orders', 'del_ratio', 'undelivered_orders', 'lifetime_order_count', 'Hour', 'session_time', 'Monday', 'Saturday', 'Sunday', 'Thursday', 'Tuesday', 'Wednesday', 'dist_ratio']\n",
      "cat_features []\n",
      "(450000, 19) (450000,)\n",
      "train 360000 valid 90000\n",
      "training Light GBM:\n"
     ]
    },
    {
     "name": "stderr",
     "output_type": "stream",
     "text": [
      "\u001b[32m[I 2022-02-11 10:34:20,672]\u001b[0m Trial 270 pruned. Trial was pruned at iteration 0.\u001b[0m\n"
     ]
    },
    {
     "name": "stdout",
     "output_type": "stream",
     "text": [
      "cancelled :5218 , not_cancelled :444782\n",
      "Memory usage of dataframe is 61.19 MB\n",
      "Memory usage after optimization is: 40.59 MB\n",
      "Decreased by 33.7%\n",
      "Features : ['first_mile_distance', 'elapse1', 'elapse2', 'last_mile_distance', 'tot_dist', 'alloted_orders', 'delivered_orders', 'del_ratio', 'undelivered_orders', 'lifetime_order_count', 'Hour', 'session_time', 'Monday', 'Saturday', 'Sunday', 'Thursday', 'Tuesday', 'Wednesday', 'dist_ratio']\n",
      "cat_features []\n",
      "(450000, 19) (450000,)\n",
      "train 360000 valid 90000\n",
      "training Light GBM:\n",
      "score -0.760836014677004\n",
      "train 360000 valid 90000\n",
      "training Light GBM:\n",
      "[LightGBM] [Warning] lambda_l1 is set=0.022734706498995175, reg_alpha=0.0 will be ignored. Current value: lambda_l1=0.022734706498995175\n",
      "[LightGBM] [Warning] bagging_fraction is set=0.7, subsample=1.0 will be ignored. Current value: bagging_fraction=0.7\n",
      "[LightGBM] [Warning] min_gain_to_split is set=4.832647889424843, min_split_gain=0.0 will be ignored. Current value: min_gain_to_split=4.832647889424843\n",
      "[LightGBM] [Warning] lambda_l2 is set=25, reg_lambda=0.0 will be ignored. Current value: lambda_l2=25\n",
      "[LightGBM] [Warning] feature_fraction is set=0.9, colsample_bytree=1.0 will be ignored. Current value: feature_fraction=0.9\n",
      "[LightGBM] [Warning] min_data_in_leaf is set=1300, min_child_samples=20 will be ignored. Current value: min_data_in_leaf=1300\n",
      "[LightGBM] [Warning] bagging_freq is set=1, subsample_freq=0 will be ignored. Current value: bagging_freq=1\n",
      "score -0.7389364469465685\n",
      "train 360000 valid 90000\n",
      "training Light GBM:\n",
      "[LightGBM] [Warning] lambda_l1 is set=0.022734706498995175, reg_alpha=0.0 will be ignored. Current value: lambda_l1=0.022734706498995175\n",
      "[LightGBM] [Warning] bagging_fraction is set=0.7, subsample=1.0 will be ignored. Current value: bagging_fraction=0.7\n",
      "[LightGBM] [Warning] min_gain_to_split is set=4.832647889424843, min_split_gain=0.0 will be ignored. Current value: min_gain_to_split=4.832647889424843\n",
      "[LightGBM] [Warning] lambda_l2 is set=25, reg_lambda=0.0 will be ignored. Current value: lambda_l2=25\n",
      "[LightGBM] [Warning] feature_fraction is set=0.9, colsample_bytree=1.0 will be ignored. Current value: feature_fraction=0.9\n",
      "[LightGBM] [Warning] min_data_in_leaf is set=1300, min_child_samples=20 will be ignored. Current value: min_data_in_leaf=1300\n",
      "[LightGBM] [Warning] bagging_freq is set=1, subsample_freq=0 will be ignored. Current value: bagging_freq=1\n",
      "score -0.7391773682852205\n",
      "train 360000 valid 90000\n",
      "training Light GBM:\n",
      "[LightGBM] [Warning] lambda_l1 is set=0.022734706498995175, reg_alpha=0.0 will be ignored. Current value: lambda_l1=0.022734706498995175\n",
      "[LightGBM] [Warning] bagging_fraction is set=0.7, subsample=1.0 will be ignored. Current value: bagging_fraction=0.7\n",
      "[LightGBM] [Warning] min_gain_to_split is set=4.832647889424843, min_split_gain=0.0 will be ignored. Current value: min_gain_to_split=4.832647889424843\n",
      "[LightGBM] [Warning] lambda_l2 is set=25, reg_lambda=0.0 will be ignored. Current value: lambda_l2=25\n",
      "[LightGBM] [Warning] feature_fraction is set=0.9, colsample_bytree=1.0 will be ignored. Current value: feature_fraction=0.9\n",
      "[LightGBM] [Warning] min_data_in_leaf is set=1300, min_child_samples=20 will be ignored. Current value: min_data_in_leaf=1300\n",
      "[LightGBM] [Warning] bagging_freq is set=1, subsample_freq=0 will be ignored. Current value: bagging_freq=1\n",
      "score -0.7447114928229188\n",
      "train 360000 valid 90000\n",
      "training Light GBM:\n",
      "[LightGBM] [Warning] lambda_l1 is set=0.022734706498995175, reg_alpha=0.0 will be ignored. Current value: lambda_l1=0.022734706498995175\n",
      "[LightGBM] [Warning] bagging_fraction is set=0.7, subsample=1.0 will be ignored. Current value: bagging_fraction=0.7\n",
      "[LightGBM] [Warning] min_gain_to_split is set=4.832647889424843, min_split_gain=0.0 will be ignored. Current value: min_gain_to_split=4.832647889424843\n",
      "[LightGBM] [Warning] lambda_l2 is set=25, reg_lambda=0.0 will be ignored. Current value: lambda_l2=25\n",
      "[LightGBM] [Warning] feature_fraction is set=0.9, colsample_bytree=1.0 will be ignored. Current value: feature_fraction=0.9\n",
      "[LightGBM] [Warning] min_data_in_leaf is set=1300, min_child_samples=20 will be ignored. Current value: min_data_in_leaf=1300\n",
      "[LightGBM] [Warning] bagging_freq is set=1, subsample_freq=0 will be ignored. Current value: bagging_freq=1\n"
     ]
    },
    {
     "name": "stderr",
     "output_type": "stream",
     "text": [
      "\u001b[32m[I 2022-02-11 10:34:35,484]\u001b[0m Trial 271 finished with value: -0.7484661580429594 and parameters: {'n_estimators': 10000, 'learning_rate': 0.349308341983404, 'num_leaves': 2403, 'max_depth': 7, 'min_data_in_leaf': 1300, 'lambda_l1': 0.022734706498995175, 'lambda_l2': 25, 'min_gain_to_split': 4.832647889424843, 'bagging_fraction': 0.7, 'bagging_freq': 1, 'feature_fraction': 0.9}. Best is trial 195 with value: -0.7524194716556609.\u001b[0m\n"
     ]
    },
    {
     "name": "stdout",
     "output_type": "stream",
     "text": [
      "score -0.7586694674830847\n",
      "cancelled :5218 , not_cancelled :444782\n",
      "Memory usage of dataframe is 61.19 MB\n",
      "Memory usage after optimization is: 40.59 MB\n",
      "Decreased by 33.7%\n",
      "Features : ['first_mile_distance', 'elapse1', 'elapse2', 'last_mile_distance', 'tot_dist', 'alloted_orders', 'delivered_orders', 'del_ratio', 'undelivered_orders', 'lifetime_order_count', 'Hour', 'session_time', 'Monday', 'Saturday', 'Sunday', 'Thursday', 'Tuesday', 'Wednesday', 'dist_ratio']\n",
      "cat_features []\n",
      "(450000, 19) (450000,)\n",
      "train 360000 valid 90000\n",
      "training Light GBM:\n",
      "[LightGBM] [Warning] lambda_l1 is set=0.024835505112329813, reg_alpha=0.0 will be ignored. Current value: lambda_l1=0.024835505112329813\n",
      "[LightGBM] [Warning] bagging_fraction is set=0.7, subsample=1.0 will be ignored. Current value: bagging_fraction=0.7\n",
      "[LightGBM] [Warning] min_gain_to_split is set=4.909157660622825, min_split_gain=0.0 will be ignored. Current value: min_gain_to_split=4.909157660622825\n",
      "[LightGBM] [Warning] lambda_l2 is set=25, reg_lambda=0.0 will be ignored. Current value: lambda_l2=25\n",
      "[LightGBM] [Warning] feature_fraction is set=0.9, colsample_bytree=1.0 will be ignored. Current value: feature_fraction=0.9\n",
      "[LightGBM] [Warning] min_data_in_leaf is set=1200, min_child_samples=20 will be ignored. Current value: min_data_in_leaf=1200\n",
      "[LightGBM] [Warning] bagging_freq is set=1, subsample_freq=0 will be ignored. Current value: bagging_freq=1\n"
     ]
    },
    {
     "name": "stderr",
     "output_type": "stream",
     "text": [
      "\u001b[32m[I 2022-02-11 10:34:39,496]\u001b[0m Trial 272 pruned. Trial was pruned at iteration 6.\u001b[0m\n"
     ]
    },
    {
     "name": "stdout",
     "output_type": "stream",
     "text": [
      "cancelled :5218 , not_cancelled :444782\n",
      "Memory usage of dataframe is 61.19 MB\n",
      "Memory usage after optimization is: 40.59 MB\n",
      "Decreased by 33.7%\n",
      "Features : ['first_mile_distance', 'elapse1', 'elapse2', 'last_mile_distance', 'tot_dist', 'alloted_orders', 'delivered_orders', 'del_ratio', 'undelivered_orders', 'lifetime_order_count', 'Hour', 'session_time', 'Monday', 'Saturday', 'Sunday', 'Thursday', 'Tuesday', 'Wednesday', 'dist_ratio']\n",
      "cat_features []\n",
      "(450000, 19) (450000,)\n",
      "train 360000 valid 90000\n",
      "training Light GBM:\n"
     ]
    },
    {
     "name": "stderr",
     "output_type": "stream",
     "text": [
      "\u001b[32m[I 2022-02-11 10:34:43,312]\u001b[0m Trial 273 pruned. Trial was pruned at iteration 0.\u001b[0m\n"
     ]
    },
    {
     "name": "stdout",
     "output_type": "stream",
     "text": [
      "cancelled :5218 , not_cancelled :444782\n",
      "Memory usage of dataframe is 61.19 MB\n",
      "Memory usage after optimization is: 40.59 MB\n",
      "Decreased by 33.7%\n",
      "Features : ['first_mile_distance', 'elapse1', 'elapse2', 'last_mile_distance', 'tot_dist', 'alloted_orders', 'delivered_orders', 'del_ratio', 'undelivered_orders', 'lifetime_order_count', 'Hour', 'session_time', 'Monday', 'Saturday', 'Sunday', 'Thursday', 'Tuesday', 'Wednesday', 'dist_ratio']\n",
      "cat_features []\n",
      "(450000, 19) (450000,)\n",
      "train 360000 valid 90000\n",
      "training Light GBM:\n"
     ]
    },
    {
     "name": "stderr",
     "output_type": "stream",
     "text": [
      "\u001b[32m[I 2022-02-11 10:34:47,307]\u001b[0m Trial 274 pruned. Trial was pruned at iteration 0.\u001b[0m\n"
     ]
    },
    {
     "name": "stdout",
     "output_type": "stream",
     "text": [
      "cancelled :5218 , not_cancelled :444782\n",
      "Memory usage of dataframe is 61.19 MB\n",
      "Memory usage after optimization is: 40.59 MB\n",
      "Decreased by 33.7%\n",
      "Features : ['first_mile_distance', 'elapse1', 'elapse2', 'last_mile_distance', 'tot_dist', 'alloted_orders', 'delivered_orders', 'del_ratio', 'undelivered_orders', 'lifetime_order_count', 'Hour', 'session_time', 'Monday', 'Saturday', 'Sunday', 'Thursday', 'Tuesday', 'Wednesday', 'dist_ratio']\n",
      "cat_features []\n",
      "(450000, 19) (450000,)\n",
      "train 360000 valid 90000\n",
      "training Light GBM:\n"
     ]
    },
    {
     "name": "stderr",
     "output_type": "stream",
     "text": [
      "\u001b[32m[I 2022-02-11 10:34:51,161]\u001b[0m Trial 275 pruned. Trial was pruned at iteration 0.\u001b[0m\n"
     ]
    },
    {
     "name": "stdout",
     "output_type": "stream",
     "text": [
      "cancelled :5218 , not_cancelled :444782\n",
      "Memory usage of dataframe is 61.19 MB\n",
      "Memory usage after optimization is: 40.59 MB\n",
      "Decreased by 33.7%\n",
      "Features : ['first_mile_distance', 'elapse1', 'elapse2', 'last_mile_distance', 'tot_dist', 'alloted_orders', 'delivered_orders', 'del_ratio', 'undelivered_orders', 'lifetime_order_count', 'Hour', 'session_time', 'Monday', 'Saturday', 'Sunday', 'Thursday', 'Tuesday', 'Wednesday', 'dist_ratio']\n",
      "cat_features []\n",
      "(450000, 19) (450000,)\n",
      "train 360000 valid 90000\n",
      "training Light GBM:\n"
     ]
    },
    {
     "name": "stderr",
     "output_type": "stream",
     "text": [
      "\u001b[32m[I 2022-02-11 10:34:55,235]\u001b[0m Trial 276 pruned. Trial was pruned at iteration 8.\u001b[0m\n"
     ]
    },
    {
     "name": "stdout",
     "output_type": "stream",
     "text": [
      "cancelled :5218 , not_cancelled :444782\n",
      "Memory usage of dataframe is 61.19 MB\n",
      "Memory usage after optimization is: 40.59 MB\n",
      "Decreased by 33.7%\n",
      "Features : ['first_mile_distance', 'elapse1', 'elapse2', 'last_mile_distance', 'tot_dist', 'alloted_orders', 'delivered_orders', 'del_ratio', 'undelivered_orders', 'lifetime_order_count', 'Hour', 'session_time', 'Monday', 'Saturday', 'Sunday', 'Thursday', 'Tuesday', 'Wednesday', 'dist_ratio']\n",
      "cat_features []\n",
      "(450000, 19) (450000,)\n",
      "train 360000 valid 90000\n",
      "training Light GBM:\n"
     ]
    },
    {
     "name": "stderr",
     "output_type": "stream",
     "text": [
      "\u001b[32m[I 2022-02-11 10:34:59,292]\u001b[0m Trial 277 pruned. Trial was pruned at iteration 0.\u001b[0m\n"
     ]
    },
    {
     "name": "stdout",
     "output_type": "stream",
     "text": [
      "cancelled :5218 , not_cancelled :444782\n",
      "Memory usage of dataframe is 61.19 MB\n",
      "Memory usage after optimization is: 40.59 MB\n",
      "Decreased by 33.7%\n",
      "Features : ['first_mile_distance', 'elapse1', 'elapse2', 'last_mile_distance', 'tot_dist', 'alloted_orders', 'delivered_orders', 'del_ratio', 'undelivered_orders', 'lifetime_order_count', 'Hour', 'session_time', 'Monday', 'Saturday', 'Sunday', 'Thursday', 'Tuesday', 'Wednesday', 'dist_ratio']\n",
      "cat_features []\n",
      "(450000, 19) (450000,)\n",
      "train 360000 valid 90000\n",
      "training Light GBM:\n"
     ]
    },
    {
     "name": "stderr",
     "output_type": "stream",
     "text": [
      "\u001b[32m[I 2022-02-11 10:35:03,286]\u001b[0m Trial 278 pruned. Trial was pruned at iteration 0.\u001b[0m\n"
     ]
    },
    {
     "name": "stdout",
     "output_type": "stream",
     "text": [
      "cancelled :5218 , not_cancelled :444782\n",
      "Memory usage of dataframe is 61.19 MB\n",
      "Memory usage after optimization is: 40.59 MB\n",
      "Decreased by 33.7%\n",
      "Features : ['first_mile_distance', 'elapse1', 'elapse2', 'last_mile_distance', 'tot_dist', 'alloted_orders', 'delivered_orders', 'del_ratio', 'undelivered_orders', 'lifetime_order_count', 'Hour', 'session_time', 'Monday', 'Saturday', 'Sunday', 'Thursday', 'Tuesday', 'Wednesday', 'dist_ratio']\n",
      "cat_features []\n",
      "(450000, 19) (450000,)\n",
      "train 360000 valid 90000\n",
      "training Light GBM:\n",
      "score -0.7481410675637387\n",
      "train 360000 valid 90000\n",
      "training Light GBM:\n",
      "[LightGBM] [Warning] lambda_l1 is set=0.0417472365759017, reg_alpha=0.0 will be ignored. Current value: lambda_l1=0.0417472365759017\n",
      "[LightGBM] [Warning] bagging_fraction is set=0.8, subsample=1.0 will be ignored. Current value: bagging_fraction=0.8\n",
      "[LightGBM] [Warning] min_gain_to_split is set=2.8240849505549868, min_split_gain=0.0 will be ignored. Current value: min_gain_to_split=2.8240849505549868\n",
      "[LightGBM] [Warning] lambda_l2 is set=15, reg_lambda=0.0 will be ignored. Current value: lambda_l2=15\n",
      "[LightGBM] [Warning] feature_fraction is set=0.8, colsample_bytree=1.0 will be ignored. Current value: feature_fraction=0.8\n",
      "[LightGBM] [Warning] min_data_in_leaf is set=1350, min_child_samples=20 will be ignored. Current value: min_data_in_leaf=1350\n",
      "[LightGBM] [Warning] bagging_freq is set=1, subsample_freq=0 will be ignored. Current value: bagging_freq=1\n",
      "score -0.7526617862092893\n",
      "train 360000 valid 90000\n",
      "training Light GBM:\n",
      "[LightGBM] [Warning] lambda_l1 is set=0.0417472365759017, reg_alpha=0.0 will be ignored. Current value: lambda_l1=0.0417472365759017\n",
      "[LightGBM] [Warning] bagging_fraction is set=0.8, subsample=1.0 will be ignored. Current value: bagging_fraction=0.8\n",
      "[LightGBM] [Warning] min_gain_to_split is set=2.8240849505549868, min_split_gain=0.0 will be ignored. Current value: min_gain_to_split=2.8240849505549868\n",
      "[LightGBM] [Warning] lambda_l2 is set=15, reg_lambda=0.0 will be ignored. Current value: lambda_l2=15\n",
      "[LightGBM] [Warning] feature_fraction is set=0.8, colsample_bytree=1.0 will be ignored. Current value: feature_fraction=0.8\n",
      "[LightGBM] [Warning] min_data_in_leaf is set=1350, min_child_samples=20 will be ignored. Current value: min_data_in_leaf=1350\n",
      "[LightGBM] [Warning] bagging_freq is set=1, subsample_freq=0 will be ignored. Current value: bagging_freq=1\n",
      "score -0.7390320254328671\n",
      "train 360000 valid 90000\n",
      "training Light GBM:\n",
      "[LightGBM] [Warning] lambda_l1 is set=0.0417472365759017, reg_alpha=0.0 will be ignored. Current value: lambda_l1=0.0417472365759017\n",
      "[LightGBM] [Warning] bagging_fraction is set=0.8, subsample=1.0 will be ignored. Current value: bagging_fraction=0.8\n",
      "[LightGBM] [Warning] min_gain_to_split is set=2.8240849505549868, min_split_gain=0.0 will be ignored. Current value: min_gain_to_split=2.8240849505549868\n",
      "[LightGBM] [Warning] lambda_l2 is set=15, reg_lambda=0.0 will be ignored. Current value: lambda_l2=15\n",
      "[LightGBM] [Warning] feature_fraction is set=0.8, colsample_bytree=1.0 will be ignored. Current value: feature_fraction=0.8\n",
      "[LightGBM] [Warning] min_data_in_leaf is set=1350, min_child_samples=20 will be ignored. Current value: min_data_in_leaf=1350\n",
      "[LightGBM] [Warning] bagging_freq is set=1, subsample_freq=0 will be ignored. Current value: bagging_freq=1\n",
      "score -0.7496410199523497\n",
      "train 360000 valid 90000\n",
      "training Light GBM:\n",
      "[LightGBM] [Warning] lambda_l1 is set=0.0417472365759017, reg_alpha=0.0 will be ignored. Current value: lambda_l1=0.0417472365759017\n",
      "[LightGBM] [Warning] bagging_fraction is set=0.8, subsample=1.0 will be ignored. Current value: bagging_fraction=0.8\n",
      "[LightGBM] [Warning] min_gain_to_split is set=2.8240849505549868, min_split_gain=0.0 will be ignored. Current value: min_gain_to_split=2.8240849505549868\n",
      "[LightGBM] [Warning] lambda_l2 is set=15, reg_lambda=0.0 will be ignored. Current value: lambda_l2=15\n",
      "[LightGBM] [Warning] feature_fraction is set=0.8, colsample_bytree=1.0 will be ignored. Current value: feature_fraction=0.8\n",
      "[LightGBM] [Warning] min_data_in_leaf is set=1350, min_child_samples=20 will be ignored. Current value: min_data_in_leaf=1350\n",
      "[LightGBM] [Warning] bagging_freq is set=1, subsample_freq=0 will be ignored. Current value: bagging_freq=1\n"
     ]
    },
    {
     "name": "stderr",
     "output_type": "stream",
     "text": [
      "\u001b[32m[I 2022-02-11 10:35:15,832]\u001b[0m Trial 279 finished with value: -0.7477562319355864 and parameters: {'n_estimators': 10000, 'learning_rate': 0.38079244352838676, 'num_leaves': 2632, 'max_depth': 8, 'min_data_in_leaf': 1350, 'lambda_l1': 0.0417472365759017, 'lambda_l2': 15, 'min_gain_to_split': 2.8240849505549868, 'bagging_fraction': 0.8, 'bagging_freq': 1, 'feature_fraction': 0.8}. Best is trial 195 with value: -0.7524194716556609.\u001b[0m\n"
     ]
    },
    {
     "name": "stdout",
     "output_type": "stream",
     "text": [
      "score -0.749305260519687\n",
      "cancelled :5218 , not_cancelled :444782\n",
      "Memory usage of dataframe is 61.19 MB\n",
      "Memory usage after optimization is: 40.59 MB\n",
      "Decreased by 33.7%\n",
      "Features : ['first_mile_distance', 'elapse1', 'elapse2', 'last_mile_distance', 'tot_dist', 'alloted_orders', 'delivered_orders', 'del_ratio', 'undelivered_orders', 'lifetime_order_count', 'Hour', 'session_time', 'Monday', 'Saturday', 'Sunday', 'Thursday', 'Tuesday', 'Wednesday', 'dist_ratio']\n",
      "cat_features []\n",
      "(450000, 19) (450000,)\n",
      "train 360000 valid 90000\n",
      "training Light GBM:\n",
      "[LightGBM] [Warning] lambda_l1 is set=0.0016353021789356382, reg_alpha=0.0 will be ignored. Current value: lambda_l1=0.0016353021789356382\n",
      "[LightGBM] [Warning] bagging_fraction is set=0.7, subsample=1.0 will be ignored. Current value: bagging_fraction=0.7\n",
      "[LightGBM] [Warning] min_gain_to_split is set=3.3096490203257938, min_split_gain=0.0 will be ignored. Current value: min_gain_to_split=3.3096490203257938\n",
      "[LightGBM] [Warning] lambda_l2 is set=15, reg_lambda=0.0 will be ignored. Current value: lambda_l2=15\n",
      "[LightGBM] [Warning] feature_fraction is set=0.8, colsample_bytree=1.0 will be ignored. Current value: feature_fraction=0.8\n",
      "[LightGBM] [Warning] min_data_in_leaf is set=1350, min_child_samples=20 will be ignored. Current value: min_data_in_leaf=1350\n",
      "[LightGBM] [Warning] bagging_freq is set=1, subsample_freq=0 will be ignored. Current value: bagging_freq=1\n"
     ]
    },
    {
     "name": "stderr",
     "output_type": "stream",
     "text": [
      "\u001b[32m[I 2022-02-11 10:35:20,170]\u001b[0m Trial 280 pruned. Trial was pruned at iteration 9.\u001b[0m\n"
     ]
    },
    {
     "name": "stdout",
     "output_type": "stream",
     "text": [
      "cancelled :5218 , not_cancelled :444782\n",
      "Memory usage of dataframe is 61.19 MB\n",
      "Memory usage after optimization is: 40.59 MB\n",
      "Decreased by 33.7%\n",
      "Features : ['first_mile_distance', 'elapse1', 'elapse2', 'last_mile_distance', 'tot_dist', 'alloted_orders', 'delivered_orders', 'del_ratio', 'undelivered_orders', 'lifetime_order_count', 'Hour', 'session_time', 'Monday', 'Saturday', 'Sunday', 'Thursday', 'Tuesday', 'Wednesday', 'dist_ratio']\n",
      "cat_features []\n",
      "(450000, 19) (450000,)\n",
      "train 360000 valid 90000\n",
      "training Light GBM:\n",
      "score -0.7652870000825913\n",
      "train 360000 valid 90000\n",
      "training Light GBM:\n",
      "[LightGBM] [Warning] lambda_l1 is set=3.1209841002874996, reg_alpha=0.0 will be ignored. Current value: lambda_l1=3.1209841002874996\n",
      "[LightGBM] [Warning] bagging_fraction is set=0.8, subsample=1.0 will be ignored. Current value: bagging_fraction=0.8\n",
      "[LightGBM] [Warning] min_gain_to_split is set=2.9219541193539, min_split_gain=0.0 will be ignored. Current value: min_gain_to_split=2.9219541193539\n",
      "[LightGBM] [Warning] lambda_l2 is set=15, reg_lambda=0.0 will be ignored. Current value: lambda_l2=15\n",
      "[LightGBM] [Warning] feature_fraction is set=0.8, colsample_bytree=1.0 will be ignored. Current value: feature_fraction=0.8\n",
      "[LightGBM] [Warning] min_data_in_leaf is set=1200, min_child_samples=20 will be ignored. Current value: min_data_in_leaf=1200\n",
      "[LightGBM] [Warning] bagging_freq is set=1, subsample_freq=0 will be ignored. Current value: bagging_freq=1\n",
      "score -0.7508108590843081\n",
      "train 360000 valid 90000\n",
      "training Light GBM:\n",
      "[LightGBM] [Warning] lambda_l1 is set=3.1209841002874996, reg_alpha=0.0 will be ignored. Current value: lambda_l1=3.1209841002874996\n",
      "[LightGBM] [Warning] bagging_fraction is set=0.8, subsample=1.0 will be ignored. Current value: bagging_fraction=0.8\n",
      "[LightGBM] [Warning] min_gain_to_split is set=2.9219541193539, min_split_gain=0.0 will be ignored. Current value: min_gain_to_split=2.9219541193539\n",
      "[LightGBM] [Warning] lambda_l2 is set=15, reg_lambda=0.0 will be ignored. Current value: lambda_l2=15\n",
      "[LightGBM] [Warning] feature_fraction is set=0.8, colsample_bytree=1.0 will be ignored. Current value: feature_fraction=0.8\n",
      "[LightGBM] [Warning] min_data_in_leaf is set=1200, min_child_samples=20 will be ignored. Current value: min_data_in_leaf=1200\n",
      "[LightGBM] [Warning] bagging_freq is set=1, subsample_freq=0 will be ignored. Current value: bagging_freq=1\n",
      "score -0.7610651856555197\n",
      "train 360000 valid 90000\n",
      "training Light GBM:\n",
      "[LightGBM] [Warning] lambda_l1 is set=3.1209841002874996, reg_alpha=0.0 will be ignored. Current value: lambda_l1=3.1209841002874996\n",
      "[LightGBM] [Warning] bagging_fraction is set=0.8, subsample=1.0 will be ignored. Current value: bagging_fraction=0.8\n",
      "[LightGBM] [Warning] min_gain_to_split is set=2.9219541193539, min_split_gain=0.0 will be ignored. Current value: min_gain_to_split=2.9219541193539\n",
      "[LightGBM] [Warning] lambda_l2 is set=15, reg_lambda=0.0 will be ignored. Current value: lambda_l2=15\n",
      "[LightGBM] [Warning] feature_fraction is set=0.8, colsample_bytree=1.0 will be ignored. Current value: feature_fraction=0.8\n",
      "[LightGBM] [Warning] min_data_in_leaf is set=1200, min_child_samples=20 will be ignored. Current value: min_data_in_leaf=1200\n",
      "[LightGBM] [Warning] bagging_freq is set=1, subsample_freq=0 will be ignored. Current value: bagging_freq=1\n",
      "score -0.7254178806208209\n",
      "train 360000 valid 90000\n",
      "training Light GBM:\n",
      "[LightGBM] [Warning] lambda_l1 is set=3.1209841002874996, reg_alpha=0.0 will be ignored. Current value: lambda_l1=3.1209841002874996\n",
      "[LightGBM] [Warning] bagging_fraction is set=0.8, subsample=1.0 will be ignored. Current value: bagging_fraction=0.8\n",
      "[LightGBM] [Warning] min_gain_to_split is set=2.9219541193539, min_split_gain=0.0 will be ignored. Current value: min_gain_to_split=2.9219541193539\n",
      "[LightGBM] [Warning] lambda_l2 is set=15, reg_lambda=0.0 will be ignored. Current value: lambda_l2=15\n",
      "[LightGBM] [Warning] feature_fraction is set=0.8, colsample_bytree=1.0 will be ignored. Current value: feature_fraction=0.8\n",
      "[LightGBM] [Warning] min_data_in_leaf is set=1200, min_child_samples=20 will be ignored. Current value: min_data_in_leaf=1200\n",
      "[LightGBM] [Warning] bagging_freq is set=1, subsample_freq=0 will be ignored. Current value: bagging_freq=1\n"
     ]
    },
    {
     "name": "stderr",
     "output_type": "stream",
     "text": [
      "\u001b[32m[I 2022-02-11 10:35:35,322]\u001b[0m Trial 281 finished with value: -0.7504567558198151 and parameters: {'n_estimators': 15000, 'learning_rate': 0.2629018446649574, 'num_leaves': 2583, 'max_depth': 8, 'min_data_in_leaf': 1200, 'lambda_l1': 3.1209841002874996, 'lambda_l2': 15, 'min_gain_to_split': 2.9219541193539, 'bagging_fraction': 0.8, 'bagging_freq': 1, 'feature_fraction': 0.8}. Best is trial 195 with value: -0.7524194716556609.\u001b[0m\n"
     ]
    },
    {
     "name": "stdout",
     "output_type": "stream",
     "text": [
      "score -0.7497028536558348\n",
      "cancelled :5218 , not_cancelled :444782\n",
      "Memory usage of dataframe is 61.19 MB\n",
      "Memory usage after optimization is: 40.59 MB\n",
      "Decreased by 33.7%\n",
      "Features : ['first_mile_distance', 'elapse1', 'elapse2', 'last_mile_distance', 'tot_dist', 'alloted_orders', 'delivered_orders', 'del_ratio', 'undelivered_orders', 'lifetime_order_count', 'Hour', 'session_time', 'Monday', 'Saturday', 'Sunday', 'Thursday', 'Tuesday', 'Wednesday', 'dist_ratio']\n",
      "cat_features []\n",
      "(450000, 19) (450000,)\n",
      "train 360000 valid 90000\n",
      "training Light GBM:\n",
      "[LightGBM] [Warning] lambda_l1 is set=0.0042922000534196154, reg_alpha=0.0 will be ignored. Current value: lambda_l1=0.0042922000534196154\n",
      "[LightGBM] [Warning] bagging_fraction is set=0.8, subsample=1.0 will be ignored. Current value: bagging_fraction=0.8\n",
      "[LightGBM] [Warning] min_gain_to_split is set=2.656253310847963, min_split_gain=0.0 will be ignored. Current value: min_gain_to_split=2.656253310847963\n",
      "[LightGBM] [Warning] lambda_l2 is set=15, reg_lambda=0.0 will be ignored. Current value: lambda_l2=15\n",
      "[LightGBM] [Warning] feature_fraction is set=0.8, colsample_bytree=1.0 will be ignored. Current value: feature_fraction=0.8\n",
      "[LightGBM] [Warning] min_data_in_leaf is set=1200, min_child_samples=20 will be ignored. Current value: min_data_in_leaf=1200\n",
      "[LightGBM] [Warning] bagging_freq is set=1, subsample_freq=0 will be ignored. Current value: bagging_freq=1\n"
     ]
    },
    {
     "name": "stderr",
     "output_type": "stream",
     "text": [
      "\u001b[32m[I 2022-02-11 10:35:39,132]\u001b[0m Trial 282 pruned. Trial was pruned at iteration 0.\u001b[0m\n"
     ]
    },
    {
     "name": "stdout",
     "output_type": "stream",
     "text": [
      "cancelled :5218 , not_cancelled :444782\n",
      "Memory usage of dataframe is 61.19 MB\n",
      "Memory usage after optimization is: 40.59 MB\n",
      "Decreased by 33.7%\n",
      "Features : ['first_mile_distance', 'elapse1', 'elapse2', 'last_mile_distance', 'tot_dist', 'alloted_orders', 'delivered_orders', 'del_ratio', 'undelivered_orders', 'lifetime_order_count', 'Hour', 'session_time', 'Monday', 'Saturday', 'Sunday', 'Thursday', 'Tuesday', 'Wednesday', 'dist_ratio']\n",
      "cat_features []\n",
      "(450000, 19) (450000,)\n",
      "train 360000 valid 90000\n",
      "training Light GBM:\n",
      "score -0.7589255664055471\n",
      "train 360000 valid 90000\n",
      "training Light GBM:\n",
      "[LightGBM] [Warning] lambda_l1 is set=9.854611037724652e-07, reg_alpha=0.0 will be ignored. Current value: lambda_l1=9.854611037724652e-07\n",
      "[LightGBM] [Warning] bagging_fraction is set=0.8, subsample=1.0 will be ignored. Current value: bagging_fraction=0.8\n",
      "[LightGBM] [Warning] min_gain_to_split is set=2.408559279464755, min_split_gain=0.0 will be ignored. Current value: min_gain_to_split=2.408559279464755\n",
      "[LightGBM] [Warning] lambda_l2 is set=15, reg_lambda=0.0 will be ignored. Current value: lambda_l2=15\n",
      "[LightGBM] [Warning] feature_fraction is set=0.8, colsample_bytree=1.0 will be ignored. Current value: feature_fraction=0.8\n",
      "[LightGBM] [Warning] min_data_in_leaf is set=1600, min_child_samples=20 will be ignored. Current value: min_data_in_leaf=1600\n",
      "[LightGBM] [Warning] bagging_freq is set=1, subsample_freq=0 will be ignored. Current value: bagging_freq=1\n",
      "score -0.7439113208315251\n",
      "train 360000 valid 90000\n",
      "training Light GBM:\n",
      "[LightGBM] [Warning] lambda_l1 is set=9.854611037724652e-07, reg_alpha=0.0 will be ignored. Current value: lambda_l1=9.854611037724652e-07\n",
      "[LightGBM] [Warning] bagging_fraction is set=0.8, subsample=1.0 will be ignored. Current value: bagging_fraction=0.8\n",
      "[LightGBM] [Warning] min_gain_to_split is set=2.408559279464755, min_split_gain=0.0 will be ignored. Current value: min_gain_to_split=2.408559279464755\n",
      "[LightGBM] [Warning] lambda_l2 is set=15, reg_lambda=0.0 will be ignored. Current value: lambda_l2=15\n",
      "[LightGBM] [Warning] feature_fraction is set=0.8, colsample_bytree=1.0 will be ignored. Current value: feature_fraction=0.8\n",
      "[LightGBM] [Warning] min_data_in_leaf is set=1600, min_child_samples=20 will be ignored. Current value: min_data_in_leaf=1600\n",
      "[LightGBM] [Warning] bagging_freq is set=1, subsample_freq=0 will be ignored. Current value: bagging_freq=1\n",
      "score -0.7434093294045754\n",
      "train 360000 valid 90000\n",
      "training Light GBM:\n",
      "[LightGBM] [Warning] lambda_l1 is set=9.854611037724652e-07, reg_alpha=0.0 will be ignored. Current value: lambda_l1=9.854611037724652e-07\n",
      "[LightGBM] [Warning] bagging_fraction is set=0.8, subsample=1.0 will be ignored. Current value: bagging_fraction=0.8\n",
      "[LightGBM] [Warning] min_gain_to_split is set=2.408559279464755, min_split_gain=0.0 will be ignored. Current value: min_gain_to_split=2.408559279464755\n",
      "[LightGBM] [Warning] lambda_l2 is set=15, reg_lambda=0.0 will be ignored. Current value: lambda_l2=15\n",
      "[LightGBM] [Warning] feature_fraction is set=0.8, colsample_bytree=1.0 will be ignored. Current value: feature_fraction=0.8\n",
      "[LightGBM] [Warning] min_data_in_leaf is set=1600, min_child_samples=20 will be ignored. Current value: min_data_in_leaf=1600\n",
      "[LightGBM] [Warning] bagging_freq is set=1, subsample_freq=0 will be ignored. Current value: bagging_freq=1\n",
      "score -0.7517327435027933\n",
      "train 360000 valid 90000\n",
      "training Light GBM:\n",
      "[LightGBM] [Warning] lambda_l1 is set=9.854611037724652e-07, reg_alpha=0.0 will be ignored. Current value: lambda_l1=9.854611037724652e-07\n",
      "[LightGBM] [Warning] bagging_fraction is set=0.8, subsample=1.0 will be ignored. Current value: bagging_fraction=0.8\n",
      "[LightGBM] [Warning] min_gain_to_split is set=2.408559279464755, min_split_gain=0.0 will be ignored. Current value: min_gain_to_split=2.408559279464755\n",
      "[LightGBM] [Warning] lambda_l2 is set=15, reg_lambda=0.0 will be ignored. Current value: lambda_l2=15\n",
      "[LightGBM] [Warning] feature_fraction is set=0.8, colsample_bytree=1.0 will be ignored. Current value: feature_fraction=0.8\n",
      "[LightGBM] [Warning] min_data_in_leaf is set=1600, min_child_samples=20 will be ignored. Current value: min_data_in_leaf=1600\n",
      "[LightGBM] [Warning] bagging_freq is set=1, subsample_freq=0 will be ignored. Current value: bagging_freq=1\n"
     ]
    },
    {
     "name": "stderr",
     "output_type": "stream",
     "text": [
      "\u001b[32m[I 2022-02-11 10:35:53,963]\u001b[0m Trial 283 finished with value: -0.7497713146816991 and parameters: {'n_estimators': 15000, 'learning_rate': 0.2613218794121282, 'num_leaves': 2523, 'max_depth': 8, 'min_data_in_leaf': 1600, 'lambda_l1': 9.854611037724652e-07, 'lambda_l2': 15, 'min_gain_to_split': 2.408559279464755, 'bagging_fraction': 0.8, 'bagging_freq': 1, 'feature_fraction': 0.8}. Best is trial 195 with value: -0.7524194716556609.\u001b[0m\n"
     ]
    },
    {
     "name": "stdout",
     "output_type": "stream",
     "text": [
      "score -0.7508776132640546\n",
      "cancelled :5218 , not_cancelled :444782\n",
      "Memory usage of dataframe is 61.19 MB\n",
      "Memory usage after optimization is: 40.59 MB\n",
      "Decreased by 33.7%\n",
      "Features : ['first_mile_distance', 'elapse1', 'elapse2', 'last_mile_distance', 'tot_dist', 'alloted_orders', 'delivered_orders', 'del_ratio', 'undelivered_orders', 'lifetime_order_count', 'Hour', 'session_time', 'Monday', 'Saturday', 'Sunday', 'Thursday', 'Tuesday', 'Wednesday', 'dist_ratio']\n",
      "cat_features []\n",
      "(450000, 19) (450000,)\n",
      "train 360000 valid 90000\n",
      "training Light GBM:\n",
      "[LightGBM] [Warning] lambda_l1 is set=2.353311999495601e-06, reg_alpha=0.0 will be ignored. Current value: lambda_l1=2.353311999495601e-06\n",
      "[LightGBM] [Warning] bagging_fraction is set=0.8, subsample=1.0 will be ignored. Current value: bagging_fraction=0.8\n",
      "[LightGBM] [Warning] min_gain_to_split is set=2.2472958244598664, min_split_gain=0.0 will be ignored. Current value: min_gain_to_split=2.2472958244598664\n",
      "[LightGBM] [Warning] lambda_l2 is set=15, reg_lambda=0.0 will be ignored. Current value: lambda_l2=15\n",
      "[LightGBM] [Warning] feature_fraction is set=0.8, colsample_bytree=1.0 will be ignored. Current value: feature_fraction=0.8\n",
      "[LightGBM] [Warning] min_data_in_leaf is set=1650, min_child_samples=20 will be ignored. Current value: min_data_in_leaf=1650\n",
      "[LightGBM] [Warning] bagging_freq is set=1, subsample_freq=0 will be ignored. Current value: bagging_freq=1\n",
      "score -0.7505490576522632\n",
      "train 360000 valid 90000\n",
      "training Light GBM:\n",
      "[LightGBM] [Warning] lambda_l1 is set=2.353311999495601e-06, reg_alpha=0.0 will be ignored. Current value: lambda_l1=2.353311999495601e-06\n",
      "[LightGBM] [Warning] bagging_fraction is set=0.8, subsample=1.0 will be ignored. Current value: bagging_fraction=0.8\n",
      "[LightGBM] [Warning] min_gain_to_split is set=2.2472958244598664, min_split_gain=0.0 will be ignored. Current value: min_gain_to_split=2.2472958244598664\n",
      "[LightGBM] [Warning] lambda_l2 is set=15, reg_lambda=0.0 will be ignored. Current value: lambda_l2=15\n",
      "[LightGBM] [Warning] feature_fraction is set=0.8, colsample_bytree=1.0 will be ignored. Current value: feature_fraction=0.8\n",
      "[LightGBM] [Warning] min_data_in_leaf is set=1650, min_child_samples=20 will be ignored. Current value: min_data_in_leaf=1650\n",
      "[LightGBM] [Warning] bagging_freq is set=1, subsample_freq=0 will be ignored. Current value: bagging_freq=1\n",
      "score -0.7392141296659527\n",
      "train 360000 valid 90000\n",
      "training Light GBM:\n",
      "[LightGBM] [Warning] lambda_l1 is set=2.353311999495601e-06, reg_alpha=0.0 will be ignored. Current value: lambda_l1=2.353311999495601e-06\n",
      "[LightGBM] [Warning] bagging_fraction is set=0.8, subsample=1.0 will be ignored. Current value: bagging_fraction=0.8\n",
      "[LightGBM] [Warning] min_gain_to_split is set=2.2472958244598664, min_split_gain=0.0 will be ignored. Current value: min_gain_to_split=2.2472958244598664\n",
      "[LightGBM] [Warning] lambda_l2 is set=15, reg_lambda=0.0 will be ignored. Current value: lambda_l2=15\n",
      "[LightGBM] [Warning] feature_fraction is set=0.8, colsample_bytree=1.0 will be ignored. Current value: feature_fraction=0.8\n",
      "[LightGBM] [Warning] min_data_in_leaf is set=1650, min_child_samples=20 will be ignored. Current value: min_data_in_leaf=1650\n",
      "[LightGBM] [Warning] bagging_freq is set=1, subsample_freq=0 will be ignored. Current value: bagging_freq=1\n",
      "score -0.7584607995963047\n",
      "train 360000 valid 90000\n",
      "training Light GBM:\n",
      "[LightGBM] [Warning] lambda_l1 is set=2.353311999495601e-06, reg_alpha=0.0 will be ignored. Current value: lambda_l1=2.353311999495601e-06\n",
      "[LightGBM] [Warning] bagging_fraction is set=0.8, subsample=1.0 will be ignored. Current value: bagging_fraction=0.8\n",
      "[LightGBM] [Warning] min_gain_to_split is set=2.2472958244598664, min_split_gain=0.0 will be ignored. Current value: min_gain_to_split=2.2472958244598664\n",
      "[LightGBM] [Warning] lambda_l2 is set=15, reg_lambda=0.0 will be ignored. Current value: lambda_l2=15\n",
      "[LightGBM] [Warning] feature_fraction is set=0.8, colsample_bytree=1.0 will be ignored. Current value: feature_fraction=0.8\n",
      "[LightGBM] [Warning] min_data_in_leaf is set=1650, min_child_samples=20 will be ignored. Current value: min_data_in_leaf=1650\n",
      "[LightGBM] [Warning] bagging_freq is set=1, subsample_freq=0 will be ignored. Current value: bagging_freq=1\n",
      "score -0.7445670221568923\n",
      "train 360000 valid 90000\n",
      "training Light GBM:\n",
      "[LightGBM] [Warning] lambda_l1 is set=2.353311999495601e-06, reg_alpha=0.0 will be ignored. Current value: lambda_l1=2.353311999495601e-06\n",
      "[LightGBM] [Warning] bagging_fraction is set=0.8, subsample=1.0 will be ignored. Current value: bagging_fraction=0.8\n",
      "[LightGBM] [Warning] min_gain_to_split is set=2.2472958244598664, min_split_gain=0.0 will be ignored. Current value: min_gain_to_split=2.2472958244598664\n",
      "[LightGBM] [Warning] lambda_l2 is set=15, reg_lambda=0.0 will be ignored. Current value: lambda_l2=15\n",
      "[LightGBM] [Warning] feature_fraction is set=0.8, colsample_bytree=1.0 will be ignored. Current value: feature_fraction=0.8\n",
      "[LightGBM] [Warning] min_data_in_leaf is set=1650, min_child_samples=20 will be ignored. Current value: min_data_in_leaf=1650\n",
      "[LightGBM] [Warning] bagging_freq is set=1, subsample_freq=0 will be ignored. Current value: bagging_freq=1\n"
     ]
    },
    {
     "name": "stderr",
     "output_type": "stream",
     "text": [
      "\u001b[32m[I 2022-02-11 10:36:07,916]\u001b[0m Trial 284 finished with value: -0.7493228443367643 and parameters: {'n_estimators': 15000, 'learning_rate': 0.2583220841991976, 'num_leaves': 2514, 'max_depth': 8, 'min_data_in_leaf': 1650, 'lambda_l1': 2.353311999495601e-06, 'lambda_l2': 15, 'min_gain_to_split': 2.2472958244598664, 'bagging_fraction': 0.8, 'bagging_freq': 1, 'feature_fraction': 0.8}. Best is trial 195 with value: -0.7524194716556609.\u001b[0m\n"
     ]
    },
    {
     "name": "stdout",
     "output_type": "stream",
     "text": [
      "score -0.7538232126124087\n",
      "cancelled :5218 , not_cancelled :444782\n",
      "Memory usage of dataframe is 61.19 MB\n",
      "Memory usage after optimization is: 40.59 MB\n",
      "Decreased by 33.7%\n",
      "Features : ['first_mile_distance', 'elapse1', 'elapse2', 'last_mile_distance', 'tot_dist', 'alloted_orders', 'delivered_orders', 'del_ratio', 'undelivered_orders', 'lifetime_order_count', 'Hour', 'session_time', 'Monday', 'Saturday', 'Sunday', 'Thursday', 'Tuesday', 'Wednesday', 'dist_ratio']\n",
      "cat_features []\n",
      "(450000, 19) (450000,)\n",
      "train 360000 valid 90000\n",
      "training Light GBM:\n",
      "[LightGBM] [Warning] lambda_l1 is set=1.2712882361610048e-06, reg_alpha=0.0 will be ignored. Current value: lambda_l1=1.2712882361610048e-06\n",
      "[LightGBM] [Warning] bagging_fraction is set=0.8, subsample=1.0 will be ignored. Current value: bagging_fraction=0.8\n",
      "[LightGBM] [Warning] min_gain_to_split is set=1.9464285991880677, min_split_gain=0.0 will be ignored. Current value: min_gain_to_split=1.9464285991880677\n",
      "[LightGBM] [Warning] lambda_l2 is set=15, reg_lambda=0.0 will be ignored. Current value: lambda_l2=15\n",
      "[LightGBM] [Warning] feature_fraction is set=0.8, colsample_bytree=1.0 will be ignored. Current value: feature_fraction=0.8\n",
      "[LightGBM] [Warning] min_data_in_leaf is set=1800, min_child_samples=20 will be ignored. Current value: min_data_in_leaf=1800\n",
      "[LightGBM] [Warning] bagging_freq is set=1, subsample_freq=0 will be ignored. Current value: bagging_freq=1\n"
     ]
    },
    {
     "name": "stderr",
     "output_type": "stream",
     "text": [
      "\u001b[32m[I 2022-02-11 10:36:11,785]\u001b[0m Trial 285 pruned. Trial was pruned at iteration 0.\u001b[0m\n"
     ]
    },
    {
     "name": "stdout",
     "output_type": "stream",
     "text": [
      "cancelled :5218 , not_cancelled :444782\n",
      "Memory usage of dataframe is 61.19 MB\n",
      "Memory usage after optimization is: 40.59 MB\n",
      "Decreased by 33.7%\n",
      "Features : ['first_mile_distance', 'elapse1', 'elapse2', 'last_mile_distance', 'tot_dist', 'alloted_orders', 'delivered_orders', 'del_ratio', 'undelivered_orders', 'lifetime_order_count', 'Hour', 'session_time', 'Monday', 'Saturday', 'Sunday', 'Thursday', 'Tuesday', 'Wednesday', 'dist_ratio']\n",
      "cat_features []\n",
      "(450000, 19) (450000,)\n",
      "train 360000 valid 90000\n",
      "training Light GBM:\n"
     ]
    },
    {
     "name": "stderr",
     "output_type": "stream",
     "text": [
      "\u001b[32m[I 2022-02-11 10:36:15,699]\u001b[0m Trial 286 pruned. Trial was pruned at iteration 0.\u001b[0m\n"
     ]
    },
    {
     "name": "stdout",
     "output_type": "stream",
     "text": [
      "cancelled :5218 , not_cancelled :444782\n",
      "Memory usage of dataframe is 61.19 MB\n",
      "Memory usage after optimization is: 40.59 MB\n",
      "Decreased by 33.7%\n",
      "Features : ['first_mile_distance', 'elapse1', 'elapse2', 'last_mile_distance', 'tot_dist', 'alloted_orders', 'delivered_orders', 'del_ratio', 'undelivered_orders', 'lifetime_order_count', 'Hour', 'session_time', 'Monday', 'Saturday', 'Sunday', 'Thursday', 'Tuesday', 'Wednesday', 'dist_ratio']\n",
      "cat_features []\n",
      "(450000, 19) (450000,)\n",
      "train 360000 valid 90000\n",
      "training Light GBM:\n"
     ]
    },
    {
     "name": "stderr",
     "output_type": "stream",
     "text": [
      "\u001b[32m[I 2022-02-11 10:36:19,620]\u001b[0m Trial 287 pruned. Trial was pruned at iteration 0.\u001b[0m\n"
     ]
    },
    {
     "name": "stdout",
     "output_type": "stream",
     "text": [
      "cancelled :5218 , not_cancelled :444782\n",
      "Memory usage of dataframe is 61.19 MB\n",
      "Memory usage after optimization is: 40.59 MB\n",
      "Decreased by 33.7%\n",
      "Features : ['first_mile_distance', 'elapse1', 'elapse2', 'last_mile_distance', 'tot_dist', 'alloted_orders', 'delivered_orders', 'del_ratio', 'undelivered_orders', 'lifetime_order_count', 'Hour', 'session_time', 'Monday', 'Saturday', 'Sunday', 'Thursday', 'Tuesday', 'Wednesday', 'dist_ratio']\n",
      "cat_features []\n",
      "(450000, 19) (450000,)\n",
      "train 360000 valid 90000\n",
      "training Light GBM:\n"
     ]
    },
    {
     "name": "stderr",
     "output_type": "stream",
     "text": [
      "\u001b[32m[I 2022-02-11 10:36:23,939]\u001b[0m Trial 288 pruned. Trial was pruned at iteration 0.\u001b[0m\n"
     ]
    },
    {
     "name": "stdout",
     "output_type": "stream",
     "text": [
      "cancelled :5218 , not_cancelled :444782\n",
      "Memory usage of dataframe is 61.19 MB\n",
      "Memory usage after optimization is: 40.59 MB\n",
      "Decreased by 33.7%\n",
      "Features : ['first_mile_distance', 'elapse1', 'elapse2', 'last_mile_distance', 'tot_dist', 'alloted_orders', 'delivered_orders', 'del_ratio', 'undelivered_orders', 'lifetime_order_count', 'Hour', 'session_time', 'Monday', 'Saturday', 'Sunday', 'Thursday', 'Tuesday', 'Wednesday', 'dist_ratio']\n",
      "cat_features []\n",
      "(450000, 19) (450000,)\n",
      "train 360000 valid 90000\n",
      "training Light GBM:\n"
     ]
    },
    {
     "name": "stderr",
     "output_type": "stream",
     "text": [
      "\u001b[32m[I 2022-02-11 10:36:27,803]\u001b[0m Trial 289 pruned. Trial was pruned at iteration 0.\u001b[0m\n"
     ]
    },
    {
     "name": "stdout",
     "output_type": "stream",
     "text": [
      "cancelled :5218 , not_cancelled :444782\n",
      "Memory usage of dataframe is 61.19 MB\n",
      "Memory usage after optimization is: 40.59 MB\n",
      "Decreased by 33.7%\n",
      "Features : ['first_mile_distance', 'elapse1', 'elapse2', 'last_mile_distance', 'tot_dist', 'alloted_orders', 'delivered_orders', 'del_ratio', 'undelivered_orders', 'lifetime_order_count', 'Hour', 'session_time', 'Monday', 'Saturday', 'Sunday', 'Thursday', 'Tuesday', 'Wednesday', 'dist_ratio']\n",
      "cat_features []\n",
      "(450000, 19) (450000,)\n",
      "train 360000 valid 90000\n",
      "training Light GBM:\n"
     ]
    },
    {
     "name": "stderr",
     "output_type": "stream",
     "text": [
      "\u001b[32m[I 2022-02-11 10:36:31,728]\u001b[0m Trial 290 pruned. Trial was pruned at iteration 0.\u001b[0m\n"
     ]
    },
    {
     "name": "stdout",
     "output_type": "stream",
     "text": [
      "cancelled :5218 , not_cancelled :444782\n",
      "Memory usage of dataframe is 61.19 MB\n",
      "Memory usage after optimization is: 40.59 MB\n",
      "Decreased by 33.7%\n",
      "Features : ['first_mile_distance', 'elapse1', 'elapse2', 'last_mile_distance', 'tot_dist', 'alloted_orders', 'delivered_orders', 'del_ratio', 'undelivered_orders', 'lifetime_order_count', 'Hour', 'session_time', 'Monday', 'Saturday', 'Sunday', 'Thursday', 'Tuesday', 'Wednesday', 'dist_ratio']\n",
      "cat_features []\n",
      "(450000, 19) (450000,)\n",
      "train 360000 valid 90000\n",
      "training Light GBM:\n"
     ]
    },
    {
     "name": "stderr",
     "output_type": "stream",
     "text": [
      "\u001b[32m[I 2022-02-11 10:36:35,646]\u001b[0m Trial 291 pruned. Trial was pruned at iteration 0.\u001b[0m\n"
     ]
    },
    {
     "name": "stdout",
     "output_type": "stream",
     "text": [
      "cancelled :5218 , not_cancelled :444782\n",
      "Memory usage of dataframe is 61.19 MB\n",
      "Memory usage after optimization is: 40.59 MB\n",
      "Decreased by 33.7%\n",
      "Features : ['first_mile_distance', 'elapse1', 'elapse2', 'last_mile_distance', 'tot_dist', 'alloted_orders', 'delivered_orders', 'del_ratio', 'undelivered_orders', 'lifetime_order_count', 'Hour', 'session_time', 'Monday', 'Saturday', 'Sunday', 'Thursday', 'Tuesday', 'Wednesday', 'dist_ratio']\n",
      "cat_features []\n",
      "(450000, 19) (450000,)\n",
      "train 360000 valid 90000\n",
      "training Light GBM:\n"
     ]
    },
    {
     "name": "stderr",
     "output_type": "stream",
     "text": [
      "\u001b[32m[I 2022-02-11 10:36:39,571]\u001b[0m Trial 292 pruned. Trial was pruned at iteration 0.\u001b[0m\n"
     ]
    },
    {
     "name": "stdout",
     "output_type": "stream",
     "text": [
      "cancelled :5218 , not_cancelled :444782\n",
      "Memory usage of dataframe is 61.19 MB\n",
      "Memory usage after optimization is: 40.59 MB\n",
      "Decreased by 33.7%\n",
      "Features : ['first_mile_distance', 'elapse1', 'elapse2', 'last_mile_distance', 'tot_dist', 'alloted_orders', 'delivered_orders', 'del_ratio', 'undelivered_orders', 'lifetime_order_count', 'Hour', 'session_time', 'Monday', 'Saturday', 'Sunday', 'Thursday', 'Tuesday', 'Wednesday', 'dist_ratio']\n",
      "cat_features []\n",
      "(450000, 19) (450000,)\n",
      "train 360000 valid 90000\n",
      "training Light GBM:\n"
     ]
    },
    {
     "name": "stderr",
     "output_type": "stream",
     "text": [
      "\u001b[32m[I 2022-02-11 10:36:43,526]\u001b[0m Trial 293 pruned. Trial was pruned at iteration 0.\u001b[0m\n"
     ]
    },
    {
     "name": "stdout",
     "output_type": "stream",
     "text": [
      "cancelled :5218 , not_cancelled :444782\n",
      "Memory usage of dataframe is 61.19 MB\n",
      "Memory usage after optimization is: 40.59 MB\n",
      "Decreased by 33.7%\n",
      "Features : ['first_mile_distance', 'elapse1', 'elapse2', 'last_mile_distance', 'tot_dist', 'alloted_orders', 'delivered_orders', 'del_ratio', 'undelivered_orders', 'lifetime_order_count', 'Hour', 'session_time', 'Monday', 'Saturday', 'Sunday', 'Thursday', 'Tuesday', 'Wednesday', 'dist_ratio']\n",
      "cat_features []\n",
      "(450000, 19) (450000,)\n",
      "train 360000 valid 90000\n",
      "training Light GBM:\n"
     ]
    },
    {
     "name": "stderr",
     "output_type": "stream",
     "text": [
      "\u001b[32m[I 2022-02-11 10:36:47,536]\u001b[0m Trial 294 pruned. Trial was pruned at iteration 2.\u001b[0m\n"
     ]
    },
    {
     "name": "stdout",
     "output_type": "stream",
     "text": [
      "cancelled :5218 , not_cancelled :444782\n",
      "Memory usage of dataframe is 61.19 MB\n",
      "Memory usage after optimization is: 40.59 MB\n",
      "Decreased by 33.7%\n",
      "Features : ['first_mile_distance', 'elapse1', 'elapse2', 'last_mile_distance', 'tot_dist', 'alloted_orders', 'delivered_orders', 'del_ratio', 'undelivered_orders', 'lifetime_order_count', 'Hour', 'session_time', 'Monday', 'Saturday', 'Sunday', 'Thursday', 'Tuesday', 'Wednesday', 'dist_ratio']\n",
      "cat_features []\n",
      "(450000, 19) (450000,)\n",
      "train 360000 valid 90000\n",
      "training Light GBM:\n",
      "score -0.753771466238156\n",
      "train 360000 valid 90000\n",
      "training Light GBM:\n",
      "[LightGBM] [Warning] lambda_l1 is set=2.863143049925547e-07, reg_alpha=0.0 will be ignored. Current value: lambda_l1=2.863143049925547e-07\n",
      "[LightGBM] [Warning] bagging_fraction is set=0.8, subsample=1.0 will be ignored. Current value: bagging_fraction=0.8\n",
      "[LightGBM] [Warning] min_gain_to_split is set=2.1319229228654244, min_split_gain=0.0 will be ignored. Current value: min_gain_to_split=2.1319229228654244\n",
      "[LightGBM] [Warning] lambda_l2 is set=10, reg_lambda=0.0 will be ignored. Current value: lambda_l2=10\n",
      "[LightGBM] [Warning] feature_fraction is set=0.9, colsample_bytree=1.0 will be ignored. Current value: feature_fraction=0.9\n",
      "[LightGBM] [Warning] min_data_in_leaf is set=1950, min_child_samples=20 will be ignored. Current value: min_data_in_leaf=1950\n",
      "[LightGBM] [Warning] bagging_freq is set=1, subsample_freq=0 will be ignored. Current value: bagging_freq=1\n",
      "score -0.7548685468609151\n",
      "train 360000 valid 90000\n",
      "training Light GBM:\n",
      "[LightGBM] [Warning] lambda_l1 is set=2.863143049925547e-07, reg_alpha=0.0 will be ignored. Current value: lambda_l1=2.863143049925547e-07\n",
      "[LightGBM] [Warning] bagging_fraction is set=0.8, subsample=1.0 will be ignored. Current value: bagging_fraction=0.8\n",
      "[LightGBM] [Warning] min_gain_to_split is set=2.1319229228654244, min_split_gain=0.0 will be ignored. Current value: min_gain_to_split=2.1319229228654244\n",
      "[LightGBM] [Warning] lambda_l2 is set=10, reg_lambda=0.0 will be ignored. Current value: lambda_l2=10\n",
      "[LightGBM] [Warning] feature_fraction is set=0.9, colsample_bytree=1.0 will be ignored. Current value: feature_fraction=0.9\n",
      "[LightGBM] [Warning] min_data_in_leaf is set=1950, min_child_samples=20 will be ignored. Current value: min_data_in_leaf=1950\n",
      "[LightGBM] [Warning] bagging_freq is set=1, subsample_freq=0 will be ignored. Current value: bagging_freq=1\n",
      "score -0.7542362197575314\n",
      "train 360000 valid 90000\n",
      "training Light GBM:\n",
      "[LightGBM] [Warning] lambda_l1 is set=2.863143049925547e-07, reg_alpha=0.0 will be ignored. Current value: lambda_l1=2.863143049925547e-07\n",
      "[LightGBM] [Warning] bagging_fraction is set=0.8, subsample=1.0 will be ignored. Current value: bagging_fraction=0.8\n",
      "[LightGBM] [Warning] min_gain_to_split is set=2.1319229228654244, min_split_gain=0.0 will be ignored. Current value: min_gain_to_split=2.1319229228654244\n",
      "[LightGBM] [Warning] lambda_l2 is set=10, reg_lambda=0.0 will be ignored. Current value: lambda_l2=10\n",
      "[LightGBM] [Warning] feature_fraction is set=0.9, colsample_bytree=1.0 will be ignored. Current value: feature_fraction=0.9\n",
      "[LightGBM] [Warning] min_data_in_leaf is set=1950, min_child_samples=20 will be ignored. Current value: min_data_in_leaf=1950\n",
      "[LightGBM] [Warning] bagging_freq is set=1, subsample_freq=0 will be ignored. Current value: bagging_freq=1\n",
      "score -0.7407055840943536\n",
      "train 360000 valid 90000\n",
      "training Light GBM:\n",
      "[LightGBM] [Warning] lambda_l1 is set=2.863143049925547e-07, reg_alpha=0.0 will be ignored. Current value: lambda_l1=2.863143049925547e-07\n",
      "[LightGBM] [Warning] bagging_fraction is set=0.8, subsample=1.0 will be ignored. Current value: bagging_fraction=0.8\n",
      "[LightGBM] [Warning] min_gain_to_split is set=2.1319229228654244, min_split_gain=0.0 will be ignored. Current value: min_gain_to_split=2.1319229228654244\n",
      "[LightGBM] [Warning] lambda_l2 is set=10, reg_lambda=0.0 will be ignored. Current value: lambda_l2=10\n",
      "[LightGBM] [Warning] feature_fraction is set=0.9, colsample_bytree=1.0 will be ignored. Current value: feature_fraction=0.9\n",
      "[LightGBM] [Warning] min_data_in_leaf is set=1950, min_child_samples=20 will be ignored. Current value: min_data_in_leaf=1950\n",
      "[LightGBM] [Warning] bagging_freq is set=1, subsample_freq=0 will be ignored. Current value: bagging_freq=1\n"
     ]
    },
    {
     "name": "stderr",
     "output_type": "stream",
     "text": [
      "\u001b[32m[I 2022-02-11 10:37:02,988]\u001b[0m Trial 295 finished with value: -0.748672916968102 and parameters: {'n_estimators': 15000, 'learning_rate': 0.2623493663460818, 'num_leaves': 679, 'max_depth': 8, 'min_data_in_leaf': 1950, 'lambda_l1': 2.863143049925547e-07, 'lambda_l2': 10, 'min_gain_to_split': 2.1319229228654244, 'bagging_fraction': 0.8, 'bagging_freq': 1, 'feature_fraction': 0.9}. Best is trial 195 with value: -0.7524194716556609.\u001b[0m\n"
     ]
    },
    {
     "name": "stdout",
     "output_type": "stream",
     "text": [
      "score -0.7397827678895538\n",
      "cancelled :5218 , not_cancelled :444782\n",
      "Memory usage of dataframe is 61.19 MB\n",
      "Memory usage after optimization is: 40.59 MB\n",
      "Decreased by 33.7%\n",
      "Features : ['first_mile_distance', 'elapse1', 'elapse2', 'last_mile_distance', 'tot_dist', 'alloted_orders', 'delivered_orders', 'del_ratio', 'undelivered_orders', 'lifetime_order_count', 'Hour', 'session_time', 'Monday', 'Saturday', 'Sunday', 'Thursday', 'Tuesday', 'Wednesday', 'dist_ratio']\n",
      "cat_features []\n",
      "(450000, 19) (450000,)\n",
      "train 360000 valid 90000\n",
      "training Light GBM:\n",
      "[LightGBM] [Warning] lambda_l1 is set=3.151133726699913e-07, reg_alpha=0.0 will be ignored. Current value: lambda_l1=3.151133726699913e-07\n",
      "[LightGBM] [Warning] bagging_fraction is set=0.8, subsample=1.0 will be ignored. Current value: bagging_fraction=0.8\n",
      "[LightGBM] [Warning] min_gain_to_split is set=1.7577265218223175, min_split_gain=0.0 will be ignored. Current value: min_gain_to_split=1.7577265218223175\n",
      "[LightGBM] [Warning] lambda_l2 is set=10, reg_lambda=0.0 will be ignored. Current value: lambda_l2=10\n",
      "[LightGBM] [Warning] feature_fraction is set=0.8, colsample_bytree=1.0 will be ignored. Current value: feature_fraction=0.8\n",
      "[LightGBM] [Warning] min_data_in_leaf is set=1800, min_child_samples=20 will be ignored. Current value: min_data_in_leaf=1800\n",
      "[LightGBM] [Warning] bagging_freq is set=1, subsample_freq=0 will be ignored. Current value: bagging_freq=1\n"
     ]
    },
    {
     "name": "stderr",
     "output_type": "stream",
     "text": [
      "\u001b[32m[I 2022-02-11 10:37:06,868]\u001b[0m Trial 296 pruned. Trial was pruned at iteration 2.\u001b[0m\n"
     ]
    },
    {
     "name": "stdout",
     "output_type": "stream",
     "text": [
      "cancelled :5218 , not_cancelled :444782\n",
      "Memory usage of dataframe is 61.19 MB\n",
      "Memory usage after optimization is: 40.59 MB\n",
      "Decreased by 33.7%\n",
      "Features : ['first_mile_distance', 'elapse1', 'elapse2', 'last_mile_distance', 'tot_dist', 'alloted_orders', 'delivered_orders', 'del_ratio', 'undelivered_orders', 'lifetime_order_count', 'Hour', 'session_time', 'Monday', 'Saturday', 'Sunday', 'Thursday', 'Tuesday', 'Wednesday', 'dist_ratio']\n",
      "cat_features []\n",
      "(450000, 19) (450000,)\n",
      "train 360000 valid 90000\n",
      "training Light GBM:\n",
      "score -0.7588794583992778\n",
      "train 360000 valid 90000\n",
      "training Light GBM:\n",
      "[LightGBM] [Warning] lambda_l1 is set=5.0731284348173115e-08, reg_alpha=0.0 will be ignored. Current value: lambda_l1=5.0731284348173115e-08\n",
      "[LightGBM] [Warning] bagging_fraction is set=0.8, subsample=1.0 will be ignored. Current value: bagging_fraction=0.8\n",
      "[LightGBM] [Warning] min_gain_to_split is set=2.4521468929078587, min_split_gain=0.0 will be ignored. Current value: min_gain_to_split=2.4521468929078587\n",
      "[LightGBM] [Warning] lambda_l2 is set=10, reg_lambda=0.0 will be ignored. Current value: lambda_l2=10\n",
      "[LightGBM] [Warning] feature_fraction is set=0.9, colsample_bytree=1.0 will be ignored. Current value: feature_fraction=0.9\n",
      "[LightGBM] [Warning] min_data_in_leaf is set=1450, min_child_samples=20 will be ignored. Current value: min_data_in_leaf=1450\n",
      "[LightGBM] [Warning] bagging_freq is set=1, subsample_freq=0 will be ignored. Current value: bagging_freq=1\n",
      "score -0.7422210388289014\n",
      "train 360000 valid 90000\n",
      "training Light GBM:\n",
      "[LightGBM] [Warning] lambda_l1 is set=5.0731284348173115e-08, reg_alpha=0.0 will be ignored. Current value: lambda_l1=5.0731284348173115e-08\n",
      "[LightGBM] [Warning] bagging_fraction is set=0.8, subsample=1.0 will be ignored. Current value: bagging_fraction=0.8\n",
      "[LightGBM] [Warning] min_gain_to_split is set=2.4521468929078587, min_split_gain=0.0 will be ignored. Current value: min_gain_to_split=2.4521468929078587\n",
      "[LightGBM] [Warning] lambda_l2 is set=10, reg_lambda=0.0 will be ignored. Current value: lambda_l2=10\n",
      "[LightGBM] [Warning] feature_fraction is set=0.9, colsample_bytree=1.0 will be ignored. Current value: feature_fraction=0.9\n",
      "[LightGBM] [Warning] min_data_in_leaf is set=1450, min_child_samples=20 will be ignored. Current value: min_data_in_leaf=1450\n",
      "[LightGBM] [Warning] bagging_freq is set=1, subsample_freq=0 will be ignored. Current value: bagging_freq=1\n",
      "score -0.7568333106780243\n",
      "train 360000 valid 90000\n",
      "training Light GBM:\n",
      "[LightGBM] [Warning] lambda_l1 is set=5.0731284348173115e-08, reg_alpha=0.0 will be ignored. Current value: lambda_l1=5.0731284348173115e-08\n",
      "[LightGBM] [Warning] bagging_fraction is set=0.8, subsample=1.0 will be ignored. Current value: bagging_fraction=0.8\n",
      "[LightGBM] [Warning] min_gain_to_split is set=2.4521468929078587, min_split_gain=0.0 will be ignored. Current value: min_gain_to_split=2.4521468929078587\n",
      "[LightGBM] [Warning] lambda_l2 is set=10, reg_lambda=0.0 will be ignored. Current value: lambda_l2=10\n",
      "[LightGBM] [Warning] feature_fraction is set=0.9, colsample_bytree=1.0 will be ignored. Current value: feature_fraction=0.9\n",
      "[LightGBM] [Warning] min_data_in_leaf is set=1450, min_child_samples=20 will be ignored. Current value: min_data_in_leaf=1450\n",
      "[LightGBM] [Warning] bagging_freq is set=1, subsample_freq=0 will be ignored. Current value: bagging_freq=1\n",
      "score -0.738633797000506\n",
      "train 360000 valid 90000\n",
      "training Light GBM:\n",
      "[LightGBM] [Warning] lambda_l1 is set=5.0731284348173115e-08, reg_alpha=0.0 will be ignored. Current value: lambda_l1=5.0731284348173115e-08\n",
      "[LightGBM] [Warning] bagging_fraction is set=0.8, subsample=1.0 will be ignored. Current value: bagging_fraction=0.8\n",
      "[LightGBM] [Warning] min_gain_to_split is set=2.4521468929078587, min_split_gain=0.0 will be ignored. Current value: min_gain_to_split=2.4521468929078587\n",
      "[LightGBM] [Warning] lambda_l2 is set=10, reg_lambda=0.0 will be ignored. Current value: lambda_l2=10\n",
      "[LightGBM] [Warning] feature_fraction is set=0.9, colsample_bytree=1.0 will be ignored. Current value: feature_fraction=0.9\n",
      "[LightGBM] [Warning] min_data_in_leaf is set=1450, min_child_samples=20 will be ignored. Current value: min_data_in_leaf=1450\n",
      "[LightGBM] [Warning] bagging_freq is set=1, subsample_freq=0 will be ignored. Current value: bagging_freq=1\n"
     ]
    },
    {
     "name": "stderr",
     "output_type": "stream",
     "text": [
      "\u001b[32m[I 2022-02-11 10:37:20,092]\u001b[0m Trial 297 finished with value: -0.7490126037772793 and parameters: {'n_estimators': 15000, 'learning_rate': 0.2622216080809429, 'num_leaves': 578, 'max_depth': 8, 'min_data_in_leaf': 1450, 'lambda_l1': 5.0731284348173115e-08, 'lambda_l2': 10, 'min_gain_to_split': 2.4521468929078587, 'bagging_fraction': 0.8, 'bagging_freq': 1, 'feature_fraction': 0.9}. Best is trial 195 with value: -0.7524194716556609.\u001b[0m\n"
     ]
    },
    {
     "name": "stdout",
     "output_type": "stream",
     "text": [
      "score -0.7484954139796867\n",
      "cancelled :5218 , not_cancelled :444782\n",
      "Memory usage of dataframe is 61.19 MB\n",
      "Memory usage after optimization is: 40.59 MB\n",
      "Decreased by 33.7%\n",
      "Features : ['first_mile_distance', 'elapse1', 'elapse2', 'last_mile_distance', 'tot_dist', 'alloted_orders', 'delivered_orders', 'del_ratio', 'undelivered_orders', 'lifetime_order_count', 'Hour', 'session_time', 'Monday', 'Saturday', 'Sunday', 'Thursday', 'Tuesday', 'Wednesday', 'dist_ratio']\n",
      "cat_features []\n",
      "(450000, 19) (450000,)\n",
      "train 360000 valid 90000\n",
      "training Light GBM:\n",
      "[LightGBM] [Warning] lambda_l1 is set=3.600871918310639e-08, reg_alpha=0.0 will be ignored. Current value: lambda_l1=3.600871918310639e-08\n",
      "[LightGBM] [Warning] bagging_fraction is set=0.8, subsample=1.0 will be ignored. Current value: bagging_fraction=0.8\n",
      "[LightGBM] [Warning] min_gain_to_split is set=2.1058600610456204, min_split_gain=0.0 will be ignored. Current value: min_gain_to_split=2.1058600610456204\n",
      "[LightGBM] [Warning] lambda_l2 is set=5, reg_lambda=0.0 will be ignored. Current value: lambda_l2=5\n",
      "[LightGBM] [Warning] feature_fraction is set=0.9, colsample_bytree=1.0 will be ignored. Current value: feature_fraction=0.9\n",
      "[LightGBM] [Warning] min_data_in_leaf is set=1550, min_child_samples=20 will be ignored. Current value: min_data_in_leaf=1550\n",
      "[LightGBM] [Warning] bagging_freq is set=1, subsample_freq=0 will be ignored. Current value: bagging_freq=1\n"
     ]
    },
    {
     "name": "stderr",
     "output_type": "stream",
     "text": [
      "\u001b[32m[I 2022-02-11 10:37:24,112]\u001b[0m Trial 298 pruned. Trial was pruned at iteration 7.\u001b[0m\n"
     ]
    },
    {
     "name": "stdout",
     "output_type": "stream",
     "text": [
      "cancelled :5218 , not_cancelled :444782\n",
      "Memory usage of dataframe is 61.19 MB\n",
      "Memory usage after optimization is: 40.59 MB\n",
      "Decreased by 33.7%\n",
      "Features : ['first_mile_distance', 'elapse1', 'elapse2', 'last_mile_distance', 'tot_dist', 'alloted_orders', 'delivered_orders', 'del_ratio', 'undelivered_orders', 'lifetime_order_count', 'Hour', 'session_time', 'Monday', 'Saturday', 'Sunday', 'Thursday', 'Tuesday', 'Wednesday', 'dist_ratio']\n",
      "cat_features []\n",
      "(450000, 19) (450000,)\n",
      "train 360000 valid 90000\n",
      "training Light GBM:\n"
     ]
    },
    {
     "name": "stderr",
     "output_type": "stream",
     "text": [
      "\u001b[32m[I 2022-02-11 10:37:28,169]\u001b[0m Trial 299 pruned. Trial was pruned at iteration 7.\u001b[0m\n"
     ]
    }
   ],
   "source": [
    "study = optuna.create_study(direction=\"minimize\")\n",
    "study.optimize(objective, n_trials=300)"
   ]
  },
  {
   "cell_type": "code",
   "execution_count": 27,
   "id": "812007f2",
   "metadata": {
    "execution": {
     "iopub.execute_input": "2022-02-11T10:37:29.801744Z",
     "iopub.status.busy": "2022-02-11T10:37:29.801020Z",
     "iopub.status.idle": "2022-02-11T10:37:29.804916Z",
     "shell.execute_reply": "2022-02-11T10:37:29.805478Z"
    },
    "papermill": {
     "duration": 0.825165,
     "end_time": "2022-02-11T10:37:29.805648",
     "exception": false,
     "start_time": "2022-02-11T10:37:28.980483",
     "status": "completed"
    },
    "tags": []
   },
   "outputs": [
    {
     "data": {
      "text/plain": [
       "{'n_estimators': 10000,\n",
       " 'learning_rate': 0.26278367829329163,\n",
       " 'num_leaves': 1741,\n",
       " 'max_depth': 9,\n",
       " 'min_data_in_leaf': 1400,\n",
       " 'lambda_l1': 0.03499148395055527,\n",
       " 'lambda_l2': 25,\n",
       " 'min_gain_to_split': 2.5720656909033264,\n",
       " 'bagging_fraction': 0.9,\n",
       " 'bagging_freq': 1,\n",
       " 'feature_fraction': 0.7}"
      ]
     },
     "execution_count": 27,
     "metadata": {},
     "output_type": "execute_result"
    }
   ],
   "source": [
    "study.best_trial.params "
   ]
  },
  {
   "cell_type": "code",
   "execution_count": 28,
   "id": "26fdb85c",
   "metadata": {
    "execution": {
     "iopub.execute_input": "2022-02-11T10:37:31.382250Z",
     "iopub.status.busy": "2022-02-11T10:37:31.379489Z",
     "iopub.status.idle": "2022-02-11T10:37:31.385784Z",
     "shell.execute_reply": "2022-02-11T10:37:31.386449Z"
    },
    "papermill": {
     "duration": 0.793061,
     "end_time": "2022-02-11T10:37:31.386624",
     "exception": false,
     "start_time": "2022-02-11T10:37:30.593563",
     "status": "completed"
    },
    "tags": []
   },
   "outputs": [
    {
     "data": {
      "text/plain": [
       "-0.7524194716556609"
      ]
     },
     "execution_count": 28,
     "metadata": {},
     "output_type": "execute_result"
    }
   ],
   "source": [
    "study.best_trial.value"
   ]
  },
  {
   "cell_type": "code",
   "execution_count": 29,
   "id": "a65593b5",
   "metadata": {
    "execution": {
     "iopub.execute_input": "2022-02-11T10:37:32.998876Z",
     "iopub.status.busy": "2022-02-11T10:37:32.997784Z",
     "iopub.status.idle": "2022-02-11T10:37:35.243748Z",
     "shell.execute_reply": "2022-02-11T10:37:35.244484Z"
    },
    "papermill": {
     "duration": 3.040547,
     "end_time": "2022-02-11T10:37:35.244670",
     "exception": false,
     "start_time": "2022-02-11T10:37:32.204123",
     "status": "completed"
    },
    "tags": []
   },
   "outputs": [
    {
     "data": {
      "image/png": "[encoded data removed]",
      "text/plain": [
       "<Figure size 432x288 with 1 Axes>"
      ]
     },
     "metadata": {
      "needs_background": "light"
     },
     "output_type": "display_data"
    }
   ],
   "source": [
    "from optuna.visualization.matplotlib import plot_param_importances\n",
    "\n",
    "plot_param_importances(study);"
   ]
  },
  {
   "cell_type": "code",
   "execution_count": 30,
   "id": "5fc1114c",
   "metadata": {
    "execution": {
     "iopub.execute_input": "2022-02-11T10:37:36.809334Z",
     "iopub.status.busy": "2022-02-11T10:37:36.808635Z",
     "iopub.status.idle": "2022-02-11T10:37:37.206091Z",
     "shell.execute_reply": "2022-02-11T10:37:37.205369Z"
    },
    "papermill": {
     "duration": 1.183883,
     "end_time": "2022-02-11T10:37:37.206267",
     "exception": false,
     "start_time": "2022-02-11T10:37:36.022384",
     "status": "completed"
    },
    "tags": []
   },
   "outputs": [
    {
     "data": {
      "image/png": "[encoded data removed]",
      "text/plain": [
       "<Figure size 432x288 with 1 Axes>"
      ]
     },
     "metadata": {},
     "output_type": "display_data"
    }
   ],
   "source": [
    "from optuna.visualization.matplotlib import plot_optimization_history\n",
    "\n",
    "plot_optimization_history(study);"
   ]
  },
  {
   "cell_type": "code",
   "execution_count": 31,
   "id": "30751fcf",
   "metadata": {
    "execution": {
     "iopub.execute_input": "2022-02-11T10:37:38.828341Z",
     "iopub.status.busy": "2022-02-11T10:37:38.827637Z",
     "iopub.status.idle": "2022-02-11T10:37:38.828904Z",
     "shell.execute_reply": "2022-02-11T10:37:38.829488Z"
    },
    "papermill": {
     "duration": 0.78312,
     "end_time": "2022-02-11T10:37:38.829656",
     "exception": false,
     "start_time": "2022-02-11T10:37:38.046536",
     "status": "completed"
    },
    "tags": []
   },
   "outputs": [],
   "source": [
    "## best params found with optuna\n",
    "params = {'n_estimators': 10000,\n",
    " 'learning_rate': 0.1791352346972678,\n",
    " 'num_leaves': 2484,\n",
    " 'max_depth': 7,\n",
    " 'min_data_in_leaf': 1000,\n",
    " 'lambda_l1': 0.001416929031249321,\n",
    " 'lambda_l2': 5,\n",
    " 'min_gain_to_split': 6.936460637257937,\n",
    " 'bagging_fraction': 0.9,\n",
    " 'bagging_freq': 1,\n",
    " 'feature_fraction': 0.5}"
   ]
  },
  {
   "cell_type": "code",
   "execution_count": 32,
   "id": "9451bb28",
   "metadata": {
    "execution": {
     "iopub.execute_input": "2022-02-11T10:37:40.392545Z",
     "iopub.status.busy": "2022-02-11T10:37:40.391824Z",
     "iopub.status.idle": "2022-02-11T10:39:17.193689Z",
     "shell.execute_reply": "2022-02-11T10:39:17.194217Z"
    },
    "papermill": {
     "duration": 97.58405,
     "end_time": "2022-02-11T10:39:17.194400",
     "exception": false,
     "start_time": "2022-02-11T10:37:39.610350",
     "status": "completed"
    },
    "tags": []
   },
   "outputs": [
    {
     "name": "stdout",
     "output_type": "stream",
     "text": [
      "0.7437527844830579 0.771705955067727\n"
     ]
    }
   ],
   "source": [
    "clf = LGBMClassifier(seed=SEED ,**params).fit(X_train, y_train)\n",
    "print(roc_auc_score(y_test, clf.predict_proba(X_test)[:, 1]) , roc_auc_score(y_train, clf.predict_proba(X_train)[:, 1]))"
   ]
  },
  {
   "cell_type": "code",
   "execution_count": 33,
   "id": "e1cb671a",
   "metadata": {
    "execution": {
     "iopub.execute_input": "2022-02-11T10:39:18.762864Z",
     "iopub.status.busy": "2022-02-11T10:39:18.762153Z",
     "iopub.status.idle": "2022-02-11T13:43:05.376911Z",
     "shell.execute_reply": "2022-02-11T13:43:05.376237Z"
    },
    "papermill": {
     "duration": 11027.403369,
     "end_time": "2022-02-11T13:43:05.377063",
     "exception": false,
     "start_time": "2022-02-11T10:39:17.973694",
     "status": "completed"
    },
    "tags": []
   },
   "outputs": [
    {
     "name": "stderr",
     "output_type": "stream",
     "text": [
      "[Parallel(n_jobs=1)]: Using backend SequentialBackend with 1 concurrent workers.\n"
     ]
    },
    {
     "name": "stdout",
     "output_type": "stream",
     "text": [
      "Building estimator 1 of 100 for this parallel run (total 100)...\n",
      "[LightGBM] [Warning] feature_fraction is set=0.5, colsample_bytree=1.0 will be ignored. Current value: feature_fraction=0.5\n",
      "[LightGBM] [Warning] lambda_l1 is set=0.001416929031249321, reg_alpha=0.0 will be ignored. Current value: lambda_l1=0.001416929031249321\n",
      "[LightGBM] [Warning] bagging_fraction is set=0.9, subsample=1.0 will be ignored. Current value: bagging_fraction=0.9\n",
      "[LightGBM] [Warning] seed is set=42, random_state=1952926171 will be ignored. Current value: seed=42\n",
      "[LightGBM] [Warning] min_data_in_leaf is set=1000, min_child_samples=20 will be ignored. Current value: min_data_in_leaf=1000\n",
      "[LightGBM] [Warning] bagging_freq is set=1, subsample_freq=0 will be ignored. Current value: bagging_freq=1\n",
      "[LightGBM] [Warning] min_gain_to_split is set=6.936460637257937, min_split_gain=0.0 will be ignored. Current value: min_gain_to_split=6.936460637257937\n",
      "[LightGBM] [Warning] lambda_l2 is set=5, reg_lambda=0.0 will be ignored. Current value: lambda_l2=5\n",
      "Building estimator 2 of 100 for this parallel run (total 100)...\n",
      "Building estimator 3 of 100 for this parallel run (total 100)...\n",
      "Building estimator 4 of 100 for this parallel run (total 100)...\n",
      "Building estimator 5 of 100 for this parallel run (total 100)...\n",
      "Building estimator 6 of 100 for this parallel run (total 100)...\n",
      "Building estimator 7 of 100 for this parallel run (total 100)...\n",
      "Building estimator 8 of 100 for this parallel run (total 100)...\n",
      "Building estimator 9 of 100 for this parallel run (total 100)...\n",
      "Building estimator 10 of 100 for this parallel run (total 100)...\n",
      "Building estimator 11 of 100 for this parallel run (total 100)...\n",
      "Building estimator 12 of 100 for this parallel run (total 100)...\n",
      "Building estimator 13 of 100 for this parallel run (total 100)...\n",
      "Building estimator 14 of 100 for this parallel run (total 100)...\n",
      "Building estimator 15 of 100 for this parallel run (total 100)...\n",
      "Building estimator 16 of 100 for this parallel run (total 100)...\n",
      "Building estimator 17 of 100 for this parallel run (total 100)...\n",
      "Building estimator 18 of 100 for this parallel run (total 100)...\n",
      "Building estimator 19 of 100 for this parallel run (total 100)...\n",
      "Building estimator 20 of 100 for this parallel run (total 100)...\n",
      "Building estimator 21 of 100 for this parallel run (total 100)...\n",
      "Building estimator 22 of 100 for this parallel run (total 100)...\n",
      "Building estimator 23 of 100 for this parallel run (total 100)...\n",
      "Building estimator 24 of 100 for this parallel run (total 100)...\n",
      "Building estimator 25 of 100 for this parallel run (total 100)...\n",
      "Building estimator 26 of 100 for this parallel run (total 100)...\n",
      "Building estimator 27 of 100 for this parallel run (total 100)...\n",
      "Building estimator 28 of 100 for this parallel run (total 100)...\n",
      "Building estimator 29 of 100 for this parallel run (total 100)...\n",
      "Building estimator 30 of 100 for this parallel run (total 100)...\n",
      "Building estimator 31 of 100 for this parallel run (total 100)...\n",
      "Building estimator 32 of 100 for this parallel run (total 100)...\n",
      "Building estimator 33 of 100 for this parallel run (total 100)...\n",
      "Building estimator 34 of 100 for this parallel run (total 100)...\n",
      "Building estimator 35 of 100 for this parallel run (total 100)...\n",
      "Building estimator 36 of 100 for this parallel run (total 100)...\n",
      "Building estimator 37 of 100 for this parallel run (total 100)...\n",
      "Building estimator 38 of 100 for this parallel run (total 100)...\n",
      "Building estimator 39 of 100 for this parallel run (total 100)...\n",
      "Building estimator 40 of 100 for this parallel run (total 100)...\n",
      "Building estimator 41 of 100 for this parallel run (total 100)...\n",
      "Building estimator 42 of 100 for this parallel run (total 100)...\n",
      "Building estimator 43 of 100 for this parallel run (total 100)...\n",
      "Building estimator 44 of 100 for this parallel run (total 100)...\n",
      "Building estimator 45 of 100 for this parallel run (total 100)...\n",
      "Building estimator 46 of 100 for this parallel run (total 100)...\n",
      "Building estimator 47 of 100 for this parallel run (total 100)...\n",
      "Building estimator 48 of 100 for this parallel run (total 100)...\n",
      "Building estimator 49 of 100 for this parallel run (total 100)...\n",
      "Building estimator 50 of 100 for this parallel run (total 100)...\n",
      "Building estimator 51 of 100 for this parallel run (total 100)...\n",
      "Building estimator 52 of 100 for this parallel run (total 100)...\n",
      "Building estimator 53 of 100 for this parallel run (total 100)...\n",
      "Building estimator 54 of 100 for this parallel run (total 100)...\n",
      "Building estimator 55 of 100 for this parallel run (total 100)...\n",
      "Building estimator 56 of 100 for this parallel run (total 100)...\n",
      "Building estimator 57 of 100 for this parallel run (total 100)...\n",
      "Building estimator 58 of 100 for this parallel run (total 100)...\n",
      "Building estimator 59 of 100 for this parallel run (total 100)...\n",
      "Building estimator 60 of 100 for this parallel run (total 100)...\n",
      "Building estimator 61 of 100 for this parallel run (total 100)...\n",
      "Building estimator 62 of 100 for this parallel run (total 100)...\n",
      "Building estimator 63 of 100 for this parallel run (total 100)...\n",
      "Building estimator 64 of 100 for this parallel run (total 100)...\n",
      "Building estimator 65 of 100 for this parallel run (total 100)...\n",
      "Building estimator 66 of 100 for this parallel run (total 100)...\n",
      "Building estimator 67 of 100 for this parallel run (total 100)...\n",
      "Building estimator 68 of 100 for this parallel run (total 100)...\n",
      "Building estimator 69 of 100 for this parallel run (total 100)...\n",
      "Building estimator 70 of 100 for this parallel run (total 100)...\n",
      "Building estimator 71 of 100 for this parallel run (total 100)...\n",
      "Building estimator 72 of 100 for this parallel run (total 100)...\n",
      "Building estimator 73 of 100 for this parallel run (total 100)...\n",
      "Building estimator 74 of 100 for this parallel run (total 100)...\n",
      "Building estimator 75 of 100 for this parallel run (total 100)...\n",
      "Building estimator 76 of 100 for this parallel run (total 100)...\n",
      "Building estimator 77 of 100 for this parallel run (total 100)...\n",
      "Building estimator 78 of 100 for this parallel run (total 100)...\n",
      "Building estimator 79 of 100 for this parallel run (total 100)...\n",
      "Building estimator 80 of 100 for this parallel run (total 100)...\n",
      "Building estimator 81 of 100 for this parallel run (total 100)...\n",
      "Building estimator 82 of 100 for this parallel run (total 100)...\n",
      "Building estimator 83 of 100 for this parallel run (total 100)...\n",
      "Building estimator 84 of 100 for this parallel run (total 100)...\n",
      "Building estimator 85 of 100 for this parallel run (total 100)...\n",
      "Building estimator 86 of 100 for this parallel run (total 100)...\n",
      "Building estimator 87 of 100 for this parallel run (total 100)...\n",
      "Building estimator 88 of 100 for this parallel run (total 100)...\n",
      "Building estimator 89 of 100 for this parallel run (total 100)...\n",
      "Building estimator 90 of 100 for this parallel run (total 100)...\n",
      "Building estimator 91 of 100 for this parallel run (total 100)...\n",
      "Building estimator 92 of 100 for this parallel run (total 100)...\n",
      "Building estimator 93 of 100 for this parallel run (total 100)...\n",
      "Building estimator 94 of 100 for this parallel run (total 100)...\n",
      "Building estimator 95 of 100 for this parallel run (total 100)...\n",
      "Building estimator 96 of 100 for this parallel run (total 100)...\n",
      "Building estimator 97 of 100 for this parallel run (total 100)...\n",
      "Building estimator 98 of 100 for this parallel run (total 100)...\n",
      "Building estimator 99 of 100 for this parallel run (total 100)...\n",
      "Building estimator 100 of 100 for this parallel run (total 100)...\n"
     ]
    },
    {
     "name": "stderr",
     "output_type": "stream",
     "text": [
      "[Parallel(n_jobs=1)]: Done   1 out of   1 | elapsed: 183.8min remaining:    0.0s\n",
      "[Parallel(n_jobs=1)]: Done   1 out of   1 | elapsed: 183.8min finished\n"
     ]
    },
    {
     "data": {
      "text/plain": [
       "BaggingClassifier(base_estimator=LGBMClassifier(bagging_fraction=0.9,\n",
       "                                                bagging_freq=1,\n",
       "                                                feature_fraction=0.5,\n",
       "                                                lambda_l1=0.001416929031249321,\n",
       "                                                lambda_l2=5,\n",
       "                                                learning_rate=0.1791352346972678,\n",
       "                                                max_depth=7,\n",
       "                                                min_data_in_leaf=1000,\n",
       "                                                min_gain_to_split=6.936460637257937,\n",
       "                                                n_estimators=10000,\n",
       "                                                num_leaves=2484, seed=42),\n",
       "                  n_estimators=100, random_state=42, verbose=2)"
      ]
     },
     "execution_count": 33,
     "metadata": {},
     "output_type": "execute_result"
    }
   ],
   "source": [
    "from sklearn.ensemble import BaggingClassifier\n",
    "clf = BaggingClassifier(LGBMClassifier(seed=SEED ,**params ,n_jobs= -1) ,n_estimators=100 ,random_state =SEED,verbose =2)\n",
    "clf.fit(X, y)"
   ]
  },
  {
   "cell_type": "code",
   "execution_count": 34,
   "id": "f00bbec5",
   "metadata": {
    "execution": {
     "iopub.execute_input": "2022-02-11T13:43:07.025925Z",
     "iopub.status.busy": "2022-02-11T13:43:07.025034Z",
     "iopub.status.idle": "2022-02-11T13:43:33.064024Z",
     "shell.execute_reply": "2022-02-11T13:43:33.064740Z"
    },
    "papermill": {
     "duration": 26.860325,
     "end_time": "2022-02-11T13:43:33.064949",
     "exception": false,
     "start_time": "2022-02-11T13:43:06.204624",
     "status": "completed"
    },
    "tags": []
   },
   "outputs": [
    {
     "name": "stderr",
     "output_type": "stream",
     "text": [
      "[Parallel(n_jobs=1)]: Using backend SequentialBackend with 1 concurrent workers.\n",
      "[Parallel(n_jobs=1)]: Done   1 out of   1 | elapsed:   26.0s remaining:    0.0s\n",
      "[Parallel(n_jobs=1)]: Done   1 out of   1 | elapsed:   26.0s finished\n"
     ]
    }
   ],
   "source": [
    "out = clf.predict_proba(test_df[list(test_df.columns[1:])])[:,1]"
   ]
  },
  {
   "cell_type": "code",
   "execution_count": 35,
   "id": "aa1c9767",
   "metadata": {
    "execution": {
     "iopub.execute_input": "2022-02-11T13:43:34.719315Z",
     "iopub.status.busy": "2022-02-11T13:43:34.718564Z",
     "iopub.status.idle": "2022-02-11T13:43:34.722923Z",
     "shell.execute_reply": "2022-02-11T13:43:34.722381Z"
    },
    "papermill": {
     "duration": 0.843111,
     "end_time": "2022-02-11T13:43:34.723107",
     "exception": false,
     "start_time": "2022-02-11T13:43:33.879996",
     "status": "completed"
    },
    "tags": []
   },
   "outputs": [],
   "source": [
    "out_df = pd.DataFrame({'cancelled' : out} , index = test_df.order_id)"
   ]
  },
  {
   "cell_type": "code",
   "execution_count": 36,
   "id": "717f637a",
   "metadata": {
    "execution": {
     "iopub.execute_input": "2022-02-11T13:43:36.376933Z",
     "iopub.status.busy": "2022-02-11T13:43:36.374928Z",
     "iopub.status.idle": "2022-02-11T13:43:36.379951Z",
     "shell.execute_reply": "2022-02-11T13:43:36.379303Z"
    },
    "papermill": {
     "duration": 0.834625,
     "end_time": "2022-02-11T13:43:36.380096",
     "exception": false,
     "start_time": "2022-02-11T13:43:35.545471",
     "status": "completed"
    },
    "tags": []
   },
   "outputs": [],
   "source": [
    "out_df.reset_index(inplace =True)"
   ]
  },
  {
   "cell_type": "code",
   "execution_count": 37,
   "id": "9b126b7b",
   "metadata": {
    "execution": {
     "iopub.execute_input": "2022-02-11T13:43:38.042759Z",
     "iopub.status.busy": "2022-02-11T13:43:38.041358Z",
     "iopub.status.idle": "2022-02-11T13:43:38.564522Z",
     "shell.execute_reply": "2022-02-11T13:43:38.563748Z"
    },
    "papermill": {
     "duration": 1.346066,
     "end_time": "2022-02-11T13:43:38.564680",
     "exception": false,
     "start_time": "2022-02-11T13:43:37.218614",
     "status": "completed"
    },
    "tags": []
   },
   "outputs": [],
   "source": [
    "out_df.to_csv('/kaggle/working/submission.csv' ,index =False)"
   ]
  }
 ],
 "metadata": {
  "kernelspec": {
   "display_name": "Python 3",
   "language": "python",
   "name": "python3"
  },
  "language_info": {
   "codemirror_mode": {
    "name": "ipython",
    "version": 3
   },
   "file_extension": ".py",
   "mimetype": "text/x-python",
   "name": "python",
   "nbconvert_exporter": "python",
   "pygments_lexer": "ipython3",
   "version": "3.7.12"
  },
  "papermill": {
   "default_parameters": {},
   "duration": 13003.496886,
   "end_time": "2022-02-11T13:43:40.746971",
   "environment_variables": {},
   "exception": null,
   "input_path": "__notebook__.ipynb",
   "output_path": "__notebook__.ipynb",
   "parameters": {},
   "start_time": "2022-02-11T10:06:57.250085",
   "version": "2.3.3"
  }
 },
 "nbformat": 4,
 "nbformat_minor": 5
}
